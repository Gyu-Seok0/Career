{
 "cells": [
  {
   "cell_type": "code",
   "execution_count": 2,
   "metadata": {},
   "outputs": [
    {
     "name": "stdout",
     "output_type": "stream",
     "text": [
      "3.555365667506398\n"
     ]
    }
   ],
   "source": [
    "import numpy as np\n",
    "\n",
    "np.random.seed(0)\n",
    "x = np.array([0,1,2,3])\n",
    "w = np.array(np.random.random(4))\n",
    "z = np.dot(w.T,x)  # 전치행렬\n",
    "print(z)"
   ]
  },
  {
   "cell_type": "code",
   "execution_count": 3,
   "metadata": {},
   "outputs": [
    {
     "name": "stdout",
     "output_type": "stream",
     "text": [
      "3.555365667506398\n"
     ]
    }
   ],
   "source": [
    "import numpy as np\n",
    "\n",
    "np.random.seed(0)\n",
    "x = np.array([0,1,2,3])\n",
    "w = np.array(np.random.random(4))\n",
    "z = np.dot(w,x)  # 전치행렬\n",
    "print(z)"
   ]
  },
  {
   "cell_type": "code",
   "execution_count": 4,
   "metadata": {},
   "outputs": [
    {
     "name": "stdout",
     "output_type": "stream",
     "text": [
      "3.555365667506398\n"
     ]
    }
   ],
   "source": [
    "np.random.seed(0)\n",
    "x = np.array(np.arange(4)).reshape(4,1)   #열벡터\n",
    "w = np.array(np.random.random(4)).reshape(4,1) #열벡터\n",
    "z = np.dot(w.T,x).squeeze() #선형대수학에 의한, w를 전치행렬로 바꾸고 내적.\n",
    "print(z)"
   ]
  },
  {
   "cell_type": "code",
   "execution_count": 5,
   "metadata": {},
   "outputs": [
    {
     "name": "stdout",
     "output_type": "stream",
     "text": [
      "[[0]\n",
      " [1]\n",
      " [2]\n",
      " [3]]\n",
      "[[0.5488135 ]\n",
      " [0.71518937]\n",
      " [0.60276338]\n",
      " [0.54488318]]\n"
     ]
    }
   ],
   "source": [
    "print(x)\n",
    "print(w)"
   ]
  },
  {
   "cell_type": "markdown",
   "metadata": {},
   "source": [
    "# 퍼셉트론 예제"
   ]
  },
  {
   "cell_type": "code",
   "execution_count": 6,
   "metadata": {},
   "outputs": [],
   "source": [
    "import matplotlib.pyplot as plt\n",
    "import numpy as np\n",
    "\n",
    "def plot_xyw(x, y, W=None, X0=False, title='Perceptron',\n",
    "             classes=['class1', 'class2'], annotate=False, savefig=None):\n",
    "    \"\"\" plots data x and its class label y as well as the the linear decision\n",
    "        boundary and and the value W[-1] or w. \n",
    "\n",
    "        x(m, 2): m training samples with two features, x1 and x2 only.\n",
    "                 Its shape is (m, 2); X0 must be set to False.\n",
    "        x(m, 3): m training samples with two features x0=1, x1, x2\n",
    "                  its shape is (m, 3); X0 must be set to True.\n",
    "        y(m): m number of class labels, each value may be either 1 or -1,\n",
    "              also it may be either 1 or 0\n",
    "\n",
    "        w(3,): only one boundary to display\n",
    "               If you have an array of w's, but want to plot the last one, pass W[-1].\n",
    "        W(epochs, 3): epochs number of decision boundaries or weights\n",
    "              If there is one set of weights, its shape can be either (3, ) or (1, 3)\n",
    "\n",
    "        X0: X has x_0 = 1 term in all samples or not; if True, removed before plotting\n",
    "        annotate: add a sequence number at each sample if True\n",
    "        savefig: save the plot in a file if a filename is given\n",
    "    \"\"\"\n",
    "    if X0 == True:      # remove the first column; change shape(6x3) into shape(6x2)\n",
    "        x = x[ : , 1:]     # check a column?: np.all(X == X[0,:], axis = 0)[0] == True and X[0,0] == 1.0\n",
    "\n",
    "    # setting min max range of data - 10% of margin allowed in four sides\n",
    "    rmin, rmax = np.array(np.min(x)), np.array(np.max(x))\n",
    "    rmin -= (rmax - rmin) * 0.1\n",
    "    rmax += (rmax - rmin) * 0.1\n",
    "\n",
    "    nums = ['  {}'.format(i+1) for i in range(len(y))]    # numbering dots\n",
    "\n",
    "    for num, ix, iy in zip(nums, x, y):\n",
    "        if annotate == True:\n",
    "            plt.annotate(num, xy=ix)\n",
    "\n",
    "    # This handles class 1 and -1, class 1 and 0 as well.\n",
    "    plt.scatter(x[y==1, 0], x[y==1, 1], label=classes[0], marker='s', s=9)\n",
    "    plt.scatter(x[y!=1, 0], x[y!=1, 1], label=classes[1], marker='o', s=9)\n",
    "\n",
    "    if W is not None:\n",
    "        if W.ndim == 1:                             # one boundary in1-d array shape(3,)\n",
    "            x1 = np.arange(rmin, rmax, .1)\n",
    "            x2 = -W[0]/W[2] - W[1]/W[2]*x1\n",
    "            plt.plot(x1, x2)\n",
    "            title += ':w{}'.format(np.round(W, 2))          #display the weights at title\n",
    "        else:\n",
    "            for w in W:                                     # for every decision boundary\n",
    "                x1 = np.arange(rmin, rmax, .1)\n",
    "                x2 = -w[0]/w[2] - w[1]/w[2]*x1\n",
    "                #display all decision boundaries and legend-weights\n",
    "                plt.plot(x1, x2, label='w:{}'.format(np.round(w, 2)))\n",
    "            title += ':w{}'.format(np.round(W[-1], 2))     #display the last weights at title\n",
    "\n",
    "    plt.axhline(0, linewidth=1, linestyle='dotted')\n",
    "    plt.axvline(0, linewidth=1, linestyle='dotted')\n",
    "    plt.xlim([rmin, rmax])\n",
    "    plt.ylim([rmin, rmax])\n",
    "    plt.gca().set_aspect('equal')\n",
    "    plt.title(title)\n",
    "    plt.xlabel('$x_1$', fontsize=16)\n",
    "    plt.ylabel('$x_2$', fontsize=16)\n",
    "    if W is not None and W.ndim != 1:\n",
    "        plt.legend(loc='center left', bbox_to_anchor=(1, 0.5))\n",
    "    else:\n",
    "        plt.legend(loc='best')\n",
    "    plt.tight_layout()\n",
    "    if savefig is not None:\n",
    "        plt.savefig(savefig, bbox_inches='tight', dpi=150)"
   ]
  },
  {
   "cell_type": "code",
   "execution_count": 7,
   "metadata": {},
   "outputs": [
    {
     "name": "stderr",
     "output_type": "stream",
     "text": [
      "ERROR:root:File `'code/plot_xyw.py'` not found.\n"
     ]
    },
    {
     "data": {
      "image/png": "[encoded data removed]",
      "text/plain": [
       "<Figure size 432x288 with 1 Axes>"
      ]
     },
     "metadata": {
      "needs_background": "light"
     },
     "output_type": "display_data"
    }
   ],
   "source": [
    "\n",
    "import matplotlib.pyplot as plt  \n",
    "import numpy as np\n",
    "%matplotlib inline\n",
    "%run code/plot_xyw.py\n",
    "\n",
    "x = np.array([[1.0, 1.0], [2.0, -2.0], [-1.0, -1.5], [-2.0, -1.0], [-2.0, 1.0], [1.5, -0.5]])\n",
    "X = np.c_[np.ones(len(x)), x] #1을 앞으로 다 채움으로써 bias를 만족시킨다.\n",
    "y = np.array([1, -1, -1, -1, 1, 1]) #초기가중치\n",
    "w = np.array([0.2, 0.5, 1.0])\n",
    "plot_xyw(X, y, w, X0 = True, annotate = True)"
   ]
  },
  {
   "cell_type": "markdown",
   "metadata": {},
   "source": [
    "# 퍼셉트론 구현 코드"
   ]
  },
  {
   "cell_type": "code",
   "execution_count": 12,
   "metadata": {},
   "outputs": [],
   "source": [
    "import numpy as np\n",
    "x = np.array([[1.0, 1.0], [2.0, -2.0], [-1.0,-1.5], [-2.0, -1.0], [-2.0,1.0], [1.5, -0.5]]) \n",
    "X = np.c_[ np.ones(len(x)), x ]         # trainining samples\n",
    "y = np.array([1, -1, -1, -1, 1, 1])      # class labels\n",
    "\n",
    "w = np.array([0, 1.0, 0.5])\n",
    "# w = mp.random.random((X.shape[1],1))"
   ]
  },
  {
   "cell_type": "code",
   "execution_count": 13,
   "metadata": {},
   "outputs": [
    {
     "name": "stdout",
     "output_type": "stream",
     "text": [
      "w = [0.2 0.5 1. ]\n"
     ]
    }
   ],
   "source": [
    "# Update w using yhat - y\n",
    "maxlabel, minlabel = y.max(), y.min()\n",
    "\n",
    "epochs = 1\n",
    "eta = 0.1    #학습률\n",
    "for _ in range(epochs):\n",
    "    for xi, yi in zip(X, y):\n",
    "        z = np.dot(xi, w)                       # Compute net input, same as np.dot(w.T, x)\n",
    "        yhat = np.where(z > 0.0, maxlabel, minlabel)        # Apply step func and get output\n",
    "        delta = eta * (yi - yhat) * xi         # Compute delta    \n",
    "        w += delta                             # Adjust weight\n",
    "    #print('x{}, \\t z{} \\t (y,yhat)=({},{}), \\tdelta{}, \\tw{}'.format(xi, z, yi, yhat, delta, np.round(w,2)))\n",
    "print('w =', w)"
   ]
  },
  {
   "cell_type": "markdown",
   "metadata": {},
   "source": [
    "### 코드 재사용 측면"
   ]
  },
  {
   "cell_type": "code",
   "execution_count": 20,
   "metadata": {},
   "outputs": [],
   "source": [
    "def perceptron(X, y, w = None, eta=0.1, epochs=5, random_seed=1):\n",
    "    if w is None:\n",
    "        np.random.RandomState(random_seed) \n",
    "        w = np.random.random((X.shpae[1],1))\n",
    "    maxy, miny = y.max(), y.min()\n",
    "\n",
    "    for _ in range(epochs): \n",
    "        for xi, yi in zip(X, y):\n",
    "            xi = xi.reshape(w.shape)\n",
    "            z = np.dot(w.T, xi)                              # Compute net input, same as np.dot(w.T, x)\n",
    "            yhat = np.where(z >= 0.0, maxy, miny)          # Apply step func and get output\n",
    "            delta = eta * (yi - yhat) * xi                 # Compute delta    \n",
    "            w += delta                                     # Adjust weight\n",
    "          \n",
    "    return w"
   ]
  },
  {
   "cell_type": "code",
   "execution_count": 24,
   "metadata": {},
   "outputs": [
    {
     "name": "stderr",
     "output_type": "stream",
     "text": [
      "ERROR:root:File `'code/plot_xyw.py'` not found.\n"
     ]
    },
    {
     "data": {
      "image/png": "[encoded data removed]",
      "text/plain": [
       "<Figure size 432x288 with 1 Axes>"
      ]
     },
     "metadata": {
      "needs_background": "light"
     },
     "output_type": "display_data"
    }
   ],
   "source": [
    "#퍼셉트론 함수 구현: 판별식 시각화 결과 분석\n",
    "import numpy as np\n",
    "import matplotlib.pyplot as plt\n",
    "%matplotlib inline\n",
    "%run code/plot_xyw.py\n",
    "\n",
    "\n",
    "x = np.array([[1.0, 1.0], [2.0, -2.0], [-1.0,-1.5], [-2.0, -1.0], [-2.0,1.0], [1.5, -0.5]]) \n",
    "X = np.c_[ np.ones(len(x)), x ]         # trainining samples\n",
    "y = np.array([1, -1, -1, -1, 1, 1])  \n",
    "w = np.array([0, 1.0, 0.5])\n",
    "\n",
    "W = np.array([w])\n",
    "epochs = 4   # 학습 다시 하는 횟수\n",
    "for _ in range(epochs):\n",
    "    w = perceptron(X, y, w, eta = 0.05, epochs=1)\n",
    "    W = np.vstack([W,w])\n",
    "plot_xyw(x,y,w, annotate = True)\n"
   ]
  }
 ],
 "metadata": {
  "kernelspec": {
   "display_name": "Python 3",
   "language": "python",
   "name": "python3"
  },
  "language_info": {
   "codemirror_mode": {
    "name": "ipython",
    "version": 3
   },
   "file_extension": ".py",
   "mimetype": "text/x-python",
   "name": "python",
   "nbconvert_exporter": "python",
   "pygments_lexer": "ipython3",
   "version": "3.7.6"
  }
 },
 "nbformat": 4,
 "nbformat_minor": 4
}
