{
 "cells": [
  {
   "cell_type": "code",
   "execution_count": 25,
   "metadata": {},
   "outputs": [
    {
     "name": "stdout",
     "output_type": "stream",
     "text": [
      "난쟁이의 키 입력: 20\n",
      "난쟁이의 키 입력: 7\n",
      "난쟁이의 키 입력: 23\n",
      "난쟁이의 키 입력: 19\n",
      "난쟁이의 키 입력: 10\n",
      "난쟁이의 키 입력: 15\n",
      "난쟁이의 키 입력: 25\n",
      "난쟁이의 키 입력: 8\n",
      "난쟁이의 키 입력: 13\n",
      "7\n",
      "8\n",
      "10\n",
      "13\n",
      "19\n",
      "20\n",
      "23\n"
     ]
    }
   ],
   "source": [
    "list = []\n",
    "sum = 0\n",
    "for i in range(9):\n",
    "    list.append(int(input()))\n",
    "    sum += list[i]\n",
    "\n",
    "list.sort()\n",
    "for i in range(8):\n",
    "    for j in range(i+1,9):\n",
    "        if (sum - (list[i]+list[j])) == 100:\n",
    "            temp1 = list[i]\n",
    "            temp2 = list[j]\n",
    "            break\n",
    "            \n",
    "list.remove(temp1)\n",
    "list.remove(temp2)\n",
    "            \n",
    "\n",
    "for i in range(len(list)):\n",
    "    print(list[i])\n",
    "            \n",
    "\n"
   ]
  },
  {
   "cell_type": "code",
   "execution_count": 24,
   "metadata": {},
   "outputs": [
    {
     "data": {
      "text/plain": [
       "[7, 8, 10, 13, 19, 20, 23]"
      ]
     },
     "execution_count": 24,
     "metadata": {},
     "output_type": "execute_result"
    }
   ],
   "source": []
  },
  {
   "cell_type": "code",
   "execution_count": 22,
   "metadata": {},
   "outputs": [],
   "source": []
  },
  {
   "cell_type": "code",
   "execution_count": 16,
   "metadata": {},
   "outputs": [
    {
     "data": {
      "text/plain": [
       "8"
      ]
     },
     "execution_count": 16,
     "metadata": {},
     "output_type": "execute_result"
    }
   ],
   "source": []
  },
  {
   "cell_type": "code",
   "execution_count": null,
   "metadata": {},
   "outputs": [],
   "source": []
  }
 ],
 "metadata": {
  "kernelspec": {
   "display_name": "Python 3",
   "language": "python",
   "name": "python3"
  },
  "language_info": {
   "codemirror_mode": {
    "name": "ipython",
    "version": 3
   },
   "file_extension": ".py",
   "mimetype": "text/x-python",
   "name": "python",
   "nbconvert_exporter": "python",
   "pygments_lexer": "ipython3",
   "version": "3.7.4"
  }
 },
 "nbformat": 4,
 "nbformat_minor": 2
}
