{
 "cells": [
  {
   "cell_type": "code",
   "execution_count": 2,
   "metadata": {},
   "outputs": [
    {
     "name": "stdout",
     "output_type": "stream",
     "text": [
      "-3.000 |    5.33333\n",
      "-2.429 |    3.91837\n",
      "-1.857 |    2.72109\n",
      "-1.286 |    1.74150\n",
      "-0.714 |    0.97959\n",
      "-0.143 |    0.43537\n",
      " 0.429 |    0.10884\n",
      " 1.000 |    0.00000\n",
      " 1.571 |    0.10884\n",
      " 2.143 |    0.43537\n",
      " 2.714 |    0.97959\n",
      " 3.286 |    1.74150\n",
      " 3.857 |    2.72109\n",
      " 4.429 |    3.91837\n",
      " 5.000 |    5.33333\n"
     ]
    }
   ],
   "source": [
    "#파이썬에서 구현\n",
    "import numpy as np\n",
    "\n",
    "x = np.array([1,2,3])\n",
    "y = np.array([1,2,3])\n",
    "\n",
    "def cost_func(w,x,y):\n",
    "    c=0\n",
    "    for i in range(len(x)):\n",
    "        c += (w*x[i] -y[i])**2\n",
    "        return c/len(x)\n",
    "\n",
    "for feed_w in np.linspace(-3,5,num=15):\n",
    "    curr_cost = cost_func(feed_w,x,y)\n",
    "    print(\"{:6.3f} | {:10.5f}\".format(feed_w, curr_cost))\n",
    "    "
   ]
  },
  {
   "cell_type": "code",
   "execution_count": 1,
   "metadata": {},
   "outputs": [
    {
     "name": "stdout",
     "output_type": "stream",
     "text": [
      "-3.000 |   74.66667\n",
      "-2.429 |   54.85714\n",
      "-1.857 |   38.09524\n",
      "-1.286 |   24.38095\n",
      "-0.714 |   13.71429\n",
      "-0.143 |    6.09524\n",
      " 0.429 |    1.52381\n",
      " 1.000 |    0.00000\n",
      " 1.571 |    1.52381\n",
      " 2.143 |    6.09524\n",
      " 2.714 |   13.71429\n",
      " 3.286 |   24.38095\n",
      " 3.857 |   38.09524\n",
      " 4.429 |   54.85714\n",
      " 5.000 |   74.66667\n"
     ]
    }
   ],
   "source": [
    "#텐서플로우에서 구현\n",
    "import numpy as np\n",
    "import tensorflow as tf\n",
    "\n",
    "\n",
    "x = np.array([1,2,3])\n",
    "y = np.array([1,2,3])\n",
    "\n",
    "def cost_func(w,x,y):\n",
    "    hypothesis = x*w\n",
    "    return tf.reduce_mean(tf.square(hypothesis-y))\n",
    "\n",
    "w_values = np.linspace(-3,5,num=15)\n",
    "cost_values = []\n",
    "\n",
    "for feed_w in w_values:\n",
    "    curr_cost = cost_func(feed_w,x,y)\n",
    "    cost_values.append(curr_cost)\n",
    "    print(\"{:6.3f} | {:10.5f}\".format(feed_w, curr_cost))\n",
    "    "
   ]
  },
  {
   "cell_type": "code",
   "execution_count": 3,
   "metadata": {},
   "outputs": [
    {
     "name": "stdout",
     "output_type": "stream",
     "text": [
      "[1 2 3]\n"
     ]
    }
   ],
   "source": [
    "#gradient decent\n",
    "alpha = 0.01\n",
    "gradient = tf.reduce_mean(tf.multiply(tf.multiply(w,x)-y,x))\n",
    "descent = w  - tf.multiply(alpha,gradient)\n",
    "w.assign(descent)"
   ]
  },
  {
   "cell_type": "code",
   "execution_count": 15,
   "metadata": {},
   "outputs": [
    {
     "name": "stdout",
     "output_type": "stream",
     "text": [
      "    0  |  466573344.0000  | 9533.379883\n",
      "   10  |  179397136.0000  | 5911.839355\n",
      "   20  |  68978072.0000  | 3666.193604\n",
      "   30  |  26522026.0000  | 2273.713867\n",
      "   40  |  10197703.0000  | 1410.264648\n",
      "   50  |  3921009.2500  | 874.856934\n",
      "   60  |  1507625.6250  | 542.861328\n",
      "   70  |  579681.2500  | 336.997467\n",
      "   80  |  222887.0781  | 209.345352\n",
      "   90  |  85699.8984  | 130.190796\n",
      "  100  |  32951.5586  |  81.108643\n",
      "  110  |  12669.8516  |  50.673771\n",
      "  120  |   4871.5493  |  31.801718\n",
      "  130  |   1873.1073  |  20.099531\n",
      "  140  |    720.2083  |  12.843239\n",
      "  150  |    276.9196  |   8.343756\n",
      "  160  |    106.4754  |   5.553717\n",
      "  170  |     40.9397  |   3.823669\n",
      "  180  |     15.7413  |   2.750901\n",
      "  190  |      6.0525  |   2.085699\n",
      "  200  |      2.3272  |   1.673220\n",
      "  210  |      0.8948  |   1.417451\n",
      "  220  |      0.3441  |   1.258853\n",
      "  230  |      0.1323  |   1.160509\n",
      "  240  |      0.0509  |   1.099529\n",
      "  250  |      0.0196  |   1.061716\n",
      "  260  |      0.0075  |   1.038269\n",
      "  270  |      0.0029  |   1.023730\n",
      "  280  |      0.0011  |   1.014714\n",
      "  290  |      0.0004  |   1.009124\n",
      "  300  |      0.0002  |   1.005658\n"
     ]
    }
   ],
   "source": [
    "#텐서플로우에서 구현\n",
    "import numpy as np\n",
    "import tensorflow as tf\n",
    "\n",
    "\n",
    "X = np.array([1,2,3])\n",
    "Y = np.array([1,2,3])\n",
    "\n",
    "#tf.set_random_seed(0)\n",
    "x_data = np.array([1., 2., 3., 4.])\n",
    "y_data = np.array([1., 3., 5., 7.])\n",
    "\n",
    "#w = tf.Variable(tf.random_normal([1], -100., -100.)) #정규분포\n",
    "w = tf.Variable([10000.0])\n",
    "for step in range(300+1):\n",
    "    hypothesis = w*X\n",
    "    cost = tf.reduce_mean(tf.square(hypothesis-Y))\n",
    "    \n",
    "    alpha = 0.01\n",
    "    gradient = tf.reduce_mean(tf.multiply(tf.multiply(w,x)-y,x)) #새로운 w\n",
    "    descent = w  - tf.multiply(alpha,gradient)\n",
    "    w.assign(descent)\n",
    "    \n",
    "    if step % 10 == 0:\n",
    "        print('{:5}  |  {:10.4f}  | {:10.6f}'.format(step,cost.numpy(),w.numpy()[0]))"
   ]
  },
  {
   "cell_type": "code",
   "execution_count": null,
   "metadata": {},
   "outputs": [],
   "source": []
  }
 ],
 "metadata": {
  "kernelspec": {
   "display_name": "Python 3",
   "language": "python",
   "name": "python3"
  },
  "language_info": {
   "codemirror_mode": {
    "name": "ipython",
    "version": 3
   },
   "file_extension": ".py",
   "mimetype": "text/x-python",
   "name": "python",
   "nbconvert_exporter": "python",
   "pygments_lexer": "ipython3",
   "version": "3.7.6"
  }
 },
 "nbformat": 4,
 "nbformat_minor": 4
}
