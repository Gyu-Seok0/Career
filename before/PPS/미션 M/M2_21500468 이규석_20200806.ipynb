{
 "cells": [
  {
   "cell_type": "code",
   "execution_count": null,
   "metadata": {},
   "outputs": [],
   "source": []
  },
  {
   "cell_type": "code",
   "execution_count": 43,
   "metadata": {},
   "outputs": [
    {
     "name": "stdout",
     "output_type": "stream",
     "text": [
      "key_index 0\n",
      "변경된 key_index 1\n",
      "변경된 key_index 1\n",
      "변경된 key_index 2\n",
      "key_index 2\n"
     ]
    }
   ],
   "source": [
    "class Solution:\n",
    "    def rob(self, nums: List[int]) -> int:\n",
    "        import copy\n",
    "        temp = copy.deepcopy(nums)\n",
    "        ans = 0\n",
    "        check = []\n",
    "        remove_check=[]\n",
    "        while(len(temp)!=0):\n",
    "            key = max(temp)\n",
    "            key_index = nums.index(key)\n",
    "            while key_index in remove_check:\n",
    "                    key_index = nums.index(key,key_index+1)\n",
    "                    \n",
    "            if key_index-1 not in check and key_index+1 not in check:\n",
    "                \n",
    "                ans+=key\n",
    "                check.append(key_index)\n",
    "            remove_check.append(key_index)\n",
    "            temp.remove(key)\n",
    "        return ans"
   ]
  }
 ],
 "metadata": {
  "kernelspec": {
   "display_name": "Python 3",
   "language": "python",
   "name": "python3"
  },
  "language_info": {
   "codemirror_mode": {
    "name": "ipython",
    "version": 3
   },
   "file_extension": ".py",
   "mimetype": "text/x-python",
   "name": "python",
   "nbconvert_exporter": "python",
   "pygments_lexer": "ipython3",
   "version": "3.7.6"
  }
 },
 "nbformat": 4,
 "nbformat_minor": 4
}
