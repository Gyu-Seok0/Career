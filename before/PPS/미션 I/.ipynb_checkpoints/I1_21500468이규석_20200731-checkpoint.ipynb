{
 "cells": [
  {
   "cell_type": "markdown",
   "metadata": {},
   "source": [
    "# leetcode 1047 Remove All Adjacent Duplicates In String"
   ]
  },
  {
   "cell_type": "code",
   "execution_count": 30,
   "metadata": {},
   "outputs": [],
   "source": [
    "class Solution:\n",
    "    def removeDuplicates(self, S: str) -> str:\n",
    "        newword = S\n",
    "        preword = S\n",
    "        cnt=0\n",
    "        while(cnt==0 or newword != preword):\n",
    "            flag = True\n",
    "            for i in range(len(newword)-1):\n",
    "                if newword[i] == newword[i+1]:\n",
    "                    flag = False\n",
    "                    preword = newword\n",
    "                    newword= newword[:i]+newword[i+2:]\n",
    "                    break\n",
    "            if flag == True:\n",
    "                break\n",
    "            cnt+=1\n",
    "        return newword\n"
   ]
  },
  {
   "cell_type": "code",
   "execution_count": 32,
   "metadata": {},
   "outputs": [
    {
     "name": "stdout",
     "output_type": "stream",
     "text": [
      "ca\n"
     ]
    }
   ],
   "source": [
    "word = \"abbaca\"\n",
    "\n",
    "S = Solution()\n",
    "print(S.removeDuplicates(word))\n"
   ]
  },
  {
   "cell_type": "markdown",
   "metadata": {},
   "source": [
    "문제 자체는 어렵지 않았다.\n",
    "while문을 돌리면서, preword와 newword를 비교한다. \n",
    "이때 newword는 연속으로 같은 알파벳이 나오면 해당 단어를 제거한 word가 된다.\n",
    "\n",
    "preword와 newword가 for문을 통과하고나서 동일하다면, flag를 통해 while문을 빠져나와서 newword를 return한다.\n"
   ]
  }
 ],
 "metadata": {
  "kernelspec": {
   "display_name": "Python 3",
   "language": "python",
   "name": "python3"
  },
  "language_info": {
   "codemirror_mode": {
    "name": "ipython",
    "version": 3
   },
   "file_extension": ".py",
   "mimetype": "text/x-python",
   "name": "python",
   "nbconvert_exporter": "python",
   "pygments_lexer": "ipython3",
   "version": "3.7.6"
  }
 },
 "nbformat": 4,
 "nbformat_minor": 4
}
