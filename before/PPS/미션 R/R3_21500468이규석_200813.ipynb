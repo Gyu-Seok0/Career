{
 "cells": [
  {
   "cell_type": "code",
   "execution_count": 104,
   "metadata": {},
   "outputs": [],
   "source": [
    "N = 4"
   ]
  },
  {
   "cell_type": "code",
   "execution_count": 105,
   "metadata": {},
   "outputs": [
    {
     "data": {
      "text/plain": [
       "[[0, 0, 0, 0], [0, 0, 0, 0], [0, 0, 0, 0], [0, 0, 0, 0]]"
      ]
     },
     "execution_count": 105,
     "metadata": {},
     "output_type": "execute_result"
    }
   ],
   "source": []
  },
  {
   "cell_type": "code",
   "execution_count": 115,
   "metadata": {},
   "outputs": [
    {
     "name": "stdout",
     "output_type": "stream",
     "text": [
      "6 10\n",
      "RRRRRDDDDD\n",
      "202\n"
     ]
    }
   ],
   "source": [
    "N,K = map(int,input().split())\n",
    "mat = [[0]*N for i in range(N)] # [[0]*N]*N 이 된다.\n",
    "cnt = 0\n",
    "key = 0\n",
    "row = 0\n",
    "col = 0\n",
    "flag = sum(i for i in range(N+1))\n",
    "while(cnt<= N*N):\n",
    "    cnt+=1\n",
    "    if cnt <= flag:\n",
    "        mat[row][col] = cnt\n",
    "\n",
    "        if key %2 == 1:\n",
    "            if row == key:\n",
    "                key+=1\n",
    "                row = key\n",
    "                \n",
    "                continue\n",
    "            row +=1\n",
    "            col -=1\n",
    "        else:\n",
    "            if col == key:\n",
    "                key+=1\n",
    "\n",
    "                col = key\n",
    "                continue\n",
    "            row -=1\n",
    "            col +=1\n",
    "    elif cnt == flag+1:\n",
    "        if key % 2 == 0:\n",
    "            row = N-1\n",
    "            col = key - N +1\n",
    "        else:\n",
    "            row = key - N +1\n",
    "            col = N-1          \n",
    "    else:\n",
    "        mat[row][col]= cnt-1\n",
    "        if key%2 == 1:\n",
    "            if row == N-1:\n",
    "                key +=1\n",
    "                col +=1 \n",
    "                continue\n",
    "            row +=1\n",
    "            col -=1\n",
    "        else:\n",
    "            if col == N-1:\n",
    "                key +=1\n",
    "                row +=1\n",
    "                continue\n",
    "            row -=1\n",
    "            col +=1\n",
    "row = 0\n",
    "col = 0\n",
    "Answer = 0\n",
    "string = input()\n",
    "for com in string:    \n",
    "    if com == 'D':\n",
    "        row +=1\n",
    "    elif com == \"U\":\n",
    "        row -=1\n",
    "    elif com == \"L\":\n",
    "        col -=1\n",
    "    elif com == \"R\":\n",
    "        col +=1\n",
    "    Answer += mat[row][col]\n",
    "    \n",
    "print(Answer+1)"
   ]
  },
  {
   "cell_type": "code",
   "execution_count": 112,
   "metadata": {},
   "outputs": [
    {
     "name": "stdout",
     "output_type": "stream",
     "text": [
      "d\n",
      "0\n"
     ]
    }
   ],
   "source": []
  },
  {
   "cell_type": "code",
   "execution_count": 72,
   "metadata": {},
   "outputs": [
    {
     "data": {
      "text/plain": [
       "0"
      ]
     },
     "execution_count": 72,
     "metadata": {},
     "output_type": "execute_result"
    }
   ],
   "source": [
    "if key %2 == 1:\n",
    "            if col == N-1:\n",
    "                key+=1\n",
    "                row = key - N +1\n",
    "                col = N-1\n",
    "                continue\n",
    "            row -=1\n",
    "            col +=1\n",
    "        else:\n",
    "            if row == N-1:\n",
    "                key+=1\n",
    "                row = N-1\n",
    "                col = key - N +1\n",
    "                continue\n",
    "            row +=1\n",
    "            col -=1\n",
    "    \n",
    "        "
   ]
  },
  {
   "cell_type": "code",
   "execution_count": 111,
   "metadata": {},
   "outputs": [
    {
     "data": {
      "text/plain": [
       "[[1, 2, 6, 7], [3, 5, 8, 13], [4, 9, 12, 14], [10, 11, 15, 16]]"
      ]
     },
     "execution_count": 111,
     "metadata": {},
     "output_type": "execute_result"
    }
   ],
   "source": [
    "mat"
   ]
  },
  {
   "cell_type": "code",
   "execution_count": 75,
   "metadata": {},
   "outputs": [],
   "source": [
    "flag = sum(i for i in range(N+1))"
   ]
  },
  {
   "cell_type": "code",
   "execution_count": 76,
   "metadata": {},
   "outputs": [
    {
     "data": {
      "text/plain": [
       "15"
      ]
     },
     "execution_count": 76,
     "metadata": {},
     "output_type": "execute_result"
    }
   ],
   "source": [
    "flag"
   ]
  }
 ],
 "metadata": {
  "kernelspec": {
   "display_name": "Python 3",
   "language": "python",
   "name": "python3"
  },
  "language_info": {
   "codemirror_mode": {
    "name": "ipython",
    "version": 3
   },
   "file_extension": ".py",
   "mimetype": "text/x-python",
   "name": "python",
   "nbconvert_exporter": "python",
   "pygments_lexer": "ipython3",
   "version": "3.7.6"
  }
 },
 "nbformat": 4,
 "nbformat_minor": 4
}
