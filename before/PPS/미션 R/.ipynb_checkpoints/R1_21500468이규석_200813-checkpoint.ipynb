{
 "cells": [
  {
   "cell_type": "markdown",
   "metadata": {},
   "source": [
    "### https://www.codeground.org/practice/practiceProblemViewNew\n",
    "미션1 codeground"
   ]
  },
  {
   "cell_type": "code",
   "execution_count": 53,
   "metadata": {},
   "outputs": [],
   "source": []
  },
  {
   "cell_type": "code",
   "execution_count": 64,
   "metadata": {},
   "outputs": [
    {
     "name": "stdout",
     "output_type": "stream",
     "text": [
      "2 5 3 3 2 4 5 3\n",
      "7\n"
     ]
    }
   ],
   "source": [
    "#틀린풀이.\n",
    "def XOR(x,y):\n",
    "    temp =  str(int(bin(x)[2:]) + int(bin(y)[2:]))\n",
    "    ans = \"\"\n",
    "    for i in range(len(temp)):\n",
    "        if temp[i]== '0' or temp[i] == '2':\n",
    "            ans+='0'\n",
    "        else:\n",
    "            ans+=\"1\"\n",
    "    return int(ans,2)\n",
    "\n",
    "nums = list(map(int,input().split()))\n",
    "cnt = [0]*len(nums)\n",
    "\n",
    "for i in range(len(nums)):\n",
    "    cnt[i] = nums.count(nums[i])\n",
    "\n",
    "temp = []\n",
    "for i in range(len(cnt)):\n",
    "    if cnt[i] %2 == 1:\n",
    "        temp.append(nums[i])\n",
    "temp = list(set(temp))\n",
    "\n",
    "ans=[]\n",
    "for i in range(len(temp)-1):\n",
    "    for j in range(i+1,len(temp)):\n",
    "        answer = XOR(temp[i],temp[j])"
   ]
  },
  {
   "cell_type": "code",
   "execution_count": 70,
   "metadata": {},
   "outputs": [
    {
     "data": {
      "text/plain": [
       "4"
      ]
     },
     "execution_count": 70,
     "metadata": {},
     "output_type": "execute_result"
    }
   ],
   "source": [
    "#맞은 풀이\n",
    "'''\n",
    "You should use the statndard input/output\n",
    "\n",
    "in order to receive a score properly.\n",
    "\n",
    "Do not use file input and output\n",
    "\n",
    "Please be very careful. \n",
    "'''\n",
    "\n",
    "import sys\n",
    "\n",
    "'''\n",
    "\tThe method below means that the program will read from input.txt, instead of standard(keyboard) input.\n",
    "\tTo test your program, you may save input data in input.txt file,\n",
    "\tand call below method to read from the file when using open() method.\n",
    "\tYou may remove the comment symbols(#) in the below statement and use it.\n",
    "\tBut before submission, you must remove the open function or rewrite comment symbols(#).\n",
    "'''\n",
    "#inf = open('input.txt');\n",
    "inf = sys.stdin \n",
    "T = inf.readline()\n",
    "for t in range(0, int(T)):\n",
    "    garbage = input()\n",
    "    nums = list(map(int,input().split()))\n",
    "    Answer = nums[0]\n",
    "    for i in range(1,len(nums)):\n",
    "        Answer = Answer^nums[i]\n",
    "    print('Case #%d' %(int(t)+1))    \n",
    "    print(Answer)\n",
    "inf.close()"
   ]
  },
  {
   "cell_type": "markdown",
   "metadata": {},
   "source": [
    "처음에 문제를 제대로 이해하지 못했다.\n",
    "그리고 XOR을 제대로 이해하지 못했다.\n",
    "\n",
    "* XOR은 ^로 표기가능.\n",
    "* 자기자신과의 XOR은 0이다.\n",
    "* 0과 XOR은 자기자신이다.\n",
    "따라서 짝수번 XOR한다는 것은 결과적으로 0을 산출하므로, 문제에 어떤 지장을 끼치지 않는다.\n",
    "즉, 이 문제는 입력받은 모든 숫자들의 XOR연산 값을 Return하면 되는 문제이다."
   ]
  }
 ],
 "metadata": {
  "kernelspec": {
   "display_name": "Python 3",
   "language": "python",
   "name": "python3"
  },
  "language_info": {
   "codemirror_mode": {
    "name": "ipython",
    "version": 3
   },
   "file_extension": ".py",
   "mimetype": "text/x-python",
   "name": "python",
   "nbconvert_exporter": "python",
   "pygments_lexer": "ipython3",
   "version": "3.7.6"
  }
 },
 "nbformat": 4,
 "nbformat_minor": 4
}
