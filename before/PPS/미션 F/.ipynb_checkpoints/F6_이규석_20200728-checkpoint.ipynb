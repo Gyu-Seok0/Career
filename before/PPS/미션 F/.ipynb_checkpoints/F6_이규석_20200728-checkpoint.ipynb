{
 "cells": [
  {
   "cell_type": "code",
   "execution_count": 11,
   "metadata": {},
   "outputs": [
    {
     "name": "stdout",
     "output_type": "stream",
     "text": [
      "c-\n",
      "1\n"
     ]
    }
   ],
   "source": [
    "word = input()\n",
    "cnt = 0\n",
    "i=0\n",
    "while(i < len(word)):\n",
    "    if i+1<len(word):\n",
    "        if word[i:i+2] == \"c=\" or word[i:i+2]== \"c-\" or word[i:i+2] == \"lj\" or word[i:i+2] == \"nj\" or word[i:i+2] == \"s=\" or word[i:i+2] == \"z=\" or word[i:i+2] == \"d-\":\n",
    "            i += 2\n",
    "            cnt+=1\n",
    "            continue\n",
    "            \n",
    "    if i+2 < len(word):\n",
    "        if word[i:i+3] == \"dz=\":\n",
    "            i += 3\n",
    "            cnt+=1\n",
    "            continue\n",
    "    i+=1\n",
    "    cnt+=1\n",
    "print(cnt)"
   ]
  }
 ],
 "metadata": {
  "kernelspec": {
   "display_name": "Python 3",
   "language": "python",
   "name": "python3"
  },
  "language_info": {
   "codemirror_mode": {
    "name": "ipython",
    "version": 3
   },
   "file_extension": ".py",
   "mimetype": "text/x-python",
   "name": "python",
   "nbconvert_exporter": "python",
   "pygments_lexer": "ipython3",
   "version": "3.7.6"
  }
 },
 "nbformat": 4,
 "nbformat_minor": 4
}
