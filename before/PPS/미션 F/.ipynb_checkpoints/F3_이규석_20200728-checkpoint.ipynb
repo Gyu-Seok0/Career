{
 "cells": [
  {
   "cell_type": "markdown",
   "metadata": {},
   "source": [
    "# leetcode 67. Add Binary"
   ]
  },
  {
   "cell_type": "code",
   "execution_count": null,
   "metadata": {},
   "outputs": [],
   "source": [
    "a = \"1010\"\n",
    "b = \"1011\"\n",
    "x = int(a)+int(b)\n",
    "x= str(x)\n",
    "ans =\"\"\n",
    "add = 0\n",
    "for i in reversed(range(len(x))):\n",
    "    if add == 1:\n",
    "        temp = 1\n",
    "    else:\n",
    "        temp = 0\n",
    "    temp += int(x[i])\n",
    "    if temp ==0:\n",
    "        ans = \"0\"+ans\n",
    "        temp=0\n",
    "    if temp == 1:\n",
    "        ans = \"1\"+ans\n",
    "        add = 0\n",
    "    if temp == 2 :\n",
    "        ans = \"0\"+ans\n",
    "        add = 1\n",
    "    if temp == 3:\n",
    "        ans = \"1\"+ans\n",
    "        add = 1\n",
    "if add ==1 :\n",
    "    ans = \"1\"+ans\n",
    "print(ans)\n",
    "    "
   ]
  },
  {
   "cell_type": "code",
   "execution_count": null,
   "metadata": {},
   "outputs": [],
   "source": [
    "ans"
   ]
  },
  {
   "cell_type": "code",
   "execution_count": null,
   "metadata": {},
   "outputs": [],
   "source": [
    "class Solution:\n",
    "    def addBinary(self, a: str, b: str) -> str:\n",
    "        x = int(a)+int(b)\n",
    "        x= str(x)\n",
    "        ans =\"\"\n",
    "        add = 0\n",
    "        for i in reversed(range(len(x))):\n",
    "            if add == 1:\n",
    "                temp = 1\n",
    "            else:\n",
    "                temp = 0\n",
    "            temp += int(x[i])\n",
    "            if temp ==0:\n",
    "                ans = \"0\"+ans\n",
    "                temp=0\n",
    "            if temp == 1:\n",
    "                ans = \"1\"+ans\n",
    "                add = 0\n",
    "            if temp == 2 :\n",
    "                ans = \"0\"+ans\n",
    "                add = 1\n",
    "            if temp == 3:\n",
    "                ans = \"1\"+ans\n",
    "                add = 1\n",
    "        if add ==1 :\n",
    "            ans = \"1\"+ans\n",
    "        return ans\n",
    "    "
   ]
  }
 ],
 "metadata": {
  "kernelspec": {
   "display_name": "Python 3",
   "language": "python",
   "name": "python3"
  },
  "language_info": {
   "codemirror_mode": {
    "name": "ipython",
    "version": 3
   },
   "file_extension": ".py",
   "mimetype": "text/x-python",
   "name": "python",
   "nbconvert_exporter": "python",
   "pygments_lexer": "ipython3",
   "version": "3.7.6"
  }
 },
 "nbformat": 4,
 "nbformat_minor": 4
}
