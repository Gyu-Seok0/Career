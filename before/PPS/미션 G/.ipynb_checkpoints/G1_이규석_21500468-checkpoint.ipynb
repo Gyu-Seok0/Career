{
 "cells": [
  {
   "cell_type": "markdown",
   "metadata": {},
   "source": [
    "# 백준 5622번 다이얼"
   ]
  },
  {
   "cell_type": "code",
   "execution_count": 3,
   "metadata": {},
   "outputs": [
    {
     "name": "stdout",
     "output_type": "stream",
     "text": [
      "UNUCIC\n",
      "36\n"
     ]
    }
   ],
   "source": [
    "word = input()\n",
    "cnt = 0\n",
    "for letter in word:\n",
    "    cnt +=1\n",
    "    if letter in ['A','B','C']:\n",
    "        cnt+=2\n",
    "    elif letter in ['D','E','F']:\n",
    "        cnt+=3\n",
    "    elif letter in ['G','H','I']:\n",
    "        cnt+=4\n",
    "    elif letter in ['J','K','L']:\n",
    "        cnt+=5\n",
    "    elif letter in ['M','N','O']:\n",
    "        cnt+=6\n",
    "    elif letter in ['P','Q','R','S']:\n",
    "        cnt+=7\n",
    "    elif letter in ['T','U','V']:\n",
    "        cnt+=8\n",
    "    if letter in ['W','X','Y','Z']:\n",
    "        cnt+=9\n",
    "print(cnt)"
   ]
  },
  {
   "cell_type": "markdown",
   "metadata": {},
   "source": [
    "word의 letter를 하나씩 읽어서 해당하는 숫자를 더해주면 되는 단순계산문제."
   ]
  }
 ],
 "metadata": {
  "kernelspec": {
   "display_name": "Python 3",
   "language": "python",
   "name": "python3"
  },
  "language_info": {
   "codemirror_mode": {
    "name": "ipython",
    "version": 3
   },
   "file_extension": ".py",
   "mimetype": "text/x-python",
   "name": "python",
   "nbconvert_exporter": "python",
   "pygments_lexer": "ipython3",
   "version": "3.7.6"
  }
 },
 "nbformat": 4,
 "nbformat_minor": 4
}
