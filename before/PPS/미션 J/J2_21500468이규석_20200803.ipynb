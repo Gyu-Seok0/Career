{
 "cells": [
  {
   "cell_type": "markdown",
   "metadata": {},
   "source": [
    "# leetcode 258. Add Digits"
   ]
  },
  {
   "cell_type": "code",
   "execution_count": 7,
   "metadata": {},
   "outputs": [],
   "source": [
    "class Solution:\n",
    "    def addDigits(self, num: int) -> int:\n",
    "        str_num = str(num)\n",
    "        int_num = num\n",
    "        while len(str_num) !=1:\n",
    "            int_num = 0\n",
    "            for i in range(len(str_num)):\n",
    "                int_num += int(str_num[i])\n",
    "            str_num = str(int_num)\n",
    "        return int_num\n",
    "\n",
    "        "
   ]
  },
  {
   "cell_type": "code",
   "execution_count": 9,
   "metadata": {},
   "outputs": [
    {
     "data": {
      "text/plain": [
       "5"
      ]
     },
     "execution_count": 9,
     "metadata": {},
     "output_type": "execute_result"
    }
   ],
   "source": [
    "s = Solution()\n",
    "s.addDigits(14)"
   ]
  },
  {
   "cell_type": "markdown",
   "metadata": {},
   "source": [
    "어렵지 않게 풀이가능.\n",
    "while문을 계속 돌리면서 각 자릿수의 합이 일의자리로 수렴할 때까지 시행한다.\n",
    "이때, int_num과 str_num을 따로 지정해서 풀어나가는 것이 index문제나, 덧셈문제에서 자유로울 수 있다.\n",
    "str의 경우 index가 가능하다. 그러나 덧셈이 불가능.\n",
    "int의 경우 index가 불가능하다. 그러나 덧셈이 가능.\n",
    "그래서 index기능과 덧셈기능을 위해 각각을 지정해서 풀어나가는 것이 효과적."
   ]
  }
 ],
 "metadata": {
  "kernelspec": {
   "display_name": "Python 3",
   "language": "python",
   "name": "python3"
  },
  "language_info": {
   "codemirror_mode": {
    "name": "ipython",
    "version": 3
   },
   "file_extension": ".py",
   "mimetype": "text/x-python",
   "name": "python",
   "nbconvert_exporter": "python",
   "pygments_lexer": "ipython3",
   "version": "3.7.6"
  }
 },
 "nbformat": 4,
 "nbformat_minor": 4
}
