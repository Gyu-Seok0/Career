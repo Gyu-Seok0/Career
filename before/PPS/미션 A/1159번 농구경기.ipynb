{
 "cells": [
  {
   "cell_type": "code",
   "execution_count": null,
   "metadata": {},
   "outputs": [],
   "source": [
    "import sys\n",
    "N = int(sys.stdin.readline())\n"
   ]
  },
  {
   "cell_type": "code",
   "execution_count": null,
   "metadata": {},
   "outputs": [],
   "source": [
    "N = int(input())\n",
    "\n",
    "team = {}\n",
    "for i in range(N):\n",
    "    name = input()\n",
    "    team[name[0]] = team.get(name[0],0)+1\n",
    "team = dict(sorted(team.items()))\n",
    "    \n",
    "key = list(team.keys())\n",
    "value = list(team.values())\n",
    "ans = \"\"\n",
    "for i in range(len(value)):\n",
    "    if value[i] >=5:\n",
    "        ans += key[i]\n",
    "if ans == \"\":\n",
    "    print(\"PREDAJA\")\n",
    "else:\n",
    "    print(ans)"
   ]
  }
 ],
 "metadata": {
  "kernelspec": {
   "display_name": "Python 3",
   "language": "python",
   "name": "python3"
  },
  "language_info": {
   "codemirror_mode": {
    "name": "ipython",
    "version": 3
   },
   "file_extension": ".py",
   "mimetype": "text/x-python",
   "name": "python",
   "nbconvert_exporter": "python",
   "pygments_lexer": "ipython3",
   "version": "3.7.6"
  }
 },
 "nbformat": 4,
 "nbformat_minor": 4
}
