{
 "cells": [
  {
   "cell_type": "markdown",
   "metadata": {},
   "source": [
    "# 백준 1316번 그룹 단어 체커"
   ]
  },
  {
   "cell_type": "code",
   "execution_count": 17,
   "metadata": {
    "scrolled": true
   },
   "outputs": [
    {
     "name": "stdout",
     "output_type": "stream",
     "text": [
      "4\n",
      "a\n",
      "i,word[i] 0 a\n",
      "a\n",
      "abab\n",
      "i,word[i] 0 a\n",
      "abcabc\n",
      "i,word[i] 0 a\n",
      "aba\n",
      "i,word[i] 0 a\n"
     ]
    }
   ],
   "source": [
    "N = int(input())\n",
    "cnt = 0\n",
    "for i in range(N):\n",
    "    word = input()\n",
    "    flag = True\n",
    "    for i in range(len(word)):\n",
    "        if word.find(word[i],i+1) == -1:\n",
    "            continue\n",
    "        if word.find(word[i],i+1) - i !=1:\n",
    "            flag = False\n",
    "            break\n",
    "    if flag== True:\n",
    "        cnt +=1"
   ]
  },
  {
   "cell_type": "markdown",
   "metadata": {},
   "source": [
    "word를 받고 letter가 1개 있거나, 연속적으로 존재하면 그룹 단어이다.\n",
    "예를 들어, aabb는 a가 2개, b가 2개 연속으로 존재한다. -->그룹단어\n",
    "aba는 a가 b를 사이에 두고 떨어져 있다. 불연속\n",
    "\n",
    "문제는 어렵지 않았지만, continue에서 헷갈렸다. 한 글자를 받고 continue가 적용되면,\n",
    "for문이 끝나서 아래 flag가 true인지 바로 묻는 것 같다. 그래서 cnt+=1이 받아졌다."
   ]
  }
 ],
 "metadata": {
  "kernelspec": {
   "display_name": "Python 3",
   "language": "python",
   "name": "python3"
  },
  "language_info": {
   "codemirror_mode": {
    "name": "ipython",
    "version": 3
   },
   "file_extension": ".py",
   "mimetype": "text/x-python",
   "name": "python",
   "nbconvert_exporter": "python",
   "pygments_lexer": "ipython3",
   "version": "3.7.6"
  }
 },
 "nbformat": 4,
 "nbformat_minor": 4
}
