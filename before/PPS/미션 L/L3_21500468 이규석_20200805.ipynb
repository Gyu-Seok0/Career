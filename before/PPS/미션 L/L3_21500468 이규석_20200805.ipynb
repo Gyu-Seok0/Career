{
 "cells": [
  {
   "cell_type": "markdown",
   "metadata": {},
   "source": [
    "### leetcode 202. Happy Number"
   ]
  },
  {
   "cell_type": "code",
   "execution_count": 4,
   "metadata": {},
   "outputs": [],
   "source": [
    "class Solution:\n",
    "    def isHappy(self, n: int) -> bool:\n",
    "        str_num = str(n)\n",
    "        int_num = n\n",
    "        ans = []\n",
    "        while(int_num != 1):\n",
    "            temp = 0\n",
    "            for i in range(len(str_num)):\n",
    "                temp+=int(str_num[i])**2\n",
    "            if temp in ans:\n",
    "                return False\n",
    "            int_num = temp\n",
    "            str_num = str(temp)\n",
    "            ans.append(temp)\n",
    "        return True"
   ]
  },
  {
   "cell_type": "markdown",
   "metadata": {},
   "source": [
    "어려운 문제는 아닌데, true/false를 구현하는데 있어서 약간의 난해함이 있었다.\n",
    "함수의 특성상 return을 해버리면 함수가 종료되는 특성이 있어서 풀기가 쉬웠다.\n"
   ]
  }
 ],
 "metadata": {
  "kernelspec": {
   "display_name": "Python 3",
   "language": "python",
   "name": "python3"
  },
  "language_info": {
   "codemirror_mode": {
    "name": "ipython",
    "version": 3
   },
   "file_extension": ".py",
   "mimetype": "text/x-python",
   "name": "python",
   "nbconvert_exporter": "python",
   "pygments_lexer": "ipython3",
   "version": "3.7.6"
  }
 },
 "nbformat": 4,
 "nbformat_minor": 4
}
