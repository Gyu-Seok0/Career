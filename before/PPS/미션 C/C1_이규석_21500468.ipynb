{
 "cells": [
  {
   "cell_type": "markdown",
   "metadata": {},
   "source": [
    "# 백준 3040번 백설공주와 일곱 난쟁이"
   ]
  },
  {
   "cell_type": "code",
   "execution_count": null,
   "metadata": {},
   "outputs": [],
   "source": []
  },
  {
   "cell_type": "code",
   "execution_count": 11,
   "metadata": {},
   "outputs": [
    {
     "name": "stdout",
     "output_type": "stream",
     "text": [
      "7\n",
      "8\n",
      "10\n",
      "13\n",
      "15\n",
      "19\n",
      "20\n",
      "23\n",
      "25\n",
      "7\n",
      "8\n",
      "10\n",
      "13\n",
      "19\n",
      "20\n",
      "23\n"
     ]
    }
   ],
   "source": [
    "#9개의 수를 입력받습니다.\n",
    "people =[]\n",
    "for i in range(9):\n",
    "    height = int(input())\n",
    "    people.append(height)\n",
    "#error 값을 구합니다.\n",
    "total = sum(people)\n",
    "error = total - 100\n",
    "\n",
    "# 두 명의 다른 난쟁이의 키를 더하면 error가 나오는 값을 찾고, 삭제합니다.\n",
    "flag =False\n",
    "for i in range(len(people)-1):\n",
    "    temp1 = people[i]\n",
    "    for j in range(i+1,len(people)):\n",
    "        temp2 = people[j]\n",
    "        if temp1+temp2 == error:\n",
    "            flag = True \n",
    "            people.remove(temp1)\n",
    "            people.remove(temp2)\n",
    "            break\n",
    "    if flag== True:\n",
    "        break\n",
    "        \n",
    "#최종답을 출력합니다.             \n",
    "for ans in people:\n",
    "    print(ans)\n"
   ]
  },
  {
   "cell_type": "code",
   "execution_count": 9,
   "metadata": {},
   "outputs": [
    {
     "data": {
      "text/plain": [
       "7"
      ]
     },
     "execution_count": 9,
     "metadata": {},
     "output_type": "execute_result"
    }
   ],
   "source": [
    "i"
   ]
  },
  {
   "cell_type": "code",
   "execution_count": 10,
   "metadata": {},
   "outputs": [
    {
     "data": {
      "text/plain": [
       "[7, 8, 10, 13, 19, 20, 23]"
      ]
     },
     "execution_count": 10,
     "metadata": {},
     "output_type": "execute_result"
    }
   ],
   "source": [
    "people"
   ]
  }
 ],
 "metadata": {
  "kernelspec": {
   "display_name": "Python 3",
   "language": "python",
   "name": "python3"
  },
  "language_info": {
   "codemirror_mode": {
    "name": "ipython",
    "version": 3
   },
   "file_extension": ".py",
   "mimetype": "text/x-python",
   "name": "python",
   "nbconvert_exporter": "python",
   "pygments_lexer": "ipython3",
   "version": "3.7.6"
  }
 },
 "nbformat": 4,
 "nbformat_minor": 4
}
