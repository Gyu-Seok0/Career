{
 "cells": [
  {
   "cell_type": "code",
   "execution_count": 1,
   "metadata": {},
   "outputs": [
    {
     "name": "stdout",
     "output_type": "stream",
     "text": [
      "숫자 입력: 2\n",
      "명령 입력: push 1\n",
      "명령 입력: push 2\n"
     ]
    }
   ],
   "source": [
    "n = int(input(\"숫자 입력: \"))\n",
    "\n",
    "number=[]\n",
    "for i in range(n):\n",
    "    command = input(\"명령 입력: \")\n",
    "    temp = command.split()\n",
    "    if temp[0]== 'push':\n",
    "        number.append(int(temp[1]))\n",
    "        \n",
    "    elif temp[0] == 'pop':\n",
    "        if len(number) == 0:\n",
    "            print(-1)\n",
    "        else:\n",
    "            print(number[0])\n",
    "            number.pop(0)\n",
    "    \n",
    "    elif temp[0] == 'size':\n",
    "        print(len(number))\n",
    "    elif temp[0] == 'empty':\n",
    "        if len(number) == 0:\n",
    "            print(1)\n",
    "        else:\n",
    "            print(0)\n",
    "    elif temp[0] == 'front':\n",
    "        if len(number) == 0:\n",
    "            print(-1)\n",
    "        else:\n",
    "            print(number[0])\n",
    "            \n",
    "    elif temp[0] == 'back':\n",
    "        if len(number) == 0:\n",
    "            print(-1)\n",
    "        else:\n",
    "            print(number[len(number)-1])\n",
    "    \n",
    "\n",
    "        \n",
    "        \n",
    "        \n",
    "    \n",
    "    \n",
    "    \n",
    "    \n",
    "    \n",
    "    "
   ]
  },
  {
   "cell_type": "code",
   "execution_count": 2,
   "metadata": {},
   "outputs": [
    {
     "name": "stdout",
     "output_type": "stream",
     "text": [
      "push 2\n"
     ]
    }
   ],
   "source": [
    "print(command)"
   ]
  },
  {
   "cell_type": "code",
   "execution_count": 3,
   "metadata": {},
   "outputs": [
    {
     "name": "stdout",
     "output_type": "stream",
     "text": [
      "['push', '2']\n"
     ]
    }
   ],
   "source": [
    "print(command.split())"
   ]
  },
  {
   "cell_type": "code",
   "execution_count": 4,
   "metadata": {},
   "outputs": [
    {
     "name": "stdout",
     "output_type": "stream",
     "text": [
      "['pop']\n"
     ]
    }
   ],
   "source": [
    "a = 'pop'\n",
    "\n",
    "print(a.split())"
   ]
  },
  {
   "cell_type": "code",
   "execution_count": null,
   "metadata": {},
   "outputs": [],
   "source": []
  }
 ],
 "metadata": {
  "kernelspec": {
   "display_name": "Python 3",
   "language": "python",
   "name": "python3"
  },
  "language_info": {
   "codemirror_mode": {
    "name": "ipython",
    "version": 3
   },
   "file_extension": ".py",
   "mimetype": "text/x-python",
   "name": "python",
   "nbconvert_exporter": "python",
   "pygments_lexer": "ipython3",
   "version": "3.7.6"
  }
 },
 "nbformat": 4,
 "nbformat_minor": 4
}
