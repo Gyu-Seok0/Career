{
 "cells": [
  {
   "cell_type": "code",
   "execution_count": 2,
   "metadata": {},
   "outputs": [],
   "source": [
    "#일반 라이브러리\n",
    "import pandas as pd\n",
    "import numpy as np\n",
    "import seaborn as sns\n",
    "import matplotlib.pyplot as plt\n",
    "plt.rc('font', family='Malgun Gothic')\n",
    "plt.rcParams['axes.unicode_minus'] = False\n",
    "\n",
    "\n",
    "#API를 사용하기 위한 import\n",
    "# from geoband.API import *\n",
    "# import folium\n",
    "# import json\n",
    "# import geopandas as gpd\n",
    "\n",
    "# 전처리 및 operator\n",
    "from sklearn.metrics import r2_score\n",
    "from sklearn.model_selection import train_test_split\n",
    "\n",
    "\n",
    "# model\n",
    "from sklearn.linear_model import LinearRegression\n",
    "from sklearn.tree import DecisionTreeRegressor\n",
    "from sklearn.ensemble import RandomForestRegressor, GradientBoostingRegressor\n",
    "from sklearn.model_selection import RandomizedSearchCV\n",
    "\n",
    "#xgboost\n",
    "#from xgboost import XGBRegressor\n",
    "\n",
    "# cross\n",
    "from sklearn.model_selection import cross_validate\n",
    "from sklearn.model_selection import cross_val_predict"
   ]
  },
  {
   "cell_type": "markdown",
   "metadata": {},
   "source": [
    "# PCA 데이터 불러오기"
   ]
  },
  {
   "cell_type": "code",
   "execution_count": null,
   "metadata": {},
   "outputs": [],
   "source": [
    "PCA_data = pd.read_csv(\"./PCA.csv\")\n",
    "PCA_data = PCA_data.iloc[:,1:]\n",
    "\n",
    "total_data = pd.read_csv(\"total.csv\")\n",
    "total_data = total_data.iloc[:,1:]\n",
    "targets = [' rob_satety_q1', 'mur_safety_q2', 'ta_safety_q3',\n",
    "           'raw_odder_q4', 'overall_q5']\n"
   ]
  },
  {
   "cell_type": "code",
   "execution_count": null,
   "metadata": {},
   "outputs": [],
   "source": [
    "# dataset\n",
    "dataset = PCA_data[[\"PC1\",\"PC2\",\"PC3\",\"PC4\",\"PC5\",\"PC6\",\"PC7\"]]\n",
    "\n",
    "# target\n",
    "question = targets[2]\n",
    "dataset[question] = total_data[question]\n",
    "\n",
    "# train & test\n",
    "train, test = dataset[dataset[question].isnull() == False], dataset[dataset[question].isnull()]\n",
    "print(train.shape)\n",
    "print(test.shape)\n"
   ]
  },
  {
   "cell_type": "code",
   "execution_count": null,
   "metadata": {},
   "outputs": [],
   "source": [
    "X, Y = train.drop(question, axis = 1), train[question]\n",
    "print(X.shape)\n",
    "print(Y.shape)"
   ]
  },
  {
   "cell_type": "code",
   "execution_count": null,
   "metadata": {},
   "outputs": [],
   "source": [
    "#함수화\n",
    "def make_PCA(question):\n",
    "    dataset = PCA_data[[\"PC1\",\"PC2\",\"PC3\",\"PC4\",\"PC5\",\"PC6\",\"PC7\"]]\n",
    "    dataset[question] = total_data[question]\n",
    "    train, test = dataset[dataset[question].isnull() == False], dataset[dataset[question].isnull()]\n",
    "    X, Y = train.drop(question, axis = 1), train[question]\n",
    "    return X,Y,test\n",
    "\n",
    "targets = [' rob_satety_q1', 'mur_safety_q2', 'ta_safety_q3',\n",
    "           'raw_odder_q4', 'overall_q5']"
   ]
  },
  {
   "cell_type": "markdown",
   "metadata": {},
   "source": [
    "# 통합모델"
   ]
  },
  {
   "cell_type": "code",
   "execution_count": null,
   "metadata": {},
   "outputs": [],
   "source": [
    "def Three_model(X,Y):\n",
    "    estimators = [XGBRegressor(random_state = 42,),\n",
    "                  RandomForestRegressor(random_state = 42),\n",
    "                  GradientBoostingRegressor(random_state = 42)]\n",
    "    param = {\"max_depth\": np.random.randint(10,200,20),\n",
    "             \"n_estimators\": np.random.randint(10,200,20)}\n",
    "\n",
    "    results = []\n",
    "    for estimator in estimators:\n",
    "        if not estimator.__class__.__name__ == \"XGBRegressor\":\n",
    "            param[\"max_features\"] = np.random.uniform(0.3, 1.0, 100)\n",
    "\n",
    "        result = []\n",
    "        regressor = RandomizedSearchCV(\n",
    "            estimator,\n",
    "            param,\n",
    "            n_iter = 10,\n",
    "            n_jobs= -1,\n",
    "            cv = 5,\n",
    "            verbose = 0\n",
    "        )\n",
    "        regressor.fit(X,Y)\n",
    "        result.append(estimator.__class__.__name__)\n",
    "        result.append(regressor.best_params_)\n",
    "        result.append(regressor.best_estimator_)\n",
    "        result.append(regressor.best_score_)\n",
    "        result.append(regressor.cv_results_)\n",
    "\n",
    "        # validation\n",
    "        pred = cross_val_predict(regressor.best_estimator_, X, Y, cv = 5)\n",
    "        result.append(r2_score(Y, pred))\n",
    "\n",
    "        # 결과 넣기\n",
    "        results.append(result)\n",
    "\n",
    "    df_cv = pd.DataFrame(results)\n",
    "    df_cv.columns = [\"model\", \"params\", \"estimator\",\"r2_score\",\"cv_result\",\"Test값\"]\n",
    "    return df_cv\n",
    "\n",
    "def find_best(df):\n",
    "    return df.loc[np.argmax(df[\"Test값\"]), \"estimator\"]"
   ]
  },
  {
   "cell_type": "code",
   "execution_count": null,
   "metadata": {},
   "outputs": [],
   "source": [
    "targets = [' rob_satety_q1', 'mur_safety_q2', 'ta_safety_q3',\n",
    "           'raw_odder_q4', 'overall_q5']\n",
    "\n",
    "result_df = []\n",
    "best_models = []\n",
    "prediction = []\n",
    "\n",
    "for question in targets:\n",
    "    print(\"{} Training\".format(question))\n",
    "    X,Y,test = make_PCA(question) # 데이터 생성\n",
    "    result_df.append(Three_model(X,Y))\n",
    "    best_models.append(find_best(result_df[-1])) #최고의 모델\n",
    "    \n",
    "    # 예측\n",
    "    model = best_models[-1]\n",
    "    pred = model.predict(test)\n",
    "    prediction.append(pred)\n"
   ]
  },
  {
   "cell_type": "code",
   "execution_count": null,
   "metadata": {},
   "outputs": [],
   "source": [
    "answers = pd.DataFrame(prediction).transpose()\n",
    "answers.head()"
   ]
  },
  {
   "cell_type": "code",
   "execution_count": null,
   "metadata": {},
   "outputs": [],
   "source": [
    "answers.to_csv(\"correct_answer.csv\") "
   ]
  }
 ],
 "metadata": {
  "kernelspec": {
   "display_name": "Python 3",
   "language": "python",
   "name": "python3"
  },
  "language_info": {
   "codemirror_mode": {
    "name": "ipython",
    "version": 3
   },
   "file_extension": ".py",
   "mimetype": "text/x-python",
   "name": "python",
   "nbconvert_exporter": "python",
   "pygments_lexer": "ipython3",
   "version": "3.8.3"
  }
 },
 "nbformat": 4,
 "nbformat_minor": 4
}
