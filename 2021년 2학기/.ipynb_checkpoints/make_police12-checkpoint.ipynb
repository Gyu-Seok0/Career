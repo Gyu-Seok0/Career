{
 "cells": [
  {
   "cell_type": "code",
   "execution_count": 211,
   "metadata": {},
   "outputs": [],
   "source": [
    "#일반 라이브러리\n",
    "import pandas as pd\n",
    "import numpy as np\n",
    "import seaborn as sns\n",
    "import matplotlib.pyplot as plt\n",
    "\n",
    "#API를 사용하기 위한 import\n",
    "from geoband.API import *\n",
    "import folium\n",
    "import json\n",
    "import geopandas as gpd\n",
    "\n",
    "#model\n",
    "from sklearn.metrics import r2_score\n",
    "from sklearn.linear_model import LinearRegression\n"
   ]
  },
  {
   "cell_type": "code",
   "execution_count": 212,
   "metadata": {},
   "outputs": [
    {
     "data": {
      "text/html": [
       "<div>\n",
       "<style scoped>\n",
       "    .dataframe tbody tr th:only-of-type {\n",
       "        vertical-align: middle;\n",
       "    }\n",
       "\n",
       "    .dataframe tbody tr th {\n",
       "        vertical-align: top;\n",
       "    }\n",
       "\n",
       "    .dataframe thead th {\n",
       "        text-align: right;\n",
       "    }\n",
       "</style>\n",
       "<table border=\"1\" class=\"dataframe\">\n",
       "  <thead>\n",
       "    <tr style=\"text-align: right;\">\n",
       "      <th></th>\n",
       "      <th>jur_stn</th>\n",
       "      <th>year</th>\n",
       "      <th>상반기</th>\n",
       "      <th>파출소수</th>\n",
       "      <th>경찰관수</th>\n",
       "      <th>5대범죄발생건</th>\n",
       "      <th>5대범죄검거건</th>\n",
       "      <th>5대범죄검거율</th>\n",
       "      <th>전체인구</th>\n",
       "      <th>전체성비</th>\n",
       "      <th>...</th>\n",
       "      <th>교통신고비율</th>\n",
       "      <th>질서신고비율</th>\n",
       "      <th>tot_f_safety</th>\n",
       "      <th>dept_safety</th>\n",
       "      <th>crime_safety</th>\n",
       "      <th>rob_satety_q1</th>\n",
       "      <th>mur_safety_q2</th>\n",
       "      <th>ta_safety_q3</th>\n",
       "      <th>raw_odder_q4</th>\n",
       "      <th>overall_q5</th>\n",
       "    </tr>\n",
       "  </thead>\n",
       "  <tbody>\n",
       "    <tr>\n",
       "      <th>0</th>\n",
       "      <td>수원남부경찰서</td>\n",
       "      <td>2017</td>\n",
       "      <td>0</td>\n",
       "      <td>9</td>\n",
       "      <td>395</td>\n",
       "      <td>3184</td>\n",
       "      <td>1417</td>\n",
       "      <td>0.445038</td>\n",
       "      <td>405665</td>\n",
       "      <td>102.4</td>\n",
       "      <td>...</td>\n",
       "      <td>0.126613</td>\n",
       "      <td>0.341020</td>\n",
       "      <td>73.6</td>\n",
       "      <td>73.1</td>\n",
       "      <td>79.2</td>\n",
       "      <td>78.2</td>\n",
       "      <td>80.2</td>\n",
       "      <td>68.9</td>\n",
       "      <td>70.5</td>\n",
       "      <td>74.7</td>\n",
       "    </tr>\n",
       "    <tr>\n",
       "      <th>1</th>\n",
       "      <td>수원남부경찰서</td>\n",
       "      <td>2017</td>\n",
       "      <td>1</td>\n",
       "      <td>9</td>\n",
       "      <td>395</td>\n",
       "      <td>2967</td>\n",
       "      <td>1426</td>\n",
       "      <td>0.480620</td>\n",
       "      <td>405665</td>\n",
       "      <td>102.4</td>\n",
       "      <td>...</td>\n",
       "      <td>0.126068</td>\n",
       "      <td>0.343160</td>\n",
       "      <td>71.9</td>\n",
       "      <td>70.9</td>\n",
       "      <td>78.3</td>\n",
       "      <td>78.4</td>\n",
       "      <td>78.2</td>\n",
       "      <td>69.1</td>\n",
       "      <td>64.7</td>\n",
       "      <td>74.1</td>\n",
       "    </tr>\n",
       "    <tr>\n",
       "      <th>2</th>\n",
       "      <td>수원남부경찰서</td>\n",
       "      <td>2018</td>\n",
       "      <td>0</td>\n",
       "      <td>9</td>\n",
       "      <td>395</td>\n",
       "      <td>3143</td>\n",
       "      <td>1378</td>\n",
       "      <td>0.438435</td>\n",
       "      <td>406281</td>\n",
       "      <td>102.3</td>\n",
       "      <td>...</td>\n",
       "      <td>0.138606</td>\n",
       "      <td>0.323678</td>\n",
       "      <td>74.1</td>\n",
       "      <td>74.0</td>\n",
       "      <td>80.5</td>\n",
       "      <td>80.7</td>\n",
       "      <td>80.2</td>\n",
       "      <td>67.4</td>\n",
       "      <td>73.3</td>\n",
       "      <td>74.4</td>\n",
       "    </tr>\n",
       "    <tr>\n",
       "      <th>3</th>\n",
       "      <td>수원남부경찰서</td>\n",
       "      <td>2018</td>\n",
       "      <td>1</td>\n",
       "      <td>9</td>\n",
       "      <td>395</td>\n",
       "      <td>2825</td>\n",
       "      <td>1374</td>\n",
       "      <td>0.486372</td>\n",
       "      <td>406281</td>\n",
       "      <td>102.3</td>\n",
       "      <td>...</td>\n",
       "      <td>0.118676</td>\n",
       "      <td>0.349347</td>\n",
       "      <td>69.0</td>\n",
       "      <td>68.2</td>\n",
       "      <td>75.5</td>\n",
       "      <td>74.0</td>\n",
       "      <td>76.9</td>\n",
       "      <td>62.4</td>\n",
       "      <td>65.7</td>\n",
       "      <td>71.0</td>\n",
       "    </tr>\n",
       "    <tr>\n",
       "      <th>4</th>\n",
       "      <td>수원남부경찰서</td>\n",
       "      <td>2019</td>\n",
       "      <td>0</td>\n",
       "      <td>9</td>\n",
       "      <td>395</td>\n",
       "      <td>2589</td>\n",
       "      <td>1725</td>\n",
       "      <td>0.666280</td>\n",
       "      <td>404995</td>\n",
       "      <td>102.3</td>\n",
       "      <td>...</td>\n",
       "      <td>0.139994</td>\n",
       "      <td>0.309494</td>\n",
       "      <td>74.9</td>\n",
       "      <td>74.7</td>\n",
       "      <td>78.8</td>\n",
       "      <td>77.6</td>\n",
       "      <td>79.9</td>\n",
       "      <td>71.2</td>\n",
       "      <td>73.8</td>\n",
       "      <td>75.5</td>\n",
       "    </tr>\n",
       "  </tbody>\n",
       "</table>\n",
       "<p>5 rows × 43 columns</p>\n",
       "</div>"
      ],
      "text/plain": [
       "   jur_stn  year  상반기  파출소수  경찰관수  5대범죄발생건  5대범죄검거건   5대범죄검거율    전체인구   전체성비  \\\n",
       "0  수원남부경찰서  2017    0     9   395     3184     1417  0.445038  405665  102.4   \n",
       "1  수원남부경찰서  2017    1     9   395     2967     1426  0.480620  405665  102.4   \n",
       "2  수원남부경찰서  2018    0     9   395     3143     1378  0.438435  406281  102.3   \n",
       "3  수원남부경찰서  2018    1     9   395     2825     1374  0.486372  406281  102.3   \n",
       "4  수원남부경찰서  2019    0     9   395     2589     1725  0.666280  404995  102.3   \n",
       "\n",
       "   ...    교통신고비율    질서신고비율  tot_f_safety  dept_safety  crime_safety  \\\n",
       "0  ...  0.126613  0.341020          73.6         73.1          79.2   \n",
       "1  ...  0.126068  0.343160          71.9         70.9          78.3   \n",
       "2  ...  0.138606  0.323678          74.1         74.0          80.5   \n",
       "3  ...  0.118676  0.349347          69.0         68.2          75.5   \n",
       "4  ...  0.139994  0.309494          74.9         74.7          78.8   \n",
       "\n",
       "    rob_satety_q1  mur_safety_q2  ta_safety_q3  raw_odder_q4  overall_q5  \n",
       "0            78.2           80.2          68.9          70.5        74.7  \n",
       "1            78.4           78.2          69.1          64.7        74.1  \n",
       "2            80.7           80.2          67.4          73.3        74.4  \n",
       "3            74.0           76.9          62.4          65.7        71.0  \n",
       "4            77.6           79.9          71.2          73.8        75.5  \n",
       "\n",
       "[5 rows x 43 columns]"
      ]
     },
     "execution_count": 212,
     "metadata": {},
     "output_type": "execute_result"
    }
   ],
   "source": [
    "police11 = pd.read_csv(\"police11.csv\")\n",
    "police11 = police11.iloc[:,1:]\n",
    "police11.head()"
   ]
  },
  {
   "cell_type": "markdown",
   "metadata": {},
   "source": [
    "# 교통사고 데이터"
   ]
  },
  {
   "cell_type": "code",
   "execution_count": 213,
   "metadata": {},
   "outputs": [
    {
     "name": "stdout",
     "output_type": "stream",
     "text": [
      "(164, 4)\n"
     ]
    },
    {
     "data": {
      "text/html": [
       "<div>\n",
       "<style scoped>\n",
       "    .dataframe tbody tr th:only-of-type {\n",
       "        vertical-align: middle;\n",
       "    }\n",
       "\n",
       "    .dataframe tbody tr th {\n",
       "        vertical-align: top;\n",
       "    }\n",
       "\n",
       "    .dataframe thead th {\n",
       "        text-align: right;\n",
       "    }\n",
       "</style>\n",
       "<table border=\"1\" class=\"dataframe\">\n",
       "  <thead>\n",
       "    <tr style=\"text-align: right;\">\n",
       "      <th></th>\n",
       "      <th>jur_stn</th>\n",
       "      <th>year</th>\n",
       "      <th>상반기</th>\n",
       "      <th>교통사고발생건</th>\n",
       "    </tr>\n",
       "  </thead>\n",
       "  <tbody>\n",
       "    <tr>\n",
       "      <th>0</th>\n",
       "      <td>마산동부경찰서</td>\n",
       "      <td>2018</td>\n",
       "      <td>0</td>\n",
       "      <td>186</td>\n",
       "    </tr>\n",
       "    <tr>\n",
       "      <th>1</th>\n",
       "      <td>마산동부경찰서</td>\n",
       "      <td>2018</td>\n",
       "      <td>1</td>\n",
       "      <td>203</td>\n",
       "    </tr>\n",
       "    <tr>\n",
       "      <th>2</th>\n",
       "      <td>마산동부경찰서</td>\n",
       "      <td>2019</td>\n",
       "      <td>0</td>\n",
       "      <td>243</td>\n",
       "    </tr>\n",
       "    <tr>\n",
       "      <th>3</th>\n",
       "      <td>마산동부경찰서</td>\n",
       "      <td>2019</td>\n",
       "      <td>1</td>\n",
       "      <td>213</td>\n",
       "    </tr>\n",
       "    <tr>\n",
       "      <th>6</th>\n",
       "      <td>마산중부경찰서</td>\n",
       "      <td>2018</td>\n",
       "      <td>0</td>\n",
       "      <td>308</td>\n",
       "    </tr>\n",
       "  </tbody>\n",
       "</table>\n",
       "</div>"
      ],
      "text/plain": [
       "   jur_stn  year  상반기  교통사고발생건\n",
       "0  마산동부경찰서  2018    0      186\n",
       "1  마산동부경찰서  2018    1      203\n",
       "2  마산동부경찰서  2019    0      243\n",
       "3  마산동부경찰서  2019    1      213\n",
       "6  마산중부경찰서  2018    0      308"
      ]
     },
     "execution_count": 213,
     "metadata": {},
     "output_type": "execute_result"
    }
   ],
   "source": [
    "df = pd.read_csv(\"11.5개시도_교통사고현황.csv\")\n",
    "# date 전처리\n",
    "df[\"date\"] = df[\"date\"].str.rstrip(\"월\")\n",
    "\n",
    "# year\n",
    "df[\"year\"] = df[\"date\"].str[:4] \n",
    "\n",
    "# 상반기\n",
    "temp = df[\"date\"].str[6:].replace([\"1\",\"2\",\"3\",\"4\",\"5\",\"6\",\"7\",\"8\",\"9\"],[\"01\",\"02\",\"03\",\"04\",\"05\",\"06\",\"07\",\"08\",\"09\"], inplace= False)\n",
    "df[\"상반기\"] = (temp.str[:] <= \"06\").astype(\"int\")\n",
    "\n",
    "# 교통사고 발생건수\n",
    "traffic = df.groupby([\"jur_stn\",\"year\",\"상반기\"]).count().reset_index()\n",
    "\n",
    "# 마지막 전처리\n",
    "traffic[\"jur_stn\"] = traffic[\"jur_stn\"].str[:] + \"경찰서\"\n",
    "traffic = traffic.iloc[:,:4]\n",
    "traffic = traffic.rename(columns = {\"date\":\"교통사고발생건\"})\n",
    "traffic = traffic.astype({\"year\":\"int\"})\n",
    "traffic[\"jur_stn\"] = traffic[\"jur_stn\"].str[:].replace(\"진해경찰서경찰서\", \"진해경찰서\")\n",
    "traffic = traffic[traffic[\"year\"].isin([2018,2019])]\n",
    "\n",
    "print(traffic.shape)\n",
    "traffic.head()"
   ]
  },
  {
   "cell_type": "code",
   "execution_count": 214,
   "metadata": {},
   "outputs": [],
   "source": [
    "police12 = pd.merge(police11, traffic, how = \"outer\", on = [\"jur_stn\",\"year\",\"상반기\"])"
   ]
  },
  {
   "cell_type": "markdown",
   "metadata": {},
   "source": [
    "# 2017년 데이터를 회귀분석으로 결측치 채우기"
   ]
  },
  {
   "cell_type": "code",
   "execution_count": 215,
   "metadata": {},
   "outputs": [
    {
     "name": "stdout",
     "output_type": "stream",
     "text": [
      "(164, 40) (164,)\n",
      "(82, 40)\n"
     ]
    }
   ],
   "source": [
    "dataset = police12.drop([\"jur_stn\",\"year\",\"상반기\"], axis = 1)\n",
    "train, test = dataset[dataset[\"교통사고발생건\"].isnull() == False], dataset[dataset[\"교통사고발생건\"].isnull()]\n",
    "X_train, Y_train = train.drop([\"교통사고발생건\"], axis = 1), train[\"교통사고발생건\"]\n",
    "X_test = test.drop([\"교통사고발생건\"], axis = 1)\n",
    "\n",
    "print(X_train.shape, Y_train.shape)\n",
    "print(X_test.shape)"
   ]
  },
  {
   "cell_type": "code",
   "execution_count": 216,
   "metadata": {},
   "outputs": [],
   "source": [
    "model = LinearRegression(normalize= True)\n",
    "model.fit(X_train, Y_train)\n",
    "pred = model.predict(X_test)"
   ]
  },
  {
   "cell_type": "code",
   "execution_count": 217,
   "metadata": {
    "scrolled": true
   },
   "outputs": [],
   "source": [
    "police12.loc[police12[\"교통사고발생건\"].isnull(),\"교통사고발생건\"] = pred"
   ]
  },
  {
   "cell_type": "markdown",
   "metadata": {},
   "source": [
    "# 신속출동까지 걸린 시간 데이터를 포함시키기\n",
    "\n",
    "#### 2017 & 2018 & 2019 데이터로 만들기\n",
    "\n",
    "서울 [243,260,255] <br>\n",
    "세종 [np.nan,np.nan, 357] <br>\n",
    "경기남부(수원) [352, 335, 332] <br>\n",
    "경남(창원, 진주) [370, 359, 365] <br>\n"
   ]
  },
  {
   "cell_type": "code",
   "execution_count": 218,
   "metadata": {},
   "outputs": [],
   "source": [
    "police_name = sorted(police12[\"jur_stn\"].str[:].unique().tolist())        "
   ]
  },
  {
   "cell_type": "code",
   "execution_count": 219,
   "metadata": {},
   "outputs": [
    {
     "name": "stdout",
     "output_type": "stream",
     "text": [
      "(123, 3)\n"
     ]
    },
    {
     "data": {
      "text/html": [
       "<div>\n",
       "<style scoped>\n",
       "    .dataframe tbody tr th:only-of-type {\n",
       "        vertical-align: middle;\n",
       "    }\n",
       "\n",
       "    .dataframe tbody tr th {\n",
       "        vertical-align: top;\n",
       "    }\n",
       "\n",
       "    .dataframe thead th {\n",
       "        text-align: right;\n",
       "    }\n",
       "</style>\n",
       "<table border=\"1\" class=\"dataframe\">\n",
       "  <thead>\n",
       "    <tr style=\"text-align: right;\">\n",
       "      <th></th>\n",
       "      <th>jur_stn</th>\n",
       "      <th>year</th>\n",
       "      <th>평균출동시간</th>\n",
       "    </tr>\n",
       "  </thead>\n",
       "  <tbody>\n",
       "    <tr>\n",
       "      <th>0</th>\n",
       "      <td>마산동부경찰서</td>\n",
       "      <td>2017</td>\n",
       "      <td>370.0</td>\n",
       "    </tr>\n",
       "    <tr>\n",
       "      <th>1</th>\n",
       "      <td>마산동부경찰서</td>\n",
       "      <td>2018</td>\n",
       "      <td>359.0</td>\n",
       "    </tr>\n",
       "    <tr>\n",
       "      <th>2</th>\n",
       "      <td>마산동부경찰서</td>\n",
       "      <td>2019</td>\n",
       "      <td>365.0</td>\n",
       "    </tr>\n",
       "    <tr>\n",
       "      <th>3</th>\n",
       "      <td>마산중부경찰서</td>\n",
       "      <td>2017</td>\n",
       "      <td>370.0</td>\n",
       "    </tr>\n",
       "    <tr>\n",
       "      <th>4</th>\n",
       "      <td>마산중부경찰서</td>\n",
       "      <td>2018</td>\n",
       "      <td>359.0</td>\n",
       "    </tr>\n",
       "  </tbody>\n",
       "</table>\n",
       "</div>"
      ],
      "text/plain": [
       "   jur_stn  year  평균출동시간\n",
       "0  마산동부경찰서  2017   370.0\n",
       "1  마산동부경찰서  2018   359.0\n",
       "2  마산동부경찰서  2019   365.0\n",
       "3  마산중부경찰서  2017   370.0\n",
       "4  마산중부경찰서  2018   359.0"
      ]
     },
     "execution_count": 219,
     "metadata": {},
     "output_type": "execute_result"
    }
   ],
   "source": [
    "### 통합버전\n",
    "action = [370, 359, 365]*2 # 마산 2개\n",
    "action += [243,260,255]*31\n",
    "action += [np.nan, np.nan, 357] #세종\n",
    "action += [352, 335, 332]*3 # 수원\n",
    "action += [370, 359, 365]*4 # 진주, 진해, 창원서부/창원중부\n",
    "\n",
    "act = pd.DataFrame(sorted(police_name*3))\n",
    "act[\"year\"] = [2017,2018,2019]*41\n",
    "act[\"평균출동시간\"] = action\n",
    "act = act.rename(columns = {0: \"jur_stn\"})\n",
    "print(act.shape)\n",
    "act.head()"
   ]
  },
  {
   "cell_type": "code",
   "execution_count": 220,
   "metadata": {},
   "outputs": [],
   "source": [
    "police12 = pd.merge(police12, act, how = \"inner\", on = [\"jur_stn\",\"year\"])\n"
   ]
  },
  {
   "cell_type": "markdown",
   "metadata": {},
   "source": [
    "# 평균출동시간 결측치를 회귀분석으로 처리하기"
   ]
  },
  {
   "cell_type": "code",
   "execution_count": 221,
   "metadata": {},
   "outputs": [
    {
     "name": "stdout",
     "output_type": "stream",
     "text": [
      "(242, 41) (242,)\n",
      "(4, 41)\n"
     ]
    }
   ],
   "source": [
    "dataset = police12.drop([\"jur_stn\",\"year\",\"상반기\"], axis = 1)\n",
    "train, test = dataset[dataset[\"평균출동시간\"].isnull() == False], dataset[dataset[\"평균출동시간\"].isnull()]\n",
    "X_train, Y_train = train.drop([\"평균출동시간\"], axis = 1), train[\"평균출동시간\"]\n",
    "X_test = test.drop([\"평균출동시간\"], axis = 1)\n",
    "\n",
    "print(X_train.shape, Y_train.shape)\n",
    "print(X_test.shape)"
   ]
  },
  {
   "cell_type": "code",
   "execution_count": 222,
   "metadata": {},
   "outputs": [],
   "source": [
    "model = LinearRegression(normalize= True)\n",
    "model.fit(X_train, Y_train)\n",
    "pred = model.predict(X_test)"
   ]
  },
  {
   "cell_type": "code",
   "execution_count": 223,
   "metadata": {},
   "outputs": [
    {
     "data": {
      "text/plain": [
       "array([368.28170268, 369.50202186, 372.28958805, 372.06129991])"
      ]
     },
     "execution_count": 223,
     "metadata": {},
     "output_type": "execute_result"
    }
   ],
   "source": [
    "pred"
   ]
  },
  {
   "cell_type": "code",
   "execution_count": 224,
   "metadata": {},
   "outputs": [],
   "source": [
    "police12.loc[police12[\"평균출동시간\"].isnull(),\"평균출동시간\"] = pred"
   ]
  },
  {
   "cell_type": "markdown",
   "metadata": {},
   "source": [
    "### 저장전에 전처리 및 columns 순서"
   ]
  },
  {
   "cell_type": "code",
   "execution_count": 225,
   "metadata": {},
   "outputs": [],
   "source": [
    "# type\n",
    "police12 = police12.astype({\"교통사고발생건\": \"int\",\n",
    "                            \"평균출동시간\": \"int\"})\n",
    "# 순서\n",
    "police12 = pd.concat([police12.iloc[:,:35], police12[[\"교통사고발생건\",\"평균출동시간\"]], police12.iloc[:,35:-2]], axis = 1)\n",
    "\n",
    "\n",
    "police12.to_csv(\"police12.csv\")"
   ]
  },
  {
   "cell_type": "code",
   "execution_count": 226,
   "metadata": {},
   "outputs": [],
   "source": [
    "police12 = pd.concat([police12.iloc[:,:35], police12[[\"교통사고발생건\",\"평균출동시간\"]], police12.iloc[:,35:-2]], axis = 1)\n"
   ]
  }
 ],
 "metadata": {
  "kernelspec": {
   "display_name": "Python 3",
   "language": "python",
   "name": "python3"
  },
  "language_info": {
   "codemirror_mode": {
    "name": "ipython",
    "version": 3
   },
   "file_extension": ".py",
   "mimetype": "text/x-python",
   "name": "python",
   "nbconvert_exporter": "python",
   "pygments_lexer": "ipython3",
   "version": "3.8.3"
  }
 },
 "nbformat": 4,
 "nbformat_minor": 5
}
