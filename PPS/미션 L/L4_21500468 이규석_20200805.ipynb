{
 "cells": [
  {
   "cell_type": "markdown",
   "metadata": {},
   "source": [
    "# 347. Top K Frequent Elements"
   ]
  },
  {
   "cell_type": "code",
   "execution_count": 29,
   "metadata": {},
   "outputs": [
    {
     "name": "stdout",
     "output_type": "stream",
     "text": [
      "[1, 2]\n"
     ]
    }
   ],
   "source": [
    "class Solution:\n",
    "    def topKFrequent(self, nums: List[int], k: int) -> List[int]:\n",
    "        d=dict()\n",
    "        for num in nums:\n",
    "            d[num] = d.get(num,0)+1\n",
    "        result = sorted(d.items(), reverse =True, key = lambda item: item[1]) # key값으로 정렬\n",
    "        ans = []\n",
    "        for i in range(k):\n",
    "            ans.append(result[i][0])\n",
    "        return ans"
   ]
  },
  {
   "cell_type": "markdown",
   "metadata": {},
   "source": [
    "쉽지 않았다. \n",
    "일단 문제를 잘못 이해했다. --> k번째까지 frequent가 가장 높은 숫자를 리스트로 return하는 문제였다.\n",
    "\n",
    "이를 위해서 key 값으로 정렬하는 것을 검색해서 문제를 풀이했고, 이렇게 되면 튜플 형태로 묶인 리스트가 만들어진다. [(key,value), (key,value)] 여기서 우리한테 필요한 것은 key값임으로, \n",
    "마지막 for문을 통해 해당 key 값을 ans값에 저장해서 return 하였다."
   ]
  }
 ],
 "metadata": {
  "kernelspec": {
   "display_name": "Python 3",
   "language": "python",
   "name": "python3"
  },
  "language_info": {
   "codemirror_mode": {
    "name": "ipython",
    "version": 3
   },
   "file_extension": ".py",
   "mimetype": "text/x-python",
   "name": "python",
   "nbconvert_exporter": "python",
   "pygments_lexer": "ipython3",
   "version": "3.7.6"
  }
 },
 "nbformat": 4,
 "nbformat_minor": 4
}
