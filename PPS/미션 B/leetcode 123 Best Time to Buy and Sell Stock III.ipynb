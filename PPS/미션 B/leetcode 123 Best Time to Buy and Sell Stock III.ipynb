{
 "cells": [
  {
   "cell_type": "code",
   "execution_count": 39,
   "metadata": {
    "scrolled": true
   },
   "outputs": [
    {
     "name": "stdout",
     "output_type": "stream",
     "text": [
      "6\n"
     ]
    }
   ],
   "source": [
    "#prices = [3,3,5,0,0,3,1,4]\n",
    "#prices = [7,6,4,3,1]\n",
    "#prices = [2,1,4]\n",
    "#prices = [2,1,2,0,1]\n",
    "prices = [6,1,3,2,4,7]\n",
    "\n",
    "index = 0\n",
    "ans = 0\n",
    "while(index < len(prices)-1):\n",
    "    temp = 0\n",
    "    if prices[index] < max(prices[index+1:]) and prices[index] <= min(prices[:prices.index(max(prices[index+1:]))]):\n",
    "        temp = max(prices[index+1:]) - prices[index]\n",
    "        \n",
    "    if temp > 0:\n",
    "        ans += temp\n",
    "        index = prices.index(max(prices[index+1:]))+1\n",
    "    else:\n",
    "        index+=1\n",
    "    \n",
    "print(ans)\n",
    "#어떻게 하는지 안풀린다"
   ]
  },
  {
   "cell_type": "code",
   "execution_count": 24,
   "metadata": {},
   "outputs": [
    {
     "name": "stdout",
     "output_type": "stream",
     "text": [
      "index 1\n",
      "ans 14767\n",
      "temp 1\n",
      "min 1\n",
      "max 2\n",
      "0\n"
     ]
    }
   ],
   "source": [
    "print('index', index)\n",
    "print('ans', ans)\n",
    "print('temp', temp)\n",
    "print('min', min(prices[:index+1]))\n",
    "print('max',max(prices[index+1:]))\n",
    "print(prices.index(max(prices[index+1:])))"
   ]
  },
  {
   "cell_type": "code",
   "execution_count": 42,
   "metadata": {},
   "outputs": [
    {
     "name": "stdout",
     "output_type": "stream",
     "text": [
      "6\n"
     ]
    }
   ],
   "source": [
    "#prices = [3,3,5,0,0,3,1,4]\n",
    "#prices = [7,6,4,3,1]\n",
    "#prices = [2,1,4]\n",
    "#prices = [2,1,2,0,1]\n",
    "prices = [6,1,3,2,4,7]\n",
    "\n",
    "index = 0\n",
    "ans = 0\n",
    "while(index < len(prices)-1):\n",
    "    temp = 0\n",
    "    temp_index = -1\n",
    "    if prices[index] < max(prices[index+1:]):\n",
    "        temp1 = max(prices[index+1:]) - prices[index]\n",
    "        temp_index = prices.index(max(prices[index+1:]))\n",
    "        if prices[temp_index] > min(prices[:temp_index]):\n",
    "            temp2 = prices[temp_index] -  min(prices[:temp_index])\n",
    "    temp = max(temp1,temp2)   \n",
    "    if temp != -1:\n",
    "        ans += temp\n",
    "        index = prices.index(max(prices[index+1:]))+1\n",
    "    else:\n",
    "        index+=1\n",
    "print(ans)"
   ]
  },
  {
   "cell_type": "code",
   "execution_count": null,
   "metadata": {},
   "outputs": [],
   "source": [
    "\n",
    "class Solution:\n",
    "    def maxProfit(self, prices: List[int]) -> int:\n",
    "        index = 0\n",
    "        ans = 0\n",
    "        while(index < len(prices)-1):\n",
    "            if prices[index] < max(prices[index+1:]):\n",
    "                temp = max(prices[index+1:]) - prices[index]\n",
    "                ans += temp\n",
    "                index = prices.index(max(prices[index+1:]))+1\n",
    "            index+=1\n",
    "        return ans\n",
    "\n",
    "        "
   ]
  }
 ],
 "metadata": {
  "kernelspec": {
   "display_name": "Python 3",
   "language": "python",
   "name": "python3"
  },
  "language_info": {
   "codemirror_mode": {
    "name": "ipython",
    "version": 3
   },
   "file_extension": ".py",
   "mimetype": "text/x-python",
   "name": "python",
   "nbconvert_exporter": "python",
   "pygments_lexer": "ipython3",
   "version": "3.7.6"
  }
 },
 "nbformat": 4,
 "nbformat_minor": 4
}
