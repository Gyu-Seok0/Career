{
 "cells": [
  {
   "cell_type": "code",
   "execution_count": 15,
   "metadata": {},
   "outputs": [
    {
     "name": "stdout",
     "output_type": "stream",
     "text": [
      "5\n"
     ]
    }
   ],
   "source": [
    "#방법1 --> 이중for문\n",
    "Input = [7,1,5,3,6,4]\n",
    "ans = 0\n",
    "for i in range(len(Input)-1):\n",
    "    for j in range(i,len(Input)):\n",
    "        if Input[j] - Input[i] >0:\n",
    "            temp = Input[j] - Input[i]\n",
    "            if temp > ans:\n",
    "                ans = temp\n",
    "print(ans)"
   ]
  },
  {
   "cell_type": "code",
   "execution_count": 30,
   "metadata": {},
   "outputs": [
    {
     "name": "stdout",
     "output_type": "stream",
     "text": [
      "5\n"
     ]
    }
   ],
   "source": [
    "#방법2 --> for문 한 개\n",
    "prices = [7,1,5,3,6,4]\n",
    "ans = 0\n",
    "for i in range(len(prices)-1):\n",
    "    if prices[i] < max(prices[i+1:]):\n",
    "        temp = max(prices[i+1:]) - prices[i] \n",
    "        if ans < temp:\n",
    "            ans = temp\n",
    "return ans"
   ]
  },
  {
   "cell_type": "code",
   "execution_count": null,
   "metadata": {},
   "outputs": [],
   "source": [
    "#답\n",
    "class Solution:\n",
    "    def maxProfit(self, prices: List[int]) -> int:\n",
    "        ans = 0\n",
    "        for i in range(len(prices)-1):\n",
    "            if prices[i] < max(prices[i+1:]):\n",
    "                temp = max(prices[i+1:]) - prices[i] \n",
    "                if ans < temp:\n",
    "                    ans = temp\n",
    "        return ans\n",
    "\n",
    "\n"
   ]
  }
 ],
 "metadata": {
  "kernelspec": {
   "display_name": "Python 3",
   "language": "python",
   "name": "python3"
  },
  "language_info": {
   "codemirror_mode": {
    "name": "ipython",
    "version": 3
   },
   "file_extension": ".py",
   "mimetype": "text/x-python",
   "name": "python",
   "nbconvert_exporter": "python",
   "pygments_lexer": "ipython3",
   "version": "3.7.6"
  }
 },
 "nbformat": 4,
 "nbformat_minor": 4
}
