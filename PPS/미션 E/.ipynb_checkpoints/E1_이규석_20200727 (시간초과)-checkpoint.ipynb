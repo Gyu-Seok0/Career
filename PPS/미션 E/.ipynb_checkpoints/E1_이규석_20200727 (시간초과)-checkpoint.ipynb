{
 "cells": [
  {
   "cell_type": "code",
   "execution_count": 10,
   "metadata": {},
   "outputs": [],
   "source": [
    "nums = [4,3,2,7,8,2,3,1]\n"
   ]
  },
  {
   "cell_type": "code",
   "execution_count": 11,
   "metadata": {},
   "outputs": [],
   "source": []
  },
  {
   "cell_type": "code",
   "execution_count": 12,
   "metadata": {},
   "outputs": [],
   "source": [
    "\n",
    "        "
   ]
  },
  {
   "cell_type": "code",
   "execution_count": null,
   "metadata": {},
   "outputs": [],
   "source": [
    "class Solution:\n",
    "    def findDisappearedNumbers(self, nums: List[int]) -> List[int]:\n",
    "        end = len(nums)\n",
    "        nums = list(set(nums))\n",
    "\n",
    "        for i in range(1,end+1):\n",
    "            if i in nums:\n",
    "                nums.remove(i)\n",
    "            else:\n",
    "                nums.append(i)\n",
    "        return nums"
   ]
  }
 ],
 "metadata": {
  "kernelspec": {
   "display_name": "Python 3",
   "language": "python",
   "name": "python3"
  },
  "language_info": {
   "codemirror_mode": {
    "name": "ipython",
    "version": 3
   },
   "file_extension": ".py",
   "mimetype": "text/x-python",
   "name": "python",
   "nbconvert_exporter": "python",
   "pygments_lexer": "ipython3",
   "version": "3.7.6"
  }
 },
 "nbformat": 4,
 "nbformat_minor": 4
}
