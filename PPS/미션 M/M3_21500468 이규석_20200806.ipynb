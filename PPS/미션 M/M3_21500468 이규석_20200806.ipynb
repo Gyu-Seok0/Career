{
 "cells": [
  {
   "cell_type": "markdown",
   "metadata": {},
   "source": [
    "### leetcode 392. Is Subsequence\n"
   ]
  },
  {
   "cell_type": "code",
   "execution_count": 32,
   "metadata": {},
   "outputs": [],
   "source": [
    "s = \"bb\"\n",
    "t = \"ahbgdc\""
   ]
  },
  {
   "cell_type": "code",
   "execution_count": 36,
   "metadata": {
    "scrolled": true
   },
   "outputs": [
    {
     "name": "stdout",
     "output_type": "stream",
     "text": [
      "false1\n",
      "true\n"
     ]
    }
   ],
   "source": [
    "class Solution:\n",
    "    def isSubsequence(self, s: str, t: str) -> bool:\n",
    "        temp = []\n",
    "        key = -1\n",
    "        for i in range(len(s)):\n",
    "            letter = s[i]\n",
    "            if letter not in t[key+1:]: #letter가 존재하지 않으면 바로 false\n",
    "                return False\n",
    "            else:\n",
    "                if i==0:\n",
    "                    key = t.index(letter) #for문이 처음으로 돌면,\n",
    "                else:\n",
    "                    if key == len(t)-1:  # len 마지막 값이라면,\n",
    "                        pass\n",
    "                    else:\n",
    "                        key = t.index(letter,key+1) #key+1이후로 다시 찾는다.\n",
    "                    \n",
    "                if temp == [] or temp[-1] < key: #이전 index값보다 큰지 확인.\n",
    "                    temp.append(key)\n",
    "                else:\n",
    "                    return False\n",
    "        return True"
   ]
  },
  {
   "cell_type": "markdown",
   "metadata": {},
   "source": [
    "너무 어려웠는데, 좋은 결과를 받았다. 뒤죽박죽으로 코딩을 해서 정리가 잘 안되지만\n",
    "풀었다는 것에 의의를 둔다. 아래는 수정 이후, runtime이 빨라졌다"
   ]
  },
  {
   "cell_type": "code",
   "execution_count": null,
   "metadata": {},
   "outputs": [],
   "source": [
    "class Solution:\n",
    "    def isSubsequence(self, s: str, t: str) -> bool:\n",
    "        temp = []\n",
    "        key = -1\n",
    "        for i in range(len(s)):\n",
    "            letter = s[i]\n",
    "            if letter not in t[key+1:]: #letter가 존재하지 않으면 바로 false\n",
    "                return False\n",
    "            else:\n",
    "                if key == len(t)-1:  # len 마지막 값이라면,\n",
    "                    pass\n",
    "                else:\n",
    "                    key = t.index(letter,key+1) #key+1이후로 다시 찾는다.\n",
    "                    \n",
    "                if temp == [] or temp[-1] < key: #이전 index값보다 큰지 확인.\n",
    "                    temp.append(key)\n",
    "                else:\n",
    "                    return False\n",
    "        return True"
   ]
  }
 ],
 "metadata": {
  "kernelspec": {
   "display_name": "Python 3",
   "language": "python",
   "name": "python3"
  },
  "language_info": {
   "codemirror_mode": {
    "name": "ipython",
    "version": 3
   },
   "file_extension": ".py",
   "mimetype": "text/x-python",
   "name": "python",
   "nbconvert_exporter": "python",
   "pygments_lexer": "ipython3",
   "version": "3.7.6"
  }
 },
 "nbformat": 4,
 "nbformat_minor": 4
}
