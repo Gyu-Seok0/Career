{
 "cells": [
  {
   "cell_type": "markdown",
   "metadata": {},
   "source": [
    "# leetcode682 BaseballGame "
   ]
  },
  {
   "cell_type": "code",
   "execution_count": null,
   "metadata": {},
   "outputs": [],
   "source": [
    "class Solution:\n",
    "    def calPoints(self, ops: List[str]) -> int:\n",
    "        round=[]\n",
    "        for i in range(len(ops)):\n",
    "            key = ops[i]\n",
    "            if key== \"C\":\n",
    "                round.pop()\n",
    "            elif key == \"D\":\n",
    "                round.append(round[-1]*2)\n",
    "            elif key == \"+\":\n",
    "                round.append(round[-1]+round[-2])\n",
    "            else:\n",
    "                round.append(int(key))\n",
    "        return sum(round)"
   ]
  },
  {
   "cell_type": "markdown",
   "metadata": {},
   "source": [
    "어렵진 않았다. 그저 문저설명이 복잡하다.\n",
    "round별로 획득한 점수를 append했고, 최종적으로 sum을 return하였다."
   ]
  }
 ],
 "metadata": {
  "kernelspec": {
   "display_name": "Python 3",
   "language": "python",
   "name": "python3"
  },
  "language_info": {
   "codemirror_mode": {
    "name": "ipython",
    "version": 3
   },
   "file_extension": ".py",
   "mimetype": "text/x-python",
   "name": "python",
   "nbconvert_exporter": "python",
   "pygments_lexer": "ipython3",
   "version": "3.7.6"
  }
 },
 "nbformat": 4,
 "nbformat_minor": 4
}
