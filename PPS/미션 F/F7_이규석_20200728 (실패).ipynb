{
 "cells": [
  {
   "cell_type": "markdown",
   "metadata": {},
   "source": [
    "# 백준 1107번 리모콘"
   ]
  },
  {
   "cell_type": "code",
   "execution_count": 35,
   "metadata": {},
   "outputs": [
    {
     "name": "stdout",
     "output_type": "stream",
     "text": [
      "500000\n",
      "8\n",
      "0 2 3 4 6 7 8 9\n"
     ]
    }
   ],
   "source": []
  },
  {
   "cell_type": "code",
   "execution_count": 2,
   "metadata": {},
   "outputs": [
    {
     "name": "stdout",
     "output_type": "stream",
     "text": [
      "5457\n",
      "3\n",
      "6 7 8\n",
      "6\n"
     ]
    }
   ],
   "source": [
    "channel = int(input())\n",
    "N = int(input())\n",
    "N_list = list(map(int,input().split()))\n",
    "check =  [0]*10\n",
    "temp = \"\"\n",
    "cnt = 0\n",
    "if abs(int(channel)-100) <=3:\n",
    "    ans = abs(int(channel)-100)\n",
    "else:\n",
    "    channel = str(channel)\n",
    "    for num in N_list:\n",
    "        check[num] =1\n",
    "    for i in range(len(channel)):\n",
    "        key = int(channel[i])\n",
    "        if check[key] != 1:\n",
    "            cnt +=1\n",
    "            temp += str(key)\n",
    "        else:\n",
    "            k = 1\n",
    "            while(1):\n",
    "                if check[key+k] != 1:\n",
    "                    cnt+=1\n",
    "                    temp += str(key+k)\n",
    "                    break\n",
    "                elif check[key-k] != 1:\n",
    "                    cnt+=1\n",
    "                    temp+= str(key-k)\n",
    "                    break\n",
    "                else:\n",
    "                    k+=1\n",
    "    cnt += abs(int(temp)-int(channel))\n",
    "print(cnt)"
   ]
  }
 ],
 "metadata": {
  "kernelspec": {
   "display_name": "Python 3",
   "language": "python",
   "name": "python3"
  },
  "language_info": {
   "codemirror_mode": {
    "name": "ipython",
    "version": 3
   },
   "file_extension": ".py",
   "mimetype": "text/x-python",
   "name": "python",
   "nbconvert_exporter": "python",
   "pygments_lexer": "ipython3",
   "version": "3.7.6"
  }
 },
 "nbformat": 4,
 "nbformat_minor": 4
}
