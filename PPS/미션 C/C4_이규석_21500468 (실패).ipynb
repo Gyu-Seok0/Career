{
 "cells": [
  {
   "cell_type": "code",
   "execution_count": null,
   "metadata": {},
   "outputs": [],
   "source": [
    "#삼중for문은 시간초과.. 코드길이도 너무 길다. 어떻게 할 수 있을까"
   ]
  },
  {
   "cell_type": "code",
   "execution_count": 2,
   "metadata": {},
   "outputs": [
    {
     "name": "stdout",
     "output_type": "stream",
     "text": [
      "5\n"
     ]
    }
   ],
   "source": [
    "N = int(input())"
   ]
  },
  {
   "cell_type": "code",
   "execution_count": 3,
   "metadata": {},
   "outputs": [
    {
     "name": "stdout",
     "output_type": "stream",
     "text": [
      "1 2\n",
      "2 1\n",
      "2 2\n",
      "2 3\n",
      "3 2\n"
     ]
    }
   ],
   "source": [
    "p =[]\n",
    "for i in range(N):\n",
    "    temp = list(map(int,input().split()))\n",
    "    p.append(temp)"
   ]
  },
  {
   "cell_type": "code",
   "execution_count": 4,
   "metadata": {},
   "outputs": [
    {
     "name": "stdout",
     "output_type": "stream",
     "text": [
      "4\n"
     ]
    }
   ],
   "source": [
    "cnt = 0\n",
    "for i in range(len(p)-2):\n",
    "    x1,y1 = p[i][0], p[i][1]\n",
    "    for j in range(i+1,len(p)-1):\n",
    "        x2,y2 = p[j][0],p[j][1]\n",
    "        for k in range(j+1,len(p)):\n",
    "            x3,y3 = p[k][0],p[k][1]\n",
    "            if x1==x2:\n",
    "                if y1==y3 or y2==y3:\n",
    "                    cnt+=1\n",
    "                    break\n",
    "            if y1==y2:\n",
    "                if x1==x3 or x2==x3:\n",
    "                    cnt+=1                 \n",
    "                    break\n",
    "            if x1!=x2 and y1!=y2:\n",
    "                if (x2==x3 and y1==y3) or (x1==x3 and y2==y3):\n",
    "                    cnt+=1            \n",
    "                    break\n",
    "        \n",
    "print(cnt)       "
   ]
  },
  {
   "cell_type": "code",
   "execution_count": 42,
   "metadata": {},
   "outputs": [
    {
     "name": "stdout",
     "output_type": "stream",
     "text": [
      "2\n",
      "x1,y1 1 2\n",
      "x2,y2 2 2\n",
      "x3,y3 3 2\n",
      "\n",
      "1\n",
      "x1,y1 2 1\n",
      "x2,y2 2 2\n",
      "x3,y3 3 2\n",
      "\n"
     ]
    },
    {
     "ename": "IndexError",
     "evalue": "pop index out of range",
     "output_type": "error",
     "traceback": [
      "\u001b[1;31m---------------------------------------------------------------------------\u001b[0m",
      "\u001b[1;31mIndexError\u001b[0m                                Traceback (most recent call last)",
      "\u001b[1;32m<ipython-input-42-adae62329a12>\u001b[0m in \u001b[0;36m<module>\u001b[1;34m\u001b[0m\n\u001b[0;32m      9\u001b[0m         \u001b[0my3_list\u001b[0m \u001b[1;33m=\u001b[0m \u001b[0mcopy\u001b[0m\u001b[1;33m.\u001b[0m\u001b[0mdeepcopy\u001b[0m\u001b[1;33m(\u001b[0m\u001b[0my_list\u001b[0m\u001b[1;33m[\u001b[0m\u001b[0mi\u001b[0m\u001b[1;33m+\u001b[0m\u001b[1;36m1\u001b[0m\u001b[1;33m:\u001b[0m\u001b[1;33m]\u001b[0m\u001b[1;33m)\u001b[0m\u001b[1;33m\u001b[0m\u001b[1;33m\u001b[0m\u001b[0m\n\u001b[0;32m     10\u001b[0m \u001b[1;33m\u001b[0m\u001b[0m\n\u001b[1;32m---> 11\u001b[1;33m         \u001b[0mx3_list\u001b[0m\u001b[1;33m.\u001b[0m\u001b[0mpop\u001b[0m\u001b[1;33m(\u001b[0m\u001b[0mt_index\u001b[0m\u001b[1;33m-\u001b[0m\u001b[1;36m1\u001b[0m\u001b[1;33m)\u001b[0m \u001b[1;31m#x2 y2제거\u001b[0m\u001b[1;33m\u001b[0m\u001b[1;33m\u001b[0m\u001b[0m\n\u001b[0m\u001b[0;32m     12\u001b[0m         \u001b[0my3_list\u001b[0m\u001b[1;33m.\u001b[0m\u001b[0mpop\u001b[0m\u001b[1;33m(\u001b[0m\u001b[0mt_index\u001b[0m\u001b[1;33m-\u001b[0m\u001b[1;36m1\u001b[0m\u001b[1;33m)\u001b[0m\u001b[1;33m\u001b[0m\u001b[1;33m\u001b[0m\u001b[0m\n\u001b[0;32m     13\u001b[0m         \u001b[1;32mif\u001b[0m \u001b[1;33m(\u001b[0m\u001b[0my1\u001b[0m \u001b[1;32min\u001b[0m \u001b[0my3_list\u001b[0m\u001b[1;33m)\u001b[0m \u001b[1;32mor\u001b[0m \u001b[1;33m(\u001b[0m\u001b[0my2\u001b[0m \u001b[1;32min\u001b[0m \u001b[0my3_list\u001b[0m\u001b[1;33m)\u001b[0m\u001b[1;33m:\u001b[0m\u001b[1;33m\u001b[0m\u001b[1;33m\u001b[0m\u001b[0m\n",
      "\u001b[1;31mIndexError\u001b[0m: pop index out of range"
     ]
    }
   ],
   "source": [
    "import copy\n",
    "cnt = 0\n",
    "for i in range(N):\n",
    "    x1,y1 = x_list[i], y_list[i]\n",
    "    if x1 in x_list[i+1:]:\n",
    "        t_index = x_list.index(x1,i+1)\n",
    "        x2,y2 = x_list[t_index], y_list[t_index]\n",
    "        x3_list = copy.deepcopy(x_list[i+1:])  #x1, y1제거\n",
    "        y3_list = copy.deepcopy(y_list[i+1:])\n",
    "        \n",
    "        x3_list.pop(t_index-1) #x2 y2제거\n",
    "        y3_list.pop(t_index-1)\n",
    "        if (y1 in y3_list) or (y2 in y3_list):\n",
    "            print(1)\n",
    "            print('x1,y1',x1,y1)\n",
    "            print('x2,y2',x2,y2)\n",
    "            print('x3,y3',x3,y3)\n",
    "            print()\n",
    "            cnt+=1\n",
    "    elif y1 in y_list[i+1:]:\n",
    "        t_index = y_list.index(y1,i+1)\n",
    "        x2,y2 = x_list[t_index], y_list[t_index]\n",
    "        x3_list = copy.deepcopy(x_list[i+1:])  #x1, y1제거\n",
    "        y3_list = copy.deepcopy(y_list[i+1:])\n",
    "        \n",
    "        x3_list.pop(t_index-1) #x2 y2제거\n",
    "        y3_list.pop(t_index-1)\n",
    "        if (x1 in x3_list) or (x2 in x3_list):\n",
    "            print(2)\n",
    "            print('x1,y1',x1,y1)\n",
    "            print('x2,y2',x2,y2)\n",
    "            print('x3,y3',x3,y3)\n",
    "            print()\n",
    "            cnt+=1\n",
    "    \n",
    "#어떻게 하면 좋을지 모르겠다.        "
   ]
  }
 ],
 "metadata": {
  "kernelspec": {
   "display_name": "Python 3",
   "language": "python",
   "name": "python3"
  },
  "language_info": {
   "codemirror_mode": {
    "name": "ipython",
    "version": 3
   },
   "file_extension": ".py",
   "mimetype": "text/x-python",
   "name": "python",
   "nbconvert_exporter": "python",
   "pygments_lexer": "ipython3",
   "version": "3.7.6"
  }
 },
 "nbformat": 4,
 "nbformat_minor": 4
}
