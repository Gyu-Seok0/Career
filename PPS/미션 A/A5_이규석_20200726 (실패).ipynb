{
 "cells": [
  {
   "cell_type": "code",
   "execution_count": null,
   "metadata": {},
   "outputs": [],
   "source": [
    "T = int(input())\n",
    "for i in range(T):\n",
    "    n,m = map(int,input().split())\n",
    "    A = []\n",
    "    for i in range(n):\n",
    "        temp = list(map(int,input().split()))\n",
    "        A.append(temp)           \n",
    "    \n",
    "    flag = True\n",
    "    i=0\n",
    "    j=0\n",
    "    while(i != n):\n",
    "        \n",
    "        for k in range(i,n):\n",
    "            for l in range(j,m):\n",
    "                if not A[k][l]-A[k][j] <= A[i][l]-A[i][j]:\n",
    "                    flag =False\n",
    "                    print(\"N0\")\n",
    "                    continue\n",
    "            if j< m:   \n",
    "                j+=1\n",
    "            elif j>= m:\n",
    "                i+=1\n",
    "                j=0\n",
    "    if flag == False:\n",
    "        print(\"YES\")\n",
    "        \n"
   ]
  }
 ],
 "metadata": {
  "kernelspec": {
   "display_name": "Python 3",
   "language": "python",
   "name": "python3"
  },
  "language_info": {
   "codemirror_mode": {
    "name": "ipython",
    "version": 3
   },
   "file_extension": ".py",
   "mimetype": "text/x-python",
   "name": "python",
   "nbconvert_exporter": "python",
   "pygments_lexer": "ipython3",
   "version": "3.7.6"
  }
 },
 "nbformat": 4,
 "nbformat_minor": 4
}
