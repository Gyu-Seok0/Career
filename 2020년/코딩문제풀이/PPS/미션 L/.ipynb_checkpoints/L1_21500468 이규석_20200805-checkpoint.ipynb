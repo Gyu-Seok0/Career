{
 "cells": [
  {
   "cell_type": "markdown",
   "metadata": {},
   "source": [
    "https://programmers.co.kr/learn/courses/30/lessons/12901?language=python3\n",
    "코딩테스트 문제이다.\n",
    "2016년(윤년)에 1/1이 금요일이다. 이때 month와 date가 주어지면 무슨 요일인지 맞춘다.\n",
    "\n",
    "윤년 --> 2월이 29일인 년을 의미한다.\n",
    "1월 = 31일, 2월 = 29일, 3월= 31일, 4월= 30일, 5월 = 31일, 6월 30일, 7월 31일\n",
    "(여기서 부터 바뀜)\n",
    "8월 = 31일, 9월= 30일, 10월 = 31일, 11월 30일, 12월 31일\n",
    "\n",
    "이렇게 기본적인 내용을 이해하고 나면, 쉽게 문제를 풀어나갈 수 있다."
   ]
  },
  {
   "cell_type": "code",
   "execution_count": 11,
   "metadata": {},
   "outputs": [
    {
     "name": "stdout",
     "output_type": "stream",
     "text": [
      "TUE\n"
     ]
    }
   ],
   "source": [
    "def solution(a, b):\n",
    "    month , date = a,b\n",
    "    day = [\"SUN\",\"MON\",\"TUE\",\"WED\",\"THU\",\"FRI\",\"SAT\"]\n",
    "    cnt = 0\n",
    "    for i in range(1,month):\n",
    "        if i==2:\n",
    "            cnt+= 29\n",
    "        elif i%2==1:\n",
    "            if i<=7:\n",
    "                cnt+= 31\n",
    "            else:\n",
    "                cnt+=30\n",
    "        elif i%2==0:\n",
    "            if i<=7:\n",
    "                cnt+=30\n",
    "            else:\n",
    "                cnt+=31\n",
    "    cnt += date\n",
    "    answer = day[(cnt%7+4)%7] #+5가 아닌 4인 이유는, 일주일은 월~일(7일)이기 떄문에, 다음 월요일은 8일쨰 되는 날에 도래한다. 이를 계산하기 위해서 +4\n",
    "    return answer\n",
    "        \n"
   ]
  }
 ],
 "metadata": {
  "kernelspec": {
   "display_name": "Python 3",
   "language": "python",
   "name": "python3"
  },
  "language_info": {
   "codemirror_mode": {
    "name": "ipython",
    "version": 3
   },
   "file_extension": ".py",
   "mimetype": "text/x-python",
   "name": "python",
   "nbconvert_exporter": "python",
   "pygments_lexer": "ipython3",
   "version": "3.7.6"
  }
 },
 "nbformat": 4,
 "nbformat_minor": 4
}
