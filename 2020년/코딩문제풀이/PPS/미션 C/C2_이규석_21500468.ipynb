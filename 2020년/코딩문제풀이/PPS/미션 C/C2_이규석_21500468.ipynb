{
 "cells": [
  {
   "cell_type": "markdown",
   "metadata": {},
   "source": [
    "# 백준 2783번 삼각김밥"
   ]
  },
  {
   "cell_type": "code",
   "execution_count": 4,
   "metadata": {},
   "outputs": [
    {
     "name": "stdout",
     "output_type": "stream",
     "text": [
      "5 100\n",
      "3\n",
      "4 100\n",
      "3 100\n",
      "7 100\n",
      "30.0\n"
     ]
    }
   ],
   "source": [
    "A,B = map(int,input().split())\n",
    "cost = 1000/B *A\n",
    "\n",
    "N = int(input())\n",
    "for i in range(N):\n",
    "    x,y = map(int,input().split())\n",
    "    temp = 1000/y*x\n",
    "    if temp < cost:\n",
    "        cost = temp\n",
    "print(cost)\n",
    "\n"
   ]
  }
 ],
 "metadata": {
  "kernelspec": {
   "display_name": "Python 3",
   "language": "python",
   "name": "python3"
  },
  "language_info": {
   "codemirror_mode": {
    "name": "ipython",
    "version": 3
   },
   "file_extension": ".py",
   "mimetype": "text/x-python",
   "name": "python",
   "nbconvert_exporter": "python",
   "pygments_lexer": "ipython3",
   "version": "3.7.6"
  }
 },
 "nbformat": 4,
 "nbformat_minor": 4
}
