{
 "cells": [
  {
   "cell_type": "markdown",
   "metadata": {},
   "source": []
  },
  {
   "cell_type": "code",
   "execution_count": 36,
   "metadata": {},
   "outputs": [
    {
     "name": "stdout",
     "output_type": "stream",
     "text": [
      "j 1\n",
      "j 2\n",
      "j 3\n",
      "j 4\n",
      "2\n"
     ]
    }
   ],
   "source": [
    "nums = [2,-1,1,1]\n",
    "\n",
    "index = nums.index(max(nums))\n",
    "temp = max(nums)\n",
    "\n",
    "for i in range(index+1):\n",
    "    if temp < sum(nums[i:index+1]):\n",
    "        temp = sum(nums[i:index+1])\n",
    "for j in range(index+1,len(nums)+1):\n",
    "    if temp < sum(nums[index:j]):\n",
    "        temp = sum(nums[index:j])\n",
    "\n"
   ]
  },
  {
   "cell_type": "code",
   "execution_count": 37,
   "metadata": {},
   "outputs": [
    {
     "data": {
      "text/plain": [
       "3"
      ]
     },
     "execution_count": 37,
     "metadata": {},
     "output_type": "execute_result"
    }
   ],
   "source": [
    "temp"
   ]
  }
 ],
 "metadata": {
  "kernelspec": {
   "display_name": "Python 3",
   "language": "python",
   "name": "python3"
  },
  "language_info": {
   "codemirror_mode": {
    "name": "ipython",
    "version": 3
   },
   "file_extension": ".py",
   "mimetype": "text/x-python",
   "name": "python",
   "nbconvert_exporter": "python",
   "pygments_lexer": "ipython3",
   "version": "3.7.6"
  }
 },
 "nbformat": 4,
 "nbformat_minor": 4
}
