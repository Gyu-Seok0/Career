{
 "cells": [
  {
   "cell_type": "code",
   "execution_count": null,
   "metadata": {},
   "outputs": [],
   "source": [
    "import sys\n",
    "E,S,M = map(int,sys.stdin.readline().split())"
   ]
  },
  {
   "cell_type": "code",
   "execution_count": 7,
   "metadata": {},
   "outputs": [
    {
     "name": "stdout",
     "output_type": "stream",
     "text": [
      "15 28 19\n",
      "7980\n"
     ]
    }
   ],
   "source": [
    "E,S,M = map(int,input().split())\n",
    "\n",
    "year = 0\n",
    "temp_e = 0\n",
    "temp_s = 0\n",
    "temp_m = 0\n",
    "\n",
    "while(temp_e != E or temp_s !=S or temp_m != M):\n",
    "    year +=1\n",
    "    temp_e += 1\n",
    "    temp_s += 1\n",
    "    temp_m += 1\n",
    "    \n",
    "    if temp_e >15:\n",
    "        temp_e = 1\n",
    "    if temp_s >28:\n",
    "        temp_s = 1\n",
    "    if temp_m >19:\n",
    "        temp_m = 1\n",
    "print(year)"
   ]
  }
 ],
 "metadata": {
  "kernelspec": {
   "display_name": "Python 3",
   "language": "python",
   "name": "python3"
  },
  "language_info": {
   "codemirror_mode": {
    "name": "ipython",
    "version": 3
   },
   "file_extension": ".py",
   "mimetype": "text/x-python",
   "name": "python",
   "nbconvert_exporter": "python",
   "pygments_lexer": "ipython3",
   "version": "3.7.6"
  }
 },
 "nbformat": 4,
 "nbformat_minor": 4
}
