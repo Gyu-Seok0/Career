{
 "cells": [
  {
   "cell_type": "markdown",
   "metadata": {},
   "source": [
    "### https://www.codeground.org/practice/practiceProblemViewNew\n",
    "### 3번문제  _시험공부"
   ]
  },
  {
   "cell_type": "code",
   "execution_count": 9,
   "metadata": {},
   "outputs": [
    {
     "name": "stdout",
     "output_type": "stream",
     "text": [
      "4 2\n",
      "20 50 30 30\n",
      "Case #1\n",
      "80\n"
     ]
    }
   ],
   "source": [
    "#시간초과 코드\n",
    "T = 1\n",
    "for t in range(0, int(T)):\n",
    "    N,K = map(int,input().split())\n",
    "    subject = list(map(int,input().split()))\n",
    "    cnt = 0\n",
    "    Answer=0\n",
    "    while(cnt != K):\n",
    "        Answer += max(subject)\n",
    "        subject.remove(max(subject))\n",
    "        cnt+=1\n",
    "    # Print the answer to standard output(screen).\n",
    "    print('Case #%d' %(int(t)+1))    \n",
    "    print(Answer)"
   ]
  },
  {
   "cell_type": "code",
   "execution_count": 13,
   "metadata": {},
   "outputs": [
    {
     "name": "stdout",
     "output_type": "stream",
     "text": [
      "4 2\n",
      "20 50 30 30\n",
      "Case #1\n",
      "80\n"
     ]
    }
   ],
   "source": [
    "#만점 코드\n",
    "T = 1\n",
    "for t in range(0, int(T)):\n",
    "    N,K = map(int,input().split())\n",
    "    subject = list(map(int,input().split()))\n",
    "    subject = sorted(subject)\n",
    "    Answer = sum(subject[len(subject)-K:])\n",
    "    # Print the answer to standard output(screen).\n",
    "    print('Case #%d' %(int(t)+1))    \n",
    "    print(Answer)"
   ]
  },
  {
   "cell_type": "markdown",
   "metadata": {},
   "source": [
    "처음에 시간초과가 걸렸다.\n",
    "아무래도, while문과 max를 쓰다보니 시간복잡도가 늘어난 것 같다.\n",
    "그래서 아래 코드처럼, sorted를 시키고, 뒤에서부터 k개의 과목을 더하는 방식으로 문제를\n",
    "풀었더니 만점이 나왔다."
   ]
  }
 ],
 "metadata": {
  "kernelspec": {
   "display_name": "Python 3",
   "language": "python",
   "name": "python3"
  },
  "language_info": {
   "codemirror_mode": {
    "name": "ipython",
    "version": 3
   },
   "file_extension": ".py",
   "mimetype": "text/x-python",
   "name": "python",
   "nbconvert_exporter": "python",
   "pygments_lexer": "ipython3",
   "version": "3.7.6"
  }
 },
 "nbformat": 4,
 "nbformat_minor": 4
}
