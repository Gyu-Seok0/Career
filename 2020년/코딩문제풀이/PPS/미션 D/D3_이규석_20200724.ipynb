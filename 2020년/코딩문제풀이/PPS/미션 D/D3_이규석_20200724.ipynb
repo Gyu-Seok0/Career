{
 "cells": [
  {
   "cell_type": "code",
   "execution_count": null,
   "metadata": {},
   "outputs": [],
   "source": [
    "T = int(input())\n",
    "\n",
    "for i in range(T):\n",
    "    k = int(input())\n",
    "    n = int(input())\n",
    "    floor = [] \n",
    "    for i in range(k+1): #0~k층\n",
    "        temp = []\n",
    "        cnt = 0\n",
    "        for j in range(1,n+1): #1호부터 n호\n",
    "            if i==0:\n",
    "                temp.append(j)\n",
    "            else:\n",
    "                cnt= sum(floor[i-1][:j])\n",
    "                temp.append(cnt)\n",
    "        floor.append(temp)\n",
    "\n",
    "    print(floor[k][n-1])"
   ]
  },
  {
   "cell_type": "code",
   "execution_count": null,
   "metadata": {
    "scrolled": true
   },
   "outputs": [],
   "source": [
    "apt = [[0]*14 for i in range(15)]\n",
    "\n",
    "for i in range(15):\n",
    "    for j in range(14):\n",
    "        if i==0:\n",
    "            apt[i][j] = j+1\n",
    "        else:\n",
    "            for n in range(j+1):\n",
    "                apt[i][j] += apt[i-1][n]\n",
    "                \n",
    "num = int(input())\n",
    "for i in range(num):\n",
    "    k = int(input())\n",
    "    n = int(input())\n",
    "    print(apt[k][n-1])"
   ]
  }
 ],
 "metadata": {
  "kernelspec": {
   "display_name": "Python 3",
   "language": "python",
   "name": "python3"
  },
  "language_info": {
   "codemirror_mode": {
    "name": "ipython",
    "version": 3
   },
   "file_extension": ".py",
   "mimetype": "text/x-python",
   "name": "python",
   "nbconvert_exporter": "python",
   "pygments_lexer": "ipython3",
   "version": "3.7.6"
  }
 },
 "nbformat": 4,
 "nbformat_minor": 4
}
