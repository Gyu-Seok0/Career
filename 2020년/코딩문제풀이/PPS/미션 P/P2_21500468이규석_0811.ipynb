{
 "cells": [
  {
   "cell_type": "markdown",
   "metadata": {},
   "source": [
    "### 백준 17211번 좋은날 싫은날"
   ]
  },
  {
   "cell_type": "code",
   "execution_count": 20,
   "metadata": {},
   "outputs": [
    {
     "name": "stdout",
     "output_type": "stream",
     "text": [
      "2 1\n",
      "0.7 0.3 0.5 0.5\n",
      "600\n",
      "400\n"
     ]
    }
   ],
   "source": [
    "N,k = map(int,input().split())\n",
    "GG,GB,BG,BB = map(float,input().split())\n",
    "cnt = 0\n",
    "\n",
    "while (cnt < N):\n",
    "    if cnt == 0:\n",
    "        if k==1:\n",
    "            G = BG\n",
    "            B = BB\n",
    "        else:\n",
    "            G = GG\n",
    "            B = GB\n",
    "    else:\n",
    "        before_G = G             # 아래 정확한 계산을 위해!\n",
    "        G = G*GG + B*BG\n",
    "        B = before_G*GB + B*BB  #그냥 G*GB를 쓰면 바로 위 식에서 수정된 G값이 계산되서 계산 오차발생.\n",
    "    cnt +=1\n",
    "\n",
    "print(round(G*1000))\n",
    "print(round(B*1000))"
   ]
  }
 ],
 "metadata": {
  "kernelspec": {
   "display_name": "Python 3",
   "language": "python",
   "name": "python3"
  },
  "language_info": {
   "codemirror_mode": {
    "name": "ipython",
    "version": 3
   },
   "file_extension": ".py",
   "mimetype": "text/x-python",
   "name": "python",
   "nbconvert_exporter": "python",
   "pygments_lexer": "ipython3",
   "version": "3.7.6"
  }
 },
 "nbformat": 4,
 "nbformat_minor": 4
}
