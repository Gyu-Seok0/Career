{
 "cells": [
  {
   "cell_type": "markdown",
   "metadata": {},
   "source": [
    "# leetcode Roman to Integer"
   ]
  },
  {
   "cell_type": "code",
   "execution_count": 3,
   "metadata": {},
   "outputs": [
    {
     "data": {
      "text/plain": [
       "1994"
      ]
     },
     "execution_count": 3,
     "metadata": {},
     "output_type": "execute_result"
    }
   ],
   "source": [
    "class Solution:\n",
    "    def romanToInt(self, s: str) -> int:\n",
    "        cnt = 0\n",
    "        index = 0\n",
    "        for letter in s:\n",
    "            if letter == 'I':\n",
    "                if s[index:].find(letter) < s[index:].find('V') or s[index:].find(letter) < s[index:].find('X'):\n",
    "                    cnt-=1\n",
    "                else:\n",
    "                    cnt+=1\n",
    "            elif letter == \"V\":\n",
    "                cnt += 5\n",
    "            elif letter == \"X\":\n",
    "                if s[index:].find(letter) < s[index:].find('L') or s[index:].find(letter) < s[index:].find('C'):\n",
    "                    cnt-=10\n",
    "                else:\n",
    "                    cnt += 10\n",
    "            elif letter == \"L\":\n",
    "                cnt += 50\n",
    "            elif letter == \"C\":\n",
    "                if s[index:].find(letter) < s[index:].find('D') or s[index:].find(letter) < s[index:].find('M'):\n",
    "                    cnt-=100\n",
    "                else:\n",
    "                    cnt += 100\n",
    "            elif letter == \"D\":\n",
    "                cnt += 500\n",
    "            elif letter == \"M\":\n",
    "                cnt += 1000\n",
    "            index+=1\n",
    "        return cnt\n",
    "s =  Solution()\n",
    "s.romanToInt(\"III\")\n",
    "s.romanToInt(\"MCMXCIV\")  "
   ]
  }
 ],
 "metadata": {
  "kernelspec": {
   "display_name": "Python 3",
   "language": "python",
   "name": "python3"
  },
  "language_info": {
   "codemirror_mode": {
    "name": "ipython",
    "version": 3
   },
   "file_extension": ".py",
   "mimetype": "text/x-python",
   "name": "python",
   "nbconvert_exporter": "python",
   "pygments_lexer": "ipython3",
   "version": "3.7.6"
  }
 },
 "nbformat": 4,
 "nbformat_minor": 4
}
