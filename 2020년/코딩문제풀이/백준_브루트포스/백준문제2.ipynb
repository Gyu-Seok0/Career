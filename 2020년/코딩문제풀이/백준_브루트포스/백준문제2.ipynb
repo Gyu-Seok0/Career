{
 "cells": [
  {
   "cell_type": "code",
   "execution_count": null,
   "metadata": {},
   "outputs": [],
   "source": [
    "import collections\n",
    "\n",
    "n = int(input())\n",
    "\n",
    "number=collections.deque([])\n",
    "for i in range(n):\n",
    "    command = input()\n",
    "    temp = command.split()\n",
    "    if temp[0]== 'push':\n",
    "        number.append(temp[1])\n",
    "        \n",
    "    elif temp[0] == 'pop':\n",
    "        if len(number) == 0:\n",
    "            print(-1)\n",
    "        else:\n",
    "            print(number[0])\n",
    "            number.pop(0)\n",
    "    \n",
    "    elif temp[0] == 'size':\n",
    "        print(len(number))\n",
    "    elif temp[0] == 'empty':\n",
    "        if len(number) == 0:\n",
    "            print(1)\n",
    "        else:\n",
    "            print(0)\n",
    "    elif temp[0] == 'front':\n",
    "        if len(number) == 0:\n",
    "            print(-1)\n",
    "        else:\n",
    "            print(number[0])\n",
    "            \n",
    "    elif temp[0] == 'back':\n",
    "        if len(number) == 0:\n",
    "            print(-1)\n",
    "        else:\n",
    "            print(number[len(number)-1])"
   ]
  },
  {
   "cell_type": "code",
   "execution_count": null,
   "metadata": {},
   "outputs": [],
   "source": [
    "print(command)"
   ]
  },
  {
   "cell_type": "code",
   "execution_count": null,
   "metadata": {},
   "outputs": [],
   "source": [
    "print(command.split())"
   ]
  },
  {
   "cell_type": "code",
   "execution_count": null,
   "metadata": {},
   "outputs": [],
   "source": [
    "a = 'pop'\n",
    "\n",
    "print(a.split())"
   ]
  },
  {
   "cell_type": "code",
   "execution_count": null,
   "metadata": {},
   "outputs": [],
   "source": [
    "import collections\n",
    "\n",
    "deq = collections.deque([1,2,3])\n",
    "print(deq)"
   ]
  },
  {
   "cell_type": "code",
   "execution_count": null,
   "metadata": {},
   "outputs": [],
   "source": [
    "deq"
   ]
  },
  {
   "cell_type": "code",
   "execution_count": null,
   "metadata": {},
   "outputs": [],
   "source": [
    "deq= collections.deque([4])\n",
    "print(deq)"
   ]
  },
  {
   "cell_type": "code",
   "execution_count": null,
   "metadata": {},
   "outputs": [],
   "source": []
  }
 ],
 "metadata": {
  "kernelspec": {
   "display_name": "Python 3",
   "language": "python",
   "name": "python3"
  },
  "language_info": {
   "codemirror_mode": {
    "name": "ipython",
    "version": 3
   },
   "file_extension": ".py",
   "mimetype": "text/x-python",
   "name": "python",
   "nbconvert_exporter": "python",
   "pygments_lexer": "ipython3",
   "version": "3.7.6"
  }
 },
 "nbformat": 4,
 "nbformat_minor": 4
}
