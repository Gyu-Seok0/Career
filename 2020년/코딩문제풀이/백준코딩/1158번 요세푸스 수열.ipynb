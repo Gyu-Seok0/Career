{
 "cells": [
  {
   "cell_type": "markdown",
   "metadata": {},
   "source": [
    "# 1158"
   ]
  },
  {
   "cell_type": "code",
   "execution_count": 46,
   "metadata": {},
   "outputs": [
    {
     "name": "stdout",
     "output_type": "stream",
     "text": [
      "7 3\n",
      "<3, 6, 2, 7, 5, 1, 4>\n"
     ]
    }
   ],
   "source": [
    "N,k = input().split()\n",
    "N = int(N)\n",
    "k = int(k)\n",
    "ok = k\n",
    "\n",
    "answer = []\n",
    "circle = [int(x) for x in range(1, N+1)]\n",
    "check = [0 for i in range(N)]\n",
    "\n",
    "for i in range(N):\n",
    "    answer.append(circle[k-1])\n",
    "    circle.pop(k-1)\n",
    "    k = k+ok-1 # k= k-1 과 k= k+ok이 융합 (k-1은 pop을 하면서 자리수가 감소 되서)\n",
    "    while( k> len(circle) and len(circle) !=0):\n",
    "        k = k-len(circle)\n",
    "\n",
    "print('<', end='')\n",
    "print(', '.join(map(str,answer)),end='')\n",
    "print('>')"
   ]
  }
 ],
 "metadata": {
  "kernelspec": {
   "display_name": "Python 3",
   "language": "python",
   "name": "python3"
  },
  "language_info": {
   "codemirror_mode": {
    "name": "ipython",
    "version": 3
   },
   "file_extension": ".py",
   "mimetype": "text/x-python",
   "name": "python",
   "nbconvert_exporter": "python",
   "pygments_lexer": "ipython3",
   "version": "3.7.6"
  }
 },
 "nbformat": 4,
 "nbformat_minor": 4
}
