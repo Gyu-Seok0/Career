{
 "cells": [
  {
   "cell_type": "markdown",
   "metadata": {},
   "source": [
    "# 10845번 큐"
   ]
  },
  {
   "cell_type": "code",
   "execution_count": null,
   "metadata": {},
   "outputs": [],
   "source": [
    "#N = int(input())\n",
    "import sys\n",
    "N = int(sys.stdin.readline())"
   ]
  },
  {
   "cell_type": "code",
   "execution_count": null,
   "metadata": {},
   "outputs": [],
   "source": [
    "start = 0\n",
    "end = -1\n",
    "queue=[]\n",
    "for i in range(N):\n",
    "    com = sys.stdin.readline().strip().split()\n",
    "    if com[0] == 'push':\n",
    "        queue.append(com[1])\n",
    "        end+=1\n",
    "    if com[0] == 'pop':\n",
    "        if len(queue) !=0:\n",
    "            print(queue[start])\n",
    "            queue.pop(start)\n",
    "            end-=1\n",
    "        else:\n",
    "            print(-1)\n",
    "    if com[0] == 'size':\n",
    "        print(len(queue))\n",
    "    if com[0] == 'empty':\n",
    "        if len(queue) == 0:\n",
    "            print(1)\n",
    "        else:\n",
    "            print(0)\n",
    "    if com[0] == 'front':\n",
    "        if len(queue) !=0:\n",
    "            print(queue[start])\n",
    "        else:\n",
    "            print(-1)\n",
    "    if com[0] == 'back':\n",
    "        if len(queue) !=0:\n",
    "            print(queue[end])\n",
    "        else:\n",
    "            print(-1)"
   ]
  }
 ],
 "metadata": {
  "kernelspec": {
   "display_name": "Python 3",
   "language": "python",
   "name": "python3"
  },
  "language_info": {
   "codemirror_mode": {
    "name": "ipython",
    "version": 3
   },
   "file_extension": ".py",
   "mimetype": "text/x-python",
   "name": "python",
   "nbconvert_exporter": "python",
   "pygments_lexer": "ipython3",
   "version": "3.7.6"
  }
 },
 "nbformat": 4,
 "nbformat_minor": 4
}
