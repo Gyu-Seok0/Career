{
 "cells": [
  {
   "cell_type": "markdown",
   "metadata": {},
   "source": [
    "# 1463번 1로 만들기"
   ]
  },
  {
   "cell_type": "code",
   "execution_count": 31,
   "metadata": {},
   "outputs": [
    {
     "name": "stdout",
     "output_type": "stream",
     "text": [
      "571\n",
      "9\n"
     ]
    }
   ],
   "source": [
    "N = int(input())\n",
    "count = [0 for i in range(N+1)]\n",
    "\n",
    "def min_cnt(n):\n",
    "    if n==1:\n",
    "        return 0\n",
    "    elif n<=3:\n",
    "        return 1\n",
    "    else:\n",
    "        for num in range(1,n+1):\n",
    "            if num <=3:\n",
    "                count[num] = 1\n",
    "            else:\n",
    "                count[num] = count[num-1]+1 #1로 뺸거\n",
    "                if num%3 == 0:\n",
    "                    temp1 = count[num//3] +1 #3으로 나누는거\n",
    "                    if count[num] > temp1:\n",
    "                        count[num] = temp1\n",
    "                if num%2 == 0:\n",
    "                    temp2 = count[num//2] +1\n",
    "                    if count[num] >temp2:\n",
    "                        count[num] = temp2\n",
    "    return count[n]\n",
    "print(min_cnt(N))\n",
    "\n"
   ]
  }
 ],
 "metadata": {
  "kernelspec": {
   "display_name": "Python 3",
   "language": "python",
   "name": "python3"
  },
  "language_info": {
   "codemirror_mode": {
    "name": "ipython",
    "version": 3
   },
   "file_extension": ".py",
   "mimetype": "text/x-python",
   "name": "python",
   "nbconvert_exporter": "python",
   "pygments_lexer": "ipython3",
   "version": "3.7.6"
  }
 },
 "nbformat": 4,
 "nbformat_minor": 4
}
