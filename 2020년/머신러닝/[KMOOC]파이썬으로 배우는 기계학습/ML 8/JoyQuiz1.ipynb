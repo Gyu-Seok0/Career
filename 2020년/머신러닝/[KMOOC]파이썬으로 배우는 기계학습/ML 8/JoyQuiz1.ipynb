{
 "cells": [
  {
   "cell_type": "markdown",
   "metadata": {},
   "source": [
    "# 다층 구조 인공신경망\n",
    "http://www.kmooc.kr/courses/course-v1:HGUk+HGU05+2020_T1/courseware/aeed73d9d6ef4ef4afb6e67c1cebb468/3dd845b6c40c454693fcb129a9ba2e14/?child=first"
   ]
  },
  {
   "cell_type": "code",
   "execution_count": 11,
   "metadata": {},
   "outputs": [
    {
     "name": "stdout",
     "output_type": "stream",
     "text": [
      "yhat: [0.6586349  0.58051912]\n"
     ]
    }
   ],
   "source": [
    "#quiz1\n",
    "import numpy as np\n",
    "#활성화함수\n",
    "g = lambda x:1/(1+np.exp(-x))\n",
    "\n",
    "#입력층에서 1층으로\n",
    "x= np.array([1,0])\n",
    "w1 = np.array([[0.1,0.4],[0.2,0.2],[0.3,0.0]])\n",
    "z1 = np.dot(w1,x)\n",
    "a1 = g(z1)\n",
    "\n",
    "#1층에서 2층으로\n",
    "w2 = np.array([[0.5, 0.3, 0.4], [0.3, 0.2, 0.1]])\n",
    "z2 = np.dot(w2,a1)\n",
    "a2 = g(z2)\n",
    "\n",
    "\n",
    "yhat = a2\n",
    "\n",
    "print(\"yhat:\", yhat)"
   ]
  },
  {
   "cell_type": "code",
   "execution_count": 17,
   "metadata": {},
   "outputs": [
    {
     "name": "stdout",
     "output_type": "stream",
     "text": [
      "[0.77 0.9 ]\n"
     ]
    }
   ],
   "source": [
    "#quiz2\n",
    "\n",
    "import numpy as np\n",
    "#활성화함수\n",
    "\n",
    "\n",
    "#입력층에서 1층으로\n",
    "x= np.array([1,0])\n",
    "w1 = np.array([[0.1,0.4],[0.2,0.2],[0.3,0.0]])\n",
    "z1 = np.dot(w1,x)\n",
    "a1 = np.where(z1>0,z1,0) #렐루 함수 구현 완료\n",
    "\n",
    "#1층에서 2층으로\n",
    "w2 = np.array([[0.5, 0.3, 0.4], [0.3, 0.2, 0.1]])\n",
    "z2 = np.dot(w2,a1)\n",
    "a2 = np.where(z2>0,z2,0)\n",
    "\n",
    "#error를 계산해보자\n",
    "yhat = a2\n",
    "y = np.array([1,1])\n",
    "error = y-yhat\n",
    "print(error)\n"
   ]
  },
  {
   "cell_type": "code",
   "execution_count": 19,
   "metadata": {},
   "outputs": [
    {
     "name": "stdout",
     "output_type": "stream",
     "text": [
      "[0.655 0.411 0.398]\n"
     ]
    }
   ],
   "source": [
    "#quiz3\n",
    "e1 = np.dot(w2.transpose(),error)  #은닉층의 error\n",
    "\n",
    "print(e1)"
   ]
  }
 ],
 "metadata": {
  "kernelspec": {
   "display_name": "Python 3",
   "language": "python",
   "name": "python3"
  },
  "language_info": {
   "codemirror_mode": {
    "name": "ipython",
    "version": 3
   },
   "file_extension": ".py",
   "mimetype": "text/x-python",
   "name": "python",
   "nbconvert_exporter": "python",
   "pygments_lexer": "ipython3",
   "version": "3.7.6"
  }
 },
 "nbformat": 4,
 "nbformat_minor": 4
}
