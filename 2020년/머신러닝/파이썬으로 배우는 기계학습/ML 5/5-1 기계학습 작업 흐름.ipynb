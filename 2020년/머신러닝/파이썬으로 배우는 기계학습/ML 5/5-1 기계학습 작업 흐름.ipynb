{
 "cells": [
  {
   "cell_type": "markdown",
   "metadata": {},
   "source": [
    "# 기계학습 작업 흐름: 작업 흐름(workflow)"
   ]
  },
  {
   "cell_type": "code",
   "execution_count": 1,
   "metadata": {
    "scrolled": true
   },
   "outputs": [
    {
     "name": "stdout",
     "output_type": "stream",
     "text": [
      "[[-1.72 -3.12  1.  ]\n",
      " [ 0.31  1.85  1.  ]\n",
      " [ 1.56  2.85  1.  ]\n",
      " [ 2.64  2.41  1.  ]\n",
      " [ 1.23  2.54  1.  ]\n",
      " [ 1.33  2.03  1.  ]\n",
      " [ 1.26  2.68  1.  ]\n",
      " [ 2.58  1.79  1.  ]\n",
      " [ 2.4   0.91  1.  ]\n",
      " [ 0.51  2.44  1.  ]\n",
      " [ 2.17  2.64  1.  ]\n",
      " [ 3.38  2.94  1.  ]\n",
      " [ 1.09  3.12  1.  ]\n",
      " [ 0.68  1.43  1.  ]\n",
      " [ 3.76  0.64  1.  ]\n",
      " [ 0.73  2.97  1.  ]\n",
      " [ 0.53  2.94  1.  ]\n",
      " [ 1.49  1.25  1.  ]\n",
      " [ 3.92  3.48  1.  ]\n",
      " [ 3.87  2.91  1.  ]\n",
      " [ 1.14  3.01  1.  ]\n",
      " [ 1.73  2.8   1.  ]\n",
      " [ 2.96  1.84  1.  ]\n",
      " [ 2.61  2.92  1.  ]\n",
      " [ 2.28  0.9   1.  ]\n",
      " [ 1.93  3.71  1.  ]\n",
      " [ 1.26  1.17  1.  ]\n",
      " [ 1.9   1.34  1.  ]\n",
      " [ 3.13  0.92  1.  ]\n",
      " [ 0.85  1.46  1.  ]\n",
      " [ 1.5   3.93  1.  ]\n",
      " [ 2.95  2.09  1.  ]\n",
      " [ 0.76  2.84  1.  ]\n",
      " [ 1.    0.46  1.  ]\n",
      " [ 3.19  2.32  1.  ]\n",
      " [ 2.82  2.32  1.  ]\n",
      " [ 2.86  1.35  1.  ]\n",
      " [ 0.97  2.68  1.  ]\n",
      " [ 1.2   1.31  1.  ]\n",
      " [ 1.54  2.02  1.  ]\n",
      " [ 1.74  0.63  1.  ]\n",
      " [ 1.36 -0.22  1.  ]\n",
      " [ 2.63  0.4   1.  ]\n",
      " [ 0.9   2.05  1.  ]\n",
      " [ 1.26  2.54  1.  ]\n",
      " [ 0.71  2.27  1.  ]\n",
      " [ 1.96  0.83  1.  ]\n",
      " [ 2.52  1.83  1.  ]\n",
      " [ 2.76  2.82  1.  ]\n",
      " [ 3.16  3.34  1.  ]\n",
      " [ 1.1  -1.14  0.  ]\n",
      " [-1.33  0.34  0.  ]\n",
      " [ 0.76 -3.07  0.  ]\n",
      " [-0.37 -1.91  0.  ]\n",
      " [-1.84 -1.11  0.  ]\n",
      " [-1.5   0.24  0.  ]\n",
      " [-0.63 -1.53  0.  ]\n",
      " [-1.08 -1.23  0.  ]\n",
      " [ 0.29 -1.99  0.  ]\n",
      " [-1.26 -2.9   0.  ]\n",
      " [-5.27 -1.78  0.  ]\n",
      " [-0.49 -2.64  0.  ]\n",
      " [ 1.28 -3.64  0.  ]\n",
      " [-1.64 -1.96  0.  ]\n",
      " [ 0.25 -1.26  0.  ]\n",
      " [-1.48 -1.17  0.  ]\n",
      " [-2.94 -3.47  0.  ]\n",
      " [-2.19 -1.48  0.  ]\n",
      " [ 0.52 -0.02  0.  ]\n",
      " [-2.24 -2.12  0.  ]\n",
      " [-3.07 -2.09  0.  ]\n",
      " [-3.99  0.73  0.  ]\n",
      " [-2.41 -2.21  0.  ]\n",
      " [-3.45 -0.62  0.  ]\n",
      " [-3.96 -2.    0.  ]\n",
      " [-2.95 -1.16  0.  ]\n",
      " [-2.42 -3.35  0.  ]\n",
      " [-1.64 -1.11  0.  ]\n",
      " [-1.61 -1.28  0.  ]\n",
      " [-2.59 -2.21  0.  ]\n",
      " [-2.64 -2.2   0.  ]\n",
      " [-2.84 -3.22  0.  ]\n",
      " [-1.45 -2.26  0.  ]\n",
      " [-3.08 -1.05  0.  ]\n",
      " [-2.97 -1.53  0.  ]\n",
      " [-0.68 -1.52  0.  ]\n",
      " [-0.11 -3.43  0.  ]\n",
      " [-1.14 -2.66  0.  ]\n",
      " [-2.92 -2.51  0.  ]\n",
      " [-2.14 -1.52  0.  ]\n",
      " [-3.02 -0.44  0.  ]\n",
      " [-1.05 -3.85  0.  ]\n",
      " [ 0.28 -1.25  0.  ]\n",
      " [-0.05 -1.95  0.  ]\n",
      " [-3.2  -0.22  0.  ]\n",
      " [-2.26  0.01  0.  ]\n",
      " [-1.41 -0.23  0.  ]\n",
      " [-1.2  -0.71  0.  ]\n",
      " [-1.69  0.7   0.  ]\n",
      " [-1.52 -1.14  0.  ]]\n"
     ]
    }
   ],
   "source": [
    "#step1 자료준비 단계\n",
    "import numpy as np\n",
    "data = np.genfromtxt('joydatanoise.txt')\n",
    "print(data)   #해당 데이터를 slicing해서, 입력x와 클래스 y로 만들어야 한다."
   ]
  },
  {
   "cell_type": "code",
   "execution_count": 2,
   "metadata": {},
   "outputs": [],
   "source": [
    "# 학습단계\n",
    "# 입력x와 클래스 y레이블을 만듭니다.\n",
    "x = data[:, :2]\n",
    "y = data[:, 2]\n",
    "y = y.astype(np.int) # 실수형을 int형으로 바꿉니다."
   ]
  },
  {
   "cell_type": "code",
   "execution_count": 3,
   "metadata": {},
   "outputs": [
    {
     "data": {
      "image/png": "[encoded data removed]",
      "text/plain": [
       "<Figure size 432x288 with 1 Axes>"
      ]
     },
     "metadata": {
      "needs_background": "light"
     },
     "output_type": "display_data"
    }
   ],
   "source": [
    "\n",
    "import matplotlib.pyplot as plt\n",
    "%matplotlib inline\n",
    "\n",
    "\n",
    "plt.scatter(x[y == 1, 0], x[y == 1, 1], label = 'class 1', marker = 's')\n",
    "plt.scatter(x[y == 0, 0], x[y == 0, 1], label = 'class 2', marker = 'o')\n",
    "plt.xlabel('$x_1$', fontsize = 18)\n",
    "plt.ylabel('$x_2$', fontsize = 18)\n",
    "plt.legend()\n",
    "plt.show()"
   ]
  },
  {
   "cell_type": "markdown",
   "metadata": {},
   "source": [
    "# 학습 자료 전처리 : 셔플링(Shuffling)"
   ]
  },
  {
   "cell_type": "code",
   "execution_count": 4,
   "metadata": {},
   "outputs": [
    {
     "name": "stdout",
     "output_type": "stream",
     "text": [
      "[[ 1.26  2.54]\n",
      " [ 0.9   2.05]\n",
      " [-0.68 -1.52]\n",
      " [ 2.76  2.82]\n",
      " [-1.08 -1.23]] [1 1 0 1 0]\n",
      "[[ 0.51  2.44]\n",
      " [ 1.74  0.63]\n",
      " [-3.45 -0.62]\n",
      " [ 0.68  1.43]\n",
      " [ 1.73  2.8 ]] [1 1 0 1 1]\n"
     ]
    }
   ],
   "source": [
    "import numpy as np\n",
    "data = np.genfromtxt('joydatanoise.txt')\n",
    "#셔플링  --> x, y가 각자 따로 셔플링이 발생하면서 버그가 발생.. 따라서 data를 한꺼번에 셔플링\n",
    "np.random.shuffle(data)\n",
    "x,y = data[:, :2], data[:, 2]\n",
    "y = y.astype(np.int)\n",
    "\n",
    "print(x[:5], y[:5])\n",
    "print(x[-5:], y[-5:])\n"
   ]
  },
  {
   "cell_type": "markdown",
   "metadata": {},
   "source": [
    "# 피쳐 스케일링(Feature Scaling)"
   ]
  },
  {
   "cell_type": "code",
   "execution_count": 5,
   "metadata": {},
   "outputs": [
    {
     "name": "stdout",
     "output_type": "stream",
     "text": [
      "[[0.70978261 0.84891304]\n",
      " [0.67065217 0.79565217]\n",
      " [0.49891304 0.4076087 ]\n",
      " [0.87282609 0.87934783]\n",
      " [0.45543478 0.43913043]]\n"
     ]
    }
   ],
   "source": [
    "xmax = np.max(x)\n",
    "xmin = np.min(x)\n",
    "# 정규화\n",
    "x = (x-xmin)/(xmax-xmin)\n",
    "print(x[:5,])"
   ]
  },
  {
   "cell_type": "code",
   "execution_count": 6,
   "metadata": {},
   "outputs": [
    {
     "name": "stdout",
     "output_type": "stream",
     "text": [
      "[[ 0.54931125  1.10632882]\n",
      " [ 0.38163951  0.87617635]\n",
      " [-0.35425313 -0.80064877]\n",
      " [ 1.24794351  1.23784452]\n",
      " [-0.54055506 -0.66443608]]\n"
     ]
    }
   ],
   "source": [
    "# 표준화\n",
    "\n",
    "mu = x.mean(axis = 0)\n",
    "sigma = x.std(axis = 0)\n",
    "x = (x - mu) / sigma\n",
    "print(x[:5,])"
   ]
  },
  {
   "cell_type": "markdown",
   "metadata": {},
   "source": [
    "# 자료를 분리: training set, test set"
   ]
  },
  {
   "cell_type": "code",
   "execution_count": 7,
   "metadata": {},
   "outputs": [],
   "source": [
    "import numpy as np\n",
    "data = np.genfromtxt('joydatanoise.txt')\n",
    "#셔플링  --> x, y가 각자 따로 셔플링이 발생하면서 버그가 발생.. 따라서 data를 한꺼번에 셔플링\n",
    "np.random.seed(1)\n",
    "np.random.shuffle(data)\n",
    "x,y = data[:, :2], data[:, 2]\n",
    "y = y.astype(np.int)\n",
    "\n",
    "num = int(x.shape[0]*0.8)  # 100*0.8 = 80\n",
    "x_train, x_test = x[:num], x[num:]\n",
    "y_train, y_test = y[:num], y[num:]\n"
   ]
  },
  {
   "cell_type": "code",
   "execution_count": 8,
   "metadata": {},
   "outputs": [],
   "source": [
    "def perceptron_predict(X,w):\n",
    "    z = np.dot(X,w)\n",
    "    yhat = np.where(z>0., 1,0)\n",
    "    return yhat"
   ]
  },
  {
   "cell_type": "code",
   "execution_count": 9,
   "metadata": {},
   "outputs": [
    {
     "name": "stdout",
     "output_type": "stream",
     "text": [
      "Misclassified: 2/80\n"
     ]
    }
   ],
   "source": [
    "# version 0.1 train\n",
    "w = [0.5, 1.0]\n",
    "yhat = perceptron_predict(x_train, w)\n",
    "\n",
    "missed = 0\n",
    "m_samples = len(y_train)\n",
    "for m in range(m_samples):\n",
    "    if yhat[m] != y_train[m]:\n",
    "        missed += 1\n",
    "print('Misclassified: {}/{}'.\n",
    "     format(missed, m_samples))"
   ]
  },
  {
   "cell_type": "code",
   "execution_count": 10,
   "metadata": {},
   "outputs": [
    {
     "name": "stdout",
     "output_type": "stream",
     "text": [
      "Misclassified: 2/80\n"
     ]
    }
   ],
   "source": [
    "#version 0.2 train\n",
    "w = [0.5, 1.0]\n",
    "yhat = perceptron_predict(x_train, w)\n",
    "missed = np.sum(yhat.flatten()!= y_train)\n",
    "print('Misclassified: {}/{}'.\n",
    "     format(missed, m_samples))"
   ]
  },
  {
   "cell_type": "code",
   "execution_count": 11,
   "metadata": {},
   "outputs": [
    {
     "name": "stdout",
     "output_type": "stream",
     "text": [
      "Misclassified: 0/80\n"
     ]
    }
   ],
   "source": [
    "# version 2를 가지고 test를 해보자\n",
    "\n",
    "w = [0.5, 1.0]\n",
    "yhat = perceptron_predict(x_test, w)\n",
    "missed = np.sum(yhat.flatten()!= y_test)\n",
    "print('Misclassified: {}/{}'.\n",
    "     format(missed, m_samples))\n"
   ]
  },
  {
   "cell_type": "code",
   "execution_count": 17,
   "metadata": {},
   "outputs": [
    {
     "data": {
      "image/png": "[encoded data removed]",
      "text/plain": [
       "<Figure size 432x288 with 1 Axes>"
      ]
     },
     "metadata": {
      "needs_background": "light"
     },
     "output_type": "display_data"
    }
   ],
   "source": [
    "%run plot_xyw.py\n",
    "plot_xyw(x_train, y_train)"
   ]
  },
  {
   "cell_type": "code",
   "execution_count": 19,
   "metadata": {},
   "outputs": [
    {
     "data": {
      "image/png": "[encoded data removed]",
      "text/plain": [
       "<Figure size 432x288 with 1 Axes>"
      ]
     },
     "metadata": {
      "needs_background": "light"
     },
     "output_type": "display_data"
    }
   ],
   "source": [
    "plot_xyw(x_test,y_test)"
   ]
  },
  {
   "cell_type": "code",
   "execution_count": 20,
   "metadata": {},
   "outputs": [
    {
     "data": {
      "text/plain": [
       "array([[-2.64, -2.2 ],\n",
       "       [-2.97, -1.53],\n",
       "       [ 1.  ,  0.46],\n",
       "       [-2.84, -3.22],\n",
       "       [-0.05, -1.95]])"
      ]
     },
     "execution_count": 20,
     "metadata": {},
     "output_type": "execute_result"
    }
   ],
   "source": [
    "x_train[:5]"
   ]
  },
  {
   "cell_type": "code",
   "execution_count": null,
   "metadata": {},
   "outputs": [],
   "source": []
  }
 ],
 "metadata": {
  "kernelspec": {
   "display_name": "Python 3",
   "language": "python",
   "name": "python3"
  },
  "language_info": {
   "codemirror_mode": {
    "name": "ipython",
    "version": 3
   },
   "file_extension": ".py",
   "mimetype": "text/x-python",
   "name": "python",
   "nbconvert_exporter": "python",
   "pygments_lexer": "ipython3",
   "version": "3.7.6"
  }
 },
 "nbformat": 4,
 "nbformat_minor": 4
}
