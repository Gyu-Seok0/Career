{
 "cells": [
  {
   "cell_type": "markdown",
   "metadata": {},
   "source": [
    "# class 공부하기"
   ]
  },
  {
   "cell_type": "code",
   "execution_count": 31,
   "metadata": {},
   "outputs": [],
   "source": [
    "class Car:        #class 이름은 보통 대문자로 작성하는 것이 관례\n",
    "    def __init__(self, length, weight):   #생성자라고 한다. 클래스라는 설계도로부터 객체를 만들어낸다.\n",
    "        self.length = length\n",
    "        self.weight = weight       #객체에서 구별되어 사용되는 변수: 인스턴트 변수 (length, weight, speed)\n",
    "        self.speed = 0\n",
    "    def forward(self):            #클래스 안에서 선언된 함수들은 메소드라고 부른다. \n",
    "        print(\"move Forward!\")\n",
    "    def backward(self):\n",
    "        print(\"move Backward!\")\n",
    "    def move(self, owner):\n",
    "        owner.pos += 10\n",
    "    def speedUP(self):\n",
    "        self.speed += 10\n",
    "    def change(self, length, weight):\n",
    "        self.length = length\n",
    "        self.weight = weight\n",
    "class Person:\n",
    "    def __init__(self):\n",
    "        self.pos = 0\n",
    "    def start(self, Car):\n",
    "        print(\"Whoom!!\")"
   ]
  },
  {
   "cell_type": "code",
   "execution_count": 27,
   "metadata": {},
   "outputs": [],
   "source": [
    "myCar = Car(4,1380)"
   ]
  },
  {
   "cell_type": "code",
   "execution_count": 29,
   "metadata": {},
   "outputs": [
    {
     "name": "stdout",
     "output_type": "stream",
     "text": [
      "4\n",
      "1380\n"
     ]
    }
   ],
   "source": [
    "# 속성(data)\n",
    "print(myCar.length)\n",
    "print(myCar.weight)"
   ]
  },
  {
   "cell_type": "code",
   "execution_count": 30,
   "metadata": {},
   "outputs": [
    {
     "name": "stdout",
     "output_type": "stream",
     "text": [
      "move Forward!\n",
      "move Backward!\n"
     ]
    }
   ],
   "source": [
    "#기능\n",
    "myCar.forward()\n",
    "myCar.backward()"
   ]
  },
  {
   "cell_type": "code",
   "execution_count": 35,
   "metadata": {},
   "outputs": [
    {
     "name": "stdout",
     "output_type": "stream",
     "text": [
      "Whoom!!\n",
      "0\n",
      "10\n"
     ]
    }
   ],
   "source": [
    "#상호작용\n",
    "myCar = Car(4, 1380)\n",
    "owner = Person()\n",
    "owner.start(myCar)\n",
    "\n",
    "\n",
    "print(owner.pos)\n",
    "myCar.move(owner)\n",
    "print(owner.pos)"
   ]
  },
  {
   "cell_type": "code",
   "execution_count": 36,
   "metadata": {},
   "outputs": [
    {
     "name": "stdout",
     "output_type": "stream",
     "text": [
      "10\n",
      "0\n"
     ]
    }
   ],
   "source": [
    "#독립성\n",
    "myCar = Car(4, 1380)\n",
    "yourCar = Car(4, 1500)\n",
    "\n",
    "myCar.speedUP()\n",
    "print(myCar.speed)\n",
    "print(yourCar.speed)"
   ]
  },
  {
   "cell_type": "code",
   "execution_count": null,
   "metadata": {},
   "outputs": [],
   "source": []
  }
 ],
 "metadata": {
  "kernelspec": {
   "display_name": "Python 3",
   "language": "python",
   "name": "python3"
  },
  "language_info": {
   "codemirror_mode": {
    "name": "ipython",
    "version": 3
   },
   "file_extension": ".py",
   "mimetype": "text/x-python",
   "name": "python",
   "nbconvert_exporter": "python",
   "pygments_lexer": "ipython3",
   "version": "3.7.6"
  }
 },
 "nbformat": 4,
 "nbformat_minor": 4
}
