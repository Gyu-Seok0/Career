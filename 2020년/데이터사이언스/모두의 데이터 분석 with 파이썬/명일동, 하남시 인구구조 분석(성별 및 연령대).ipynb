{
 "cells": [
  {
   "cell_type": "code",
   "execution_count": 1,
   "metadata": {},
   "outputs": [],
   "source": [
    "import csv\n",
    "import matplotlib.pyplot as plt"
   ]
  },
  {
   "cell_type": "code",
   "execution_count": 44,
   "metadata": {},
   "outputs": [
    {
     "name": "stdout",
     "output_type": "stream",
     "text": [
      "서울특별시 강동구 명일제1동(1174053000)\n",
      "서울특별시 강동구 명일제2동(1174054000)\n"
     ]
    },
    {
     "data": {
      "text/plain": [
       "\"\\n#데이터 전처리 --> ,빼기\\nfor i in range(1,len(key)):\\n    if ',' in key[i]:\\n        key[i] = key[i].replace(',','')\\n    key[i] = int(key[i])\\n\\nmen = list(map(lambda x:-x, key[3:14]))\\nwomen = key[16:27]\\n\\n\\n#시각화\\nplt.style.use('ggplot')\\nplt.barh(range(11),men,label = 'men')\\nplt.barh(range(11),women,label = 'women')\\nplt.legend()\\nplt.title('Population of Hanam')\\nplt.xlabel('Numbers')\\nplt.ylabel('Ages(*10)')\\nplt.show()\\n\""
      ]
     },
     "execution_count": 44,
     "metadata": {},
     "output_type": "execute_result"
    }
   ],
   "source": [
    "#하남인구데이터 불러오기\n",
    "f = open('population_mf.csv','r')\n",
    "data = csv.reader(f)\n",
    "next(data)\n",
    "for row in data:\n",
    "    if '하남시' in row[0]:\n",
    "        key = row\n",
    "        break\n",
    "\n",
    "'''\n",
    "#데이터 전처리 --> ,빼기\n",
    "for i in range(1,len(key)):\n",
    "    if ',' in key[i]:\n",
    "        key[i] = key[i].replace(',','')\n",
    "    key[i] = int(key[i])\n",
    "\n",
    "men = list(map(lambda x:-x, key[3:14]))\n",
    "women = key[16:27]\n",
    "\n",
    "\n",
    "#시각화\n",
    "plt.style.use('ggplot')\n",
    "plt.barh(range(11),men,label = 'men')\n",
    "plt.barh(range(11),women,label = 'women')\n",
    "plt.legend()\n",
    "plt.title('Population of Hanam')\n",
    "plt.xlabel('Numbers')\n",
    "plt.ylabel('Ages(*10)')\n",
    "plt.show()\n",
    "'''"
   ]
  },
  {
   "cell_type": "code",
   "execution_count": 67,
   "metadata": {},
   "outputs": [
    {
     "data": {
      "image/png": "[encoded data removed]",
      "text/plain": [
       "<Figure size 432x288 with 1 Axes>"
      ]
     },
     "metadata": {},
     "output_type": "display_data"
    }
   ],
   "source": [
    "#명일동인구데이터 불러오기\n",
    "f = open('population_mf.csv','r')\n",
    "data = csv.reader(f)\n",
    "next(data)\n",
    "\n",
    "men = [0]*11\n",
    "women = [0]*11\n",
    "for row in data:\n",
    "    if '명일' in row[0]:\n",
    "        key = row\n",
    "        #전처리\n",
    "        for i in range(1,len(key)):\n",
    "            if ',' in key[i]:\n",
    "                key[i] = key[i].replace(',','')\n",
    "            key[i] = int(key[i])\n",
    "        for i in range(3,14):\n",
    "            men[i-3] += -key[i]\n",
    "            women[i-3] += key[i+13]\n",
    "            \n",
    "\n",
    "\n",
    "\n",
    "#시각화 \n",
    "plt.style.use('ggplot')\n",
    "plt.barh(range(11),men,label = 'men')\n",
    "plt.barh(range(11),women,label = 'women')\n",
    "plt.legend()\n",
    "plt.title('Population of Myeongil')\n",
    "plt.xlabel('Numbers')\n",
    "plt.ylabel('Ages(*10)')\n",
    "plt.show()\n"
   ]
  },
  {
   "cell_type": "markdown",
   "metadata": {},
   "source": [
    "*제일 많은 인구 연령대 분석\n",
    "여자 --> 40대 --> 3933명\n",
    "남자 --> 40대 --> 3445명\n"
   ]
  },
  {
   "cell_type": "code",
   "execution_count": 72,
   "metadata": {},
   "outputs": [
    {
     "data": {
      "text/plain": [
       "[-1706, -2731, -2790, -3065, -3445, -3339, -2809, -1276, -309, -40, -2]"
      ]
     },
     "execution_count": 72,
     "metadata": {},
     "output_type": "execute_result"
    }
   ],
   "source": [
    "men\n"
   ]
  },
  {
   "cell_type": "code",
   "execution_count": 74,
   "metadata": {},
   "outputs": [],
   "source": [
    "A = [1,2,3]\n",
    "B = list(map(lambda x: x/sum(A),A))"
   ]
  },
  {
   "cell_type": "code",
   "execution_count": 78,
   "metadata": {},
   "outputs": [
    {
     "data": {
      "text/plain": [
       "[0.0731685513788942,\n",
       " 0.10602064989049301,\n",
       " 0.12161980959191883,\n",
       " 0.13543109998659097,\n",
       " 0.17579224958655523,\n",
       " 0.16055066374648014,\n",
       " 0.13820229741205917,\n",
       " 0.056183792964734275,\n",
       " 0.025119563759889153,\n",
       " 0.007240870692352389,\n",
       " 0.0006704509900326286]"
      ]
     },
     "execution_count": 78,
     "metadata": {},
     "output_type": "execute_result"
    }
   ],
   "source": [
    "men_prob = list(map(lambda x: x/sum(men),men))\n",
    "women_prob = list(map(lambda x: x/sum(women),women))\n",
    "\n",
    "women_prob"
   ]
  },
  {
   "cell_type": "code",
   "execution_count": 90,
   "metadata": {},
   "outputs": [
    {
     "name": "stdout",
     "output_type": "stream",
     "text": [
      "['서울특별시', '', '(1100000000)']\n",
      "서울특별시  (1100000000)\n",
      "['서울특별시', '종로구', '(1111000000)']\n",
      "서울특별시 종로구 (1111000000)\n",
      "['서울특별시', '종로구', '청운효자동(1111051500)']\n",
      "서울특별시 종로구 청운효자동(1111051500)\n",
      "['서울특별시', '종로구', '사직동(1111053000)']\n",
      "서울특별시 종로구 사직동(1111053000)\n",
      "['서울특별시', '종로구', '삼청동(1111054000)']\n",
      "서울특별시 종로구 삼청동(1111054000)\n",
      "['서울특별시', '종로구', '부암동(1111055000)']\n",
      "서울특별시 종로구 부암동(1111055000)\n",
      "['서울특별시', '종로구', '평창동(1111056000)']\n",
      "서울특별시 종로구 평창동(1111056000)\n",
      "['서울특별시', '종로구', '무악동(1111057000)']\n",
      "서울특별시 종로구 무악동(1111057000)\n",
      "['서울특별시', '종로구', '교남동(1111058000)']\n",
      "서울특별시 종로구 교남동(1111058000)\n",
      "['서울특별시', '종로구', '가회동(1111060000)']\n",
      "서울특별시 종로구 가회동(1111060000)\n"
     ]
    }
   ],
   "source": [
    "#인구구조가 비슷한 동네를 찾아보려고 했는데, 쉽지 않네\n",
    "f = open('population_mf.csv','r')\n",
    "data = csv.reader(f)\n",
    "next(data)\n",
    "\n",
    "men = [0]*11\n",
    "women = [0]*11\n",
    "for row in data:\n",
    "    if '명일' in row[0]:\n",
    "        key = row\n",
    "        #전처리\n",
    "        for i in range(1,len(key)):\n",
    "            if ',' in key[i]:\n",
    "                key[i] = key[i].replace(',','')\n",
    "            key[i] = int(key[i])\n",
    "        for i in range(3,14):\n",
    "            men[i-3] += -key[i]\n",
    "            women[i-3] += key[i+13]\n",
    "            \n",
    "f.close()\n",
    "f = open('population_mf.csv','r')\n",
    "data = csv.reader(f)\n",
    "next(data)\n",
    "\n",
    "cnt = 0\n",
    "for row in data:\n",
    "    print(row[0].split(' '))\n",
    "    print(row[0])\n",
    "    cnt+=1\n",
    "    if (cnt==10):\n",
    "        break\n",
    "\n",
    "\n"
   ]
  }
 ],
 "metadata": {
  "kernelspec": {
   "display_name": "Python 3",
   "language": "python",
   "name": "python3"
  },
  "language_info": {
   "codemirror_mode": {
    "name": "ipython",
    "version": 3
   },
   "file_extension": ".py",
   "mimetype": "text/x-python",
   "name": "python",
   "nbconvert_exporter": "python",
   "pygments_lexer": "ipython3",
   "version": "3.7.6"
  }
 },
 "nbformat": 4,
 "nbformat_minor": 4
}
