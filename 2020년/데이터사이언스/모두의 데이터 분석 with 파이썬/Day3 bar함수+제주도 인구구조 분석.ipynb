{
 "cells": [
  {
   "cell_type": "code",
   "execution_count": 10,
   "metadata": {},
   "outputs": [
    {
     "data": {
      "image/png": "[encoded data removed]",
      "text/plain": [
       "<Figure size 432x288 with 1 Axes>"
      ]
     },
     "metadata": {
      "needs_background": "light"
     },
     "output_type": "display_data"
    }
   ],
   "source": [
    "import matplotlib.pyplot as plt\n",
    "plt.barh(range(4),[10,20,30,20],label = 'A')\n",
    "plt.barh(range(4), [-10,-20,-30,-10],label = 'B')\n",
    "plt.legend()\n",
    "plt.show()"
   ]
  },
  {
   "cell_type": "markdown",
   "metadata": {},
   "source": [
    "### 제주도 인구구조 분석"
   ]
  },
  {
   "cell_type": "code",
   "execution_count": 33,
   "metadata": {},
   "outputs": [],
   "source": [
    "import csv\n",
    "f = open('population_mf.csv')\n",
    "data = csv.reader(f)\n",
    "next(data)\n",
    "\n",
    "for row in data:\n",
    "    if '제주' in row[0]:\n",
    "        break\n",
    "\n",
    "for i in range(len(row)):\n",
    "    if row[i].find(',') != -1:\n",
    "        row[i] = row[i].replace(',','')\n",
    "        \n",
    "men = []\n",
    "women= []\n",
    "total = []\n",
    "for i in range(3,14):\n",
    "    man = int(row[i])\n",
    "    woman = int(row[i+13])\n",
    "    temp = int(row[i+13]) - int(row[i])\n",
    "    \n",
    "    men.append(-man)\n",
    "    women.append(woman)\n",
    "    total.append(temp)"
   ]
  },
  {
   "cell_type": "code",
   "execution_count": 30,
   "metadata": {},
   "outputs": [
    {
     "data": {
      "text/plain": [
       "[-1633, -3375, -4841, -1047, -3689, -4535, 674, 4330, 7859, 2796, 200]"
      ]
     },
     "execution_count": 30,
     "metadata": {},
     "output_type": "execute_result"
    }
   ],
   "source": [
    "#여자 - 남자 (0~9세, 10~19세, ... , 100세 이상)\n",
    "total\n",
    "sum(total) --> -3261 이므로, dksehlsek."
   ]
  },
  {
   "cell_type": "code",
   "execution_count": 48,
   "metadata": {},
   "outputs": [
    {
     "data": {
      "image/png": "[encoded data removed]",
      "text/plain": [
       "<Figure size 432x288 with 1 Axes>"
      ]
     },
     "metadata": {},
     "output_type": "display_data"
    }
   ],
   "source": [
    "#그려보기\n",
    "plt.style.use('ggplot')\n",
    "plt.barh(range(11),men,label = 'men')\n",
    "plt.barh(range(11),women, label = 'women')\n",
    "plt.legend()\n",
    "plt.title(\"population of Jeju\")\n",
    "plt.xlabel(\"numbers\")\n",
    "plt.ylabel(\"Ages\")\n",
    "plt.show()"
   ]
  },
  {
   "cell_type": "code",
   "execution_count": 76,
   "metadata": {},
   "outputs": [],
   "source": [
    "#천호동 데이터를 분석해보자.\n",
    "import csv\n",
    "import matplotlib.pyplot as plt\n",
    "\n",
    "f = open('population_mf.csv')\n",
    "data = csv.reader(f)\n",
    "\n",
    "men = [0]*11\n",
    "women = [0]*11\n",
    "total = [0]*11\n",
    "\n",
    "for row in data:\n",
    "    if '천호' in row[0]:\n",
    "        for i in range(3,14):\n",
    "            if row[i].find(',') != -1:\n",
    "                row[i] = row[i].replace(',','')\n",
    "            if row[i+13].find(',') != -1:\n",
    "                row[i+13] = row[i+13].replace(',','')\n",
    "            \n",
    "            man = -int(row[i])\n",
    "            woman = int(row[i+13])\n",
    "            temp = int(row[i+13]) - int(row[i])\n",
    "\n",
    "            men[i-3] = man\n",
    "            women[i-3] = woman\n",
    "            total[i-3] = temp"
   ]
  },
  {
   "cell_type": "code",
   "execution_count": 77,
   "metadata": {},
   "outputs": [
    {
     "name": "stdout",
     "output_type": "stream",
     "text": [
      "[-732, -685, -1862, -2403, -2012, -2243, -1902, -988, -257, -16, -5]\n",
      "[664, 685, 2298, 2375, 1829, 2154, 2034, 1075, 452, 79, 9]\n",
      "[-68, 0, 436, -28, -183, -89, 132, 87, 195, 63, 4]\n"
     ]
    },
    {
     "data": {
      "text/plain": [
       "549"
      ]
     },
     "execution_count": 77,
     "metadata": {},
     "output_type": "execute_result"
    }
   ],
   "source": [
    "print(men)\n",
    "print(women)\n",
    "print(total)\n",
    "sum(total)"
   ]
  },
  {
   "cell_type": "code",
   "execution_count": 79,
   "metadata": {},
   "outputs": [
    {
     "data": {
      "image/png": "[encoded data removed]",
      "text/plain": [
       "<Figure size 432x288 with 1 Axes>"
      ]
     },
     "metadata": {},
     "output_type": "display_data"
    },
    {
     "data": {
      "text/plain": [
       "<Figure size 432x288 with 0 Axes>"
      ]
     },
     "metadata": {},
     "output_type": "display_data"
    }
   ],
   "source": [
    "# 시각화\n",
    "plt.style.use('ggplot')\n",
    "plt.barh(range(11),men, label =\"Men\")\n",
    "plt.barh(range(11),women, label = \"Women\")\n",
    "plt.legend()\n",
    "plt.title('Population of Chen-Ho')\n",
    "plt.xlabel(\"Numbers\")\n",
    "plt.ylabel(\"Ages\")\n",
    "plt.show()\n",
    "plt.savefig(\"JaeChang.png\")"
   ]
  },
  {
   "cell_type": "code",
   "execution_count": 71,
   "metadata": {},
   "outputs": [
    {
     "data": {
      "text/plain": [
       "11"
      ]
     },
     "execution_count": 71,
     "metadata": {},
     "output_type": "execute_result"
    }
   ],
   "source": [
    "len(men)"
   ]
  }
 ],
 "metadata": {
  "kernelspec": {
   "display_name": "Python 3",
   "language": "python",
   "name": "python3"
  },
  "language_info": {
   "codemirror_mode": {
    "name": "ipython",
    "version": 3
   },
   "file_extension": ".py",
   "mimetype": "text/x-python",
   "name": "python",
   "nbconvert_exporter": "python",
   "pygments_lexer": "ipython3",
   "version": "3.7.6"
  }
 },
 "nbformat": 4,
 "nbformat_minor": 4
}
