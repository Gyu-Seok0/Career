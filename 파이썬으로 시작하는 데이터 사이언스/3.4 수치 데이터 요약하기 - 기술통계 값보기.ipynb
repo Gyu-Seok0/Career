{
 "cells": [
  {
   "cell_type": "code",
   "execution_count": 18,
   "metadata": {},
   "outputs": [
    {
     "data": {
      "text/plain": [
       "(573680, 39)"
      ]
     },
     "execution_count": 18,
     "metadata": {},
     "output_type": "execute_result"
    }
   ],
   "source": [
    "import pandas as pd\n",
    "import numpy as np\n",
    "import matplotlib.pyplot as plt\n",
    "import seaborn as sns #데이터 시각화를 위한 라이브러리.\n",
    "# 괄호 안에서 shift + tab을 누르면, 도움말을 보실 수 있습니다.\n",
    "# 엑셀 한글파일은 cp949로 작성되는데, 불러오면서 unicode로 변환되면서 에러가 발생한다. 따라서 인코딩을 바꿔준다.\n",
    "plt.rcParams['font.family'] = 'Malgun Gothic'\n",
    "df = pd.read_csv(\"Data/test.csv\", encoding = \"cp949\", low_memory = False)\n",
    "df.shape"
   ]
  },
  {
   "cell_type": "code",
   "execution_count": 3,
   "metadata": {},
   "outputs": [
    {
     "data": {
      "text/plain": [
       "상가업소번호         int64\n",
       "상호명           object\n",
       "지점명           object\n",
       "상권업종대분류코드     object\n",
       "상권업종대분류명      object\n",
       "상권업종중분류코드     object\n",
       "상권업종중분류명      object\n",
       "상권업종소분류코드     object\n",
       "상권업종소분류명      object\n",
       "표준산업분류코드      object\n",
       "표준산업분류명       object\n",
       "시도코드           int64\n",
       "시도명           object\n",
       "시군구코드          int64\n",
       "시군구명          object\n",
       "행정동코드          int64\n",
       "행정동명          object\n",
       "법정동코드          int64\n",
       "법정동명          object\n",
       "지번코드         float64\n",
       "대지구분코드         int64\n",
       "대지구분명         object\n",
       "지번본번지          int64\n",
       "지번부번지        float64\n",
       "지번주소          object\n",
       "도로명코드        float64\n",
       "도로명           object\n",
       "건물본번지          int64\n",
       "건물부번지        float64\n",
       "건물관리번호       float64\n",
       "건물명           object\n",
       "도로명주소         object\n",
       "구우편번호          int64\n",
       "신우편번호        float64\n",
       "동정보           object\n",
       "층정보          float64\n",
       "호정보          float64\n",
       "경도           float64\n",
       "위도           float64\n",
       "dtype: object"
      ]
     },
     "execution_count": 3,
     "metadata": {},
     "output_type": "execute_result"
    }
   ],
   "source": [
    "# column의 정보\n",
    "df.columns\n",
    "df.dtypes"
   ]
  },
  {
   "cell_type": "markdown",
   "metadata": {},
   "source": [
    "# 1.11 기초통계값 보기 "
   ]
  },
  {
   "cell_type": "code",
   "execution_count": 9,
   "metadata": {},
   "outputs": [
    {
     "data": {
      "text/plain": [
       "36.85469787422512"
      ]
     },
     "execution_count": 9,
     "metadata": {},
     "output_type": "execute_result"
    }
   ],
   "source": [
    "#평균값\n",
    "df['위도'].mean()"
   ]
  },
  {
   "cell_type": "code",
   "execution_count": 10,
   "metadata": {},
   "outputs": [
    {
     "data": {
      "text/plain": [
       "37.511207005"
      ]
     },
     "execution_count": 10,
     "metadata": {},
     "output_type": "execute_result"
    }
   ],
   "source": [
    "#중앙값\n",
    "df['위도'].median()"
   ]
  },
  {
   "cell_type": "code",
   "execution_count": 11,
   "metadata": {},
   "outputs": [
    {
     "data": {
      "text/plain": [
       "37.69239838"
      ]
     },
     "execution_count": 11,
     "metadata": {},
     "output_type": "execute_result"
    }
   ],
   "source": [
    "#최대값\n",
    "df['위도'].max()"
   ]
  },
  {
   "cell_type": "code",
   "execution_count": 12,
   "metadata": {},
   "outputs": [
    {
     "data": {
      "text/plain": [
       "35.00675974"
      ]
     },
     "execution_count": 12,
     "metadata": {},
     "output_type": "execute_result"
    }
   ],
   "source": [
    "#최솟값\n",
    "df['위도'].min()"
   ]
  },
  {
   "cell_type": "code",
   "execution_count": 13,
   "metadata": {},
   "outputs": [
    {
     "data": {
      "text/plain": [
       "573680"
      ]
     },
     "execution_count": 13,
     "metadata": {},
     "output_type": "execute_result"
    }
   ],
   "source": [
    "#갯수\n",
    "df['위도'].count()"
   ]
  },
  {
   "cell_type": "markdown",
   "metadata": {},
   "source": [
    "# 1.11.2 기초통계값 요약하기 - describe"
   ]
  },
  {
   "cell_type": "code",
   "execution_count": 14,
   "metadata": {},
   "outputs": [
    {
     "data": {
      "text/plain": [
       "count    573680.000000\n",
       "mean         36.854698\n",
       "std           1.081285\n",
       "min          35.006760\n",
       "25%          35.215422\n",
       "50%          37.511207\n",
       "75%          37.560362\n",
       "max          37.692398\n",
       "Name: 위도, dtype: float64"
      ]
     },
     "execution_count": 14,
     "metadata": {},
     "output_type": "execute_result"
    }
   ],
   "source": [
    "df['위도'].describe()"
   ]
  },
  {
   "cell_type": "code",
   "execution_count": 17,
   "metadata": {},
   "outputs": [
    {
     "data": {
      "text/html": [
       "<div>\n",
       "<style scoped>\n",
       "    .dataframe tbody tr th:only-of-type {\n",
       "        vertical-align: middle;\n",
       "    }\n",
       "\n",
       "    .dataframe tbody tr th {\n",
       "        vertical-align: top;\n",
       "    }\n",
       "\n",
       "    .dataframe thead th {\n",
       "        text-align: right;\n",
       "    }\n",
       "</style>\n",
       "<table border=\"1\" class=\"dataframe\">\n",
       "  <thead>\n",
       "    <tr style=\"text-align: right;\">\n",
       "      <th></th>\n",
       "      <th>위도</th>\n",
       "      <th>경도</th>\n",
       "    </tr>\n",
       "  </thead>\n",
       "  <tbody>\n",
       "    <tr>\n",
       "      <th>count</th>\n",
       "      <td>573680.000000</td>\n",
       "      <td>573680.000000</td>\n",
       "    </tr>\n",
       "    <tr>\n",
       "      <th>mean</th>\n",
       "      <td>36.854698</td>\n",
       "      <td>127.596287</td>\n",
       "    </tr>\n",
       "    <tr>\n",
       "      <th>std</th>\n",
       "      <td>1.081285</td>\n",
       "      <td>0.941262</td>\n",
       "    </tr>\n",
       "    <tr>\n",
       "      <th>min</th>\n",
       "      <td>35.006760</td>\n",
       "      <td>126.768169</td>\n",
       "    </tr>\n",
       "    <tr>\n",
       "      <th>25%</th>\n",
       "      <td>35.215422</td>\n",
       "      <td>126.968316</td>\n",
       "    </tr>\n",
       "    <tr>\n",
       "      <th>50%</th>\n",
       "      <td>37.511207</td>\n",
       "      <td>127.047672</td>\n",
       "    </tr>\n",
       "    <tr>\n",
       "      <th>75%</th>\n",
       "      <td>37.560362</td>\n",
       "      <td>128.986938</td>\n",
       "    </tr>\n",
       "    <tr>\n",
       "      <th>max</th>\n",
       "      <td>37.692398</td>\n",
       "      <td>129.292243</td>\n",
       "    </tr>\n",
       "  </tbody>\n",
       "</table>\n",
       "</div>"
      ],
      "text/plain": [
       "                  위도             경도\n",
       "count  573680.000000  573680.000000\n",
       "mean       36.854698     127.596287\n",
       "std         1.081285       0.941262\n",
       "min        35.006760     126.768169\n",
       "25%        35.215422     126.968316\n",
       "50%        37.511207     127.047672\n",
       "75%        37.560362     128.986938\n",
       "max        37.692398     129.292243"
      ]
     },
     "execution_count": 17,
     "metadata": {},
     "output_type": "execute_result"
    }
   ],
   "source": [
    "# 두 개의 컬럼을 요약.\n",
    "df[['위도','경도']].describe()"
   ]
  },
  {
   "cell_type": "code",
   "execution_count": 19,
   "metadata": {},
   "outputs": [
    {
     "data": {
      "text/html": [
       "<div>\n",
       "<style scoped>\n",
       "    .dataframe tbody tr th:only-of-type {\n",
       "        vertical-align: middle;\n",
       "    }\n",
       "\n",
       "    .dataframe tbody tr th {\n",
       "        vertical-align: top;\n",
       "    }\n",
       "\n",
       "    .dataframe thead th {\n",
       "        text-align: right;\n",
       "    }\n",
       "</style>\n",
       "<table border=\"1\" class=\"dataframe\">\n",
       "  <thead>\n",
       "    <tr style=\"text-align: right;\">\n",
       "      <th></th>\n",
       "      <th>상가업소번호</th>\n",
       "      <th>시도코드</th>\n",
       "      <th>시군구코드</th>\n",
       "      <th>행정동코드</th>\n",
       "      <th>법정동코드</th>\n",
       "      <th>지번코드</th>\n",
       "      <th>대지구분코드</th>\n",
       "      <th>지번본번지</th>\n",
       "      <th>지번부번지</th>\n",
       "      <th>도로명코드</th>\n",
       "      <th>건물본번지</th>\n",
       "      <th>건물부번지</th>\n",
       "      <th>건물관리번호</th>\n",
       "      <th>구우편번호</th>\n",
       "      <th>신우편번호</th>\n",
       "      <th>층정보</th>\n",
       "      <th>호정보</th>\n",
       "      <th>경도</th>\n",
       "      <th>위도</th>\n",
       "    </tr>\n",
       "  </thead>\n",
       "  <tbody>\n",
       "    <tr>\n",
       "      <th>count</th>\n",
       "      <td>5.736800e+05</td>\n",
       "      <td>573680.000000</td>\n",
       "      <td>573680.000000</td>\n",
       "      <td>5.736800e+05</td>\n",
       "      <td>5.736800e+05</td>\n",
       "      <td>5.736800e+05</td>\n",
       "      <td>573680.000000</td>\n",
       "      <td>573680.000000</td>\n",
       "      <td>474924.000000</td>\n",
       "      <td>5.736800e+05</td>\n",
       "      <td>573680.000000</td>\n",
       "      <td>71988.000000</td>\n",
       "      <td>5.736800e+05</td>\n",
       "      <td>573680.000000</td>\n",
       "      <td>573671.000000</td>\n",
       "      <td>345587.000000</td>\n",
       "      <td>8.344000e+04</td>\n",
       "      <td>573680.000000</td>\n",
       "      <td>573680.000000</td>\n",
       "    </tr>\n",
       "    <tr>\n",
       "      <th>mean</th>\n",
       "      <td>2.044501e+07</td>\n",
       "      <td>15.348348</td>\n",
       "      <td>15763.525241</td>\n",
       "      <td>1.576413e+09</td>\n",
       "      <td>1.576364e+09</td>\n",
       "      <td>1.576365e+18</td>\n",
       "      <td>1.001337</td>\n",
       "      <td>469.281810</td>\n",
       "      <td>33.526514</td>\n",
       "      <td>1.576387e+11</td>\n",
       "      <td>153.912094</td>\n",
       "      <td>6.957479</td>\n",
       "      <td>1.576363e+24</td>\n",
       "      <td>273865.589341</td>\n",
       "      <td>17531.336024</td>\n",
       "      <td>2.054501</td>\n",
       "      <td>5.318003e+02</td>\n",
       "      <td>127.596287</td>\n",
       "      <td>36.854698</td>\n",
       "    </tr>\n",
       "    <tr>\n",
       "      <th>std</th>\n",
       "      <td>5.205697e+06</td>\n",
       "      <td>6.805672</td>\n",
       "      <td>6764.853061</td>\n",
       "      <td>6.764838e+08</td>\n",
       "      <td>6.764853e+08</td>\n",
       "      <td>6.764854e+17</td>\n",
       "      <td>0.036540</td>\n",
       "      <td>484.778049</td>\n",
       "      <td>109.050559</td>\n",
       "      <td>6.764846e+10</td>\n",
       "      <td>276.980935</td>\n",
       "      <td>9.799897</td>\n",
       "      <td>6.764854e+23</td>\n",
       "      <td>215630.650361</td>\n",
       "      <td>19418.733839</td>\n",
       "      <td>8.942686</td>\n",
       "      <td>1.935744e+04</td>\n",
       "      <td>0.941262</td>\n",
       "      <td>1.081285</td>\n",
       "    </tr>\n",
       "    <tr>\n",
       "      <th>min</th>\n",
       "      <td>2.890524e+06</td>\n",
       "      <td>11.000000</td>\n",
       "      <td>11110.000000</td>\n",
       "      <td>1.111052e+09</td>\n",
       "      <td>1.111010e+09</td>\n",
       "      <td>1.111010e+18</td>\n",
       "      <td>1.000000</td>\n",
       "      <td>1.000000</td>\n",
       "      <td>1.000000</td>\n",
       "      <td>1.111020e+11</td>\n",
       "      <td>0.000000</td>\n",
       "      <td>1.000000</td>\n",
       "      <td>1.111010e+24</td>\n",
       "      <td>100011.000000</td>\n",
       "      <td>1000.000000</td>\n",
       "      <td>-15.000000</td>\n",
       "      <td>-5.010000e+02</td>\n",
       "      <td>126.768169</td>\n",
       "      <td>35.006760</td>\n",
       "    </tr>\n",
       "    <tr>\n",
       "      <th>25%</th>\n",
       "      <td>1.607177e+07</td>\n",
       "      <td>11.000000</td>\n",
       "      <td>11320.000000</td>\n",
       "      <td>1.132068e+09</td>\n",
       "      <td>1.132011e+09</td>\n",
       "      <td>1.132010e+18</td>\n",
       "      <td>1.000000</td>\n",
       "      <td>109.000000</td>\n",
       "      <td>3.000000</td>\n",
       "      <td>1.132040e+11</td>\n",
       "      <td>20.000000</td>\n",
       "      <td>1.000000</td>\n",
       "      <td>1.132010e+24</td>\n",
       "      <td>134856.000000</td>\n",
       "      <td>4385.000000</td>\n",
       "      <td>1.000000</td>\n",
       "      <td>4.000000e+00</td>\n",
       "      <td>126.968316</td>\n",
       "      <td>35.215422</td>\n",
       "    </tr>\n",
       "    <tr>\n",
       "      <th>50%</th>\n",
       "      <td>2.212026e+07</td>\n",
       "      <td>11.000000</td>\n",
       "      <td>11620.000000</td>\n",
       "      <td>1.162058e+09</td>\n",
       "      <td>1.162010e+09</td>\n",
       "      <td>1.162010e+18</td>\n",
       "      <td>1.000000</td>\n",
       "      <td>335.000000</td>\n",
       "      <td>9.000000</td>\n",
       "      <td>1.162030e+11</td>\n",
       "      <td>50.000000</td>\n",
       "      <td>3.000000</td>\n",
       "      <td>1.162010e+24</td>\n",
       "      <td>142876.000000</td>\n",
       "      <td>6517.000000</td>\n",
       "      <td>1.000000</td>\n",
       "      <td>1.020000e+02</td>\n",
       "      <td>127.047672</td>\n",
       "      <td>37.511207</td>\n",
       "    </tr>\n",
       "    <tr>\n",
       "      <th>75%</th>\n",
       "      <td>2.479404e+07</td>\n",
       "      <td>26.000000</td>\n",
       "      <td>26230.000000</td>\n",
       "      <td>2.623051e+09</td>\n",
       "      <td>2.623010e+09</td>\n",
       "      <td>2.623010e+18</td>\n",
       "      <td>1.000000</td>\n",
       "      <td>678.000000</td>\n",
       "      <td>25.000000</td>\n",
       "      <td>2.623020e+11</td>\n",
       "      <td>172.000000</td>\n",
       "      <td>9.000000</td>\n",
       "      <td>2.623010e+24</td>\n",
       "      <td>604042.000000</td>\n",
       "      <td>46567.000000</td>\n",
       "      <td>2.000000</td>\n",
       "      <td>2.120000e+02</td>\n",
       "      <td>128.986938</td>\n",
       "      <td>37.560362</td>\n",
       "    </tr>\n",
       "    <tr>\n",
       "      <th>max</th>\n",
       "      <td>2.852486e+07</td>\n",
       "      <td>26.000000</td>\n",
       "      <td>26710.000000</td>\n",
       "      <td>2.671033e+09</td>\n",
       "      <td>2.671033e+09</td>\n",
       "      <td>2.671030e+18</td>\n",
       "      <td>2.000000</td>\n",
       "      <td>9999.000000</td>\n",
       "      <td>9992.000000</td>\n",
       "      <td>2.671040e+11</td>\n",
       "      <td>3318.000000</td>\n",
       "      <td>250.000000</td>\n",
       "      <td>2.671030e+24</td>\n",
       "      <td>619963.000000</td>\n",
       "      <td>49527.000000</td>\n",
       "      <td>4567.000000</td>\n",
       "      <td>3.421314e+06</td>\n",
       "      <td>129.292243</td>\n",
       "      <td>37.692398</td>\n",
       "    </tr>\n",
       "  </tbody>\n",
       "</table>\n",
       "</div>"
      ],
      "text/plain": [
       "             상가업소번호           시도코드          시군구코드         행정동코드         법정동코드  \\\n",
       "count  5.736800e+05  573680.000000  573680.000000  5.736800e+05  5.736800e+05   \n",
       "mean   2.044501e+07      15.348348   15763.525241  1.576413e+09  1.576364e+09   \n",
       "std    5.205697e+06       6.805672    6764.853061  6.764838e+08  6.764853e+08   \n",
       "min    2.890524e+06      11.000000   11110.000000  1.111052e+09  1.111010e+09   \n",
       "25%    1.607177e+07      11.000000   11320.000000  1.132068e+09  1.132011e+09   \n",
       "50%    2.212026e+07      11.000000   11620.000000  1.162058e+09  1.162010e+09   \n",
       "75%    2.479404e+07      26.000000   26230.000000  2.623051e+09  2.623010e+09   \n",
       "max    2.852486e+07      26.000000   26710.000000  2.671033e+09  2.671033e+09   \n",
       "\n",
       "               지번코드         대지구분코드          지번본번지          지번부번지  \\\n",
       "count  5.736800e+05  573680.000000  573680.000000  474924.000000   \n",
       "mean   1.576365e+18       1.001337     469.281810      33.526514   \n",
       "std    6.764854e+17       0.036540     484.778049     109.050559   \n",
       "min    1.111010e+18       1.000000       1.000000       1.000000   \n",
       "25%    1.132010e+18       1.000000     109.000000       3.000000   \n",
       "50%    1.162010e+18       1.000000     335.000000       9.000000   \n",
       "75%    2.623010e+18       1.000000     678.000000      25.000000   \n",
       "max    2.671030e+18       2.000000    9999.000000    9992.000000   \n",
       "\n",
       "              도로명코드          건물본번지         건물부번지        건물관리번호          구우편번호  \\\n",
       "count  5.736800e+05  573680.000000  71988.000000  5.736800e+05  573680.000000   \n",
       "mean   1.576387e+11     153.912094      6.957479  1.576363e+24  273865.589341   \n",
       "std    6.764846e+10     276.980935      9.799897  6.764854e+23  215630.650361   \n",
       "min    1.111020e+11       0.000000      1.000000  1.111010e+24  100011.000000   \n",
       "25%    1.132040e+11      20.000000      1.000000  1.132010e+24  134856.000000   \n",
       "50%    1.162030e+11      50.000000      3.000000  1.162010e+24  142876.000000   \n",
       "75%    2.623020e+11     172.000000      9.000000  2.623010e+24  604042.000000   \n",
       "max    2.671040e+11    3318.000000    250.000000  2.671030e+24  619963.000000   \n",
       "\n",
       "               신우편번호            층정보           호정보             경도  \\\n",
       "count  573671.000000  345587.000000  8.344000e+04  573680.000000   \n",
       "mean    17531.336024       2.054501  5.318003e+02     127.596287   \n",
       "std     19418.733839       8.942686  1.935744e+04       0.941262   \n",
       "min      1000.000000     -15.000000 -5.010000e+02     126.768169   \n",
       "25%      4385.000000       1.000000  4.000000e+00     126.968316   \n",
       "50%      6517.000000       1.000000  1.020000e+02     127.047672   \n",
       "75%     46567.000000       2.000000  2.120000e+02     128.986938   \n",
       "max     49527.000000    4567.000000  3.421314e+06     129.292243   \n",
       "\n",
       "                  위도  \n",
       "count  573680.000000  \n",
       "mean       36.854698  \n",
       "std         1.081285  \n",
       "min        35.006760  \n",
       "25%        35.215422  \n",
       "50%        37.511207  \n",
       "75%        37.560362  \n",
       "max        37.692398  "
      ]
     },
     "execution_count": 19,
     "metadata": {},
     "output_type": "execute_result"
    }
   ],
   "source": [
    "#전체 컬럼에 대한 요약.\n",
    "# number는 숫자형\n",
    "df.describe(include=\"number\")"
   ]
  },
  {
   "cell_type": "code",
   "execution_count": 20,
   "metadata": {},
   "outputs": [
    {
     "data": {
      "text/html": [
       "<div>\n",
       "<style scoped>\n",
       "    .dataframe tbody tr th:only-of-type {\n",
       "        vertical-align: middle;\n",
       "    }\n",
       "\n",
       "    .dataframe tbody tr th {\n",
       "        vertical-align: top;\n",
       "    }\n",
       "\n",
       "    .dataframe thead th {\n",
       "        text-align: right;\n",
       "    }\n",
       "</style>\n",
       "<table border=\"1\" class=\"dataframe\">\n",
       "  <thead>\n",
       "    <tr style=\"text-align: right;\">\n",
       "      <th></th>\n",
       "      <th>상호명</th>\n",
       "      <th>지점명</th>\n",
       "      <th>상권업종대분류코드</th>\n",
       "      <th>상권업종대분류명</th>\n",
       "      <th>상권업종중분류코드</th>\n",
       "      <th>상권업종중분류명</th>\n",
       "      <th>상권업종소분류코드</th>\n",
       "      <th>상권업종소분류명</th>\n",
       "      <th>표준산업분류코드</th>\n",
       "      <th>표준산업분류명</th>\n",
       "      <th>시도명</th>\n",
       "      <th>시군구명</th>\n",
       "      <th>행정동명</th>\n",
       "      <th>법정동명</th>\n",
       "      <th>대지구분명</th>\n",
       "      <th>지번주소</th>\n",
       "      <th>도로명</th>\n",
       "      <th>건물명</th>\n",
       "      <th>도로명주소</th>\n",
       "      <th>동정보</th>\n",
       "    </tr>\n",
       "  </thead>\n",
       "  <tbody>\n",
       "    <tr>\n",
       "      <th>count</th>\n",
       "      <td>573679</td>\n",
       "      <td>76674</td>\n",
       "      <td>573680</td>\n",
       "      <td>573680</td>\n",
       "      <td>573680</td>\n",
       "      <td>573680</td>\n",
       "      <td>573680</td>\n",
       "      <td>573680</td>\n",
       "      <td>539290</td>\n",
       "      <td>539290</td>\n",
       "      <td>573680</td>\n",
       "      <td>573680</td>\n",
       "      <td>573680</td>\n",
       "      <td>573680</td>\n",
       "      <td>573680</td>\n",
       "      <td>573680</td>\n",
       "      <td>573680</td>\n",
       "      <td>265608</td>\n",
       "      <td>573680</td>\n",
       "      <td>50856</td>\n",
       "    </tr>\n",
       "    <tr>\n",
       "      <th>unique</th>\n",
       "      <td>378758</td>\n",
       "      <td>27419</td>\n",
       "      <td>9</td>\n",
       "      <td>9</td>\n",
       "      <td>94</td>\n",
       "      <td>94</td>\n",
       "      <td>709</td>\n",
       "      <td>709</td>\n",
       "      <td>211</td>\n",
       "      <td>211</td>\n",
       "      <td>2</td>\n",
       "      <td>39</td>\n",
       "      <td>629</td>\n",
       "      <td>648</td>\n",
       "      <td>2</td>\n",
       "      <td>190237</td>\n",
       "      <td>18001</td>\n",
       "      <td>38877</td>\n",
       "      <td>190486</td>\n",
       "      <td>1219</td>\n",
       "    </tr>\n",
       "    <tr>\n",
       "      <th>top</th>\n",
       "      <td>점프셈교실</td>\n",
       "      <td>강남점</td>\n",
       "      <td>Q</td>\n",
       "      <td>음식</td>\n",
       "      <td>Q01</td>\n",
       "      <td>한식</td>\n",
       "      <td>Q01A01</td>\n",
       "      <td>한식/백반/한정식</td>\n",
       "      <td>I56111</td>\n",
       "      <td>한식 음식점업</td>\n",
       "      <td>서울특별시</td>\n",
       "      <td>강남구</td>\n",
       "      <td>역삼1동</td>\n",
       "      <td>역삼동</td>\n",
       "      <td>대지</td>\n",
       "      <td>부산광역시 부산진구 부전동 503-15</td>\n",
       "      <td>서울특별시 서초구 신반포로</td>\n",
       "      <td>롯데백화점</td>\n",
       "      <td>부산광역시 부산진구 가야대로 772</td>\n",
       "      <td>1</td>\n",
       "    </tr>\n",
       "    <tr>\n",
       "      <th>freq</th>\n",
       "      <td>2297</td>\n",
       "      <td>500</td>\n",
       "      <td>185516</td>\n",
       "      <td>185516</td>\n",
       "      <td>59725</td>\n",
       "      <td>59725</td>\n",
       "      <td>38133</td>\n",
       "      <td>38133</td>\n",
       "      <td>75372</td>\n",
       "      <td>75372</td>\n",
       "      <td>407376</td>\n",
       "      <td>47080</td>\n",
       "      <td>10400</td>\n",
       "      <td>12102</td>\n",
       "      <td>572913</td>\n",
       "      <td>1058</td>\n",
       "      <td>3543</td>\n",
       "      <td>1410</td>\n",
       "      <td>1058</td>\n",
       "      <td>10778</td>\n",
       "    </tr>\n",
       "  </tbody>\n",
       "</table>\n",
       "</div>"
      ],
      "text/plain": [
       "           상호명    지점명 상권업종대분류코드 상권업종대분류명 상권업종중분류코드 상권업종중분류명 상권업종소분류코드  \\\n",
       "count   573679  76674    573680   573680    573680   573680    573680   \n",
       "unique  378758  27419         9        9        94       94       709   \n",
       "top      점프셈교실    강남점         Q       음식       Q01       한식    Q01A01   \n",
       "freq      2297    500    185516   185516     59725    59725     38133   \n",
       "\n",
       "         상권업종소분류명 표준산업분류코드  표준산업분류명     시도명    시군구명    행정동명    법정동명   대지구분명  \\\n",
       "count      573680   539290   539290  573680  573680  573680  573680  573680   \n",
       "unique        709      211      211       2      39     629     648       2   \n",
       "top     한식/백반/한정식   I56111  한식 음식점업   서울특별시     강남구    역삼1동     역삼동      대지   \n",
       "freq        38133    75372    75372  407376   47080   10400   12102  572913   \n",
       "\n",
       "                         지번주소             도로명     건물명                도로명주소  \\\n",
       "count                  573680          573680  265608               573680   \n",
       "unique                 190237           18001   38877               190486   \n",
       "top     부산광역시 부산진구 부전동 503-15  서울특별시 서초구 신반포로   롯데백화점  부산광역시 부산진구 가야대로 772   \n",
       "freq                     1058            3543    1410                 1058   \n",
       "\n",
       "          동정보  \n",
       "count   50856  \n",
       "unique   1219  \n",
       "top         1  \n",
       "freq    10778  "
      ]
     },
     "execution_count": 20,
     "metadata": {},
     "output_type": "execute_result"
    }
   ],
   "source": [
    "#object는 문자형\n",
    "df.describe(include=\"object\")"
   ]
  },
  {
   "cell_type": "code",
   "execution_count": 21,
   "metadata": {},
   "outputs": [
    {
     "data": {
      "text/html": [
       "<div>\n",
       "<style scoped>\n",
       "    .dataframe tbody tr th:only-of-type {\n",
       "        vertical-align: middle;\n",
       "    }\n",
       "\n",
       "    .dataframe tbody tr th {\n",
       "        vertical-align: top;\n",
       "    }\n",
       "\n",
       "    .dataframe thead th {\n",
       "        text-align: right;\n",
       "    }\n",
       "</style>\n",
       "<table border=\"1\" class=\"dataframe\">\n",
       "  <thead>\n",
       "    <tr style=\"text-align: right;\">\n",
       "      <th></th>\n",
       "      <th>상가업소번호</th>\n",
       "      <th>상호명</th>\n",
       "      <th>지점명</th>\n",
       "      <th>상권업종대분류코드</th>\n",
       "      <th>상권업종대분류명</th>\n",
       "      <th>상권업종중분류코드</th>\n",
       "      <th>상권업종중분류명</th>\n",
       "      <th>상권업종소분류코드</th>\n",
       "      <th>상권업종소분류명</th>\n",
       "      <th>표준산업분류코드</th>\n",
       "      <th>...</th>\n",
       "      <th>건물관리번호</th>\n",
       "      <th>건물명</th>\n",
       "      <th>도로명주소</th>\n",
       "      <th>구우편번호</th>\n",
       "      <th>신우편번호</th>\n",
       "      <th>동정보</th>\n",
       "      <th>층정보</th>\n",
       "      <th>호정보</th>\n",
       "      <th>경도</th>\n",
       "      <th>위도</th>\n",
       "    </tr>\n",
       "  </thead>\n",
       "  <tbody>\n",
       "    <tr>\n",
       "      <th>count</th>\n",
       "      <td>5.736800e+05</td>\n",
       "      <td>573679</td>\n",
       "      <td>76674</td>\n",
       "      <td>573680</td>\n",
       "      <td>573680</td>\n",
       "      <td>573680</td>\n",
       "      <td>573680</td>\n",
       "      <td>573680</td>\n",
       "      <td>573680</td>\n",
       "      <td>539290</td>\n",
       "      <td>...</td>\n",
       "      <td>5.736800e+05</td>\n",
       "      <td>265608</td>\n",
       "      <td>573680</td>\n",
       "      <td>573680.000000</td>\n",
       "      <td>573671.000000</td>\n",
       "      <td>50856</td>\n",
       "      <td>345587.000000</td>\n",
       "      <td>8.344000e+04</td>\n",
       "      <td>573680.000000</td>\n",
       "      <td>573680.000000</td>\n",
       "    </tr>\n",
       "    <tr>\n",
       "      <th>unique</th>\n",
       "      <td>NaN</td>\n",
       "      <td>378758</td>\n",
       "      <td>27419</td>\n",
       "      <td>9</td>\n",
       "      <td>9</td>\n",
       "      <td>94</td>\n",
       "      <td>94</td>\n",
       "      <td>709</td>\n",
       "      <td>709</td>\n",
       "      <td>211</td>\n",
       "      <td>...</td>\n",
       "      <td>NaN</td>\n",
       "      <td>38877</td>\n",
       "      <td>190486</td>\n",
       "      <td>NaN</td>\n",
       "      <td>NaN</td>\n",
       "      <td>1219</td>\n",
       "      <td>NaN</td>\n",
       "      <td>NaN</td>\n",
       "      <td>NaN</td>\n",
       "      <td>NaN</td>\n",
       "    </tr>\n",
       "    <tr>\n",
       "      <th>top</th>\n",
       "      <td>NaN</td>\n",
       "      <td>점프셈교실</td>\n",
       "      <td>강남점</td>\n",
       "      <td>Q</td>\n",
       "      <td>음식</td>\n",
       "      <td>Q01</td>\n",
       "      <td>한식</td>\n",
       "      <td>Q01A01</td>\n",
       "      <td>한식/백반/한정식</td>\n",
       "      <td>I56111</td>\n",
       "      <td>...</td>\n",
       "      <td>NaN</td>\n",
       "      <td>롯데백화점</td>\n",
       "      <td>부산광역시 부산진구 가야대로 772</td>\n",
       "      <td>NaN</td>\n",
       "      <td>NaN</td>\n",
       "      <td>1</td>\n",
       "      <td>NaN</td>\n",
       "      <td>NaN</td>\n",
       "      <td>NaN</td>\n",
       "      <td>NaN</td>\n",
       "    </tr>\n",
       "    <tr>\n",
       "      <th>freq</th>\n",
       "      <td>NaN</td>\n",
       "      <td>2297</td>\n",
       "      <td>500</td>\n",
       "      <td>185516</td>\n",
       "      <td>185516</td>\n",
       "      <td>59725</td>\n",
       "      <td>59725</td>\n",
       "      <td>38133</td>\n",
       "      <td>38133</td>\n",
       "      <td>75372</td>\n",
       "      <td>...</td>\n",
       "      <td>NaN</td>\n",
       "      <td>1410</td>\n",
       "      <td>1058</td>\n",
       "      <td>NaN</td>\n",
       "      <td>NaN</td>\n",
       "      <td>10778</td>\n",
       "      <td>NaN</td>\n",
       "      <td>NaN</td>\n",
       "      <td>NaN</td>\n",
       "      <td>NaN</td>\n",
       "    </tr>\n",
       "    <tr>\n",
       "      <th>mean</th>\n",
       "      <td>2.044501e+07</td>\n",
       "      <td>NaN</td>\n",
       "      <td>NaN</td>\n",
       "      <td>NaN</td>\n",
       "      <td>NaN</td>\n",
       "      <td>NaN</td>\n",
       "      <td>NaN</td>\n",
       "      <td>NaN</td>\n",
       "      <td>NaN</td>\n",
       "      <td>NaN</td>\n",
       "      <td>...</td>\n",
       "      <td>1.576363e+24</td>\n",
       "      <td>NaN</td>\n",
       "      <td>NaN</td>\n",
       "      <td>273865.589341</td>\n",
       "      <td>17531.336024</td>\n",
       "      <td>NaN</td>\n",
       "      <td>2.054501</td>\n",
       "      <td>5.318003e+02</td>\n",
       "      <td>127.596287</td>\n",
       "      <td>36.854698</td>\n",
       "    </tr>\n",
       "    <tr>\n",
       "      <th>std</th>\n",
       "      <td>5.205697e+06</td>\n",
       "      <td>NaN</td>\n",
       "      <td>NaN</td>\n",
       "      <td>NaN</td>\n",
       "      <td>NaN</td>\n",
       "      <td>NaN</td>\n",
       "      <td>NaN</td>\n",
       "      <td>NaN</td>\n",
       "      <td>NaN</td>\n",
       "      <td>NaN</td>\n",
       "      <td>...</td>\n",
       "      <td>6.764854e+23</td>\n",
       "      <td>NaN</td>\n",
       "      <td>NaN</td>\n",
       "      <td>215630.650361</td>\n",
       "      <td>19418.733839</td>\n",
       "      <td>NaN</td>\n",
       "      <td>8.942686</td>\n",
       "      <td>1.935744e+04</td>\n",
       "      <td>0.941262</td>\n",
       "      <td>1.081285</td>\n",
       "    </tr>\n",
       "    <tr>\n",
       "      <th>min</th>\n",
       "      <td>2.890524e+06</td>\n",
       "      <td>NaN</td>\n",
       "      <td>NaN</td>\n",
       "      <td>NaN</td>\n",
       "      <td>NaN</td>\n",
       "      <td>NaN</td>\n",
       "      <td>NaN</td>\n",
       "      <td>NaN</td>\n",
       "      <td>NaN</td>\n",
       "      <td>NaN</td>\n",
       "      <td>...</td>\n",
       "      <td>1.111010e+24</td>\n",
       "      <td>NaN</td>\n",
       "      <td>NaN</td>\n",
       "      <td>100011.000000</td>\n",
       "      <td>1000.000000</td>\n",
       "      <td>NaN</td>\n",
       "      <td>-15.000000</td>\n",
       "      <td>-5.010000e+02</td>\n",
       "      <td>126.768169</td>\n",
       "      <td>35.006760</td>\n",
       "    </tr>\n",
       "    <tr>\n",
       "      <th>25%</th>\n",
       "      <td>1.607177e+07</td>\n",
       "      <td>NaN</td>\n",
       "      <td>NaN</td>\n",
       "      <td>NaN</td>\n",
       "      <td>NaN</td>\n",
       "      <td>NaN</td>\n",
       "      <td>NaN</td>\n",
       "      <td>NaN</td>\n",
       "      <td>NaN</td>\n",
       "      <td>NaN</td>\n",
       "      <td>...</td>\n",
       "      <td>1.132010e+24</td>\n",
       "      <td>NaN</td>\n",
       "      <td>NaN</td>\n",
       "      <td>134856.000000</td>\n",
       "      <td>4385.000000</td>\n",
       "      <td>NaN</td>\n",
       "      <td>1.000000</td>\n",
       "      <td>4.000000e+00</td>\n",
       "      <td>126.968316</td>\n",
       "      <td>35.215422</td>\n",
       "    </tr>\n",
       "    <tr>\n",
       "      <th>50%</th>\n",
       "      <td>2.212026e+07</td>\n",
       "      <td>NaN</td>\n",
       "      <td>NaN</td>\n",
       "      <td>NaN</td>\n",
       "      <td>NaN</td>\n",
       "      <td>NaN</td>\n",
       "      <td>NaN</td>\n",
       "      <td>NaN</td>\n",
       "      <td>NaN</td>\n",
       "      <td>NaN</td>\n",
       "      <td>...</td>\n",
       "      <td>1.162010e+24</td>\n",
       "      <td>NaN</td>\n",
       "      <td>NaN</td>\n",
       "      <td>142876.000000</td>\n",
       "      <td>6517.000000</td>\n",
       "      <td>NaN</td>\n",
       "      <td>1.000000</td>\n",
       "      <td>1.020000e+02</td>\n",
       "      <td>127.047672</td>\n",
       "      <td>37.511207</td>\n",
       "    </tr>\n",
       "    <tr>\n",
       "      <th>75%</th>\n",
       "      <td>2.479404e+07</td>\n",
       "      <td>NaN</td>\n",
       "      <td>NaN</td>\n",
       "      <td>NaN</td>\n",
       "      <td>NaN</td>\n",
       "      <td>NaN</td>\n",
       "      <td>NaN</td>\n",
       "      <td>NaN</td>\n",
       "      <td>NaN</td>\n",
       "      <td>NaN</td>\n",
       "      <td>...</td>\n",
       "      <td>2.623010e+24</td>\n",
       "      <td>NaN</td>\n",
       "      <td>NaN</td>\n",
       "      <td>604042.000000</td>\n",
       "      <td>46567.000000</td>\n",
       "      <td>NaN</td>\n",
       "      <td>2.000000</td>\n",
       "      <td>2.120000e+02</td>\n",
       "      <td>128.986938</td>\n",
       "      <td>37.560362</td>\n",
       "    </tr>\n",
       "    <tr>\n",
       "      <th>max</th>\n",
       "      <td>2.852486e+07</td>\n",
       "      <td>NaN</td>\n",
       "      <td>NaN</td>\n",
       "      <td>NaN</td>\n",
       "      <td>NaN</td>\n",
       "      <td>NaN</td>\n",
       "      <td>NaN</td>\n",
       "      <td>NaN</td>\n",
       "      <td>NaN</td>\n",
       "      <td>NaN</td>\n",
       "      <td>...</td>\n",
       "      <td>2.671030e+24</td>\n",
       "      <td>NaN</td>\n",
       "      <td>NaN</td>\n",
       "      <td>619963.000000</td>\n",
       "      <td>49527.000000</td>\n",
       "      <td>NaN</td>\n",
       "      <td>4567.000000</td>\n",
       "      <td>3.421314e+06</td>\n",
       "      <td>129.292243</td>\n",
       "      <td>37.692398</td>\n",
       "    </tr>\n",
       "  </tbody>\n",
       "</table>\n",
       "<p>11 rows × 39 columns</p>\n",
       "</div>"
      ],
      "text/plain": [
       "              상가업소번호     상호명    지점명 상권업종대분류코드 상권업종대분류명 상권업종중분류코드 상권업종중분류명  \\\n",
       "count   5.736800e+05  573679  76674    573680   573680    573680   573680   \n",
       "unique           NaN  378758  27419         9        9        94       94   \n",
       "top              NaN   점프셈교실    강남점         Q       음식       Q01       한식   \n",
       "freq             NaN    2297    500    185516   185516     59725    59725   \n",
       "mean    2.044501e+07     NaN    NaN       NaN      NaN       NaN      NaN   \n",
       "std     5.205697e+06     NaN    NaN       NaN      NaN       NaN      NaN   \n",
       "min     2.890524e+06     NaN    NaN       NaN      NaN       NaN      NaN   \n",
       "25%     1.607177e+07     NaN    NaN       NaN      NaN       NaN      NaN   \n",
       "50%     2.212026e+07     NaN    NaN       NaN      NaN       NaN      NaN   \n",
       "75%     2.479404e+07     NaN    NaN       NaN      NaN       NaN      NaN   \n",
       "max     2.852486e+07     NaN    NaN       NaN      NaN       NaN      NaN   \n",
       "\n",
       "       상권업종소분류코드   상권업종소분류명 표준산업분류코드  ...        건물관리번호     건물명  \\\n",
       "count     573680     573680   539290  ...  5.736800e+05  265608   \n",
       "unique       709        709      211  ...           NaN   38877   \n",
       "top       Q01A01  한식/백반/한정식   I56111  ...           NaN   롯데백화점   \n",
       "freq       38133      38133    75372  ...           NaN    1410   \n",
       "mean         NaN        NaN      NaN  ...  1.576363e+24     NaN   \n",
       "std          NaN        NaN      NaN  ...  6.764854e+23     NaN   \n",
       "min          NaN        NaN      NaN  ...  1.111010e+24     NaN   \n",
       "25%          NaN        NaN      NaN  ...  1.132010e+24     NaN   \n",
       "50%          NaN        NaN      NaN  ...  1.162010e+24     NaN   \n",
       "75%          NaN        NaN      NaN  ...  2.623010e+24     NaN   \n",
       "max          NaN        NaN      NaN  ...  2.671030e+24     NaN   \n",
       "\n",
       "                      도로명주소          구우편번호          신우편번호    동정보  \\\n",
       "count                573680  573680.000000  573671.000000  50856   \n",
       "unique               190486            NaN            NaN   1219   \n",
       "top     부산광역시 부산진구 가야대로 772            NaN            NaN      1   \n",
       "freq                   1058            NaN            NaN  10778   \n",
       "mean                    NaN  273865.589341   17531.336024    NaN   \n",
       "std                     NaN  215630.650361   19418.733839    NaN   \n",
       "min                     NaN  100011.000000    1000.000000    NaN   \n",
       "25%                     NaN  134856.000000    4385.000000    NaN   \n",
       "50%                     NaN  142876.000000    6517.000000    NaN   \n",
       "75%                     NaN  604042.000000   46567.000000    NaN   \n",
       "max                     NaN  619963.000000   49527.000000    NaN   \n",
       "\n",
       "                  층정보           호정보             경도             위도  \n",
       "count   345587.000000  8.344000e+04  573680.000000  573680.000000  \n",
       "unique            NaN           NaN            NaN            NaN  \n",
       "top               NaN           NaN            NaN            NaN  \n",
       "freq              NaN           NaN            NaN            NaN  \n",
       "mean         2.054501  5.318003e+02     127.596287      36.854698  \n",
       "std          8.942686  1.935744e+04       0.941262       1.081285  \n",
       "min        -15.000000 -5.010000e+02     126.768169      35.006760  \n",
       "25%          1.000000  4.000000e+00     126.968316      35.215422  \n",
       "50%          1.000000  1.020000e+02     127.047672      37.511207  \n",
       "75%          2.000000  2.120000e+02     128.986938      37.560362  \n",
       "max       4567.000000  3.421314e+06     129.292243      37.692398  \n",
       "\n",
       "[11 rows x 39 columns]"
      ]
     },
     "execution_count": 21,
     "metadata": {},
     "output_type": "execute_result"
    }
   ],
   "source": [
    "# 수치, 문자형 모두 요약.\n",
    "df.describe(include=\"all\")"
   ]
  },
  {
   "cell_type": "markdown",
   "metadata": {},
   "source": [
    "# 1.11.3 중복제거한 값 보기"
   ]
  },
  {
   "cell_type": "code",
   "execution_count": 28,
   "metadata": {},
   "outputs": [
    {
     "name": "stdout",
     "output_type": "stream",
     "text": [
      "['음식' '생활서비스' '소매' '의료' '학문/교육' '관광/여가/오락' '부동산' '숙박' '스포츠']\n",
      "9\n"
     ]
    }
   ],
   "source": [
    "#상권업종대분류명\n",
    "print(df[\"상권업종대분류명\"].unique())\n",
    "print(df[\"상권업종대분류명\"].nunique())"
   ]
  },
  {
   "cell_type": "code",
   "execution_count": 43,
   "metadata": {},
   "outputs": [
    {
     "name": "stdout",
     "output_type": "stream",
     "text": [
      "['유흥주점' '커피점/카페' '패스트푸드' '대중목욕탕/휴게' '일식/수산물' '분식' '한식' '음/식료품소매' '건강/미용식품'\n",
      " '선물/팬시/기념품' '양식' '중식' '종합소매점' '병원' '화장품소매' '학원-어학' '의복의류' 'PC/오락/당구/볼링등'\n",
      " '별식/퓨전요리' '학원-자격/국가고시' '도서관/독서실' '가정/주방/인테리어' '학원-음악미술무용' '무도/유흥/가무'\n",
      " '이/미용/건강' '사진/광학/정밀기기소매' '세탁/가사서비스' '닭/오리요리' '책/서적/도서' '예식/의례/관혼상제'\n",
      " '광고/인쇄' '학원-예능취미체육' '운송/배달/택배' '기타음식업' '부동산중개' '주유소/충전소' '철물/난방/건설자재소매'\n",
      " '유아교육' '주택수리' '사무/문구/컴퓨터' '약국/한약방' '물품기기대여' '자동차/이륜차' '자동차/자동차용품' '가구소매'\n",
      " '개인/가정용품수리' '학원-보습교습입시' '기타판매업' '유사의료업' '학원기타' '개인서비스' '시계/귀금속소매' '사진'\n",
      " '요가/단전/마사지' '학문교육기타' '가방/신발/액세서리' '대행업' '페인트/유리제품소매' '중고품소매/교환'\n",
      " '인력/고용/용역알선' '애견/애완/동물' '음식배달서비스' '가전제품소매' '유아용품' '학원-컴퓨터' '기타서비스업'\n",
      " '운동/경기용품소매' '장례/묘지' '법무세무회계' '취미/오락관련소매' '연극/영화/극장' '평가/개발/관리' '수의업'\n",
      " '호텔/콘도' '모텔/여관/여인숙' '분양' '제과제빵떡케익' '학원-창업취업취미' '의약/의료품소매' '행사/이벤트'\n",
      " '경마/경륜/성인오락' '예술품/골동품/수석/분재' '부페' '의료관련서비스업' '스포츠/운동' '종교용품판매' '놀이/여가/취미'\n",
      " '캠프/별장/펜션' '민박/하숙' '유스호스텔' '부동산관련서비스' '실내운동시설' '운영관리시설' '실외운동시설']\n",
      "94\n"
     ]
    }
   ],
   "source": [
    "#상권업종중분류명\n",
    "print(df[\"상권업종중분류명\"].unique())\n",
    "print(df[\"상권업종중분류명\"].nunique())"
   ]
  },
  {
   "cell_type": "code",
   "execution_count": 44,
   "metadata": {},
   "outputs": [
    {
     "name": "stdout",
     "output_type": "stream",
     "text": [
      "['호프/맥주' '커피전문점/카페/다방' '토스트전문' '사우나/증기탕/온천' '음식점-초밥전문' '라면김밥분식' '피자전문'\n",
      " '갈비/삼겹살' '한식/백반/한정식' '아구전문' '청과물소매' '도너츠전문' '건강원' '토산품/기념품점' '낙지/오징어'\n",
      " '정통양식/경양식' '중국음식/중국집' '종합소매' '바베큐전문' '내과/외과' '생식판매' '패스트푸드' '건강식품판매'\n",
      " '기타병원' '부대찌개/섞어찌개' '룸살롱/단란주점' '해장국/감자탕' '빠/카페/스탠드빠' '화장품판매점' '다이어트상품판매'\n",
      " '국수/만두/칼국수' '음식점-일식' '학원-외국어/어학' '한복/갈옷/민속옷' '기원' '식료품점' '아이스크림판매'\n",
      " '샤브샤브전문' '셔츠/내의/속옷' '학원-보석감정' '횟집' '독서실' '인테리어/욕실용품/커튼' '학원-국악' '노래방'\n",
      " '욕탕업-종합' '여성미용실' '소아과' '안경원' '홍어전문' '방앗간/정미소' '후라이드/양념치킨' '도시락전문점' '지도판매'\n",
      " '폐백전문' '남성미용실' '인쇄종합' '선물용품판매' '서예/서화/미술' '정형/성형외과' '태권도장' '종합이삿짐대행'\n",
      " '광고대행-전화번호부' '구내식당/자급식음식점' '부동산중개' '참치전문점' '한의원' '주유소' '셔터/새시판매' '어린이집'\n",
      " '배관난방보일러' '간판제작종합' '냉동식품판매' '철물/건설자재소매' '치과의원' '조명기구/전기용품' '일반병원'\n",
      " '사무/문구용품' '피아노/바이올린/기타' '약국' '렌트카' '자동차정비/카센타' '자동차부품판매' '중고자동차판매'\n",
      " '일반가구소매' '개인/가정용품수리-종합' '학원-입시' 'LPG판매' '침구/수예품' '가전제품수리' '예식장/예식서비스'\n",
      " '가구판매-돌침대' '무도장' '노인/치매병원' '언어치료' '자동차판매' '자동차장식품판매' '아동복판매' '학원(종합)'\n",
      " '운명감정작명' '에어컨수리/설치' '시계/귀금속' '정수기연수기' '보일러/냉난방용품' '저울판매' '사진관' '스포츠마사지'\n",
      " '학습지보급' '구두제화/캐주얼화' '신발소매' '이민유학알선' '가스설비' '오토바이판매/수리' '인장/도장' '목욕업-찜질방'\n",
      " '구판장/직판장' '맞춤양장/양장점' '우동전문점' '페인트/유리제품소매' '한정식전문' '학원-무용' '볼링장' '유류판매'\n",
      " '법복(승복)판매' '재활용/고물수집' '잡화점' '우체국/우편물취급소' '사무용기기소매' '꽃집/꽃배달' '인력공급/고용알선'\n",
      " '주차장운영' '핸드폰소매' '캐쥬얼/스포츠의류' '컴퓨터수리' '애견/애완/동물사육판매' '생수판매' '관광/유흥주점'\n",
      " '종합병원' '학원-기타' '인삼제품판매' '잡지/신문소매' '일반의류' '국/찌개배달' '공예품판매' '고시원' '열쇠판매/수리'\n",
      " '서점' '비디오감상실' '미싱판매' '광고물제작' '침구원' '학원-바둑' '정보통신기기수리' '편의점' '한방병원'\n",
      " '나이트클럽' '학원-이용' '안전보호구판매' '지압원' '이비인후과의원' '카오디오전문' '양품점' '일반가전제품'\n",
      " '유아/임부복' '교복판매' '미곡상' '컴퓨터학원' '수퍼마켓' '당구장' '가정용가구/기기임대' '보석감정' '기타일반유흥주점'\n",
      " '컴퓨터/주변기기' '진열장판매' '수입자동차판매' '차량가스충전소' '지도제작' '가사도우미알선' '놀이방' '한약방'\n",
      " '주택수리종합' '번역/통역서비스' '여성의류전문점' '미장타일도배도장' '세차장' '등산용품판매' '장의사/관련서비스-종합'\n",
      " '목제품판매' '신발세탁' '타이어판매' '기타전문서양음식점' '우산/우의판매' '법무관련서비스-종합' '그릇판매' '골프용품판매'\n",
      " '수족관' '가죽/모피의류' '연극/음악/예술관련기타' '섬유/직물/주단' '부동산자문' '학원-편입' '학원-간호조무사'\n",
      " '비만/피부관리' '반찬가게' '세탁소/빨래방' '네비게이션판매' '유리창호' '완구점' '청소/소독' '동물병원' '호텔/콘도'\n",
      " '주방가구판매' '냉면집' '모텔/여관/여인숙' '학원-스포츠/재즈댄스' '발/네일케어' '스테이크전문점' '조개구이전문'\n",
      " '상품전시' '유리/페인트/철물건축자재' '매운탕전문' '금은방' '복사대행' '중고가전가구' '패션디자인' '탕수육전문점'\n",
      " '건물분양-종합' '인터넷PC방' '주택공급' '제과점' '학원-어린이영어' '남성의류전문점' '통신판매' '상품포장'\n",
      " '사업경영상담' '학원-광고디자인' '여성내의전문점' '가방/가죽제품소매' '육류소매' '사업중개업' '묘지관리-종합' '정육점'\n",
      " '상가분양' '광고물제작-종합' '운동/경기용품' '의료용품소매' '연예인대리업' '곱창/양구이전문' '갈치/생선구이'\n",
      " '서적/신문소매' '생과자점' '오락게임기구/장난감소매' '탐정/경호' '검도도장' '닭갈비전문' '전화기판매' '생활용품판매'\n",
      " '안마시술소' '맞춤양복/양복점' '학원-주산암산부기속셈' '유사의료업기타' '지물판매' '민물장어전문' '수입품판매점'\n",
      " '족발/보쌈전문' '순대전문점' '설렁탕집' '떡볶이전문' '그림/액자판매' '게임룸' '요가/단식' '건축백화점' '합기도장'\n",
      " '복권판매' '떡/한과집' '도서/만화대여' '기타고기요리' '잉크충전' '옷수선' '악기수선' '수산물소매' '액세서리판매'\n",
      " '스낵' '학원-역학' '보청기판매' '학원-미용' '떡전문' '학원-배우/탤런트' '화방/필방' '체형미교실' '단전호흡'\n",
      " '꼬치구이전문점' '척추교정치료' '표구점' '카레전문점' '기사식당' '자동판매기운영' '학원-심리변론' '연탄판매'\n",
      " '자전거판매/수리' '유리/거울판매' '행사대행' '유도장' '골동품판매' '컴퓨터전문매장' '화랑' '시장/종합상가' '민속주점'\n",
      " '산부인과' '피부과' '솜틀집' '수도설비' '세탁대행' '학원-국가고시' '해물찜/탕전문' '할인점' '비디오/오디오테이프대여'\n",
      " '학원-복장' '음반/테이프/CD' '노점/유사이동판매' '학원-경영' '돈가스전문점' '케익전문점' '닭내장/닭발요리'\n",
      " '특수복판매' '돌솥/비빕밥전문점' '광택전문' '생과일주스전문점' '수산물전문음식점-종합' '추어탕전문' '보리밥전문'\n",
      " '오리고기전문' '무도유흥주점-종합' '패밀리레스토랑' '삼계탕전문' '소주방/포장마차' '탕제원' '백화점' '종합부페'\n",
      " '파전전문' '건강보조기구판매' '샌드위치전문점' '녹즙판매' '죽전문점' '유기농식품판매' '바닷가재/게요리전문' '두부요리전문'\n",
      " '동남아음식전문점' '야식집' '우유판매' '출장파티/연회대행' '찐빵전문' '얼음가게' '사주카페' '전통찻집/인삼찻집'\n",
      " '건강/헬스용품' '가방구두수전' '가구판매-수입가구' '편집대행' '산후조리원' '로바다야끼' '복전문' '디스플레이대행'\n",
      " '학원-만화영화' '주방용품' '가구판매-사무용가구' '스케이트장' '학원/국가고시' '조립식앵글판매' '식자재판매'\n",
      " '학원-꽃꽃이' '응급구조대' '현미경/망원경판매' '치과병원' '유아교육기관기타' '지역정보지' '사무기기대여' '부동산감정평가'\n",
      " '혈액원' '유니폼/맞춤복/단체복' '곡물소매' '홈패션' '이벤트기획' '경보기판매' '열쇠제작' '도료염료' '오디오전문점'\n",
      " '악기판매' '카페트판매' '가구판매-침대전문' '노래방기기판매' '비뇨기과' '학원-사교춤' '학원-웅변' '어물상'\n",
      " '수입가전제품판매' '중고명품판매교환' '연극공연/영화제작용품임대' '낚시용품판매' '학원-속독' '결혼상담소' '상품권판매'\n",
      " '운전연수전문' '종교용품판매-기독교' '액자점' '건어물상' '학원-공예' '학원-요리' '유아용품판매' '심부름센터' '탁구장'\n",
      " '학원-자동차운전' '신경외과' '바둑/장기용품판매' '닭집' '기념패/휘장' '전단지배포대행' '학원-디자인' '수입담배판매'\n",
      " '수석판매' '가구수리' '안과의원' '피아노조율' '신용카드조회기판매' '운동/코치학교' '예복/웨딩드레스' '차량연료소매-종합'\n",
      " '컴퓨터/사무용기기종합' '이동도서관운영' '가발판매' '자동차유리전문점' '금연관련제품판매' '사무대리서비스' '화폐수집상'\n",
      " '예절지도' '골프회원권거래소' '종교용품판매-불교' '자전거판매' '한국식유흥주점' '단식원' '아케이드/쇼핑센타'\n",
      " '조립칸막이/파티션' '성인용품판매' '수영용품판매' '애완동물 미용실' '무전기(판매/수리)' '풍선도소매' '전자오락실'\n",
      " '기능성신발판매' '생활정보제공서비스' '금고판매' '기독교서적판매' '학원-용접기술' '의류/한복대여' '시계방'\n",
      " '할인/아동도서' '소파침대카펫트세탁' '예술품/골동품소매' '고서적판매' '학원-에어로빅' '농자재판매' '비데판매'\n",
      " '카메라판매' '대서소' '치과기공소' '컴퓨터프로그램판매' '실내놀이터-유아' '학원-가요' '외국서적판매' '수상운동용품판매'\n",
      " '물물교환센타' '순두부전문' '상업사진' '접골원' '심야전기보일러판매' '학원-기계/금형기술' '의족/의수판매' '분재판매'\n",
      " '지물재단' '의약품소매' '광촉매판매' '사철탕전문' '가스레인지판매' '중고서적판매' '한식부페' '청바지판매' '곰장어전문'\n",
      " '스파게티전문점' '스키장비판매' '쌈밥전문' '사진/광학/정밀기기소매' '기타오락관련산업' '유과판매' '수의업-종합'\n",
      " '퀼트전문' '고객관리대행' '십자수/뜨개' '락카페' '물품감정서비스' '캠프/별장/펜션' '김치판매' '향수전문점' '황태전문'\n",
      " '옻닭전문' '등세공품판매' '블럭놀이방' '학원-간판디자인' '실내야구연습장' '혼수전문점' '제과재료판매' '학원-펜글씨/한문'\n",
      " '생활용품대여' '음식출장조달' '민박/하숙' '휴게텔' '가죽/모피수선' '애견카페' '작곡' '신용조사/흥신소' '보드게임카페'\n",
      " '핫도그' '퓨전음식전문' '수입중고자동차판매' '캐릭터상품' '관광/민예품/선물용품소매' '굴요리전문' '천주교서적판매'\n",
      " '실외야구연습장' '꽃꽂이(대행)' '학원-TV기술' '학원-세탁기술' '두유판매' '호스피스' '학원-실내운전'\n",
      " '학원-목욕관리사' '학원-한복기술' '조산원' '학원-전자통신' '가구판매-장농' '실내스케이트장' '필름판매점'\n",
      " '전자오락기구판매' '조합/연금매장' '학원-분장' '학원-건축토목기술' '컴퓨터대여' '리본공예판매' '종교용품판매-천주교'\n",
      " '고등어전문' '시험정보안내' '학원-경리' '찜닭전문점' '가구판매-응접세트' '사무실분양' '휴대폰튜닝' '학원-제과기술'\n",
      " '학원-검정고시' '부동산소유권조사' '학원-경찰' '유아용품/장난감대여판매' '총포상' '우표/공중전화카드수집상' '유아식품판매'\n",
      " '이벤트용품판매' '물수건대여' '태양열온수기판매' '주말농장' '학원-서당' '해물부페' '학원-사진' '도면제작대행'\n",
      " '국제회의용역' '재봉용품판매' '이삿짐보관' '식용유판매' '골동품수리' '롤러스케이트장' '불닭전문' '오락/스포츠용품대여'\n",
      " '고기부페' '레크레이션지도/상담' '물품대여종합' '가정용연료소매' '유스호스텔' '학원-관광통역' '학원-피부미용'\n",
      " '닭도리탕전문' '낚시터' '미용실-어린이' '세탁기구판매' '학원-목공예' '비디오카메라대여' '토종닭전문' '학원-미싱자수'\n",
      " '학원-공인중개사' '제기용품판매' '유산균아이스크림전문' '다이아몬드매매' '학원-마술' '포켓볼장' '학원-애견미용'\n",
      " '게장전문' '학원-지점토' '악기대여' '학원-칵테일' '학원-네일아트' '농기구판매' '업소용가전제품' '철판구이요리전문'\n",
      " '학원-속기' '중고타이어판매' '학원-도배' '실내낚시' '재첩국전문' '지점토판매' '인라인스케이트판매' '부동산신탁'\n",
      " '액세서리수선' '학원-스튜디어스' '학원-비디오' '불교서적판매' '조감도/투시도전문' '학원-레크리에이션'\n",
      " '학원-자수/동양자수' '종교서적판매' '활기원' '공연티켓예매' '조립모형소매' '학원-말더듬' '냉온수기소독/수리'\n",
      " '돌구이요리전문' '필체감정' '극장식유흥주점' '문서송달대행' '영사기판매' '특수사진기' '수의업-기타' '학원-기억법'\n",
      " '박제표본' '버섯전문점' '해외취업알선' '스티커사진방' '제사음식' '학원-전기기술' '차트제작' '사료소매' '학원-환경기사'\n",
      " '건과류판매' '징기스칸요리전문' '학원-텔렉스/통신' '농기구수리' '면세백화점' '고속도로휴게소' '컴퓨터입력대행'\n",
      " '피아노운반' '비즈공예' '학원-침술' '학원-기계고시' '가방대여' '학원-섬유기술' '학원-자동차정비' '호신용품판매'\n",
      " '종교용품판매' '볼링용품판매' '학원-캐드' '사진/원고/기록물대여' '오락용사격장' '동화구연' '학원-편물기술'\n",
      " '동물약품판매' '화환/화분대여' '학원-디스플레이' '체육관' '선식판매' '가구판매-등가구' '회갑연서비스' '학원-배관용접'\n",
      " '초상화제작' '학원-냉동열관리' '패션쇼대행' '학원-아트플라워' '학원-양재' '컴퓨터서적판매' '드라이아이스판매' '응원기획'\n",
      " '학원-중장비' '채식/한식부페' '비행훈련원' '장식품대여' '파라솔판매' '킥복싱' '헬스클럽' '가죽모피세탁' '음악감상'\n",
      " '기타운영설비' '기타경기후원업/경기단체' '스포츠센터' '실내수영장' '실내골프연습장' '기타실내운동시설' '골프장' '복싱도장'\n",
      " '테니스장' '수영장' '이종격투기' '학원-항공기술' '인공암벽' '학원-동물사육' '운동경기협회']\n",
      "709\n"
     ]
    }
   ],
   "source": [
    "#상권업종소분류명\n",
    "print(df[\"상권업종소분류명\"].unique())\n",
    "print(df[\"상권업종소분류명\"].nunique()) # len으로 개수를 셀 수도 있다."
   ]
  },
  {
   "cell_type": "markdown",
   "metadata": {},
   "source": [
    "# 1.11.4 그룹화된 요약값 보기 - value counts"
   ]
  },
  {
   "cell_type": "code",
   "execution_count": 4,
   "metadata": {},
   "outputs": [
    {
     "data": {
      "text/plain": [
       "서울특별시    407376\n",
       "부산광역시    166304\n",
       "Name: 시도명, dtype: int64"
      ]
     },
     "execution_count": 4,
     "metadata": {},
     "output_type": "execute_result"
    }
   ],
   "source": [
    "#value_counts!\n",
    "city = df[\"시도명\"].value_counts()\n",
    "df[\"시도명\"].value_counts()"
   ]
  },
  {
   "cell_type": "code",
   "execution_count": 48,
   "metadata": {},
   "outputs": [
    {
     "data": {
      "text/plain": [
       "음식          185516\n",
       "소매          179460\n",
       "생활서비스        97789\n",
       "학문/교육        42477\n",
       "의료           25509\n",
       "부동산          20918\n",
       "관광/여가/오락     16377\n",
       "숙박            5327\n",
       "스포츠            307\n",
       "Name: 상권업종대분류명, dtype: int64"
      ]
     },
     "execution_count": 48,
     "metadata": {},
     "output_type": "execute_result"
    }
   ],
   "source": [
    "df[\"상권업종대분류명\"].value_counts()"
   ]
  },
  {
   "cell_type": "code",
   "execution_count": 5,
   "metadata": {},
   "outputs": [
    {
     "data": {
      "text/plain": [
       "음식          0.323379\n",
       "소매          0.312822\n",
       "생활서비스       0.170459\n",
       "학문/교육       0.074043\n",
       "의료          0.044466\n",
       "부동산         0.036463\n",
       "관광/여가/오락    0.028547\n",
       "숙박          0.009286\n",
       "스포츠         0.000535\n",
       "Name: 상권업종대분류명, dtype: float64"
      ]
     },
     "execution_count": 5,
     "metadata": {},
     "output_type": "execute_result"
    }
   ],
   "source": [
    "# normalize = True 옵션을 사용하면 비율을 구할 수 있다.\n",
    "city_normalize = df[\"시도명\"].value_counts(normalize = True)\n",
    "df[\"상권업종대분류명\"].value_counts(normalize = True)"
   ]
  },
  {
   "cell_type": "code",
   "execution_count": 6,
   "metadata": {},
   "outputs": [
    {
     "data": {
      "text/plain": [
       "<matplotlib.axes._subplots.AxesSubplot at 0x235bff21b48>"
      ]
     },
     "execution_count": 6,
     "metadata": {},
     "output_type": "execute_result"
    },
    {
     "name": "stderr",
     "output_type": "stream",
     "text": [
      "C:\\Users\\LeeKwangWon\\anaconda3\\lib\\site-packages\\matplotlib\\backends\\backend_agg.py:211: RuntimeWarning: Glyph 49436 missing from current font.\n",
      "  font.set_text(s, 0.0, flags=flags)\n",
      "C:\\Users\\LeeKwangWon\\anaconda3\\lib\\site-packages\\matplotlib\\backends\\backend_agg.py:211: RuntimeWarning: Glyph 50872 missing from current font.\n",
      "  font.set_text(s, 0.0, flags=flags)\n",
      "C:\\Users\\LeeKwangWon\\anaconda3\\lib\\site-packages\\matplotlib\\backends\\backend_agg.py:211: RuntimeWarning: Glyph 53945 missing from current font.\n",
      "  font.set_text(s, 0.0, flags=flags)\n",
      "C:\\Users\\LeeKwangWon\\anaconda3\\lib\\site-packages\\matplotlib\\backends\\backend_agg.py:211: RuntimeWarning: Glyph 48324 missing from current font.\n",
      "  font.set_text(s, 0.0, flags=flags)\n",
      "C:\\Users\\LeeKwangWon\\anaconda3\\lib\\site-packages\\matplotlib\\backends\\backend_agg.py:211: RuntimeWarning: Glyph 49884 missing from current font.\n",
      "  font.set_text(s, 0.0, flags=flags)\n",
      "C:\\Users\\LeeKwangWon\\anaconda3\\lib\\site-packages\\matplotlib\\backends\\backend_agg.py:211: RuntimeWarning: Glyph 48512 missing from current font.\n",
      "  font.set_text(s, 0.0, flags=flags)\n",
      "C:\\Users\\LeeKwangWon\\anaconda3\\lib\\site-packages\\matplotlib\\backends\\backend_agg.py:211: RuntimeWarning: Glyph 49328 missing from current font.\n",
      "  font.set_text(s, 0.0, flags=flags)\n",
      "C:\\Users\\LeeKwangWon\\anaconda3\\lib\\site-packages\\matplotlib\\backends\\backend_agg.py:211: RuntimeWarning: Glyph 44305 missing from current font.\n",
      "  font.set_text(s, 0.0, flags=flags)\n",
      "C:\\Users\\LeeKwangWon\\anaconda3\\lib\\site-packages\\matplotlib\\backends\\backend_agg.py:211: RuntimeWarning: Glyph 50669 missing from current font.\n",
      "  font.set_text(s, 0.0, flags=flags)\n",
      "C:\\Users\\LeeKwangWon\\anaconda3\\lib\\site-packages\\matplotlib\\backends\\backend_agg.py:180: RuntimeWarning: Glyph 49436 missing from current font.\n",
      "  font.set_text(s, 0, flags=flags)\n",
      "C:\\Users\\LeeKwangWon\\anaconda3\\lib\\site-packages\\matplotlib\\backends\\backend_agg.py:180: RuntimeWarning: Glyph 50872 missing from current font.\n",
      "  font.set_text(s, 0, flags=flags)\n",
      "C:\\Users\\LeeKwangWon\\anaconda3\\lib\\site-packages\\matplotlib\\backends\\backend_agg.py:180: RuntimeWarning: Glyph 53945 missing from current font.\n",
      "  font.set_text(s, 0, flags=flags)\n",
      "C:\\Users\\LeeKwangWon\\anaconda3\\lib\\site-packages\\matplotlib\\backends\\backend_agg.py:180: RuntimeWarning: Glyph 48324 missing from current font.\n",
      "  font.set_text(s, 0, flags=flags)\n",
      "C:\\Users\\LeeKwangWon\\anaconda3\\lib\\site-packages\\matplotlib\\backends\\backend_agg.py:180: RuntimeWarning: Glyph 49884 missing from current font.\n",
      "  font.set_text(s, 0, flags=flags)\n",
      "C:\\Users\\LeeKwangWon\\anaconda3\\lib\\site-packages\\matplotlib\\backends\\backend_agg.py:180: RuntimeWarning: Glyph 48512 missing from current font.\n",
      "  font.set_text(s, 0, flags=flags)\n",
      "C:\\Users\\LeeKwangWon\\anaconda3\\lib\\site-packages\\matplotlib\\backends\\backend_agg.py:180: RuntimeWarning: Glyph 49328 missing from current font.\n",
      "  font.set_text(s, 0, flags=flags)\n",
      "C:\\Users\\LeeKwangWon\\anaconda3\\lib\\site-packages\\matplotlib\\backends\\backend_agg.py:180: RuntimeWarning: Glyph 44305 missing from current font.\n",
      "  font.set_text(s, 0, flags=flags)\n",
      "C:\\Users\\LeeKwangWon\\anaconda3\\lib\\site-packages\\matplotlib\\backends\\backend_agg.py:180: RuntimeWarning: Glyph 50669 missing from current font.\n",
      "  font.set_text(s, 0, flags=flags)\n"
     ]
    },
    {
     "data": {
      "image/png": "[encoded data removed]",
      "text/plain": [
       "<Figure size 432x288 with 1 Axes>"
      ]
     },
     "metadata": {
      "needs_background": "light"
     },
     "output_type": "display_data"
    }
   ],
   "source": [
    "#위에서 분석한 시도명 수를 막대그래프로 그리기.\n",
    "city.plot.barh()"
   ]
  },
  {
   "cell_type": "code",
   "execution_count": 7,
   "metadata": {},
   "outputs": [
    {
     "data": {
      "text/plain": [
       "<matplotlib.axes._subplots.AxesSubplot at 0x235c02cfb48>"
      ]
     },
     "execution_count": 7,
     "metadata": {},
     "output_type": "execute_result"
    },
    {
     "name": "stderr",
     "output_type": "stream",
     "text": [
      "C:\\Users\\LeeKwangWon\\anaconda3\\lib\\site-packages\\matplotlib\\backends\\backend_agg.py:211: RuntimeWarning: Glyph 46020 missing from current font.\n",
      "  font.set_text(s, 0.0, flags=flags)\n",
      "C:\\Users\\LeeKwangWon\\anaconda3\\lib\\site-packages\\matplotlib\\backends\\backend_agg.py:211: RuntimeWarning: Glyph 47749 missing from current font.\n",
      "  font.set_text(s, 0.0, flags=flags)\n",
      "C:\\Users\\LeeKwangWon\\anaconda3\\lib\\site-packages\\matplotlib\\backends\\backend_agg.py:180: RuntimeWarning: Glyph 46020 missing from current font.\n",
      "  font.set_text(s, 0, flags=flags)\n",
      "C:\\Users\\LeeKwangWon\\anaconda3\\lib\\site-packages\\matplotlib\\backends\\backend_agg.py:180: RuntimeWarning: Glyph 47749 missing from current font.\n",
      "  font.set_text(s, 0, flags=flags)\n"
     ]
    },
    {
     "data": {
      "image/png": "[encoded data removed]",
      "text/plain": [
       "<Figure size 504x504 with 1 Axes>"
      ]
     },
     "metadata": {},
     "output_type": "display_data"
    }
   ],
   "source": [
    "city.plot.pie(figsize = (7,7))"
   ]
  },
  {
   "cell_type": "code",
   "execution_count": 8,
   "metadata": {},
   "outputs": [
    {
     "data": {
      "text/plain": [
       "<matplotlib.axes._subplots.AxesSubplot at 0x235c1d22788>"
      ]
     },
     "execution_count": 8,
     "metadata": {},
     "output_type": "execute_result"
    },
    {
     "data": {
      "image/png": "[encoded data removed]",
      "text/plain": [
       "<Figure size 504x504 with 1 Axes>"
      ]
     },
     "metadata": {},
     "output_type": "display_data"
    }
   ],
   "source": [
    "city_normalize.plot.pie(figsize = (7,7))"
   ]
  },
  {
   "cell_type": "markdown",
   "metadata": {},
   "source": [
    "# 3.6 데이터 요약하기 - seaborn으로 빈도수 시각화하기"
   ]
  },
  {
   "cell_type": "code",
   "execution_count": 10,
   "metadata": {},
   "outputs": [
    {
     "data": {
      "text/plain": [
       "<matplotlib.axes._subplots.AxesSubplot at 0x235c5491f88>"
      ]
     },
     "execution_count": 10,
     "metadata": {},
     "output_type": "execute_result"
    },
    {
     "data": {
      "image/png": "[encoded data removed]",
      "text/plain": [
       "<Figure size 432x288 with 1 Axes>"
      ]
     },
     "metadata": {
      "needs_background": "light"
     },
     "output_type": "display_data"
    }
   ],
   "source": [
    "sns.countplot(data = df, y = \"시도명\") # x = 으로 수정해도 괜찮음."
   ]
  },
  {
   "cell_type": "code",
   "execution_count": 11,
   "metadata": {},
   "outputs": [
    {
     "data": {
      "text/plain": [
       "음식          185516\n",
       "소매          179460\n",
       "생활서비스        97789\n",
       "학문/교육        42477\n",
       "의료           25509\n",
       "부동산          20918\n",
       "관광/여가/오락     16377\n",
       "숙박            5327\n",
       "스포츠            307\n",
       "Name: 상권업종대분류명, dtype: int64"
      ]
     },
     "execution_count": 11,
     "metadata": {},
     "output_type": "execute_result"
    }
   ],
   "source": [
    "# 상권업종대분류명의 개수 세기.\n",
    "df[\"상권업종대분류명\"].value_counts()"
   ]
  },
  {
   "cell_type": "code",
   "execution_count": 12,
   "metadata": {},
   "outputs": [
    {
     "data": {
      "text/plain": [
       "한식          59725\n",
       "이/미용/건강     44822\n",
       "종합소매점       36098\n",
       "의복의류        32956\n",
       "유흥주점        24017\n",
       "            ...  \n",
       "스포츠/운동         54\n",
       "운영관리시설         25\n",
       "유스호스텔          18\n",
       "실외운동시설         16\n",
       "부동산관련서비스        5\n",
       "Name: 상권업종중분류명, Length: 94, dtype: int64"
      ]
     },
     "execution_count": 12,
     "metadata": {},
     "output_type": "execute_result"
    }
   ],
   "source": [
    "# 상권업종중분류명의 개수 세기.\n",
    "df[\"상권업종중분류명\"].value_counts()"
   ]
  },
  {
   "cell_type": "code",
   "execution_count": 15,
   "metadata": {},
   "outputs": [
    {
     "data": {
      "text/plain": [
       "음식          0.323379\n",
       "소매          0.312822\n",
       "생활서비스       0.170459\n",
       "학문/교육       0.074043\n",
       "의료          0.044466\n",
       "부동산         0.036463\n",
       "관광/여가/오락    0.028547\n",
       "숙박          0.009286\n",
       "스포츠         0.000535\n",
       "Name: 상권업종대분류명, dtype: float64"
      ]
     },
     "execution_count": 15,
     "metadata": {},
     "output_type": "execute_result"
    }
   ],
   "source": [
    "#normalize로 비율을 구하자.\n",
    "n = df[\"상권업종대분류명\"].value_counts(normalize = True)\n",
    "n"
   ]
  },
  {
   "cell_type": "code",
   "execution_count": 29,
   "metadata": {},
   "outputs": [
    {
     "data": {
      "text/plain": [
       "<matplotlib.axes._subplots.AxesSubplot at 0x235c340dbc8>"
      ]
     },
     "execution_count": 29,
     "metadata": {},
     "output_type": "execute_result"
    },
    {
     "data": {
      "image/png": "[encoded data removed]",
      "text/plain": [
       "<Figure size 720x504 with 1 Axes>"
      ]
     },
     "metadata": {
      "needs_background": "light"
     },
     "output_type": "display_data"
    }
   ],
   "source": [
    "n.plot.bar(rot = 0,figsize = (10,7))"
   ]
  },
  {
   "cell_type": "code",
   "execution_count": 31,
   "metadata": {},
   "outputs": [
    {
     "data": {
      "text/plain": [
       "<matplotlib.axes._subplots.AxesSubplot at 0x235c34bd208>"
      ]
     },
     "execution_count": 31,
     "metadata": {},
     "output_type": "execute_result"
    },
    {
     "data": {
      "image/png": "[encoded data removed]",
      "text/plain": [
       "<Figure size 720x504 with 1 Axes>"
      ]
     },
     "metadata": {},
     "output_type": "display_data"
    }
   ],
   "source": [
    "n.plot.pie(figsize = (10,7))"
   ]
  },
  {
   "cell_type": "code",
   "execution_count": 36,
   "metadata": {},
   "outputs": [
    {
     "data": {
      "text/plain": [
       "<matplotlib.axes._subplots.AxesSubplot at 0x235c367f3c8>"
      ]
     },
     "execution_count": 36,
     "metadata": {},
     "output_type": "execute_result"
    },
    {
     "data": {
      "image/png": "[encoded data removed]",
      "text/plain": [
       "<Figure size 504x504 with 1 Axes>"
      ]
     },
     "metadata": {
      "needs_background": "light"
     },
     "output_type": "display_data"
    }
   ],
   "source": [
    "n.plot.barh(rot = 0,figsize = (7,7))"
   ]
  }
 ],
 "metadata": {
  "kernelspec": {
   "display_name": "Python 3",
   "language": "python",
   "name": "python3"
  },
  "language_info": {
   "codemirror_mode": {
    "name": "ipython",
    "version": 3
   },
   "file_extension": ".py",
   "mimetype": "text/x-python",
   "name": "python",
   "nbconvert_exporter": "python",
   "pygments_lexer": "ipython3",
   "version": "3.7.6"
  }
 },
 "nbformat": 4,
 "nbformat_minor": 4
}
