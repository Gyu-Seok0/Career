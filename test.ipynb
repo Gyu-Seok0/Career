{
 "cells": [
  {
   "cell_type": "code",
   "execution_count": 17,
   "metadata": {},
   "outputs": [
    {
     "name": "stdout",
     "output_type": "stream",
     "text": [
      "packs loaded\n"
     ]
    }
   ],
   "source": [
    "import numpy as np\n",
    "import tensorflow.compat.v1 as tf\n",
    "tf.disable_v2_behavior()\n",
    "\n",
    "import matplotlib.pyplot as plt\n",
    "from tensorflow.keras.datasets import mnist # 앞으로는 이렇게 mnist를 호출하면 됌.\n",
    "\n",
    "sess = tf.Session()\n",
    "%matplotlib inline  \n",
    "print (\"packs loaded\")"
   ]
  },
  {
   "cell_type": "code",
   "execution_count": 18,
   "metadata": {},
   "outputs": [],
   "source": [
    "(X_train, Y_train), (X_test, Y_test) = mnist.load_data()\n",
    "Y_train = np.eye(10)[Y_train]\n",
    "Y_test = np.eye(10)[Y_test]\n"
   ]
  },
  {
   "cell_type": "code",
   "execution_count": 55,
   "metadata": {},
   "outputs": [],
   "source": [
    "x = tf.placeholder(\"float\", [None, 784]) \n",
    "y = tf.placeholder(\"float\", [None, 10])  # None is for infinite \n",
    "W = tf.Variable(tf.zeros([784, 10]))\n",
    "b = tf.Variable(tf.zeros([10]))\n",
    "# LOGISTIC REGRESSION MODEL\n",
    "actv = tf.nn.softmax(tf.matmul(x, W) + b) \n",
    "# COST FUNCTION\n",
    "#cost = tf.reduce_mean(-tf.reduce_sum(y*tf.log(actv), reduction_indices=1)) \n",
    "cost = tf.reduce_mean(-tf.reduce_sum(y*tf.log(tf.clip_by_value(actv,1e-10,1.0)), reduction_indices=1))\n",
    "\n",
    "# OPTIMIZER\n",
    "learning_rate = 0.1\n",
    "optm = tf.train.GradientDescentOptimizer(learning_rate).minimize(cost)"
   ]
  },
  {
   "cell_type": "code",
   "execution_count": 56,
   "metadata": {},
   "outputs": [],
   "source": [
    "\n",
    "# PREDICTION\n",
    "pred = tf.equal(tf.argmax(actv, 1), tf.argmax(y, 1))    \n",
    "# ACCURACY\n",
    "accr = tf.reduce_mean(tf.cast(pred, \"float\"))\n"
   ]
  },
  {
   "cell_type": "code",
   "execution_count": 57,
   "metadata": {},
   "outputs": [],
   "source": [
    "# INITIALIZER\n",
    "init = tf.initialize_all_variables()"
   ]
  },
  {
   "cell_type": "code",
   "execution_count": 58,
   "metadata": {},
   "outputs": [],
   "source": [
    "init_new_vars_op = tf.initialize_variables([W, b])\n",
    "sess.run(init_new_vars_op)"
   ]
  },
  {
   "cell_type": "code",
   "execution_count": 59,
   "metadata": {},
   "outputs": [
    {
     "name": "stdout",
     "output_type": "stream",
     "text": [
      "Epoch: 000/050 cost: 11.115731800 train_acc: 0.520 test_acc: 0.576\n",
      "Epoch: 005/050 cost: 7.450523755 train_acc: 0.680 test_acc: 0.676\n",
      "Epoch: 010/050 cost: 7.281541759 train_acc: 0.720 test_acc: 0.687\n",
      "Epoch: 015/050 cost: 6.687514750 train_acc: 0.760 test_acc: 0.723\n",
      "Epoch: 020/050 cost: 6.350994575 train_acc: 0.740 test_acc: 0.713\n",
      "Epoch: 025/050 cost: 6.398500339 train_acc: 0.760 test_acc: 0.729\n",
      "Epoch: 030/050 cost: 6.372788136 train_acc: 0.740 test_acc: 0.729\n",
      "Epoch: 035/050 cost: 6.025481526 train_acc: 0.770 test_acc: 0.742\n",
      "Epoch: 040/050 cost: 5.938367077 train_acc: 0.760 test_acc: 0.737\n",
      "Epoch: 045/050 cost: 6.206234492 train_acc: 0.750 test_acc: 0.730\n",
      "DONE\n"
     ]
    }
   ],
   "source": [
    "training_epochs = 50\n",
    "batch_size      = 100\n",
    "display_step    = 5\n",
    "# SESSION\n",
    "sess = tf.Session()\n",
    "sess.run(init)\n",
    "\n",
    "\n",
    "# MINI-BATCH Learning\n",
    "for epoch in range(training_epochs):\n",
    "    avg_cost = 0.\n",
    "    num_batch = len(X_train)//batch_size\n",
    "    \n",
    "    for i in range(num_batch):\n",
    "        batch_xs = X_train[batch_size*i:batch_size*(i+1)] \n",
    "        batch_xs = batch_xs.reshape(batch_size,-1) # size 바꿔주기\n",
    "        batch_ys = Y_train[batch_size*i:batch_size*(i+1)] # \n",
    "\n",
    "        # 학습\n",
    "        sess.run(optm, feed_dict={x: batch_xs, y: batch_ys})\n",
    "        feeds = {x: batch_xs, y: batch_ys}\n",
    "        avg_cost += sess.run(cost, feed_dict=feeds)/num_batch\n",
    "        \n",
    "    if epoch % display_step == 0:\n",
    "        feeds_train = {x: batch_xs, y: batch_ys}\n",
    "        \n",
    "        X_test = X_test.reshape(-1,28*28)\n",
    "        feeds_test = {x: X_test, y: Y_test}\n",
    "        \n",
    "        train_acc = sess.run(accr, feed_dict = feeds_train)\n",
    "        test_acc = sess.run(accr, feed_dict = feeds_test)\n",
    "        \n",
    "        print(\"Epoch: %03d/%03d cost: %.9f train_acc: %.3f test_acc: %.3f\" \n",
    "               % (epoch, training_epochs, avg_cost, train_acc, test_acc))\n",
    "print (\"DONE\")        \n",
    "        "
   ]
  },
  {
   "cell_type": "markdown",
   "metadata": {},
   "source": [
    "# weight, bias값이 nan로 채워지는 문제 발생\n",
    "원인: cross_entropy에서 확률값이 0~1 사이 값이여야 하는데 채워지는 문제 발생 <br>\n",
    "\n",
    "해결: \n",
    "cost = tf.reduce_mean(-tf.reduce_sum(y*tf.log(tf.clip_by_value(actv,1e-10,1.0)), reduction_indices=1)) \n",
    "\n",
    "-> \n",
    "아마 0~1사이 확률값을 주기 위해 clip을 주는 함수로 이해함\n"
   ]
  },
  {
   "cell_type": "code",
   "execution_count": null,
   "metadata": {},
   "outputs": [],
   "source": []
  }
 ],
 "metadata": {
  "kernelspec": {
   "display_name": "Python 3",
   "language": "python",
   "name": "python3"
  },
  "language_info": {
   "codemirror_mode": {
    "name": "ipython",
    "version": 3
   },
   "file_extension": ".py",
   "mimetype": "text/x-python",
   "name": "python",
   "nbconvert_exporter": "python",
   "pygments_lexer": "ipython3",
   "version": "3.8.3"
  }
 },
 "nbformat": 4,
 "nbformat_minor": 4
}
