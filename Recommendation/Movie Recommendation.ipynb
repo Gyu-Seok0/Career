{
 "cells": [
  {
   "cell_type": "markdown",
   "id": "1d4cc5b1",
   "metadata": {},
   "source": [
    "# Collaborative Filtering\n"
   ]
  },
  {
   "cell_type": "code",
   "execution_count": 1,
   "id": "abfad873",
   "metadata": {
    "scrolled": true
   },
   "outputs": [],
   "source": [
    "import pandas as pd\n",
    "from scipy import sparse\n",
    "from sklearn.metrics.pairwise import cosine_similarity\n",
    "\n",
    "import sys\n",
    "import os\n",
    "\n",
    "# 뭔가 경로 설정을 제대로 해주고 싶은데 잘안되네 (다음에 해봐야겠다)"
   ]
  },
  {
   "cell_type": "code",
   "execution_count": 3,
   "id": "9eee95ac",
   "metadata": {},
   "outputs": [
    {
     "data": {
      "text/html": [
       "<div>\n",
       "<style scoped>\n",
       "    .dataframe tbody tr th:only-of-type {\n",
       "        vertical-align: middle;\n",
       "    }\n",
       "\n",
       "    .dataframe tbody tr th {\n",
       "        vertical-align: top;\n",
       "    }\n",
       "\n",
       "    .dataframe thead th {\n",
       "        text-align: right;\n",
       "    }\n",
       "</style>\n",
       "<table border=\"1\" class=\"dataframe\">\n",
       "  <thead>\n",
       "    <tr style=\"text-align: right;\">\n",
       "      <th></th>\n",
       "      <th>action1</th>\n",
       "      <th>action2</th>\n",
       "      <th>action3</th>\n",
       "      <th>romantic1</th>\n",
       "      <th>romantic2</th>\n",
       "      <th>romantic3</th>\n",
       "    </tr>\n",
       "  </thead>\n",
       "  <tbody>\n",
       "    <tr>\n",
       "      <th>user 1</th>\n",
       "      <td>4.0</td>\n",
       "      <td>5.0</td>\n",
       "      <td>3.0</td>\n",
       "      <td>0.0</td>\n",
       "      <td>2.0</td>\n",
       "      <td>1.0</td>\n",
       "    </tr>\n",
       "    <tr>\n",
       "      <th>user 2</th>\n",
       "      <td>5.0</td>\n",
       "      <td>3.0</td>\n",
       "      <td>3.0</td>\n",
       "      <td>2.0</td>\n",
       "      <td>2.0</td>\n",
       "      <td>0.0</td>\n",
       "    </tr>\n",
       "    <tr>\n",
       "      <th>user 3</th>\n",
       "      <td>1.0</td>\n",
       "      <td>0.0</td>\n",
       "      <td>0.0</td>\n",
       "      <td>4.0</td>\n",
       "      <td>5.0</td>\n",
       "      <td>4.0</td>\n",
       "    </tr>\n",
       "    <tr>\n",
       "      <th>user 4</th>\n",
       "      <td>0.0</td>\n",
       "      <td>2.0</td>\n",
       "      <td>1.0</td>\n",
       "      <td>4.0</td>\n",
       "      <td>0.0</td>\n",
       "      <td>3.0</td>\n",
       "    </tr>\n",
       "    <tr>\n",
       "      <th>user 5</th>\n",
       "      <td>1.0</td>\n",
       "      <td>0.0</td>\n",
       "      <td>2.0</td>\n",
       "      <td>3.0</td>\n",
       "      <td>3.0</td>\n",
       "      <td>4.0</td>\n",
       "    </tr>\n",
       "  </tbody>\n",
       "</table>\n",
       "</div>"
      ],
      "text/plain": [
       "        action1  action2  action3  romantic1  romantic2  romantic3\n",
       "user 1      4.0      5.0      3.0        0.0        2.0        1.0\n",
       "user 2      5.0      3.0      3.0        2.0        2.0        0.0\n",
       "user 3      1.0      0.0      0.0        4.0        5.0        4.0\n",
       "user 4      0.0      2.0      1.0        4.0        0.0        3.0\n",
       "user 5      1.0      0.0      2.0        3.0        3.0        4.0"
      ]
     },
     "execution_count": 3,
     "metadata": {},
     "output_type": "execute_result"
    }
   ],
   "source": [
    "ratings = pd.read_csv(\"./dataset/toy_dataset.csv\", index_col = 0)\n",
    "ratings = ratings.fillna(0)\n",
    "ratings.head()"
   ]
  },
  {
   "cell_type": "markdown",
   "id": "efebfddc",
   "metadata": {},
   "source": [
    "# Feature Scaling\n",
    "* 목적: 다양한 range를 가진 Feature로 인해 올바른 분석이 이뤄지지 않음 <br>\n",
    "e.g) Range가 클수록 더 많은 Weight가 부여되는 경향성을 가짐)\n",
    "\n",
    "<hr>\n",
    "\n",
    "* 이를 위해 두 가지 방법이 제시됌\n",
    "\n",
    "<b> 1) Standarization (= Z-score Noramlization) </b> <br>\n",
    "Feature가 N(0,1)의 분포를 띄도록 변형\n",
    "\n",
    "<b> 2) Normalization </b> <br>\n",
    "Mean Normalization =  (x - mean(x)) / (max(x) - min(x))\n",
    "Min-Max Noramlization = (x - min(x)) / (max(x) - min(x))\n",
    "\n"
   ]
  },
  {
   "cell_type": "code",
   "execution_count": 37,
   "id": "9bc80aa5",
   "metadata": {},
   "outputs": [
    {
     "data": {
      "text/html": [
       "<div>\n",
       "<style scoped>\n",
       "    .dataframe tbody tr th:only-of-type {\n",
       "        vertical-align: middle;\n",
       "    }\n",
       "\n",
       "    .dataframe tbody tr th {\n",
       "        vertical-align: top;\n",
       "    }\n",
       "\n",
       "    .dataframe thead th {\n",
       "        text-align: right;\n",
       "    }\n",
       "</style>\n",
       "<table border=\"1\" class=\"dataframe\">\n",
       "  <thead>\n",
       "    <tr style=\"text-align: right;\">\n",
       "      <th></th>\n",
       "      <th>action1</th>\n",
       "      <th>action2</th>\n",
       "      <th>action3</th>\n",
       "      <th>romantic1</th>\n",
       "      <th>romantic2</th>\n",
       "      <th>romantic3</th>\n",
       "    </tr>\n",
       "  </thead>\n",
       "  <tbody>\n",
       "    <tr>\n",
       "      <th>user 1</th>\n",
       "      <td>0.36</td>\n",
       "      <td>0.6</td>\n",
       "      <td>0.400000</td>\n",
       "      <td>-0.65</td>\n",
       "      <td>-0.08</td>\n",
       "      <td>-0.35</td>\n",
       "    </tr>\n",
       "    <tr>\n",
       "      <th>user 2</th>\n",
       "      <td>0.56</td>\n",
       "      <td>0.2</td>\n",
       "      <td>0.400000</td>\n",
       "      <td>-0.15</td>\n",
       "      <td>-0.08</td>\n",
       "      <td>-0.60</td>\n",
       "    </tr>\n",
       "    <tr>\n",
       "      <th>user 3</th>\n",
       "      <td>-0.24</td>\n",
       "      <td>-0.4</td>\n",
       "      <td>-0.600000</td>\n",
       "      <td>0.35</td>\n",
       "      <td>0.52</td>\n",
       "      <td>0.40</td>\n",
       "    </tr>\n",
       "    <tr>\n",
       "      <th>user 4</th>\n",
       "      <td>-0.44</td>\n",
       "      <td>0.0</td>\n",
       "      <td>-0.266667</td>\n",
       "      <td>0.35</td>\n",
       "      <td>-0.48</td>\n",
       "      <td>0.15</td>\n",
       "    </tr>\n",
       "    <tr>\n",
       "      <th>user 5</th>\n",
       "      <td>-0.24</td>\n",
       "      <td>-0.4</td>\n",
       "      <td>0.066667</td>\n",
       "      <td>0.10</td>\n",
       "      <td>0.12</td>\n",
       "      <td>0.40</td>\n",
       "    </tr>\n",
       "  </tbody>\n",
       "</table>\n",
       "</div>"
      ],
      "text/plain": [
       "        action1  action2   action3  romantic1  romantic2  romantic3\n",
       "user 1     0.36      0.6  0.400000      -0.65      -0.08      -0.35\n",
       "user 2     0.56      0.2  0.400000      -0.15      -0.08      -0.60\n",
       "user 3    -0.24     -0.4 -0.600000       0.35       0.52       0.40\n",
       "user 4    -0.44      0.0 -0.266667       0.35      -0.48       0.15\n",
       "user 5    -0.24     -0.4  0.066667       0.10       0.12       0.40"
      ]
     },
     "execution_count": 37,
     "metadata": {},
     "output_type": "execute_result"
    }
   ],
   "source": [
    "def mean_normalize(col):  # 왜 row한테 줄까 (row가 아니라 column)\n",
    "    return (col - col.mean()) / (col.max() - col.min())\n",
    "\n",
    "ratings_std = ratings.apply(mean_normalize)\n",
    "ratings_std\n"
   ]
  },
  {
   "cell_type": "code",
   "execution_count": 45,
   "id": "14b813d2",
   "metadata": {},
   "outputs": [],
   "source": [
    "# we are taking a transpose since we want similarity between items which need to be in rows\n",
    "# row 기준으로 similarity가 계산된다.\n",
    "item_similarity = cosine_similarity(ratings_std.T)"
   ]
  },
  {
   "cell_type": "code",
   "execution_count": 48,
   "id": "83fa72e7",
   "metadata": {},
   "outputs": [],
   "source": [
    "\n",
    "item_similarity_df = pd.DataFrame(item_similarity, \n",
    "                                  index = ratings.columns,\n",
    "                                columns = ratings.columns)\n"
   ]
  },
  {
   "cell_type": "code",
   "execution_count": 49,
   "id": "71dda188",
   "metadata": {},
   "outputs": [
    {
     "data": {
      "text/html": [
       "<div>\n",
       "<style scoped>\n",
       "    .dataframe tbody tr th:only-of-type {\n",
       "        vertical-align: middle;\n",
       "    }\n",
       "\n",
       "    .dataframe tbody tr th {\n",
       "        vertical-align: top;\n",
       "    }\n",
       "\n",
       "    .dataframe thead th {\n",
       "        text-align: right;\n",
       "    }\n",
       "</style>\n",
       "<table border=\"1\" class=\"dataframe\">\n",
       "  <thead>\n",
       "    <tr style=\"text-align: right;\">\n",
       "      <th></th>\n",
       "      <th>action1</th>\n",
       "      <th>action2</th>\n",
       "      <th>action3</th>\n",
       "      <th>romantic1</th>\n",
       "      <th>romantic2</th>\n",
       "      <th>romantic3</th>\n",
       "    </tr>\n",
       "  </thead>\n",
       "  <tbody>\n",
       "    <tr>\n",
       "      <th>action1</th>\n",
       "      <td>1.000000</td>\n",
       "      <td>0.706689</td>\n",
       "      <td>0.813682</td>\n",
       "      <td>-0.799411</td>\n",
       "      <td>-0.025392</td>\n",
       "      <td>-0.914106</td>\n",
       "    </tr>\n",
       "    <tr>\n",
       "      <th>action2</th>\n",
       "      <td>0.706689</td>\n",
       "      <td>1.000000</td>\n",
       "      <td>0.723102</td>\n",
       "      <td>-0.845154</td>\n",
       "      <td>-0.518999</td>\n",
       "      <td>-0.843374</td>\n",
       "    </tr>\n",
       "    <tr>\n",
       "      <th>action3</th>\n",
       "      <td>0.813682</td>\n",
       "      <td>0.723102</td>\n",
       "      <td>1.000000</td>\n",
       "      <td>-0.847946</td>\n",
       "      <td>-0.379980</td>\n",
       "      <td>-0.802181</td>\n",
       "    </tr>\n",
       "    <tr>\n",
       "      <th>romantic1</th>\n",
       "      <td>-0.799411</td>\n",
       "      <td>-0.845154</td>\n",
       "      <td>-0.847946</td>\n",
       "      <td>1.000000</td>\n",
       "      <td>0.148039</td>\n",
       "      <td>0.723747</td>\n",
       "    </tr>\n",
       "    <tr>\n",
       "      <th>romantic2</th>\n",
       "      <td>-0.025392</td>\n",
       "      <td>-0.518999</td>\n",
       "      <td>-0.379980</td>\n",
       "      <td>0.148039</td>\n",
       "      <td>1.000000</td>\n",
       "      <td>0.393939</td>\n",
       "    </tr>\n",
       "    <tr>\n",
       "      <th>romantic3</th>\n",
       "      <td>-0.914106</td>\n",
       "      <td>-0.843374</td>\n",
       "      <td>-0.802181</td>\n",
       "      <td>0.723747</td>\n",
       "      <td>0.393939</td>\n",
       "      <td>1.000000</td>\n",
       "    </tr>\n",
       "  </tbody>\n",
       "</table>\n",
       "</div>"
      ],
      "text/plain": [
       "            action1   action2   action3  romantic1  romantic2  romantic3\n",
       "action1    1.000000  0.706689  0.813682  -0.799411  -0.025392  -0.914106\n",
       "action2    0.706689  1.000000  0.723102  -0.845154  -0.518999  -0.843374\n",
       "action3    0.813682  0.723102  1.000000  -0.847946  -0.379980  -0.802181\n",
       "romantic1 -0.799411 -0.845154 -0.847946   1.000000   0.148039   0.723747\n",
       "romantic2 -0.025392 -0.518999 -0.379980   0.148039   1.000000   0.393939\n",
       "romantic3 -0.914106 -0.843374 -0.802181   0.723747   0.393939   1.000000"
      ]
     },
     "execution_count": 49,
     "metadata": {},
     "output_type": "execute_result"
    }
   ],
   "source": [
    "\n",
    "item_similarity_df\n"
   ]
  },
  {
   "cell_type": "code",
   "execution_count": 62,
   "id": "c808c6dd",
   "metadata": {},
   "outputs": [],
   "source": [
    "def get_similar_movies(movie_name, user_rating):\n",
    "    similar_score = item_similarity_df[movie_name] * (user_rating - 2.5)\n",
    "    similar_score = similar_score.sort_values(ascending = False)\n",
    "    return similar_score"
   ]
  },
  {
   "cell_type": "code",
   "execution_count": 78,
   "id": "4542b49f",
   "metadata": {},
   "outputs": [
    {
     "data": {
      "text/plain": [
       "action1      1.371159\n",
       "action2      1.265061\n",
       "action3      1.203271\n",
       "romantic2   -0.590909\n",
       "romantic1   -1.085620\n",
       "romantic3   -1.500000\n",
       "Name: romantic3, dtype: float64"
      ]
     },
     "execution_count": 78,
     "metadata": {},
     "output_type": "execute_result"
    }
   ],
   "source": [
    "get_similar_movies(\"action1\",2)\n",
    "get_similar_movies(\"romantic3\",1)\n"
   ]
  },
  {
   "cell_type": "code",
   "execution_count": 79,
   "id": "c0dd742e",
   "metadata": {
    "scrolled": true
   },
   "outputs": [
    {
     "name": "stderr",
     "output_type": "stream",
     "text": [
      "/var/folders/mh/jx8lklg147lb8j4rz9bcxl6w0000gn/T/ipykernel_80598/1177041202.py:6: FutureWarning: The frame.append method is deprecated and will be removed from pandas in a future version. Use pandas.concat instead.\n",
      "  similar_moives = similar_moives.append(get_similar_movies(movie, rating), ignore_index = True )\n",
      "/var/folders/mh/jx8lklg147lb8j4rz9bcxl6w0000gn/T/ipykernel_80598/1177041202.py:6: FutureWarning: The frame.append method is deprecated and will be removed from pandas in a future version. Use pandas.concat instead.\n",
      "  similar_moives = similar_moives.append(get_similar_movies(movie, rating), ignore_index = True )\n",
      "/var/folders/mh/jx8lklg147lb8j4rz9bcxl6w0000gn/T/ipykernel_80598/1177041202.py:6: FutureWarning: The frame.append method is deprecated and will be removed from pandas in a future version. Use pandas.concat instead.\n",
      "  similar_moives = similar_moives.append(get_similar_movies(movie, rating), ignore_index = True )\n"
     ]
    }
   ],
   "source": [
    "action_lover = [(\"action1\",5), (\"romantic2\",1), (\"romantic3\",1)]\n",
    "\n",
    "similar_moives = pd.DataFrame()\n",
    "\n",
    "for movie, rating in action_lover:\n",
    "    similar_moives = similar_moives.append(get_similar_movies(movie, rating), ignore_index = True )\n",
    "    \n",
    "\n"
   ]
  },
  {
   "cell_type": "code",
   "execution_count": 122,
   "id": "ee3b0516",
   "metadata": {},
   "outputs": [
    {
     "data": {
      "text/html": [
       "<div>\n",
       "<style scoped>\n",
       "    .dataframe tbody tr th:only-of-type {\n",
       "        vertical-align: middle;\n",
       "    }\n",
       "\n",
       "    .dataframe tbody tr th {\n",
       "        vertical-align: top;\n",
       "    }\n",
       "\n",
       "    .dataframe thead th {\n",
       "        text-align: right;\n",
       "    }\n",
       "</style>\n",
       "<table border=\"1\" class=\"dataframe\">\n",
       "  <thead>\n",
       "    <tr style=\"text-align: right;\">\n",
       "      <th></th>\n",
       "      <th>action1</th>\n",
       "      <th>action3</th>\n",
       "      <th>action2</th>\n",
       "      <th>romantic2</th>\n",
       "      <th>romantic1</th>\n",
       "      <th>romantic3</th>\n",
       "    </tr>\n",
       "  </thead>\n",
       "  <tbody>\n",
       "    <tr>\n",
       "      <th>0</th>\n",
       "      <td>2.500000</td>\n",
       "      <td>2.034204</td>\n",
       "      <td>1.766722</td>\n",
       "      <td>-0.063480</td>\n",
       "      <td>-1.998527</td>\n",
       "      <td>-2.285265</td>\n",
       "    </tr>\n",
       "    <tr>\n",
       "      <th>1</th>\n",
       "      <td>0.038088</td>\n",
       "      <td>0.569970</td>\n",
       "      <td>0.778499</td>\n",
       "      <td>-1.500000</td>\n",
       "      <td>-0.222059</td>\n",
       "      <td>-0.590909</td>\n",
       "    </tr>\n",
       "    <tr>\n",
       "      <th>2</th>\n",
       "      <td>1.371159</td>\n",
       "      <td>1.203271</td>\n",
       "      <td>1.265061</td>\n",
       "      <td>-0.590909</td>\n",
       "      <td>-1.085620</td>\n",
       "      <td>-1.500000</td>\n",
       "    </tr>\n",
       "  </tbody>\n",
       "</table>\n",
       "</div>"
      ],
      "text/plain": [
       "    action1   action3   action2  romantic2  romantic1  romantic3\n",
       "0  2.500000  2.034204  1.766722  -0.063480  -1.998527  -2.285265\n",
       "1  0.038088  0.569970  0.778499  -1.500000  -0.222059  -0.590909\n",
       "2  1.371159  1.203271  1.265061  -0.590909  -1.085620  -1.500000"
      ]
     },
     "execution_count": 122,
     "metadata": {},
     "output_type": "execute_result"
    }
   ],
   "source": [
    "similar_moives"
   ]
  },
  {
   "cell_type": "code",
   "execution_count": 84,
   "id": "f3415667",
   "metadata": {},
   "outputs": [
    {
     "data": {
      "text/plain": [
       "action1      3.909247\n",
       "action2      3.810282\n",
       "action3      3.807445\n",
       "romantic2   -2.154389\n",
       "romantic1   -3.306206\n",
       "romantic3   -4.376174\n",
       "dtype: float64"
      ]
     },
     "execution_count": 84,
     "metadata": {},
     "output_type": "execute_result"
    }
   ],
   "source": [
    "similar_moives.sum().sort_values(ascending = False)"
   ]
  },
  {
   "cell_type": "code",
   "execution_count": 83,
   "id": "48f877cd",
   "metadata": {},
   "outputs": [
    {
     "data": {
      "text/html": [
       "<div>\n",
       "<style scoped>\n",
       "    .dataframe tbody tr th:only-of-type {\n",
       "        vertical-align: middle;\n",
       "    }\n",
       "\n",
       "    .dataframe tbody tr th {\n",
       "        vertical-align: top;\n",
       "    }\n",
       "\n",
       "    .dataframe thead th {\n",
       "        text-align: right;\n",
       "    }\n",
       "</style>\n",
       "<table border=\"1\" class=\"dataframe\">\n",
       "  <thead>\n",
       "    <tr style=\"text-align: right;\">\n",
       "      <th></th>\n",
       "      <th>action1</th>\n",
       "      <th>action3</th>\n",
       "      <th>action2</th>\n",
       "      <th>romantic2</th>\n",
       "      <th>romantic1</th>\n",
       "      <th>romantic3</th>\n",
       "    </tr>\n",
       "  </thead>\n",
       "  <tbody>\n",
       "    <tr>\n",
       "      <th>0</th>\n",
       "      <td>2.500000</td>\n",
       "      <td>2.034204</td>\n",
       "      <td>1.766722</td>\n",
       "      <td>-0.063480</td>\n",
       "      <td>-1.998527</td>\n",
       "      <td>-2.285265</td>\n",
       "    </tr>\n",
       "    <tr>\n",
       "      <th>1</th>\n",
       "      <td>0.038088</td>\n",
       "      <td>0.569970</td>\n",
       "      <td>0.778499</td>\n",
       "      <td>-1.500000</td>\n",
       "      <td>-0.222059</td>\n",
       "      <td>-0.590909</td>\n",
       "    </tr>\n",
       "    <tr>\n",
       "      <th>2</th>\n",
       "      <td>1.371159</td>\n",
       "      <td>1.203271</td>\n",
       "      <td>1.265061</td>\n",
       "      <td>-0.590909</td>\n",
       "      <td>-1.085620</td>\n",
       "      <td>-1.500000</td>\n",
       "    </tr>\n",
       "  </tbody>\n",
       "</table>\n",
       "</div>"
      ],
      "text/plain": [
       "    action1   action3   action2  romantic2  romantic1  romantic3\n",
       "0  2.500000  2.034204  1.766722  -0.063480  -1.998527  -2.285265\n",
       "1  0.038088  0.569970  0.778499  -1.500000  -0.222059  -0.590909\n",
       "2  1.371159  1.203271  1.265061  -0.590909  -1.085620  -1.500000"
      ]
     },
     "execution_count": 83,
     "metadata": {},
     "output_type": "execute_result"
    }
   ],
   "source": [
    "similar_moives"
   ]
  },
  {
   "cell_type": "markdown",
   "id": "23681faa",
   "metadata": {},
   "source": [
    "# 알고리즘 정리\n",
    "* Cosine Similarity 사용하기\n",
    "\n",
    "1) Item들간의 cosine similiarity를 구한다. p * p (p개의 item) <br>\n",
    "2) 새로운 user가 평가한 항목을 사용한다. (get_similar_movies) <br>\n",
    "3) 각 항목들을 더한후, sorting 한다. "
   ]
  },
  {
   "cell_type": "markdown",
   "id": "6784741d",
   "metadata": {},
   "source": [
    "# 실습"
   ]
  },
  {
   "cell_type": "code",
   "execution_count": 100,
   "id": "af23dd02",
   "metadata": {},
   "outputs": [],
   "source": [
    "ratings = pd.read_csv(\"./dataset/ratings.csv\")\n",
    "movies = pd.read_csv(\"./dataset/movies.csv\")"
   ]
  },
  {
   "cell_type": "code",
   "execution_count": 101,
   "id": "52bd6240",
   "metadata": {
    "scrolled": true
   },
   "outputs": [
    {
     "data": {
      "text/html": [
       "<div>\n",
       "<style scoped>\n",
       "    .dataframe tbody tr th:only-of-type {\n",
       "        vertical-align: middle;\n",
       "    }\n",
       "\n",
       "    .dataframe tbody tr th {\n",
       "        vertical-align: top;\n",
       "    }\n",
       "\n",
       "    .dataframe thead th {\n",
       "        text-align: right;\n",
       "    }\n",
       "</style>\n",
       "<table border=\"1\" class=\"dataframe\">\n",
       "  <thead>\n",
       "    <tr style=\"text-align: right;\">\n",
       "      <th></th>\n",
       "      <th>movieId</th>\n",
       "      <th>title</th>\n",
       "      <th>userId</th>\n",
       "      <th>rating</th>\n",
       "    </tr>\n",
       "  </thead>\n",
       "  <tbody>\n",
       "    <tr>\n",
       "      <th>0</th>\n",
       "      <td>1</td>\n",
       "      <td>Toy Story (1995)</td>\n",
       "      <td>1</td>\n",
       "      <td>4.0</td>\n",
       "    </tr>\n",
       "    <tr>\n",
       "      <th>1</th>\n",
       "      <td>1</td>\n",
       "      <td>Toy Story (1995)</td>\n",
       "      <td>5</td>\n",
       "      <td>4.0</td>\n",
       "    </tr>\n",
       "    <tr>\n",
       "      <th>2</th>\n",
       "      <td>1</td>\n",
       "      <td>Toy Story (1995)</td>\n",
       "      <td>7</td>\n",
       "      <td>4.5</td>\n",
       "    </tr>\n",
       "    <tr>\n",
       "      <th>3</th>\n",
       "      <td>1</td>\n",
       "      <td>Toy Story (1995)</td>\n",
       "      <td>15</td>\n",
       "      <td>2.5</td>\n",
       "    </tr>\n",
       "    <tr>\n",
       "      <th>4</th>\n",
       "      <td>1</td>\n",
       "      <td>Toy Story (1995)</td>\n",
       "      <td>17</td>\n",
       "      <td>4.5</td>\n",
       "    </tr>\n",
       "  </tbody>\n",
       "</table>\n",
       "</div>"
      ],
      "text/plain": [
       "   movieId             title  userId  rating\n",
       "0        1  Toy Story (1995)       1     4.0\n",
       "1        1  Toy Story (1995)       5     4.0\n",
       "2        1  Toy Story (1995)       7     4.5\n",
       "3        1  Toy Story (1995)      15     2.5\n",
       "4        1  Toy Story (1995)      17     4.5"
      ]
     },
     "execution_count": 101,
     "metadata": {},
     "output_type": "execute_result"
    }
   ],
   "source": [
    "ratings = pd.merge(movies,ratings).drop([\"genres\",\"timestamp\"], axis = 1)\n",
    "\n",
    "ratings.head()"
   ]
  },
  {
   "cell_type": "code",
   "execution_count": 109,
   "id": "ae128d37",
   "metadata": {},
   "outputs": [
    {
     "data": {
      "text/plain": [
       "610"
      ]
     },
     "execution_count": 109,
     "metadata": {},
     "output_type": "execute_result"
    }
   ],
   "source": [
    "len(ratings.userId.unique())"
   ]
  },
  {
   "cell_type": "code",
   "execution_count": 110,
   "id": "bfc8ded0",
   "metadata": {},
   "outputs": [
    {
     "name": "stdout",
     "output_type": "stream",
     "text": [
      "(610, 9719)\n"
     ]
    }
   ],
   "source": [
    "# pivot table을 통해서 원하는 row, column을 만들 수 있다.\n",
    "# 굉장히 유용하다.\n",
    "\n",
    "user_ratings = ratings.pivot_table(index = [\"userId\"], columns = [\"title\"], values = \"rating\")\n",
    "print(user_ratings.shape)\n"
   ]
  },
  {
   "attachments": {
    "image.png": {
     "image/png": "[encoded data removed]"
    }
   },
   "cell_type": "markdown",
   "id": "1f2af8cd",
   "metadata": {},
   "source": [
    "## 행/열\n",
    "\n",
    "* 행(row) axis = 0 (행에 적용하겠다는 의미, 열은 보존)\n",
    "* 열(column) axis = 1 (열에 적용하겠다는 의미, 행은 보존)\n",
    "\n",
    "![image.png](attachment:image.png)"
   ]
  },
  {
   "cell_type": "code",
   "execution_count": 113,
   "id": "85f06d8b",
   "metadata": {},
   "outputs": [
    {
     "data": {
      "text/plain": [
       "(610, 2269)"
      ]
     },
     "execution_count": 113,
     "metadata": {},
     "output_type": "execute_result"
    }
   ],
   "source": [
    "# 평가가 10명도 이뤄지지 않은 movie는 없애기\n",
    "\n",
    "user_trainings = user_ratings.dropna(thresh = 10, axis = 1).fillna(0)\n",
    "user_trainings.shape\n"
   ]
  },
  {
   "cell_type": "code",
   "execution_count": 120,
   "id": "32ba8110",
   "metadata": {},
   "outputs": [
    {
     "data": {
      "text/html": [
       "<div>\n",
       "<style scoped>\n",
       "    .dataframe tbody tr th:only-of-type {\n",
       "        vertical-align: middle;\n",
       "    }\n",
       "\n",
       "    .dataframe tbody tr th {\n",
       "        vertical-align: top;\n",
       "    }\n",
       "\n",
       "    .dataframe thead th {\n",
       "        text-align: right;\n",
       "    }\n",
       "</style>\n",
       "<table border=\"1\" class=\"dataframe\">\n",
       "  <thead>\n",
       "    <tr style=\"text-align: right;\">\n",
       "      <th>title</th>\n",
       "      <th>'burbs, The (1989)</th>\n",
       "      <th>(500) Days of Summer (2009)</th>\n",
       "      <th>10 Cloverfield Lane (2016)</th>\n",
       "      <th>10 Things I Hate About You (1999)</th>\n",
       "      <th>10,000 BC (2008)</th>\n",
       "      <th>101 Dalmatians (1996)</th>\n",
       "      <th>101 Dalmatians (One Hundred and One Dalmatians) (1961)</th>\n",
       "      <th>12 Angry Men (1957)</th>\n",
       "      <th>12 Years a Slave (2013)</th>\n",
       "      <th>127 Hours (2010)</th>\n",
       "      <th>...</th>\n",
       "      <th>Zack and Miri Make a Porno (2008)</th>\n",
       "      <th>Zero Dark Thirty (2012)</th>\n",
       "      <th>Zero Effect (1998)</th>\n",
       "      <th>Zodiac (2007)</th>\n",
       "      <th>Zombieland (2009)</th>\n",
       "      <th>Zoolander (2001)</th>\n",
       "      <th>Zootopia (2016)</th>\n",
       "      <th>eXistenZ (1999)</th>\n",
       "      <th>xXx (2002)</th>\n",
       "      <th>¡Three Amigos! (1986)</th>\n",
       "    </tr>\n",
       "    <tr>\n",
       "      <th>title</th>\n",
       "      <th></th>\n",
       "      <th></th>\n",
       "      <th></th>\n",
       "      <th></th>\n",
       "      <th></th>\n",
       "      <th></th>\n",
       "      <th></th>\n",
       "      <th></th>\n",
       "      <th></th>\n",
       "      <th></th>\n",
       "      <th></th>\n",
       "      <th></th>\n",
       "      <th></th>\n",
       "      <th></th>\n",
       "      <th></th>\n",
       "      <th></th>\n",
       "      <th></th>\n",
       "      <th></th>\n",
       "      <th></th>\n",
       "      <th></th>\n",
       "      <th></th>\n",
       "    </tr>\n",
       "  </thead>\n",
       "  <tbody>\n",
       "    <tr>\n",
       "      <th>'burbs, The (1989)</th>\n",
       "      <td>1.000000</td>\n",
       "      <td>0.063117</td>\n",
       "      <td>-0.023768</td>\n",
       "      <td>0.143482</td>\n",
       "      <td>0.011998</td>\n",
       "      <td>0.087931</td>\n",
       "      <td>0.224052</td>\n",
       "      <td>0.034223</td>\n",
       "      <td>0.009277</td>\n",
       "      <td>0.008331</td>\n",
       "      <td>...</td>\n",
       "      <td>0.017477</td>\n",
       "      <td>0.032470</td>\n",
       "      <td>0.134701</td>\n",
       "      <td>0.153158</td>\n",
       "      <td>0.101301</td>\n",
       "      <td>0.049897</td>\n",
       "      <td>0.003233</td>\n",
       "      <td>0.187953</td>\n",
       "      <td>0.062174</td>\n",
       "      <td>0.353194</td>\n",
       "    </tr>\n",
       "    <tr>\n",
       "      <th>(500) Days of Summer (2009)</th>\n",
       "      <td>0.063117</td>\n",
       "      <td>1.000000</td>\n",
       "      <td>0.142471</td>\n",
       "      <td>0.273989</td>\n",
       "      <td>0.193960</td>\n",
       "      <td>0.148903</td>\n",
       "      <td>0.142141</td>\n",
       "      <td>0.159756</td>\n",
       "      <td>0.135486</td>\n",
       "      <td>0.200135</td>\n",
       "      <td>...</td>\n",
       "      <td>0.374515</td>\n",
       "      <td>0.178655</td>\n",
       "      <td>0.068407</td>\n",
       "      <td>0.414585</td>\n",
       "      <td>0.355723</td>\n",
       "      <td>0.252226</td>\n",
       "      <td>0.216007</td>\n",
       "      <td>0.053614</td>\n",
       "      <td>0.241092</td>\n",
       "      <td>0.125905</td>\n",
       "    </tr>\n",
       "    <tr>\n",
       "      <th>10 Cloverfield Lane (2016)</th>\n",
       "      <td>-0.023768</td>\n",
       "      <td>0.142471</td>\n",
       "      <td>1.000000</td>\n",
       "      <td>-0.005799</td>\n",
       "      <td>0.112396</td>\n",
       "      <td>0.006139</td>\n",
       "      <td>-0.016835</td>\n",
       "      <td>0.031704</td>\n",
       "      <td>-0.024275</td>\n",
       "      <td>0.272943</td>\n",
       "      <td>...</td>\n",
       "      <td>0.242663</td>\n",
       "      <td>0.099059</td>\n",
       "      <td>-0.023477</td>\n",
       "      <td>0.272347</td>\n",
       "      <td>0.241751</td>\n",
       "      <td>0.195054</td>\n",
       "      <td>0.319371</td>\n",
       "      <td>0.177846</td>\n",
       "      <td>0.096638</td>\n",
       "      <td>0.002733</td>\n",
       "    </tr>\n",
       "    <tr>\n",
       "      <th>10 Things I Hate About You (1999)</th>\n",
       "      <td>0.143482</td>\n",
       "      <td>0.273989</td>\n",
       "      <td>-0.005799</td>\n",
       "      <td>1.000000</td>\n",
       "      <td>0.244670</td>\n",
       "      <td>0.223481</td>\n",
       "      <td>0.211473</td>\n",
       "      <td>0.011784</td>\n",
       "      <td>0.091964</td>\n",
       "      <td>0.043383</td>\n",
       "      <td>...</td>\n",
       "      <td>0.243118</td>\n",
       "      <td>0.104858</td>\n",
       "      <td>0.132460</td>\n",
       "      <td>0.091853</td>\n",
       "      <td>0.158637</td>\n",
       "      <td>0.281934</td>\n",
       "      <td>0.050031</td>\n",
       "      <td>0.121029</td>\n",
       "      <td>0.130813</td>\n",
       "      <td>0.110612</td>\n",
       "    </tr>\n",
       "    <tr>\n",
       "      <th>10,000 BC (2008)</th>\n",
       "      <td>0.011998</td>\n",
       "      <td>0.193960</td>\n",
       "      <td>0.112396</td>\n",
       "      <td>0.244670</td>\n",
       "      <td>1.000000</td>\n",
       "      <td>0.234459</td>\n",
       "      <td>0.119132</td>\n",
       "      <td>0.059187</td>\n",
       "      <td>-0.025882</td>\n",
       "      <td>0.089328</td>\n",
       "      <td>...</td>\n",
       "      <td>0.260261</td>\n",
       "      <td>0.087592</td>\n",
       "      <td>0.094913</td>\n",
       "      <td>0.184521</td>\n",
       "      <td>0.242299</td>\n",
       "      <td>0.240231</td>\n",
       "      <td>0.094773</td>\n",
       "      <td>0.088045</td>\n",
       "      <td>0.203002</td>\n",
       "      <td>0.083518</td>\n",
       "    </tr>\n",
       "  </tbody>\n",
       "</table>\n",
       "<p>5 rows × 2269 columns</p>\n",
       "</div>"
      ],
      "text/plain": [
       "title                              'burbs, The (1989)  \\\n",
       "title                                                   \n",
       "'burbs, The (1989)                           1.000000   \n",
       "(500) Days of Summer (2009)                  0.063117   \n",
       "10 Cloverfield Lane (2016)                  -0.023768   \n",
       "10 Things I Hate About You (1999)            0.143482   \n",
       "10,000 BC (2008)                             0.011998   \n",
       "\n",
       "title                              (500) Days of Summer (2009)  \\\n",
       "title                                                            \n",
       "'burbs, The (1989)                                    0.063117   \n",
       "(500) Days of Summer (2009)                           1.000000   \n",
       "10 Cloverfield Lane (2016)                            0.142471   \n",
       "10 Things I Hate About You (1999)                     0.273989   \n",
       "10,000 BC (2008)                                      0.193960   \n",
       "\n",
       "title                              10 Cloverfield Lane (2016)  \\\n",
       "title                                                           \n",
       "'burbs, The (1989)                                  -0.023768   \n",
       "(500) Days of Summer (2009)                          0.142471   \n",
       "10 Cloverfield Lane (2016)                           1.000000   \n",
       "10 Things I Hate About You (1999)                   -0.005799   \n",
       "10,000 BC (2008)                                     0.112396   \n",
       "\n",
       "title                              10 Things I Hate About You (1999)  \\\n",
       "title                                                                  \n",
       "'burbs, The (1989)                                          0.143482   \n",
       "(500) Days of Summer (2009)                                 0.273989   \n",
       "10 Cloverfield Lane (2016)                                 -0.005799   \n",
       "10 Things I Hate About You (1999)                           1.000000   \n",
       "10,000 BC (2008)                                            0.244670   \n",
       "\n",
       "title                              10,000 BC (2008)  101 Dalmatians (1996)  \\\n",
       "title                                                                        \n",
       "'burbs, The (1989)                         0.011998               0.087931   \n",
       "(500) Days of Summer (2009)                0.193960               0.148903   \n",
       "10 Cloverfield Lane (2016)                 0.112396               0.006139   \n",
       "10 Things I Hate About You (1999)          0.244670               0.223481   \n",
       "10,000 BC (2008)                           1.000000               0.234459   \n",
       "\n",
       "title                              101 Dalmatians (One Hundred and One Dalmatians) (1961)  \\\n",
       "title                                                                                       \n",
       "'burbs, The (1989)                                                          0.224052        \n",
       "(500) Days of Summer (2009)                                                 0.142141        \n",
       "10 Cloverfield Lane (2016)                                                 -0.016835        \n",
       "10 Things I Hate About You (1999)                                           0.211473        \n",
       "10,000 BC (2008)                                                            0.119132        \n",
       "\n",
       "title                              12 Angry Men (1957)  \\\n",
       "title                                                    \n",
       "'burbs, The (1989)                            0.034223   \n",
       "(500) Days of Summer (2009)                   0.159756   \n",
       "10 Cloverfield Lane (2016)                    0.031704   \n",
       "10 Things I Hate About You (1999)             0.011784   \n",
       "10,000 BC (2008)                              0.059187   \n",
       "\n",
       "title                              12 Years a Slave (2013)  127 Hours (2010)  \\\n",
       "title                                                                          \n",
       "'burbs, The (1989)                                0.009277          0.008331   \n",
       "(500) Days of Summer (2009)                       0.135486          0.200135   \n",
       "10 Cloverfield Lane (2016)                       -0.024275          0.272943   \n",
       "10 Things I Hate About You (1999)                 0.091964          0.043383   \n",
       "10,000 BC (2008)                                 -0.025882          0.089328   \n",
       "\n",
       "title                              ...  Zack and Miri Make a Porno (2008)  \\\n",
       "title                              ...                                      \n",
       "'burbs, The (1989)                 ...                           0.017477   \n",
       "(500) Days of Summer (2009)        ...                           0.374515   \n",
       "10 Cloverfield Lane (2016)         ...                           0.242663   \n",
       "10 Things I Hate About You (1999)  ...                           0.243118   \n",
       "10,000 BC (2008)                   ...                           0.260261   \n",
       "\n",
       "title                              Zero Dark Thirty (2012)  \\\n",
       "title                                                        \n",
       "'burbs, The (1989)                                0.032470   \n",
       "(500) Days of Summer (2009)                       0.178655   \n",
       "10 Cloverfield Lane (2016)                        0.099059   \n",
       "10 Things I Hate About You (1999)                 0.104858   \n",
       "10,000 BC (2008)                                  0.087592   \n",
       "\n",
       "title                              Zero Effect (1998)  Zodiac (2007)  \\\n",
       "title                                                                  \n",
       "'burbs, The (1989)                           0.134701       0.153158   \n",
       "(500) Days of Summer (2009)                  0.068407       0.414585   \n",
       "10 Cloverfield Lane (2016)                  -0.023477       0.272347   \n",
       "10 Things I Hate About You (1999)            0.132460       0.091853   \n",
       "10,000 BC (2008)                             0.094913       0.184521   \n",
       "\n",
       "title                              Zombieland (2009)  Zoolander (2001)  \\\n",
       "title                                                                    \n",
       "'burbs, The (1989)                          0.101301          0.049897   \n",
       "(500) Days of Summer (2009)                 0.355723          0.252226   \n",
       "10 Cloverfield Lane (2016)                  0.241751          0.195054   \n",
       "10 Things I Hate About You (1999)           0.158637          0.281934   \n",
       "10,000 BC (2008)                            0.242299          0.240231   \n",
       "\n",
       "title                              Zootopia (2016)  eXistenZ (1999)  \\\n",
       "title                                                                 \n",
       "'burbs, The (1989)                        0.003233         0.187953   \n",
       "(500) Days of Summer (2009)               0.216007         0.053614   \n",
       "10 Cloverfield Lane (2016)                0.319371         0.177846   \n",
       "10 Things I Hate About You (1999)         0.050031         0.121029   \n",
       "10,000 BC (2008)                          0.094773         0.088045   \n",
       "\n",
       "title                              xXx (2002)  ¡Three Amigos! (1986)  \n",
       "title                                                                 \n",
       "'burbs, The (1989)                   0.062174               0.353194  \n",
       "(500) Days of Summer (2009)          0.241092               0.125905  \n",
       "10 Cloverfield Lane (2016)           0.096638               0.002733  \n",
       "10 Things I Hate About You (1999)    0.130813               0.110612  \n",
       "10,000 BC (2008)                     0.203002               0.083518  \n",
       "\n",
       "[5 rows x 2269 columns]"
      ]
     },
     "execution_count": 120,
     "metadata": {},
     "output_type": "execute_result"
    }
   ],
   "source": [
    "item_similarity_df = user_trainings.corr(method = \"pearson\")\n",
    "item_similarity_df.head()\n"
   ]
  },
  {
   "cell_type": "code",
   "execution_count": 127,
   "id": "9b3e16f9",
   "metadata": {},
   "outputs": [],
   "source": [
    "def get_similary_movies(movie_name, user_rating):\n",
    "    similar_score = item_similarity_df[movie_name]*(user_rating - 2.5)\n",
    "    similar_score = similar_score.sort_values(ascending = False)\n",
    "    return similar_score"
   ]
  },
  {
   "cell_type": "code",
   "execution_count": 128,
   "id": "d3633fbb",
   "metadata": {},
   "outputs": [],
   "source": [
    "temp = [(\"(500) Days of Summer (2009)\",5),\n",
    "       (\"10 Cloverfield Lane (2016)\",3),\n",
    "       (\"10,000 BC (2008)\",3)]"
   ]
  },
  {
   "cell_type": "code",
   "execution_count": 131,
   "id": "3710e215",
   "metadata": {},
   "outputs": [
    {
     "name": "stderr",
     "output_type": "stream",
     "text": [
      "/var/folders/mh/jx8lklg147lb8j4rz9bcxl6w0000gn/T/ipykernel_80598/3714201616.py:3: FutureWarning: The frame.append method is deprecated and will be removed from pandas in a future version. Use pandas.concat instead.\n",
      "  recommend_movie = recommend_movie.append(get_similary_movies(movie,rating))\n",
      "/var/folders/mh/jx8lklg147lb8j4rz9bcxl6w0000gn/T/ipykernel_80598/3714201616.py:3: FutureWarning: The frame.append method is deprecated and will be removed from pandas in a future version. Use pandas.concat instead.\n",
      "  recommend_movie = recommend_movie.append(get_similary_movies(movie,rating))\n",
      "/var/folders/mh/jx8lklg147lb8j4rz9bcxl6w0000gn/T/ipykernel_80598/3714201616.py:3: FutureWarning: The frame.append method is deprecated and will be removed from pandas in a future version. Use pandas.concat instead.\n",
      "  recommend_movie = recommend_movie.append(get_similary_movies(movie,rating))\n"
     ]
    }
   ],
   "source": [
    "recommend_movie = pd.DataFrame()\n",
    "for movie, rating in temp:\n",
    "    recommend_movie = recommend_movie.append(get_similary_movies(movie,rating))\n",
    "    "
   ]
  },
  {
   "cell_type": "code",
   "execution_count": 135,
   "id": "0d3189ab",
   "metadata": {},
   "outputs": [
    {
     "data": {
      "text/plain": [
       "title\n",
       "(500) Days of Summer (2009)           2.668216\n",
       "Silver Linings Playbook (2012)        1.415444\n",
       "Up in the Air (2009)                  1.407991\n",
       "Moonrise Kingdom (2012)               1.316991\n",
       "Adventureland (2009)                  1.300058\n",
       "Scott Pilgrim vs. the World (2010)    1.281894\n",
       "Crazy, Stupid, Love. (2011)           1.272643\n",
       "Zodiac (2007)                         1.264898\n",
       "50/50 (2011)                          1.253757\n",
       "Kick-Ass (2010)                       1.249843\n",
       "dtype: float64"
      ]
     },
     "execution_count": 135,
     "metadata": {},
     "output_type": "execute_result"
    }
   ],
   "source": [
    "recommend_movie.sum().sort_values(ascending= False).head(10)"
   ]
  },
  {
   "cell_type": "code",
   "execution_count": 136,
   "id": "d8cbf6bb",
   "metadata": {},
   "outputs": [
    {
     "data": {
      "text/plain": [
       "[(5, 5), (1, 1)]"
      ]
     },
     "execution_count": 136,
     "metadata": {},
     "output_type": "execute_result"
    }
   ],
   "source": [
    "[(5,5) , (1,1)]"
   ]
  },
  {
   "cell_type": "code",
   "execution_count": 139,
   "id": "aac149eb",
   "metadata": {},
   "outputs": [
    {
     "data": {
      "text/plain": [
       "1.178511301977579"
      ]
     },
     "execution_count": 139,
     "metadata": {},
     "output_type": "execute_result"
    }
   ],
   "source": [
    "import math\n",
    "\n",
    "10 / (math.sqrt(50) + math.sqrt(2))"
   ]
  },
  {
   "cell_type": "code",
   "execution_count": null,
   "id": "131e33bb",
   "metadata": {},
   "outputs": [],
   "source": []
  }
 ],
 "metadata": {
  "kernelspec": {
   "display_name": "Python 3 (ipykernel)",
   "language": "python",
   "name": "python3"
  },
  "language_info": {
   "codemirror_mode": {
    "name": "ipython",
    "version": 3
   },
   "file_extension": ".py",
   "mimetype": "text/x-python",
   "name": "python",
   "nbconvert_exporter": "python",
   "pygments_lexer": "ipython3",
   "version": "3.10.2"
  }
 },
 "nbformat": 4,
 "nbformat_minor": 5
}
