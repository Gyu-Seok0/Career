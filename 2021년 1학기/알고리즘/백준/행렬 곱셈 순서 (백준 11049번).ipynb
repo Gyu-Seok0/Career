{
 "cells": [
  {
   "cell_type": "markdown",
   "metadata": {},
   "source": [
    "<알고리즘>\n",
    "\n",
    "- 1) 입력받기(행렬개수, shape)\n",
    "- 2) 재귀로 돌려서 (1: n-1, 2: n-2 이런식으로 묶어서, 최소 값인지 구해야 겠는걸?\n",
    "- 3) dp table을 사용해야할까?\n",
    "\n",
    "\n"
   ]
  },
  {
   "cell_type": "code",
   "execution_count": 2,
   "metadata": {
    "scrolled": true
   },
   "outputs": [
    {
     "name": "stdout",
     "output_type": "stream",
     "text": [
      "3\n",
      "5 3\n",
      "3 2\n",
      "2 6\n"
     ]
    }
   ],
   "source": [
    "# 입력받기\n",
    "N = int(input())\n",
    "matrix = [list(map(int, input().split())) for _ in range(N)]"
   ]
  },
  {
   "cell_type": "code",
   "execution_count": 33,
   "metadata": {},
   "outputs": [
    {
     "name": "stdout",
     "output_type": "stream",
     "text": [
      "[[3, 2]] [[2, 6]]\n",
      "new = [3, 6], count = 36, total = 0\n",
      "36\n",
      "[[5, 3]] ([3, 6], 36)\n",
      "new = [5, 6], count = 90, total = 0\n",
      "[[5, 3]] [[3, 2]]\n",
      "new = [5, 2], count = 30, total = 0\n",
      "30\n",
      "([5, 2], 30) [[2, 6]]\n",
      "new = [5, 6], count = 60, total = 0\n",
      "60\n"
     ]
    },
    {
     "data": {
      "text/plain": [
       "([5, 6], 60)"
      ]
     },
     "execution_count": 33,
     "metadata": {},
     "output_type": "execute_result"
    }
   ],
   "source": [
    "#이런느낌\n",
    "def matmul(A,B):\n",
    "    print(A,B)\n",
    "    return [A[0][0],B[0][1]], A[0][0]*A[0][1]*B[0][1] #합쳐진 행렬과, 행렬연산값\n",
    "\n",
    "\n",
    "def search(mat,length): #argument로 행렬의 전체 범위를 넣으면 좋을듯\n",
    "    if length == 1:\n",
    "        return mat\n",
    "    \n",
    "    value = 2**31\n",
    "    target = []\n",
    "    total = 0\n",
    "    for i in range(1,length):\n",
    "        # search를 해서 Matmul 진행\n",
    "        # new는 새로운 matrix, count는 연산을 의미\n",
    "        new,count =matmul(search(mat[:i],i), search(mat[i:],length-i))\n",
    "        print(\"new = {}, count = {}\".format(new, count))\n",
    "        if value > count:\n",
    "            value = count\n",
    "            target = new\n",
    "            \n",
    "    return target, value\n",
    "\n",
    "search(matrix,N)"
   ]
  },
  {
   "cell_type": "code",
   "execution_count": 54,
   "metadata": {},
   "outputs": [
    {
     "name": "stdout",
     "output_type": "stream",
     "text": [
      "90\n"
     ]
    }
   ],
   "source": [
    "#이런느낌\n",
    "def matmul(A,B):\n",
    "    #만약에 B[1]이 존재하면 여기에 행렬 연산값을 더해주면 될것가다.\n",
    "    value1 = 0\n",
    "    value2 = 0\n",
    "    if len(A) == 2:\n",
    "        value1 = A[1]\n",
    "    if len(B) == 2:\n",
    "        value2 = B[1]\n",
    "    \n",
    "    return [A[0][0],B[0][1]], A[0][0]*A[0][1]*B[0][1] +value1 + value2 #합쳐진 행렬과, 행렬연산값\n",
    "\n",
    "result = 2**31\n",
    "def search(mat,length): #argument로 행렬의 전체 범위를 넣으면 좋을듯\n",
    "    global result\n",
    "    if length == 1:\n",
    "        return mat\n",
    "    value = 2**31\n",
    "    target = []\n",
    "    total = 0\n",
    "    for i in range(1,length):\n",
    "        # search를 해서 Matmul 진행\n",
    "        # new는 새로운 matrix, count는 연산을 의미\n",
    "        new,count = matmul(search(mat[:i],i), search(mat[i:],length-i))\n",
    "        #print(\"new = {}, count = {}, total = {}\".format(new, count,total))\n",
    "        if value > count:\n",
    "            value = count\n",
    "            target = new\n",
    "        if length == N:\n",
    "            result = min(result,count)\n",
    "            #print(result)\n",
    "    total += value\n",
    "    #print(\"total =\", total)\n",
    "    return target, total\n",
    "\n",
    "search(matrix,N)\n",
    "print(result)"
   ]
  },
  {
   "cell_type": "markdown",
   "metadata": {},
   "source": [
    "# DP 테이블로 문제를 풀어봅시다."
   ]
  },
  {
   "cell_type": "code",
   "execution_count": 1,
   "metadata": {},
   "outputs": [
    {
     "name": "stdout",
     "output_type": "stream",
     "text": [
      "3\n",
      "5 3\n",
      "3 2\n",
      "2 6\n"
     ]
    }
   ],
   "source": [
    "# 입력받기\n",
    "n = int(input())\n",
    "s = [list(map(int, input().split())) for _ in range(n)]"
   ]
  },
  {
   "cell_type": "code",
   "execution_count": 2,
   "metadata": {},
   "outputs": [
    {
     "name": "stdout",
     "output_type": "stream",
     "text": [
      "90\n"
     ]
    }
   ],
   "source": [
    "dp = [[0]*n for _ in range(n)]\n",
    "for i in range(1,n): #연산되는 행렬의 개수를 의미함 \n",
    "    for j in range(n-i):\n",
    "        x = j + i\n",
    "        #print(\"i=\", i, \"j=\", j, \"x=\", x)\n",
    "        dp[j][x] = 2**32\n",
    "        for k in range(j,x):\n",
    "            dp[j][x] = min(dp[j][x],dp[j][k] + dp[k+1][x] + s[j][0]*s[k][1]*s[x][1])\n",
    "#         for a in range(n):\n",
    "#             for b in range(n):\n",
    "#                 print(dp[a][b], end = \"  \")\n",
    "#             print()\n",
    "#         print()\n",
    "print(dp[0][n-1])\n"
   ]
  },
  {
   "cell_type": "code",
   "execution_count": null,
   "metadata": {},
   "outputs": [],
   "source": [
    "4\n",
    "5 3\n",
    "3 2\n",
    "2 6\n",
    "6 3\n",
    "\n",
    "정답 96"
   ]
  },
  {
   "cell_type": "code",
   "execution_count": 4,
   "metadata": {},
   "outputs": [
    {
     "data": {
      "text/plain": [
       "[[0, 30, 90], [0, 0, 36], [0, 0, 0]]"
      ]
     },
     "execution_count": 4,
     "metadata": {},
     "output_type": "execute_result"
    }
   ],
   "source": [
    "dp"
   ]
  },
  {
   "cell_type": "code",
   "execution_count": null,
   "metadata": {},
   "outputs": [],
   "source": []
  }
 ],
 "metadata": {
  "kernelspec": {
   "display_name": "Python 3",
   "language": "python",
   "name": "python3"
  },
  "language_info": {
   "codemirror_mode": {
    "name": "ipython",
    "version": 3
   },
   "file_extension": ".py",
   "mimetype": "text/x-python",
   "name": "python",
   "nbconvert_exporter": "python",
   "pygments_lexer": "ipython3",
   "version": "3.8.3"
  }
 },
 "nbformat": 4,
 "nbformat_minor": 4
}
