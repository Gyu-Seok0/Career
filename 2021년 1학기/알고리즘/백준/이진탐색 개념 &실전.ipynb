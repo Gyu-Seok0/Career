{
 "cells": [
  {
   "cell_type": "markdown",
   "metadata": {},
   "source": [
    "# 이진탐색 (binary search)\n",
    "\n",
    "- 전제: 이미 정렬이 되어있다.\n",
    "\n",
    "- 단계:\n",
    "<br> 1) 시작 - 중간 - 끝 설정하기\n",
    "<br> 2) 해당 값과 중간점 비교하기 :\n",
    "     해당 값이 중간점보다 크다면 (시작, 중간점-1) otherwise (중간점+1, 끝)\n",
    "<br> 3) 해당 값과 중간점이 같아질 때까지 돌리면 된다.\n",
    "\n"
   ]
  },
  {
   "cell_type": "code",
   "execution_count": 4,
   "metadata": {},
   "outputs": [
    {
     "name": "stdout",
     "output_type": "stream",
     "text": [
      "6 8\n",
      "1 2 4 8 16 32\n"
     ]
    }
   ],
   "source": [
    "# 원소 개수, 해당값 설정 \n",
    "N, target= map(int, input().split())\n",
    "# array 넣기\n",
    "array = list(map(int, input().split()))"
   ]
  },
  {
   "cell_type": "code",
   "execution_count": 6,
   "metadata": {},
   "outputs": [
    {
     "name": "stdout",
     "output_type": "stream",
     "text": [
      "idx =3, value =8\n"
     ]
    }
   ],
   "source": [
    "# 반복문 이용\n",
    "def search1(array, target, start, end): #start, end는 인덱스를 의미합니다.\n",
    "    while start <= end:\n",
    "        mid = (start + end) // 2 #mid index\n",
    "        if target == array[mid]: #종료조건\n",
    "            return mid\n",
    "        #두번째 단계에 돌입\n",
    "        if array[mid] > target: # target이 더 왼쪽에 있다면:\n",
    "            end = mid-1\n",
    "        else: #target이 오른쪽에 있다.\n",
    "            start = mid+1\n",
    "    return None\n",
    "\n",
    "#함수호출\n",
    "target_idx = search1(array, target, 0, N-1)\n",
    "print(\"idx ={}, value ={}\".format(target_idx, array[target_idx]))"
   ]
  },
  {
   "cell_type": "code",
   "execution_count": 9,
   "metadata": {},
   "outputs": [
    {
     "name": "stdout",
     "output_type": "stream",
     "text": [
      "idx =3, value =8\n"
     ]
    }
   ],
   "source": [
    "#재귀함수를 이용\n",
    "def search2(array, target, start, end):\n",
    "    if start > end:\n",
    "        return None\n",
    "    \n",
    "    mid = (start + end) // 2\n",
    "    if target == array[mid]:\n",
    "        return mid\n",
    "    \n",
    "    if target < array[mid]: # target이 왼쪽에 있다.\n",
    "        return search2(array,target,start, mid -1) #return을 안잡으면 안되는 구나.\n",
    "    else:\n",
    "        return search2(array,target,mid+1,end)\n",
    "        \n",
    "target_idx = search2(array, target, 0, N-1)\n",
    "print(\"idx ={}, value ={}\".format(target_idx, array[target_idx]))"
   ]
  },
  {
   "cell_type": "code",
   "execution_count": 18,
   "metadata": {},
   "outputs": [
    {
     "name": "stdout",
     "output_type": "stream",
     "text": [
      "2 4\n"
     ]
    }
   ],
   "source": [
    "# bisect라이브러리\n",
    "# 전제: 정렬\n",
    "# 해당 array에서 x의 삽입할 위치(idx)를 반환해준다.\n",
    "from bisect import bisect_left, bisect_right\n",
    "array = [1,2,4,4,6,8]\n",
    "x = 4\n",
    "\n",
    "# 왼쪽기준 idx, 오른쪽기준 idx\n",
    "print(bisect_left(array,x), bisect_right(array,x))"
   ]
  },
  {
   "cell_type": "code",
   "execution_count": 19,
   "metadata": {},
   "outputs": [
    {
     "data": {
      "text/plain": [
       "4"
      ]
     },
     "execution_count": 19,
     "metadata": {},
     "output_type": "execute_result"
    }
   ],
   "source": [
    "# 숫자의 개수 \n",
    "def count_by_range(array,left,right):\n",
    "    return bisect_right(array, right) - bisect_left(array,left)\n",
    "\n",
    "count_by_range(array,0,4)"
   ]
  },
  {
   "cell_type": "markdown",
   "metadata": {},
   "source": [
    "# 떡볶이 떡 문제\n",
    ": 손님이 M cm의 길이를 가져가기 위해서 절단기의 최대 높이\n"
   ]
  },
  {
   "cell_type": "code",
   "execution_count": 20,
   "metadata": {},
   "outputs": [
    {
     "name": "stdout",
     "output_type": "stream",
     "text": [
      "4 6\n",
      "19 14 10 17\n"
     ]
    }
   ],
   "source": [
    "N,M = map(int, input().split()) #떡의 개수, 손님이 가져가는 M\n",
    "rice = list(map(int, input().split())) #떡"
   ]
  },
  {
   "cell_type": "code",
   "execution_count": 29,
   "metadata": {},
   "outputs": [
    {
     "data": {
      "text/plain": [
       "15"
      ]
     },
     "execution_count": 29,
     "metadata": {},
     "output_type": "execute_result"
    }
   ],
   "source": [
    "'''\n",
    "절단기 높이로 잘랐을 때, total 떡의 cm\n",
    "0 ~ max까지로 절단기의 높이를 맞추고,\n",
    "내가 원하는 M cm까지 나온다면 멈추고\n",
    "너무 떡이 적다면, 절단기의 높이를 높인다\n",
    "'''\n",
    "# 잘라서, \n",
    "def cut(target):\n",
    "    return sum(map(lambda x: max(0, x - target), rice))\n",
    "    \n",
    "def search(rice, start, end):\n",
    "    if start > end:\n",
    "        return None\n",
    "    mid = (start + end) // 2\n",
    "    value = cut(mid)\n",
    "    \n",
    "    if value == M:\n",
    "        return mid\n",
    "    \n",
    "    if value < M: # 떡이 너무 적다면, 절단기의 길이를 줄이자\n",
    "        return search(rice, start, mid-1)\n",
    "    else:\n",
    "        return search(rice, mid+1, end)\n",
    "        \n",
    "search(rice,0,max(rice))"
   ]
  },
  {
   "cell_type": "markdown",
   "metadata": {},
   "source": [
    "# 정리: 파라매트릭 서치\n",
    "\n",
    "https://sarah950716.tistory.com/16\n",
    "\n",
    "1) 결정문제로 해결\n",
    "\n",
    "2) 최솟값이 x라면, x 이상 값이면 모든 조건을 만족\n",
    "\n",
    "3) 최대값이 x라면, x 이하 값으로 모든 조건을 만족"
   ]
  },
  {
   "cell_type": "markdown",
   "metadata": {},
   "source": [
    "# 가장 긴 증가하는 부분수열: 백준 11053번"
   ]
  },
  {
   "cell_type": "code",
   "execution_count": 31,
   "metadata": {},
   "outputs": [
    {
     "name": "stdout",
     "output_type": "stream",
     "text": [
      "6\n",
      "10 20 10 30 20 50\n"
     ]
    },
    {
     "data": {
      "text/plain": [
       "[1, 2, 1, 3, 2, 4]"
      ]
     },
     "execution_count": 31,
     "metadata": {},
     "output_type": "execute_result"
    }
   ],
   "source": [
    "# 가장긴 증가하는 부분 수열\n",
    "N = int(input())\n",
    "array = list(map(int, input().split()))\n",
    "#dp에 저장하면 될듯?\n",
    "dp = [1]*N\n",
    "for i in range(1,N):\n",
    "    for j in range(i):\n",
    "        if array[j] < array[i]:\n",
    "            dp[i] = max(dp[j] + 1, dp[i])\n",
    "print(max(dp))"
   ]
  },
  {
   "cell_type": "markdown",
   "metadata": {},
   "source": [
    "# 가장 긴 증가하는 부분수열2: 백준12015번"
   ]
  },
  {
   "cell_type": "code",
   "execution_count": 34,
   "metadata": {},
   "outputs": [
    {
     "name": "stdout",
     "output_type": "stream",
     "text": [
      "8\n",
      "10 20 30 5 10 20 30 40\n",
      "5\n"
     ]
    }
   ],
   "source": [
    "# 가장긴 증가하는 부분 수열\n",
    "# 왜 시간초과..?\n",
    "# 이중 for문이 아닌 뭔가가 있는 것 같다.\n",
    "\n",
    "N = int(input())\n",
    "array = list(map(int, input().split()))\n",
    "#dp에 저장하면 될듯?\n",
    "dp = [1]*N\n",
    "result = 0\n",
    "for i in range(1,N):\n",
    "    for j in range(i):\n",
    "        if array[j] < array[i]:\n",
    "            dp[i] = max(dp[j] + 1, dp[i])\n",
    "    if result < dp[i]:\n",
    "        result = dp[i]\n",
    "        \n",
    "print(result)"
   ]
  },
  {
   "cell_type": "code",
   "execution_count": 37,
   "metadata": {},
   "outputs": [
    {
     "name": "stdout",
     "output_type": "stream",
     "text": [
      "8\n",
      "10 20 30 5 10 20 30 40\n"
     ]
    }
   ],
   "source": [
    "from bisect import bisect_left\n",
    "N = int(input())\n",
    "array = list(map(int, input().split()))\n",
    "\n",
    "stack = [0]\n",
    "for now in array:\n",
    "    if stack[-1] < now:\n",
    "        stack.append(now)\n",
    "    else:\n",
    "        stack[bisect_left(stack,now)] = now\n",
    "print(len(stack) -1)"
   ]
  },
  {
   "cell_type": "markdown",
   "metadata": {},
   "source": [
    "# 정리:\n",
    "같은 문제를 다른 알고리즘으로 풀었을 때, 더 좋은 시간복잡도를 가질 수 있었다.\n",
    "\n",
    "특히, stack 자료구조를 이용해서 제일 큰 값이라면, top(맨 뒤)에 넣고, 그렇지 않다면 해당하는 자리를 찾아서 그 값으로 대체되는 과정을 통해서 최종적으로 제일 큰 값을 만들어 줄 수 있기에 신기했다."
   ]
  },
  {
   "cell_type": "code",
   "execution_count": null,
   "metadata": {},
   "outputs": [],
   "source": [
    "0 5 10 20 30 "
   ]
  }
 ],
 "metadata": {
  "kernelspec": {
   "display_name": "Python 3",
   "language": "python",
   "name": "python3"
  },
  "language_info": {
   "codemirror_mode": {
    "name": "ipython",
    "version": 3
   },
   "file_extension": ".py",
   "mimetype": "text/x-python",
   "name": "python",
   "nbconvert_exporter": "python",
   "pygments_lexer": "ipython3",
   "version": "3.8.3"
  }
 },
 "nbformat": 4,
 "nbformat_minor": 4
}
