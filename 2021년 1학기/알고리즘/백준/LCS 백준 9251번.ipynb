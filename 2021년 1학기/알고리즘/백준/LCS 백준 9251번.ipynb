{
 "cells": [
  {
   "cell_type": "code",
   "execution_count": 31,
   "metadata": {},
   "outputs": [
    {
     "name": "stdout",
     "output_type": "stream",
     "text": [
      "ACAYKP\n",
      "CAPCAK\n"
     ]
    }
   ],
   "source": [
    "#짧은거 입력받기\n",
    "str1 = input()\n",
    "str2 = input()\n",
    "if len(str2) < len(str1):\n",
    "    str1,str2 = str2,str1"
   ]
  },
  {
   "cell_type": "code",
   "execution_count": 32,
   "metadata": {},
   "outputs": [
    {
     "name": "stdout",
     "output_type": "stream",
     "text": [
      "4\n",
      "3\n",
      "2\n",
      "1\n",
      "1\n",
      "1\n",
      "4\n"
     ]
    }
   ],
   "source": [
    "#우리가 원하는 target이 찾아졌는지 확인하기\n",
    "def search(target,index):\n",
    "    for i in range(index,len(str2)):\n",
    "        if str2[i] == target:\n",
    "            return i\n",
    "    return -1\n",
    "index = 0\n",
    "result = 0\n",
    "for i in range(len(str1)): #start point\n",
    "    cnt = 0\n",
    "    index = 0\n",
    "    for now in str1[i:]:\n",
    "        value = search(now,index) # -1아니면 찾은 index겠지\n",
    "        if value != -1: #찾았다면\n",
    "            index = value+1\n",
    "            cnt += 1\n",
    "    result = max(result,cnt)\n",
    "print(result)"
   ]
  },
  {
   "cell_type": "markdown",
   "metadata": {},
   "source": [
    "# DP방법\n",
    "\n",
    "- 1) top-down 방식으로 문제를 해결해보자\n",
    "- 2) dp 테이플 이용"
   ]
  },
  {
   "cell_type": "code",
   "execution_count": 61,
   "metadata": {
    "scrolled": false
   },
   "outputs": [
    {
     "name": "stdout",
     "output_type": "stream",
     "text": [
      "ACAYKP\n",
      "CAPCAK\n"
     ]
    }
   ],
   "source": [
    "A = input()\n",
    "B = input()"
   ]
  },
  {
   "cell_type": "code",
   "execution_count": 84,
   "metadata": {
    "scrolled": true
   },
   "outputs": [
    {
     "name": "stdout",
     "output_type": "stream",
     "text": [
      "4\n"
     ]
    }
   ],
   "source": [
    "import sys\n",
    "sys.setrecursionlimit(10**9)\n",
    "\n",
    "dp = [[0]*len(B) for _ in range(len(A))]\n",
    "visited = [[False]*len(B) for _ in range(len(A))]\n",
    "def LCS(i,j):\n",
    "    if i < 0 or j < 0:\n",
    "        return 0\n",
    "    if visited[i][j]:\n",
    "        return dp[i][j]\n",
    "    if A[i] == B[j]:\n",
    "        dp[i][j] = LCS(i-1,j-1) + 1\n",
    "    else:\n",
    "        dp[i][j] = max(LCS(i-1,j), LCS(i,j-1))\n",
    "    \n",
    "    visited[i][j] = True\n",
    "    return dp[i][j]\n",
    "\n",
    "LCS(len(A)-1,len(B)-1)\n",
    "print(dp[len(A)-1][len(B)-1])"
   ]
  },
  {
   "cell_type": "code",
   "execution_count": 85,
   "metadata": {},
   "outputs": [
    {
     "name": "stdout",
     "output_type": "stream",
     "text": [
      "ACAYKP\n",
      "CAPCAK\n"
     ]
    }
   ],
   "source": [
    "A = ' '+input()\n",
    "B = ' '+input()\n",
    "dp = [[0]*len(B) for _ in range(len(A))]\n",
    "for i in range(1,len(A)):\n",
    "    for j in range(1,len(B)):\n",
    "        if A[i] == B[j]:\n",
    "            dp[i][j] = dp[i-1][j-1] + 1\n",
    "        else:\n",
    "            dp[i][j] = max(dp[i-1][j], dp[i][j-1])\n",
    "print(dp[len(A)-1][len(B)-1])"
   ]
  },
  {
   "cell_type": "code",
   "execution_count": 88,
   "metadata": {},
   "outputs": [
    {
     "name": "stdout",
     "output_type": "stream",
     "text": [
      "4\n"
     ]
    }
   ],
   "source": []
  },
  {
   "cell_type": "code",
   "execution_count": null,
   "metadata": {},
   "outputs": [],
   "source": []
  }
 ],
 "metadata": {
  "kernelspec": {
   "display_name": "Python 3",
   "language": "python",
   "name": "python3"
  },
  "language_info": {
   "codemirror_mode": {
    "name": "ipython",
    "version": 3
   },
   "file_extension": ".py",
   "mimetype": "text/x-python",
   "name": "python",
   "nbconvert_exporter": "python",
   "pygments_lexer": "ipython3",
   "version": "3.8.3"
  }
 },
 "nbformat": 4,
 "nbformat_minor": 4
}
