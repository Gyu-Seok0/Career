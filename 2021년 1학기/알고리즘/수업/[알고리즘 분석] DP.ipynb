{
 "cells": [
  {
   "cell_type": "code",
   "execution_count": 28,
   "metadata": {},
   "outputs": [
    {
     "name": "stdout",
     "output_type": "stream",
     "text": [
      "102334155\n"
     ]
    },
    {
     "data": {
      "text/plain": [
       "21.639943838119507"
      ]
     },
     "execution_count": 28,
     "metadata": {},
     "output_type": "execute_result"
    }
   ],
   "source": [
    "# fibo\n",
    "import time\n",
    "def fibo(n):\n",
    "    if n == 1 or n == 2:\n",
    "        return 1\n",
    "    return fibo(n-1) + fibo(n-2)\n",
    "\n",
    "start = time.time()\n",
    "print(fibo(40))\n",
    "end = time.time()\n",
    "\n",
    "end - start"
   ]
  },
  {
   "cell_type": "code",
   "execution_count": 29,
   "metadata": {},
   "outputs": [
    {
     "name": "stdout",
     "output_type": "stream",
     "text": [
      "40\n",
      "102334155\n"
     ]
    },
    {
     "data": {
      "text/plain": [
       "1.0958900451660156"
      ]
     },
     "execution_count": 29,
     "metadata": {},
     "output_type": "execute_result"
    }
   ],
   "source": [
    "##### dp를 이용한 fibo\n",
    "# bottom-up\n",
    "start = time.time()\n",
    "\n",
    "n = int(input())\n",
    "dp = [0]*(n+1)\n",
    "dp[1] = 1\n",
    "dp[2] = 1\n",
    "for i in range(3,n+1):\n",
    "    dp[i] = dp[i-1] + dp[i-2]\n",
    "print(dp[n])\n",
    "\n",
    "end = time.time()\n",
    "end - start"
   ]
  },
  {
   "cell_type": "code",
   "execution_count": 39,
   "metadata": {
    "scrolled": true
   },
   "outputs": [
    {
     "name": "stdout",
     "output_type": "stream",
     "text": [
      "40\n"
     ]
    },
    {
     "data": {
      "text/plain": [
       "1.4708530902862549"
      ]
     },
     "execution_count": 39,
     "metadata": {},
     "output_type": "execute_result"
    }
   ],
   "source": [
    "### dp를 이용한 fibo\n",
    "# up - down\n",
    "start = time.time()\n",
    "\n",
    "n = int(input())\n",
    "dp = [0]*(n+1)\n",
    "dp[1] = 1\n",
    "dp[2] = 1\n",
    "\n",
    "def fibo(n):\n",
    "    if dp[n] != 0:\n",
    "        return dp[n]\n",
    "    dp[n] = fibo(n-1) + fibo(n-2)\n",
    "    return dp[n]\n",
    "fibo(n)\n",
    "end = time.time()\n",
    "end - start"
   ]
  },
  {
   "cell_type": "markdown",
   "metadata": {},
   "source": [
    "# 정리\n",
    "피보나치를 푸는 방법은 위와 같이 크게 세 가지 방법을 제시할 수 있다.\n",
    "\n",
    "1) 기본수식\n",
    "\n",
    "2) bottom up (for문사용)\n",
    "\n",
    "3) up-down (재귀함수 사용)\n",
    "\n",
    "이중에서도 2번에 해당하는 bottom-up 방식이 제일 효율적인 것으로 보인다.\n"
   ]
  },
  {
   "cell_type": "code",
   "execution_count": null,
   "metadata": {},
   "outputs": [],
   "source": []
  }
 ],
 "metadata": {
  "kernelspec": {
   "display_name": "Python 3",
   "language": "python",
   "name": "python3"
  },
  "language_info": {
   "codemirror_mode": {
    "name": "ipython",
    "version": 3
   },
   "file_extension": ".py",
   "mimetype": "text/x-python",
   "name": "python",
   "nbconvert_exporter": "python",
   "pygments_lexer": "ipython3",
   "version": "3.8.3"
  }
 },
 "nbformat": 4,
 "nbformat_minor": 4
}
