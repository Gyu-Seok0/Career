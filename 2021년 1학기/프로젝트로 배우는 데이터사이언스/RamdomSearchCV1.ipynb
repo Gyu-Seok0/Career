{
 "cells": [
  {
   "cell_type": "markdown",
   "metadata": {},
   "source": [
    "# 4.1.4 Grid SearchCV"
   ]
  },
  {
   "cell_type": "code",
   "execution_count": 7,
   "metadata": {
    "scrolled": false
   },
   "outputs": [
    {
     "name": "stdout",
     "output_type": "stream",
     "text": [
      "X_train.shape = (537, 8), y_train.shape = (537,)\n"
     ]
    }
   ],
   "source": [
    "import pandas as pd\n",
    "import numpy as np\n",
    "import seaborn as sns\n",
    "import matplotlib.pyplot as plt\n",
    "from sklearn.model_selection import train_test_split\n",
    "from sklearn.tree import DecisionTreeClassifier\n",
    "\n",
    "df = pd.read_csv(\"diabetes.csv\")\n",
    "X, y = df.drop(\"Outcome\", axis = 1), df[\"Outcome\"]\n",
    "X_train, X_test, y_train, y_test = train_test_split(X,y, train_size = 0.7, shuffle = True, random_state = 42)\n",
    "print(\"X_train.shape = {}, y_train.shape = {}\".format(X_train.shape, y_train.shape))"
   ]
  },
  {
   "cell_type": "markdown",
   "metadata": {},
   "source": [
    "# Grid Search\n",
    "\n",
    "--> 가장 우수한 성능을 보이는 모델의 하이퍼 파라미터를 찾기 위함"
   ]
  },
  {
   "cell_type": "code",
   "execution_count": 52,
   "metadata": {},
   "outputs": [
    {
     "name": "stdout",
     "output_type": "stream",
     "text": [
      "Fitting 5 folds for each of 45 candidates, totalling 225 fits\n"
     ]
    },
    {
     "name": "stderr",
     "output_type": "stream",
     "text": [
      "[Parallel(n_jobs=-1)]: Using backend LokyBackend with 4 concurrent workers.\n"
     ]
    },
    {
     "name": "stdout",
     "output_type": "stream",
     "text": [
      "0.7359307359307359\n"
     ]
    },
    {
     "name": "stderr",
     "output_type": "stream",
     "text": [
      "[Parallel(n_jobs=-1)]: Done 190 tasks      | elapsed:    0.6s\n",
      "[Parallel(n_jobs=-1)]: Done 225 out of 225 | elapsed:    0.7s finished\n"
     ]
    }
   ],
   "source": [
    "from sklearn.model_selection import GridSearchCV\n",
    "\n",
    "model = DecisionTreeClassifier(random_state=42)\n",
    "param_grid = {\"max_depth\": range(3,12),\n",
    "              \"max_features\":[0.3, 0.5, 0.7, 0.9, 1]} # 이건 뭘 의미하는거지? 의사결정나무에 사용하는 feature 개수 \n",
    "\n",
    "# cv = 조각\n",
    "clf = GridSearchCV(model, param_grid=param_grid, n_jobs = -1, cv= 5,verbose = 1)\n",
    "clf.fit(X_train, y_train)\n",
    "print(clf.score(X_test, y_test))"
   ]
  },
  {
   "cell_type": "code",
   "execution_count": 23,
   "metadata": {
    "scrolled": false
   },
   "outputs": [
    {
     "data": {
      "text/html": [
       "<div>\n",
       "<style scoped>\n",
       "    .dataframe tbody tr th:only-of-type {\n",
       "        vertical-align: middle;\n",
       "    }\n",
       "\n",
       "    .dataframe tbody tr th {\n",
       "        vertical-align: top;\n",
       "    }\n",
       "\n",
       "    .dataframe thead th {\n",
       "        text-align: right;\n",
       "    }\n",
       "</style>\n",
       "<table border=\"1\" class=\"dataframe\">\n",
       "  <thead>\n",
       "    <tr style=\"text-align: right;\">\n",
       "      <th></th>\n",
       "      <th>mean_fit_time</th>\n",
       "      <th>std_fit_time</th>\n",
       "      <th>mean_score_time</th>\n",
       "      <th>std_score_time</th>\n",
       "      <th>param_max_depth</th>\n",
       "      <th>param_max_features</th>\n",
       "      <th>params</th>\n",
       "      <th>split0_test_score</th>\n",
       "      <th>split1_test_score</th>\n",
       "      <th>split2_test_score</th>\n",
       "      <th>split3_test_score</th>\n",
       "      <th>split4_test_score</th>\n",
       "      <th>mean_test_score</th>\n",
       "      <th>std_test_score</th>\n",
       "      <th>rank_test_score</th>\n",
       "    </tr>\n",
       "  </thead>\n",
       "  <tbody>\n",
       "    <tr>\n",
       "      <th>12</th>\n",
       "      <td>0.007147</td>\n",
       "      <td>0.003466</td>\n",
       "      <td>0.002714</td>\n",
       "      <td>0.000382</td>\n",
       "      <td>5</td>\n",
       "      <td>0.7</td>\n",
       "      <td>{'max_depth': 5, 'max_features': 0.7}</td>\n",
       "      <td>0.833333</td>\n",
       "      <td>0.703704</td>\n",
       "      <td>0.813084</td>\n",
       "      <td>0.766355</td>\n",
       "      <td>0.738318</td>\n",
       "      <td>0.770959</td>\n",
       "      <td>0.047487</td>\n",
       "      <td>1</td>\n",
       "    </tr>\n",
       "    <tr>\n",
       "      <th>41</th>\n",
       "      <td>0.007709</td>\n",
       "      <td>0.001873</td>\n",
       "      <td>0.002962</td>\n",
       "      <td>0.000398</td>\n",
       "      <td>11</td>\n",
       "      <td>0.5</td>\n",
       "      <td>{'max_depth': 11, 'max_features': 0.5}</td>\n",
       "      <td>0.759259</td>\n",
       "      <td>0.722222</td>\n",
       "      <td>0.775701</td>\n",
       "      <td>0.738318</td>\n",
       "      <td>0.757009</td>\n",
       "      <td>0.750502</td>\n",
       "      <td>0.018451</td>\n",
       "      <td>2</td>\n",
       "    </tr>\n",
       "    <tr>\n",
       "      <th>13</th>\n",
       "      <td>0.011874</td>\n",
       "      <td>0.007382</td>\n",
       "      <td>0.002577</td>\n",
       "      <td>0.000161</td>\n",
       "      <td>5</td>\n",
       "      <td>0.9</td>\n",
       "      <td>{'max_depth': 5, 'max_features': 0.9}</td>\n",
       "      <td>0.796296</td>\n",
       "      <td>0.722222</td>\n",
       "      <td>0.794393</td>\n",
       "      <td>0.682243</td>\n",
       "      <td>0.738318</td>\n",
       "      <td>0.746694</td>\n",
       "      <td>0.043723</td>\n",
       "      <td>3</td>\n",
       "    </tr>\n",
       "    <tr>\n",
       "      <th>2</th>\n",
       "      <td>0.005536</td>\n",
       "      <td>0.001769</td>\n",
       "      <td>0.003347</td>\n",
       "      <td>0.001031</td>\n",
       "      <td>3</td>\n",
       "      <td>0.7</td>\n",
       "      <td>{'max_depth': 3, 'max_features': 0.7}</td>\n",
       "      <td>0.787037</td>\n",
       "      <td>0.731481</td>\n",
       "      <td>0.785047</td>\n",
       "      <td>0.682243</td>\n",
       "      <td>0.738318</td>\n",
       "      <td>0.744825</td>\n",
       "      <td>0.038824</td>\n",
       "      <td>4</td>\n",
       "    </tr>\n",
       "    <tr>\n",
       "      <th>3</th>\n",
       "      <td>0.031346</td>\n",
       "      <td>0.016842</td>\n",
       "      <td>0.013443</td>\n",
       "      <td>0.011481</td>\n",
       "      <td>3</td>\n",
       "      <td>0.9</td>\n",
       "      <td>{'max_depth': 3, 'max_features': 0.9}</td>\n",
       "      <td>0.768519</td>\n",
       "      <td>0.722222</td>\n",
       "      <td>0.757009</td>\n",
       "      <td>0.728972</td>\n",
       "      <td>0.738318</td>\n",
       "      <td>0.743008</td>\n",
       "      <td>0.017308</td>\n",
       "      <td>5</td>\n",
       "    </tr>\n",
       "  </tbody>\n",
       "</table>\n",
       "</div>"
      ],
      "text/plain": [
       "    mean_fit_time  std_fit_time  mean_score_time  std_score_time  \\\n",
       "12       0.007147      0.003466         0.002714        0.000382   \n",
       "41       0.007709      0.001873         0.002962        0.000398   \n",
       "13       0.011874      0.007382         0.002577        0.000161   \n",
       "2        0.005536      0.001769         0.003347        0.001031   \n",
       "3        0.031346      0.016842         0.013443        0.011481   \n",
       "\n",
       "   param_max_depth param_max_features                                  params  \\\n",
       "12               5                0.7   {'max_depth': 5, 'max_features': 0.7}   \n",
       "41              11                0.5  {'max_depth': 11, 'max_features': 0.5}   \n",
       "13               5                0.9   {'max_depth': 5, 'max_features': 0.9}   \n",
       "2                3                0.7   {'max_depth': 3, 'max_features': 0.7}   \n",
       "3                3                0.9   {'max_depth': 3, 'max_features': 0.9}   \n",
       "\n",
       "    split0_test_score  split1_test_score  split2_test_score  \\\n",
       "12           0.833333           0.703704           0.813084   \n",
       "41           0.759259           0.722222           0.775701   \n",
       "13           0.796296           0.722222           0.794393   \n",
       "2            0.787037           0.731481           0.785047   \n",
       "3            0.768519           0.722222           0.757009   \n",
       "\n",
       "    split3_test_score  split4_test_score  mean_test_score  std_test_score  \\\n",
       "12           0.766355           0.738318         0.770959        0.047487   \n",
       "41           0.738318           0.757009         0.750502        0.018451   \n",
       "13           0.682243           0.738318         0.746694        0.043723   \n",
       "2            0.682243           0.738318         0.744825        0.038824   \n",
       "3            0.728972           0.738318         0.743008        0.017308   \n",
       "\n",
       "    rank_test_score  \n",
       "12                1  \n",
       "41                2  \n",
       "13                3  \n",
       "2                 4  \n",
       "3                 5  "
      ]
     },
     "execution_count": 23,
     "metadata": {},
     "output_type": "execute_result"
    }
   ],
   "source": [
    "# 완전 이해했다.\n",
    "pd.DataFrame(clf.cv_results_).sort_values(by = \"rank_test_score\").head()"
   ]
  },
  {
   "cell_type": "markdown",
   "metadata": {},
   "source": [
    "# 4.5 RandomSearchCV 사용하기\n",
    "\n",
    "- 위에 있는 Grid Search CV와의 차이점은 Grid CV는 개발자가 입력한 모든 파라미터를 다 Search함에 반해서, RandomSearchCV는 지정한 범위에서 몇개만 Search하면서 최적의 파라미터를 찾아준다.\n",
    "\n",
    "- 시간효율에서 강하고, 심지어 성능도 더 좋다는 논문이 나왔다."
   ]
  },
  {
   "cell_type": "code",
   "execution_count": 41,
   "metadata": {},
   "outputs": [
    {
     "data": {
      "text/plain": [
       "array([0.5370542 , 0.85761858, 0.89162282, 0.79715988, 0.67635147,\n",
       "       0.93774713, 0.43448438, 0.68208478, 0.58763146, 0.81600601,\n",
       "       0.90979837, 0.47496774, 0.52118595, 0.40829956, 0.50310176,\n",
       "       0.59471687, 0.88457785, 0.98175683, 0.73854226, 0.40222497,\n",
       "       0.76149095, 0.42642225, 0.44895301, 0.92664345, 0.5724593 ,\n",
       "       0.89146034, 0.90524689, 0.77731385, 0.46343441, 0.91626165,\n",
       "       0.61028052, 0.9528096 , 0.74782716, 0.55017858, 0.75027508,\n",
       "       0.86948171, 0.48703803, 0.42847334, 0.68408179, 0.5636356 ,\n",
       "       0.68617238, 0.87423904, 0.70434844, 0.50480339, 0.62706863,\n",
       "       0.83173661, 0.90263009, 0.43602728, 0.84411198, 0.49734445,\n",
       "       0.8593461 , 0.95685755, 0.78154735, 0.84719462, 0.40944695,\n",
       "       0.74570149, 0.88874247, 0.46051959, 0.53136742, 0.81649624,\n",
       "       0.75173161, 0.81266811, 0.78385138, 0.70295609, 0.95164423,\n",
       "       0.9956191 , 0.40706808, 0.81245325, 0.74511317, 0.57846895,\n",
       "       0.8321494 , 0.9575412 , 0.6544653 , 0.83787831, 0.43849336,\n",
       "       0.46767451, 0.77106967, 0.58276475, 0.45235126, 0.72333214,\n",
       "       0.43013007, 0.75232221, 0.41902069, 0.78830863, 0.40884074,\n",
       "       0.88696191, 0.64115161, 0.64943285, 0.82911036, 0.46227302,\n",
       "       0.70515798, 0.97165795, 0.83382173, 0.8251153 , 0.83709886,\n",
       "       0.72976357, 0.46549444, 0.69527673, 0.74490276, 0.4633457 ])"
      ]
     },
     "execution_count": 41,
     "metadata": {},
     "output_type": "execute_result"
    }
   ],
   "source": [
    "max_depth = np.random.randint(1,20,10)\n",
    "max_depth\n",
    "\n",
    "max_features =  np.random.uniform(0.4, 1.0, 100)\n",
    "max_features"
   ]
  },
  {
   "cell_type": "code",
   "execution_count": 56,
   "metadata": {},
   "outputs": [
    {
     "data": {
      "text/plain": [
       "RandomizedSearchCV(cv=5, estimator=DecisionTreeClassifier(random_state=42),\n",
       "                   n_iter=200, n_jobs=-1,\n",
       "                   param_distributions={'max_depth': array([17, 14, 18, 16, 14, 16,  5, 19, 14,  9]),\n",
       "                                        'max_features': array([0.5370542 , 0.85761858, 0.89162282, 0.79715988, 0.67635147,\n",
       "       0.93774713, 0.43448438, 0.68208478, 0.58763146, 0.81600601,\n",
       "       0.90979837, 0.47496774, 0.52118595, 0.40829956, 0.50310176...\n",
       "       0.8321494 , 0.9575412 , 0.6544653 , 0.83787831, 0.43849336,\n",
       "       0.46767451, 0.77106967, 0.58276475, 0.45235126, 0.72333214,\n",
       "       0.43013007, 0.75232221, 0.41902069, 0.78830863, 0.40884074,\n",
       "       0.88696191, 0.64115161, 0.64943285, 0.82911036, 0.46227302,\n",
       "       0.70515798, 0.97165795, 0.83382173, 0.8251153 , 0.83709886,\n",
       "       0.72976357, 0.46549444, 0.69527673, 0.74490276, 0.4633457 ]),\n",
       "                                        'min_samples_split': [2, 3, 4, 5, 6]},\n",
       "                   random_state=42, scoring='accuracy')"
      ]
     },
     "execution_count": 56,
     "metadata": {},
     "output_type": "execute_result"
    }
   ],
   "source": [
    "from sklearn.model_selection import RandomizedSearchCV\n",
    "\n",
    "\n",
    "\n",
    "param_distributions = {\"max_depth\": max_depth,\n",
    "                      \"max_features\":max_features,\n",
    "                      \"min_samples_split\": list(range(2,7))\n",
    "                      }\n",
    "clf = RandomizedSearchCV(model,\n",
    "                  param_distributions,\n",
    "                  n_iter =200,\n",
    "                  scoring = \"accuracy\",\n",
    "                  n_jobs= -1,\n",
    "                  cv = 5,\n",
    "                  random_state = 42\n",
    "                  )\n",
    "clf.fit(X_train, y_train)"
   ]
  },
  {
   "cell_type": "code",
   "execution_count": 57,
   "metadata": {
    "scrolled": true
   },
   "outputs": [
    {
     "data": {
      "text/plain": [
       "{'min_samples_split': 2, 'max_features': 0.745113167347061, 'max_depth': 5}"
      ]
     },
     "execution_count": 57,
     "metadata": {},
     "output_type": "execute_result"
    }
   ],
   "source": [
    "clf.best_params_"
   ]
  },
  {
   "cell_type": "code",
   "execution_count": 58,
   "metadata": {},
   "outputs": [
    {
     "data": {
      "text/plain": [
       "0.7359307359307359"
      ]
     },
     "execution_count": 58,
     "metadata": {},
     "output_type": "execute_result"
    }
   ],
   "source": [
    "clf.score(X_test, y_test)"
   ]
  },
  {
   "cell_type": "code",
   "execution_count": 55,
   "metadata": {},
   "outputs": [
    {
     "data": {
      "text/html": [
       "<div>\n",
       "<style scoped>\n",
       "    .dataframe tbody tr th:only-of-type {\n",
       "        vertical-align: middle;\n",
       "    }\n",
       "\n",
       "    .dataframe tbody tr th {\n",
       "        vertical-align: top;\n",
       "    }\n",
       "\n",
       "    .dataframe thead th {\n",
       "        text-align: right;\n",
       "    }\n",
       "</style>\n",
       "<table border=\"1\" class=\"dataframe\">\n",
       "  <thead>\n",
       "    <tr style=\"text-align: right;\">\n",
       "      <th></th>\n",
       "      <th>mean_fit_time</th>\n",
       "      <th>std_fit_time</th>\n",
       "      <th>mean_score_time</th>\n",
       "      <th>std_score_time</th>\n",
       "      <th>param_max_depth</th>\n",
       "      <th>param_max_features</th>\n",
       "      <th>params</th>\n",
       "      <th>split0_test_score</th>\n",
       "      <th>split1_test_score</th>\n",
       "      <th>split2_test_score</th>\n",
       "      <th>split3_test_score</th>\n",
       "      <th>split4_test_score</th>\n",
       "      <th>mean_test_score</th>\n",
       "      <th>std_test_score</th>\n",
       "      <th>rank_test_score</th>\n",
       "    </tr>\n",
       "  </thead>\n",
       "  <tbody>\n",
       "    <tr>\n",
       "      <th>12</th>\n",
       "      <td>0.005934</td>\n",
       "      <td>0.001156</td>\n",
       "      <td>0.004594</td>\n",
       "      <td>0.003274</td>\n",
       "      <td>5</td>\n",
       "      <td>0.7</td>\n",
       "      <td>{'max_depth': 5, 'max_features': 0.7}</td>\n",
       "      <td>0.833333</td>\n",
       "      <td>0.703704</td>\n",
       "      <td>0.813084</td>\n",
       "      <td>0.766355</td>\n",
       "      <td>0.738318</td>\n",
       "      <td>0.770959</td>\n",
       "      <td>0.047487</td>\n",
       "      <td>1</td>\n",
       "    </tr>\n",
       "    <tr>\n",
       "      <th>41</th>\n",
       "      <td>0.006828</td>\n",
       "      <td>0.002846</td>\n",
       "      <td>0.002419</td>\n",
       "      <td>0.000088</td>\n",
       "      <td>11</td>\n",
       "      <td>0.5</td>\n",
       "      <td>{'max_depth': 11, 'max_features': 0.5}</td>\n",
       "      <td>0.759259</td>\n",
       "      <td>0.722222</td>\n",
       "      <td>0.775701</td>\n",
       "      <td>0.738318</td>\n",
       "      <td>0.757009</td>\n",
       "      <td>0.750502</td>\n",
       "      <td>0.018451</td>\n",
       "      <td>2</td>\n",
       "    </tr>\n",
       "    <tr>\n",
       "      <th>13</th>\n",
       "      <td>0.005941</td>\n",
       "      <td>0.000696</td>\n",
       "      <td>0.002474</td>\n",
       "      <td>0.000678</td>\n",
       "      <td>5</td>\n",
       "      <td>0.9</td>\n",
       "      <td>{'max_depth': 5, 'max_features': 0.9}</td>\n",
       "      <td>0.796296</td>\n",
       "      <td>0.722222</td>\n",
       "      <td>0.794393</td>\n",
       "      <td>0.682243</td>\n",
       "      <td>0.738318</td>\n",
       "      <td>0.746694</td>\n",
       "      <td>0.043723</td>\n",
       "      <td>3</td>\n",
       "    </tr>\n",
       "    <tr>\n",
       "      <th>2</th>\n",
       "      <td>0.006726</td>\n",
       "      <td>0.003081</td>\n",
       "      <td>0.003945</td>\n",
       "      <td>0.002002</td>\n",
       "      <td>3</td>\n",
       "      <td>0.7</td>\n",
       "      <td>{'max_depth': 3, 'max_features': 0.7}</td>\n",
       "      <td>0.787037</td>\n",
       "      <td>0.731481</td>\n",
       "      <td>0.785047</td>\n",
       "      <td>0.682243</td>\n",
       "      <td>0.738318</td>\n",
       "      <td>0.744825</td>\n",
       "      <td>0.038824</td>\n",
       "      <td>4</td>\n",
       "    </tr>\n",
       "    <tr>\n",
       "      <th>3</th>\n",
       "      <td>0.005481</td>\n",
       "      <td>0.001587</td>\n",
       "      <td>0.002341</td>\n",
       "      <td>0.000382</td>\n",
       "      <td>3</td>\n",
       "      <td>0.9</td>\n",
       "      <td>{'max_depth': 3, 'max_features': 0.9}</td>\n",
       "      <td>0.768519</td>\n",
       "      <td>0.722222</td>\n",
       "      <td>0.757009</td>\n",
       "      <td>0.728972</td>\n",
       "      <td>0.738318</td>\n",
       "      <td>0.743008</td>\n",
       "      <td>0.017308</td>\n",
       "      <td>5</td>\n",
       "    </tr>\n",
       "  </tbody>\n",
       "</table>\n",
       "</div>"
      ],
      "text/plain": [
       "    mean_fit_time  std_fit_time  mean_score_time  std_score_time  \\\n",
       "12       0.005934      0.001156         0.004594        0.003274   \n",
       "41       0.006828      0.002846         0.002419        0.000088   \n",
       "13       0.005941      0.000696         0.002474        0.000678   \n",
       "2        0.006726      0.003081         0.003945        0.002002   \n",
       "3        0.005481      0.001587         0.002341        0.000382   \n",
       "\n",
       "   param_max_depth param_max_features                                  params  \\\n",
       "12               5                0.7   {'max_depth': 5, 'max_features': 0.7}   \n",
       "41              11                0.5  {'max_depth': 11, 'max_features': 0.5}   \n",
       "13               5                0.9   {'max_depth': 5, 'max_features': 0.9}   \n",
       "2                3                0.7   {'max_depth': 3, 'max_features': 0.7}   \n",
       "3                3                0.9   {'max_depth': 3, 'max_features': 0.9}   \n",
       "\n",
       "    split0_test_score  split1_test_score  split2_test_score  \\\n",
       "12           0.833333           0.703704           0.813084   \n",
       "41           0.759259           0.722222           0.775701   \n",
       "13           0.796296           0.722222           0.794393   \n",
       "2            0.787037           0.731481           0.785047   \n",
       "3            0.768519           0.722222           0.757009   \n",
       "\n",
       "    split3_test_score  split4_test_score  mean_test_score  std_test_score  \\\n",
       "12           0.766355           0.738318         0.770959        0.047487   \n",
       "41           0.738318           0.757009         0.750502        0.018451   \n",
       "13           0.682243           0.738318         0.746694        0.043723   \n",
       "2            0.682243           0.738318         0.744825        0.038824   \n",
       "3            0.728972           0.738318         0.743008        0.017308   \n",
       "\n",
       "    rank_test_score  \n",
       "12                1  \n",
       "41                2  \n",
       "13                3  \n",
       "2                 4  \n",
       "3                 5  "
      ]
     },
     "execution_count": 55,
     "metadata": {},
     "output_type": "execute_result"
    }
   ],
   "source": [
    "pd.DataFrame(clf.cv_results_).sort_values(by = \"rank_test_score\").head()"
   ]
  },
  {
   "cell_type": "code",
   "execution_count": null,
   "metadata": {},
   "outputs": [],
   "source": [
    "\n",
    "\n",
    "\n",
    "\n",
    "\n",
    "\n",
    "\n",
    "\n",
    "\n",
    "\n",
    "\n",
    "\n",
    "\n",
    "\n",
    "\n",
    "\n",
    "\n",
    "\n",
    "\n",
    "\n",
    "\n",
    "\n",
    "\n",
    "\n",
    "\n"
   ]
  },
  {
   "cell_type": "markdown",
   "metadata": {},
   "source": [
    "# 번외: geopandas와 folium 실행 잘되는지 확인"
   ]
  },
  {
   "cell_type": "code",
   "execution_count": null,
   "metadata": {},
   "outputs": [],
   "source": [
    "import geopandas as gpd\n",
    "import numpy as np\n",
    "data1 = gpd.read_file('geosample.geojson')\n",
    "data1"
   ]
  },
  {
   "cell_type": "code",
   "execution_count": null,
   "metadata": {},
   "outputs": [],
   "source": [
    "import folium\n",
    "\n",
    "center = (37.64726, 126.82557)\n",
    "zoom = 11\n",
    "\n",
    "m = folium.Map(location = center, \n",
    "               zoom_start = zoom,\n",
    "               tiles = 'http://api.vworld.kr/req/wmts/1.0.0/YOUR_API_KEY/Base/{z}/{y}/{x}.png',\n",
    "               attr = '고양시'\n",
    "              )\n",
    "folium.GeoJson(data1).add_to(m)\n",
    "m"
   ]
  },
  {
   "cell_type": "code",
   "execution_count": null,
   "metadata": {},
   "outputs": [],
   "source": []
  }
 ],
 "metadata": {
  "kernelspec": {
   "display_name": "Python 3",
   "language": "python",
   "name": "python3"
  },
  "language_info": {
   "codemirror_mode": {
    "name": "ipython",
    "version": 3
   },
   "file_extension": ".py",
   "mimetype": "text/x-python",
   "name": "python",
   "nbconvert_exporter": "python",
   "pygments_lexer": "ipython3",
   "version": "3.8.3"
  }
 },
 "nbformat": 4,
 "nbformat_minor": 4
}
