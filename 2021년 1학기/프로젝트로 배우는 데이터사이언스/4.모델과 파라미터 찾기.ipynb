{
 "cells": [
  {
   "cell_type": "code",
   "execution_count": 1,
   "metadata": {},
   "outputs": [
    {
     "name": "stdout",
     "output_type": "stream",
     "text": [
      "X_train = (576, 8) ,X_test = (192, 8), y_train = (576,), y_test = (192,)\n",
      "3 0.7083333333333334\n",
      "4 0.7083333333333334\n",
      "5 0.7083333333333334\n",
      "6 0.7083333333333334\n",
      "7 0.7083333333333334\n",
      "8 0.7083333333333334\n",
      "9 0.7083333333333334\n",
      "10 0.7083333333333334\n",
      "11 0.7083333333333334\n",
      "12 0.7083333333333334\n",
      "13 0.7083333333333334\n",
      "14 0.7083333333333334\n",
      "Fitting 5 folds for each of 45 candidates, totalling 225 fits\n"
     ]
    },
    {
     "name": "stderr",
     "output_type": "stream",
     "text": [
      "[Parallel(n_jobs=-1)]: Using backend LokyBackend with 4 concurrent workers.\n",
      "[Parallel(n_jobs=-1)]: Done  38 tasks      | elapsed:    1.5s\n",
      "[Parallel(n_jobs=-1)]: Done 225 out of 225 | elapsed:    2.0s finished\n"
     ]
    },
    {
     "data": {
      "text/plain": [
       "0.7552083333333334"
      ]
     },
     "execution_count": 1,
     "metadata": {},
     "output_type": "execute_result"
    },
    {
     "data": {
      "image/png": "[encoded data removed]",
      "text/plain": [
       "<Figure size 432x288 with 1 Axes>"
      ]
     },
     "metadata": {
      "needs_background": "light"
     },
     "output_type": "display_data"
    }
   ],
   "source": [
    "import pandas as pd\n",
    "import numpy as np\n",
    "import seaborn as sns\n",
    "import matplotlib.pyplot as plt\n",
    "\n",
    "df = pd.read_csv(\"diabetes.csv\")\n",
    "from sklearn.tree import DecisionTreeClassifier\n",
    "from sklearn.model_selection import train_test_split\n",
    "\n",
    "X, y = df.drop(\"Outcome\", axis = 1), df[\"Outcome\"]\n",
    "\n",
    "X_train, X_test, y_train, y_test = train_test_split(X,y, shuffle = True, random_state =42)\n",
    "print(\"X_train = {} ,X_test = {}, y_train = {}, y_test = {}\".format(X_train.shape, X_test.shape, y_train.shape, y_test.shape))\n",
    "\n",
    "for depth in range(3,15):\n",
    "    model = DecisionTreeClassifier(max_depth = 13, random_state= 42).fit(X_train, y_train)\n",
    "    print(depth, model.score(X_test,y_test))\n",
    "# K-fold가 가능하다.\n",
    "\n",
    "from sklearn.model_selection import GridSearchCV\n",
    "\n",
    "model = DecisionTreeClassifier(random_state = 42)\n",
    "\n",
    "# 무슨 의미일까?\n",
    "param_grid = {\"max_depth\": range(3,12),\n",
    "              \"max_features\": [0.3, 0.5, 0.7, 0.9, 1]}\n",
    "\n",
    "# n_jobs는 프로세서(cpu) ,cv = 5(k-fold에서 K개 의미)\n",
    "clf = GridSearchCV(model, param_grid = param_grid, n_jobs = -1, cv = 5, verbose=2)\n",
    "clf.fit(X_train, y_train)\n",
    "\n",
    "\n",
    "\n",
    "from sklearn.tree import DecisionTreeClassifier\n",
    "\n",
    "model = DecisionTreeClassifier(random_state = 42)\n",
    "model.fit(X_train, y_train)\n",
    "model.score(X_test, y_test)\n",
    "\n",
    "from sklearn.ensemble import RandomForestClassifier\n",
    "\n",
    "model = RandomForestClassifier(random_state= 42, n_estimators=100)\n",
    "model.fit(X_train, y_train)\n",
    "model.score(X_test, y_test)\n",
    "sns.barplot(model.feature_importances_, X_train.columns.tolist())\n",
    "from sklearn.ensemble import GradientBoostingClassifier\n",
    "\n",
    "model = GradientBoostingClassifier(n_estimators=100, max_depth = 1,random_state= 42)\n",
    "\n",
    "model.fit(X_train, y_train)\n",
    "model.score(X_test, y_test)"
   ]
  },
  {
   "cell_type": "markdown",
   "metadata": {},
   "source": [
    "# 정리\n",
    "\n",
    "1) K-fold validation을 이용해서, 모델의 최적화된 파라미터를 찾기\n",
    "\n",
    "- GridSearchCV를 이용해서, K-fold cross validation 활용가능하다.\n",
    "- 이때 최고의 성능을 보인 train (best param)을 찾을 수 있다.\n",
    "\n",
    "2) 다양한 트리계열 머신러닝\n",
    "- Decision Tree\n",
    "- random forest --> bagging(BootStrap aggregating) 방법이라고도 불린다.\n",
    "- GradientBoosting --> 부스팅이라고 불림"
   ]
  },
  {
   "cell_type": "code",
   "execution_count": null,
   "metadata": {},
   "outputs": [],
   "source": []
  }
 ],
 "metadata": {
  "kernelspec": {
   "display_name": "Python 3",
   "language": "python",
   "name": "python3"
  },
  "language_info": {
   "codemirror_mode": {
    "name": "ipython",
    "version": 3
   },
   "file_extension": ".py",
   "mimetype": "text/x-python",
   "name": "python",
   "nbconvert_exporter": "python",
   "pygments_lexer": "ipython3",
   "version": "3.8.3"
  }
 },
 "nbformat": 4,
 "nbformat_minor": 4
}
