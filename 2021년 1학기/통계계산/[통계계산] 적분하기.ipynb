{
 "cells": [
  {
   "cell_type": "code",
   "execution_count": 76,
   "metadata": {},
   "outputs": [],
   "source": [
    "import numpy as np"
   ]
  },
  {
   "cell_type": "markdown",
   "metadata": {},
   "source": [
    "# 알고리즘 짜기\n",
    "1) function을 만든다\n",
    "\n",
    "2) (0~1) | (0~e)인 랜덤넘버를 생성한다\n",
    "\n",
    "3) function의 값과 비교한다\n",
    "\n",
    "4) in인지 out인지 체크한다\n",
    "\n",
    "5) 확률을 구한다\n",
    "\n",
    "6) 넓이를 구한다\n",
    "\n",
    "7) 값을 저장한다"
   ]
  },
  {
   "cell_type": "code",
   "execution_count": 58,
   "metadata": {},
   "outputs": [],
   "source": [
    "#sample의 개수를 의미한다.\n",
    "N = [10,100,1000,10000]\n",
    "\n",
    "#반복문을 의미한다.\n",
    "iteration = 100"
   ]
  },
  {
   "cell_type": "code",
   "execution_count": 73,
   "metadata": {
    "scrolled": true
   },
   "outputs": [],
   "source": [
    "#\n",
    "result = []\n",
    "\n",
    "#1 \n",
    "def function(x):\n",
    "    return np.exp(x)\n",
    "\n",
    "\n",
    "value = []\n",
    "for n in N: #sample의 개수\n",
    "    temp = []\n",
    "    np.random.seed(1000)\n",
    "    for _ in range(iteration):\n",
    "        #2\n",
    "        x = np.random.uniform(0,1,n)\n",
    "        y = np.random.uniform(0,np.exp(1),n)\n",
    "\n",
    "        #3~4\n",
    "        inner = sum(function(x) >= y)\n",
    "\n",
    "        #5 확률\n",
    "        prob = inner/n\n",
    "\n",
    "        #6 넓이\n",
    "        answer = prob*np.exp(1)\n",
    "    \n",
    "        #7 저장\n",
    "        temp.append(answer)\n",
    "    value.append(temp)"
   ]
  },
  {
   "cell_type": "code",
   "execution_count": 74,
   "metadata": {},
   "outputs": [
    {
     "data": {
      "text/plain": [
       "[(10, 1.6907712973015263, 0.20627289005774807),\n",
       " (100, 1.6989261427869033, 0.017770679917928217),\n",
       " (1000, 1.72271110878592, 0.0016036283725106748),\n",
       " (10000, 1.7166221574901712, 0.00018160009283780864)]"
      ]
     },
     "execution_count": 74,
     "metadata": {},
     "output_type": "execute_result"
    }
   ],
   "source": [
    "result = []\n",
    "for i in range(len(N)):\n",
    "    result.append((N[i],np.mean(value[i]), np.var(value[i])))\n",
    "result"
   ]
  },
  {
   "cell_type": "code",
   "execution_count": 75,
   "metadata": {},
   "outputs": [
    {
     "data": {
      "text/html": [
       "<div>\n",
       "<style scoped>\n",
       "    .dataframe tbody tr th:only-of-type {\n",
       "        vertical-align: middle;\n",
       "    }\n",
       "\n",
       "    .dataframe tbody tr th {\n",
       "        vertical-align: top;\n",
       "    }\n",
       "\n",
       "    .dataframe thead th {\n",
       "        text-align: right;\n",
       "    }\n",
       "</style>\n",
       "<table border=\"1\" class=\"dataframe\">\n",
       "  <thead>\n",
       "    <tr style=\"text-align: right;\">\n",
       "      <th></th>\n",
       "      <th>sample개수</th>\n",
       "      <th>추정값</th>\n",
       "      <th>variance</th>\n",
       "    </tr>\n",
       "  </thead>\n",
       "  <tbody>\n",
       "    <tr>\n",
       "      <th>0</th>\n",
       "      <td>10</td>\n",
       "      <td>1.690771</td>\n",
       "      <td>0.206273</td>\n",
       "    </tr>\n",
       "    <tr>\n",
       "      <th>1</th>\n",
       "      <td>100</td>\n",
       "      <td>1.698926</td>\n",
       "      <td>0.017771</td>\n",
       "    </tr>\n",
       "    <tr>\n",
       "      <th>2</th>\n",
       "      <td>1000</td>\n",
       "      <td>1.722711</td>\n",
       "      <td>0.001604</td>\n",
       "    </tr>\n",
       "    <tr>\n",
       "      <th>3</th>\n",
       "      <td>10000</td>\n",
       "      <td>1.716622</td>\n",
       "      <td>0.000182</td>\n",
       "    </tr>\n",
       "  </tbody>\n",
       "</table>\n",
       "</div>"
      ],
      "text/plain": [
       "   sample개수       추정값  variance\n",
       "0        10  1.690771  0.206273\n",
       "1       100  1.698926  0.017771\n",
       "2      1000  1.722711  0.001604\n",
       "3     10000  1.716622  0.000182"
      ]
     },
     "execution_count": 75,
     "metadata": {},
     "output_type": "execute_result"
    }
   ],
   "source": [
    "import pandas as pd\n",
    "df = pd.DataFrame(result)\n",
    "df.columns = [\"sample개수\",\"추정값\",\"variance\"]\n",
    "df"
   ]
  },
  {
   "cell_type": "code",
   "execution_count": 56,
   "metadata": {
    "scrolled": true
   },
   "outputs": [
    {
     "data": {
      "text/plain": [
       "1.718281828459045"
      ]
     },
     "execution_count": 56,
     "metadata": {},
     "output_type": "execute_result"
    }
   ],
   "source": [
    "# 실제정답\n",
    "np.exp(1) -1"
   ]
  },
  {
   "cell_type": "markdown",
   "metadata": {},
   "source": [
    "# 과제문제 풀이"
   ]
  },
  {
   "cell_type": "code",
   "execution_count": null,
   "metadata": {},
   "outputs": [],
   "source": []
  },
  {
   "cell_type": "code",
   "execution_count": 87,
   "metadata": {
    "scrolled": false
   },
   "outputs": [
    {
     "data": {
      "text/plain": [
       "[<matplotlib.lines.Line2D at 0x7f9c86219400>]"
      ]
     },
     "execution_count": 87,
     "metadata": {},
     "output_type": "execute_result"
    },
    {
     "data": {
      "image/png": "[encoded data removed]",
      "text/plain": [
       "<Figure size 432x288 with 1 Axes>"
      ]
     },
     "metadata": {
      "needs_background": "light"
     },
     "output_type": "display_data"
    }
   ],
   "source": [
    "import matplotlib.pyplot as plt\n",
    "\n",
    "def function(x):\n",
    "    return np.exp(-(x**2))\n",
    "\n",
    "# 기본적인 그래프의 분포를 확인해 보았다.\n",
    "x = np.arange(1,10)\n",
    "y = function(x)\n",
    "plt.plot(x,y)"
   ]
  },
  {
   "cell_type": "code",
   "execution_count": 90,
   "metadata": {},
   "outputs": [],
   "source": [
    "#sample의 개수를 의미한다.\n",
    "N = [10,100,1000,10000]\n",
    "\n",
    "#반복문을 의미한다.\n",
    "iteration = 100"
   ]
  },
  {
   "cell_type": "code",
   "execution_count": 91,
   "metadata": {},
   "outputs": [],
   "source": [
    "value = []\n",
    "for n in N: #sample의 개수\n",
    "    temp = []\n",
    "    np.random.seed(1000)\n",
    "    for _ in range(iteration):\n",
    "        #2\n",
    "        x = np.random.uniform(0,10,n)\n",
    "        y = np.random.uniform(0,function(0),n)\n",
    "\n",
    "        #3~4\n",
    "        inner = sum(function(x) >= y)\n",
    "\n",
    "        #5 확률\n",
    "        prob = inner/n\n",
    "\n",
    "        #6 넓이\n",
    "        answer = prob*10\n",
    "    \n",
    "        #7 저장\n",
    "        temp.append(answer)\n",
    "    value.append(temp)"
   ]
  },
  {
   "cell_type": "code",
   "execution_count": 92,
   "metadata": {},
   "outputs": [
    {
     "data": {
      "text/plain": [
       "[(10, 0.92, 0.6736000000000001),\n",
       " (100, 0.868, 0.08617600000000002),\n",
       " (1000, 0.8902000000000001, 0.007947959999999999),\n",
       " (10000, 0.88841, 0.0006693218999999999)]"
      ]
     },
     "execution_count": 92,
     "metadata": {},
     "output_type": "execute_result"
    }
   ],
   "source": [
    "result = []\n",
    "for i in range(len(N)):\n",
    "    result.append((N[i],np.mean(value[i]), np.var(value[i])))\n",
    "result"
   ]
  },
  {
   "cell_type": "code",
   "execution_count": 93,
   "metadata": {},
   "outputs": [
    {
     "data": {
      "text/html": [
       "<div>\n",
       "<style scoped>\n",
       "    .dataframe tbody tr th:only-of-type {\n",
       "        vertical-align: middle;\n",
       "    }\n",
       "\n",
       "    .dataframe tbody tr th {\n",
       "        vertical-align: top;\n",
       "    }\n",
       "\n",
       "    .dataframe thead th {\n",
       "        text-align: right;\n",
       "    }\n",
       "</style>\n",
       "<table border=\"1\" class=\"dataframe\">\n",
       "  <thead>\n",
       "    <tr style=\"text-align: right;\">\n",
       "      <th></th>\n",
       "      <th>sample개수</th>\n",
       "      <th>추정값</th>\n",
       "      <th>variance</th>\n",
       "    </tr>\n",
       "  </thead>\n",
       "  <tbody>\n",
       "    <tr>\n",
       "      <th>0</th>\n",
       "      <td>10</td>\n",
       "      <td>0.92000</td>\n",
       "      <td>0.673600</td>\n",
       "    </tr>\n",
       "    <tr>\n",
       "      <th>1</th>\n",
       "      <td>100</td>\n",
       "      <td>0.86800</td>\n",
       "      <td>0.086176</td>\n",
       "    </tr>\n",
       "    <tr>\n",
       "      <th>2</th>\n",
       "      <td>1000</td>\n",
       "      <td>0.89020</td>\n",
       "      <td>0.007948</td>\n",
       "    </tr>\n",
       "    <tr>\n",
       "      <th>3</th>\n",
       "      <td>10000</td>\n",
       "      <td>0.88841</td>\n",
       "      <td>0.000669</td>\n",
       "    </tr>\n",
       "  </tbody>\n",
       "</table>\n",
       "</div>"
      ],
      "text/plain": [
       "   sample개수      추정값  variance\n",
       "0        10  0.92000  0.673600\n",
       "1       100  0.86800  0.086176\n",
       "2      1000  0.89020  0.007948\n",
       "3     10000  0.88841  0.000669"
      ]
     },
     "execution_count": 93,
     "metadata": {},
     "output_type": "execute_result"
    }
   ],
   "source": [
    "import pandas as pd\n",
    "df = pd.DataFrame(result)\n",
    "df.columns = [\"sample개수\",\"추정값\",\"variance\"]\n",
    "df\n",
    "df"
   ]
  },
  {
   "cell_type": "markdown",
   "metadata": {},
   "source": [
    "정답: 0.8862269254527581\n",
    "https://www.integral-calculator.com/"
   ]
  },
  {
   "cell_type": "code",
   "execution_count": null,
   "metadata": {},
   "outputs": [],
   "source": []
  }
 ],
 "metadata": {
  "kernelspec": {
   "display_name": "Python 3",
   "language": "python",
   "name": "python3"
  },
  "language_info": {
   "codemirror_mode": {
    "name": "ipython",
    "version": 3
   },
   "file_extension": ".py",
   "mimetype": "text/x-python",
   "name": "python",
   "nbconvert_exporter": "python",
   "pygments_lexer": "ipython3",
   "version": "3.8.3"
  }
 },
 "nbformat": 4,
 "nbformat_minor": 4
}
