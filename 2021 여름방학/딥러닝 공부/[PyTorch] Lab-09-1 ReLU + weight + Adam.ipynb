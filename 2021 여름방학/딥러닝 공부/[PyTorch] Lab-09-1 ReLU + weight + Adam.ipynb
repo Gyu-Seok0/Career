{
 "cells": [
  {
   "cell_type": "code",
   "execution_count": 1,
   "metadata": {},
   "outputs": [],
   "source": [
    "import torchvision.datasets as dsets\n",
    "import torchvision.transforms as transforms\n",
    "import torch\n",
    "\n",
    "# device setting\n",
    "device = 'cuda' if torch.cuda.is_available() else 'cpu'\n",
    "\n",
    "torch.manual_seed(777)\n",
    "if device == 'cuda':\n",
    "    torch.cuda.manual_seed_all(777)\n",
    "\n",
    "# Data download\n",
    "mnist_train = dsets.MNIST(root = \"MNIST_data/\", train = True, transform = transforms.ToTensor(), download= True)\n",
    "mnist_test = dsets.MNIST(root = \"MNIST_data/\", train = False, transform = transforms.ToTensor(), download= True)\n"
   ]
  },
  {
   "cell_type": "code",
   "execution_count": 2,
   "metadata": {},
   "outputs": [],
   "source": [
    "# parameters\n",
    "learning_rate = 0.001\n",
    "training_epochs = 15\n",
    "batch_size = 100"
   ]
  },
  {
   "cell_type": "code",
   "execution_count": 3,
   "metadata": {},
   "outputs": [],
   "source": [
    "# Dataloader\n",
    "from torch.utils.data import DataLoader\n",
    "\n",
    "data_loader = DataLoader(dataset= mnist_train, batch_size= batch_size, shuffle= True, drop_last= True)"
   ]
  },
  {
   "cell_type": "code",
   "execution_count": 4,
   "metadata": {},
   "outputs": [],
   "source": [
    "# model\n",
    "linear1 = torch.nn.Linear(28*28, 256, bias = True).to(device)\n",
    "linear2 = torch.nn.Linear(256, 256, bias = True).to(device)\n",
    "linear3 = torch.nn.Linear(256, 10, bias = True).to(device)\n",
    "\n",
    "\n",
    "# wegith를 초기화 (더 성능이 좋아짐)\n",
    "torch.nn.init.normal_(linear1.weight) # weight가 지금 10*784의 크기인데, 이걸 dim = 1을 기준으로 mean을 구하면, (10,)이 되고 standardization이 잘 들어간것을 볼 수 있다.\n",
    "torch.nn.init.normal_(linear2.weight)\n",
    "torch.nn.init.normal_(linear3.weight)\n",
    "relu = torch.nn.ReLU()\n",
    "\n",
    "# model\n",
    "model = torch.nn.Sequential(linear1,relu, linear2, relu, linear3).to(device)\n",
    "\n",
    "\n",
    "# define cost/loss & optimizer\n",
    "criterion = torch.nn.CrossEntropyLoss().to(device)\n",
    "optimizer = torch.optim.Adam(model.parameters(), lr = learning_rate)"
   ]
  },
  {
   "cell_type": "code",
   "execution_count": 6,
   "metadata": {},
   "outputs": [
    {
     "name": "stdout",
     "output_type": "stream",
     "text": [
      "Epoch: 0000 cost = 129.7920 Acc = 74.7150 %\n",
      "Epoch: 0001 cost = 36.0880 Acc = 88.8100 %\n",
      "Epoch: 0002 cost = 23.1344 Acc = 91.5000 %\n",
      "Epoch: 0003 cost = 16.0726 Acc = 93.1300 %\n",
      "Epoch: 0004 cost = 11.8583 Acc = 94.2667 %\n",
      "Epoch: 0005 cost = 8.6889 Acc = 95.1683 %\n",
      "Epoch: 0006 cost = 6.4800 Acc = 95.8317 %\n",
      "Epoch: 0007 cost = 4.7156 Acc = 96.6033 %\n",
      "Epoch: 0008 cost = 3.6496 Acc = 97.0367 %\n",
      "Epoch: 0009 cost = 2.8156 Acc = 97.4167 %\n",
      "Epoch: 0010 cost = 2.1127 Acc = 97.8483 %\n",
      "Epoch: 0011 cost = 1.6560 Acc = 98.1117 %\n",
      "Epoch: 0012 cost = 1.1724 Acc = 98.4917 %\n",
      "Epoch: 0013 cost = 1.0253 Acc = 98.5450 %\n",
      "Epoch: 0014 cost = 0.7893 Acc = 98.7967 %\n"
     ]
    }
   ],
   "source": [
    "# train\n",
    "total_batch = len(data_loader)\n",
    "correct = 0\n",
    "\n",
    "for epoch in range(training_epochs):\n",
    "    avg_cost = 0\n",
    "    correct = 0\n",
    "    \n",
    "    for X,Y in data_loader:\n",
    "        X = X.view(-1,28*28).to(device)\n",
    "        hypothesis = model(X)\n",
    "        cost = criterion(hypothesis, Y)\n",
    "        \n",
    "        #backward\n",
    "        optimizer.zero_grad()\n",
    "        cost.backward()\n",
    "        optimizer.step()\n",
    "        \n",
    "        # calculate\n",
    "        avg_cost += cost/total_batch\n",
    "        correct += (torch.argmax(hypothesis,1).float() == Y).sum().item()\n",
    "        \n",
    "    print(\"Epoch: {:04d} cost = {:.4f} Acc = {:.4f} %\".format(epoch,avg_cost,correct/(total_batch*batch_size)*100))\n",
    "        "
   ]
  },
  {
   "cell_type": "code",
   "execution_count": null,
   "metadata": {},
   "outputs": [],
   "source": []
  }
 ],
 "metadata": {
  "kernelspec": {
   "display_name": "Python 3",
   "language": "python",
   "name": "python3"
  },
  "language_info": {
   "codemirror_mode": {
    "name": "ipython",
    "version": 3
   },
   "file_extension": ".py",
   "mimetype": "text/x-python",
   "name": "python",
   "nbconvert_exporter": "python",
   "pygments_lexer": "ipython3",
   "version": "3.8.3"
  }
 },
 "nbformat": 4,
 "nbformat_minor": 4
}
