{
 "cells": [
  {
   "cell_type": "code",
   "execution_count": 6,
   "metadata": {},
   "outputs": [
    {
     "name": "stdout",
     "output_type": "stream",
     "text": [
      "Conv2d(1, 1, kernel_size=(11, 11), stride=(4, 4))\n",
      "torch.Size([1, 1, 227, 227])\n",
      "torch.Size([1, 1, 55, 55])\n"
     ]
    }
   ],
   "source": [
    "import torch\n",
    "import torch.nn as nn\n",
    "\n",
    "# model\n",
    "conv = nn.Conv2d(1,1,11,stride=4,padding=0)\n",
    "print(conv)\n",
    "\n",
    "# input\n",
    "inputs = torch.Tensor(1,1,227,227)\n",
    "print(inputs.shape)\n",
    "\n",
    "#output\n",
    "output = conv(inputs)\n",
    "print(output.shape)\n"
   ]
  },
  {
   "cell_type": "code",
   "execution_count": 14,
   "metadata": {},
   "outputs": [
    {
     "name": "stdout",
     "output_type": "stream",
     "text": [
      "torch.Size([2, 3, 28, 60])\n"
     ]
    }
   ],
   "source": [
    "#input\n",
    "conv = nn.Conv2d(in_channels=1,out_channels=3, kernel_size=5, stride=1, padding=0)\n",
    "inputs = torch.Tensor(2,1,32,64) # batch * in channel * in hegiht * in width\n",
    "outputs = conv(inputs)\n",
    "print(outputs.shape)"
   ]
  },
  {
   "cell_type": "code",
   "execution_count": 21,
   "metadata": {},
   "outputs": [
    {
     "name": "stdout",
     "output_type": "stream",
     "text": [
      "torch.Size([1, 5, 24, 24])\n",
      "torch.Size([1, 5, 12, 12])\n"
     ]
    }
   ],
   "source": [
    "# 문제2\n",
    "inputs = torch.Tensor(1,1,28,28)\n",
    "conv1 = nn.Conv2d(1,5,5) # IC, OC, kernel size\n",
    "pool = nn.MaxPool2d(2)\n",
    "\n",
    "output1 = conv1(inputs)\n",
    "output2 = pool(output1)\n",
    "\n",
    "print(output1.size())\n",
    "print(output2.size())\n",
    "\n",
    "\n",
    "\n",
    "\n"
   ]
  },
  {
   "cell_type": "code",
   "execution_count": null,
   "metadata": {},
   "outputs": [],
   "source": []
  }
 ],
 "metadata": {
  "kernelspec": {
   "display_name": "Python 3",
   "language": "python",
   "name": "python3"
  },
  "language_info": {
   "codemirror_mode": {
    "name": "ipython",
    "version": 3
   },
   "file_extension": ".py",
   "mimetype": "text/x-python",
   "name": "python",
   "nbconvert_exporter": "python",
   "pygments_lexer": "ipython3",
   "version": "3.8.3"
  }
 },
 "nbformat": 4,
 "nbformat_minor": 4
}
