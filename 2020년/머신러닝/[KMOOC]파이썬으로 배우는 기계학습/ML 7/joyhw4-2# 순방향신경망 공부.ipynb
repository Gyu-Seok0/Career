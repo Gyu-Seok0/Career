{
 "cells": [
  {
   "cell_type": "markdown",
   "metadata": {},
   "source": [
    "# 순방향신경망 공부"
   ]
  },
  {
   "cell_type": "code",
   "execution_count": 2,
   "metadata": {},
   "outputs": [],
   "source": [
    "import numpy as np\n",
    "#활성화함수\n",
    "g = lambda x:1/(1+np.exp(-x))\n",
    "\n",
    "#입력층에서 1층으로\n",
    "x= np.array([1,0])\n",
    "w1 = np.array([[0.1,0.0],[-0.5,0.7],[-0.3,0.7]])\n",
    "z1 = np.dot(w1,x)\n",
    "a1 = g(z1)"
   ]
  },
  {
   "cell_type": "code",
   "execution_count": 4,
   "metadata": {},
   "outputs": [],
   "source": [
    "#1층에서 2층으로\n",
    "w2 = np.array([[0.4,0.5,-0.2],[-0.1,0.0,-0.3],[-0.5,0.7,-0.2]])\n",
    "z2 = np.dot(w2,a1)\n",
    "a2 = g(z2)"
   ]
  },
  {
   "cell_type": "code",
   "execution_count": 5,
   "metadata": {},
   "outputs": [],
   "source": [
    "#2층에서 3층으로\n",
    "w3 = np.array([[-0.1,0.0,-0.3],[-0.5,0.7,-0.2]])\n",
    "z3 = np.dot(w3,a2)\n",
    "a3 = g(z3)\n",
    "\n",
    "yhat = a3"
   ]
  },
  {
   "cell_type": "code",
   "execution_count": 6,
   "metadata": {},
   "outputs": [
    {
     "name": "stdout",
     "output_type": "stream",
     "text": [
      "z1: [ 0.1 -0.5 -0.3]\n",
      "a1: [0.52497919 0.37754067 0.42555748]\n",
      "z2: [ 0.31365051 -0.18016516 -0.08332262]\n",
      "a2: [0.57777606 0.45508015 0.47918139]\n",
      "z3: [-0.20153202 -0.0661682 ]\n",
      "yhat: [0.44978683 0.48346398]\n"
     ]
    }
   ],
   "source": [
    "print(\"z1:\", z1)\n",
    "\n",
    "print(\"a1:\", a1)\n",
    "\n",
    "print(\"z2:\", z2)\n",
    "\n",
    "print(\"a2:\", a2)\n",
    "\n",
    "print(\"z3:\", z3)\n",
    "\n",
    "print(\"yhat:\", yhat)"
   ]
  }
 ],
 "metadata": {
  "kernelspec": {
   "display_name": "Python 3",
   "language": "python",
   "name": "python3"
  },
  "language_info": {
   "codemirror_mode": {
    "name": "ipython",
    "version": 3
   },
   "file_extension": ".py",
   "mimetype": "text/x-python",
   "name": "python",
   "nbconvert_exporter": "python",
   "pygments_lexer": "ipython3",
   "version": "3.7.6"
  }
 },
 "nbformat": 4,
 "nbformat_minor": 4
}
