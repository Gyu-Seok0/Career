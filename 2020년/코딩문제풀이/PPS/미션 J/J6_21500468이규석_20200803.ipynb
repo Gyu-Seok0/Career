{
 "cells": [
  {
   "cell_type": "markdown",
   "metadata": {},
   "source": [
    "### 백준 11866번 요세푸스 문제0"
   ]
  },
  {
   "cell_type": "markdown",
   "metadata": {},
   "source": [
    "이전에도 풀었던 문제임에도 불구하고 여전히 어려웠다.\n",
    "pop을 하면서 index가 하나씩 줄기 때문에 k-1씩 감소하는 것이 포인트!"
   ]
  },
  {
   "cell_type": "code",
   "execution_count": 10,
   "metadata": {},
   "outputs": [
    {
     "name": "stdout",
     "output_type": "stream",
     "text": [
      "7 3\n",
      "<3, 6, 2, 7, 5, 1, 4>\n"
     ]
    }
   ],
   "source": [
    "N,K = map(int,input().split())\n",
    "circle = [i+1 for i in range(N)]\n",
    "ans = []\n",
    "cnt = 0\n",
    "while(circle != []):\n",
    "    cnt = (cnt+K-1)%len(circle)   # index가 하나씩 주는 현상 때문에 +2씩 해야함.\n",
    "    ans.append(circle[cnt])\n",
    "    circle.pop(cnt)\n",
    "print(\"<\", end=\"\")\n",
    "print(\", \".join(map(str,ans)),end=\"\")\n",
    "print(\">\")"
   ]
  }
 ],
 "metadata": {
  "kernelspec": {
   "display_name": "Python 3",
   "language": "python",
   "name": "python3"
  },
  "language_info": {
   "codemirror_mode": {
    "name": "ipython",
    "version": 3
   },
   "file_extension": ".py",
   "mimetype": "text/x-python",
   "name": "python",
   "nbconvert_exporter": "python",
   "pygments_lexer": "ipython3",
   "version": "3.7.6"
  }
 },
 "nbformat": 4,
 "nbformat_minor": 4
}
