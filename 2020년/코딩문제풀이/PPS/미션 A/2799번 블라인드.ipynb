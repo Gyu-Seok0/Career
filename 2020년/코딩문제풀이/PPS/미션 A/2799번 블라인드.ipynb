{
 "cells": [
  {
   "cell_type": "markdown",
   "metadata": {},
   "source": [
    "# 블라인드 문제\n",
    "처음에 index를 가지고 find 메소드를 이용해서 하려고 했는데, out of index를 계산하는 것이 더욱 복잡해졌다.\n",
    "그래서, 아래와 같은 방식으로 문제를 해결하였다."
   ]
  },
  {
   "cell_type": "code",
   "execution_count": null,
   "metadata": {},
   "outputs": [],
   "source": [
    "M,N = map(int,input().split())\n",
    "\n",
    "ans = [0 for _ in range(6)]\n",
    "check = [0 for _ in range(N)]\n",
    "\n",
    "for i in range(5*M+1):\n",
    "    window = input()\n",
    "    j = 0\n",
    "    cnt= 0\n",
    "    while(j < len(window)):\n",
    "        if window.find('*',j) != -1:\n",
    "            j+=4\n",
    "            check[cnt] +=1\n",
    "            cnt+=1\n",
    "            print(\"cnt\", cnt)\n",
    "            print(\"check\",check)\n",
    "        elif window.find('.',j) != -1:\n",
    "            j+=4\n",
    "            cnt+=1\n",
    "        else:\n",
    "            j+=1\n",
    "        print(\"j\",j)"
   ]
  },
  {
   "cell_type": "code",
   "execution_count": 22,
   "metadata": {},
   "outputs": [
    {
     "name": "stdout",
     "output_type": "stream",
     "text": [
      "2 3\n",
      "################\n",
      "#****#****#****#\n",
      "#****#****#****#\n",
      "#****#....#****#\n",
      "#....#....#****#\n",
      "################\n",
      "#....#****#****#\n",
      "#....#****#....#\n",
      "#....#....#....#\n",
      "#....#....#....#\n",
      "################\n"
     ]
    }
   ],
   "source": [
    "M,N = map(int,input().split())\n",
    "\n",
    "result = [0 for _ in range(6)]  #result에 해당하는 타일 종류 1~5까지를 표현하기 위해 6 index로 된 리스트(0~5)\n",
    "check = [0 for _ in range(N)]\n",
    "\n",
    "temp = []\n",
    "for i in range(5*M+1):\n",
    "    window = input()\n",
    "    if i%5==0:   # ######에 해당하는 것을 입력받으면, 아래 코드를 실행하지 않습니다.\n",
    "        continue\n",
    "        \n",
    "    cnt = 0\n",
    "    for j in range(1,len(window),4):  #4칸씩 창문이 만들어져 있습니다.\n",
    "        if window[j] == '*':\n",
    "            check[cnt] += 1   #cnt는 창문의 순서를 의미합니다. 이떄 check[cnt] +=1은 ****을 입력받을 때마다, 증가합니다.\n",
    "            cnt +=1            \n",
    "        elif window[j] == \".\":\n",
    "            cnt +=1\n",
    "    \n",
    "    if (i+1)%5 ==0:        # 한 층의 창문이 끝나면, 위에서 추가된 check를 가지고, result에 넣습니다. 이떄 result는 각 종류의 개수를 의미합니다. \n",
    "        for index in check:\n",
    "            result[index+1] += 1\n",
    "        check = [0 for _ in range(N)]\n",
    "\n",
    "ans = list(map(str,result[1:]))  # result를 하나의 string으로 표현해야하므로, 다음과 같은 과정을 거쳤습니다.\n",
    "print(\" \".join(ans))"
   ]
  }
 ],
 "metadata": {
  "kernelspec": {
   "display_name": "Python 3",
   "language": "python",
   "name": "python3"
  },
  "language_info": {
   "codemirror_mode": {
    "name": "ipython",
    "version": 3
   },
   "file_extension": ".py",
   "mimetype": "text/x-python",
   "name": "python",
   "nbconvert_exporter": "python",
   "pygments_lexer": "ipython3",
   "version": "3.7.6"
  }
 },
 "nbformat": 4,
 "nbformat_minor": 4
}
