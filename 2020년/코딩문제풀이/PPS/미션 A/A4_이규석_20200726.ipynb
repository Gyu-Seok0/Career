{
 "cells": [
  {
   "cell_type": "code",
   "execution_count": 10,
   "metadata": {},
   "outputs": [
    {
     "name": "stdout",
     "output_type": "stream",
     "text": [
      "2\n"
     ]
    }
   ],
   "source": [
    "class Solution:\n",
    "    def removeDuplicates(self, nums) -> int:\n",
    "        temp = list(set(nums))\n",
    "        temp.sort()\n",
    "        for i,v in enumerate(temp):\n",
    "            nums[i] = v\n",
    "        return len(temp)\n",
    "\n",
    "s = Solution()\n",
    "print(s.removeDuplicates([1,1,2]))"
   ]
  },
  {
   "cell_type": "code",
   "execution_count": 18,
   "metadata": {},
   "outputs": [],
   "source": [
    "class Solution:\n",
    "    def removeDuplicates(self, nums) -> int:\n",
    "        if len(nums) ==0:\n",
    "            return 0\n",
    "        change_index =1\n",
    "        for i in range(0,len(nums)):\n",
    "            if i!= 0 and nums[i-1] != nums[i]:\n",
    "                nums[change_index] = nums[i]\n",
    "                change_index +=1\n",
    "        print(change_index)\n",
    "        return change_index\n",
    "\n"
   ]
  }
 ],
 "metadata": {
  "kernelspec": {
   "display_name": "Python 3",
   "language": "python",
   "name": "python3"
  },
  "language_info": {
   "codemirror_mode": {
    "name": "ipython",
    "version": 3
   },
   "file_extension": ".py",
   "mimetype": "text/x-python",
   "name": "python",
   "nbconvert_exporter": "python",
   "pygments_lexer": "ipython3",
   "version": "3.7.6"
  }
 },
 "nbformat": 4,
 "nbformat_minor": 4
}
