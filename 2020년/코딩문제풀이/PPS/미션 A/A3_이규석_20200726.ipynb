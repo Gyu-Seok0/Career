{
 "cells": [
  {
   "cell_type": "markdown",
   "metadata": {},
   "source": [
    "# 백준 5397번 키로거"
   ]
  },
  {
   "cell_type": "code",
   "execution_count": 31,
   "metadata": {},
   "outputs": [
    {
     "name": "stdout",
     "output_type": "stream",
     "text": [
      "2\n",
      "<<BP<A>>Cd-\n",
      "BAPC\n",
      "ThIsIsS3Cr3t\n",
      "ThIsIsS3Cr3t\n"
     ]
    }
   ],
   "source": [
    "T = int(input())\n",
    "for i in range(T):\n",
    "    word = input()\n",
    "    ans = []\n",
    "    index = 0\n",
    "    for i in range(len(word)):\n",
    "        letter = word[i]\n",
    "        if letter == \"<\":\n",
    "            if len(ans) >0 and index >0:\n",
    "                index -=1\n",
    "            else:\n",
    "                index = 0\n",
    "        elif letter == \">\":\n",
    "            if index < len(ans):\n",
    "                index +=1\n",
    "        elif letter == \"-\":\n",
    "            if index >0:\n",
    "                del ans[index-1]\n",
    "                index -=1\n",
    "        else:\n",
    "            ans.insert(index,letter)\n",
    "            index+=1\n",
    "    print(''.join(ans))"
   ]
  },
  {
   "cell_type": "code",
   "execution_count": 28,
   "metadata": {},
   "outputs": [
    {
     "data": {
      "text/plain": [
       "'ThIsIsS3Cr3t'"
      ]
     },
     "execution_count": 28,
     "metadata": {},
     "output_type": "execute_result"
    }
   ],
   "source": [
    "#ex\n",
    "# <<BP<A>>Cd-\n",
    "# ThIsIsS3Cr3t"
   ]
  }
 ],
 "metadata": {
  "kernelspec": {
   "display_name": "Python 3",
   "language": "python",
   "name": "python3"
  },
  "language_info": {
   "codemirror_mode": {
    "name": "ipython",
    "version": 3
   },
   "file_extension": ".py",
   "mimetype": "text/x-python",
   "name": "python",
   "nbconvert_exporter": "python",
   "pygments_lexer": "ipython3",
   "version": "3.7.6"
  }
 },
 "nbformat": 4,
 "nbformat_minor": 4
}
