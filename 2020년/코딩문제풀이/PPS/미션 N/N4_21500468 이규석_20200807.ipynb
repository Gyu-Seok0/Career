{
 "cells": [
  {
   "cell_type": "markdown",
   "metadata": {},
   "source": [
    "### 976. Largest Perimeter Triangle"
   ]
  },
  {
   "cell_type": "code",
   "execution_count": 52,
   "metadata": {},
   "outputs": [],
   "source": [
    "import copy\n",
    "def check(A):\n",
    "    ans = 0\n",
    "    key = max(A)\n",
    "    B =copy.deepcopy(A)\n",
    "    B.remove(key) \n",
    "    for i in range(len(B)-1):\n",
    "        for j in range(i+1,len(B)):\n",
    "            if B[i] + B[j] > key:\n",
    "                temp = key+B[i]+B[j]\n",
    "                if ans < temp:\n",
    "                    ans = temp\n",
    "    return ans\n",
    "class Solution:\n",
    "    def largestPerimeter(self, A):\n",
    "        ans = check(A)\n",
    "        while(ans ==0):\n",
    "            if len(A) <3:\n",
    "                return 0\n",
    "            A.remove(max(A))\n",
    "            ans = check(A)\n",
    "        return ans"
   ]
  },
  {
   "cell_type": "markdown",
   "metadata": {},
   "source": [
    "시간초과가 났다.. 아무래도 while문+ 2중 for문 구조여서 그런것 같다.\n",
    "기본적으로 n^3이 넘어가면 안될듯.."
   ]
  }
 ],
 "metadata": {
  "kernelspec": {
   "display_name": "Python 3",
   "language": "python",
   "name": "python3"
  },
  "language_info": {
   "codemirror_mode": {
    "name": "ipython",
    "version": 3
   },
   "file_extension": ".py",
   "mimetype": "text/x-python",
   "name": "python",
   "nbconvert_exporter": "python",
   "pygments_lexer": "ipython3",
   "version": "3.7.6"
  }
 },
 "nbformat": 4,
 "nbformat_minor": 4
}
