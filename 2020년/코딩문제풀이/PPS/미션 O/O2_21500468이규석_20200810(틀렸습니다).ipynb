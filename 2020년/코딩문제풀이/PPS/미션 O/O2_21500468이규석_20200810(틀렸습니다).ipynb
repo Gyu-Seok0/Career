{
 "cells": [
  {
   "cell_type": "markdown",
   "metadata": {},
   "source": [
    "# 백준 문제 1431번 시리얼 번호"
   ]
  },
  {
   "cell_type": "code",
   "execution_count": 55,
   "metadata": {},
   "outputs": [
    {
     "name": "stdout",
     "output_type": "stream",
     "text": [
      "2\n",
      "1\n",
      "a\n",
      "a\n",
      "1\n"
     ]
    }
   ],
   "source": [
    "N = int(input())\n",
    "word_item =[]\n",
    "num_item = [0]*N\n",
    "num_sum = [0]*N\n",
    "\n",
    "index = 0\n",
    "for i in range(N):\n",
    "    item = input()\n",
    "    for letter in item:\n",
    "        key = ord(letter)\n",
    "        if key >=48 and key <=57:\n",
    "            num_sum[index] += key\n",
    "    if num_sum[index] != 0:\n",
    "        num_item[index] = item\n",
    "        index+=1\n",
    "    else:\n",
    "        word_item.append(item)\n",
    "while(1):\n",
    "    if 0 in num_item and 0 in num_sum:\n",
    "        num_item.remove(0)\n",
    "        num_sum.remove(0)\n",
    "    else:\n",
    "        break\n",
    "ans = []\n",
    "while(len(num_sum)!=0):\n",
    "    key = min(num_sum)\n",
    "    if num_sum.count(key) == 1:\n",
    "        index = num_sum.index(key)\n",
    "        ans.append(num_item[index])\n",
    "        num_item.pop(index)\n",
    "        num_sum.pop(index)\n",
    "    else:\n",
    "        temp = []\n",
    "        while(1):\n",
    "            if key in num_sum:\n",
    "                index2 = num_sum.index(key)\n",
    "                temp.append(num_item[index2])\n",
    "                num_item.pop(index2)\n",
    "                num_sum.pop(index2)\n",
    "            else:\n",
    "                break\n",
    "        ans += sorted(temp)\n",
    "result = sorted(word_item) + ans\n",
    "\n",
    "for word in result:\n",
    "    print(word)"
   ]
  },
  {
   "cell_type": "markdown",
   "metadata": {},
   "source": [
    "# 두번쨰 방법.. 역시 틀렸다."
   ]
  },
  {
   "cell_type": "code",
   "execution_count": 111,
   "metadata": {},
   "outputs": [
    {
     "name": "stdout",
     "output_type": "stream",
     "text": [
      "2\n",
      "1\n",
      "a\n",
      "a\n",
      "1\n"
     ]
    }
   ],
   "source": [
    "#\n",
    "N = int(input())\n",
    "item_list = []\n",
    "length = []\n",
    "\n",
    "for i in range(N):\n",
    "    item = input()\n",
    "    length.append(len(item))\n",
    "    item_list.append(item)\n",
    "\n",
    "result = []\n",
    "while(len(length)!=0):\n",
    "    key = min(length)\n",
    "    if length.count(key) == 1:\n",
    "        index = length.index(key)\n",
    "        result.append(item_list[index])\n",
    "        item_list.pop(index)\n",
    "        length.pop(index)\n",
    "    else:\n",
    "        alpha = []\n",
    "        number = []\n",
    "        while(length.count(key)!=0):\n",
    "            index2 = length.index(key)\n",
    "            flag = True\n",
    "            for letter in item_list[index2]:\n",
    "                if not letter.isalpha():\n",
    "                    flag =False\n",
    "                    break\n",
    "            if flag == True:\n",
    "                alpha.append(item_list[index2])\n",
    "            else:\n",
    "                number.append(item_list[index2])\n",
    "            length.pop(index2)\n",
    "            item_list.pop(index2)\n",
    "            \n",
    "sum_list= [0]*len(number)\n",
    "index3 = 0\n",
    "for i in range(len(number)):\n",
    "    for letter in number[i]:\n",
    "        if letter.isalpha():\n",
    "            continue\n",
    "        else:\n",
    "            sum_list[index3] += int(letter)\n",
    "    index3+=1\n",
    "        \n",
    "ans = []\n",
    "while(len(sum_list)!=0):\n",
    "    key = min(sum_list)\n",
    "    if sum_list.count(key) == 1:\n",
    "        index = sum_list.index(key)\n",
    "        ans.append(number[index])\n",
    "        sum_list.pop(index)\n",
    "        number.pop(index)\n",
    "    else:\n",
    "        temp = []\n",
    "        while(1):\n",
    "            if key in sum_list:\n",
    "                index2 = sum_list.index(key)\n",
    "                temp.append(number[index2])\n",
    "                sum_list.pop(index2)\n",
    "                number.pop(index2)\n",
    "            else:\n",
    "                break\n",
    "        ans += sorted(temp)\n",
    "result += sorted(alpha)+ans\n",
    "for word in result:\n",
    "    print(word)"
   ]
  }
 ],
 "metadata": {
  "kernelspec": {
   "display_name": "Python 3",
   "language": "python",
   "name": "python3"
  },
  "language_info": {
   "codemirror_mode": {
    "name": "ipython",
    "version": 3
   },
   "file_extension": ".py",
   "mimetype": "text/x-python",
   "name": "python",
   "nbconvert_exporter": "python",
   "pygments_lexer": "ipython3",
   "version": "3.7.6"
  }
 },
 "nbformat": 4,
 "nbformat_minor": 4
}
