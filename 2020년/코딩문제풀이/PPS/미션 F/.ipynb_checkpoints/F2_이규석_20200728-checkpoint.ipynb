{
 "cells": [
  {
   "cell_type": "markdown",
   "metadata": {},
   "source": [
    "# leetcode 14. Longest Common Prefix"
   ]
  },
  {
   "cell_type": "code",
   "execution_count": null,
   "metadata": {},
   "outputs": [],
   "source": [
    "class Solution:\n",
    "    def longestCommonPrefix(self, strs: List[str]) -> str:\n",
    "        if strs == []:\n",
    "            return \"\"\n",
    "        len_strs = [len(x) for x in strs]\n",
    "        end = min(len_strs)\n",
    "        keyword = strs[0]\n",
    "        ans =\"\"\n",
    "        for index in range(end):\n",
    "            key = keyword[index]\n",
    "            flag = True\n",
    "            for word in strs:\n",
    "                if word[index] != key:\n",
    "                    flag = False\n",
    "                    return ans\n",
    "            if flag== True:\n",
    "                ans += key\n",
    "        return ans\n",
    "    \n",
    "s = Solution()\n",
    "strs = [\"flower\",\"flow\",\"flight\"]\n",
    "s.longestCommonPrefix(strs)"
   ]
  }
 ],
 "metadata": {
  "kernelspec": {
   "display_name": "Python 3",
   "language": "python",
   "name": "python3"
  },
  "language_info": {
   "codemirror_mode": {
    "name": "ipython",
    "version": 3
   },
   "file_extension": ".py",
   "mimetype": "text/x-python",
   "name": "python",
   "nbconvert_exporter": "python",
   "pygments_lexer": "ipython3",
   "version": "3.7.6"
  }
 },
 "nbformat": 4,
 "nbformat_minor": 4
}
