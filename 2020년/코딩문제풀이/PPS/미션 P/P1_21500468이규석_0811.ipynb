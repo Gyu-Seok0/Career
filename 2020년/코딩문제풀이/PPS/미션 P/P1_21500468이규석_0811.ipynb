{
 "cells": [
  {
   "cell_type": "markdown",
   "metadata": {},
   "source": [
    "# 백준 17210번 문문문 문제"
   ]
  },
  {
   "cell_type": "code",
   "execution_count": null,
   "metadata": {},
   "outputs": [],
   "source": [
    "# 밀기 = 0\n",
    "# 열기 = 1\n",
    "# 2의 배수가 밀었다면, 그 다음 배수도 밀기\n",
    "# 3듸 배수가 밀었다면 그 다음 배수도 밀기/."
   ]
  },
  {
   "cell_type": "code",
   "execution_count": 44,
   "metadata": {},
   "outputs": [
    {
     "name": "stdout",
     "output_type": "stream",
     "text": [
      "60\n",
      "3\n",
      "Love is open door\n"
     ]
    }
   ],
   "source": [
    "N = int(input())\n",
    "d1 = int(input())\n",
    "\n",
    "def door(N,d1):\n",
    "    d = [0]*(N+1)\n",
    "    d[1] = d1\n",
    "\n",
    "    if d[1] == 0:\n",
    "        d[2] = 1\n",
    "        d[3] = 0\n",
    "    else:\n",
    "        d[2] = 0\n",
    "        d[3] = 1\n",
    "\n",
    "    for i in range(4,N+1):\n",
    "        if i%2 ==0 and i%3 == 0:\n",
    "            return 1 \n",
    "        if i%2 == 0:\n",
    "            d[i] = d[2]\n",
    "        elif i%3 ==0:\n",
    "            d[i] = d[3]\n",
    "        else:\n",
    "            if d[i-1] == 1:\n",
    "                d[i] = 0\n",
    "            else:\n",
    "                d[i] = 1\n",
    "    return d\n",
    "\n",
    "A = door(N,d1)\n",
    "if A == 1:\n",
    "    print(\"Love is open door\")\n",
    "else:\n",
    "    for i in range(2,len(A)):\n",
    "        print(A[i])"
   ]
  }
 ],
 "metadata": {
  "kernelspec": {
   "display_name": "Python 3",
   "language": "python",
   "name": "python3"
  },
  "language_info": {
   "codemirror_mode": {
    "name": "ipython",
    "version": 3
   },
   "file_extension": ".py",
   "mimetype": "text/x-python",
   "name": "python",
   "nbconvert_exporter": "python",
   "pygments_lexer": "ipython3",
   "version": "3.7.6"
  }
 },
 "nbformat": 4,
 "nbformat_minor": 4
}
