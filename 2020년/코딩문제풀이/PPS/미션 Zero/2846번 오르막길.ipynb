{
 "cells": [
  {
   "cell_type": "code",
   "execution_count": null,
   "metadata": {},
   "outputs": [],
   "source": [
    "import sys\n",
    "N = int(sys.stdin.readline())"
   ]
  },
  {
   "cell_type": "code",
   "execution_count": null,
   "metadata": {},
   "outputs": [],
   "source": [
    "N = int(input())\n",
    "height_list = list(map(int,input().split()))\n",
    "\n",
    "\n",
    "ascend = []\n",
    "ans = 0\n",
    "for i in range(N):\n",
    "    height = height_list[i]\n",
    "    if len(ascend) == 0 or ascend[-1] < height:\n",
    "        ascend.append(height)\n",
    "        \n",
    "    elif ascend[-1] >= height:\n",
    "        temp = ascend[-1] - ascend[0]\n",
    "        if temp > ans:\n",
    "            ans = temp\n",
    "        ascend= [height]\n",
    "        \n",
    "    if i== N-1 and len(ascend) >=2:\n",
    "        temp = ascend[-1] - ascend[0]\n",
    "        if temp > ans:\n",
    "            ans = temp\n",
    "    \n",
    "    \n",
    "print(ans)"
   ]
  },
  {
   "cell_type": "markdown",
   "metadata": {},
   "source": [
    "### _뭔가 비효율적인 것 같다.. 어떻게 하면 좋을까?"
   ]
  }
 ],
 "metadata": {
  "kernelspec": {
   "display_name": "Python 3",
   "language": "python",
   "name": "python3"
  },
  "language_info": {
   "codemirror_mode": {
    "name": "ipython",
    "version": 3
   },
   "file_extension": ".py",
   "mimetype": "text/x-python",
   "name": "python",
   "nbconvert_exporter": "python",
   "pygments_lexer": "ipython3",
   "version": "3.7.6"
  }
 },
 "nbformat": 4,
 "nbformat_minor": 4
}
