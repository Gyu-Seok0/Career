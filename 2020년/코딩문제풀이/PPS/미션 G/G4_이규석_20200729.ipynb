{
 "cells": [
  {
   "cell_type": "markdown",
   "metadata": {},
   "source": [
    "# leetcode 155. Min Stack"
   ]
  },
  {
   "cell_type": "code",
   "execution_count": null,
   "metadata": {},
   "outputs": [],
   "source": [
    "class MinStack:\n",
    "\n",
    "    def __init__(self):\n",
    "        self.stack = []\n",
    "    def push(self, x: int) -> None:\n",
    "        self.stack.append(x)\n",
    "       \n",
    "    def pop(self) -> None:\n",
    "        self.stack.pop()\n",
    "       \n",
    "    def top(self) -> int:\n",
    "        return self.stack[-1]\n",
    "    def getMin(self) -> int:\n",
    "        return min(self.stack)\n",
    "\n",
    "\n",
    "# Your MinStack object will be instantiated and called as such:\n",
    "# obj = MinStack()\n",
    "# obj.push(x)\n",
    "# obj.pop()\n",
    "# param_3 = obj.top()\n",
    "# param_4 = obj.getMin()"
   ]
  },
  {
   "cell_type": "markdown",
   "metadata": {},
   "source": [
    "class를 아직 안배워서, 익숙하지 못했다. \n",
    "생성자 init안에 stack이라는 리스트를 생성한다. 이때, self.을 붙이는 게 포인트!\n",
    "class 내부 함수 안에서도 self.을 붙여서 구현하면 된다!"
   ]
  }
 ],
 "metadata": {
  "kernelspec": {
   "display_name": "Python 3",
   "language": "python",
   "name": "python3"
  },
  "language_info": {
   "codemirror_mode": {
    "name": "ipython",
    "version": 3
   },
   "file_extension": ".py",
   "mimetype": "text/x-python",
   "name": "python",
   "nbconvert_exporter": "python",
   "pygments_lexer": "ipython3",
   "version": "3.7.6"
  }
 },
 "nbformat": 4,
 "nbformat_minor": 4
}
