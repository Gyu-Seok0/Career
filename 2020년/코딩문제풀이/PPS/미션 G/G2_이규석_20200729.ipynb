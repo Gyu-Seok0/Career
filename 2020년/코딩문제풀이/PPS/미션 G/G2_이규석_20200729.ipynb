{
 "cells": [
  {
   "cell_type": "markdown",
   "metadata": {},
   "source": [
    "# 백준 1157번 단어공부 문제"
   ]
  },
  {
   "cell_type": "code",
   "execution_count": 50,
   "metadata": {},
   "outputs": [
    {
     "name": "stdout",
     "output_type": "stream",
     "text": [
      "\"\"\n",
      "\"\n"
     ]
    }
   ],
   "source": [
    "import sys\n",
    "word = sys.stdin.readline().strip()\n",
    "def word_study(word): \n",
    "    word = word.upper()\n",
    "    dic = dict()\n",
    "    for letter in word:\n",
    "        dic[letter] = dic.get(letter,0)+1\n",
    "    key = list(dic.keys())\n",
    "    value = list(dic.values())\n",
    "    if value.count(max(value)) >1:\n",
    "        return \"?\"\n",
    "    index = value.index(max(value))\n",
    "    return key[index]\n",
    "print(word_study(word))"
   ]
  }
 ],
 "metadata": {
  "kernelspec": {
   "display_name": "Python 3",
   "language": "python",
   "name": "python3"
  },
  "language_info": {
   "codemirror_mode": {
    "name": "ipython",
    "version": 3
   },
   "file_extension": ".py",
   "mimetype": "text/x-python",
   "name": "python",
   "nbconvert_exporter": "python",
   "pygments_lexer": "ipython3",
   "version": "3.7.6"
  }
 },
 "nbformat": 4,
 "nbformat_minor": 4
}
