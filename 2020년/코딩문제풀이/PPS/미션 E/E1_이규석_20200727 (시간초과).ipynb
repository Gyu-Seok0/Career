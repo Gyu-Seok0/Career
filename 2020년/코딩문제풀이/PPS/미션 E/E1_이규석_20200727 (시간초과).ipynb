{
 "cells": [
  {
   "cell_type": "code",
   "execution_count": 9,
   "metadata": {},
   "outputs": [],
   "source": [
    "nums = [4,3,2,7,8,2,3,1]\n",
    "nums = [1,1]"
   ]
  },
  {
   "cell_type": "code",
   "execution_count": null,
   "metadata": {},
   "outputs": [],
   "source": [
    "class Solution:\n",
    "    def findDisappearedNumbers(self, nums: List[int]) -> List[int]:\n",
    "        end = len(nums)\n",
    "        nums = list(set(nums))\n",
    "        for i in range(1,end+1):\n",
    "            if i in nums:\n",
    "                nums.remove(i)\n",
    "            else:\n",
    "                nums.append(i)\n",
    "        return nums"
   ]
  },
  {
   "cell_type": "code",
   "execution_count": 46,
   "metadata": {},
   "outputs": [
    {
     "name": "stdout",
     "output_type": "stream",
     "text": [
      "[1]\n",
      "[]\n"
     ]
    }
   ],
   "source": [
    "class Solution:\n",
    "    def findDisappearedNumbers(self, nums: List[int]) -> List[int]:\n",
    "            end = len(nums)\n",
    "            nums = sorted(set(nums))\n",
    "            key = 1\n",
    "            while(key <= end and nums != []):\n",
    "                if nums[0] == key:\n",
    "                    nums.pop(0)\n",
    "                else:\n",
    "                    nums.append(key)\n",
    "                key+=1\n",
    "            return nums"
   ]
  },
  {
   "cell_type": "code",
   "execution_count": null,
   "metadata": {},
   "outputs": [],
   "source": []
  }
 ],
 "metadata": {
  "kernelspec": {
   "display_name": "Python 3",
   "language": "python",
   "name": "python3"
  },
  "language_info": {
   "codemirror_mode": {
    "name": "ipython",
    "version": 3
   },
   "file_extension": ".py",
   "mimetype": "text/x-python",
   "name": "python",
   "nbconvert_exporter": "python",
   "pygments_lexer": "ipython3",
   "version": "3.7.6"
  }
 },
 "nbformat": 4,
 "nbformat_minor": 4
}
