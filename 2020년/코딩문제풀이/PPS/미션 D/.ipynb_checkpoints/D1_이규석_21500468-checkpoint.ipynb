{
 "cells": [
  {
   "cell_type": "markdown",
   "metadata": {},
   "source": [
    "# 백준 1712번 손익분기점"
   ]
  },
  {
   "cell_type": "code",
   "execution_count": 24,
   "metadata": {},
   "outputs": [],
   "source": [
    "#틀린정답 --> 시간초과\n",
    "def BEP(A,B,C):\n",
    "    x=1\n",
    "    cost = A+x*B\n",
    "    profit = x*C\n",
    "    if B >= C:\n",
    "        return -1\n",
    "    while(profit<=cost):\n",
    "        x+=1\n",
    "        cost = A+x*B\n",
    "        profit = x*C\n",
    "    return x\n",
    "    "
   ]
  },
  {
   "cell_type": "code",
   "execution_count": 25,
   "metadata": {},
   "outputs": [],
   "source": [
    "#맞은정답 --> 방정식으로 풀면, while문을 굳이 쓰지 않고도 구현가능.\n",
    "import math\n",
    "def BEP(A,B,C):\n",
    "    if B >= C:\n",
    "        return -1\n",
    "    return math.floor(A/(C-B)+1)\n",
    "    "
   ]
  }
 ],
 "metadata": {
  "kernelspec": {
   "display_name": "Python 3",
   "language": "python",
   "name": "python3"
  },
  "language_info": {
   "codemirror_mode": {
    "name": "ipython",
    "version": 3
   },
   "file_extension": ".py",
   "mimetype": "text/x-python",
   "name": "python",
   "nbconvert_exporter": "python",
   "pygments_lexer": "ipython3",
   "version": "3.7.6"
  }
 },
 "nbformat": 4,
 "nbformat_minor": 4
}
