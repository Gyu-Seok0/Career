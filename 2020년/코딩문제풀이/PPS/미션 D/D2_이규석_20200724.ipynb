{
 "cells": [
  {
   "cell_type": "markdown",
   "metadata": {},
   "source": [
    "# 10250번 ACM 호텔"
   ]
  },
  {
   "cell_type": "code",
   "execution_count": null,
   "metadata": {},
   "outputs": [],
   "source": [
    "import sys\n",
    "import math\n",
    "T = int(sys.stdin.readline())\n",
    "for i in range(T):\n",
    "    H,W,N = map(int,sys.stdin.readline().split())\n",
    "    YY = N%H\n",
    "    if YY == 0:\n",
    "        YY = H\n",
    "    YY= str(YY)\n",
    "    \n",
    "    XX = math.ceil(N/H)\n",
    "    XX = str(XX)\n",
    "    if len(XX) == 1:\n",
    "        XX = '0'+XX\n",
    "        \n",
    "    print(YY+XX)"
   ]
  }
 ],
 "metadata": {
  "kernelspec": {
   "display_name": "Python 3",
   "language": "python",
   "name": "python3"
  },
  "language_info": {
   "codemirror_mode": {
    "name": "ipython",
    "version": 3
   },
   "file_extension": ".py",
   "mimetype": "text/x-python",
   "name": "python",
   "nbconvert_exporter": "python",
   "pygments_lexer": "ipython3",
   "version": "3.7.6"
  }
 },
 "nbformat": 4,
 "nbformat_minor": 4
}
