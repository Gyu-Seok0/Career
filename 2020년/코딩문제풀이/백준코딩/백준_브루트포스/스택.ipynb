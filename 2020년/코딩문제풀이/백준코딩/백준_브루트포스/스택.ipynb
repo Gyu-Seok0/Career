{
 "cells": [
  {
   "cell_type": "code",
   "execution_count": null,
   "metadata": {},
   "outputs": [
    {
     "name": "stdout",
     "output_type": "stream",
     "text": [
      "숫자입력: 14\n",
      "명령입력: push 1\n",
      "명령입력: push 2\n",
      "명령입력: top\n",
      "2\n",
      "명령입력: size\n",
      "2\n",
      "명령입력: empty\n",
      "0\n",
      "명령입력: pop\n",
      "2\n",
      "명령입력: pop\n",
      "1\n",
      "명령입력: pop\n",
      "-1\n",
      "명령입력: size\n",
      "0\n",
      "명령입력: empty\n",
      "1\n"
     ]
    }
   ],
   "source": [
    "num = int(input(\"숫자입력: \"))\n",
    "numlist = []\n",
    "cnt = -1\n",
    "for i in range(num):\n",
    "    com = input(\"명령입력: \")\n",
    "    \n",
    "    if 'push' in com:\n",
    "        temp = com.split(' ')\n",
    "        numlist.append(int(temp[1]))\n",
    "        cnt+=1\n",
    "    elif com == 'pop':\n",
    "        if len(numlist) == 0:\n",
    "            print(-1)\n",
    "        else:\n",
    "            print(numlist[cnt])\n",
    "            numlist.pop(cnt)\n",
    "            cnt -= 1\n",
    "    elif com == 'size':\n",
    "        print(len(numlist))\n",
    "    elif com == 'empty':\n",
    "        if len(numlist) == 0:\n",
    "            print(1)\n",
    "        else:\n",
    "            print(0)\n",
    "    elif com == 'top':\n",
    "        if len(numlist) == 0:\n",
    "            print(-1)\n",
    "        else:\n",
    "            print(numlist[cnt]) "
   ]
  },
  {
   "cell_type": "code",
   "execution_count": null,
   "metadata": {},
   "outputs": [],
   "source": []
  },
  {
   "cell_type": "markdown",
   "metadata": {},
   "source": [
    "\n"
   ]
  }
 ],
 "metadata": {
  "kernelspec": {
   "display_name": "Python 3",
   "language": "python",
   "name": "python3"
  },
  "language_info": {
   "codemirror_mode": {
    "name": "ipython",
    "version": 3
   },
   "file_extension": ".py",
   "mimetype": "text/x-python",
   "name": "python",
   "nbconvert_exporter": "python",
   "pygments_lexer": "ipython3",
   "version": "3.7.6"
  }
 },
 "nbformat": 4,
 "nbformat_minor": 4
}
