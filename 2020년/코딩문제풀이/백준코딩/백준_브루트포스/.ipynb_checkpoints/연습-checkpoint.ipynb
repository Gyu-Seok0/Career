{
 "cells": [
  {
   "cell_type": "markdown",
   "metadata": {},
   "source": [
    "## Hello, world 출력"
   ]
  },
  {
   "cell_type": "code",
   "execution_count": null,
   "metadata": {},
   "outputs": [],
   "source": [
    "inp= input()\n",
    "list = inp.split(' ')\n",
    "E = int(list[0])\n",
    "S = int(list[1])\n",
    "M = int(list[2])\n",
    "\n",
    "\n",
    "year = 0\n",
    "e = 0\n",
    "s = 0\n",
    "m = 0\n",
    "\n",
    "while(E != e or S != s or M != m):\n",
    "    e+=1\n",
    "    s+=1\n",
    "    m+=1\n",
    "    year+=1\n",
    "    if (e >15):\n",
    "        e = 1\n",
    "    if (s >28):\n",
    "        s = 1\n",
    "    if (m > 19):\n",
    "        m = 1\n",
    "print(year)\n",
    "\n",
    "    "
   ]
  },
  {
   "cell_type": "code",
   "execution_count": null,
   "metadata": {},
   "outputs": [],
   "source": [
    "print(\"Hello world\")"
   ]
  },
  {
   "cell_type": "code",
   "execution_count": null,
   "metadata": {},
   "outputs": [],
   "source": []
  },
  {
   "cell_type": "code",
   "execution_count": null,
   "metadata": {},
   "outputs": [],
   "source": []
  }
 ],
 "metadata": {
  "kernelspec": {
   "display_name": "Python 3",
   "language": "python",
   "name": "python3"
  },
  "language_info": {
   "codemirror_mode": {
    "name": "ipython",
    "version": 3
   },
   "file_extension": ".py",
   "mimetype": "text/x-python",
   "name": "python",
   "nbconvert_exporter": "python",
   "pygments_lexer": "ipython3",
   "version": "3.7.6"
  }
 },
 "nbformat": 4,
 "nbformat_minor": 2
}
