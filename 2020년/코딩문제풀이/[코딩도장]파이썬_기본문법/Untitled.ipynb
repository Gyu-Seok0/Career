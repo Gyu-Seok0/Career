{
 "cells": [
  {
   "cell_type": "markdown",
   "metadata": {},
   "source": [
    "### 상속관계"
   ]
  },
  {
   "cell_type": "code",
   "execution_count": 6,
   "metadata": {},
   "outputs": [
    {
     "name": "stdout",
     "output_type": "stream",
     "text": [
      "안녕하세요\n",
      "공부하기\n",
      "False\n",
      "True\n"
     ]
    }
   ],
   "source": [
    "# 사람 클래스를 만들고, 이를 상속받아 학생 클래스를 구현해보자\n",
    "# 기반 클래스\n",
    "class Person:\n",
    "    def greeting(self):\n",
    "        print(\"안녕하세요\")\n",
    "# 파생 클래스\n",
    "class Student(Person):  #Person을 상속받았다.\n",
    "    def study(self):\n",
    "        print(\"공부하기\")\n",
    "\n",
    "gyuseok = Student()\n",
    "gyuseok.greeting()\n",
    "gyuseok.study()\n",
    "\n",
    "#상속관계 확인하기\n",
    "print(issubclass(Person, Student))\n",
    "print(issubclass(Student, Person))"
   ]
  },
  {
   "cell_type": "markdown",
   "metadata": {},
   "source": [
    "### 포함관계"
   ]
  },
  {
   "cell_type": "code",
   "execution_count": 10,
   "metadata": {},
   "outputs": [
    {
     "name": "stdout",
     "output_type": "stream",
     "text": [
      "[]\n",
      "[<__main__.Person object at 0x000001D7F0CA6048>]\n",
      "[<__main__.Person object at 0x000001D7F0CA6048>, <__main__.Person object at 0x000001D7F0CA67C8>]\n",
      "[<__main__.Person object at 0x000001D7F0CA6048>, <__main__.Person object at 0x000001D7F0CA67C8>, <__main__.Person object at 0x000001D7F0CA6AC8>]\n"
     ]
    }
   ],
   "source": [
    "class Person:\n",
    "    def greeting(self):\n",
    "        print(\"안녕하세요.\")\n",
    "\n",
    "class PersonList:\n",
    "    def __init__(self):\n",
    "        self.person_list = []\n",
    "    def append_person(self, p):\n",
    "        self.person_list.append(p)\n",
    "\n",
    "a = Person()\n",
    "b = Person()\n",
    "c = Person()\n",
    "\n",
    "L = PersonList()\n",
    "print(L.person_list)    # 0개\n",
    "L.append_person(a)\n",
    "print(L.person_list)   # 1개\n",
    "\n",
    "L.append_person(b)\n",
    "print(L.person_list)  # 2개\n",
    "L.append_person(c)\n",
    "print(L.person_list)  # 3개"
   ]
  },
  {
   "cell_type": "markdown",
   "metadata": {},
   "source": [
    "### 기반클래스 초기화"
   ]
  },
  {
   "cell_type": "code",
   "execution_count": 19,
   "metadata": {},
   "outputs": [
    {
     "name": "stdout",
     "output_type": "stream",
     "text": [
      "Student __init__\n",
      "Person __init__\n",
      "파이썬 코딩 도장\n",
      "안녕하세요.\n",
      "Person __init__\n",
      "안녕하세요.\n"
     ]
    }
   ],
   "source": [
    "#방법1\n",
    "class Person:\n",
    "    def __init__(self):\n",
    "        print('Person __init__')\n",
    "        self.hello = \"안녕하세요.\"\n",
    "        \n",
    "class Student(Person):\n",
    "    def __init__(self):\n",
    "        print('Student __init__')\n",
    "        super().__init__()           #기반 클래스의 init을 불러온다.\n",
    "        self.school = \"파이썬 코딩 도장\"\n",
    "\n",
    "a = Student()\n",
    "print(a.school)\n",
    "print(a.hello)\n",
    "\n",
    "\n",
    "#방법2\n",
    "class Person:\n",
    "    def __init__(self):\n",
    "        print('Person __init__')\n",
    "        self.hello = \"안녕하세요.\"\n",
    "        \n",
    "class Student(Person):\n",
    "        pass\n",
    "\n",
    "a = Student()\n",
    "print(a.hello)"
   ]
  },
  {
   "cell_type": "markdown",
   "metadata": {},
   "source": [
    "### 메소드 오버라이딩"
   ]
  },
  {
   "cell_type": "code",
   "execution_count": 23,
   "metadata": {},
   "outputs": [
    {
     "name": "stdout",
     "output_type": "stream",
     "text": [
      "안녕하세요1\n",
      "안녕하세요2\n"
     ]
    }
   ],
   "source": [
    "class Person:\n",
    "    def greeting(self):\n",
    "        print(\"안녕하세요1\")\n",
    "\n",
    "class Student(Person):\n",
    "    def greeting(self):\n",
    "        super().greeting()     # 기반클래스의 동일명 메소드를 불러온다.\n",
    "        print(\"안녕하세요2\")\n",
    "\n",
    "s = Student()\n",
    "s.greeting()"
   ]
  },
  {
   "cell_type": "markdown",
   "metadata": {},
   "source": [
    "### 다중상속"
   ]
  },
  {
   "cell_type": "code",
   "execution_count": 28,
   "metadata": {},
   "outputs": [
    {
     "name": "stdout",
     "output_type": "stream",
     "text": [
      "안녕하세요\n",
      "학점 관리\n",
      "공부하기\n",
      "[<class '__main__.Undergraduate'>, <class '__main__.Person'>, <class '__main__.University'>, <class 'object'>]\n"
     ]
    }
   ],
   "source": [
    "class Person:\n",
    "    def greeting(self):\n",
    "        print(\"안녕하세요\")\n",
    "class University:\n",
    "    def manage_credit(self):\n",
    "        print(\"학점 관리\")\n",
    "class Undergraduate(Person, University):\n",
    "    def study(self):\n",
    "        print(\"공부하기\")\n",
    "s = Undergraduate()   #인스턴스 호출\n",
    "\n",
    "s.greeting()    # 메소드 호출\n",
    "s.manage_credit()# 메소드 호출\n",
    "s.study() # 메소드 호출\n",
    "\n",
    "print(Undergraduate.mro())"
   ]
  },
  {
   "cell_type": "markdown",
   "metadata": {},
   "source": [
    "+ 파이썬에서 object는 모든 클래스의 조상이다. \n",
    "+ 모든 클래스는 object 클래스를 상속받으므로, 기본적으로 생략한다."
   ]
  },
  {
   "cell_type": "markdown",
   "metadata": {},
   "source": [
    "### 연습문제: 리스트에 기능 추가하기"
   ]
  },
  {
   "cell_type": "code",
   "execution_count": 34,
   "metadata": {},
   "outputs": [
    {
     "name": "stdout",
     "output_type": "stream",
     "text": [
      "[100, 2, 3, 100, 2, 3, 100, 2, 3]\n",
      "[100, 2, 3, 100, 2, 3, 100, 2, 3]\n"
     ]
    }
   ],
   "source": [
    "#방법1\n",
    "class AdvancedList(list):\n",
    "    def replace(self,x,y):\n",
    "        for i in range(len(self)):\n",
    "            if self[i] == x:\n",
    "                self[i] = y\n",
    "x = AdvancedList([1, 2, 3, 1, 2, 3, 1, 2, 3])\n",
    "x.replace(1, 100)\n",
    "print(x)\n",
    "\n",
    "#방법2\n",
    "class AdvancedList(list):      #리스트를 상속받음.\n",
    "    def replace(self,old,new): #self는 상속받은 리스트가 된다.\n",
    "        while old in self:     # while문을 돌리면서 old를 찾고, new로 바꿔준다.\n",
    "            self[self.index(old)] = new\n",
    "            \n",
    "x = AdvancedList([1, 2, 3, 1, 2, 3, 1, 2, 3])\n",
    "x.replace(1, 100)\n",
    "print(x)"
   ]
  },
  {
   "cell_type": "markdown",
   "metadata": {},
   "source": [
    "### 퀴즈문제: 다중상속"
   ]
  },
  {
   "cell_type": "code",
   "execution_count": 35,
   "metadata": {},
   "outputs": [
    {
     "name": "stdout",
     "output_type": "stream",
     "text": [
      "먹다\n",
      "파닥거리다\n",
      "날다\n",
      "True\n",
      "True\n"
     ]
    }
   ],
   "source": [
    "class Animal:\n",
    "    def eat(self):\n",
    "        print('먹다')\n",
    "\n",
    "class Wing:\n",
    "    def flap(self):\n",
    "        print('파닥거리다')\n",
    "\n",
    "class Bird(Animal, Wing):\n",
    "    def fly(self):\n",
    "        print(\"날다\")\n",
    "\n",
    "b = Bird()\n",
    "b.eat()\n",
    "b.flap()\n",
    "b.fly()\n",
    "print(issubclass(Bird, Animal))\n",
    "print(issubclass(Bird, Wing))"
   ]
  }
 ],
 "metadata": {
  "kernelspec": {
   "display_name": "Python 3",
   "language": "python",
   "name": "python3"
  },
  "language_info": {
   "codemirror_mode": {
    "name": "ipython",
    "version": 3
   },
   "file_extension": ".py",
   "mimetype": "text/x-python",
   "name": "python",
   "nbconvert_exporter": "python",
   "pygments_lexer": "ipython3",
   "version": "3.7.6"
  }
 },
 "nbformat": 4,
 "nbformat_minor": 4
}
