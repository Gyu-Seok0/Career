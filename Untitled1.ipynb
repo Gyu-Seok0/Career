{
 "cells": [
  {
   "cell_type": "markdown",
   "metadata": {},
   "source": [
    "# 1과 2를 입력받는다.\n",
    "# 1이면 남성입니다.\n",
    "# 2이면 여성입니다.\n",
    "# 를 출력하시오."
   ]
  },
  {
   "cell_type": "code",
   "execution_count": 9,
   "metadata": {
    "scrolled": true
   },
   "outputs": [
    {
     "name": "stdout",
     "output_type": "stream",
     "text": [
      "1 or 2를 입력하시오: 1\n",
      "남성입니다.\n"
     ]
    }
   ],
   "source": [
    "number = int(input(\"1 or 2를 입력하시오: \"))\n",
    "if number == 1:\n",
    "    print(\"남성입니다.\")\n",
    "if number == 1:\n",
    "    print(\"여성입니다.\")\n",
    "\n",
    "\n",
    "\n",
    "\n"
   ]
  },
  {
   "cell_type": "code",
   "execution_count": 4,
   "metadata": {},
   "outputs": [
    {
     "data": {
      "text/plain": [
       "'11'"
      ]
     },
     "execution_count": 4,
     "metadata": {},
     "output_type": "execute_result"
    }
   ],
   "source": [
    "\"1\"+\"1\""
   ]
  },
  {
   "cell_type": "code",
   "execution_count": null,
   "metadata": {},
   "outputs": [],
   "source": []
  },
  {
   "cell_type": "markdown",
   "metadata": {},
   "source": [
    "# 시험 점수를 입력받아 90 ~ 100점은 A,\n",
    "# 80 ~ 89점은 B, \n",
    "# 70 ~ 79점은 C, \n",
    "# 60 ~ 69점은 D, \n",
    "# 나머지 점수는 F를 출력하는 프로그램을 작성하시오."
   ]
  },
  {
   "cell_type": "code",
   "execution_count": 18,
   "metadata": {},
   "outputs": [
    {
     "name": "stdout",
     "output_type": "stream",
     "text": [
      "시험점수를 입력하시오: -1\n",
      "점수입력 오류.\n"
     ]
    }
   ],
   "source": [
    "score = int(input(\"시험점수를 입력하시오: \"))\n",
    "if score >100 or score <0:\n",
    "    print(\"점수입력 오류.\")\n",
    "elif score >=90 and score <=100:\n",
    "    print(\"A\")\n",
    "elif score >=80 and score <=89:\n",
    "    print(\"B\")\n",
    "elif score >=70 and score <=79:\n",
    "    print(\"C\")\n",
    "elif score >=60 and score <=69:\n",
    "    print(\"D\")\n",
    "else:\n",
    "    print(\"F\")\n"
   ]
  }
 ],
 "metadata": {
  "kernelspec": {
   "display_name": "Python 3",
   "language": "python",
   "name": "python3"
  },
  "language_info": {
   "codemirror_mode": {
    "name": "ipython",
    "version": 3
   },
   "file_extension": ".py",
   "mimetype": "text/x-python",
   "name": "python",
   "nbconvert_exporter": "python",
   "pygments_lexer": "ipython3",
   "version": "3.7.6"
  }
 },
 "nbformat": 4,
 "nbformat_minor": 4
}
