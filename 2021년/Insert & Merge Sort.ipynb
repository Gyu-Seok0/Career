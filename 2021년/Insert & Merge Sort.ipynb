{
 "cells": [
  {
   "cell_type": "code",
   "execution_count": 1,
   "metadata": {},
   "outputs": [
    {
     "name": "stdout",
     "output_type": "stream",
     "text": [
      "[1, 2, 3, 4, 4, 7, 9, 10]\n"
     ]
    }
   ],
   "source": [
    "# insert sort\n",
    "arr = [1,4,7,2,4,9,10,3]\n",
    "for i in range(1,len(arr)):\n",
    "    idx = i\n",
    "    while arr[idx-1] > arr[idx]:\n",
    "        arr[idx-1], arr[idx] = arr[idx], arr[idx-1] #만약에 \n",
    "        idx -= 1\n",
    "print(arr)"
   ]
  },
  {
   "cell_type": "code",
   "execution_count": 3,
   "metadata": {},
   "outputs": [
    {
     "data": {
      "text/plain": [
       "[1, 2, 3, 3, 4, 6, 42]"
      ]
     },
     "execution_count": 3,
     "metadata": {},
     "output_type": "execute_result"
    }
   ],
   "source": [
    "# merge sort\n",
    "def merge_sort(arr):\n",
    "    def sort(low, high):\n",
    "        if high - low < 2: # 개수를 의미하나?\n",
    "            return\n",
    "        mid = (low + high) // 2 #가운데 인덱스\n",
    "        sort(low,mid)\n",
    "        sort(mid,high)\n",
    "        merge(low,mid,high)\n",
    "    def merge(low, mid, high):\n",
    "        temp = []\n",
    "        l, h = low, mid\n",
    "        \n",
    "        while l < mid and h < high:\n",
    "            if arr[l] < arr[h]: # 둘중 작은 거 입력받기\n",
    "                temp.append(arr[l])\n",
    "                l += 1\n",
    "            else:  \n",
    "                temp.append(arr[h])\n",
    "                h += 1\n",
    "                \n",
    "        while l < mid: #위 while문에서 첫번째 조건이 아직 유효하다면\n",
    "            temp.append(arr[l])\n",
    "            l += 1\n",
    "        while h < high: #위 while문에서 두번째 조건이 아직 유효하다면\n",
    "            temp.append(arr[h])\n",
    "            h += 1\n",
    "        \n",
    "        for i in range(low,high): #low부터 high만큼의 개수가 존재\n",
    "            arr[i] = temp[i - low] # 이렇게 해야 temp의 0부터 받아올 수 있구나\n",
    "    \n",
    "    return sort(0,len(arr))\n",
    "\n",
    "arr = [1,3,42,3,6,2,4]\n",
    "merge_sort(arr)\n",
    "arr"
   ]
  },
  {
   "cell_type": "code",
   "execution_count": 7,
   "metadata": {},
   "outputs": [],
   "source": [
    "# 다른 버전\n",
    "def merge_sort(arr):\n",
    "    if len(arr) < 2:\n",
    "        return arr\n",
    "    mid = len(arr) // 2\n",
    "    low_arr = merge_sort(arr[:mid])\n",
    "    high_arr = merge_sort(arr[mid:])\n",
    "    \n",
    "    merged_arr = []\n",
    "    l = h = 0\n",
    "    while l < len(low_arr) and h < len(high_arr):\n",
    "        if low_arr[l] < high_arr[h]: # 둘중 작은 값들 뽑아내기\n",
    "            merged_arr.append(low_arr[l])\n",
    "            l += 1\n",
    "        else:\n",
    "            merged_arr.append(high_arr[h])\n",
    "            h += 1\n",
    "    merged_arr += low_arr[l:]\n",
    "    merged_arr += high_arr[h:]\n",
    "    return merged_arr"
   ]
  },
  {
   "cell_type": "code",
   "execution_count": 8,
   "metadata": {},
   "outputs": [
    {
     "data": {
      "text/plain": [
       "[1, 3, 3, 5, 5, 8, 75]"
      ]
     },
     "execution_count": 8,
     "metadata": {},
     "output_type": "execute_result"
    }
   ],
   "source": [
    "arr = [1,5,3,75,3,5,8]\n",
    "merge_sort(arr)"
   ]
  },
  {
   "cell_type": "code",
   "execution_count": null,
   "metadata": {},
   "outputs": [],
   "source": []
  }
 ],
 "metadata": {
  "kernelspec": {
   "display_name": "Python 3",
   "language": "python",
   "name": "python3"
  },
  "language_info": {
   "codemirror_mode": {
    "name": "ipython",
    "version": 3
   },
   "file_extension": ".py",
   "mimetype": "text/x-python",
   "name": "python",
   "nbconvert_exporter": "python",
   "pygments_lexer": "ipython3",
   "version": "3.8.3"
  }
 },
 "nbformat": 4,
 "nbformat_minor": 4
}
