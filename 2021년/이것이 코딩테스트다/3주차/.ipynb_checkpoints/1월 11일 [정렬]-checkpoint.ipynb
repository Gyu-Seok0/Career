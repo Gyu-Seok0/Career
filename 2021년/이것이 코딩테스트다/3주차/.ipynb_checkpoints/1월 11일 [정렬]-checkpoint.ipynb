{
 "cells": [
  {
   "cell_type": "markdown",
   "metadata": {},
   "source": [
    "# 정렬알고리즘"
   ]
  },
  {
   "cell_type": "code",
   "execution_count": 71,
   "metadata": {},
   "outputs": [],
   "source": [
    "import time\n",
    "\n",
    "start = time.time()\n"
   ]
  },
  {
   "cell_type": "code",
   "execution_count": 72,
   "metadata": {},
   "outputs": [
    {
     "name": "stdout",
     "output_type": "stream",
     "text": [
      "[1, 2, 3, 4, 5, 6, 7, 8, 9, 10]\n",
      "0.00014090538024902344\n"
     ]
    }
   ],
   "source": [
    "# select 정렬(O(N2))\n",
    "# 가장 작은 값을 선택, 앞으로 보내면 어떨까?\n",
    "nums = [1, 10, 5, 8, 7, 6, 4, 3, 2, 9]\n",
    "start = time.time()\n",
    "\n",
    "for i in range(len(nums)):\n",
    "    min_num = 1e10\n",
    "    for j in range(i, len(nums)):\n",
    "        if min_num > nums[j]:\n",
    "            min_num = nums[j]\n",
    "            temp = j # 가장 작은 index를 기억해주기.\n",
    "            \n",
    "    nums[temp] = nums[i]\n",
    "    nums[i] = min_num\n",
    "end = time.time()\n",
    "print(nums)\n",
    "print(end - start)"
   ]
  },
  {
   "cell_type": "code",
   "execution_count": 73,
   "metadata": {
    "scrolled": true
   },
   "outputs": [
    {
     "name": "stdout",
     "output_type": "stream",
     "text": [
      "[1, 2, 3, 4, 5, 6, 7, 8, 9, 10]\n",
      "0.0001201629638671875\n"
     ]
    }
   ],
   "source": [
    "# bubble 정렬 (O(N2)\n",
    "# 바로 옆에 있는 값들과 비교해보자.\n",
    "\n",
    "nums = [1, 10, 5, 8, 7, 6, 4, 3, 2, 9]\n",
    "\n",
    "'''\n",
    "for i in range(len(nums)):\n",
    "    for j in range(i+1,len(nums)):\n",
    "        if nums[i] > nums[j]:\n",
    "            temp = nums[j]\n",
    "            nums[j] = nums[i]\n",
    "            nums[i] = temp\n",
    "            \n",
    "print(nums)\n",
    "'''\n",
    "start = time.time()\n",
    "for i in range(len(nums)):\n",
    "    for j in range(len(nums)-1-i):\n",
    "        if nums[j] > nums[j+1]: # 바로 옆이라는 것은 인덱스가 1 차이.\n",
    "            temp = nums[j+1]\n",
    "            nums[j+1] = nums[j]\n",
    "            nums[j] = temp\n",
    "end = time.time()\n",
    "\n",
    "print(nums)\n",
    "print(end - start)"
   ]
  },
  {
   "cell_type": "code",
   "execution_count": 75,
   "metadata": {
    "scrolled": false
   },
   "outputs": [
    {
     "name": "stdout",
     "output_type": "stream",
     "text": [
      "0.00011396408081054688\n"
     ]
    }
   ],
   "source": [
    "# 삽입정렬 (O(n2))\n",
    "# 필요할 때만 위치를 바꾼다.\n",
    "#\n",
    "nums = [1, 10, 5, 8, 7, 6, 4, 3, 2, 9]\n",
    "result = []\n",
    "\n",
    "# 앞에서부터 숫자를 하나씩 가져오고\n",
    "# 자기자신의 앞부분을 비교한다\n",
    "# 비교했을때 나보다 큰 값을 만나면 자리를 바꾼다.\n",
    "# 나보다 작은 값을 만나면 그 자리에 있으면 되고, break\n",
    "start = time.time()\n",
    "for i in range(1,len(nums)):\n",
    "    idx = i\n",
    "    while (nums[idx-1] > nums[idx]): # 멈출 수 있다. 효율적 \n",
    "        temp = nums[idx]\n",
    "        nums[idx] = nums[idx-1]\n",
    "        nums[idx-1] = temp\n",
    "        idx -= 1\n",
    "end = time.time()\n",
    "nums\n",
    "print(end - start)"
   ]
  },
  {
   "cell_type": "code",
   "execution_count": 77,
   "metadata": {
    "scrolled": true
   },
   "outputs": [
    {
     "name": "stdout",
     "output_type": "stream",
     "text": [
      "[1, 2, 3, 4, 5, 6, 7, 8, 9, 10]\n",
      "6.103515625e-05\n"
     ]
    }
   ],
   "source": [
    "# 퀵-정렬 (O(n * log n))\n",
    "# 분할정복 알고리즘\n",
    "# 핵심: pivot --> 0번째 원소\n",
    "# 앞에서 부터는 pivot보다 큰 값을 찾고, 뒤에서부터는 pivot보다 작은 값 찾기\n",
    "nums = [3, 7, 8, 1, 5, 9, 6, 10, 2, 4]\n",
    "pivot = nums[0]\n",
    "\n",
    "\n",
    "def quick(data, start, end):\n",
    "    if start >= end:\n",
    "        return\n",
    "    \n",
    "    key = start\n",
    "    i = start + 1\n",
    "    j = end\n",
    "    \n",
    "    while i <= j:\n",
    "        # data[i]가 클 때 까지 확인\n",
    "        while i <= end and data[i] <= data[key]  : \n",
    "            i += 1\n",
    "        # data[j]가 작을 때 까지 확인\n",
    "        while j > start and data[j] >= data[key] :\n",
    "            j -= 1\n",
    "        # 엇갈린 다면 --> 키 값과 j를 교체\n",
    "        if i > j:\n",
    "            temp = data[j]\n",
    "            data[j] = data[key]\n",
    "            data[key] = temp\n",
    "        # 엇갈리지 않았다면,\n",
    "        else:\n",
    "            temp = data[j]\n",
    "            data[j] = data[i]\n",
    "            data[i] = temp\n",
    "    \n",
    "    quick(data,start,j-1)\n",
    "    quick(data,j+1,end)\n",
    "    \n",
    "start = time.time()\n",
    "quick(nums,0,9)\n",
    "end = time.time()\n",
    "print(nums)\n",
    "print(end - start)"
   ]
  },
  {
   "cell_type": "code",
   "execution_count": 54,
   "metadata": {},
   "outputs": [
    {
     "data": {
      "text/plain": [
       "[3, 7, 8, 1, 5, 9, 6, 10, 2, 4]"
      ]
     },
     "execution_count": 54,
     "metadata": {},
     "output_type": "execute_result"
    }
   ],
   "source": [
    "[3, 7, 8, 1, 5, 9, 6, 10, 2, 4]\n",
    "3  2   8  1   5 9 6 10 7 4\n",
    "3  2   1(head)  8(tail)   5 9 6 10 7 4\n",
    "3  2   1(tail)  8(head)   5 9 6 10 7 4\n",
    "이제 엇 갈림 --> 엇갈리면 tail에 해당하는 값과 pivot을 바꾼다.\n",
    "\n",
    "\n",
    "1  2   3(j)   8  5  9 6 10 7 4\n",
    "3은 고정, 왼쪽과 오른쪽을 재귀적으로 반복한다.\n",
    "이때, start >= end이면 return 하는 것을 base로 잡는다\n"
   ]
  },
  {
   "cell_type": "code",
   "execution_count": 79,
   "metadata": {
    "scrolled": true
   },
   "outputs": [
    {
     "name": "stdout",
     "output_type": "stream",
     "text": [
      "0 0 1 1 2 2 3 4 5 5 6 7 8 9 9 \n",
      "0.0005898475646972656\n"
     ]
    }
   ],
   "source": [
    "# 계수 정렬 (O (N + K))\n",
    "# 아이디어 좋다\n",
    "# count해서, 해당만큼 출력하기\n",
    "# range가 너무 크다면, 비효율\n",
    "\n",
    "array = [7,5,9,0,3,1,6,2,9,1,4,8,0,5,2]\n",
    "count = [0] * (max(array)+1)\n",
    "start = time.time()\n",
    "for num in array:\n",
    "    count[num] += 1\n",
    "\n",
    "for i in range(len(count)):\n",
    "    for j in range(count[i]): # count[i] 만큼..\n",
    "        print(i, end= \" \")\n",
    "end = time.time()\n",
    "print()\n",
    "print(end - start)"
   ]
  },
  {
   "cell_type": "code",
   "execution_count": 116,
   "metadata": {},
   "outputs": [
    {
     "data": {
      "text/plain": [
       "[0, 0, 1, 1, 2, 2, 3, 4, 5, 5, 6, 7, 8, 9, 9]"
      ]
     },
     "execution_count": 116,
     "metadata": {},
     "output_type": "execute_result"
    }
   ],
   "source": [
    "# (N + K)\n",
    "\n",
    "array = [7,5,9,0,3,1,6,2,9,1,4,8,0,5,2]\n",
    "count = [0]*(max(array)+1)\n",
    "result = [0]*len(array)\n",
    "#count\n",
    "for i in array:\n",
    "    count[i] += 1\n",
    "\n",
    "#누적합\n",
    "for i in range(len(count)-1):\n",
    "    count[i+1] += count[i]\n",
    "\n",
    "#인덱스 배치\n",
    "'''\n",
    "for i in range(len(count)):\n",
    "    if i == 0:\n",
    "        for j in range(0, count[i]):\n",
    "            result[j] = i\n",
    "    else:\n",
    "        for j in range(count[i-1],count[i]):\n",
    "            result[j] = i\n",
    "'''\n",
    "#count[array[i]]를 잘 생각해보기\n",
    "'''\n",
    "for i in range(len(array)):\n",
    "    result[count[array[i]] -1] = array[i]\n",
    "    count[array[i]] -= 1\n",
    "result\n",
    "'''\n",
    "\n",
    "for i in range(len(array)):\n",
    "    count[array[i]] -= 1\n",
    "    result[count[array[i]]] = array[i]\n",
    "result"
   ]
  },
  {
   "cell_type": "code",
   "execution_count": 80,
   "metadata": {},
   "outputs": [
    {
     "name": "stdout",
     "output_type": "stream",
     "text": [
      "8.988380432128906e-05\n"
     ]
    }
   ],
   "source": [
    "#파이썬에서 제공하는 알고리즘\n",
    "start = time.time()\n",
    "nums = [3, 7, 8, 1, 5, 9, 6, 10, 2, 4]\n",
    "nums.sort()\n",
    "end = time.time()\n",
    "print(end - start)"
   ]
  },
  {
   "cell_type": "markdown",
   "metadata": {},
   "source": [
    "### 두 배열의 원소 교체: 문제 조건"
   ]
  },
  {
   "cell_type": "code",
   "execution_count": 91,
   "metadata": {},
   "outputs": [
    {
     "name": "stdout",
     "output_type": "stream",
     "text": [
      "5 3\n",
      "1 2 5 4 3\n",
      "5 5 6 6 5\n",
      "26\n"
     ]
    }
   ],
   "source": [
    "N, K = map(int, input().split())\n",
    "A = list(map(int, input().split()))\n",
    "B = list(map(int, input().split()))\n",
    "\n",
    "A.sort()\n",
    "B.sort(reverse = True)\n",
    "\n",
    "for i in range(K):\n",
    "    if A[i] < B[i]:\n",
    "        A[i], B[i] = B[i], A[i]\n",
    "    else:\n",
    "        break\n",
    "        \n",
    "print(sum(A))"
   ]
  }
 ],
 "metadata": {
  "kernelspec": {
   "display_name": "Python 3",
   "language": "python",
   "name": "python3"
  },
  "language_info": {
   "codemirror_mode": {
    "name": "ipython",
    "version": 3
   },
   "file_extension": ".py",
   "mimetype": "text/x-python",
   "name": "python",
   "nbconvert_exporter": "python",
   "pygments_lexer": "ipython3",
   "version": "3.8.3"
  }
 },
 "nbformat": 4,
 "nbformat_minor": 4
}
