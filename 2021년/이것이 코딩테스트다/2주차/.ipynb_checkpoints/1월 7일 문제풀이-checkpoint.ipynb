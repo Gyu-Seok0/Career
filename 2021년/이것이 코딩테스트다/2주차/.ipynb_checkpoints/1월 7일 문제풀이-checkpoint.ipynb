{
 "cells": [
  {
   "cell_type": "code",
   "execution_count": 5,
   "metadata": {},
   "outputs": [
    {
     "name": "stdout",
     "output_type": "stream",
     "text": [
      "1 2 3 8 7 4 5 6 "
     ]
    }
   ],
   "source": [
    "#시작 전에 BFS/DFS 몸풀기\n",
    "from collections import deque\n",
    "graph = [\n",
    "    [],    # 0번 노드는 없으므로, 비워둔다.\n",
    "    [2,3,8], #1번 노드와 연결된 노드들\n",
    "    [1,7],\n",
    "    [1,4,5],\n",
    "    [3,5],\n",
    "    [3,4],\n",
    "    [7],\n",
    "    [2,6,8],\n",
    "    [1,7]\n",
    "]\n",
    "\n",
    "visited = [False]*len(graph)\n",
    "#dfs는 스택이나 재귀함수로 문제풀이\n",
    "def dfs(graph,v,visited):\n",
    "    visited[v] = True\n",
    "    print(v, end=\" \")\n",
    "    for i in graph[v]:\n",
    "        if not visited[i]:\n",
    "            dfs(graph,i,visited)\n",
    "#dfs(graph,1,visited)\n",
    "\n",
    "#bfs는 큐를 활용한다.\n",
    "def bfs(graph,start,visited):\n",
    "    queue = deque([start])\n",
    "    visited[start] = True\n",
    "    while queue:\n",
    "        target = queue.popleft()\n",
    "        print(target, end=\" \")\n",
    "        for i in graph[target]:\n",
    "            if not visited[i]:\n",
    "                queue.append(i)\n",
    "                visited[i] = True\n",
    "                \n",
    "bfs(graph,1,visited)\n",
    "    "
   ]
  },
  {
   "cell_type": "markdown",
   "metadata": {},
   "source": [
    "# 18405번 경쟁적 전염\n",
    "\n",
    "알고리즘 구상:\n",
    "\n",
    "1) 1부터 3을 순차적으로 search, --> 함수구현하기\n",
    "\n",
    "2) 상하좌우로 이동해서 해당 값이 0이면, 값을 집어넣기 --> 방향벡터 이용\n",
    "\n",
    "3) 이를 정해진 시간초만큼 수행한다."
   ]
  },
  {
   "cell_type": "code",
   "execution_count": 54,
   "metadata": {
    "scrolled": true
   },
   "outputs": [
    {
     "name": "stdout",
     "output_type": "stream",
     "text": [
      "3 3\n",
      "1 0 2\n",
      "0 0 0\n",
      "3 0 0\n"
     ]
    }
   ],
   "source": [
    "N,K = map(int, input().split())\n",
    "graph= [ list(map(int, input().split())) for _ in range(N)]"
   ]
  },
  {
   "cell_type": "code",
   "execution_count": null,
   "metadata": {},
   "outputs": [],
   "source": []
  },
  {
   "cell_type": "code",
   "execution_count": 90,
   "metadata": {},
   "outputs": [
    {
     "name": "stdout",
     "output_type": "stream",
     "text": [
      "2 3 2\n"
     ]
    }
   ],
   "source": [
    "s,x,y = map(int, input().split())"
   ]
  },
  {
   "cell_type": "code",
   "execution_count": 104,
   "metadata": {},
   "outputs": [
    {
     "data": {
      "text/plain": [
       "[[1, 0, 2], [0, 0, 0], [3, 0, 0]]"
      ]
     },
     "execution_count": 104,
     "metadata": {},
     "output_type": "execute_result"
    }
   ],
   "source": [
    "from copy import deepcopy \n",
    "graph = deepcopy(graph2)\n",
    "graph"
   ]
  },
  {
   "cell_type": "code",
   "execution_count": 105,
   "metadata": {},
   "outputs": [
    {
     "name": "stdout",
     "output_type": "stream",
     "text": [
      "[[1, 0, 2], [1, 0, 0], [3, 0, 0]]\n",
      "[[1, 1, 2], [1, 0, 0], [3, 0, 0]]\n",
      "[[1, 1, 2], [1, 0, 2], [3, 0, 0]]\n",
      "[[1, 1, 2], [1, 0, 2], [3, 3, 0]]\n",
      "[[1, 1, 2], [1, 1, 2], [3, 3, 0]]\n",
      "[[1, 1, 2], [1, 1, 2], [3, 3, 2]]\n",
      "3\n"
     ]
    }
   ],
   "source": [
    "from collections import deque\n",
    "\n",
    "N,K = map(int, input().split())\n",
    "graph= [ list(map(int, input().split())) for _ in range(N)]\n",
    "queue = deque()\n",
    "dx = [-1,1,0,0]\n",
    "dy = [0,0,-1,1]\n",
    "\n",
    "def search():\n",
    "    for i in range(N):\n",
    "        for j in range(N):\n",
    "            if graph[i][j] != 0:\n",
    "                queue.append([i,j,graph[i][j]])\n",
    "    \n",
    "    birus = 1\n",
    "    start_x, start_y = (-1,-1)\n",
    "    first = True\n",
    "    while queue:\n",
    "        temp_x, temp_y, num = queue.popleft()\n",
    "        if start_x == temp_x and start_y == temp_y:\n",
    "            birus += 1\n",
    "            first = True\n",
    "            \n",
    "        if num != birus:\n",
    "            queue.append([temp_x,temp_y,num])\n",
    "            if first == True:\n",
    "                start_x, start_y = temp_x, temp_y\n",
    "                first = False\n",
    "        else:\n",
    "            for i in range(4):\n",
    "                nx = temp_x+dx[i]\n",
    "                ny = temp_y+dy[i]\n",
    "                if nx < 0 or nx >= N or ny <0 or ny >=N:\n",
    "                    continue\n",
    "                else:\n",
    "                    if graph[nx][ny] == 0:\n",
    "                        graph[nx][ny] = num\n",
    "        \n",
    "for i in range(s):\n",
    "    search()\n",
    "    \n",
    "    \n",
    "print(graph[x-1][y-1])"
   ]
  },
  {
   "cell_type": "code",
   "execution_count": 98,
   "metadata": {
    "scrolled": true
   },
   "outputs": [
    {
     "data": {
      "text/plain": [
       "[[1, 2, 2], [3, 3, 2], [3, 3, 3]]"
      ]
     },
     "execution_count": 98,
     "metadata": {},
     "output_type": "execute_result"
    }
   ],
   "source": [
    "graph"
   ]
  },
  {
   "cell_type": "code",
   "execution_count": 87,
   "metadata": {},
   "outputs": [
    {
     "ename": "NameError",
     "evalue": "name 'start_x' is not defined",
     "output_type": "error",
     "traceback": [
      "\u001b[0;31m---------------------------------------------------------------------------\u001b[0m",
      "\u001b[0;31mNameError\u001b[0m                                 Traceback (most recent call last)",
      "\u001b[0;32m<ipython-input-87-6b415912a6fa>\u001b[0m in \u001b[0;36m<module>\u001b[0;34m\u001b[0m\n\u001b[0;32m----> 1\u001b[0;31m \u001b[0mstart_x\u001b[0m\u001b[0;34m\u001b[0m\u001b[0;34m\u001b[0m\u001b[0m\n\u001b[0m",
      "\u001b[0;31mNameError\u001b[0m: name 'start_x' is not defined"
     ]
    }
   ],
   "source": [
    "start_x"
   ]
  },
  {
   "cell_type": "code",
   "execution_count": 34,
   "metadata": {},
   "outputs": [
    {
     "data": {
      "text/plain": [
       "[[1, 1, 2], [1, 1, 2], [3, 3, 2]]"
      ]
     },
     "execution_count": 34,
     "metadata": {},
     "output_type": "execute_result"
    }
   ],
   "source": [
    "dx = [-1,1,0,0]\n",
    "dy = [0,0,-1,1]\n",
    "\n",
    "# 이렇게하면 문제가 있다 --> 시간의 개념을 무시\n",
    "cnt = 0\n",
    "while(cnt < s):\n",
    "    q = deque()\n",
    "    for i in range(N):\n",
    "        for j in range(N):\n",
    "            for k in range(1,K+1):\n",
    "                if graph[i][j] == k:\n",
    "                    for l in range(4):\n",
    "                        nx = i+dx[l]\n",
    "                        ny = j+dy[l]\n",
    "                        if nx < 0 or nx >= N or ny <0 or ny >=N:\n",
    "                            continue\n",
    "                        else:\n",
    "                            if graph[nx][ny] == 0:\n",
    "                                q.append([nx,ny,k])\n",
    "    while q:\n",
    "        temp_x, temp_y, num = q.pop()\n",
    "        graph[temp_x][temp_y] = num\n",
    "\n",
    "    cnt += 1\n",
    "print(graph[x-1][y-1])\n"
   ]
  },
  {
   "cell_type": "code",
   "execution_count": 76,
   "metadata": {},
   "outputs": [],
   "source": [
    "q = deque([[1, 0, 1], [1, 2, 2], [2, 0, 3], [2, 1, 3], [0, 1, 1], [0, 2, 2]])"
   ]
  },
  {
   "cell_type": "code",
   "execution_count": 78,
   "metadata": {},
   "outputs": [],
   "source": [
    "a,b,c = q.popleft()"
   ]
  },
  {
   "cell_type": "code",
   "execution_count": 79,
   "metadata": {},
   "outputs": [
    {
     "data": {
      "text/plain": [
       "1"
      ]
     },
     "execution_count": 79,
     "metadata": {},
     "output_type": "execute_result"
    }
   ],
   "source": [
    "a"
   ]
  },
  {
   "cell_type": "code",
   "execution_count": 80,
   "metadata": {},
   "outputs": [
    {
     "data": {
      "text/plain": [
       "0"
      ]
     },
     "execution_count": 80,
     "metadata": {},
     "output_type": "execute_result"
    }
   ],
   "source": [
    "b"
   ]
  },
  {
   "cell_type": "code",
   "execution_count": 81,
   "metadata": {},
   "outputs": [
    {
     "data": {
      "text/plain": [
       "1"
      ]
     },
     "execution_count": 81,
     "metadata": {},
     "output_type": "execute_result"
    }
   ],
   "source": [
    "c"
   ]
  },
  {
   "cell_type": "code",
   "execution_count": null,
   "metadata": {},
   "outputs": [],
   "source": []
  }
 ],
 "metadata": {
  "kernelspec": {
   "display_name": "Python 3",
   "language": "python",
   "name": "python3"
  },
  "language_info": {
   "codemirror_mode": {
    "name": "ipython",
    "version": 3
   },
   "file_extension": ".py",
   "mimetype": "text/x-python",
   "name": "python",
   "nbconvert_exporter": "python",
   "pygments_lexer": "ipython3",
   "version": "3.8.3"
  }
 },
 "nbformat": 4,
 "nbformat_minor": 4
}
