{
 "cells": [
  {
   "cell_type": "markdown",
   "metadata": {},
   "source": [
    "# 다이나믹 프로그래밍\n",
    "목적: 메모리를 적절히 사용하여, 수행시간 효율성을 비약적으로 향상시킨다\n",
    "\n",
    "이미 계산된 결과는 메모리 영역에 저장 --> 다시 계산하지 않음\n",
    "\n",
    "일반적으로 탑다운 or 보텀업 방식이 존재한다.\n",
    "\n",
    "## 동적계획법이라고도 부름\n",
    "\n",
    "일반적인 프로그램에서 동적: Dynamic Allocation처럼 프로그램이 실행되는 도중에 실행에 필요한 메모리를 할당할 때 쓰임.\n",
    "\n",
    "그러나 알고리즘에서는 큰 의미가 존재하지 않음\n",
    "\n",
    "## 다이나믹 프로그래밍의 조건\n",
    "\n",
    "1) 최적부분구조 (optimal substructure)\n",
    ": 큰 문제를 작은문제로 나누어서, 작은 문제들의 답을 모아서 정답을 해결한다.\n",
    "\n",
    "2) 중복되는 부분문제 (Overlapping Subproblem)\n",
    ": 동일한 작은 문제를 반복적으로 해결한다.\n",
    "\n"
   ]
  },
  {
   "cell_type": "code",
   "execution_count": 2,
   "metadata": {},
   "outputs": [
    {
     "name": "stdout",
     "output_type": "stream",
     "text": [
      "3\n"
     ]
    }
   ],
   "source": [
    "# 예제1 피보나치 수열 --> 트리구조(?)\n",
    "# 아래처럼 하면, 시간효율이 좋지 못함\n",
    "def fibo(n):\n",
    "    if n == 1 or n == 2:\n",
    "        return 1\n",
    "    return fibo(n-1) + fibo(n-2)\n",
    "\n",
    "print(fibo(4))"
   ]
  },
  {
   "cell_type": "markdown",
   "metadata": {},
   "source": [
    "# 메모이제이션(Memoization)\n",
    "\n",
    "한 번 계산한 결과를 메모리 공간에 메모하는 기법\n",
    "\n",
    "별도의 값을 기록하기 때문에 캐싱(Caching)이라고도 함 <--> 해싱은 뭐더라??\n"
   ]
  },
  {
   "cell_type": "markdown",
   "metadata": {},
   "source": [
    "# 탑다운 vs 보텀업\n",
    "\n",
    "탑다운 방식은 하향식, 보텀업은 상향식\n",
    "\n",
    "다이나믹 프로그래밍은 일반적으로 보텀업 --> 결과 저장용 리스트를 DP테이블\n",
    "\n"
   ]
  },
  {
   "cell_type": "code",
   "execution_count": 34,
   "metadata": {},
   "outputs": [
    {
     "name": "stdout",
     "output_type": "stream",
     "text": [
      "f(6) f(5) f(4) f(3) f(2) f(1) f(2) f(3) f(4) 8\n",
      "0.004392147064208984\n"
     ]
    }
   ],
   "source": [
    "#DP테이블로 문제를 풀어보자\n",
    "#탑다운방식 --> 하향식 \n",
    "import time\n",
    "\n",
    "d = [0] * 1000\n",
    "\n",
    "def fibo(n):\n",
    "    print('f('+str(n) + ')', end = \" \")\n",
    "    if n == 1 or n == 2:\n",
    "        return 1\n",
    "    \n",
    "    if d[n] != 0:\n",
    "        return d[n]\n",
    "    \n",
    "    d[n] = fibo(n-1) + fibo(n-2)\n",
    "    return d[n]\n",
    "\n",
    "start = time.time()\n",
    "print(fibo(6))\n",
    "end = time.time()\n",
    "\n",
    "print(end - start)"
   ]
  },
  {
   "cell_type": "code",
   "execution_count": 31,
   "metadata": {},
   "outputs": [
    {
     "name": "stdout",
     "output_type": "stream",
     "text": [
      "99\n",
      "218922995834555169026\n",
      "0.0005619525909423828\n"
     ]
    }
   ],
   "source": [
    "# 보텀업 방식\n",
    "# 작은 문제들을 해결해서, 큰 문제를 해결한다.\n",
    "\n",
    "d = [0] * 100\n",
    "d[1] = 1\n",
    "d[2] = 1\n",
    "n = int(input())\n",
    "\n",
    "for i in range(3,n+1):\n",
    "    d[i] = d[i-1] + d[i-2]\n",
    "\n",
    "start = time.time()\n",
    "print(d[n])\n",
    "end = time.time()\n",
    "print(end - start)"
   ]
  },
  {
   "cell_type": "markdown",
   "metadata": {},
   "source": [
    "# 다이나믹 프로그래밍 vs 분할정복\n",
    "공통점: 최적 부분 구조를 가질 때 사용 (큰 문제를 작은 문제로 나눠서)\n",
    "\n",
    "분할정복: 부분 문제의 중복 (피보나치와 같은 문제는 작은문제가 계속 반복되지만, 퀵 정렬은 그렇지 않음)\n",
    "\n",
    "퀵 정렬에서 하나의 pivot 위치가 고정되면, 해당 pivot은 다른 문제에 포함되지 않고 고정됌."
   ]
  },
  {
   "cell_type": "markdown",
   "metadata": {},
   "source": [
    "# 다이나믹 프로그램 접근\n",
    "\n",
    "1) 그리디, 구현, 완전 탐색 등의 아이디어로 해결 가능한지 check\n",
    "\n",
    "2) 그리고 다이나믹으로 문제해결 --> 비효율적인 완전탐색 --> 코드개선\n",
    "\n",
    "3) 기본유형의 다이나믹 프로그래밍 문제가 출제"
   ]
  },
  {
   "cell_type": "code",
   "execution_count": 35,
   "metadata": {},
   "outputs": [
    {
     "name": "stdout",
     "output_type": "stream",
     "text": [
      "4\n",
      "1 3 1 5\n"
     ]
    }
   ],
   "source": [
    "N = int(input())\n",
    "food = list(map(int,input().split()))\n"
   ]
  },
  {
   "cell_type": "code",
   "execution_count": 42,
   "metadata": {},
   "outputs": [
    {
     "name": "stdout",
     "output_type": "stream",
     "text": [
      "8\n"
     ]
    }
   ],
   "source": [
    "'''\n",
    "계속해서 최적해를 저장해간다 --> dijstra 알고리즘이랑 비슷한듯(?)\n",
    "나는 해당 집의 최대 값을 구했음 <-> 동빈이는 누적된 최대값\n",
    "'''\n",
    "\n",
    "get = [0]*N \n",
    "get[0] = food[0] #0번째집\n",
    "get[1] = food[1] #1번째집\n",
    "\n",
    "for i in range(2,N): #2번째집부터는 자기 집이랑 한칸 떨어진 집 제외하고 최대값이랑 합치면 됌\n",
    "    get[i] = food[i] + max(get[:i-1])\n",
    "    \n",
    "print(max(get))"
   ]
  },
  {
   "cell_type": "code",
   "execution_count": 45,
   "metadata": {},
   "outputs": [
    {
     "name": "stdout",
     "output_type": "stream",
     "text": [
      "8\n"
     ]
    }
   ],
   "source": [
    "# 동빈's \n",
    "\n",
    "a = [0]*N\n",
    "a[0] = food[0]\n",
    "a[1] = max(food[1], food[0])\n",
    "\n",
    "for i in range(2,N):\n",
    "    a[i] = max(a[i-1],a[i-2]+food[i])\n",
    "\n",
    "print(a[N-1])"
   ]
  },
  {
   "cell_type": "markdown",
   "metadata": {},
   "source": [
    "### 1로 만들기 문제\n",
    "bottom-up 방식..(?)\n",
    "\n",
    "1,2,3,4,5,6,7"
   ]
  },
  {
   "cell_type": "code",
   "execution_count": null,
   "metadata": {},
   "outputs": [],
   "source": [
    "X가 5로 나누기\n",
    "X가 3으로 나누기\n",
    "X를 2로 나누기\n",
    "X를 1로 빼기\n",
    "\n",
    "1로 만드는 최소횟수"
   ]
  },
  {
   "cell_type": "code",
   "execution_count": 65,
   "metadata": {},
   "outputs": [
    {
     "name": "stdout",
     "output_type": "stream",
     "text": [
      "26\n"
     ]
    }
   ],
   "source": [
    "N = int(input())\n",
    "d = [0] * (N+1)\n",
    "\n",
    "for i in range(1,N+1):\n",
    "    if i == 2 or i == 3 or i == 5:\n",
    "        d[i] = 1\n",
    "    else:\n",
    "        if i % 5 == 0:\n",
    "            d[i] = min(d[i//5]+1, d[i-1]+1)\n",
    "        elif i % 3 == 0:\n",
    "            d[i] = min(d[i//3]+1, d[i-1]+1)\n",
    "        elif i % 2 == 0:\n",
    "            d[i] = min(d[i//2]+1, d[i-1]+1)\n",
    "        else:\n",
    "            d[i] = d[i-1] + 1\n",
    "# 1로 뺴는 걸 먼저잡고 --> 2나누기 --> 3나누기 --> 5나누기 형태로 가는 걸로 이해하기 \n"
   ]
  },
  {
   "cell_type": "code",
   "execution_count": 64,
   "metadata": {},
   "outputs": [
    {
     "name": "stdout",
     "output_type": "stream",
     "text": [
      "26\n",
      "3\n"
     ]
    }
   ],
   "source": [
    "x = int(input())\n",
    "\n",
    "d = [0]*30001\n",
    "\n",
    "for i in range(2, x+1):\n",
    "    #현재 경우에서 1을 뺀다.\n",
    "    d[i] = d[i-1] + 1\n",
    "    if i%2 == 0:\n",
    "        d[i] = min(d[i], d[i//2] +1)\n",
    "    if i%3 == 0:\n",
    "        d[i] = min(d[i], d[i//3] + 1)\n",
    "    if i%5 == 0:\n",
    "        d[i] = min(d[i], d[i//5] +1)\n",
    "\n",
    "print(d[x])"
   ]
  },
  {
   "cell_type": "code",
   "execution_count": 68,
   "metadata": {},
   "outputs": [
    {
     "name": "stdout",
     "output_type": "stream",
     "text": [
      "10\n",
      "3\n"
     ]
    }
   ],
   "source": [
    "#백준 1463번 문제\n",
    "N = int(input())\n",
    "d = [0] * (N+1)\n",
    "\n",
    "for i in range(2,N+1):\n",
    "    temp1, temp2 = 1e10,1e10\n",
    "    if i == 2 or i == 3:\n",
    "        d[i] = 1\n",
    "    else:\n",
    "        if i % 3 == 0:\n",
    "            temp1 = d[i//3]\n",
    "        if i % 2 == 0:\n",
    "            temp2 = d[i//2]\n",
    "        d[i] = min(temp1, temp2, d[i-1]) +1\n",
    "print(d[N]) # 10 --> 9 --> 3 -- > 1 (3번 연산 수행)"
   ]
  },
  {
   "cell_type": "code",
   "execution_count": 71,
   "metadata": {},
   "outputs": [
    {
     "name": "stdout",
     "output_type": "stream",
     "text": [
      "3 4\n",
      "3\n",
      "5\n",
      "7\n",
      "-1\n"
     ]
    }
   ],
   "source": [
    "# 화폐종류, 원하는 값\n",
    "# 그리디로 해결했음..\n",
    "\n",
    "N,M = map(int, input().split()) \n",
    "coins = [int(input()) for i in range(N)]\n",
    "coins.sort(reverse = True)\n",
    "\n",
    "cnt = 0\n",
    "for coin in coins:\n",
    "    if M - coin < 0:\n",
    "        continue\n",
    "    else:\n",
    "        cnt += M // coin\n",
    "        M = M % coin\n",
    "\n",
    "if M != 0:\n",
    "    print(-1)\n",
    "else:\n",
    "    print(cnt)"
   ]
  },
  {
   "cell_type": "code",
   "execution_count": 80,
   "metadata": {},
   "outputs": [
    {
     "name": "stdout",
     "output_type": "stream",
     "text": [
      "2 15\n",
      "2\n",
      "3\n",
      "5\n"
     ]
    }
   ],
   "source": [
    "n,m = map(int, input().split())\n",
    "array = []\n",
    "for i in range(n):\n",
    "    array.append(int(input()))\n",
    "    \n",
    "d = [10001]*(m+1)\n",
    "d[0] = 0\n",
    "\n",
    "for i in range(n):\n",
    "    for j in range(array[i], m+1): # 2원부터 갱신\n",
    "        if d[j - array[i]] != 10001:\n",
    "            d[j] = min(d[j - array[i]] + 1 ,d[j])\n",
    "            \n",
    "if d[m] == 10001:\n",
    "    print(-1)\n",
    "else:\n",
    "    print(d[m])"
   ]
  },
  {
   "cell_type": "markdown",
   "metadata": {},
   "source": [
    "# 금광문제"
   ]
  },
  {
   "cell_type": "code",
   "execution_count": 140,
   "metadata": {},
   "outputs": [
    {
     "name": "stdout",
     "output_type": "stream",
     "text": [
      "1\n",
      "4 4\n",
      "1 3 1 5 2 2 4 1 5 0 2 3 0 6 1 2 \n",
      "[1, 2, 5, 0]\n",
      "[3, 2, 0, 6]\n",
      "[1, 4, 2, 1]\n",
      "[5, 1, 3, 2]\n",
      "20\n"
     ]
    }
   ],
   "source": [
    "T = int(input())\n",
    "\n",
    "def solution(row,col,Gold):\n",
    "    result = []\n",
    "    for i in range(col): #col에서\n",
    "        temp = []\n",
    "        for j in range(0,len(Gold),col): #col 인가?\n",
    "            temp.append(Gold[i+j])\n",
    "        print(temp)\n",
    "        result.append(max(temp))\n",
    "    answer = sum(result)\n",
    "    print(answer)\n",
    "\n",
    "\n",
    "for i in range(T):\n",
    "    row,col = map(int,input().split())\n",
    "    Gold = list(map(int,input().split()))\n",
    "    solution(row,col,Gold)\n",
    "\n",
    "\n"
   ]
  },
  {
   "cell_type": "code",
   "execution_count": null,
   "metadata": {},
   "outputs": [],
   "source": [
    "1 3 1 5 2 2 4 1 5 0 2 3 0 6 1 2 "
   ]
  },
  {
   "cell_type": "code",
   "execution_count": null,
   "metadata": {},
   "outputs": [],
   "source": [
    "#잘못생각했다..\n",
    "for i in "
   ]
  }
 ],
 "metadata": {
  "kernelspec": {
   "display_name": "Python 3",
   "language": "python",
   "name": "python3"
  },
  "language_info": {
   "codemirror_mode": {
    "name": "ipython",
    "version": 3
   },
   "file_extension": ".py",
   "mimetype": "text/x-python",
   "name": "python",
   "nbconvert_exporter": "python",
   "pygments_lexer": "ipython3",
   "version": "3.8.3"
  }
 },
 "nbformat": 4,
 "nbformat_minor": 4
}
