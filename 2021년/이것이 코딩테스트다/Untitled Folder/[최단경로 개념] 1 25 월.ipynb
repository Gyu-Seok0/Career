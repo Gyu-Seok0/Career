{
 "cells": [
  {
   "cell_type": "markdown",
   "metadata": {},
   "source": [
    "### 다익스트라 알고리즘\n",
    "\n",
    "매 상황에서 가장 비용이 적은 노드를 선택해 임의의 과정을 반복한다.\n",
    "\n",
    "길 찾기 문제는 기본 적으로,다이나믹 프로그래밍으로도 이해 가능하다.\n",
    "\n",
    "그렇지만, 다익스트라 알고리즘은 <b> 그리디 알고리즘 </b>의 개념을 사용한다.\n"
   ]
  },
  {
   "cell_type": "markdown",
   "metadata": {},
   "source": [
    "### 동작 과정\n",
    "\n",
    "1. 출발 노드 설정\n",
    "\n",
    "2. 최단 거리 테이블 초기화\n",
    "\n",
    "3. 방문하지 않은 노드 중 최단거리가 가장 짧은 노드를 선택\n",
    "\n",
    "4. 해당 노드를 거쳐 다른 노드로 가는 비용을 계산하여 최단 거리 테이블 갱신\n",
    "\n",
    "5. 3~4번 과정을 반복한다.\n",
    "\n",
    "<단순 과정: O(V2) >"
   ]
  },
  {
   "cell_type": "code",
   "execution_count": 1,
   "metadata": {},
   "outputs": [
    {
     "name": "stdout",
     "output_type": "stream",
     "text": [
      "2 3\n",
      "1\n"
     ]
    }
   ],
   "source": [
    "# 무한\n",
    "INF = int(1e9)\n",
    "# 노드의 개수, 간선의 개수\n",
    "n,m = map(int, input().split())\n",
    "# 시작 노드\n",
    "start = int(input())\n",
    "# 각 노드에 대한 연결되어 있는 정보 담기\n",
    "graph  = [[] for i in range(n+1)]\n",
    "# 방문한 적 있는지 check\n",
    "visited = [False]* (n+1)\n",
    "# 최단거리를 모두 무한대로 초기화\n",
    "distance = [INF] * (n+1)\n",
    "\n",
    "# 모든 간선 정보 입력받기\n",
    "for _ in range(m):\n",
    "    a,b,c = map(int, input().split())\n",
    "    graph[a].append((b,c))\n",
    "\n",
    "# 방문하지 않은 노드 중에서, 가장 최단거리가 짧은 노드의 번호를 반환\n",
    "def get_smallest_node():\n",
    "    min_value = INF\n",
    "    index = 0\n",
    "    for i in range(1,n+1):\n",
    "        if distance[i] < min_value and not visited[i]:\n",
    "            min_value = distance[i]\n",
    "            index = i\n",
    "    return index\n",
    "\n",
    "def dijkstra(start):\n",
    "    # 시작 노드에 대해 초기화\n",
    "    distance[start] = 0\n",
    "    visited[start] = True\n",
    "    \n",
    "    for j in graph[start]: # (b,c)로 묶여있으니까\n",
    "        distance[j[0]] = j[1]\n",
    "    \n",
    "    for i in range(n-1):\n",
    "        now = get_smallest_node()\n",
    "        visited[now] = True\n",
    "        for j in graph[now]:\n",
    "            cost = distance[now] + j[1]\n",
    "            if cost < distance[j[0]]:\n",
    "                distance[j[0]] = cost\n",
    "# 실행\n",
    "dijkstra(start)\n",
    "# 출력\n",
    "for i in range(1,n+1):\n",
    "    if distance[i] == INF:\n",
    "        print(\"무한\")\n",
    "    else:\n",
    "        print(distance[i])"
   ]
  },
  {
   "cell_type": "markdown",
   "metadata": {},
   "source": [
    "### 우선순위 큐\n",
    "\n",
    "삽입과 삭제에 있어서 O(logN)"
   ]
  },
  {
   "cell_type": "code",
   "execution_count": 6,
   "metadata": {},
   "outputs": [
    {
     "name": "stdout",
     "output_type": "stream",
     "text": [
      "[1, 3, 5, 10, 7]\n",
      "[1, 3, 5, 7, 10]\n"
     ]
    }
   ],
   "source": [
    "import heapq\n",
    "\n",
    "def heapsort(iterable):\n",
    "    h = []\n",
    "    result = []\n",
    "    # 힙에 넣기\n",
    "    for value in iterable:\n",
    "        heapq.heappush(h, value)\n",
    "    print(h)\n",
    "    # 힙에 삽입된 원서를 차례대로 꺼내어 담기\n",
    "    for i in range(len(h)):\n",
    "        result.append(heapq.heappop(h))\n",
    "    return result\n",
    "\n",
    "result = heapsort([1,10,5,7,3])\n",
    "print(result)"
   ]
  },
  {
   "cell_type": "code",
   "execution_count": null,
   "metadata": {},
   "outputs": [],
   "source": [
    "import heapq\n",
    "# 무한\n",
    "INF = int(1e9)\n",
    "# 노드의 개수, 간선의 개수\n",
    "n,m = map(int, input().split())\n",
    "# 시작 노드\n",
    "start = int(input())\n",
    "# 각 노드에 대한 연결되어 있는 정보 담기\n",
    "graph  = [[] for i in range(n+1)]\n",
    "\n",
    "# 최단거리를 모두 무한대로 초기화\n",
    "distance = [INF] * (n+1)\n",
    "\n",
    "# 모든 간선 정보 입력받기\n",
    "for _ in range(m):\n",
    "    a,b,c = map(int, input().split())\n",
    "    graph[a].append((b,c))\n",
    "\n",
    "def dijkstra(start):\n",
    "    q = []\n",
    "    # 시작 노드에 대해 초기화\n",
    "    heapq.heappush(q, (0,start))\n",
    "    distance[start] = 0\n",
    "    while q:\n",
    "        dist, now = heapq.heappop(q)\n",
    "        #현재 꺼낸 노드의 거리값이 작다면, 이미 처리된 것으로 간주 \n",
    "        if distance[now] < dist:\n",
    "            continue\n",
    "        \n",
    "        #현재 노드와 연결된 다른 인접한 노드들을 확인\n",
    "        for i in graph[now]:\n",
    "            cost = dist + i[1]\n",
    "            if cost < distance[i[0]]:\n",
    "                distance[i[0]] = cost\n",
    "                heapq.heappush(q, (cost, i[0]))\n",
    "        \n",
    "# 실행\n",
    "dijkstra(start)\n",
    "# 출력\n",
    "for i in range(1,n+1):\n",
    "    if distance[i] == INF:\n",
    "        print(\"무한\")\n",
    "    else:\n",
    "        print(distance[i])"
   ]
  },
  {
   "cell_type": "markdown",
   "metadata": {},
   "source": [
    "### 플로이드 워셜 알고리즘\n",
    "\n",
    "모든 노드에서 다른 모든 노드까지의 최단경로\n",
    "\n",
    "매 단계마다 방문하지 않은 노드 중에서 최단거리를 갖는 노드를 찾는 과정이 필요하지 않다.\n",
    "\n",
    "다이나믹 프로그래밍 유형에 속한다.\n",
    "\n",
    "2차원 테이블에 최단거리 저장\n",
    "\n",
    "Dab = min(Dab,Dak + Dkb)"
   ]
  },
  {
   "cell_type": "code",
   "execution_count": null,
   "metadata": {},
   "outputs": [],
   "source": [
    "INF = int(1e9)\n",
    "\n",
    "# 노드 및 간선의 개수 \n",
    "n = int(input())\n",
    "m = int(input())\n",
    "\n",
    "# 2차원 리스트\n",
    "graph = [[INF]*(n+1) for _ in range(n+1)]\n",
    "\n",
    "# 자기 자기신에서 자기 자신으로 가는 비용은 0으로 초기화\n",
    "for a in range(1,n+1):\n",
    "    for b in range(1,n+1):\n",
    "        if a == b:\n",
    "            graph[a][b] = 0\n",
    "# 각 간선에 대한 정보 입력 받기\n",
    "for _ in range(m):\n",
    "    a, b, c = map(int, input().split())\n",
    "    graph[a][b] = c\n",
    "\n",
    "# 점화식에 따라 플로이드 워셜 알고리즘을 수행\n",
    "for k in range(1, n+1):\n",
    "    for a in range(1, n+1):\n",
    "        for b in range(1,n+1):\n",
    "            graph[a][b] = min (graph[a][b], graph[a][k] + graph[k][b])\n",
    "# 출력\n",
    "for a in range(1, n+1):\n",
    "    for b in range(1, n+1):\n",
    "        if graph[a][b] == INF:\n",
    "            print(\"무한\", end = \" \")\n",
    "        else:\n",
    "            print(graph[a][b], end = \" \")\n",
    "    print()"
   ]
  },
  {
   "cell_type": "markdown",
   "metadata": {},
   "source": [
    "플로이드 워셜은, 하나의 노드 거쳐서 이동했을 때가 기준이 되고 --> 점화식을 바탕으로 다이나믹 프로그래밍을 사용가능\n",
    "\n",
    "다익스트라 알고리즘은 매번 최단 거리가 되는 노드를 찾고, 그 안에서 연결된 값들을 갱신하여 위 과정을 반복 --> 우선순위 큐 사용한다. \n"
   ]
  },
  {
   "cell_type": "code",
   "execution_count": 7,
   "metadata": {},
   "outputs": [
    {
     "name": "stdout",
     "output_type": "stream",
     "text": [
      "3 2 1\n",
      "1 2 4\n",
      "1 3 2\n"
     ]
    }
   ],
   "source": [
    "# 전보\n",
    "# 도시, 통, 메시지를 보내는 도시\n",
    "n, m, start = map(int, input().split())\n",
    "\n",
    "graph = [[] for i in range(n+1)]\n",
    "\n",
    "for _ in range(m):\n",
    "    a,b,c = map(int,input().split())\n",
    "    graph[a].append((b,c)) #노드와 거리"
   ]
  },
  {
   "cell_type": "code",
   "execution_count": 25,
   "metadata": {},
   "outputs": [
    {
     "name": "stdout",
     "output_type": "stream",
     "text": [
      "2 4\n"
     ]
    }
   ],
   "source": [
    "import heapq\n",
    "\n",
    "INF = int(1e9)\n",
    "distance = [INF] * (n+1)\n",
    "\n",
    "def dijkstra(start):\n",
    "    q = []    \n",
    "    heapq.heappush(q,(0,start)) #거리와 노드\n",
    " \n",
    "    while q:\n",
    "         dist,now = heapq.heappop(q)\n",
    "\n",
    "        # 이미 지나온 곳이라면 pass\n",
    "        if distance[now] < dist:\n",
    "            continue\n",
    "        # 거리를 계속 갱신한다.\n",
    "        for i in graph[now]:\n",
    "            cost = dist + i[1] #거리\n",
    "            if cost < distance[i[0]]: #도시\n",
    "                distance[i[0]] = cost\n",
    "                heapq.heappush(q,(cost, i[0]))\n",
    "\n",
    "                \n",
    "# 실행      \n",
    "dijkstra(start)                \n",
    "                \n",
    "city = 0\n",
    "max_value = 0\n",
    "\n",
    "for value in distance:\n",
    "    if value != INF:\n",
    "        city += 1\n",
    "        max_value = max(max_value, value)\n",
    "    \n",
    "print(city, max_value)"
   ]
  },
  {
   "cell_type": "code",
   "execution_count": 35,
   "metadata": {},
   "outputs": [
    {
     "name": "stdout",
     "output_type": "stream",
     "text": [
      "5 7\n",
      "1 2\n",
      "1 3\n",
      "1 4\n",
      "2 4\n",
      "3 4\n",
      "3 5\n",
      "4 5\n",
      "4 5\n"
     ]
    }
   ],
   "source": [
    "# 미래도시\n",
    "# 1번회사에서 출발하여 K번 회사를 방문한뒤 X번 회사로 이동\n",
    "INF = int(1e9)\n",
    "n, m = map(int, input().split())\n",
    "graph = [[INF]*(n+1) for _ in range(n+1)]\n",
    "\n",
    "for a in range(n+1):\n",
    "    for b in range(n+1):\n",
    "        if a == b:\n",
    "            graph[a][b] = 0\n",
    "\n",
    "# 입력 받기\n",
    "for i in range(path):\n",
    "    a,b = map(int, input().split())\n",
    "    graph[a][b] = 1\n",
    "    graph[b][a] = 1\n",
    "    \n",
    "X,K = map(int, input().split())\n",
    "\n",
    "#플로이드 워셜 알고리즘\n",
    "for k in range(1,n+1):\n",
    "    for a in range(1,n+1):\n",
    "        for b in range(1,n+1):\n",
    "            graph[a][b] = min(graph[a][b], graph[a][k]+graph[k][b])\n",
    "\n",
    "answer = graph[1][K] + graph[K][X]\n",
    "if answer >= INF:\n",
    "    print(-1)\n",
    "else:\n",
    "    print(answer)"
   ]
  }
 ],
 "metadata": {
  "kernelspec": {
   "display_name": "Python 3",
   "language": "python",
   "name": "python3"
  },
  "language_info": {
   "codemirror_mode": {
    "name": "ipython",
    "version": 3
   },
   "file_extension": ".py",
   "mimetype": "text/x-python",
   "name": "python",
   "nbconvert_exporter": "python",
   "pygments_lexer": "ipython3",
   "version": "3.8.3"
  }
 },
 "nbformat": 4,
 "nbformat_minor": 4
}
