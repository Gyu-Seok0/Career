{
 "cells": [
  {
   "cell_type": "code",
   "execution_count": null,
   "metadata": {},
   "outputs": [],
   "source": [
    "# 금광문제 + 병사배치 문제부터 시작\n",
    "# 다이나믹의 핵심은 이전 내용을 저장해서, 해결하는 것에 있다\n",
    "# 점화식 사용\n",
    "\n",
    "4 4 \n",
    "1 3 1 5 2 2 4 1 5 0 2 3 0 6 1 2\n"
   ]
  },
  {
   "cell_type": "code",
   "execution_count": 48,
   "metadata": {
    "scrolled": true
   },
   "outputs": [
    {
     "name": "stdout",
     "output_type": "stream",
     "text": [
      "1\n",
      "4 4\n",
      "1 3 1 5 2 2 4 1 5 0 2 3 0 6 1 2\n",
      "16\n"
     ]
    }
   ],
   "source": [
    "#금광문제\n",
    "for i in range(int(input())):\n",
    "    n,m = map(int, input().split())\n",
    "    Gold = list(map(int, input().split()))\n",
    "    dp = []\n",
    "    index = 0\n",
    "    for i in range(n):\n",
    "        dp.append(Gold[index:index+m])\n",
    "        index += m\n",
    "    \n",
    "    # 다이나믹 프로그래밍\n",
    "    for j in range(1,m): #col\n",
    "        for i in range(n): #row\n",
    "            # 왼쪽 위\n",
    "            if i == 0: left_up = 0\n",
    "            else: left_up = dp[i-1][j-1]\n",
    "\n",
    "            # 왼쪽 아래\n",
    "            if i == n-1: left_down = 0\n",
    "            else: left_down = dp[i+1][j-1]\n",
    "\n",
    "            # 왼쪽\n",
    "            left = dp[i][j-1]\n",
    "            dp[i][j] = dp[i][j] + max(left_up, left_down, left)\n",
    "    result = 0\n",
    "    for i in range(n):\n",
    "        result = max(result, dp[i][m-1])\n",
    "    print(result)"
   ]
  },
  {
   "cell_type": "code",
   "execution_count": null,
   "metadata": {},
   "outputs": [],
   "source": [
    "1 3 1 5\n",
    "2 2 4 1\n",
    "5 0 2 3\n",
    "0 6 1 2"
   ]
  },
  {
   "cell_type": "code",
   "execution_count": 46,
   "metadata": {},
   "outputs": [
    {
     "data": {
      "text/plain": [
       "[[1, 5, 8, 16], [2, 7, 11, 14], [5, 5, 13, 16], [0, 11, 12, 15]]"
      ]
     },
     "execution_count": 46,
     "metadata": {},
     "output_type": "execute_result"
    }
   ],
   "source": [
    "dp"
   ]
  },
  {
   "cell_type": "code",
   "execution_count": 47,
   "metadata": {},
   "outputs": [
    {
     "name": "stdout",
     "output_type": "stream",
     "text": [
      "16\n",
      "14\n",
      "16\n",
      "15\n"
     ]
    }
   ],
   "source": [
    "for i in range(n):\n",
    "    print(dp[i][m-1])"
   ]
  },
  {
   "cell_type": "markdown",
   "metadata": {},
   "source": [
    "### 일단 transpose 하려고 했음을 반성..\n",
    "1)  \n",
    "\n",
    "        for j in range\n",
    "            for i in range를 통해\n",
    "             dp[i][j] 로 열마다 수행이 가능하다.\n",
    "    \n",
    "2) left up, left down, left를 비교하고, 이때 행에 해당하는 i를 통해 index를 잡는다.\n",
    "\n",
    "3) 행에서 맨 마지막에 위치한 애들을 비교하면서 정답을 찾는다.\n",
    "\n",
    "4) dp 테이블을 처음부터 받을 수 있다.\n",
    "\n",
    "5) 해당 값이 만들어지려면, 이전값으로부터 구해진 다는 것을 이해하기\n",
    "\n",
    "+ 점화식을 잘 사용하면 좋을듯>?"
   ]
  },
  {
   "cell_type": "markdown",
   "metadata": {},
   "source": [
    "# 병사배치하기\n"
   ]
  },
  {
   "cell_type": "code",
   "execution_count": 61,
   "metadata": {},
   "outputs": [
    {
     "name": "stdout",
     "output_type": "stream",
     "text": [
      "7\n",
      "15 11 4 8 5 2 4\n"
     ]
    }
   ],
   "source": [
    "# 병사 배치하기\n",
    "# 7\n",
    "# 15 11 4 8 5 2 4\n",
    "\n",
    "N = int(input())\n",
    "array = list(map(int, input().split()))"
   ]
  },
  {
   "cell_type": "code",
   "execution_count": 62,
   "metadata": {},
   "outputs": [
    {
     "name": "stdout",
     "output_type": "stream",
     "text": [
      "4\n",
      "2\n",
      "2\n"
     ]
    }
   ],
   "source": [
    "# 내 풀이\n",
    "cnt = 0 #열외된 병사수\n",
    "idx = 1\n",
    "\n",
    "while idx < len(array):\n",
    "    target = array[idx]\n",
    "    if array[idx-1] >= target:\n",
    "        idx += 1\n",
    "    else:\n",
    "        cnt += 1\n",
    "        array.pop(idx-1)\n",
    "print(cnt)\n"
   ]
  },
  {
   "cell_type": "code",
   "execution_count": 63,
   "metadata": {},
   "outputs": [
    {
     "name": "stdout",
     "output_type": "stream",
     "text": [
      "7\n",
      "15 11 4 8 5 2 4\n",
      "2\n"
     ]
    }
   ],
   "source": [
    "# 가장 긴 증가하는 부분 수열 (longest increasing subsequence, LIS)\n",
    "n = int(input())\n",
    "array = list(map(int, input().split()))\n",
    "array.reverse() #이제 오름차순을 구하는 형태로 바뀜\n",
    "\n",
    "dp = [1]*n\n",
    "\n",
    "for i in range(1,n):\n",
    "    for j in range(0,i):\n",
    "        if array[j] < array[i]:  # 오름차순이라면,\n",
    "            dp[i] = max(dp[i], dp[j] + 1)\n",
    "print(n - max(dp))"
   ]
  },
  {
   "cell_type": "markdown",
   "metadata": {},
   "source": [
    "# 정수 삼각형: 백준 1932번"
   ]
  },
  {
   "cell_type": "code",
   "execution_count": 78,
   "metadata": {},
   "outputs": [
    {
     "name": "stdout",
     "output_type": "stream",
     "text": [
      "5\n",
      "7\n",
      "3 8\n",
      "8 1 0\n",
      "2 7 4 4\n",
      "4 5 2 6 5\n",
      "[30]\n"
     ]
    }
   ],
   "source": [
    "floor = int(input())\n",
    "array = []\n",
    "dp = []\n",
    "for i in range(floor):\n",
    "    dp.append(list(map(int,input().split())))\n",
    "\n",
    "dp.reverse()\n",
    "for i in range(1,floor):\n",
    "    for j in range(len(dp[i])):\n",
    "        left = dp[i-1][j]\n",
    "        right = dp[i-1][j+1]\n",
    "        dp[i][j] = dp[i][j] + max(left,right)\n",
    "\n",
    "print(dp[-1][0])"
   ]
  },
  {
   "cell_type": "markdown",
   "metadata": {},
   "source": [
    "# 퇴사: 백준 14501번\n",
    "dp table을 이용해서,\n",
    "각 날마다 할 수 있는 최대 값을 구하면 될 것 같다.\n",
    "\n",
    "처음에 계속 틀렸습니다가 나왔는데, 이유로는\n",
    "\n",
    "1 \n",
    "2 1을 하게 되면 0이 답이 나와야 한다.\n",
    "\n",
    "그러나 내가 dp[0] = arr[0][1]로 잡아놔서 그렇게 나오지 않았다..\n"
   ]
  },
  {
   "cell_type": "code",
   "execution_count": 120,
   "metadata": {},
   "outputs": [
    {
     "name": "stdout",
     "output_type": "stream",
     "text": [
      "7\n",
      "3 10\n",
      "5 20\n",
      "1 10\n",
      "1 20\n",
      "2 15\n",
      "4 40\n",
      "2 200\n",
      "45\n"
     ]
    }
   ],
   "source": [
    "N = int(input())\n",
    "dp = [0]*N\n",
    "arr = [tuple(map(int, input().split())) for _ in range(N)]\n",
    "for i in range(N):\n",
    "    day, pay = arr[i]\n",
    "    \n",
    "    if day + i > N: #회사에서 이미 퇴직\n",
    "        continue\n",
    "    \n",
    "    temp = [0] # 날짜가 가능한 애들만 모아놓기\n",
    "    for j in range(0,i): # 0 1 2 3 .. i-1 일\n",
    "        t_day, t_pay = arr[j]\n",
    "        \n",
    "        if i - j < t_day:\n",
    "            continue\n",
    "        else:\n",
    "            temp.append(dp[j])\n",
    "    dp[i] = max(temp) + pay\n",
    "print(max(dp))"
   ]
  },
  {
   "cell_type": "code",
   "execution_count": 122,
   "metadata": {},
   "outputs": [
    {
     "data": {
      "text/plain": [
       "[10, 20, 10, 30, 45, 0, 0]"
      ]
     },
     "execution_count": 122,
     "metadata": {},
     "output_type": "execute_result"
    }
   ],
   "source": [
    "dp"
   ]
  },
  {
   "cell_type": "code",
   "execution_count": 123,
   "metadata": {},
   "outputs": [
    {
     "name": "stdout",
     "output_type": "stream",
     "text": [
      "7\n",
      "3 10\n",
      "5 20\n",
      "1 10\n",
      "1 20\n",
      "2 15\n",
      "4 40\n",
      "2 200\n",
      "45\n"
     ]
    }
   ],
   "source": [
    "# 동빈's\n",
    "n = int(input())\n",
    "t = [] #시간\n",
    "p = [] #돈\n",
    "dp = [0] * (n+1) #각 상담을 완료햇을때 받을 수 있는 금액\n",
    "max_value = 0\n",
    "\n",
    "for _ in range(n):\n",
    "    x,y = map(int, input().split())\n",
    "    t.append(x)\n",
    "    p.append(y)\n",
    "\n",
    "# 리스트를 거꾸로\n",
    "for i in range(n-1, -1, -1):\n",
    "    time = t[i] + i\n",
    "    if time <= n: # 이때 가능하다는 얘기\n",
    "        dp[i] = max(p[i] + dp[time], max_value)\n",
    "        max_value = dp[i]\n",
    "    else: #불가함\n",
    "        dp[i] = max_value\n",
    "print(max_value)"
   ]
  },
  {
   "cell_type": "code",
   "execution_count": 124,
   "metadata": {},
   "outputs": [
    {
     "data": {
      "text/plain": [
       "[45, 45, 45, 35, 15, 0, 0, 0]"
      ]
     },
     "execution_count": 124,
     "metadata": {},
     "output_type": "execute_result"
    }
   ],
   "source": [
    "dp"
   ]
  },
  {
   "cell_type": "markdown",
   "metadata": {},
   "source": [
    "### 느낀점\n",
    "\n",
    "1) 다이나믹 프로그래밍은 점화식으로 잘 표현 가능하다.\n",
    "\n",
    "2) 나는 순간순간의 최대값을 구해줬는데, 동빈이는 누적된 최대값을 구해주는 것이 달랐다. 동빈이꺼로 많이 써먹어봐야 겠다.\n",
    "\n",
    "3) 그래도 다른 알고리즘 풀때보다는 좀 수월한 편?"
   ]
  },
  {
   "cell_type": "code",
   "execution_count": null,
   "metadata": {},
   "outputs": [],
   "source": []
  }
 ],
 "metadata": {
  "kernelspec": {
   "display_name": "Python 3",
   "language": "python",
   "name": "python3"
  },
  "language_info": {
   "codemirror_mode": {
    "name": "ipython",
    "version": 3
   },
   "file_extension": ".py",
   "mimetype": "text/x-python",
   "name": "python",
   "nbconvert_exporter": "python",
   "pygments_lexer": "ipython3",
   "version": "3.8.3"
  }
 },
 "nbformat": 4,
 "nbformat_minor": 4
}
