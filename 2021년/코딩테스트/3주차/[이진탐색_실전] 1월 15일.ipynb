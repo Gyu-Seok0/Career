{
 "cells": [
  {
   "cell_type": "code",
   "execution_count": null,
   "metadata": {},
   "outputs": [],
   "source": [
    "# 문제풀기전에 이진탐색 알고리즘을 재귀함수로 한번 짜보자.\n",
    "# 이진탐색은 먼저, 해당 배열이 정렬 되어있음을 가정한다.\n",
    "\n",
    "def search(array, target, start , end):\n",
    "    if start > end:\n",
    "        return None\n",
    "    mid = (start + end) // 2\n",
    "    \n",
    "    if array[mid] == target:\n",
    "        return mid\n",
    "    \n",
    "    # mid값이 더 크면, 왼쪽을 탐색해줘야지!\n",
    "    if array[mid] > target:\n",
    "        return search(array, target, start, mid - 1)\n",
    "    # mid 값이 더 작다면, 오른쪽을 탐색해줘야지!\n",
    "    else:\n",
    "        return search(array, target, mid+1, end)\n",
    "\n",
    "\n",
    "n, target = list(map(int, input().split()))\n",
    "array = list(map(int, input().split()))\n",
    "\n",
    "answer = search(array,target,0, n-1) #이건 인덱스 여서\n",
    "print(array[answer])\n"
   ]
  },
  {
   "cell_type": "code",
   "execution_count": null,
   "metadata": {},
   "outputs": [],
   "source": [
    "from bisect import bisect_left, bisect_right\n",
    "temp = [1,2,2,2,2,3,3]\n",
    "\n",
    "def count(array, target):\n",
    "    return bisect_right(array, target) - bisect_left(array, target)\n",
    "\n",
    "count(temp,2)"
   ]
  },
  {
   "cell_type": "markdown",
   "metadata": {},
   "source": [
    "### [백준 2110번]공유기 설치문제"
   ]
  },
  {
   "cell_type": "code",
   "execution_count": null,
   "metadata": {},
   "outputs": [],
   "source": [
    "N, C = map(int,input().split())\n",
    "house = [int(input()) for _ in range(N)]\n"
   ]
  },
  {
   "cell_type": "code",
   "execution_count": null,
   "metadata": {},
   "outputs": [],
   "source": [
    "#N, C = map(int,input().split())\n",
    "#house = [int(input()) for _ in range(N)]\n",
    "house.sort()\n",
    "\n",
    "start = house[0] # 최소 간격\n",
    "end = house[-1] - house[0] # 최대 간격\n",
    "\n",
    "\n",
    "result = 0\n",
    "while start <= end:\n",
    "    cnt = 1\n",
    "    mid = (start + end) // 2 # 설정한 간격\n",
    "    target = start\n",
    "    \n",
    "    for i in range(1, N):\n",
    "        d = house[i] - target\n",
    "        if mid <= d: # 설정한 간격 이하에 있어야 설치가 가능하지\n",
    "            cnt += 1 #설치한 공유기의 개수\n",
    "            target = house[i]\n",
    "    print(\"간격: {}, 공유기 개수: {}\".format(mid, cnt))\n",
    "    if cnt > C: # 설치한 공유기가 너무 많으면 --> 간격 넓히기 오른쪽 탐색\n",
    "        result = mid\n",
    "        start = mid + 1\n",
    "    else:\n",
    "        end = mid -1 #설치한 공유기의 개수가 너무 적다면 --> 간격을 좁혀야지 \n",
    "\n",
    "    \n",
    "    \n",
    "    \n",
    "    \n",
    "    \n",
    "#     # 공유기 개수가 너무 많다 --> 간격을 좁혀야지 (왼쪽 탐색)\n",
    "#     if check // mid > C:\n",
    "#         start = mid + 1\n",
    "        \n",
    "#     # 공유기 개수가 너무 적다 --> 간격을 넓혀야지 (오른쪽 탐색)\n",
    "#     elif check // mid < C:\n",
    "#         result = mid\n",
    "#         end = mid -1\n",
    "        \n",
    "#     # 공유기 개수가 딱 맞다.\n",
    "#     else:\n",
    "#         result = mid\n",
    "#         break\n",
    "    \n",
    "        \n",
    "print(result)"
   ]
  },
  {
   "cell_type": "code",
   "execution_count": 5,
   "metadata": {
    "scrolled": true
   },
   "outputs": [
    {
     "name": "stdout",
     "output_type": "stream",
     "text": [
      "5 3\n",
      "1\n",
      "2\n",
      "4\n",
      "8\n",
      "9\n",
      "result =0, mid = 4\n",
      "result =0, mid = 2\n",
      "result =2, mid = 3\n",
      "3\n"
     ]
    }
   ],
   "source": [
    "# 동빈's\n",
    "N, C = map(int,input().split())\n",
    "house = [int(input()) for _ in range(N)]\n",
    "house.sort()\n",
    "\n",
    "start = house[0] # 제일 작은 간격\n",
    "end = house[-1] - house[0] # 제일 큰 간격\n",
    "result = 0\n",
    "\n",
    "while(start <= end):\n",
    "    mid = (start + end )//2\n",
    "    #첫번째 집에는 무조건 공유기를 설치한다.\n",
    "    value = house[0]\n",
    "    count = 1\n",
    "    for i in range(1,N):\n",
    "        if house[i] >= value + mid: #아 최소 이 간격은 되어야 되는구나\n",
    "            count += 1\n",
    "            value = house[i]\n",
    "    print(\"result ={}, mid = {}\".format(result, mid))\n",
    "    if count >= C: # 공유기가 너무 많이 설치되면 --> 지금 간격이 너무 좁다는 얘기 니까 --> 간격을 넓혀야지 --> 오른쪽 탐색\n",
    "        result = mid #최적값을 저장한다.\n",
    "        start = mid + 1\n",
    "    else:  # 공유기가 너무 적게 설치되면 --> 지금 간격이 너무 크다는 얘기 니까 --> 간격을 좁혀야지 --> 왼쪽 탐색\n",
    "        end = mid - 1\n",
    "        \n",
    "print(result)"
   ]
  },
  {
   "cell_type": "code",
   "execution_count": null,
   "metadata": {},
   "outputs": [],
   "source": [
    "# 집의 개수(N)와 공유기의 개수(C)를 입력 받기\n",
    "n, c = list(map(int, input().split(' ')))\n",
    "\n",
    "# 전체 집의 좌표 정보를 입력 받기\n",
    "array = []\n",
    "for _ in range(n):\n",
    "     array.append(int(input()))\n",
    "array.sort() # 이진 탐색 수행을 위해 정렬 수행\n",
    "\n",
    "start = array[1] - array[0] # 집의 좌표 중에 가장 작은 값\n",
    "end = array[-1] - array[0] # 집의 좌표 중에 가장 큰 값\n",
    "result = 0\n",
    "\n",
    "while(start <= end):\n",
    "    mid = (start + end) // 2 # mid는 가장 인접한 두 공유기 사이의 거리(Gap)을 의미\n",
    "    # 첫째 집에는 무조건 공유기를 설치한다고 가정\n",
    "    value = array[0]\n",
    "    count = 1\n",
    "    # 현재의 mid 값을 이용해 공유기를 설치하기\n",
    "    for i in range(1, n): # 앞에서부터 차근차근 설치 \n",
    "        if array[i] >= value + mid:\n",
    "            value = array[i]\n",
    "            count += 1\n",
    "    if count >= c: # C개 이상의 공유기를 설치할 수 있는 경우, 거리를 증가시키기\n",
    "        start = mid + 1\n",
    "        result = mid # 최적의 결과를 저장\n",
    "    else: # C개 이상의 공유기를 설치할 수 없는 경우, 거리를 감소시키기\n",
    "        end = mid - 1\n",
    "\n",
    "print(result)"
   ]
  },
  {
   "cell_type": "markdown",
   "metadata": {},
   "source": [
    "# 카카오 가사검색"
   ]
  },
  {
   "cell_type": "code",
   "execution_count": 59,
   "metadata": {},
   "outputs": [],
   "source": [
    "words = [\"frodo\", \"front\", \"frost\", \"frozen\", \"frame\", \"kakao\"]\n",
    "queries = [\"fro??\", \"????o\", \"fr???\", \"fro???\", \"pro?\",\"?????\"]"
   ]
  },
  {
   "cell_type": "code",
   "execution_count": 60,
   "metadata": {},
   "outputs": [
    {
     "name": "stdout",
     "output_type": "stream",
     "text": [
      "[3, 2, 4, 1, 0, 5]\n"
     ]
    }
   ],
   "source": [
    "# 내풀이 --> 효율성에서 감점됌.. \n",
    "result = []\n",
    "for query in queries:\n",
    "    length = len(query)\n",
    "    #물음표를 다 없애주기 보다는 인덱스 찾아주는게 나을듯?\n",
    "    start = query.find(\"?\")\n",
    "    end = query.rfind(\"?\")\n",
    "    \n",
    "    \n",
    "    front = True\n",
    "    # 접미어\n",
    "    if start == 0: # ?가 앞에서 발견\n",
    "        target = query[end+1:]\n",
    "        front = False\n",
    "    #접두사\n",
    "    else:\n",
    "        target = query[:start]\n",
    "     \n",
    "    cnt = 0\n",
    "    for word in words:\n",
    "        if front:\n",
    "            if len(word) == length and word[:start] == target:\n",
    "                cnt += 1\n",
    "        else:\n",
    "            if len(word) == length and word[end+1:] == target:\n",
    "                cnt += 1\n",
    "    result.append(cnt)\n",
    "print(result)"
   ]
  },
  {
   "cell_type": "code",
   "execution_count": 66,
   "metadata": {},
   "outputs": [
    {
     "data": {
      "text/plain": [
       "[3, 2, 4, 1, 0, 5]"
      ]
     },
     "execution_count": 66,
     "metadata": {},
     "output_type": "execute_result"
    }
   ],
   "source": [
    "from bisect import bisect_left,bisect_right\n",
    "def count_by_range(a, left_value, right_value):\n",
    "    right_index = bisect_right(a,right_value)\n",
    "    left_index = bisect_left(a,left_value)\n",
    "    return right_index - left_index\n",
    "\n",
    "array = [[] for i in range(10001)]\n",
    "reversed_array = [[] for i in range(10001)]\n",
    "def solution(words, queries):\n",
    "    answer = []\n",
    "    for word in words:\n",
    "        #단어 개수별로 정리\n",
    "        array[len(word)].append(word)\n",
    "        reversed_array[len(word)].append(word[::-1]) # 거꾸로\n",
    "\n",
    "    # 단어들을 sorting\n",
    "    for i in range(10001):\n",
    "        array[i].sort()\n",
    "        reversed_array[i].sort()\n",
    "\n",
    "    for q in queries:\n",
    "        if q[0] != \"?\": #접미사라는 얘기지\n",
    "            res = count_by_range(array[len(q)], q.replace(\"?\",\"a\"), q.replace(\"?\",\"z\"))\n",
    "        else: #뒤에서 부터 세는게 힘드니까, 의부로 뒤집어서 시작해놓음\n",
    "            res = count_by_range(reversed_array[len(q)], q[::-1].replace(\"?\",\"a\"), q[::-1].replace(\"?\",\"z\"))\n",
    "        answer.append(res)\n",
    "    return answer"
   ]
  },
  {
   "cell_type": "code",
   "execution_count": null,
   "metadata": {},
   "outputs": [],
   "source": []
  }
 ],
 "metadata": {
  "kernelspec": {
   "display_name": "Python 3",
   "language": "python",
   "name": "python3"
  },
  "language_info": {
   "codemirror_mode": {
    "name": "ipython",
    "version": 3
   },
   "file_extension": ".py",
   "mimetype": "text/x-python",
   "name": "python",
   "nbconvert_exporter": "python",
   "pygments_lexer": "ipython3",
   "version": "3.8.3"
  }
 },
 "nbformat": 4,
 "nbformat_minor": 4
}
