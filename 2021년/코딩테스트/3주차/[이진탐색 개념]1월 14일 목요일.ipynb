{
 "cells": [
  {
   "cell_type": "code",
   "execution_count": 3,
   "metadata": {},
   "outputs": [
    {
     "data": {
      "text/plain": [
       "[1, 3, 5, 4, 8, 7]"
      ]
     },
     "execution_count": 3,
     "metadata": {},
     "output_type": "execute_result"
    }
   ],
   "source": [
    "import heapq #최소 힙 --> 부모노드가 자식노드보다 항상 작다 + 완전 이진트리\n",
    "\n",
    "nums = [4,1,7,3,8,5]\n",
    "heap = []\n",
    "for num in nums:\n",
    "    heapq.heappush(heap,num)\n",
    "heap"
   ]
  },
  {
   "cell_type": "code",
   "execution_count": 5,
   "metadata": {},
   "outputs": [
    {
     "name": "stdout",
     "output_type": "stream",
     "text": [
      "8\n",
      "7\n",
      "5\n",
      "4\n",
      "3\n",
      "1\n"
     ]
    }
   ],
   "source": [
    "# 최대힙 만들기 위해서는 약간의 요령이 필요하다.\n",
    "max_heap = []\n",
    "for num in nums:\n",
    "    heapq.heappush(max_heap, (-num,num))\n",
    "\n",
    "while max_heap:\n",
    "    print(heapq.heappop(max_heap)[1])"
   ]
  },
  {
   "cell_type": "markdown",
   "metadata": {},
   "source": [
    "# 이진탐색 알고리즘\n",
    "\n",
    "순차탐색: 앞에서부터 하나씩 차근차근 확인\n",
    "\n",
    "이진탐색: 정렬되어 있다는 가정하에, 탐색 범위를 절반씩 좁혀 나가는 것\n",
    "\n",
    "탐색범위를 설정하기 위해, 시작점-중간점-끝점을 잡는다.\n",
    "\n",
    "case1: 해당하는 값과 중간점을 비교하고, 중간점이 더 크다면,\n",
    "\n",
    "중간점의 왼쪽에 해당하는 데이터를 끝점으로 잡고 다시 해당 과정을 수행한다. \n",
    "\n",
    "case2: 해당하는 값과 중간점을 비교해서, 중간점이 더 작다면,\n",
    "중간점의 오른쪽으로 시작점을 잡는다.\n",
    "\n",
    "그래서 우리가 찾고자 하는 값이랑, 중간점이 같으면 된다.\n",
    "\n",
    "자세한 소스코드는 아래를 참고해보자.\n"
   ]
  },
  {
   "cell_type": "code",
   "execution_count": 21,
   "metadata": {},
   "outputs": [
    {
     "name": "stdout",
     "output_type": "stream",
     "text": [
      "6 7\n",
      "1 3 5 7 9 11\n"
     ]
    }
   ],
   "source": [
    "N, target = map(int, input().split())\n",
    "array = list(map(int, input().split()))\n",
    "array.sort()"
   ]
  },
  {
   "cell_type": "code",
   "execution_count": 90,
   "metadata": {},
   "outputs": [
    {
     "name": "stdout",
     "output_type": "stream",
     "text": [
      "None\n"
     ]
    }
   ],
   "source": []
  },
  {
   "cell_type": "code",
   "execution_count": 92,
   "metadata": {},
   "outputs": [
    {
     "name": "stdout",
     "output_type": "stream",
     "text": [
      "6 7\n",
      "1 3 5 7 9 11\n",
      "3\n"
     ]
    }
   ],
   "source": [
    "#반복문을 통한 이진탐색\n",
    "def binary_search(array, target, start, end):\n",
    "    while(start <= end):\n",
    "        mid = (start + end)//2\n",
    "        \n",
    "        if array[mid] == target:\n",
    "            return mid\n",
    "        \n",
    "        if array[mid] > target: #왼쪽 수행\n",
    "            end = mid - 1\n",
    "        else:\n",
    "            start = mid + 1\n",
    "    return None\n",
    "\n",
    "n, target = list(map(int, input().split()))\n",
    "array = list(map(int, input().split()))\n",
    "\n",
    "result = binary_search(array, target, 0, n-1) # 인덱스를 의미한다.\n",
    "print(result) #target의 인덱스를 의미한다.\n"
   ]
  },
  {
   "cell_type": "code",
   "execution_count": 22,
   "metadata": {},
   "outputs": [
    {
     "name": "stdout",
     "output_type": "stream",
     "text": [
      "4\n"
     ]
    }
   ],
   "source": [
    "#재귀함수를 통한 이진탐색\n",
    "def binary_search(array, target, start, end):\n",
    "    if start > end:\n",
    "        return None\n",
    "    \n",
    "    mid = (start + end) // 2\n",
    "    if array[mid] == target:\n",
    "        return mid\n",
    "    \n",
    "    if array[mid] > target:\n",
    "        return binary_search(array,target,start, mid-1)\n",
    "    else:\n",
    "        return binary_search(array,target,mid+1,end)\n",
    "\n",
    "result = binary_search(array,target,0,N-1)\n",
    "if result == None:\n",
    "    print(result)\n",
    "else:\n",
    "    print(result + 1) \n",
    "    #이떄는 첫번째, 두번쨰, 세번쨰 등등 위치를 얘기하기 때문에, +1을 더한다. "
   ]
  },
  {
   "cell_type": "code",
   "execution_count": 30,
   "metadata": {},
   "outputs": [
    {
     "name": "stdout",
     "output_type": "stream",
     "text": [
      "5\n",
      "4\n"
     ]
    }
   ],
   "source": [
    "#유용한 라이브러리\n",
    "from bisect import bisect_left,bisect_right\n",
    "a = [1,2,4,4,8]\n",
    "x = 4\n",
    "print(bisect_left(a,x)) #왼쪽을 기준으로, 넣어야할 인덱스 값 반환\n",
    "print(bisect_right(a,x)) #오른쪽을 기준으로, 넣어야할 인덱스 값 반환"
   ]
  },
  {
   "cell_type": "code",
   "execution_count": 33,
   "metadata": {},
   "outputs": [
    {
     "name": "stdout",
     "output_type": "stream",
     "text": [
      "2\n",
      "6\n"
     ]
    }
   ],
   "source": [
    "# 응용: 사이에 있는 숫자들의 개수를 알 수 있다.\n",
    "# 나는 그냥 중복여부만 확인할 수 있을 거라고 생각했는데..\n",
    "\n",
    "temp = [1,2,3,3,3,3,4,4,8,9]\n",
    "\n",
    "def count_by_range(array,left,right):\n",
    "    return bisect_right(array,right) - bisect_left(array,left)\n",
    "\n",
    "print(count_by_range(temp,4,4))\n",
    "print(count_by_range(temp,1,3))\n"
   ]
  },
  {
   "cell_type": "markdown",
   "metadata": {},
   "source": [
    "# 파라메트릭 서치(parametric Search)\n",
    "\n",
    "최적화 문제를 결정문제(예 아니오)로 바꾸어 해결하는 기법\n"
   ]
  },
  {
   "cell_type": "code",
   "execution_count": 70,
   "metadata": {},
   "outputs": [
    {
     "name": "stdout",
     "output_type": "stream",
     "text": [
      "4 3\n",
      "19 15 10 17\n"
     ]
    }
   ],
   "source": [
    "# 떡볶이 떡문제\n",
    "#떡의 개수와 요청한 떡의 크기\n",
    "N, target = map(int, input().split())\n",
    "data = list(map(int, input().split()))\n",
    "\n"
   ]
  },
  {
   "cell_type": "code",
   "execution_count": 74,
   "metadata": {},
   "outputs": [
    {
     "name": "stdout",
     "output_type": "stream",
     "text": [
      "[10, 6, 1, 8] 9 0 19\n",
      "[5, 1, 3] 14 10 19\n",
      "[2] 17 15 19\n",
      "[4, 2] 15 15 16\n",
      "[3, 1] 16 16 16\n",
      "16\n"
     ]
    }
   ],
   "source": [
    "def binary_search(data, target, start, end):\n",
    "    if start > end:\n",
    "        return None\n",
    "    mid = (start + end) // 2\n",
    "        \n",
    "    temp = list(map(lambda x: x - mid, data))\n",
    "    temp = list(map(lambda x: max(x,0), temp))\n",
    "    \n",
    "    print(temp, mid, start, end)\n",
    "    if sum(temp) == target or start == end :\n",
    "        return mid\n",
    "    \n",
    "    elif sum(temp) > target: # 높이를 증가시킨다.\n",
    "        return binary_search(data, target, mid+1, end)\n",
    "    else: #높이를 낮춘다. \n",
    "        return binary_search(data, target, start, mid-1)\n",
    "\n",
    "answer = binary_search(data, target,0,max(data))\n",
    "if answer:\n",
    "    print(answer)"
   ]
  },
  {
   "cell_type": "code",
   "execution_count": 80,
   "metadata": {},
   "outputs": [
    {
     "name": "stdout",
     "output_type": "stream",
     "text": [
      "16\n"
     ]
    }
   ],
   "source": [
    "def binary_search(data, target, start, end):\n",
    "    if start > end:\n",
    "        return None\n",
    "    mid = (start + end) // 2\n",
    "        \n",
    "    temp = 0\n",
    "    for num in data:\n",
    "        if num > mid:\n",
    "            temp += (num - mid)\n",
    "    \n",
    "    if temp == target or start == end :\n",
    "        return mid\n",
    "    \n",
    "    elif temp > target: # 높이를 증가시킨다.\n",
    "        return binary_search(data, target, mid+1, end)\n",
    "    else: #높이를 낮춘다. \n",
    "        return binary_search(data, target, start, mid-1)\n",
    "\n",
    "answer = binary_search(data, target,0,max(data))\n",
    "if answer:\n",
    "    print(answer)"
   ]
  },
  {
   "cell_type": "code",
   "execution_count": 83,
   "metadata": {},
   "outputs": [
    {
     "name": "stdout",
     "output_type": "stream",
     "text": [
      "16\n"
     ]
    }
   ],
   "source": [
    "#동빈's\n",
    "m = target\n",
    "array = data\n",
    "\n",
    "start = 0\n",
    "end = max(array)\n",
    "\n",
    "result = 0\n",
    "while (start <= end):\n",
    "    total = 0\n",
    "    mid = (start + end) // 2\n",
    "    \n",
    "    for x in array:\n",
    "        if x > mid:\n",
    "            total += x - mid\n",
    "    if total < m: #손님이 가져가는 양이 작다면, 높이를 낮춰야지\n",
    "        end = mid - 1\n",
    "    else:\n",
    "        result = mid #최대한 덜 잘랐을 때가 정답이니까 기록\n",
    "        start = mid + 1 #손님이 가져가는 양이 많으니까, 높이를 높여야지\n",
    "print(result)\n",
    "\n"
   ]
  },
  {
   "cell_type": "code",
   "execution_count": 84,
   "metadata": {},
   "outputs": [
    {
     "name": "stdout",
     "output_type": "stream",
     "text": [
      "7 2\n",
      "1 1 2 2 2 2 3\n"
     ]
    }
   ],
   "source": [
    "#정렬된 배열에서 특정 수의 개수 구하기\n",
    "n, x = map(int, input().split())\n",
    "data = list(map(int, input().split()))"
   ]
  },
  {
   "cell_type": "code",
   "execution_count": 88,
   "metadata": {},
   "outputs": [
    {
     "name": "stdout",
     "output_type": "stream",
     "text": [
      "4\n"
     ]
    }
   ],
   "source": [
    "# bisector를 이용하면 쉬울 것 같긴 한데, 직접 구현해봐야 하나? \n",
    "from bisect import bisect_left, bisect_right\n",
    "def check(data,x):\n",
    "    left = bisect_left(data,x)\n",
    "    right = bisect_right(data,x)\n",
    "    return right - left\n",
    "\n",
    "answer = check(data,x)\n",
    "if not answer:\n",
    "    print(-1)\n",
    "else:\n",
    "    print(answer)"
   ]
  },
  {
   "cell_type": "code",
   "execution_count": 89,
   "metadata": {},
   "outputs": [],
   "source": [
    "# 파이썬에서 입력 빠르게 받기 --> 쥬피터에서 실행이 안됨\n",
    "import sys\n",
    "data = sys.stdin.readline().rstrip()"
   ]
  }
 ],
 "metadata": {
  "kernelspec": {
   "display_name": "Python 3",
   "language": "python",
   "name": "python3"
  },
  "language_info": {
   "codemirror_mode": {
    "name": "ipython",
    "version": 3
   },
   "file_extension": ".py",
   "mimetype": "text/x-python",
   "name": "python",
   "nbconvert_exporter": "python",
   "pygments_lexer": "ipython3",
   "version": "3.8.3"
  }
 },
 "nbformat": 4,
 "nbformat_minor": 4
}
