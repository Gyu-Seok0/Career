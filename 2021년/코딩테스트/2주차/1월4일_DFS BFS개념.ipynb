{
 "cells": [
  {
   "cell_type": "markdown",
   "metadata": {},
   "source": [
    "## 기본적인 자료구조인 스택/큐/재귀함수 공부\n",
    "\n",
    "\n",
    "유클리드 호제법"
   ]
  },
  {
   "cell_type": "code",
   "execution_count": 6,
   "metadata": {},
   "outputs": [
    {
     "name": "stdout",
     "output_type": "stream",
     "text": [
      "6\n"
     ]
    }
   ],
   "source": [
    "def GCD(a,b):\n",
    "    if a%b == 0:\n",
    "        return b\n",
    "    else:\n",
    "        return GCD(b,a%b)\n",
    "\n",
    "print(GCD(24,18))"
   ]
  },
  {
   "cell_type": "markdown",
   "metadata": {},
   "source": [
    "DFS 소스코드 예제"
   ]
  },
  {
   "cell_type": "code",
   "execution_count": 1,
   "metadata": {},
   "outputs": [
    {
     "name": "stdout",
     "output_type": "stream",
     "text": [
      "1 2 7 6 8 3 4 5 "
     ]
    }
   ],
   "source": [
    "graph = [\n",
    "    [],    # 0번 노드는 없으므로, 비워둔다.\n",
    "    [2,3,8], #1번 노드와 연결된 노드들\n",
    "    [1,7],\n",
    "    [1,4,5],\n",
    "    [3,5],\n",
    "    [3,4],\n",
    "    [7],\n",
    "    [2,6,8],\n",
    "    [1,7]\n",
    "]\n",
    "\n",
    "visited = [False]*9\n",
    "def dfs(graph, v, visited):\n",
    "    visited[v] = True\n",
    "    print(v, end= ' ')\n",
    "    for i in graph[v]:\n",
    "        if visited[i] == False:\n",
    "            dfs(graph,i,visited)\n",
    "dfs(graph, 1, visited)"
   ]
  },
  {
   "cell_type": "code",
   "execution_count": 23,
   "metadata": {},
   "outputs": [
    {
     "name": "stdout",
     "output_type": "stream",
     "text": [
      "1 2 3 8 7 4 5 6 "
     ]
    }
   ],
   "source": [
    "def bfs(graph, start, visited):\n",
    "    queue = deque([start])\n",
    "    visited[start] = True\n",
    "    while queue:\n",
    "        v = queue.popleft()\n",
    "        print(v, end = ' ')\n",
    "        for i in graph[v]:\n",
    "            if visited[i] == False:\n",
    "                queue.append(i)\n",
    "                visited[i] = True\n",
    "bfs(graph, 1, visited)"
   ]
  },
  {
   "cell_type": "markdown",
   "metadata": {},
   "source": [
    "음료수 얼려 먹기 문제"
   ]
  },
  {
   "cell_type": "code",
   "execution_count": 103,
   "metadata": {},
   "outputs": [
    {
     "name": "stdout",
     "output_type": "stream",
     "text": [
      "4 5\n",
      "00110\n",
      "00011\n",
      "11111\n",
      "00000\n"
     ]
    }
   ],
   "source": [
    "N,M = map(int, input().split())\n",
    "ice = []\n",
    "for i in range(N):\n",
    "    ice.append(list(map(int,input())))"
   ]
  },
  {
   "cell_type": "code",
   "execution_count": 104,
   "metadata": {},
   "outputs": [
    {
     "data": {
      "text/plain": [
       "[[0, 0, 1, 1, 0], [0, 0, 0, 1, 1], [1, 1, 1, 1, 1], [0, 0, 0, 0, 0]]"
      ]
     },
     "execution_count": 104,
     "metadata": {},
     "output_type": "execute_result"
    }
   ],
   "source": [
    "ice"
   ]
  },
  {
   "cell_type": "code",
   "execution_count": 99,
   "metadata": {},
   "outputs": [
    {
     "name": "stdout",
     "output_type": "stream",
     "text": [
      "0 0\n",
      "0 4\n",
      "3 0\n",
      "3\n"
     ]
    }
   ],
   "source": [
    "# bfs로 문제를 풀어보자.\n",
    "# visited를 두고, 0인 부분을 찾고, 문제를 해결하기.\n",
    "\n",
    "from collections import deque\n",
    "\n",
    "# (0,1)로 이동하면 오른쪽으로 이동\n",
    "# (1,0)으로 이동하면, 아래로 이동 \n",
    "\n",
    "\n",
    "\n",
    "def bfs(ice,x,y):\n",
    "    dx = [0,1] \n",
    "    dy = [1,0]\n",
    "    queue = deque([x,y])\n",
    "    ice[x][y] = 1\n",
    "    while queue:\n",
    "        tx = queue.popleft()\n",
    "        ty = queue.popleft()\n",
    "        for i in range(2):\n",
    "            temp_x = tx + dx[i]\n",
    "            temp_y = ty + dy[i]\n",
    "            if temp_x < N and temp_y < M and ice[temp_x][temp_y] == 0:\n",
    "                queue.append(temp_x)\n",
    "                queue.append(temp_y)\n",
    "                ice[temp_x][temp_y] = 1\n",
    "\n",
    "cnt = 0\n",
    "for i in range(N):\n",
    "    for j in range(M):\n",
    "        target = ice[i][j]\n",
    "        if target == 0:\n",
    "            bfs(ice, i, j)\n",
    "            print(i,j)\n",
    "            cnt += 1\n",
    "    \n",
    "print(cnt)\n"
   ]
  },
  {
   "cell_type": "code",
   "execution_count": 105,
   "metadata": {},
   "outputs": [
    {
     "name": "stdout",
     "output_type": "stream",
     "text": [
      "4 5\n",
      "00110\n",
      "00011\n",
      "11111\n",
      "00000\n",
      "3\n"
     ]
    }
   ],
   "source": [
    "# 동빈's answer\n",
    "def dfs(x,y):\n",
    "    if x <= -1 or x >= n or y <= -1 or y >= m:\n",
    "        return False\n",
    "    if graph[x][y] == 0:\n",
    "        graph[x][y] = 1\n",
    "        dfs(x-1, y)\n",
    "        dfs(x, y-1)\n",
    "        dfs(x+1, y)\n",
    "        dfs(x, y+1)\n",
    "        return True\n",
    "    return False\n",
    "\n",
    "\n",
    "n, m = map(int, input().split())\n",
    "\n",
    "graph = []\n",
    "for i in range(n):\n",
    "    graph.append(list(map(int, input())))\n",
    "\n",
    "result = 0\n",
    "for i in range(n):\n",
    "    for j in range(m):\n",
    "        if dfs(i,j) == True:\n",
    "            result += 1\n",
    "print(result)\n",
    "\n"
   ]
  },
  {
   "cell_type": "code",
   "execution_count": null,
   "metadata": {},
   "outputs": [],
   "source": []
  }
 ],
 "metadata": {
  "kernelspec": {
   "display_name": "Python 3",
   "language": "python",
   "name": "python3"
  },
  "language_info": {
   "codemirror_mode": {
    "name": "ipython",
    "version": 3
   },
   "file_extension": ".py",
   "mimetype": "text/x-python",
   "name": "python",
   "nbconvert_exporter": "python",
   "pygments_lexer": "ipython3",
   "version": "3.8.3"
  }
 },
 "nbformat": 4,
 "nbformat_minor": 4
}
