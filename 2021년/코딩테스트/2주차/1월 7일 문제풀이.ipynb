{
 "cells": [
  {
   "cell_type": "code",
   "execution_count": 5,
   "metadata": {},
   "outputs": [
    {
     "name": "stdout",
     "output_type": "stream",
     "text": [
      "1 2 3 8 7 4 5 6 "
     ]
    }
   ],
   "source": [
    "#시작 전에 BFS/DFS 몸풀기\n",
    "from collections import deque\n",
    "graph = [\n",
    "    [],    # 0번 노드는 없으므로, 비워둔다.\n",
    "    [2,3,8], #1번 노드와 연결된 노드들\n",
    "    [1,7],\n",
    "    [1,4,5],\n",
    "    [3,5],\n",
    "    [3,4],\n",
    "    [7],\n",
    "    [2,6,8],\n",
    "    [1,7]\n",
    "]\n",
    "\n",
    "visited = [False]*len(graph)\n",
    "#dfs는 스택이나 재귀함수로 문제풀이\n",
    "def dfs(graph,v,visited):\n",
    "    visited[v] = True\n",
    "    print(v, end=\" \")\n",
    "    for i in graph[v]:\n",
    "        if not visited[i]:\n",
    "            dfs(graph,i,visited)\n",
    "#dfs(graph,1,visited)\n",
    "\n",
    "#bfs는 큐를 활용한다.\n",
    "def bfs(graph,start,visited):\n",
    "    queue = deque([start])\n",
    "    visited[start] = True\n",
    "    while queue:\n",
    "        target = queue.popleft()\n",
    "        print(target, end=\" \")\n",
    "        for i in graph[target]:\n",
    "            if not visited[i]:\n",
    "                queue.append(i)\n",
    "                visited[i] = True\n",
    "                \n",
    "bfs(graph,1,visited)\n",
    "    "
   ]
  },
  {
   "cell_type": "markdown",
   "metadata": {},
   "source": [
    "# 18405번 경쟁적 전염\n",
    "\n",
    "알고리즘 구상:\n",
    "\n",
    "1) 1부터 3을 순차적으로 search, --> 함수구현하기\n",
    "\n",
    "2) 상하좌우로 이동해서 해당 값이 0이면, 값을 집어넣기 --> 방향벡터 이용\n",
    "\n",
    "3) 이를 정해진 시간초만큼 수행한다."
   ]
  },
  {
   "cell_type": "markdown",
   "metadata": {},
   "source": [
    "배울점\n",
    "\n",
    "1) input받는 부분이 남다르다. row를받고 바로 col을 확인하는 기법\n",
    "\n",
    "2) graph[i][j] 값을 먼저 넣어서 결국 sort에 활용 하는 방법도\n",
    "\n",
    "3) 시간 부분을 넣어서 해결하는 것도 깔끔했다."
   ]
  },
  {
   "cell_type": "code",
   "execution_count": 131,
   "metadata": {},
   "outputs": [
    {
     "name": "stdout",
     "output_type": "stream",
     "text": [
      "3 3\n",
      "1 0 2\n",
      "0 0 0\n",
      "3 0 0\n",
      "2 3 2\n",
      "3\n"
     ]
    }
   ],
   "source": [
    "from collections import deque\n",
    "N,K = map(int, input().split())\n",
    "graph = []\n",
    "data = []\n",
    "\n",
    "for i in range(N):\n",
    "    graph.append(list(map(int,input().split()))) #행\n",
    "    for j in range(N): \n",
    "        if graph[i][j] > 0: #열\n",
    "            data.append([graph[i][j], 0, i, j]) #value, 시간, x, y\n",
    "\n",
    "data.sort() # graph[i][j]로 sorting 가능 --> 그래서 먼저 넣는구나.\n",
    "q = deque(data)\n",
    "\n",
    "target_s, target_x, target_y = map(int, input().split())\n",
    "\n",
    "dx = [-1, 0, 1, 0] \n",
    "dy = [0, 1, 0, -1]\n",
    "\n",
    "while q:\n",
    "    virus, s, x, y = q.popleft()\n",
    "    if s == target_s:\n",
    "        break\n",
    "    for i in range(4):\n",
    "        nx = x + dx[i]\n",
    "        ny = y + dy[i]\n",
    "        # 해당 위치로 이동할 수 있는 경우\n",
    "        if 0 <= nx and nx < N and 0 <= ny and ny < N:\n",
    "            graph[nx][ny] = virus\n",
    "            q.append((virus,s+1,nx,ny))\n",
    "            \n",
    "    \n",
    "print(graph[target_x-1][target_y-1])"
   ]
  },
  {
   "cell_type": "code",
   "execution_count": 121,
   "metadata": {},
   "outputs": [
    {
     "name": "stdout",
     "output_type": "stream",
     "text": [
      "4 2\n",
      "1 0 0 0\n",
      "0 0 0 0\n",
      "0 0 0 0\n",
      "0 0 0 2\n",
      "3 3 2\n",
      "1\n"
     ]
    }
   ],
   "source": [
    "#이것도 시간초과..\n",
    "N,K = map(int, input().split())\n",
    "graph= [ list(map(int, input().split())) for _ in range(N)]\n",
    "s,x,y = map(int, input().split())\n",
    "dx = [-1,1,0,0]\n",
    "dy = [0,0,-1,1]\n",
    "def search():\n",
    "    queue = []\n",
    "    for i in range(N):\n",
    "        for j in range(N):\n",
    "            if graph[i][j] != 0:\n",
    "                queue.append([i,j,graph[i][j]])\n",
    "                \n",
    "    queue.sort(key = lambda x: x[2])\n",
    "    while queue:\n",
    "        temp_x, temp_y, num = queue.pop(0)\n",
    "        for i in range(4):\n",
    "            nx = temp_x+dx[i]\n",
    "            ny = temp_y+dy[i]\n",
    "            if nx < 0 or nx >= N or ny <0 or ny >=N:\n",
    "                continue\n",
    "            else:\n",
    "                if graph[nx][ny] == 0:\n",
    "                    graph[nx][ny] = num\n",
    "        \n",
    "for i in range(s):\n",
    "    search()\n",
    "\n",
    "print(graph[x-1][y-1])\n"
   ]
  },
  {
   "cell_type": "code",
   "execution_count": 106,
   "metadata": {},
   "outputs": [
    {
     "name": "stdout",
     "output_type": "stream",
     "text": [
      "3 3\n",
      "1 0 2\n",
      "0 0 0\n",
      "3 0 0\n",
      "3\n"
     ]
    }
   ],
   "source": [
    "#시간초과2\n",
    "from collections import deque\n",
    "\n",
    "N,K = map(int, input().split())\n",
    "graph= [ list(map(int, input().split())) for _ in range(N)]\n",
    "s,x,y = map(int, input().split())\n",
    "\n",
    "\n",
    "queue = deque()\n",
    "dx = [-1,1,0,0]\n",
    "dy = [0,0,-1,1]\n",
    "\n",
    "def search():\n",
    "    for i in range(N):\n",
    "        for j in range(N):\n",
    "            if graph[i][j] != 0:\n",
    "                queue.append([i,j,graph[i][j]])\n",
    "    \n",
    "    birus = 1\n",
    "    start_x, start_y = (-1,-1)\n",
    "    first = True\n",
    "    while queue:\n",
    "        temp_x, temp_y, num = queue.popleft()\n",
    "        if start_x == temp_x and start_y == temp_y:\n",
    "            birus += 1\n",
    "            first = True\n",
    "            \n",
    "        if num != birus:\n",
    "            queue.append([temp_x,temp_y,num])\n",
    "            if first == True:\n",
    "                start_x, start_y = temp_x, temp_y\n",
    "                first = False\n",
    "        else:\n",
    "            for i in range(4):\n",
    "                nx = temp_x+dx[i]\n",
    "                ny = temp_y+dy[i]\n",
    "                if nx < 0 or nx >= N or ny <0 or ny >=N:\n",
    "                    continue\n",
    "                else:\n",
    "                    if graph[nx][ny] == 0:\n",
    "                        graph[nx][ny] = num\n",
    "        \n",
    "for i in range(s):\n",
    "    search()\n",
    "    \n",
    "    \n",
    "print(graph[x-1][y-1])"
   ]
  },
  {
   "cell_type": "code",
   "execution_count": 34,
   "metadata": {},
   "outputs": [
    {
     "data": {
      "text/plain": [
       "[[1, 1, 2], [1, 1, 2], [3, 3, 2]]"
      ]
     },
     "execution_count": 34,
     "metadata": {},
     "output_type": "execute_result"
    }
   ],
   "source": [
    "dx = [-1,1,0,0]\n",
    "dy = [0,0,-1,1]\n",
    "\n",
    "# 이렇게하면 문제가 있다 --> 시간의 개념을 무시 --> 시간초과\n",
    "cnt = 0\n",
    "while(cnt < s):\n",
    "    q = deque()\n",
    "    for i in range(N):\n",
    "        for j in range(N):\n",
    "            for k in range(1,K+1):\n",
    "                if graph[i][j] == k:\n",
    "                    for l in range(4):\n",
    "                        nx = i+dx[l]\n",
    "                        ny = j+dy[l]\n",
    "                        if nx < 0 or nx >= N or ny <0 or ny >=N:\n",
    "                            continue\n",
    "                        else:\n",
    "                            if graph[nx][ny] == 0:\n",
    "                                q.append([nx,ny,k])\n",
    "    while q:\n",
    "        temp_x, temp_y, num = q.pop()\n",
    "        graph[temp_x][temp_y] = num\n",
    "\n",
    "    cnt += 1\n",
    "print(graph[x-1][y-1])\n"
   ]
  },
  {
   "cell_type": "markdown",
   "metadata": {},
   "source": [
    "# 괄호변환"
   ]
  },
  {
   "cell_type": "code",
   "execution_count": 191,
   "metadata": {},
   "outputs": [
    {
     "name": "stdout",
     "output_type": "stream",
     "text": [
      "()))((()\n",
      "v= ()\n",
      "()(())()\n"
     ]
    }
   ],
   "source": [
    "\n",
    "def stage(string):\n",
    "    if string == \"\":\n",
    "        return \"\",\"\"\n",
    "    \n",
    "    u = \"\"\n",
    "    v = \"\"\n",
    "    cnt_left = 0\n",
    "    cnt_right = 0\n",
    "\n",
    "    #stage 1\n",
    "    for i in range(len(string)):\n",
    "        u += string[i]\n",
    "        if string[i] == '(':\n",
    "            cnt_left += 1\n",
    "        else:\n",
    "            cnt_right += 1\n",
    "\n",
    "        if cnt_left == cnt_right:\n",
    "            v = string[i+1:]\n",
    "            return u,v\n",
    "\n",
    "#stage 2\n",
    "def check(target):\n",
    "    if target == '':\n",
    "        return False\n",
    "    stack = []\n",
    "    for i in range(len(target)):\n",
    "        if target[i] == '(':\n",
    "            stack.append(target[i])\n",
    "        else:\n",
    "            if len(stack) == 0:\n",
    "                return False\n",
    "            stack.pop()\n",
    "    return True\n",
    "\n",
    "\n",
    "string = p\n",
    "result = \"\"\n",
    "u,v = stage(string)\n",
    "#stage3\n",
    "while check(u):\n",
    "    result += u\n",
    "    u,v = stage(v)\n",
    "\n",
    "def recursive(string2):\n",
    "    result2 = \"\"\n",
    "    temp_u,temp_v = stage(string2)\n",
    "    #stage3\n",
    "    while check(temp_u):\n",
    "        result2 += temp_u\n",
    "        temp_u,temp_v = stage(temp_v)\n",
    "    return result2\n",
    "        \n",
    "#stage4\n",
    "temp = \"\"\n",
    "if u != \"\" and check(u) == False:\n",
    "    temp = \"(\" + recursive(v) + \")\"\n",
    "    for i in range(1,len(u)-1):\n",
    "        if u[i] == \"(\":\n",
    "            temp += \")\"\n",
    "        else:\n",
    "            temp += \"(\"\n",
    "\n",
    "\n",
    "print(result+temp)"
   ]
  },
  {
   "cell_type": "code",
   "execution_count": 173,
   "metadata": {},
   "outputs": [
    {
     "name": "stdout",
     "output_type": "stream",
     "text": [
      "()))((()\n",
      "()(())()\n"
     ]
    }
   ],
   "source": [
    "\n",
    "def stage(string):\n",
    "    if string == \"\":\n",
    "        return \"\",\"\"\n",
    "    \n",
    "    u = \"\"\n",
    "    v = \"\"\n",
    "    cnt_left = 0\n",
    "    cnt_right = 0\n",
    "\n",
    "    #stage 1\n",
    "    for i in range(len(string)):\n",
    "        u += string[i]\n",
    "        if string[i] == '(':\n",
    "            cnt_left += 1\n",
    "        else:\n",
    "            cnt_right += 1\n",
    "\n",
    "        if cnt_left == cnt_right:\n",
    "            v = string[i+1:]\n",
    "            return u,v\n",
    "\n",
    "#stage 2\n",
    "def check(target):\n",
    "    if target == '':\n",
    "        return False\n",
    "    stack = []\n",
    "    for i in range(len(target)):\n",
    "        if u[i] == '(':\n",
    "            stack.append(target[i])\n",
    "        else:\n",
    "            if len(stack) == 0:\n",
    "                return False\n",
    "            stack.pop()\n",
    "    return True\n",
    "\n",
    "\n",
    "string = input()\n",
    "result = \"\"\n",
    "u,v = stage(string)\n",
    "#stage3\n",
    "while check(u):\n",
    "    result += u\n",
    "    u,v = stage(v)\n",
    "\n",
    "#stage4\n",
    "temp = \"\"\n",
    "if u != \"\" and check(u) == False:\n",
    "    temp = \"(\" + v + \")\"\n",
    "    for i in range(1,len(u)-1):\n",
    "        if u[i] == \"(\":\n",
    "            temp += \")\"\n",
    "        else:\n",
    "            temp += \"(\"\n",
    "\n",
    "\n",
    "print(result+temp)"
   ]
  },
  {
   "cell_type": "code",
   "execution_count": 23,
   "metadata": {},
   "outputs": [
    {
     "name": "stdout",
     "output_type": "stream",
     "text": [
      "()))((()\n",
      "()(())()\n"
     ]
    }
   ],
   "source": [
    "#두번째 문제풀이\n",
    "def stage(string):\n",
    "    if string == \"\":\n",
    "        return \"\",\"\"\n",
    "    \n",
    "    str1 = \"\"\n",
    "    str2 = \"\"\n",
    "    cnt_left = 0\n",
    "    cnt_right = 0\n",
    "    for i in range(len(string)):\n",
    "        str1 += string[i]\n",
    "        if string[i] == \"(\":\n",
    "            cnt_left += 1\n",
    "        else:\n",
    "            cnt_right +=1\n",
    "        \n",
    "        if cnt_left == cnt_right:\n",
    "            str2 = string[i+1:]\n",
    "            return str1, str2\n",
    "\n",
    "def check(string):\n",
    "    stack = []\n",
    "    for letter in string:\n",
    "        if letter == \"(\":\n",
    "            stack.append(letter)\n",
    "        else:\n",
    "            if len(stack) == 0:\n",
    "                return False\n",
    "            else:\n",
    "                stack.pop()\n",
    "    return True\n",
    "\n",
    "\n",
    "\n",
    "def recursive(string):\n",
    "    u,v = stage(string)\n",
    "    result = \"\"\n",
    "    while check(u):\n",
    "        result += u\n",
    "        u,v = stage(v)\n",
    "        if u == \"\":\n",
    "            break\n",
    "    return result\n",
    "\n",
    "string = input()\n",
    "u,v = stage(string)\n",
    "result = \"\"\n",
    "while check(u):\n",
    "    result += u\n",
    "    u,v = stage(v)\n",
    "    if u == \"\":\n",
    "        break\n",
    "\n",
    "\n",
    "if u != \"\" and check(u) == False:\n",
    "    temp = '(' + recursive(v) + ')'\n",
    "    for i in range(1,len(u)-1):\n",
    "        if u[i] == '(':\n",
    "            temp += ')'\n",
    "        else:\n",
    "            temp += '('\n",
    "            \n",
    "answer = result + temp\n",
    "print(answer)\n",
    "\n",
    "    \n"
   ]
  },
  {
   "cell_type": "code",
   "execution_count": 19,
   "metadata": {},
   "outputs": [
    {
     "data": {
      "text/plain": [
       "'))(('"
      ]
     },
     "execution_count": 19,
     "metadata": {},
     "output_type": "execute_result"
    }
   ],
   "source": [
    "u"
   ]
  },
  {
   "cell_type": "code",
   "execution_count": 20,
   "metadata": {},
   "outputs": [
    {
     "data": {
      "text/plain": [
       "'()'"
      ]
     },
     "execution_count": 20,
     "metadata": {},
     "output_type": "execute_result"
    }
   ],
   "source": [
    "v"
   ]
  },
  {
   "cell_type": "code",
   "execution_count": 21,
   "metadata": {},
   "outputs": [
    {
     "data": {
      "text/plain": [
       "'()'"
      ]
     },
     "execution_count": 21,
     "metadata": {},
     "output_type": "execute_result"
    }
   ],
   "source": [
    "result"
   ]
  },
  {
   "cell_type": "code",
   "execution_count": null,
   "metadata": {},
   "outputs": [],
   "source": []
  }
 ],
 "metadata": {
  "kernelspec": {
   "display_name": "Python 3",
   "language": "python",
   "name": "python3"
  },
  "language_info": {
   "codemirror_mode": {
    "name": "ipython",
    "version": 3
   },
   "file_extension": ".py",
   "mimetype": "text/x-python",
   "name": "python",
   "nbconvert_exporter": "python",
   "pygments_lexer": "ipython3",
   "version": "3.8.3"
  }
 },
 "nbformat": 4,
 "nbformat_minor": 4
}
