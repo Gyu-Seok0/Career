{
 "cells": [
  {
   "cell_type": "markdown",
   "metadata": {},
   "source": [
    "## 12/28 그리디 알고리즘\n",
    "### 예제1: 1이 될 때까지"
   ]
  },
  {
   "cell_type": "code",
   "execution_count": 13,
   "metadata": {},
   "outputs": [
    {
     "name": "stdout",
     "output_type": "stream",
     "text": [
      "25 5\n",
      "2\n"
     ]
    }
   ],
   "source": [
    "\n",
    "#Num2로 나눠주는 것을 먼저 수행하고, 수행불가시 1을 빼면서 그리디 알고리즘을 적용한다.\n",
    "#즉, 나눗셈의 우선순위가 뺄셈보다 높다.\n",
    "\n",
    "num1, num2 = map(int,input().split())\n",
    "cnt = 0\n",
    "while num1 != 1:\n",
    "    if num1% num2 == 0:\n",
    "        num1 = num1 // num2\n",
    "    else:\n",
    "        num1 -=1\n",
    "    cnt +=1\n",
    "print(cnt)"
   ]
  },
  {
   "cell_type": "code",
   "execution_count": 22,
   "metadata": {},
   "outputs": [
    {
     "name": "stdout",
     "output_type": "stream",
     "text": [
      "17 4\n",
      "3\n"
     ]
    }
   ],
   "source": [
    "# 동빈's YOUTUBE\n",
    "n,k = map(int, input().split())\n",
    "result = 0\n",
    "\n",
    "while True:\n",
    "    target = (n // k)*k\n",
    "    # k로 나눠지는 수가 될 수 있도록 -1 수행 --> // 연산으로 해결 가능.\n",
    "    result += (n - target)\n",
    "    n = target\n",
    "    if n < k:\n",
    "        break\n",
    "    n //= k\n",
    "    result += 1\n",
    "    \n",
    "    \n",
    "result += (n-1)\n",
    "print(result)"
   ]
  },
  {
   "cell_type": "markdown",
   "metadata": {},
   "source": [
    "### 예제2 곱하기 혹은 더하기"
   ]
  },
  {
   "cell_type": "code",
   "execution_count": 38,
   "metadata": {},
   "outputs": [
    {
     "name": "stdout",
     "output_type": "stream",
     "text": [
      "1239320548\n",
      "103840\n"
     ]
    }
   ],
   "source": [
    "# 곱하기 연산이 먼저,\n",
    "# 단, 0과 1은 덧셈연산이 수를 더 크게 만든다.\n",
    "\n",
    "str = input()\n",
    "result = 1\n",
    "for i in range(len(str)):\n",
    "    if str[i] == '0' or str[i] == '1':\n",
    "        result += 1\n",
    "    else:\n",
    "        result *= int(str[i])\n",
    "print(result)"
   ]
  },
  {
   "cell_type": "markdown",
   "metadata": {},
   "source": [
    "### 예제3 모함가 길드"
   ]
  },
  {
   "cell_type": "code",
   "execution_count": 51,
   "metadata": {},
   "outputs": [
    {
     "name": "stdout",
     "output_type": "stream",
     "text": [
      "2 2 3 2 2 2\n"
     ]
    },
    {
     "data": {
      "text/plain": [
       "4"
      ]
     },
     "execution_count": 51,
     "metadata": {},
     "output_type": "execute_result"
    }
   ],
   "source": [
    "# group = list(map(int, input().split()))\n",
    "# group = sorted(group)\n",
    "\n",
    "# cnt = 0\n",
    "# while True:\n",
    "#     cnt += 1\n",
    "#     if len(group) <= group[-1]:\n",
    "#         break\n",
    "#     token = group[-1]\n",
    "#     group = group[:len(group) - token + 1]\n",
    "# cnt"
   ]
  },
  {
   "cell_type": "code",
   "execution_count": 57,
   "metadata": {},
   "outputs": [
    {
     "name": "stdout",
     "output_type": "stream",
     "text": [
      "5\n",
      "1 3 2 4 2\n",
      "1 1\n",
      "2 2\n",
      "2\n"
     ]
    }
   ],
   "source": [
    "# 정답\n",
    "N = int(input())\n",
    "group = list(map(int, input().split()))\n",
    "group.sort()\n",
    "cnt = 0\n",
    "\n",
    "result = 0 # 총 그룹의 개수\n",
    "cnt = 0 # 현재 그룹의 그룹원 수\n",
    "\n",
    "for i in group:\n",
    "    cnt += 1\n",
    "    if cnt >= i:\n",
    "        result += 1\n",
    "        cnt = 0\n",
    "print(result)\n",
    "    "
   ]
  },
  {
   "cell_type": "markdown",
   "metadata": {},
   "source": [
    "예제 3번 문제를 제대로 해결하지 못했는데,\n",
    "\n",
    "1) 문제이해를 제대로 안했음\n",
    "\n",
    "2) 슬라이싱으로 문제를 해결하려고 했음 --> List out of index 문제가 빈번히 발생할 수 있음\n",
    "\n",
    "결론: Simple is best"
   ]
  },
  {
   "cell_type": "markdown",
   "metadata": {},
   "source": [
    "## 백준 1439번 문제 뒤집기"
   ]
  },
  {
   "cell_type": "code",
   "execution_count": 82,
   "metadata": {},
   "outputs": [
    {
     "name": "stdout",
     "output_type": "stream",
     "text": [
      "0001100\n",
      "1\n"
     ]
    }
   ],
   "source": [
    "#0으로 뒤집을 떄랑, 1로 뒤집을 때랑 횟수를 비교하면 될듯\n",
    "\n",
    "data = input()\n",
    "\n",
    "cnt1 = 0 \n",
    "dup = -1 #duplicate의 약자로 연속이 얼만큼 이어지는지 확인--> 일종의 penalty 역할을 함.\n",
    "for i in data:\n",
    "    if int(i) == 0:\n",
    "        if dup != -1:\n",
    "            cnt1 -= dup\n",
    "            dup = -1\n",
    "        continue\n",
    "    else:\n",
    "        dup += 1\n",
    "        cnt1 += 1\n",
    "\n",
    "cnt2 = 0\n",
    "dup = -1\n",
    "for i in data:\n",
    "    if int(i) == 1:\n",
    "        if dup != -1:\n",
    "            cnt2 -= dup\n",
    "            dup = -1\n",
    "        continue\n",
    "    else:\n",
    "        dup += 1\n",
    "        cnt2 += 1\n",
    "\n",
    "if cnt1 < cnt2: \n",
    "    print(cnt1)\n",
    "else:\n",
    "    print(cnt2)\n",
    "        "
   ]
  }
 ],
 "metadata": {
  "kernelspec": {
   "display_name": "Python 3",
   "language": "python",
   "name": "python3"
  },
  "language_info": {
   "codemirror_mode": {
    "name": "ipython",
    "version": 3
   },
   "file_extension": ".py",
   "mimetype": "text/x-python",
   "name": "python",
   "nbconvert_exporter": "python",
   "pygments_lexer": "ipython3",
   "version": "3.8.3"
  }
 },
 "nbformat": 4,
 "nbformat_minor": 4
}
