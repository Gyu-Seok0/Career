{
 "cells": [
  {
   "cell_type": "markdown",
   "metadata": {},
   "source": [
    "# 구현: 알고리즘은 쉬운데, 코드구현이 어려운 경우"
   ]
  },
  {
   "cell_type": "markdown",
   "metadata": {},
   "source": [
    "#### 상하좌우"
   ]
  },
  {
   "cell_type": "code",
   "execution_count": 9,
   "metadata": {},
   "outputs": [
    {
     "name": "stdout",
     "output_type": "stream",
     "text": [
      "4 3\n"
     ]
    }
   ],
   "source": [
    "N = int(input())\n",
    "data = list(input().split())\n",
    "\n",
    "x = 1\n",
    "y = 1\n",
    "\n",
    "for command in data:\n",
    "    if command == 'R':\n",
    "        if x + 1 > N:\n",
    "            continue\n",
    "        x += 1\n",
    "    elif command == 'L':\n",
    "        if x - 1 < 1:\n",
    "            continue\n",
    "        x -= 1\n",
    "    elif command == 'U':\n",
    "        if y - 1 < 1:\n",
    "            continue\n",
    "        y -= 1\n",
    "    elif command == 'D':\n",
    "        if y + 1 > N:\n",
    "            continue\n",
    "        y += 1\n",
    "        \n",
    "print(x,y)"
   ]
  },
  {
   "cell_type": "markdown",
   "metadata": {},
   "source": [
    "#### 시각"
   ]
  },
  {
   "cell_type": "code",
   "execution_count": 11,
   "metadata": {},
   "outputs": [
    {
     "data": {
      "text/plain": [
       "12504"
      ]
     },
     "execution_count": 11,
     "metadata": {},
     "output_type": "execute_result"
    }
   ],
   "source": [
    "'''\n",
    "3이 한 번도 포함 안되는 경우로 푸는 게 더 깔끔.\n",
    "\n",
    "초: 0 ~ 59초: 5 * 9 --> 45 가지 경우의 수\n",
    "분: 0 ~ 59분: 5 * 9 --> 45 가지 경우의 수\n",
    "시: N시: 3시 13시 23시인지가 중요\n",
    "'''"
   ]
  },
  {
   "cell_type": "code",
   "execution_count": 22,
   "metadata": {},
   "outputs": [
    {
     "name": "stdout",
     "output_type": "stream",
     "text": [
      "5\n",
      "11475\n"
     ]
    }
   ],
   "source": [
    "N = int(input())\n",
    "if N < 3:\n",
    "    temp = (N+1)*45*45\n",
    "elif N < 13:\n",
    "    temp = (N)*45*45\n",
    "elif N < 23:\n",
    "    temp = (N-1)*45*45\n",
    "else:\n",
    "    temp = (N-2)*45*45\n",
    "\n",
    "print((N+1)*3600 - temp)"
   ]
  },
  {
   "cell_type": "code",
   "execution_count": 23,
   "metadata": {},
   "outputs": [
    {
     "name": "stdout",
     "output_type": "stream",
     "text": [
      "5\n",
      "11475\n"
     ]
    }
   ],
   "source": [
    "# 동빈: 파이썬이 1초에 2000만번 연산이 가능한 것을 이용해서 완전탐색(브루트포스)를 이용\n",
    "# 삼중 for문이 O(n^3)인걸 감안했을 때, 효율적인지 모르겠다.\n",
    "h = int(input())\n",
    "cnt = 0\n",
    "for i in range(h+1):\n",
    "    for j in range(60):\n",
    "        for k in range(60):\n",
    "            if '3' in str(i) + str(j) + str(k):\n",
    "                cnt += 1\n",
    "print(cnt)"
   ]
  },
  {
   "cell_type": "markdown",
   "metadata": {},
   "source": [
    "#### 왕실의 나이트"
   ]
  },
  {
   "cell_type": "code",
   "execution_count": 15,
   "metadata": {},
   "outputs": [
    {
     "name": "stdout",
     "output_type": "stream",
     "text": [
      "c2\n"
     ]
    }
   ],
   "source": [
    "temp = input()\n",
    "\n",
    "chess =['a','b','c','d','e','f','g','h']\n",
    "\n",
    "row = int(temp[1])\n",
    "col = chess.index(temp[0]) + 1"
   ]
  },
  {
   "cell_type": "code",
   "execution_count": 16,
   "metadata": {},
   "outputs": [
    {
     "name": "stdout",
     "output_type": "stream",
     "text": [
      "6\n"
     ]
    }
   ],
   "source": [
    "cnt = 0\n",
    "# 왼쪽으로 두번\n",
    "if col - 2 >= 1:\n",
    "    if row - 1 >= 1:\n",
    "        cnt += 1\n",
    "    if row + 1 <= 8:\n",
    "        cnt += 1\n",
    "\n",
    "# 오른쪽으로 두번\n",
    "if col + 2 <= 8:\n",
    "    if row - 1 >= 1:\n",
    "        cnt += 1\n",
    "    if row + 1 <= 8:\n",
    "        cnt += 1\n",
    "\n",
    "# 위로 두번\n",
    "if row - 2 >= 1:\n",
    "    if col - 1 >= 1:\n",
    "        cnt += 1\n",
    "    if col + 1 <= 8:\n",
    "        cnt += 1\n",
    "\n",
    "# 아래로 두번\n",
    "if row +2 <= 8:\n",
    "    if col -1 >=1 :\n",
    "        cnt += 1\n",
    "    if col +1 <= 8:\n",
    "        cnt +=1\n",
    "print(cnt)\n"
   ]
  },
  {
   "cell_type": "code",
   "execution_count": 17,
   "metadata": {},
   "outputs": [
    {
     "name": "stdout",
     "output_type": "stream",
     "text": [
      "6\n"
     ]
    }
   ],
   "source": [
    "#방향벡터를 이용해서 문제풀이 하기!\n",
    "count = 0\n",
    "steps = [(-2,-1), (-2,1), (-1,-2), (-1,2), (1,-2), (1,2), (2,-1), (2,1)]\n",
    "for step in steps:\n",
    "    nx = row + step[0]\n",
    "    ny = col + step[1]\n",
    "    if nx >= 1 and nx <= 8 and ny >= 1 and ny <= 8:\n",
    "        count +=1\n",
    "print(count)"
   ]
  },
  {
   "cell_type": "code",
   "execution_count": null,
   "metadata": {},
   "outputs": [],
   "source": []
  }
 ],
 "metadata": {
  "kernelspec": {
   "display_name": "Python 3",
   "language": "python",
   "name": "python3"
  },
  "language_info": {
   "codemirror_mode": {
    "name": "ipython",
    "version": 3
   },
   "file_extension": ".py",
   "mimetype": "text/x-python",
   "name": "python",
   "nbconvert_exporter": "python",
   "pygments_lexer": "ipython3",
   "version": "3.8.3"
  }
 },
 "nbformat": 4,
 "nbformat_minor": 4
}
