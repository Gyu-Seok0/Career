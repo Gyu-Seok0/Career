{
 "cells": [
  {
   "cell_type": "markdown",
   "metadata": {},
   "source": [
    "# 크루스칼 알고리즘\n",
    "* 신장트리: 모든 node들을 연결하되, cycle이 만들어져서는 안된다.\n",
    "\n",
    "크루스칼 알고리즘은 아래와 같다.\n",
    "\n",
    "1) edge를 오름차순 기준으로 하나씩 check<br>\n",
    "2) 이때 cycle이 아니라면 연결하면 된다. <br>\n",
    "3) 모든 node들이 연결되면 done\n",
    "\n",
    "이를 find-union 알고리즘이라고도 부른다.<br>\n",
    "O(ElogE)의 시간복잡도를 가진다."
   ]
  },
  {
   "cell_type": "code",
   "execution_count": null,
   "metadata": {},
   "outputs": [],
   "source": [
    "# 특정 원소의 root를 찾아줍니다.\n",
    "# 이를 통해 어디에 속한 집합인지를 알 수 있죠!\n",
    "def find_parent(parent, x):\n",
    "    if parent[x] != x:\n",
    "        parent[x]= find_parent(parent, parent[x])\n",
    "    return parent[x]\n",
    "\n",
    "# 두 원소를 합칩니다.\n",
    "# 이때 낮은 번호의 순을 규칙으로 잡습니다.\n",
    "def union_parent(parent,a,b):\n",
    "    a = find_parent(parent,a)\n",
    "    b = find_parent(parent,b)\n",
    "    \n",
    "    if a < b:\n",
    "        parent[b] = a\n",
    "    else:\n",
    "        parent[a] = b\n",
    "        \n",
    "# 노드와 간선의 개수를 입력받기\n",
    "v,e = map(int, input().split())\n",
    "parent = [0] * (v+1)\n",
    "\n",
    "edges = []\n",
    "result = 0\n",
    "\n",
    "# 부모 테이블 상에서, 부모를 자기 자신으로 초기화\n",
    "for i in range(1,v+1):\n",
    "    parent[i] = i\n",
    "\n",
    "# 모든 간선에 대한 정보를 입력 받기\n",
    "for _ in range(e):\n",
    "    a, b, cost = map(int, input().split())\n",
    "    edges.append((cost,a,b)) #이렇게 해야 cost순으로 정렬이 되거든\n",
    "\n",
    "# 크루스칼 알고리즘에 따르면, 오름차순 형태로 edge를 확인해야지!\n",
    "edges.sort()\n",
    "\n",
    "#이제 사이클이 되는지 안되는지 확인하면서, 집합을 check\n",
    "for edge in edges:\n",
    "    cost,a,b = edge\n",
    "    # (a,b) 연결되어 있는데, 여기서 두개의 root가 다르다면 --> #사이클이 아니라는 얘기지\n",
    "    if find_parent(parent,a) != find_parent(parent,b): \n",
    "        union_parent(parent,a,b)\n",
    "        result += cost\n",
    "        \n",
    "print(result)"
   ]
  },
  {
   "cell_type": "markdown",
   "metadata": {},
   "source": [
    "# 위상정렬\n",
    "\n",
    "- <b>사이클이 없는 방향 그래프(DAG)</b> 의 모든 노드를 방향성에 거스르지 않도록 순서대로 나열하는 것을 의미한다.\n",
    "\n",
    "- Indegree: 특정 노드로 들어오는 edge의 개수 (진입차수라고도 함)\n",
    "<br>\n",
    "- outdegree: 특정 노드로 나가는 edge의 개수 (진출차수라고도 함)\n",
    "\n",
    "- 구현:\n",
    "<br>step1: 진입차수가 0인 모든 노드를 큐에 넣는다.\n",
    "<br>step2: 큐가 empty가 될때 까지 다음의 과정\n",
    "<pre> 1) 큐에서 원소를 꺼내, 해당 노드에서 out-edge를 그래프에서 제거 </pre>\n",
    "<pre> 2) 새롭게 진입차수가 0이 된 노드를 큐에 넣는다. </pre>\n",
    "\n",
    "- 특징:\n",
    "모든 원소를 방문하기 전에 큐가 빈다면, 사이클이 존재한다고 할 수 있다. <br>\n",
    "(왜냐하면, 우리는 계속 out-edge를 추가할텐데, 이게 이전에 제거된 edge를 가르킨다는 의미가 되거든)\n",
    "\n",
    "- O(V+E) vertex와 edge를 하나씩 처리"
   ]
  },
  {
   "cell_type": "code",
   "execution_count": null,
   "metadata": {},
   "outputs": [],
   "source": [
    "# 구현\n",
    "from collections import deque\n",
    "\n",
    "#노드의 개수와 간선의 개수를 입력받는다.\n",
    "v, e = map(int, input().split())\n",
    "\n",
    "#진입차수를 만들어놓습니다. (indegree)\n",
    "indegree = [0]*(v+1)\n",
    "\n",
    "# 간 노드의 연결된 간선 정보를 담기 위해 리스트를 만듭니다.\n",
    "graph = [[] for _ in range(v+1)]\n",
    "\n",
    "# graph 입력 받기\n",
    "for _ in range(e):\n",
    "    a, b = map(int, input().split())\n",
    "    graph[a].append(b)\n",
    "    indegree[b] += 1\n",
    "    \n",
    "# 위상정렬 함수\n",
    "def topology_sort():\n",
    "    result = [] #결과\n",
    "    q = deque()\n",
    "    \n",
    "    # 진입차수가 0 인 노드를 삽입\n",
    "    for i in range(1,v+1):\n",
    "        if indegree[i] == 0:\n",
    "            q.append(i)\n",
    "    \n",
    "    while q:\n",
    "        # q에서 원소 꺼내기\n",
    "        now = q.popleft()\n",
    "        result.append(now)\n",
    "        for i in graph[now]:\n",
    "            indegree[i] -= 1 # 빼주기\n",
    "            if indegree[i] == 0: #사이클이 돈다면 어찌됏든 큐에 모든 원소들이 담기지 못한다.\n",
    "                q.append(i)\n",
    "    #출력\n",
    "    for i in result:\n",
    "        print(i, end = \" \")\n",
    "\n",
    "topology_sort()"
   ]
  },
  {
   "cell_type": "markdown",
   "metadata": {},
   "source": [
    "# 도시분할계획: 백준 1647번\n",
    "크루스칼 알고리즘을 이용하면 될 것 같다."
   ]
  },
  {
   "cell_type": "code",
   "execution_count": 1,
   "metadata": {},
   "outputs": [
    {
     "name": "stdout",
     "output_type": "stream",
     "text": [
      "5\n"
     ]
    },
    {
     "ename": "ValueError",
     "evalue": "not enough values to unpack (expected 2, got 1)",
     "output_type": "error",
     "traceback": [
      "\u001b[0;31m---------------------------------------------------------------------------\u001b[0m",
      "\u001b[0;31mValueError\u001b[0m                                Traceback (most recent call last)",
      "\u001b[0;32m<ipython-input-1-3e00ba2eabf6>\u001b[0m in \u001b[0;36m<module>\u001b[0;34m\u001b[0m\n\u001b[1;32m     18\u001b[0m         \u001b[0mparent\u001b[0m\u001b[0;34m[\u001b[0m\u001b[0ma\u001b[0m\u001b[0;34m]\u001b[0m \u001b[0;34m=\u001b[0m \u001b[0mb\u001b[0m\u001b[0;34m\u001b[0m\u001b[0;34m\u001b[0m\u001b[0m\n\u001b[1;32m     19\u001b[0m \u001b[0;31m# 입력받기\u001b[0m\u001b[0;34m\u001b[0m\u001b[0;34m\u001b[0m\u001b[0;34m\u001b[0m\u001b[0m\n\u001b[0;32m---> 20\u001b[0;31m \u001b[0mN\u001b[0m\u001b[0;34m,\u001b[0m\u001b[0mM\u001b[0m \u001b[0;34m=\u001b[0m \u001b[0mmap\u001b[0m\u001b[0;34m(\u001b[0m\u001b[0mint\u001b[0m\u001b[0;34m,\u001b[0m \u001b[0minput\u001b[0m\u001b[0;34m(\u001b[0m\u001b[0;34m)\u001b[0m\u001b[0;34m.\u001b[0m\u001b[0msplit\u001b[0m\u001b[0;34m(\u001b[0m\u001b[0;34m)\u001b[0m\u001b[0;34m)\u001b[0m\u001b[0;34m\u001b[0m\u001b[0;34m\u001b[0m\u001b[0m\n\u001b[0m\u001b[1;32m     21\u001b[0m \u001b[0mparent\u001b[0m \u001b[0;34m=\u001b[0m \u001b[0;34m[\u001b[0m\u001b[0;36m0\u001b[0m\u001b[0;34m]\u001b[0m \u001b[0;34m*\u001b[0m \u001b[0;34m(\u001b[0m\u001b[0mN\u001b[0m\u001b[0;34m+\u001b[0m\u001b[0;36m1\u001b[0m\u001b[0;34m)\u001b[0m\u001b[0;34m\u001b[0m\u001b[0;34m\u001b[0m\u001b[0m\n\u001b[1;32m     22\u001b[0m \u001b[0medges\u001b[0m \u001b[0;34m=\u001b[0m \u001b[0;34m[\u001b[0m\u001b[0;34m]\u001b[0m\u001b[0;34m\u001b[0m\u001b[0;34m\u001b[0m\u001b[0m\n",
      "\u001b[0;31mValueError\u001b[0m: not enough values to unpack (expected 2, got 1)"
     ]
    }
   ],
   "source": [
    "#방법 1\n",
    "import heapq\n",
    "\n",
    "def find_parent(parent, x):\n",
    "    if parent[x] != x:\n",
    "        parent[x]= find_parent(parent, parent[x])\n",
    "    return parent[x]\n",
    "\n",
    "# 두 원소를 합칩니다.\n",
    "# 이때 낮은 번호의 순을 규칙으로 잡습니다.\n",
    "def union_parent(parent,a,b):\n",
    "    a = find_parent(parent,a)\n",
    "    b = find_parent(parent,b)\n",
    "    \n",
    "    if a < b:\n",
    "        parent[b] = a\n",
    "    else:\n",
    "        parent[a] = b\n",
    "# 입력받기\n",
    "N,M = map(int, input().split())\n",
    "parent = [0] * (N+1)\n",
    "edges = []\n",
    "\n",
    "#자기자신으로 parent\n",
    "for i in range(1,N+1):\n",
    "    parent[i] = i\n",
    "\n",
    "for _ in range(M):\n",
    "    a,b,cost = map(int,input().split())\n",
    "    heapq.heappush(edges,(cost,a,b))\n",
    "    \n",
    "result = 0\n",
    "while edges:\n",
    "    cost,a,b = heapq.heappop(edges)\n",
    "    if find_parent(parent,a) != find_parent(parent,b):\n",
    "        temp = cost\n",
    "        union_parent(parent,a,b)\n",
    "        result += cost        \n",
    "print(result-temp)\n"
   ]
  },
  {
   "cell_type": "code",
   "execution_count": null,
   "metadata": {},
   "outputs": [],
   "source": [
    "#방법 2\n",
    "\n",
    "def find_parent(parent, x):\n",
    "    if parent[x] != x:\n",
    "        parent[x]= find_parent(parent, parent[x])\n",
    "    return parent[x]\n",
    "\n",
    "# 이때 낮은 번호의 순을 규칙으로 잡습니다.\n",
    "def union_parent(parent,a,b):\n",
    "    a = find_parent(parent,a)\n",
    "    b = find_parent(parent,b)\n",
    "    if a < b:\n",
    "        parent[b] = a\n",
    "    else:\n",
    "        parent[a] = b\n",
    "# 입력받기\n",
    "N,M = map(int, input().split())\n",
    "parent = [0] * (N+1)\n",
    "edges = []\n",
    "\n",
    "#자기자신으로 parent\n",
    "for i in range(1,N+1):\n",
    "    parent[i] = i\n",
    "\n",
    "for _ in range(M):\n",
    "    a,b,cost = map(int,input().split())\n",
    "    edges.append((cost,a,b))\n",
    "\n",
    "edges.sort()\n",
    "\n",
    "result = 0\n",
    "for edge in edges:\n",
    "    cost,a,b = edge\n",
    "    # 사이클이 아니라면, \n",
    "    if find_parent(parent,a) != find_parent(parent,b):\n",
    "        temp = cost\n",
    "        union_parent(parent,a,b)\n",
    "        result += cost        \n",
    "print(result-temp)\n"
   ]
  },
  {
   "cell_type": "markdown",
   "metadata": {},
   "source": [
    "# 느낀점:\n",
    "heap 자료 구조를 사용하면, log(n)만큼의 시간복잡도를 가져서 sort할때 시간초과를 면할 수 있을 줄 알았는데, 그냥 sort가 빠른가보다..\n",
    "파이썬 내장 sort를 믿자."
   ]
  },
  {
   "cell_type": "markdown",
   "metadata": {},
   "source": [
    "# 행성터널: 백준 2887번"
   ]
  },
  {
   "cell_type": "code",
   "execution_count": 3,
   "metadata": {},
   "outputs": [
    {
     "name": "stdout",
     "output_type": "stream",
     "text": [
      "5\n",
      "11 -15 -15\n",
      "14 -5 -15\n",
      "-1 -1 -5\n",
      "10 -4 -1\n",
      "19 -4 19\n",
      "4\n"
     ]
    }
   ],
   "source": [
    "#방법1 combination을 사용했다\n",
    "#메모리 초과가 난다.. 3개씩 묶으면 그런건가??\n",
    "\n",
    "from itertools import combinations\n",
    "\n",
    "N = int(input())\n",
    "array = [list(map(int,input().split())) for _ in range(N)]\n",
    "# parent 찾기\n",
    "def find_parent(parent,x):\n",
    "    if parent[x] != x:\n",
    "        parent[x] = find_parent(parent, parent[x])\n",
    "    return parent[x]\n",
    "# union --> 작은 수 기준\n",
    "def union_parent(parent,a,b):\n",
    "    a = find_parent(parent,a)\n",
    "    b = find_parent(parent,b)\n",
    "    if a < b:\n",
    "        parent[b] = a\n",
    "    else:\n",
    "        parent[a] = b\n",
    "        \n",
    "# 자기자신으로 Parent 지정\n",
    "parent = [0]*(N+1)\n",
    "for i in range(1,N+1):\n",
    "    parent[i] = i\n",
    "\n",
    "distance = []\n",
    "index = [i for i in range(1,N+1)]\n",
    "for i in combinations(index,2):\n",
    "    a,b = array[i[0]-1], array[i[1]-1]\n",
    "    temp = min(abs(a[0] - b[0]), abs(a[1] - b[1]), abs(a[2] - b[2]))\n",
    "    distance.append((temp,i[0],i[1]))\n",
    "distance.sort()\n",
    "\n",
    "result = 0\n",
    "for edge in distance:\n",
    "    cost,a,b = edge\n",
    "    # 사이클이 아니라면, \n",
    "    if find_parent(parent,a) != find_parent(parent,b):\n",
    "        union_parent(parent,a,b)\n",
    "        result += cost\n",
    "print(result)"
   ]
  },
  {
   "cell_type": "code",
   "execution_count": 12,
   "metadata": {},
   "outputs": [
    {
     "data": {
      "text/plain": [
       "10"
      ]
     },
     "execution_count": 12,
     "metadata": {},
     "output_type": "execute_result"
    }
   ],
   "source": [
    "len(distance)"
   ]
  },
  {
   "cell_type": "code",
   "execution_count": 13,
   "metadata": {},
   "outputs": [
    {
     "name": "stdout",
     "output_type": "stream",
     "text": [
      "5\n",
      "11 -15 -15\n",
      "14 -5 -15\n",
      "-1 -1 -5\n",
      "10 -4 -1\n",
      "19 -4 19\n",
      "4\n"
     ]
    }
   ],
   "source": [
    "def find_parent(parent,x):\n",
    "    if parent[x] != x:\n",
    "        parent[x] = find_parent(parent,parent[x])\n",
    "    return parent[x]\n",
    "\n",
    "def union_parent(parent,a,b):\n",
    "    a = find_parent(parent,a)\n",
    "    b = find_parent(parent,b)\n",
    "    if a < b:\n",
    "        parent[b] = a\n",
    "    else:\n",
    "        parent[a] = b\n",
    "\n",
    "n = int(input())\n",
    "parent = [0] * (n+1)\n",
    "\n",
    "edges = []\n",
    "result = 0\n",
    "\n",
    "for i in range(1,n+1):\n",
    "    parent[i] = i\n",
    "    \n",
    "x = []\n",
    "y = []\n",
    "z = []\n",
    "\n",
    "for i in range(1,n+1):\n",
    "    data = list(map(int,input().split()))\n",
    "    x.append((data[0],i)) #x\n",
    "    y.append((data[1],i)) #y\n",
    "    z.append((data[2],i)) #z\n",
    "    \n",
    "x.sort()\n",
    "y.sort()\n",
    "z.sort()\n",
    "\n",
    "# n-1개를 연결한다고 했으니까!\n",
    "for i in range(n-1):\n",
    "    edges.append((x[i+1][0] - x[i][0], x[i][1], x[i+1][1]))\n",
    "    edges.append((y[i+1][0] - y[i][0], y[i][1], y[i+1][1]))\n",
    "    edges.append((z[i+1][0] - z[i][0], z[i][1], z[i+1][1]))\n",
    "\n",
    "edges.sort()\n",
    "for edge in edges:\n",
    "    cost,a,b = edge\n",
    "    if find_parent(parent,a) != find_parent(parent,b):\n",
    "        union_parent(parent,a,b)\n",
    "        result += cost\n",
    "print(result)\n"
   ]
  },
  {
   "cell_type": "code",
   "execution_count": null,
   "metadata": {},
   "outputs": [],
   "source": []
  }
 ],
 "metadata": {
  "kernelspec": {
   "display_name": "Python 3",
   "language": "python",
   "name": "python3"
  },
  "language_info": {
   "codemirror_mode": {
    "name": "ipython",
    "version": 3
   },
   "file_extension": ".py",
   "mimetype": "text/x-python",
   "name": "python",
   "nbconvert_exporter": "python",
   "pygments_lexer": "ipython3",
   "version": "3.8.3"
  }
 },
 "nbformat": 4,
 "nbformat_minor": 4
}
