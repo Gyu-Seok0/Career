{
 "cells": [
  {
   "cell_type": "markdown",
   "metadata": {},
   "source": [
    "# DFS / BFS 구현 연습"
   ]
  },
  {
   "cell_type": "code",
   "execution_count": 9,
   "metadata": {},
   "outputs": [
    {
     "name": "stdout",
     "output_type": "stream",
     "text": [
      "1 2 3 8 7 4 5 6 "
     ]
    }
   ],
   "source": [
    "# DFS - stack 구조나 재귀함수 이용\n",
    "graph = [\n",
    "    [],    # 0번 노드는 없으므로, 비워둔다.\n",
    "    [2,3,8], #1번 노드와 연결된 노드들\n",
    "    [1,7],\n",
    "    [1,4,5],\n",
    "    [3,5],\n",
    "    [3,4],\n",
    "    [7],\n",
    "    [2,6,8],\n",
    "    [1,7]\n",
    "]\n",
    "\n",
    "visited = [False]*len(graph)\n",
    "\n",
    "def dfs(graph, v, visited):\n",
    "    visited[v] = True\n",
    "    print(v, end=\" \")\n",
    "    for i in graph[v]:\n",
    "        if not visited[i]:\n",
    "            dfs(graph,i,visited)\n",
    "#dfs(graph,1,visited)\n",
    "\n",
    "# BFS - queue 구조 사용\n",
    "from collections import deque\n",
    "\n",
    "def BFS(graph, start, visited):\n",
    "    queue = deque([start])\n",
    "    visited[start] = True\n",
    "    while queue:\n",
    "        temp = queue.popleft()\n",
    "        print(temp, end=\" \")\n",
    "        for num in graph[temp]:\n",
    "            if not visited[num]:\n",
    "                queue.append(num)\n",
    "                visited[num] = True\n",
    "                \n",
    "BFS(graph,1,visited)"
   ]
  },
  {
   "cell_type": "code",
   "execution_count": 39,
   "metadata": {
    "scrolled": true
   },
   "outputs": [
    {
     "name": "stdout",
     "output_type": "stream",
     "text": [
      "5 6\n",
      "101010\n",
      "111111\n",
      "000001\n",
      "111111\n",
      "111111\n"
     ]
    }
   ],
   "source": [
    "# 미로탈출문제\n",
    "# 0인 부분은 괴물, 1인 부분은 길 --> 깊이가 중요 --> DFS\n",
    "N,M = map(int, input().split())\n",
    "graph = [list(map(int, input())) for i in range(N)]\n"
   ]
  },
  {
   "cell_type": "code",
   "execution_count": 70,
   "metadata": {},
   "outputs": [
    {
     "name": "stdout",
     "output_type": "stream",
     "text": [
      "10\n"
     ]
    }
   ],
   "source": [
    "#최단거리 문제 --> dijistra algorithm\n",
    "#입력이 들어가면, 오른쪽과 아래를 살피고, 큐에 집어넣기, \n",
    "# 큐에서 하나씩 나오면서 해당 과정을 끝까지 수행.\n",
    "from collections import deque\n",
    "\n",
    "# 방향\n",
    "dx = [0, 1]\n",
    "dy = [1, 0]\n",
    "queue = deque()\n",
    "queue.append((0,0))\n",
    "while queue:\n",
    "    x, y = queue.popleft()\n",
    "    for i in range(2):\n",
    "        temp_x = x + dx[i]\n",
    "        temp_y = y + dy[i]\n",
    "        if temp_x < 0 or temp_x >= N or temp_y < 0 or temp_y >= M:\n",
    "            pass\n",
    "        else:\n",
    "            if graph[temp_x][temp_y] > 0:\n",
    "                queue.append((temp_x,temp_y))\n",
    "                graph[temp_x][temp_y] = graph[x][y] + 1\n",
    "\n",
    "\n",
    "print(graph[N-1][M-1])\n"
   ]
  },
  {
   "cell_type": "code",
   "execution_count": 71,
   "metadata": {},
   "outputs": [
    {
     "data": {
      "text/plain": [
       "[[1, 0, 1, 0, 1, 0],\n",
       " [2, 3, 4, 5, 6, 7],\n",
       " [0, 0, 0, 0, 0, 8],\n",
       " [1, 1, 1, 1, 1, 9],\n",
       " [1, 1, 1, 1, 1, 10]]"
      ]
     },
     "execution_count": 71,
     "metadata": {},
     "output_type": "execute_result"
    }
   ],
   "source": [
    "graph"
   ]
  },
  {
   "cell_type": "markdown",
   "metadata": {},
   "source": [
    "위 문제를 풀면서 알 수 있던 점\n",
    "\n",
    "1. 원래는 distance라는 새로운 변수를 N by M의 크기로 만들어서 해결하려고 했는데, 그냥 graph에다가 활용 가능 --> 시간 복잡도 줄어든다.\n",
    "\n",
    "\n",
    "2. queue에서 튜플로 append를 하고, popleft를 하게 되면 다음과 같은 기능이 가능하다. (튜플로 묶인 pair을 각각에 대입 가능)\n",
    "a, b = queue.popleft()\n",
    "\n"
   ]
  },
  {
   "cell_type": "markdown",
   "metadata": {},
   "source": [
    "### [백준 18352] 특정의 거리 찾기"
   ]
  },
  {
   "cell_type": "code",
   "execution_count": 150,
   "metadata": {},
   "outputs": [
    {
     "name": "stdout",
     "output_type": "stream",
     "text": [
      "4 4 1 1\n",
      "1 2\n",
      "1 3\n",
      "2 3\n",
      "2 4\n",
      "2\n",
      "3\n"
     ]
    }
   ],
   "source": [
    "city, road, find, start = map(int, input().split())\n",
    "graph = [list(map(int, input().split())) for i in range(road)]\n",
    "\n",
    "# start node를 시작해서, 연결된 node를 queue에 담는다.\n",
    "# 큐에 담을떄마다 거리를 1씩 증가시킨다\n",
    "\n",
    "# 큐 호출\n",
    "queue = deque()\n",
    "queue.append(start)\n",
    "\n",
    "# 거리 정보\n",
    "distance = [300000]*(city+1)\n",
    "distance[start] = 0\n",
    "\n",
    "# 방문 정보\n",
    "visited = [False] * (city+1)\n",
    "visited[start] = True\n",
    "\n",
    "# 알고리즘\n",
    "while queue:\n",
    "    target = queue.popleft()\n",
    "    for i in range(1,city+1): # city\n",
    "        if not visited[i]: #아직 방문하지 않았다면, \n",
    "            if [target,i] in graph: #그래프가 존재한다면\n",
    "                visited[i] = True #step1: 방문으로 변경!\n",
    "                queue.append(i)   #step2: 큐에 넣기             \n",
    "                distance[i] = min(distance[i], distance[target]+1)\n",
    "             \n",
    "flag = False\n",
    "for i in range(1, len(distance)):\n",
    "    if distance[i] == find:\n",
    "        print(i)\n",
    "        flag = True\n",
    "if flag == False:\n",
    "    print(-1)"
   ]
  },
  {
   "cell_type": "code",
   "execution_count": 155,
   "metadata": {},
   "outputs": [
    {
     "name": "stdout",
     "output_type": "stream",
     "text": [
      "4 4 2 1\n",
      "1 2 \n",
      "1 3\n",
      "2 3\n",
      "2 4\n",
      "4\n"
     ]
    }
   ],
   "source": [
    "#동빈's code\n",
    "from collections import deque\n",
    "\n",
    "# 도시의 개수, 도로의 개수, 거리 정보, 출발 도시 번호\n",
    "n, m, k, x = map(int, input().split())\n",
    "graph = [[] for _ in range(n + 1)]\n",
    "\n",
    "for _ in range(m):\n",
    "    a,b = map(int, input().split())\n",
    "    graph[a].append(b)\n",
    "\n",
    "distance = [-1]*(n+1)\n",
    "distance[x] = 0\n",
    "\n",
    "q = deque([x])\n",
    "while q:\n",
    "    now = q.popleft()\n",
    "    for next_node in graph[now]:\n",
    "        if distance[next_node] == -1:\n",
    "            distance[next_node] = distance[now] + 1\n",
    "            q.append(next_node)\n",
    "\n",
    "check = False\n",
    "for idx, value in enumerate(distance):\n",
    "    if value == k:\n",
    "        check = True\n",
    "        print(idx)\n",
    "        \n",
    "if check == False:\n",
    "    print(-1)\n",
    "        \n",
    "            "
   ]
  },
  {
   "cell_type": "markdown",
   "metadata": {},
   "source": [
    "### 위 문제를 풀면서 알 수 있는 점\n",
    "1. 변수는 최대한 직관적으로 쓰기 (ex. now// next_node)\n",
    "2. graph[a].append(b) 의 형태로도 input을 받을 수 있다.\n",
    "3. 최단거리를 -1로 설정해놓는다\n",
    "4. 거리의 갱신은 distance[next_node] = distance[now] +1 로도 가능하다."
   ]
  },
  {
   "cell_type": "code",
   "execution_count": null,
   "metadata": {},
   "outputs": [],
   "source": []
  }
 ],
 "metadata": {
  "kernelspec": {
   "display_name": "Python 3",
   "language": "python",
   "name": "python3"
  },
  "language_info": {
   "codemirror_mode": {
    "name": "ipython",
    "version": 3
   },
   "file_extension": ".py",
   "mimetype": "text/x-python",
   "name": "python",
   "nbconvert_exporter": "python",
   "pygments_lexer": "ipython3",
   "version": "3.8.3"
  }
 },
 "nbformat": 4,
 "nbformat_minor": 4
}
