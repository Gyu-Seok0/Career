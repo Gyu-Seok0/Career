{
 "cells": [
  {
   "cell_type": "markdown",
   "metadata": {},
   "source": [
    "# 미로탐색: 백준 2178번\n",
    "DFS를 이용해서 계속 접근하되, (N,M)에 도착하면 끝내기\n",
    "--> DFS를 사용하면 재귀에 걸려서 효율적이지 않음.\n",
    "--> BFS사용하기\n",
    "\n",
    "1) DFS를 사용하면 재귀함수를 사용해서 해당 루프가 끝날때까지 기다려야함..\n",
    "<br>2) 이럴 때는 BFS를 사용하는 것이 나음\n",
    "<br>3) 런타임에러가 계속 나왔는데, N,M 을 N,N으로 적음\n",
    "<br>4) string으로 입력을 받고, 이를 Int로 바꿔주는 형태로 풀어주는 방법도 있음 \n"
   ]
  },
  {
   "cell_type": "code",
   "execution_count": null,
   "metadata": {},
   "outputs": [],
   "source": [
    "7 7\n",
    "1011111\n",
    "1110001\n",
    "1000001\n",
    "1000001\n",
    "1000001\n",
    "1000001\n",
    "1111111"
   ]
  },
  {
   "cell_type": "code",
   "execution_count": null,
   "metadata": {},
   "outputs": [],
   "source": [
    "N,M = map(int,input().split())\n",
    "graph = []\n",
    "for i in range(N):\n",
    "    graph.append(list(input()))"
   ]
  },
  {
   "cell_type": "code",
   "execution_count": null,
   "metadata": {},
   "outputs": [],
   "source": [
    "import copy\n",
    "graph2 = copy.deepcopy(graph)\n",
    "\n",
    "dx = [1,-1,0,0] \n",
    "dy = [0,0,1,-1]\n",
    "def dfs(row,col,cnt):\n",
    "    if (row,col) == (N-1,M-1):\n",
    "        print(cnt)\n",
    "    for i in range(4):\n",
    "        tx = row + dx[i]\n",
    "        ty = col + dy[i]\n",
    "        if tx < 0 or tx >= N or ty < 0 or ty >= M:\n",
    "            continue\n",
    "        if graph2[tx][ty] == 1:\n",
    "            graph2[tx][ty] = 0\n",
    "            dfs(tx,ty,cnt+1)\n",
    "\n",
    "dfs(0,0,1)"
   ]
  },
  {
   "cell_type": "code",
   "execution_count": null,
   "metadata": {},
   "outputs": [],
   "source": [
    "graph2"
   ]
  },
  {
   "cell_type": "code",
   "execution_count": null,
   "metadata": {},
   "outputs": [],
   "source": [
    "import copy\n",
    "graph2 = copy.deepcopy(graph)\n",
    "\n",
    "dx = [1,-1,0,0] \n",
    "dy = [0,0,1,-1]\n",
    "def dfs(row,col):\n",
    "    if (row,col) == (N-1,M-1):\n",
    "        print(graph2[row][col])\n",
    "    for i in range(4):\n",
    "        tx = row + dx[i]\n",
    "        ty = col + dy[i]\n",
    "        if tx < 0 or tx >= N or ty < 0 or ty >= M:\n",
    "            continue\n",
    "        if graph2[tx][ty] == 1:\n",
    "            graph2[tx][ty] = graph2[row][col] + 1\n",
    "            dfs(tx,ty)\n",
    "dfs(0,0)"
   ]
  },
  {
   "cell_type": "code",
   "execution_count": null,
   "metadata": {},
   "outputs": [],
   "source": [
    "import copy\n",
    "graph2 = copy.deepcopy(graph)\n",
    "import sys\n",
    "\n",
    "dx = [1,-1,0,0] \n",
    "dy = [0,0,1,-1]\n",
    "result = 1e10\n",
    "def dfs(row,col,cnt):\n",
    "    for i in range(N):\n",
    "        print(*graph2[i])\n",
    "    print()\n",
    "    if (row,col) == (N-1,M-1):\n",
    "        result = min(result,cnt)\n",
    "\n",
    "    for i in range(4):\n",
    "        tx = row + dx[i]\n",
    "        ty = col + dy[i]\n",
    "        if tx < 0 or tx >= N or ty < 0 or ty >= M:\n",
    "            continue\n",
    "        if graph2[tx][ty] == 1:\n",
    "            graph2[tx][ty] = 0\n",
    "            dfs(tx,ty,cnt+1)\n",
    "            graph2[tx][ty] = 1\n",
    "print(dfs(0,0,1))"
   ]
  },
  {
   "cell_type": "code",
   "execution_count": null,
   "metadata": {},
   "outputs": [],
   "source": [
    "from collections import deque\n",
    "import copy\n",
    "graph2 = copy.deepcopy(graph)\n",
    "dx = [1,-1,0,0]\n",
    "dy = [0,0,1,-1]\n",
    "graph2[0][0] = 1\n",
    "q = deque([[0,0]])\n",
    "while q:\n",
    "    row,col = q.popleft()\n",
    "    for i in range(4):\n",
    "        tx = row + dx[i]\n",
    "        ty = col + dy[i]\n",
    "        if tx < 0 or tx >= N or ty < 0 or ty >= M:\n",
    "            continue\n",
    "        if graph2[tx][ty] == \"1\":\n",
    "            graph2[tx][ty] = graph2[row][col] + 1\n",
    "            if (tx,ty) == (N-1,M-1):\n",
    "                print(graph2[N-1][M-1])\n",
    "                sys.exit()\n",
    "            else:\n",
    "                q.append([tx,ty])"
   ]
  },
  {
   "cell_type": "code",
   "execution_count": null,
   "metadata": {},
   "outputs": [],
   "source": [
    "graph2"
   ]
  },
  {
   "cell_type": "code",
   "execution_count": null,
   "metadata": {},
   "outputs": [],
   "source": [
    "from collections import deque\n",
    "import sys\n",
    "row, col = map(int, input().split())\n",
    "graph = []\n",
    "for i in range(row):\n",
    "    graph.append(list(input()))\n",
    "q = deque([[0,0]])\n",
    "graph[0][0] = 1\n",
    "dx = [1,-1,0,0]\n",
    "dy = [0,0,1,-1]\n",
    "while q:\n",
    "    x, y = q.popleft()\n",
    "    for i in range(4):\n",
    "        tx = x + dx[i]\n",
    "        ty = y + dy[i]\n",
    "        if 0 <= tx < row and 0<= ty < col and graph[tx][ty] == \"1\":\n",
    "            q.append((tx,ty))\n",
    "            graph[tx][ty] = graph[x][y] + 1\n",
    "            if (tx,ty) == (row-1,col-1):\n",
    "                print(graph[row-1][col-1])\n",
    "                sys.exit()"
   ]
  }
 ],
 "metadata": {
  "kernelspec": {
   "display_name": "Python 3",
   "language": "python",
   "name": "python3"
  },
  "language_info": {
   "codemirror_mode": {
    "name": "ipython",
    "version": 3
   },
   "file_extension": ".py",
   "mimetype": "text/x-python",
   "name": "python",
   "nbconvert_exporter": "python",
   "pygments_lexer": "ipython3",
   "version": "3.8.3"
  }
 },
 "nbformat": 4,
 "nbformat_minor": 4
}
