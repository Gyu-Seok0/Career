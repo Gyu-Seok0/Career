{
 "cells": [
  {
   "cell_type": "markdown",
   "metadata": {},
   "source": [
    "# 동전0: 백준11047번\n",
    "위에서부터 차근차근 내려오면 될듯?"
   ]
  },
  {
   "cell_type": "code",
   "execution_count": 9,
   "metadata": {},
   "outputs": [
    {
     "name": "stdout",
     "output_type": "stream",
     "text": [
      "10 4200\n",
      "1\n",
      "5\n",
      "10\n",
      "50\n",
      "100\n",
      "500\n",
      "1000\n",
      "5000\n",
      "10000\n",
      "50000\n",
      "6\n"
     ]
    }
   ],
   "source": [
    "N,K = map(int, input().split())\n",
    "coin = [int(input()) for _ in range(N)]\n",
    "cnt = 0\n",
    "for now in reversed(coin):\n",
    "    if K == 0:\n",
    "        break\n",
    "    else:\n",
    "        cnt += K // now # 몫\n",
    "        K %= now #나머지\n",
    "print(cnt)"
   ]
  },
  {
   "cell_type": "markdown",
   "metadata": {},
   "source": [
    "# 회의실 배정: 백준1931번\n",
    "- 1차적인 생각: 뭔가 내 생각에는 시작시간과 종료시간의 간격이 가장 짧은 순으로 넣어주면 될 것 같다는 판단이 든다\n",
    "- 2차적인 생각: 그냥 시작부터 시작해서 "
   ]
  },
  {
   "cell_type": "code",
   "execution_count": 35,
   "metadata": {},
   "outputs": [
    {
     "name": "stdout",
     "output_type": "stream",
     "text": [
      "3\n",
      "3 5\n",
      "1 4\n",
      "4 8\n",
      "1\n"
     ]
    }
   ],
   "source": [
    "N = int(input())\n",
    "time = []\n",
    "for _ in range(N):\n",
    "    start, end = map(int,input().split())\n",
    "    time.append((end - start, start, end))\n",
    "time.sort()\n",
    "\n",
    "meet = []\n",
    "cnt = 0\n",
    "for now in time: #넣을 것\n",
    "    flag = True\n",
    "    for confirm in meet: #확인할 것\n",
    "        if confirm[1] <= now[1] < confirm[2] or  confirm[1] < now[2] < confirm[2]: \n",
    "            flag = False\n",
    "            break\n",
    "    if flag:\n",
    "        meet.append(now)\n",
    "        cnt += 1\n",
    "print(cnt)"
   ]
  },
  {
   "cell_type": "code",
   "execution_count": 14,
   "metadata": {},
   "outputs": [
    {
     "name": "stdout",
     "output_type": "stream",
     "text": [
      "1\n",
      "3 3\n",
      "1\n"
     ]
    }
   ],
   "source": [
    "# 시간초과.\n",
    "N = int(input())\n",
    "time = [tuple(map(int,input().split())) for _ in range(N)]\n",
    "time.sort(key = lambda x: (x[0],x[1]))\n",
    "#다이나믹 메모리를 이용해서 문제를 풀어보자\n",
    "dp = [1]*N\n",
    "for i in range(N):\n",
    "    for j in range(i+1,N):\n",
    "        if time[i][1] <= time[j][0]:\n",
    "            dp[j] = max(dp[j], dp[i]+1)\n",
    "print(max(dp))"
   ]
  },
  {
   "cell_type": "code",
   "execution_count": 20,
   "metadata": {},
   "outputs": [
    {
     "name": "stdout",
     "output_type": "stream",
     "text": [
      "6\n",
      "2 13\n",
      "3 5\n",
      "3 4\n",
      "3 3\n",
      "4 7\n",
      "4 6\n",
      "[1, 1, 2, 2, 3, 3]\n"
     ]
    }
   ],
   "source": [
    "N = int(input())\n",
    "time = [tuple(map(int,input().split())) for _ in range(N)]\n",
    "time.sort(key = lambda x: (x[0],x[1]))\n",
    "dp = [1]*N\n",
    "for i in range(1,N):\n",
    "    idx = 0\n",
    "    while idx < i:\n",
    "        if time[idx][1] <= time[i][0]:\n",
    "            dp[i] = max(dp[i], dp[idx] + 1)\n",
    "        idx += 1\n",
    "        \n",
    "print(max(dp))"
   ]
  },
  {
   "cell_type": "code",
   "execution_count": 23,
   "metadata": {},
   "outputs": [
    {
     "name": "stdout",
     "output_type": "stream",
     "text": [
      "6 \n",
      "2 13\n",
      "3 5\n",
      "3 4\n",
      "3 3\n",
      "4 7\n",
      "4 6\n",
      "3\n"
     ]
    }
   ],
   "source": [
    "# 가장 먼저 빨리 끝나는 시간을 생각해서 문제 풀이가 가능하구나.\n",
    "N = int(input())\n",
    "time = [tuple(map(int,input().split())) for _ in range(N)]\n",
    "time.sort(key = lambda x: (x[1],x[0]))\n",
    "end = 0\n",
    "ans = 0\n",
    "for now in time:\n",
    "    if end <= now[0]: # 제일 빨리 끝나는 시간 <= 시작시간\n",
    "        end = now[1] # 그 다음으로 빨리 끝나는 시간으로 수정\n",
    "        ans += 1ㅠ\n",
    "print(ans)"
   ]
  },
  {
   "cell_type": "markdown",
   "metadata": {},
   "source": [
    "느낀점: 그리디 알고리즘을 공부하면서, ㅃ"
   ]
  }
 ],
 "metadata": {
  "kernelspec": {
   "display_name": "Python 3",
   "language": "python",
   "name": "python3"
  },
  "language_info": {
   "codemirror_mode": {
    "name": "ipython",
    "version": 3
   },
   "file_extension": ".py",
   "mimetype": "text/x-python",
   "name": "python",
   "nbconvert_exporter": "python",
   "pygments_lexer": "ipython3",
   "version": "3.8.3"
  }
 },
 "nbformat": 4,
 "nbformat_minor": 4
}
