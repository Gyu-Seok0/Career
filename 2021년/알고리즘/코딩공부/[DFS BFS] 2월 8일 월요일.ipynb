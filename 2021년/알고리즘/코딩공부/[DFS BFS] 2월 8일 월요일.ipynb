{
 "cells": [
  {
   "cell_type": "markdown",
   "metadata": {},
   "source": [
    "# DFS와 BFS : 백준1260번\n",
    "1) DFS가 뭐더라 (deepth find search: 깊이 탐색하자)<br>\n",
    "재귀함수를 사용한다고 하더라\n",
    "\n",
    "2) BFS(breadth Fisrt Search: 너비우선탐색) <br>\n",
    "자기 주변에 있는 친구들을 먼저 다 출력해주는 것이 필요하다 <br>\n",
    "이때 큐를 이용하면 훨씬 쉽다.\n",
    "\n",
    "공통: 방문한걸 check해줘야될것같다.\n"
   ]
  },
  {
   "cell_type": "code",
   "execution_count": 43,
   "metadata": {},
   "outputs": [
    {
     "name": "stdout",
     "output_type": "stream",
     "text": [
      "1000 1 1000\n",
      "999 1000\n"
     ]
    }
   ],
   "source": [
    "from collections import deque\n",
    "N,M, start = map(int, input().split())\n",
    "graph = [[] for _ in range(N+1)]\n",
    "for _ in range(M):\n",
    "    a,b = map(int, input().split())\n",
    "    graph[a].append(b)\n",
    "    graph[b].append(a)\n",
    "for i in range(len(graph)):\n",
    "    graph[i].sort()"
   ]
  },
  {
   "cell_type": "code",
   "execution_count": 44,
   "metadata": {},
   "outputs": [
    {
     "name": "stdout",
     "output_type": "stream",
     "text": [
      "1000 999 \n",
      "1000 999 "
     ]
    }
   ],
   "source": [
    "#정점, 간선, 시작노드\n",
    "visited = [False]*(N+1)\n",
    "def dfs(graph,start):\n",
    "    visited[start] = True\n",
    "    print(start, end= \" \")\n",
    "    for now in graph[start]:\n",
    "        if not visited[now]:\n",
    "            dfs(graph,now)\n",
    "dfs(graph,start)\n",
    "print()\n",
    "visited = [False] * (N+1)\n",
    "def bfs(start):\n",
    "    q = deque([start])\n",
    "    visited[start] = True\n",
    "    while q:\n",
    "        target = q.popleft()\n",
    "        print(target, end = \" \")\n",
    "        for now in graph[target]:\n",
    "            if not visited[now]:\n",
    "                visited[now] = True\n",
    "                q.append(now)\n",
    "bfs(start)"
   ]
  },
  {
   "cell_type": "markdown",
   "metadata": {},
   "source": [
    "# 바이러스: 백준2606번"
   ]
  },
  {
   "cell_type": "code",
   "execution_count": 47,
   "metadata": {},
   "outputs": [
    {
     "name": "stdout",
     "output_type": "stream",
     "text": [
      "7\n",
      "4\n",
      "1 2\n",
      "2 4\n",
      "4 3\n",
      "3 5\n",
      "4\n"
     ]
    }
   ],
   "source": [
    "#dfs로 문제를 풀어서 카운트 하면 될 것 같다.\n",
    "N = int(input())\n",
    "M = int(input())\n",
    "graph = [[] for _ in range(N+1)]\n",
    "for _ in range(M):\n",
    "    a,b = map(int, input().split())\n",
    "    graph[a].append(b)\n",
    "    graph[b].append(a)\n",
    "\n",
    "cnt = -1\n",
    "visited = [False] * (N+1)\n",
    "\n",
    "def dfs(start):\n",
    "    global cnt\n",
    "    cnt += 1\n",
    "    visited[start] = True\n",
    "    for now in graph[start]:\n",
    "        if not visited[now]:\n",
    "            dfs(now)\n",
    "dfs(1)\n",
    "print(cnt)"
   ]
  },
  {
   "cell_type": "markdown",
   "metadata": {},
   "source": [
    "# 멱집합 구하기: 인프런"
   ]
  },
  {
   "cell_type": "code",
   "execution_count": 74,
   "metadata": {},
   "outputs": [
    {
     "name": "stdout",
     "output_type": "stream",
     "text": [
      "[[], ['a'], ['a', 'b'], ['a', 'b', 'c'], ['a', 'b', 'c', 'd'], ['a', 'b', 'd'], ['a', 'c'], ['a', 'c', 'd'], ['a', 'd'], ['b'], ['b', 'c'], ['b', 'c', 'd'], ['b', 'd'], ['c'], ['c', 'd'], ['d']]\n",
      "0.006056070327758789\n"
     ]
    }
   ],
   "source": [
    "import time\n",
    "import copy\n",
    "\n",
    "start = time.time()\n",
    "\n",
    "temp = ['a','b','c','d']\n",
    "ans = [[]]\n",
    "def power(N,graph):\n",
    "    if N == 0:\n",
    "        return\n",
    "    else:\n",
    "        for now in graph:\n",
    "            test = copy.deepcopy(graph)\n",
    "            test.remove(now)\n",
    "            power(N-1, test)\n",
    "        if graph not in ans:\n",
    "            ans.append(graph)\n",
    "\n",
    "power(len(temp), temp)\n",
    "ans.sort()\n",
    "print(ans)\n",
    "end = time.time()\n",
    "print(end - start)"
   ]
  },
  {
   "cell_type": "code",
   "execution_count": 100,
   "metadata": {},
   "outputs": [
    {
     "name": "stdout",
     "output_type": "stream",
     "text": [
      "\n",
      "d \n",
      "c \n",
      "c d \n",
      "b \n",
      "b d \n",
      "b c \n",
      "b c d \n",
      "a \n",
      "a d \n",
      "a c \n",
      "a c d \n",
      "a b \n",
      "a b d \n",
      "a b c \n",
      "a b c d \n"
     ]
    }
   ],
   "source": [
    "arr = ['a','b','c','d']\n",
    "n = len(arr)\n",
    "include = [True] * (n)\n",
    "def powerset(k):\n",
    "    if k == n:\n",
    "        for i in range(n):\n",
    "            if include[i]:\n",
    "                print(arr[i], end = \" \")\n",
    "        print()\n",
    "        return\n",
    "    else:\n",
    "        include[k] = False #포함하지 않는 경우 \n",
    "        powerset(k+1) \n",
    "        include[k] = True #포함시키기\n",
    "        powerset(k+1)\n",
    "powerset(0)"
   ]
  },
  {
   "cell_type": "markdown",
   "metadata": {},
   "source": [
    "# 부분수열의 합: 백준 1182번"
   ]
  },
  {
   "cell_type": "code",
   "execution_count": 103,
   "metadata": {},
   "outputs": [
    {
     "name": "stdout",
     "output_type": "stream",
     "text": [
      "2 0\n",
      "0 0\n",
      "3\n"
     ]
    }
   ],
   "source": [
    "N,S = map(int, input().split())\n",
    "arr = list(map(int,input().split()))\n",
    "n = len(arr)\n",
    "include = [True] * (n)\n",
    "cnt = 0\n",
    "def powerset(k):\n",
    "    global cnt\n",
    "    if k == n:\n",
    "        summation = 0\n",
    "        for i in range(n):\n",
    "            if include[i]:\n",
    "                summation += arr[i]\n",
    "        if summation == S:\n",
    "            cnt += 1\n",
    "        return\n",
    "    else:\n",
    "        include[k] = False #포함하지 않는 경우 \n",
    "        powerset(k+1) \n",
    "        include[k] = True #포함시키기\n",
    "        powerset(k+1)\n",
    "powerset(0)\n",
    "if S == 0: #문제조건에서 부분집합의 배열개수가 양수라고 표현해줬음 따라서 공집합인 경우를 빼야함)\n",
    "    print(cnt-1)\n",
    "else:\n",
    "    print(cnt)"
   ]
  },
  {
   "cell_type": "markdown",
   "metadata": {},
   "source": [
    "### 상태공간트리(state space tree)\n",
    "상태공간 내에 주어진 모든 트리를 모두 방문한다."
   ]
  },
  {
   "cell_type": "code",
   "execution_count": null,
   "metadata": {},
   "outputs": [],
   "source": []
  }
 ],
 "metadata": {
  "kernelspec": {
   "display_name": "Python 3",
   "language": "python",
   "name": "python3"
  },
  "language_info": {
   "codemirror_mode": {
    "name": "ipython",
    "version": 3
   },
   "file_extension": ".py",
   "mimetype": "text/x-python",
   "name": "python",
   "nbconvert_exporter": "python",
   "pygments_lexer": "ipython3",
   "version": "3.8.3"
  }
 },
 "nbformat": 4,
 "nbformat_minor": 4
}
