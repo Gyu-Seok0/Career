{
 "cells": [
  {
   "cell_type": "markdown",
   "metadata": {},
   "source": [
    "# 토마토: 백준 7576번\n",
    ":BFS알고리즘을 통해 풀이하면 될 것 같다. <br>\n",
    "1: 익은 토마토 <br>\n",
    "0: 익지 않은 토마토 <br>\n",
    "-1: 토마토 없음\n",
    "\n",
    "\n",
    "설명: 일반적인 BFS랑은 살짝 다르게, 하나씩 q로 움직이는게 아니라\n",
    "set로 움직이는 방식을 사용한다.\n",
    "예를 들어 (1,3), (2,3)을 [(1,2),(2,3)] 의 형태로 묶어서 움직임\n",
    "그리고 하나의 set가 끝나면, cnt를 해서 몇일이 경과했는지 확인하는 방식이다."
   ]
  },
  {
   "cell_type": "code",
   "execution_count": 63,
   "metadata": {},
   "outputs": [
    {
     "name": "stdout",
     "output_type": "stream",
     "text": [
      "11 11\n",
      "0 0 0 0 1 0 -1 -1 0 0 0 \n",
      "0 -1 1 1 0 0 1 1 0 0 0 \n",
      "0 0 0 0 -1 1 0 0 1 0 0 \n",
      "0 0 -1 0 0 -1 -1 0 0 0 -1 \n",
      "1 1 -1 0 0 1 0 0 0 -1 1 \n",
      "-1 0 0 0 0 0 1 0 0 1 0 \n",
      "0 1 0 -1 0 0 0 0 1 1 1 \n",
      "0 0 0 1 0 0 0 0 0 -1 0 \n",
      "0 0 0 0 0 0 0 0 0 0 -1 \n",
      "-1 0 0 0 0 0 1 1 0 0 1 \n",
      "-1 0 0 0 0 -1 -1 0 0 0 -1 \n"
     ]
    }
   ],
   "source": [
    "M, N = map(int, input().split())\n",
    "# N by M 행렬로 이해하면 됌 \n",
    "graph = [list(map(int,input().split())) for _ in range(N)]"
   ]
  },
  {
   "cell_type": "code",
   "execution_count": 64,
   "metadata": {},
   "outputs": [
    {
     "name": "stdout",
     "output_type": "stream",
     "text": [
      "4\n"
     ]
    }
   ],
   "source": [
    "import copy\n",
    "from collections import deque\n",
    "graph2 = copy.deepcopy(graph)\n",
    "\n",
    "q = deque()\n",
    "# 일단 넣기\n",
    "temp = []\n",
    "for i in range(N):\n",
    "    for j in range(M):\n",
    "        if graph2[i][j] == 1:\n",
    "            temp.append((i,j))\n",
    "q.append(temp)\n",
    "dx = [-1,1,0,0] #상하좌우\n",
    "dy = [0,0,-1,1]\n",
    "cnt = 0\n",
    "while q:\n",
    "    test = q.popleft()\n",
    "    temp = []\n",
    "    for now in test:\n",
    "        x, y = now\n",
    "        for i in range(4):\n",
    "            tx = x + dx[i]\n",
    "            ty = y + dy[i]\n",
    "            if tx < 0 or tx >= N or ty < 0 or ty >= M:\n",
    "                continue\n",
    "            else:\n",
    "                if graph2[tx][ty] == 0:\n",
    "                    graph2[tx][ty] = 1\n",
    "                    temp.append((tx,ty))\n",
    "    if temp == []:\n",
    "        break\n",
    "    else:\n",
    "        q.append(temp)    \n",
    "    cnt+=1\n",
    "\n",
    "flag = True\n",
    "for i in range(N):\n",
    "    if 0 in graph2[i]:\n",
    "        print(-1)\n",
    "        flag = False\n",
    "        break\n",
    "if flag:\n",
    "    print(cnt)"
   ]
  },
  {
   "cell_type": "markdown",
   "metadata": {},
   "source": [
    "# 숨바꼭질: 백준1697번\n",
    "\n",
    "0) 동생이 뒤에 있다면 할 수 있는 방법은 무조건 뒤로 가는 방법 뿐이다.\n",
    "1) 2배를 할 수 있으면 하기\n",
    "2-1) +1 하는 방법 한개\n",
    "2-2) -1 하고 2배하는 방법한개\n",
    "이 과정 이후에 최소가 되는 경우의 수를 저장하면 될듯?"
   ]
  },
  {
   "cell_type": "code",
   "execution_count": 101,
   "metadata": {},
   "outputs": [
    {
     "name": "stdout",
     "output_type": "stream",
     "text": [
      "7 82\n"
     ]
    }
   ],
   "source": []
  },
  {
   "cell_type": "code",
   "execution_count": 121,
   "metadata": {},
   "outputs": [
    {
     "name": "stdout",
     "output_type": "stream",
     "text": [
      "3 43\n",
      "6\n"
     ]
    }
   ],
   "source": [
    "# 정답은 맞는 것 같은데 \n",
    "# 메모리초과 및 재귀함수 에러가 난다 (깊이)\n",
    "start,end = map(int, input().split())\n",
    "ans = 0\n",
    "visited = [False]*(100000)\n",
    "def solve(start,end,time):\n",
    "    if visited[start]:\n",
    "        return\n",
    "    visited[start] = True\n",
    "    global ans\n",
    "    # 동생이 더 앞에 있다면\n",
    "    if end <= start:\n",
    "        while end < start:\n",
    "            start -= 1\n",
    "            time += 1\n",
    "        if ans == 0:\n",
    "            ans = time\n",
    "        else:\n",
    "            ans = min(ans,time)\n",
    "        return\n",
    "    # 2배 할 수 있다면\n",
    "    # +1 하는 방법 & -1하고 두배하는 방법 \n",
    "    solve(start*2,end, time+1)\n",
    "    solve(start+1,end, time+1)\n",
    "    solve((start-1)*2,end, time+2)\n",
    "\n",
    "solve(start,end,0)\n",
    "print(ans)"
   ]
  },
  {
   "cell_type": "code",
   "execution_count": 115,
   "metadata": {},
   "outputs": [
    {
     "name": "stdout",
     "output_type": "stream",
     "text": [
      "4 27\n"
     ]
    },
    {
     "ename": "KeyboardInterrupt",
     "evalue": "",
     "output_type": "error",
     "traceback": [
      "\u001b[0;31m---------------------------------------------------------------------------\u001b[0m",
      "\u001b[0;31mKeyboardInterrupt\u001b[0m                         Traceback (most recent call last)",
      "\u001b[0;32m<ipython-input-115-57e205948738>\u001b[0m in \u001b[0;36m<module>\u001b[0;34m\u001b[0m\n\u001b[1;32m     11\u001b[0m         \u001b[0;32mwhile\u001b[0m \u001b[0mend\u001b[0m \u001b[0;34m<\u001b[0m \u001b[0mtarget\u001b[0m\u001b[0;34m:\u001b[0m\u001b[0;34m\u001b[0m\u001b[0;34m\u001b[0m\u001b[0m\n\u001b[1;32m     12\u001b[0m             \u001b[0mtarget\u001b[0m \u001b[0;34m-=\u001b[0m \u001b[0;36m1\u001b[0m\u001b[0;34m\u001b[0m\u001b[0;34m\u001b[0m\u001b[0m\n\u001b[0;32m---> 13\u001b[0;31m             \u001b[0mtime\u001b[0m \u001b[0;34m+=\u001b[0m \u001b[0;36m1\u001b[0m\u001b[0;34m\u001b[0m\u001b[0;34m\u001b[0m\u001b[0m\n\u001b[0m\u001b[1;32m     14\u001b[0m         \u001b[0;32mif\u001b[0m \u001b[0mans\u001b[0m \u001b[0;34m==\u001b[0m \u001b[0;36m0\u001b[0m\u001b[0;34m:\u001b[0m\u001b[0;34m\u001b[0m\u001b[0;34m\u001b[0m\u001b[0m\n\u001b[1;32m     15\u001b[0m             \u001b[0mans\u001b[0m \u001b[0;34m=\u001b[0m \u001b[0mtime\u001b[0m\u001b[0;34m\u001b[0m\u001b[0;34m\u001b[0m\u001b[0m\n",
      "\u001b[0;31mKeyboardInterrupt\u001b[0m: "
     ]
    }
   ],
   "source": [
    "# 보니까 BFS를 통해서도 푸는 것 같던데\n",
    "from collections import deque\n",
    "start, end = map(int, input().split())\n",
    "q = deque([(start,0)])\n",
    "\n",
    "ans = 0\n",
    "while q:\n",
    "    target, time = q.popleft()\n",
    "    #작다면\n",
    "    if end <= target:\n",
    "        while end < target:\n",
    "            target -= 1\n",
    "            time += 1\n",
    "        if ans == 0:\n",
    "            ans = time\n",
    "        else:\n",
    "            ans = min(time,ans)\n",
    "    q.append((target*2,time+1))\n",
    "    q.append((target+1,time+1))\n",
    "    q.append(((target-1)*2, time+2))\n",
    "print(ans)"
   ]
  },
  {
   "cell_type": "code",
   "execution_count": 131,
   "metadata": {},
   "outputs": [
    {
     "name": "stdout",
     "output_type": "stream",
     "text": [
      "100 0\n",
      "100\n"
     ]
    }
   ],
   "source": [
    "#수정된 코드\n",
    "#BFS를통해 가장 빨리 도달한 그 시간대를 전달할 수 있다.\n",
    "from collections import deque\n",
    "N,K = map(int,input().split())\n",
    "visited = [False]*100001\n",
    "def bfs(N):\n",
    "    q = deque([(N,0)])\n",
    "    while q:\n",
    "        target, time = q.popleft()\n",
    "        if target == K:\n",
    "            return time\n",
    "        if not visited[target]:\n",
    "            visited[target] = True\n",
    "            if target*2 < 100001:\n",
    "                q.append((target*2,time+1))\n",
    "            if target+1 < 100001:\n",
    "                q.append((target+1,time+1))\n",
    "            if target-1 >= 0:\n",
    "                q.append((target-1,time+1))\n",
    "print(bfs(N))"
   ]
  },
  {
   "cell_type": "code",
   "execution_count": null,
   "metadata": {},
   "outputs": [],
   "source": []
  }
 ],
 "metadata": {
  "kernelspec": {
   "display_name": "Python 3",
   "language": "python",
   "name": "python3"
  },
  "language_info": {
   "codemirror_mode": {
    "name": "ipython",
    "version": 3
   },
   "file_extension": ".py",
   "mimetype": "text/x-python",
   "name": "python",
   "nbconvert_exporter": "python",
   "pygments_lexer": "ipython3",
   "version": "3.8.3"
  }
 },
 "nbformat": 4,
 "nbformat_minor": 4
}
