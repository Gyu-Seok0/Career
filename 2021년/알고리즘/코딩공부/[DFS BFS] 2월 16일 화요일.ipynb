{
 "cells": [
  {
   "cell_type": "markdown",
   "metadata": {},
   "source": [
    "# 나이트의 이동: 백준7562번\n",
    "- BFS를 이용해서 움직이게 만들고, 목적지에 도달했을 때의 time을 리턴해주면 될듯?\n",
    "- visited를 사용하면 더 효율적인 코드를 만들 수 있다."
   ]
  },
  {
   "cell_type": "code",
   "execution_count": 9,
   "metadata": {},
   "outputs": [
    {
     "name": "stdout",
     "output_type": "stream",
     "text": [
      "3\n",
      "8\n",
      "0 0\n",
      "7 0\n",
      "100\n",
      "0 0\n",
      "30 50\n",
      "10\n",
      "1 1\n",
      "1 1\n",
      "5\n",
      "28\n",
      "0\n"
     ]
    }
   ],
   "source": [
    "T = int(input())\n",
    "ans = []\n",
    "for _ in range(T):\n",
    "    size = int(input())\n",
    "    start_x, start_y = map(int, input().split())\n",
    "    end_x, end_y = map(int, input().split())\n",
    "    ans.append(bfs(size, start_x,start_y,end_x,end_y))\n",
    "\n",
    "for now in ans:\n",
    "    print(now)"
   ]
  },
  {
   "cell_type": "code",
   "execution_count": 7,
   "metadata": {},
   "outputs": [],
   "source": [
    "from collections import deque\n",
    "dx = [1,-1,2,-2,2,-2,1,-1]\n",
    "dy = [-2,-2,-1,-1,1,1,2,2]\n",
    "def bfs(size, start_x,start_y,end_x,end_y):\n",
    "    visited = [[False]*size for _ in range(size)] # size * size의 체크 리스트가 나오겠지\n",
    "    visited[start_x][start_y] = True\n",
    "    q = deque([(start_x,start_y,0)])\n",
    "    while q:\n",
    "        x, y, time= q.popleft()\n",
    "        if (x,y) == (end_x,end_y):\n",
    "            return time\n",
    "        for i in range(8):\n",
    "            tx = x + dx[i]\n",
    "            ty = y + dy[i]\n",
    "            if tx < 0 or tx >= size or ty <0 or ty >= size:\n",
    "                continue\n",
    "            if not visited[tx][ty]:\n",
    "                visited[tx][ty] = True\n",
    "                q.append((tx,ty,time+1))\n",
    "    "
   ]
  },
  {
   "cell_type": "markdown",
   "metadata": {},
   "source": [
    "# 벽 부수고 이동하기: 백준2206번\n",
    "\n",
    "- 1) (1,1) <--------> (N,M) \n",
    "- 2) BFS로 풀어나가면 될듯\n",
    "- 3) 불가능할 때: -1\n"
   ]
  },
  {
   "cell_type": "code",
   "execution_count": 10,
   "metadata": {},
   "outputs": [
    {
     "name": "stdout",
     "output_type": "stream",
     "text": [
      "6 4\n",
      "0100\n",
      "1110\n",
      "1000\n",
      "0000\n",
      "0111\n",
      "0000\n"
     ]
    }
   ],
   "source": [
    "N,M = map(int, input().split())\n",
    "graph = [list(map(int,input())) for _ in range(N)]"
   ]
  },
  {
   "cell_type": "code",
   "execution_count": 11,
   "metadata": {},
   "outputs": [
    {
     "data": {
      "text/plain": [
       "[[0, 1, 0, 0],\n",
       " [1, 1, 1, 0],\n",
       " [1, 0, 0, 0],\n",
       " [0, 0, 0, 0],\n",
       " [0, 1, 1, 1],\n",
       " [0, 0, 0, 0]]"
      ]
     },
     "execution_count": 11,
     "metadata": {},
     "output_type": "execute_result"
    }
   ],
   "source": [
    "from collections import deque\n",
    "dx = [-1,1,0,0] #상하좌우\n",
    "dy = [0,0,-1,1]\n",
    "\n",
    "def bfs():\n",
    "    q = deque([(0,0)])\n",
    "    while q:\n",
    "        x,y = q.popleft()\n",
    "        for i in range(4):\n",
    "            tx = x + dx[i]\n",
    "            ty = y + dy[i]\n",
    "            # (tx,ty)\n",
    "            if tx <0 or tx >= N or ty < 0 or ty >= M:\n",
    "                continue\n",
    "            if "
   ]
  },
  {
   "cell_type": "code",
   "execution_count": null,
   "metadata": {},
   "outputs": [],
   "source": []
  }
 ],
 "metadata": {
  "kernelspec": {
   "display_name": "Python 3",
   "language": "python",
   "name": "python3"
  },
  "language_info": {
   "codemirror_mode": {
    "name": "ipython",
    "version": 3
   },
   "file_extension": ".py",
   "mimetype": "text/x-python",
   "name": "python",
   "nbconvert_exporter": "python",
   "pygments_lexer": "ipython3",
   "version": "3.8.3"
  }
 },
 "nbformat": 4,
 "nbformat_minor": 4
}
