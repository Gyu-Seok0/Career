{
 "cells": [
  {
   "cell_type": "markdown",
   "metadata": {},
   "source": [
    "# 백트래킹\n",
    ": DFS + 가지치기\n",
    "<br>여기서 DFS는 재귀로, 가지치기는 (break와 continue)로 해결가능\n",
    "\n",
    "--> 가지치기 하는 방법을 이해해야 겠다."
   ]
  },
  {
   "cell_type": "code",
   "execution_count": 15,
   "metadata": {},
   "outputs": [
    {
     "name": "stdout",
     "output_type": "stream",
     "text": [
      "4\n",
      "vx =  [1, 3, 0, 0, 0, 0, 0, 0, 0, 0, 0, 0, 0, 0, 0, 0]\n",
      "vy =  [0, 1, 2, 0, 0, 0, 0, 0, 0, 0, 0, 0, 0, 0, 0, 0]\n",
      "\n",
      "vx =  [2, 0, 3, 0, 0, 0, 0, 0, 0, 0, 0, 0, 0, 0, 0, 0]\n",
      "vy =  [0, 1, 2, 0, 0, 0, 0, 0, 0, 0, 0, 0, 0, 0, 0, 0]\n",
      "\n"
     ]
    }
   ],
   "source": [
    "# N-queen 문제 이렇게도 풀 수 있다 정도만 알아두자.\n",
    "N = int(input())\n",
    "\n",
    "vx = [0]*16\n",
    "vy = [0]*16\n",
    "\n",
    "def go(y,x):\n",
    "    global vx,vy\n",
    "    #가지치기\n",
    "    for i in range(y):\n",
    "        #가로, 세로, 대각선\n",
    "        if y == vy[i] or x == vx[i] or abs(x - vx[i]) == abs(y - vy[i]):\n",
    "            return False\n",
    "    \n",
    "    # 종료조건\n",
    "    # 퀸 배열이 성공적인지 체크\n",
    "    if (y == N-1):\n",
    "        return True\n",
    "    \n",
    "    #이전 내용을 저장\n",
    "    vy[y] = y\n",
    "    vx[y] = x\n",
    "\n",
    "    r = 0\n",
    "    for i in range(N):\n",
    "        r += go(y+1,i)\n",
    "    return r\n",
    "    \n",
    "\n",
    "r = 0\n",
    "for i in range(N):\n",
    "    r += go(0,i) #가로열?"
   ]
  },
  {
   "cell_type": "markdown",
   "metadata": {},
   "source": [
    "# 스도쿠: 백준 2580번\n",
    "\n",
    "적절히 flag를 사용할줄 아는 것이 중요한 것 같다.\n",
    "<br>\n",
    "if dfs()형태로 사용하는 것을 지양하자."
   ]
  },
  {
   "cell_type": "code",
   "execution_count": 40,
   "metadata": {},
   "outputs": [
    {
     "name": "stdout",
     "output_type": "stream",
     "text": [
      "0 0 0 0 0 0 0 0 0\n",
      "0 0 0 0 0 0 0 0 0\n",
      "0 0 0 0 0 0 0 0 0\n",
      "0 0 0 0 0 0 0 0 0\n",
      "0 0 0 0 0 0 0 0 0\n",
      "0 0 0 0 0 0 0 0 0\n",
      "0 0 0 0 0 0 0 0 0\n",
      "0 0 0 0 0 0 0 0 0\n",
      "0 0 0 0 0 0 0 0 0\n"
     ]
    }
   ],
   "source": [
    "arr = [[] for _ in range(9)]\n",
    "for i in range(9):\n",
    "    arr[i] = list(map(int, input().split()))"
   ]
  },
  {
   "cell_type": "markdown",
   "metadata": {},
   "source": [
    "#입력\n",
    "0 3 5 4 6 9 2 7 8\n",
    "7 8 2 1 0 5 6 0 9\n",
    "0 6 0 2 7 8 1 3 5\n",
    "3 2 1 0 4 6 8 9 7\n",
    "8 0 4 9 1 3 5 0 6\n",
    "5 9 6 8 2 0 4 1 3\n",
    "9 1 7 6 5 2 0 8 0\n",
    "6 0 3 7 0 1 9 5 2\n",
    "2 5 8 3 9 4 7 6 0\n",
    "\n",
    "#입력2\n",
    "0 0 0 0 0 0 0 0 0\n",
    "7 8 2 1 0 5 6 0 9\n",
    "0 6 0 2 7 8 1 3 5\n",
    "3 2 1 0 4 6 8 9 7\n",
    "8 0 4 9 1 3 5 0 6\n",
    "5 9 6 8 2 0 4 1 3\n",
    "9 1 7 6 5 2 0 8 0\n",
    "6 0 3 7 0 1 9 5 2\n",
    "2 5 8 3 9 4 7 6 0"
   ]
  },
  {
   "cell_type": "code",
   "execution_count": 125,
   "metadata": {},
   "outputs": [
    {
     "name": "stdout",
     "output_type": "stream",
     "text": [
      "1 2 3 4 5 6 7 8 9\n",
      "4 5 6 7 8 9 1 2 3\n",
      "7 8 9 1 2 3 4 5 6\n",
      "2 1 4 3 6 5 8 9 7\n",
      "3 6 5 8 9 7 2 1 4\n",
      "8 9 7 2 1 4 3 6 5\n",
      "5 3 1 6 4 2 9 7 8\n",
      "6 4 2 9 7 8 5 3 1\n",
      "9 7 8 5 3 1 6 4 2\n"
     ]
    }
   ],
   "source": [
    "import copy\n",
    "graph = copy.deepcopy(arr)\n",
    "\n",
    "# 해당 숫자를 넣을 수 있는지 확인\n",
    "def check(row,col,num):\n",
    "    #가로/세로\n",
    "    #가지치기\n",
    "    for i in range(9):\n",
    "        if graph[row][i] == num or graph[i][col] == num:\n",
    "            return False\n",
    "    #네모칸\n",
    "    tx, ty = (row//3)*3, (col//3)*3\n",
    "    \n",
    "    for i in range(3):\n",
    "        for j in range(3):\n",
    "            if graph[tx+i][ty+j] == num:\n",
    "                return False\n",
    "    return True\n",
    "\n",
    "flag = False\n",
    "def dfs():\n",
    "    global flag\n",
    "    for i in range(9):\n",
    "        for j in range(9):\n",
    "            if graph[i][j] == 0:\n",
    "                #숫자를 넣었는지 안넣었는 지 확인\n",
    "                for k in range(1,10): #숫자넣기\n",
    "                    if check(i,j,k): #넣을 수 있다면\n",
    "                        graph[i][j] = k\n",
    "                        dfs()\n",
    "                        if flag:\n",
    "                            return\n",
    "                        else:\n",
    "                            graph[i][j] = 0\n",
    "                #가지치기 --> if 문 안에서 돌이가니까 문제\n",
    "                return False\n",
    "    flag = True\n",
    "    return True\n",
    "dfs()\n",
    "for i in range(9):\n",
    "    print(*graph[i])"
   ]
  },
  {
   "cell_type": "code",
   "execution_count": 127,
   "metadata": {},
   "outputs": [
    {
     "name": "stdout",
     "output_type": "stream",
     "text": [
      "0 0 0 0 0 0 0 0 0\n",
      "7 8 2 1 0 5 6 0 9\n",
      "0 6 0 2 7 8 1 3 5\n",
      "3 2 1 0 4 6 8 9 7\n",
      "8 0 4 9 1 3 5 0 6\n",
      "5 9 6 8 2 0 4 1 3\n",
      "9 1 7 6 5 2 0 8 0\n",
      "6 0 3 7 0 1 9 5 2\n",
      "2 5 8 3 9 4 7 6 0\n"
     ]
    }
   ],
   "source": [
    "sudoku = []\n",
    "zeros = []\n",
    "for i in range(9):\n",
    "    sudoku.append(list(map(int, input().split())))\n",
    "    for j in range(9):\n",
    "        if sudoku[i][j] == 0:\n",
    "            zeros.append((i,j))"
   ]
  },
  {
   "cell_type": "code",
   "execution_count": null,
   "metadata": {},
   "outputs": [],
   "source": [
    "0 0 0 0 0 0 0 0 0\n",
    "7 8 2 1 0 5 6 0 9\n",
    "0 6 0 2 7 8 1 3 5\n",
    "3 2 1 0 4 6 8 9 7\n",
    "8 0 4 9 1 3 5 0 6\n",
    "5 9 6 8 2 0 4 1 3\n",
    "9 1 7 6 5 2 0 8 0\n",
    "6 0 3 7 0 1 9 5 2\n",
    "2 5 8 3 9 4 7 6 0"
   ]
  },
  {
   "cell_type": "markdown",
   "metadata": {},
   "source": [
    "# 다른풀이\n",
    "0의 위치를 기억하는 방향으로 문제를 풀어줄 수도 있다.\n"
   ]
  },
  {
   "cell_type": "code",
   "execution_count": 139,
   "metadata": {},
   "outputs": [
    {
     "name": "stdout",
     "output_type": "stream",
     "text": [
      "0 0 0 0 0 0 0 0 0\n",
      "0 0 0 0 0 0 0 0 0\n",
      "0 0 0 0 0 0 0 0 0\n",
      "0 0 0 0 0 0 0 0 0\n",
      "0 0 0 0 0 0 0 0 0\n",
      "0 0 0 0 0 0 0 0 0\n",
      "0 0 0 0 0 0 0 0 0\n",
      "0 0 0 0 0 0 0 0 0\n",
      "0 0 0 0 0 0 0 0 0\n",
      "1 2 3 4 5 6 7 8 9\n",
      "4 5 6 7 8 9 1 2 3\n",
      "7 8 9 1 2 3 4 5 6\n",
      "2 1 4 3 6 5 8 9 7\n",
      "3 6 5 8 9 7 2 1 4\n",
      "8 9 7 2 1 4 3 6 5\n",
      "5 3 1 6 4 2 9 7 8\n",
      "6 4 2 9 7 8 5 3 1\n",
      "9 7 8 5 3 1 6 4 2\n"
     ]
    },
    {
     "ename": "SystemExit",
     "evalue": "0",
     "output_type": "error",
     "traceback": [
      "An exception has occurred, use %tb to see the full traceback.\n",
      "\u001b[0;31mSystemExit\u001b[0m\u001b[0;31m:\u001b[0m 0\n"
     ]
    },
    {
     "name": "stderr",
     "output_type": "stream",
     "text": [
      "/Users/igyuseog/opt/anaconda3/lib/python3.8/site-packages/IPython/core/interactiveshell.py:3351: UserWarning: To exit: use 'exit', 'quit', or Ctrl-D.\n",
      "  warn(\"To exit: use 'exit', 'quit', or Ctrl-D.\", stacklevel=1)\n"
     ]
    }
   ],
   "source": [
    "# 다른풀이\n",
    "import sys\n",
    "def check(row,col,num):\n",
    "    #가로/세로\n",
    "    for i in range(9):\n",
    "        if sudoku[row][i] == num or sudoku[i][col] == num:\n",
    "            return False\n",
    "    #네모칸\n",
    "    tx, ty = (row//3)*3, (col//3)*3\n",
    "    for i in range(3):\n",
    "        for j in range(3):\n",
    "            if sudoku[tx+i][ty+j] == num:\n",
    "                return False\n",
    "    return True\n",
    "def DFS(index):\n",
    "    if index == len(zeros):\n",
    "        for i in range(9):\n",
    "            print(*sudoku[i])\n",
    "        sys.exit(0)\n",
    "    else:\n",
    "        for i in range(1,10):\n",
    "            nx = zeros[index][0]\n",
    "            ny = zeros[index][1]\n",
    "            if check(nx,ny,i):\n",
    "                sudoku[nx][ny] = i\n",
    "                DFS(index+1)\n",
    "                sudoku[nx][ny] = 0\n",
    "sudoku = []\n",
    "zeros = []\n",
    "for i in range(9):\n",
    "    sudoku.append(list(map(int, input().split())))\n",
    "    for j in range(9):\n",
    "        if sudoku[i][j] == 0:\n",
    "            zeros.append((i,j))\n",
    "                \n",
    "DFS(0)"
   ]
  },
  {
   "cell_type": "code",
   "execution_count": 134,
   "metadata": {},
   "outputs": [
    {
     "data": {
      "text/plain": [
       "[[1, 3, 5, 4, 6, 9, 2, 7, 8],\n",
       " [7, 8, 2, 1, 3, 5, 6, 4, 9],\n",
       " [4, 6, 9, 2, 7, 8, 1, 3, 5],\n",
       " [3, 2, 1, 5, 4, 6, 8, 9, 7],\n",
       " [8, 7, 4, 9, 1, 3, 5, 2, 6],\n",
       " [5, 9, 6, 8, 2, 7, 4, 1, 3],\n",
       " [9, 1, 7, 6, 5, 2, 3, 8, 4],\n",
       " [6, 4, 3, 7, 8, 1, 9, 5, 2],\n",
       " [2, 5, 8, 3, 9, 4, 7, 6, 1]]"
      ]
     },
     "execution_count": 134,
     "metadata": {},
     "output_type": "execute_result"
    }
   ],
   "source": [
    "sudoku0 0 0 0 0 0 0 0 0\n"
   ]
  },
  {
   "cell_type": "code",
   "execution_count": null,
   "metadata": {},
   "outputs": [],
   "source": [
    "0 0 0 0 0 0 0 0 0\n",
    "7 8 2 1 0 5 6 0 9\n",
    "0 6 0 2 7 8 1 3 5\n",
    "3 2 1 0 4 6 8 9 7\n",
    "8 0 4 9 1 3 5 0 6\n",
    "5 9 6 8 2 0 4 1 3\n",
    "9 1 7 6 5 2 0 8 0\n",
    "6 0 3 7 0 1 9 5 2\n",
    "2 5 8 3 9 4 7 6 0"
   ]
  }
 ],
 "metadata": {
  "kernelspec": {
   "display_name": "Python 3",
   "language": "python",
   "name": "python3"
  },
  "language_info": {
   "codemirror_mode": {
    "name": "ipython",
    "version": 3
   },
   "file_extension": ".py",
   "mimetype": "text/x-python",
   "name": "python",
   "nbconvert_exporter": "python",
   "pygments_lexer": "ipython3",
   "version": "3.8.3"
  }
 },
 "nbformat": 4,
 "nbformat_minor": 4
}
