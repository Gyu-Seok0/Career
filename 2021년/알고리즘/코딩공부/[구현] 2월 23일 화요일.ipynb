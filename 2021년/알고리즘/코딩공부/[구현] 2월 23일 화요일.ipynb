{
 "cells": [
  {
   "cell_type": "markdown",
   "metadata": {},
   "source": [
    "# 치킨배달: 백준15686번\n",
    "\n",
    "설계:\n",
    "\n",
    "1) M개의 치킨집을 선택해야 한다.\n",
    "<br>기준: 거리가 최소값\n",
    "\n",
    "<br>\n",
    "M개의 치킨집을 임의로 고르고, 그랬을 때 해당값이 최솟 값인지를 확인하면 될것 같다."
   ]
  },
  {
   "cell_type": "code",
   "execution_count": 15,
   "metadata": {
    "scrolled": true
   },
   "outputs": [
    {
     "name": "stdout",
     "output_type": "stream",
     "text": [
      "5 1\n",
      "1 2 0 2 1\n",
      "1 2 0 2 1\n",
      "1 2 0 2 1\n",
      "1 2 0 2 1\n",
      "1 2 0 2 1\n"
     ]
    }
   ],
   "source": [
    "from itertools import combinations\n",
    "#입력\n",
    "N,M = map(int, input().split()) #N by N, M = 치킨집 개수\n",
    "graph = [] #그래프\n",
    "chicken = [] #치킨\n",
    "house = [] #집\n",
    "for i in range(N):\n",
    "    graph.append(list(map(int, input().split())))\n",
    "    for j in range(N):\n",
    "        if graph[i][j] == 1:\n",
    "            house.append((i,j))\n",
    "        elif graph[i][j] == 2:\n",
    "            chicken.append((i,j))"
   ]
  },
  {
   "cell_type": "code",
   "execution_count": 16,
   "metadata": {},
   "outputs": [
    {
     "name": "stdout",
     "output_type": "stream",
     "text": [
      "32\n"
     ]
    }
   ],
   "source": [
    "#치킨집 선정\n",
    "def distance(chick):\n",
    "    dis = 0\n",
    "    for i in range(len(house)): #집을 하나씩 꺼낸다.\n",
    "        temp = 0\n",
    "        for j in range(len(chick)):\n",
    "            target = abs(house[i][0] - chick[j][0]) + abs(house[i][1] - chick[j][1]) \n",
    "            if j == 0:\n",
    "                temp = target\n",
    "            else:\n",
    "                temp = min(temp,target)\n",
    "        dis += temp\n",
    "    return dis\n",
    "ans = -1\n",
    "for now in combinations(chicken,M): #고른 치킨집과의 거리 구하면 될듯?\n",
    "    if ans == -1:\n",
    "        ans = distance(now)\n",
    "    else:\n",
    "        ans = min(ans, distance(now))\n",
    "print(ans)"
   ]
  },
  {
   "cell_type": "code",
   "execution_count": null,
   "metadata": {},
   "outputs": [],
   "source": []
  }
 ],
 "metadata": {
  "kernelspec": {
   "display_name": "Python 3",
   "language": "python",
   "name": "python3"
  },
  "language_info": {
   "codemirror_mode": {
    "name": "ipython",
    "version": 3
   },
   "file_extension": ".py",
   "mimetype": "text/x-python",
   "name": "python",
   "nbconvert_exporter": "python",
   "pygments_lexer": "ipython3",
   "version": "3.8.3"
  }
 },
 "nbformat": 4,
 "nbformat_minor": 4
}
