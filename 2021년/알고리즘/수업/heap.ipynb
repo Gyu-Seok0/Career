{
 "cells": [
  {
   "cell_type": "code",
   "execution_count": 26,
   "metadata": {},
   "outputs": [
    {
     "data": {
      "text/plain": [
       "[(-11, 11), (-8, 8), (-10, 10), (-7, 7), (-5, 5), (-2, 2), (-3, 3), (-1, 1)]"
      ]
     },
     "execution_count": 26,
     "metadata": {},
     "output_type": "execute_result"
    }
   ],
   "source": [
    "# heap 자료구조를 만들어보자\n",
    "import heapq\n",
    "\n",
    "arr = [1,5,3,8,10,2,11]\n",
    "\n",
    "# 최소힙\n",
    "#heapq.heapify(arr)\n",
    "\n",
    "# 최대힙\n",
    "temp = []\n",
    "for num in arr:\n",
    "    heapq.heappush(temp, (-num,num)) # 특정 arr에, ㅌㅡㄱㅈㅓㅇㄱㅏㅂㅅㅇㅡㄹ\n",
    "heapq.heappush(temp, (-7,7))\n",
    "temp"
   ]
  },
  {
   "cell_type": "code",
   "execution_count": 21,
   "metadata": {},
   "outputs": [
    {
     "name": "stdout",
     "output_type": "stream",
     "text": [
      "11\n",
      "10\n",
      "8\n",
      "5\n",
      "3\n",
      "2\n",
      "1\n"
     ]
    }
   ],
   "source": [
    "while(len(temp) != 0):\n",
    "    print(heapq.heappop(temp)[1])"
   ]
  }
 ],
 "metadata": {
  "kernelspec": {
   "display_name": "Python 3",
   "language": "python",
   "name": "python3"
  },
  "language_info": {
   "codemirror_mode": {
    "name": "ipython",
    "version": 3
   },
   "file_extension": ".py",
   "mimetype": "text/x-python",
   "name": "python",
   "nbconvert_exporter": "python",
   "pygments_lexer": "ipython3",
   "version": "3.8.3"
  }
 },
 "nbformat": 4,
 "nbformat_minor": 4
}
