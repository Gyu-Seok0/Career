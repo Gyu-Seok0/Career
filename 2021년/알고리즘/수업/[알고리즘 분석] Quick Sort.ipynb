{
 "cells": [
  {
   "cell_type": "markdown",
   "metadata": {},
   "source": [
    "# 퀵소트\n",
    "### 알고리즘\n",
    "\n",
    "1) pivot을 설정해서, pivot을 기준으로 작은 값과 큰 값을 나눈다. <br>\n",
    "2) 해당 과정을 재귀적으로 수행하면 된다."
   ]
  },
  {
   "cell_type": "markdown",
   "metadata": {},
   "source": [
    "# r"
   ]
  },
  {
   "cell_type": "code",
   "execution_count": 15,
   "metadata": {},
   "outputs": [
    {
     "name": "stdout",
     "output_type": "stream",
     "text": [
      "before [1, 7, 3, 9, 2, 6, 5]\n",
      "after [1, 3, 2, 5, 7, 6, 9]\n",
      "3\n",
      "before [1, 3, 2, 5, 7, 6, 9]\n",
      "after [1, 2, 3, 5, 7, 6, 9]\n",
      "1\n",
      "before [1, 2, 3, 5, 7, 6, 9]\n",
      "after [1, 2, 3, 5, 7, 6, 9]\n",
      "0\n",
      "before [1, 2, 3, 5, 7, 6, 9]\n",
      "after [1, 2, 3, 5, 7, 6, 9]\n",
      "2\n",
      "before [1, 2, 3, 5, 7, 6, 9]\n",
      "after [1, 2, 3, 5, 7, 6, 9]\n",
      "6\n",
      "before [1, 2, 3, 5, 7, 6, 9]\n",
      "after [1, 2, 3, 5, 6, 7, 9]\n",
      "4\n",
      "before [1, 2, 3, 5, 6, 7, 9]\n",
      "after [1, 2, 3, 5, 6, 7, 9]\n",
      "5\n"
     ]
    }
   ],
   "source": [
    "# end는 pivot 값\n",
    "# 0 ~ i까지는 pivot보다 작은 값\n",
    "# j ~ end -1 까지는 pivot보다 큰 값\n",
    "\n",
    "def partition(arr, start, end):\n",
    "    print(\"before\",arr)\n",
    "    pivot = arr[end-1]\n",
    "    i = start -1 # -1 부터 시작이네?\n",
    "    for j in range(start,end):\n",
    "        if arr[j] < pivot:\n",
    "            i += 1\n",
    "            arr[j], arr[i] = arr[i], arr[j] # change\n",
    "    arr[i+1], arr[end-1] = arr[end-1], arr[i+1]\n",
    "    print(\"after\",arr)\n",
    "    return i+1 #기준점\n",
    "\n",
    "def quicksort(arr,start,end):\n",
    "    if start >= end:\n",
    "        return \n",
    "    q = partition(arr,start,end)\n",
    "    print(q)\n",
    "    quicksort(arr,start,q)\n",
    "    quicksort(arr,q+1,end)\n",
    "    \n",
    "arr = [1,7,3,9,2,6,5]\n",
    "#arr.sort()\n",
    "quicksort(arr,0,len(arr))\n"
   ]
  },
  {
   "cell_type": "code",
   "execution_count": 17,
   "metadata": {},
   "outputs": [
    {
     "data": {
      "text/plain": [
       "[1, 2, 3, 5, 6, 7, 9]"
      ]
     },
     "execution_count": 17,
     "metadata": {},
     "output_type": "execute_result"
    }
   ],
   "source": [
    "\n",
    "def quick_sort(arr):\n",
    "    if len(arr) <= 1:\n",
    "        return arr\n",
    "    pivot = arr[len(arr) // 2] # 완전 가운데를 나눠줘도 괜찮구나.\n",
    "    lesser_arr, equal_arr, greater_arr = [], [], []\n",
    "    for num in arr:\n",
    "        if num < pivot:\n",
    "            lesser_arr.append(num)\n",
    "        elif num > pivot:\n",
    "            greater_arr.append(num)\n",
    "        else:\n",
    "            equal_arr.append(num)\n",
    "    return quick_sort(lesser_arr) + equal_arr + quick_sort(greater_arr)\n",
    "\n",
    "arr = [1,7,3,9,2,6,5]\n",
    "quick_sort(arr)"
   ]
  },
  {
   "cell_type": "code",
   "execution_count": null,
   "metadata": {},
   "outputs": [],
   "source": []
  }
 ],
 "metadata": {
  "kernelspec": {
   "display_name": "Python 3",
   "language": "python",
   "name": "python3"
  },
  "language_info": {
   "codemirror_mode": {
    "name": "ipython",
    "version": 3
   },
   "file_extension": ".py",
   "mimetype": "text/x-python",
   "name": "python",
   "nbconvert_exporter": "python",
   "pygments_lexer": "ipython3",
   "version": "3.8.3"
  }
 },
 "nbformat": 4,
 "nbformat_minor": 4
}
