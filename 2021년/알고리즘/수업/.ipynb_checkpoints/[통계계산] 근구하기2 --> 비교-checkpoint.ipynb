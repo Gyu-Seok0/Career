{
 "cells": [
  {
   "cell_type": "code",
   "execution_count": 129,
   "metadata": {},
   "outputs": [],
   "source": [
    "import time\n",
    "import pandas as pd\n",
    "import math\n",
    "\n",
    "def equation(x):\n",
    "    return x - math.exp(-x) -2\n",
    "error = 1e-7\n",
    "\n",
    "df = pd.DataFrame()\n",
    "columns = [\"Method\", \"Time\", \"iteration\"]"
   ]
  },
  {
   "cell_type": "markdown",
   "metadata": {},
   "source": [
    "# binary"
   ]
  },
  {
   "cell_type": "code",
   "execution_count": 130,
   "metadata": {},
   "outputs": [
    {
     "name": "stdout",
     "output_type": "stream",
     "text": [
      "x = 2.1200282871723175, f(x) = 5.396819791059215e-08, cnt = 25\n",
      "time = 0.0011548995971679688\n"
     ]
    }
   ],
   "source": [
    "# 1) bisection method\n",
    "# continuous 해야함\n",
    "# 한번에 하나밖에 못찾는 다는 단점이 있음.\n",
    "\n",
    "def binary(left,right,cnt):\n",
    "    mid = (left + right)/2\n",
    "    value = equation(mid)\n",
    "    if abs(value) < error:\n",
    "        print(\"x = {}, f(x) = {}, cnt = {}\".format(mid,value,cnt))\n",
    "        return cnt\n",
    "    if equation(left) * value < 0:\n",
    "        return binary(left,mid,cnt+1)\n",
    "    if value * equation(right) < 0:\n",
    "        return binary(mid,right,cnt+1)\n",
    "        \n",
    "\n",
    "start = time.time()\n",
    "iteration  = binary(-5,5,0)\n",
    "end = time.time()\n",
    "print(\"time = {}\".format(end - start))"
   ]
  },
  {
   "cell_type": "code",
   "execution_count": 131,
   "metadata": {},
   "outputs": [],
   "source": [
    "temp = [(\"binary\",end-start,iteration)]\n",
    "df = pd.DataFrame(temp)"
   ]
  },
  {
   "cell_type": "code",
   "execution_count": 132,
   "metadata": {},
   "outputs": [
    {
     "data": {
      "text/html": [
       "<div>\n",
       "<style scoped>\n",
       "    .dataframe tbody tr th:only-of-type {\n",
       "        vertical-align: middle;\n",
       "    }\n",
       "\n",
       "    .dataframe tbody tr th {\n",
       "        vertical-align: top;\n",
       "    }\n",
       "\n",
       "    .dataframe thead th {\n",
       "        text-align: right;\n",
       "    }\n",
       "</style>\n",
       "<table border=\"1\" class=\"dataframe\">\n",
       "  <thead>\n",
       "    <tr style=\"text-align: right;\">\n",
       "      <th></th>\n",
       "      <th>0</th>\n",
       "      <th>1</th>\n",
       "      <th>2</th>\n",
       "    </tr>\n",
       "  </thead>\n",
       "  <tbody>\n",
       "    <tr>\n",
       "      <th>0</th>\n",
       "      <td>binary</td>\n",
       "      <td>0.001155</td>\n",
       "      <td>25</td>\n",
       "    </tr>\n",
       "  </tbody>\n",
       "</table>\n",
       "</div>"
      ],
      "text/plain": [
       "        0         1   2\n",
       "0  binary  0.001155  25"
      ]
     },
     "execution_count": 132,
     "metadata": {},
     "output_type": "execute_result"
    }
   ],
   "source": [
    "df\n",
    "\n"
   ]
  },
  {
   "cell_type": "code",
   "execution_count": null,
   "metadata": {},
   "outputs": [],
   "source": []
  },
  {
   "cell_type": "markdown",
   "metadata": {},
   "source": [
    "# Secant Method"
   ]
  },
  {
   "cell_type": "code",
   "execution_count": 133,
   "metadata": {},
   "outputs": [
    {
     "name": "stdout",
     "output_type": "stream",
     "text": [
      "x = 2.1200281793260136, f(x) = -6.682270781155353e-08, cnt = 4\n"
     ]
    }
   ],
   "source": [
    "def secant(left,right,cnt):\n",
    "    mid = right - equation(right)*(right - left)/(equation(right) - equation(left))\n",
    "    if abs(equation(mid)) < error:\n",
    "        print(\"x = {}, f(x) = {}, cnt = {}\".format(mid, equation(mid),cnt))\n",
    "        return cnt\n",
    "    else:\n",
    "        return secant(right,mid,cnt+1) #조심하기 x0 --> x1 --> x2 순이기 때문에 right가 왼쪽으로 옴.\n",
    "\n",
    "left, right = -10,10\n",
    "start = time.time()\n",
    "iteration = secant(left,right,0)\n",
    "end = time.time()\n"
   ]
  },
  {
   "cell_type": "code",
   "execution_count": 134,
   "metadata": {
    "scrolled": false
   },
   "outputs": [
    {
     "data": {
      "text/html": [
       "<div>\n",
       "<style scoped>\n",
       "    .dataframe tbody tr th:only-of-type {\n",
       "        vertical-align: middle;\n",
       "    }\n",
       "\n",
       "    .dataframe tbody tr th {\n",
       "        vertical-align: top;\n",
       "    }\n",
       "\n",
       "    .dataframe thead th {\n",
       "        text-align: right;\n",
       "    }\n",
       "</style>\n",
       "<table border=\"1\" class=\"dataframe\">\n",
       "  <thead>\n",
       "    <tr style=\"text-align: right;\">\n",
       "      <th></th>\n",
       "      <th>0</th>\n",
       "      <th>1</th>\n",
       "      <th>2</th>\n",
       "    </tr>\n",
       "  </thead>\n",
       "  <tbody>\n",
       "    <tr>\n",
       "      <th>0</th>\n",
       "      <td>binary</td>\n",
       "      <td>0.001155</td>\n",
       "      <td>25</td>\n",
       "    </tr>\n",
       "    <tr>\n",
       "      <th>0</th>\n",
       "      <td>secant</td>\n",
       "      <td>0.003524</td>\n",
       "      <td>4</td>\n",
       "    </tr>\n",
       "  </tbody>\n",
       "</table>\n",
       "</div>"
      ],
      "text/plain": [
       "        0         1   2\n",
       "0  binary  0.001155  25\n",
       "0  secant  0.003524   4"
      ]
     },
     "execution_count": 134,
     "metadata": {},
     "output_type": "execute_result"
    }
   ],
   "source": [
    "temp = [(\"secant\",end-start,iteration)]\n",
    "temp = pd.DataFrame(temp)\n",
    "df = pd.concat([df,temp])\n",
    "df"
   ]
  },
  {
   "cell_type": "markdown",
   "metadata": {},
   "source": [
    "# False"
   ]
  },
  {
   "cell_type": "code",
   "execution_count": 135,
   "metadata": {},
   "outputs": [
    {
     "name": "stdout",
     "output_type": "stream",
     "text": [
      "x = 2.1200283265717963, f(x) = 9.80967262975696e-08, cnt = 323\n"
     ]
    }
   ],
   "source": [
    "def solve(left,right,cnt):\n",
    "    mid = right - equation(right)*(left - right)/(equation(left) - equation(right))\n",
    "    if abs(equation(mid)) < error:\n",
    "        print(\"x = {}, f(x) = {}, cnt = {}\".format(mid, equation(mid),cnt))\n",
    "        return cnt\n",
    "    \n",
    "    # left(X0)와 mid(X2)의 함숫값을 곱한 부호가 다르면 right을 가운데로 옮겨준다.\n",
    "    if equation(mid) * equation(left) < 0:\n",
    "        right = mid\n",
    "    # left\n",
    "    else:\n",
    "        left = mid \n",
    "    return solve(left,right,cnt+1)\n",
    "    \n",
    "left, right = -5,5\n",
    "start = time.time()\n",
    "iteration = solve(left,right,0)\n",
    "end = time.time()\n",
    "\n"
   ]
  },
  {
   "cell_type": "code",
   "execution_count": 136,
   "metadata": {},
   "outputs": [
    {
     "data": {
      "text/html": [
       "<div>\n",
       "<style scoped>\n",
       "    .dataframe tbody tr th:only-of-type {\n",
       "        vertical-align: middle;\n",
       "    }\n",
       "\n",
       "    .dataframe tbody tr th {\n",
       "        vertical-align: top;\n",
       "    }\n",
       "\n",
       "    .dataframe thead th {\n",
       "        text-align: right;\n",
       "    }\n",
       "</style>\n",
       "<table border=\"1\" class=\"dataframe\">\n",
       "  <thead>\n",
       "    <tr style=\"text-align: right;\">\n",
       "      <th></th>\n",
       "      <th>0</th>\n",
       "      <th>1</th>\n",
       "      <th>2</th>\n",
       "    </tr>\n",
       "  </thead>\n",
       "  <tbody>\n",
       "    <tr>\n",
       "      <th>0</th>\n",
       "      <td>binary</td>\n",
       "      <td>0.001155</td>\n",
       "      <td>25</td>\n",
       "    </tr>\n",
       "    <tr>\n",
       "      <th>0</th>\n",
       "      <td>secant</td>\n",
       "      <td>0.003524</td>\n",
       "      <td>4</td>\n",
       "    </tr>\n",
       "    <tr>\n",
       "      <th>0</th>\n",
       "      <td>False</td>\n",
       "      <td>0.001957</td>\n",
       "      <td>323</td>\n",
       "    </tr>\n",
       "  </tbody>\n",
       "</table>\n",
       "</div>"
      ],
      "text/plain": [
       "        0         1    2\n",
       "0  binary  0.001155   25\n",
       "0  secant  0.003524    4\n",
       "0   False  0.001957  323"
      ]
     },
     "execution_count": 136,
     "metadata": {},
     "output_type": "execute_result"
    }
   ],
   "source": [
    "temp = [(\"False\",end-start,iteration)]\n",
    "temp = pd.DataFrame(temp)\n",
    "df = pd.concat([df,temp])\n",
    "df"
   ]
  },
  {
   "cell_type": "markdown",
   "metadata": {},
   "source": [
    "# newton"
   ]
  },
  {
   "cell_type": "code",
   "execution_count": 137,
   "metadata": {},
   "outputs": [
    {
     "name": "stdout",
     "output_type": "stream",
     "text": [
      "x = 2.1200282381232145, f(x) = -9.68182339855517E-10, cnt = 12\n"
     ]
    }
   ],
   "source": [
    "import sympy\n",
    "from sympy import symbols, Derivative\n",
    "\n",
    "#기호화\n",
    "x = symbols('x')\n",
    "fx = x - sympy.exp(-x) -2\n",
    "fprime = Derivative(fx,x).doit()\n",
    "\n",
    "def solve(now, cnt):\n",
    "    new = float(now) - float(fx.subs({x:now}))/float(fprime.subs({x:now}))\n",
    "    result = fx.subs({x:new})\n",
    "    # f(x+1)이 error에 가깝다면.\n",
    "    if abs(result) < error:\n",
    "        print(\"x = {}, f(x) = {}, cnt = {}\".format(new, result ,cnt))\n",
    "        return cnt\n",
    "    else:\n",
    "        return solve(new,cnt+1)\n",
    "\n",
    "\n",
    "start = time.time()\n",
    "iteration = solve(-10,0)\n",
    "end = time.time()\n"
   ]
  },
  {
   "cell_type": "code",
   "execution_count": 138,
   "metadata": {},
   "outputs": [
    {
     "data": {
      "text/html": [
       "<div>\n",
       "<style scoped>\n",
       "    .dataframe tbody tr th:only-of-type {\n",
       "        vertical-align: middle;\n",
       "    }\n",
       "\n",
       "    .dataframe tbody tr th {\n",
       "        vertical-align: top;\n",
       "    }\n",
       "\n",
       "    .dataframe thead th {\n",
       "        text-align: right;\n",
       "    }\n",
       "</style>\n",
       "<table border=\"1\" class=\"dataframe\">\n",
       "  <thead>\n",
       "    <tr style=\"text-align: right;\">\n",
       "      <th></th>\n",
       "      <th>0</th>\n",
       "      <th>1</th>\n",
       "      <th>2</th>\n",
       "    </tr>\n",
       "  </thead>\n",
       "  <tbody>\n",
       "    <tr>\n",
       "      <th>0</th>\n",
       "      <td>binary</td>\n",
       "      <td>0.001155</td>\n",
       "      <td>25</td>\n",
       "    </tr>\n",
       "    <tr>\n",
       "      <th>0</th>\n",
       "      <td>secant</td>\n",
       "      <td>0.003524</td>\n",
       "      <td>4</td>\n",
       "    </tr>\n",
       "    <tr>\n",
       "      <th>0</th>\n",
       "      <td>False</td>\n",
       "      <td>0.001957</td>\n",
       "      <td>323</td>\n",
       "    </tr>\n",
       "    <tr>\n",
       "      <th>0</th>\n",
       "      <td>Newton</td>\n",
       "      <td>0.003765</td>\n",
       "      <td>12</td>\n",
       "    </tr>\n",
       "  </tbody>\n",
       "</table>\n",
       "</div>"
      ],
      "text/plain": [
       "        0         1    2\n",
       "0  binary  0.001155   25\n",
       "0  secant  0.003524    4\n",
       "0   False  0.001957  323\n",
       "0  Newton  0.003765   12"
      ]
     },
     "execution_count": 138,
     "metadata": {},
     "output_type": "execute_result"
    }
   ],
   "source": [
    "temp = [(\"Newton\",end-start,iteration)]\n",
    "temp = pd.DataFrame(temp)\n",
    "df = pd.concat([df,temp])\n",
    "df"
   ]
  },
  {
   "cell_type": "markdown",
   "metadata": {},
   "source": [
    "# Fixed point"
   ]
  },
  {
   "cell_type": "code",
   "execution_count": null,
   "metadata": {},
   "outputs": [],
   "source": [
    "def fixed_point(point,cnt):\n",
    "    print(point)\n",
    "    #함숫값\n",
    "    value = float(fx.subs(x,point))\n",
    "    if abs(value) < error:\n",
    "        print(\"x = {}, f(x) = {}, cnt = {}\".format(point, value ,cnt))\n",
    "        return cnt\n",
    "    else:\n",
    "        return fixed_point(value,cnt+1)\n",
    "    \n",
    "start = time.time()\n",
    "iteration = fixed_point(0.1,0)\n",
    "end = time.time()"
   ]
  },
  {
   "cell_type": "code",
   "execution_count": 141,
   "metadata": {},
   "outputs": [],
   "source": [
    "df.columns = columns"
   ]
  },
  {
   "cell_type": "markdown",
   "metadata": {},
   "source": [
    "# 결론: 비교\n",
    "\n",
    "- binary가 제일 빠른 것으로 나온다.\n",
    "- iteration에서는 secant method가 제일 적었고\n",
    "- iteration이 제일 많은 false method의 경우 2번째로 빠른 시간을 보여주었다.\n",
    "- fixed method의 경우, Inf가 나와서 해당 식에서 풀이가 불가한 것으로 보여진다."
   ]
  },
  {
   "cell_type": "code",
   "execution_count": 142,
   "metadata": {},
   "outputs": [
    {
     "data": {
      "text/html": [
       "<div>\n",
       "<style scoped>\n",
       "    .dataframe tbody tr th:only-of-type {\n",
       "        vertical-align: middle;\n",
       "    }\n",
       "\n",
       "    .dataframe tbody tr th {\n",
       "        vertical-align: top;\n",
       "    }\n",
       "\n",
       "    .dataframe thead th {\n",
       "        text-align: right;\n",
       "    }\n",
       "</style>\n",
       "<table border=\"1\" class=\"dataframe\">\n",
       "  <thead>\n",
       "    <tr style=\"text-align: right;\">\n",
       "      <th></th>\n",
       "      <th>Method</th>\n",
       "      <th>Time</th>\n",
       "      <th>iteration</th>\n",
       "    </tr>\n",
       "  </thead>\n",
       "  <tbody>\n",
       "    <tr>\n",
       "      <th>0</th>\n",
       "      <td>binary</td>\n",
       "      <td>0.001155</td>\n",
       "      <td>25</td>\n",
       "    </tr>\n",
       "    <tr>\n",
       "      <th>0</th>\n",
       "      <td>secant</td>\n",
       "      <td>0.003524</td>\n",
       "      <td>4</td>\n",
       "    </tr>\n",
       "    <tr>\n",
       "      <th>0</th>\n",
       "      <td>False</td>\n",
       "      <td>0.001957</td>\n",
       "      <td>323</td>\n",
       "    </tr>\n",
       "    <tr>\n",
       "      <th>0</th>\n",
       "      <td>Newton</td>\n",
       "      <td>0.003765</td>\n",
       "      <td>12</td>\n",
       "    </tr>\n",
       "  </tbody>\n",
       "</table>\n",
       "</div>"
      ],
      "text/plain": [
       "   Method      Time  iteration\n",
       "0  binary  0.001155         25\n",
       "0  secant  0.003524          4\n",
       "0   False  0.001957        323\n",
       "0  Newton  0.003765         12"
      ]
     },
     "execution_count": 142,
     "metadata": {},
     "output_type": "execute_result"
    }
   ],
   "source": [
    "df"
   ]
  },
  {
   "cell_type": "code",
   "execution_count": null,
   "metadata": {},
   "outputs": [],
   "source": []
  }
 ],
 "metadata": {
  "kernelspec": {
   "display_name": "Python 3",
   "language": "python",
   "name": "python3"
  },
  "language_info": {
   "codemirror_mode": {
    "name": "ipython",
    "version": 3
   },
   "file_extension": ".py",
   "mimetype": "text/x-python",
   "name": "python",
   "nbconvert_exporter": "python",
   "pygments_lexer": "ipython3",
   "version": "3.8.3"
  }
 },
 "nbformat": 4,
 "nbformat_minor": 4
}
