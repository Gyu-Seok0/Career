{
 "cells": [
  {
   "cell_type": "code",
   "execution_count": null,
   "metadata": {},
   "outputs": [],
   "source": [
    "무게: 6 가치: 13\n",
    "무게: 4 가치: 8\n",
    "무게: 3 가치: 6"
   ]
  },
  {
   "cell_type": "code",
   "execution_count": 1,
   "metadata": {},
   "outputs": [
    {
     "ename": "SyntaxError",
     "evalue": "invalid syntax (<ipython-input-1-24d0ee990fec>, line 10)",
     "output_type": "error",
     "traceback": [
      "\u001b[0;36m  File \u001b[0;32m\"<ipython-input-1-24d0ee990fec>\"\u001b[0;36m, line \u001b[0;32m10\u001b[0m\n\u001b[0;31m    if arr[move][0]\u001b[0m\n\u001b[0m                   ^\u001b[0m\n\u001b[0;31mSyntaxError\u001b[0m\u001b[0;31m:\u001b[0m invalid syntax\n"
     ]
    }
   ],
   "source": [
    "#풀이1 이렇게 하려고 했는데 생각보다 잘되지 않는다. \n",
    "# 이렇게 풀려고 하면, 뭔가 그리디 개념인것 같다?\n",
    "N, limit = map(int, input().split())\n",
    "arr = [tuple(map(int, input().split())) for _ in range(N)]\n",
    "\n",
    "dp = [0]*N\n",
    "\n",
    "weight = 0\n",
    "for start in range(N): #시작하자\n",
    "    weight = arr[start][0] # weight setting\n",
    "    value = arr[start][1] # value setting\n",
    "    for move in range(N):\n",
    "        if start == move:\n",
    "            continue\n",
    "        else:\n",
    "            if weight+arr[move][0] <= limit: #범위안에 있다면, value를 넣을 수 있지\n",
    "                value += arr[move][1]\n",
    "                \n",
    "                \n",
    "            \n",
    "    "
   ]
  },
  {
   "cell_type": "code",
   "execution_count": 2,
   "metadata": {},
   "outputs": [
    {
     "name": "stdout",
     "output_type": "stream",
     "text": [
      "4 7\n",
      "6 13\n",
      "4 8\n",
      "3 6\n",
      "5 12\n",
      "14\n"
     ]
    }
   ],
   "source": [
    "N, K = map(int, input().split()) # 가방개수, 한계\n",
    "stuff = [[0,0]]\n",
    "for _ in range(N): #물건넣기\n",
    "    stuff.append(list(map(int, input().split())))\n",
    "    \n",
    "\n"
   ]
  },
  {
   "cell_type": "code",
   "execution_count": 3,
   "metadata": {},
   "outputs": [
    {
     "name": "stdout",
     "output_type": "stream",
     "text": [
      "14\n"
     ]
    }
   ],
   "source": [
    "knapsack = [[0 for _ in range(K+1)] for _ in range(N+1)] #x: K만큼의 무게? // y: 물건 개수\n",
    "for i in range(1, N+1): #물건 setting\n",
    "    for j in range(1, K+1): # 1 ~ K까지의 무게를 뜻함\n",
    "        weight = stuff[i][0]  #내가 넣으려는 물건\n",
    "        value = stuff[i][1]\n",
    "        \n",
    "        if j < weight: # j는 현재 내가 수용가능한 무게를 의미하는구나.\n",
    "            knapsack[i][j] = knapsack[i-1][j] #나 이전의 물건\n",
    "        else: # 수용이 가능해지지\n",
    "            knapsack[i][j] = max(knapsack[i-1][j], knapsack[i-1][j - weight] +value) #내 값을 뭐로 갱신할까?\n",
    "            \n",
    "print(knapsack[N][K])"
   ]
  },
  {
   "cell_type": "code",
   "execution_count": 4,
   "metadata": {},
   "outputs": [
    {
     "data": {
      "text/plain": [
       "[[0, 0, 0, 0, 0, 0, 0, 0],\n",
       " [0, 0, 0, 0, 0, 0, 13, 13],\n",
       " [0, 0, 0, 0, 8, 8, 13, 13],\n",
       " [0, 0, 0, 6, 8, 8, 13, 14],\n",
       " [0, 0, 0, 6, 8, 12, 13, 14]]"
      ]
     },
     "execution_count": 4,
     "metadata": {},
     "output_type": "execute_result"
    }
   ],
   "source": [
    "knapsack"
   ]
  },
  {
   "cell_type": "code",
   "execution_count": 5,
   "metadata": {},
   "outputs": [
    {
     "name": "stdout",
     "output_type": "stream",
     "text": [
      "14\n"
     ]
    }
   ],
   "source": [
    "knapsack = [[0]*(K+1) for _ in range(N+1)] #x: K만큼의 무게? // y: 물건 개수\n",
    "for i in range(1, N+1): #물건 setting\n",
    "    weight = stuff[i][0]  #내가 넣으려는 물건\n",
    "    value = stuff[i][1]\n",
    "    for j in range(1, K+1): # 1 ~ K까지의 무게를 뜻함 --> 내가 수용가능한 무게\n",
    "        if j < weight: # 수용가능무게 < 크다면 --> 수용불가\n",
    "            knapsack[i][j] = knapsack[i-1][j] #나 이전의 물건까지 수용했던걸 넣음\n",
    "        else: # 수용이 가능해지지\n",
    "            knapsack[i][j] = max(knapsack[i-1][j], knapsack[i-1][j - weight] +value) #내 값을 뭐로 갱신할까?\n",
    "            \n",
    "print(knapsack[N][K])"
   ]
  },
  {
   "cell_type": "markdown",
   "metadata": {},
   "source": []
  }
 ],
 "metadata": {
  "kernelspec": {
   "display_name": "Python 3",
   "language": "python",
   "name": "python3"
  },
  "language_info": {
   "codemirror_mode": {
    "name": "ipython",
    "version": 3
   },
   "file_extension": ".py",
   "mimetype": "text/x-python",
   "name": "python",
   "nbconvert_exporter": "python",
   "pygments_lexer": "ipython3",
   "version": "3.8.3"
  }
 },
 "nbformat": 4,
 "nbformat_minor": 4
}
