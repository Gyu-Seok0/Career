{
 "cells": [
  {
   "cell_type": "code",
   "execution_count": null,
   "metadata": {},
   "outputs": [],
   "source": [
    "무게: 6 가치: 13\n",
    "무게: 4 가치: 8\n",
    "무게: 3 가치: 6"
   ]
  },
  {
   "cell_type": "code",
   "execution_count": 1,
   "metadata": {},
   "outputs": [
    {
     "name": "stdout",
     "output_type": "stream",
     "text": [
      "4 7\n",
      "6 13\n",
      "4 8\n",
      "3 6\n",
      "5 12\n"
     ]
    }
   ],
   "source": [
    "N, limit = map(int, input().split())\n",
    "arr = [tuple(map(int, input().split())) for _ in range(N)]"
   ]
  },
  {
   "cell_type": "code",
   "execution_count": null,
   "metadata": {},
   "outputs": [],
   "source": [
    "###### 알고리즘을 만들어보자\n",
    "\n",
    "#하나를 넣을 수 있는지 없는지 판별하고 그렇지 않다면 리턴시켜주면 될듯?\n",
    "\n",
    "def search(weight, value, item):\n",
    "    for i in range(N):\n",
    "        weight = arr[start][0]\n",
    "\n",
    "search()\n"
   ]
  },
  {
   "cell_type": "code",
   "execution_count": 1,
   "metadata": {},
   "outputs": [
    {
     "ename": "SyntaxError",
     "evalue": "invalid syntax (<ipython-input-1-24d0ee990fec>, line 10)",
     "output_type": "error",
     "traceback": [
      "\u001b[0;36m  File \u001b[0;32m\"<ipython-input-1-24d0ee990fec>\"\u001b[0;36m, line \u001b[0;32m10\u001b[0m\n\u001b[0;31m    if arr[move][0]\u001b[0m\n\u001b[0m                   ^\u001b[0m\n\u001b[0;31mSyntaxError\u001b[0m\u001b[0;31m:\u001b[0m invalid syntax\n"
     ]
    }
   ],
   "source": [
    "#풀이1 이렇게 하려고 했는데 생각보다 잘되지 않는다. \n",
    "# 이렇게 풀려고 하면, 뭔가 그리디 개념인것 같다?\n",
    "# 해결방안: backtracking 기법을 이용하자.\n",
    "\n",
    "\n",
    "dp = [0]*N\n",
    "\n",
    "weight = 0\n",
    "for start in range(N): #시작하자\n",
    "    weight = arr[start][0] # weight setting\n",
    "    value = arr[start][1] # value setting\n",
    "    for move in range(N):\n",
    "        if start == move:\n",
    "            continue\n",
    "        else:\n",
    "            if weight+arr[move][0] <= limit: #범위안에 있다면, value를 넣을 수 있지\n",
    "                value += arr[move][1]\n",
    "                \n",
    "                \n",
    "            \n",
    "    "
   ]
  },
  {
   "cell_type": "code",
   "execution_count": 2,
   "metadata": {},
   "outputs": [
    {
     "ename": "NameError",
     "evalue": "name '하나를' is not defined",
     "output_type": "error",
     "traceback": [
      "\u001b[0;31m---------------------------------------------------------------------------\u001b[0m",
      "\u001b[0;31mNameError\u001b[0m                                 Traceback (most recent call last)",
      "\u001b[0;32m<ipython-input-2-d96e0f65a9d8>\u001b[0m in \u001b[0;36m<module>\u001b[0;34m\u001b[0m\n\u001b[0;32m----> 1\u001b[0;31m \u001b[0m하나를\u001b[0m\u001b[0;34m\u001b[0m\u001b[0;34m\u001b[0m\u001b[0m\n\u001b[0m",
      "\u001b[0;31mNameError\u001b[0m: name '하나를' is not defined"
     ]
    }
   ],
   "source": [
    "하나를 "
   ]
  },
  {
   "cell_type": "markdown",
   "metadata": {},
   "source": [
    "# 방법2 : DP 테이블"
   ]
  },
  {
   "cell_type": "code",
   "execution_count": 2,
   "metadata": {
    "scrolled": true
   },
   "outputs": [
    {
     "name": "stdout",
     "output_type": "stream",
     "text": [
      "4 7\n",
      "6 13\n",
      "4 8\n",
      "3 6\n",
      "5 12\n",
      "14\n"
     ]
    }
   ],
   "source": [
    "N, K = map(int, input().split()) # 가방개수, 한계\n",
    "stuff = [[0,0]]\n",
    "for _ in range(N): #물건넣기\n",
    "    stuff.append(list(map(int, input().split())))"
   ]
  },
  {
   "cell_type": "code",
   "execution_count": 3,
   "metadata": {},
   "outputs": [
    {
     "name": "stdout",
     "output_type": "stream",
     "text": [
      "14\n"
     ]
    }
   ],
   "source": [
    "knapsack = [[0 for _ in range(K+1)] for _ in range(N+1)] #x: K만큼의 무게? // y: 물건 개수\n",
    "for i in range(1, N+1): #물건 setting\n",
    "    for j in range(1, K+1): # 1 ~ K까지의 무게를 뜻함\n",
    "        weight = stuff[i][0]  #내가 넣으려는 물건\n",
    "        value = stuff[i][1]\n",
    "        \n",
    "        if j < weight: # j는 현재 내가 수용가능한 무게를 의미하는구나.\n",
    "            knapsack[i][j] = knapsack[i-1][j] #나 이전의 물건\n",
    "        else: # 수용이 가능해지지\n",
    "            knapsack[i][j] = max(knapsack[i-1][j], knapsack[i-1][j - weight] +value) #내 값을 뭐로 갱신할까?\n",
    "            \n",
    "print(knapsack[N][K])"
   ]
  },
  {
   "cell_type": "code",
   "execution_count": 4,
   "metadata": {},
   "outputs": [
    {
     "data": {
      "text/plain": [
       "[[0, 0, 0, 0, 0, 0, 0, 0],\n",
       " [0, 0, 0, 0, 0, 0, 13, 13],\n",
       " [0, 0, 0, 0, 8, 8, 13, 13],\n",
       " [0, 0, 0, 6, 8, 8, 13, 14],\n",
       " [0, 0, 0, 6, 8, 12, 13, 14]]"
      ]
     },
     "execution_count": 4,
     "metadata": {},
     "output_type": "execute_result"
    }
   ],
   "source": [
    "knapsack"
   ]
  },
  {
   "cell_type": "code",
   "execution_count": 5,
   "metadata": {},
   "outputs": [
    {
     "name": "stdout",
     "output_type": "stream",
     "text": [
      "14\n"
     ]
    }
   ],
   "source": [
    "knapsack = [[0]*(K+1) for _ in range(N+1)] #x: K만큼의 무게? // y: 물건 개수\n",
    "for i in range(1, N+1): #물건 setting\n",
    "    weight = stuff[i][0]  #내가 넣으려는 물건\n",
    "    value = stuff[i][1]\n",
    "    for j in range(1, K+1): # 1 ~ K까지의 무게를 뜻함 --> 내가 수용가능한 무게\n",
    "        if j < weight: # 수용가능무게 < 크다면 --> 수용불가\n",
    "            knapsack[i][j] = knapsack[i-1][j] #나 이전의 물건까지 수용했던걸 넣음\n",
    "        else: # 수용이 가능해지지\n",
    "            knapsack[i][j] = max(knapsack[i-1][j], knapsack[i-1][j - weight] +value) #내 값을 뭐로 갱신할까?\n",
    "            \n",
    "print(knapsack[N][K])"
   ]
  },
  {
   "cell_type": "markdown",
   "metadata": {},
   "source": [
    "# 느낀점: \n",
    "감은 잡았는데, 제대로 풀지 못했던것 같다. \n",
    "x축에 수용가능한 weight라는 constraint와, y축에 물건을 집어넣는 방식으로 \n",
    "\n",
    "if j(수용가능무게) > wegiht(넣으려는 물건의 무게)\n",
    "knapsack[i][j] = max(knapsack[i-1][j], knapsck[i-1][j - wegiht] + value)\n",
    "\n",
    "--> 너무 아깝다.."
   ]
  },
  {
   "cell_type": "code",
   "execution_count": null,
   "metadata": {},
   "outputs": [],
   "source": []
  }
 ],
 "metadata": {
  "kernelspec": {
   "display_name": "Python 3",
   "language": "python",
   "name": "python3"
  },
  "language_info": {
   "codemirror_mode": {
    "name": "ipython",
    "version": 3
   },
   "file_extension": ".py",
   "mimetype": "text/x-python",
   "name": "python",
   "nbconvert_exporter": "python",
   "pygments_lexer": "ipython3",
   "version": "3.8.3"
  }
 },
 "nbformat": 4,
 "nbformat_minor": 4
}
