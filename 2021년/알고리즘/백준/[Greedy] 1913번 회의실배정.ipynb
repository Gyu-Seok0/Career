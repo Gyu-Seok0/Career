{
 "cells": [
  {
   "cell_type": "code",
   "execution_count": null,
   "metadata": {},
   "outputs": [],
   "source": [
    "# 회의시간: 시작, 끝\n",
    "# 어떻게 하면 최대 회의 개수를 찾을 수 있을까?\n",
    "\n",
    "# 알고리즘 구상하기\n",
    "1) 시작시간/ 끝시간 입력받기\n",
    "2) 정렬하기 (시작시간, 끝시간)\n",
    "3) dp table을 만들서 하나씩 돌리기?\n",
    " - 끝시간 이후, 시간이 가능하다면 +1, 아니면 냅두기"
   ]
  },
  {
   "cell_type": "code",
   "execution_count": 1,
   "metadata": {},
   "outputs": [
    {
     "name": "stdout",
     "output_type": "stream",
     "text": [
      "11\n",
      "1 4\n",
      "3 5\n",
      "0 6\n",
      "5 7\n",
      "3 8\n",
      "5 9\n",
      "6 10\n",
      "8 11\n",
      "8 12\n",
      "2 13\n",
      "12 14\n"
     ]
    }
   ],
   "source": [
    "# 풀이1 --> 시간초과\n",
    "N = int(input())\n",
    "time = [tuple(map(int,input().split())) for _ in range(N)]\n",
    "time.sort()\n",
    "dp = [1]*N #회의를 진행하자\n",
    "for i in range(N-1):\n",
    "    start, end = time[i]\n",
    "    for j in range(i+1,N):\n",
    "        if end <= time[j][0]:\n",
    "            dp[j] = max(dp[j],dp[i]+1)\n",
    "print(dp[N-1])"
   ]
  },
  {
   "cell_type": "code",
   "execution_count": 14,
   "metadata": {},
   "outputs": [
    {
     "name": "stdout",
     "output_type": "stream",
     "text": [
      "4\n"
     ]
    }
   ],
   "source": [
    "#풀이 2\n",
    "#N = int(input())\n",
    "#time = [tuple(map(int,input().split())) for _ in range(N)]\n",
    "time.sort(key = lambda x: (x[1],x[0])) #끝시간 기준\n",
    "end = 0\n",
    "ans = 0\n",
    "for now in time:\n",
    "    if end <= now[0]: # 끝나는 시간 <= 시작시간이면 회의가 가능하지\n",
    "        end = now[1] # 끝나는 시간이 \n",
    "        ans += 1\n",
    "print(ans)"
   ]
  },
  {
   "cell_type": "markdown",
   "metadata": {},
   "source": [
    "# 정리: \n",
    "끝나는 시간을 기준으로 생각하긴 했는데, 빨리 끝나는 걸 기준으로 다음에 올 수 있는지 없는지 --> 그리디 알고리즘 (지금 순간에 최대를 찾는 것 같더라)\n"
   ]
  },
  {
   "cell_type": "code",
   "execution_count": 14,
   "metadata": {},
   "outputs": [
    {
     "name": "stdout",
     "output_type": "stream",
     "text": [
      "11\n",
      "1 4\n",
      "3 5\n",
      "0 6\n",
      "5 7\n",
      "3 8\n",
      "5 9\n",
      "6 10\n",
      "8 11\n",
      "8 12\n",
      "2 13\n",
      "12 14\n"
     ]
    }
   ],
   "source": [
    "N = int(input())\n",
    "meeting = [tuple(map(int, input().split())) for _ in range(N)]\n",
    "meeting.sort(key = lambda x: (x[1],x[0]))\n",
    "end = meeting[0][1]\n",
    "cnt = 1\n",
    "for now in range(1,N):\n",
    "    if meeting[now][0] >= end:\n",
    "        cnt += 1\n",
    "        end = meeting[now][1]\n",
    "print(cnt)"
   ]
  }
 ],
 "metadata": {
  "kernelspec": {
   "display_name": "Python 3",
   "language": "python",
   "name": "python3"
  },
  "language_info": {
   "codemirror_mode": {
    "name": "ipython",
    "version": 3
   },
   "file_extension": ".py",
   "mimetype": "text/x-python",
   "name": "python",
   "nbconvert_exporter": "python",
   "pygments_lexer": "ipython3",
   "version": "3.8.3"
  }
 },
 "nbformat": 4,
 "nbformat_minor": 4
}
