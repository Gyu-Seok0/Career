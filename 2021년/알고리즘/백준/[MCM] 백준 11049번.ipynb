{
 "cells": [
  {
   "cell_type": "markdown",
   "metadata": {},
   "source": [
    "# 알고리즘\n",
    "\n",
    "1) 입력받기 (n by m) <br>\n",
    "2) length 조정 --> 2부터 n까지 <br>\n",
    "3) 그것에 대응 되는 start와 end 잡기 <br>\n",
    "4) max(dp[start][end], dp[start][k] + dp[k+1][end] + S[start][0]*S[k][1]*S[end][1]) <br>\n",
    "\n",
    "5) 맨 마지막에 해당하는 dp값 가져오기"
   ]
  },
  {
   "cell_type": "code",
   "execution_count": 2,
   "metadata": {},
   "outputs": [
    {
     "name": "stdout",
     "output_type": "stream",
     "text": [
      "3\n",
      "5 3\n",
      "3 2\n",
      "2 6\n"
     ]
    }
   ],
   "source": [
    "N = int(input())\n",
    "mat = [list(map(int,input().split()))for _ in range(N)]"
   ]
  },
  {
   "cell_type": "code",
   "execution_count": 28,
   "metadata": {},
   "outputs": [
    {
     "data": {
      "text/plain": [
       "[[0, 0, 0], [0, 0, 0], [0, 0, 0]]"
      ]
     },
     "execution_count": 28,
     "metadata": {},
     "output_type": "execute_result"
    }
   ],
   "source": [
    "dp = [[0]*N for _ in range(N)]\n",
    "dp"
   ]
  },
  {
   "cell_type": "code",
   "execution_count": 29,
   "metadata": {},
   "outputs": [
    {
     "name": "stdout",
     "output_type": "stream",
     "text": [
      "0 0 1\n",
      "1 1 2\n",
      "0 0 2\n",
      "0 1 2\n"
     ]
    }
   ],
   "source": [
    "for length in range(2,N+1): # 2 ~ N까지\n",
    "    for start in range(N-length+1): # start 잡기 --> +1은 index 조절\n",
    "        end = start + length -1 #  end 잡기 --> -1도 Index 조절\n",
    "        dp[start][end] = 2**32\n",
    "        for k in range(start, end):\n",
    "            print(start,k,end)\n",
    "            dp[start][end] = min(dp[start][end], dp[start][k] + dp[k+1][end] + mat[start][0]*mat[k][1]*mat[end][1])\n",
    "    "
   ]
  },
  {
   "cell_type": "code",
   "execution_count": 11,
   "metadata": {},
   "outputs": [
    {
     "name": "stdout",
     "output_type": "stream",
     "text": [
      "2.8848648071289062e-05\n"
     ]
    }
   ],
   "source": [
    "import timeit\n",
    "start = time.time()\n",
    "\n",
    "\n",
    "\n",
    "\n",
    "\n",
    "end = time.time()\n",
    "\n",
    "print(end - start )"
   ]
  },
  {
   "cell_type": "code",
   "execution_count": 17,
   "metadata": {},
   "outputs": [
    {
     "name": "stdout",
     "output_type": "stream",
     "text": [
      "3\n",
      "2 3\n",
      "3 2\n",
      "2 6\n",
      "36\n"
     ]
    }
   ],
   "source": [
    "N = int(input())\n",
    "mat = [list(map(int,input().split()))for _ in range(N)]\n",
    "dp = [[0]*N for _ in range(N)]\n",
    "for length in range(1,N): # 1 ~ N-1까지\n",
    "    for start in range(N-length): # start 잡기 --> +1은 index 조절\n",
    "        end = start + length#  end 잡기 --> -1도 Index 조절\n",
    "        dp[start][end] = 2**32\n",
    "        for k in range(start, end):\n",
    "            dp[start][end] = min(dp[start][end], dp[start][k] + dp[k+1][end] + mat[start][0]*mat[k][1]*mat[end][1])\n",
    "print(dp[0][N-1])"
   ]
  },
  {
   "cell_type": "code",
   "execution_count": 15,
   "metadata": {},
   "outputs": [
    {
     "name": "stdout",
     "output_type": "stream",
     "text": [
      "0.00023603439331054688\n"
     ]
    }
   ],
   "source": [
    "start = time.time()\n",
    "value = 0\n",
    "for i in range(1,1000):\n",
    "    value += i\n",
    "print(time.time() - start)"
   ]
  },
  {
   "cell_type": "code",
   "execution_count": null,
   "metadata": {},
   "outputs": [],
   "source": [
    "8\n",
    "\n",
    "1 100\n",
    "\n",
    "100 1\n",
    "\n",
    "1 100\n",
    "\n",
    "100 1\n",
    "\n",
    "1 100\n",
    "\n",
    "100 1\n",
    "\n",
    "1 100\n",
    "\n",
    "100 1"
   ]
  }
 ],
 "metadata": {
  "kernelspec": {
   "display_name": "Python 3",
   "language": "python",
   "name": "python3"
  },
  "language_info": {
   "codemirror_mode": {
    "name": "ipython",
    "version": 3
   },
   "file_extension": ".py",
   "mimetype": "text/x-python",
   "name": "python",
   "nbconvert_exporter": "python",
   "pygments_lexer": "ipython3",
   "version": "3.8.3"
  }
 },
 "nbformat": 4,
 "nbformat_minor": 4
}
