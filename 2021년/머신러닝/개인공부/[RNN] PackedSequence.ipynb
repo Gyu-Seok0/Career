{
 "cells": [
  {
   "cell_type": "markdown",
   "metadata": {},
   "source": [
    "### 정리\n",
    "\n",
    "서로 길이가 다른 seqence를 처리하는 방법에는 두 가지가 있다.\n",
    "\n",
    "1) padding\n",
    "가장 긴 seqence을 기준으로 해서, 뒤쪽 영역들을 모두 padding 처리하기\n",
    "\n",
    "\n",
    "2) packed\n",
    "해당 sequence의 길이를 담고 있는 정보를 바탕으로,\n",
    "내림차순의 방식으로 문제 해결"
   ]
  },
  {
   "cell_type": "markdown",
   "metadata": {},
   "source": [
    "### 공부 총 정리\n",
    "RNN: recurrent neural net을 의미한다.\n",
    "<br>\n",
    "연속된 데이터를 처리하기 위해 고안된 deep learning 모델이다\n",
    "<br>\n",
    "주로 tanh을 activaton function으로 사용하는 것으로 알고 있다.\n",
    "\n",
    "<br>\n",
    "주요 모델로는 seq2seq 모델 등이 있다.\n",
    "이 모델의 기본 구조는 encoder와 decoder의 구조로 이뤄져서, encoder의 마지막 hidden state가 decoder의 첫번째 hidden state로 사용된다.\n",
    "<br>\n"
   ]
  },
  {
   "cell_type": "code",
   "execution_count": null,
   "metadata": {},
   "outputs": [],
   "source": []
  }
 ],
 "metadata": {
  "kernelspec": {
   "display_name": "Python 3",
   "language": "python",
   "name": "python3"
  },
  "language_info": {
   "codemirror_mode": {
    "name": "ipython",
    "version": 3
   },
   "file_extension": ".py",
   "mimetype": "text/x-python",
   "name": "python",
   "nbconvert_exporter": "python",
   "pygments_lexer": "ipython3",
   "version": "3.8.3"
  }
 },
 "nbformat": 4,
 "nbformat_minor": 4
}
