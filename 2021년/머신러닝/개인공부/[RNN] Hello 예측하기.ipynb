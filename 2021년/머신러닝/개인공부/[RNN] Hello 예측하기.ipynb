{
 "cells": [
  {
   "cell_type": "code",
   "execution_count": 18,
   "metadata": {},
   "outputs": [],
   "source": [
    "import torch\n",
    "import numpy as np\n",
    "\n",
    "input_size = 4\n",
    "hidden_size = 2\n",
    "\n",
    "h = [1,0,0,0]\n",
    "e = [0,1,0,0]\n",
    "l = [0,0,1,0]\n",
    "o = [0,0,0,1]\n",
    "\n",
    "# shpae = (3,5,4) --> (batch, seqence length, input_size)\n",
    "input_data_np = np.array([[h,e,l,l,o],\n",
    "                         [e,o,l,l,l],\n",
    "                         [l,l,e,e,l]], dtype = np.float32)\n",
    "input_data = torch.Tensor(input_data_np)\n",
    "\n",
    "rnn = torch.nn.RNN(input_size, hidden_size)\n",
    "\n",
    "# shape = (3,5,2) --> (batch, seqence, out)\n",
    "outputs, _status = rnn(input_data)"
   ]
  },
  {
   "cell_type": "code",
   "execution_count": 19,
   "metadata": {},
   "outputs": [
    {
     "name": "stdout",
     "output_type": "stream",
     "text": [
      "input shpae =  torch.Size([3, 5, 4])\n",
      "hidden state's shape =  torch.Size([1, 5, 2])\n",
      "output shape =  torch.Size([3, 5, 2])\n"
     ]
    }
   ],
   "source": [
    "print(\"input shpae = \", input_data.shape)\n",
    "print(\"hidden state's shape = \",_status.shape)\n",
    "print(\"output shape = \", outputs.shape)"
   ]
  },
  {
   "cell_type": "markdown",
   "metadata": {},
   "source": [
    "# hi hello를 예측해보자"
   ]
  },
  {
   "cell_type": "code",
   "execution_count": 140,
   "metadata": {},
   "outputs": [],
   "source": [
    "# data 준비\n",
    "char_set = ['h','i','e','l','o']\n",
    "\n",
    "input_size = len(char_set) #5\n",
    "hidden_size = len(char_set) #5\n",
    "learning_rate = 0.1\n",
    "\n",
    "\n",
    "\n",
    "x_data = [[0,1,0,2,3,3]] # hi hell 까지가 Input\n",
    "x_one_hot = [[[1,0,0,0,0],\n",
    "              [0,1,0,0,0],\n",
    "              [1,0,0,0,0],\n",
    "              [0,0,1,0,0],\n",
    "              [0,0,0,1,0],\n",
    "              [0,0,0,1,0]]]\n",
    "y_data = [[1,0,2,3,3,4]]\n",
    "\n",
    "X = torch.FloatTensor(x_one_hot)\n",
    "Y = torch.LongTensor(y_data)\n",
    "\n",
    "\n",
    "\n"
   ]
  },
  {
   "cell_type": "code",
   "execution_count": 141,
   "metadata": {},
   "outputs": [
    {
     "data": {
      "text/plain": [
       "torch.Size([1, 6, 5])"
      ]
     },
     "execution_count": 141,
     "metadata": {},
     "output_type": "execute_result"
    }
   ],
   "source": [
    "X.shape # (batch, sequence, input ) = (1, 6, 5)\n"
   ]
  },
  {
   "cell_type": "code",
   "execution_count": 142,
   "metadata": {},
   "outputs": [
    {
     "name": "stdout",
     "output_type": "stream",
     "text": [
      "0 loss 1.6162933111190796 prediciton: [[1 3 3 3 3 3]] True Y: [[1, 0, 2, 3, 3, 4]] pred str: illlll\n",
      "1 loss 1.410448670387268 prediciton: [[1 3 3 3 3 3]] True Y: [[1, 0, 2, 3, 3, 4]] pred str: illlll\n",
      "2 loss 1.2946723699569702 prediciton: [[2 2 2 3 3 3]] True Y: [[1, 0, 2, 3, 3, 4]] pred str: eeelll\n",
      "3 loss 1.1827173233032227 prediciton: [[2 0 2 3 3 3]] True Y: [[1, 0, 2, 3, 3, 4]] pred str: ehelll\n",
      "4 loss 1.0682591199874878 prediciton: [[2 0 2 3 3 4]] True Y: [[1, 0, 2, 3, 3, 4]] pred str: ehello\n",
      "5 loss 0.9746897220611572 prediciton: [[1 0 2 3 3 4]] True Y: [[1, 0, 2, 3, 3, 4]] pred str: ihello\n",
      "6 loss 0.9053593277931213 prediciton: [[1 0 2 3 3 4]] True Y: [[1, 0, 2, 3, 3, 4]] pred str: ihello\n",
      "7 loss 0.8388474583625793 prediciton: [[1 0 2 3 3 4]] True Y: [[1, 0, 2, 3, 3, 4]] pred str: ihello\n",
      "8 loss 0.7758391499519348 prediciton: [[1 0 2 3 3 4]] True Y: [[1, 0, 2, 3, 3, 4]] pred str: ihello\n",
      "9 loss 0.7263551354408264 prediciton: [[1 0 2 3 3 4]] True Y: [[1, 0, 2, 3, 3, 4]] pred str: ihello\n"
     ]
    }
   ],
   "source": [
    "# 모델링\n",
    "rnn = torch.nn.RNN(input_size, hidden_size, batch_first = True)\n",
    "\n",
    "criterion = torch.nn.CrossEntropyLoss()\n",
    "optimizer = torch.optim.Adam(rnn.parameters(), lr = learning_rate)\n",
    "\n",
    "#학습\n",
    "for i in range(10):\n",
    "    optimizer.zero_grad()\n",
    "    outputs, _status = rnn(X)\n",
    "    loss = criterion(outputs.view(-1,input_size), Y.view(-1))\n",
    "    \n",
    "    loss.backward()\n",
    "    optimizer.step()\n",
    "    \n",
    "    result = outputs.data.numpy().argmax(axis = 2)\n",
    "    result_str = \"\".join([char_set[c] for c in np.squeeze(result)])\n",
    "    \n",
    "    print(i, \"loss\", loss.item(), \"prediciton:\", result, \"True Y:\", y_data, \"pred str:\", result_str)"
   ]
  },
  {
   "cell_type": "code",
   "execution_count": 172,
   "metadata": {},
   "outputs": [
    {
     "name": "stdout",
     "output_type": "stream",
     "text": [
      "{'f': 0, ' ': 1, 'o': 2, 'i': 3, 'w': 4, 'y': 5, 'a': 6, 't': 7, 'n': 8, 'u': 9}\n"
     ]
    }
   ],
   "source": [
    "smaple = \"if you want you\"\n",
    "char_set = list(set(sample))\n",
    "char_dic = {c: i for i, c in enumerate(char_set)}\n",
    "print(char_dic)\n",
    "\n",
    "# hyper parameter\n",
    "dic_size = len(char_dic)\n",
    "hidden_size = len(char_dic) \n",
    "learning_rate = 0.1\n",
    "\n",
    "#data setting\n",
    "sample_idx = [char_dic[c] for c in sample]\n",
    "x_data = [sample_idx[:-1]]\n",
    "x_one_hot = [np.eye(dic_size)[x] for x in x_data]\n",
    "y_data = [sample_idx[1:]]\n",
    "\n",
    "X = torch.FloatTensor(x_one_hot)\n",
    "Y = torch.LongTensor(y_data)"
   ]
  },
  {
   "cell_type": "code",
   "execution_count": 179,
   "metadata": {},
   "outputs": [
    {
     "ename": "AttributeError",
     "evalue": "'list' object has no attribute 'shape'",
     "output_type": "error",
     "traceback": [
      "\u001b[0;31m---------------------------------------------------------------------------\u001b[0m",
      "\u001b[0;31mAttributeError\u001b[0m                            Traceback (most recent call last)",
      "\u001b[0;32m<ipython-input-179-5190a6264e53>\u001b[0m in \u001b[0;36m<module>\u001b[0;34m\u001b[0m\n\u001b[0;32m----> 1\u001b[0;31m \u001b[0mx_data\u001b[0m\u001b[0;34m.\u001b[0m\u001b[0mshape\u001b[0m\u001b[0;34m\u001b[0m\u001b[0;34m\u001b[0m\u001b[0m\n\u001b[0m",
      "\u001b[0;31mAttributeError\u001b[0m: 'list' object has no attribute 'shape'"
     ]
    }
   ],
   "source": [
    "x_data.shape"
   ]
  },
  {
   "cell_type": "code",
   "execution_count": 173,
   "metadata": {},
   "outputs": [
    {
     "name": "stdout",
     "output_type": "stream",
     "text": [
      "dic_size =  10 hidden_size =  10\n",
      "X.shape =  torch.Size([1, 14, 10]) Y.shape =  torch.Size([1, 14])\n"
     ]
    }
   ],
   "source": [
    "print(\"dic_size = \", dic_size, \"hidden_size = \", hidden_size)\n",
    "\n",
    "# batch, sequence length, input_size\n",
    "print(\"X.shape = \", X.shape, \"Y.shape = \", Y.shape)"
   ]
  },
  {
   "cell_type": "code",
   "execution_count": 175,
   "metadata": {},
   "outputs": [],
   "source": [
    "rnn = torch.nn.RNN(dic_size, hidden_size, batch_first=True) # hidden size는 여기서 처음 사용\n",
    "criterion = torch.nn.CrossEntropyLoss()\n",
    "optimizer = torch.optim.Adam(rnn.parameters(), learning_rate)"
   ]
  },
  {
   "cell_type": "code",
   "execution_count": 176,
   "metadata": {},
   "outputs": [
    {
     "name": "stdout",
     "output_type": "stream",
     "text": [
      "0 loss:  2.2262415885925293 prediction:  [[1 1 1 1 1 2 1 2 1 8 1 1 1 1]] true Y:  [[0, 1, 5, 2, 9, 1, 4, 6, 8, 7, 1, 5, 2, 9]] prediction str:       o o n    \n",
      "1 loss:  1.9128385782241821 prediction:  [[1 1 2 2 2 2 2 2 2 1 1 2 2 2]] true Y:  [[0, 1, 5, 2, 9, 1, 4, 6, 8, 7, 1, 5, 2, 9]] prediction str:    ooooooo  ooo\n",
      "2 loss:  1.7039344310760498 prediction:  [[1 1 5 2 9 5 2 6 6 9 1 5 6 9]] true Y:  [[0, 1, 5, 2, 9, 1, 4, 6, 8, 7, 1, 5, 2, 9]] prediction str:    youyoaau yau\n",
      "3 loss:  1.5387998819351196 prediction:  [[1 1 5 6 9 1 5 6 8 1 1 5 6 9]] true Y:  [[0, 1, 5, 2, 9, 1, 4, 6, 8, 7, 1, 5, 2, 9]] prediction str:    yau yan  yau\n",
      "4 loss:  1.4897459745407104 prediction:  [[0 1 5 6 9 1 5 5 8 1 1 5 6 0]] true Y:  [[0, 1, 5, 2, 9, 1, 4, 6, 8, 7, 1, 5, 2, 9]] prediction str:  f yau yyn  yaf\n",
      "5 loss:  1.4072916507720947 prediction:  [[0 1 5 6 9 1 5 6 8 1 1 5 6 9]] true Y:  [[0, 1, 5, 2, 9, 1, 4, 6, 8, 7, 1, 5, 2, 9]] prediction str:  f yau yan  yau\n",
      "6 loss:  1.3524926900863647 prediction:  [[0 1 5 6 9 1 5 6 8 1 1 5 6 9]] true Y:  [[0, 1, 5, 2, 9, 1, 4, 6, 8, 7, 1, 5, 2, 9]] prediction str:  f yau yan  yau\n",
      "7 loss:  1.279921531677246 prediction:  [[0 1 5 2 9 1 5 6 8 1 1 5 2 9]] true Y:  [[0, 1, 5, 2, 9, 1, 4, 6, 8, 7, 1, 5, 2, 9]] prediction str:  f you yan  you\n",
      "8 loss:  1.2053210735321045 prediction:  [[0 1 5 2 9 1 4 6 8 1 1 5 2 9]] true Y:  [[0, 1, 5, 2, 9, 1, 4, 6, 8, 7, 1, 5, 2, 9]] prediction str:  f you wan  you\n",
      "9 loss:  1.1455179452896118 prediction:  [[0 1 5 2 9 5 4 6 8 1 1 5 2 9]] true Y:  [[0, 1, 5, 2, 9, 1, 4, 6, 8, 7, 1, 5, 2, 9]] prediction str:  f youywan  you\n"
     ]
    }
   ],
   "source": [
    "for i in range(10):\n",
    "    optimizer.zero_grad()\n",
    "    outputs, _status = rnn(X)\n",
    "    loss = criterion(outputs.view(-1, dic_size), Y.view(-1))\n",
    "    loss.backward()\n",
    "    optimizer.step()\n",
    "\n",
    "    result = outputs.data.numpy().argmax(axis=2)\n",
    "    result_str = ''.join([char_set[c] for c in np.squeeze(result)])\n",
    "    print(i, \"loss: \", loss.item(), \"prediction: \", result, \"true Y: \", y_data, \"prediction str: \", result_str)"
   ]
  },
  {
   "cell_type": "code",
   "execution_count": 180,
   "metadata": {},
   "outputs": [
    {
     "data": {
      "text/plain": [
       "torch.Size([1, 14, 10])"
      ]
     },
     "execution_count": 180,
     "metadata": {},
     "output_type": "execute_result"
    }
   ],
   "source": [
    "outputs.shape"
   ]
  },
  {
   "cell_type": "code",
   "execution_count": 182,
   "metadata": {},
   "outputs": [
    {
     "data": {
      "text/plain": [
       "torch.Size([14, 10])"
      ]
     },
     "execution_count": 182,
     "metadata": {},
     "output_type": "execute_result"
    }
   ],
   "source": [
    "outputs.view(-1, dic_size).shape"
   ]
  },
  {
   "cell_type": "code",
   "execution_count": 183,
   "metadata": {},
   "outputs": [
    {
     "data": {
      "text/plain": [
       "(1, 14)"
      ]
     },
     "execution_count": 183,
     "metadata": {},
     "output_type": "execute_result"
    }
   ],
   "source": [
    "result.shape"
   ]
  },
  {
   "cell_type": "code",
   "execution_count": null,
   "metadata": {},
   "outputs": [],
   "source": []
  }
 ],
 "metadata": {
  "kernelspec": {
   "display_name": "Python 3",
   "language": "python",
   "name": "python3"
  },
  "language_info": {
   "codemirror_mode": {
    "name": "ipython",
    "version": 3
   },
   "file_extension": ".py",
   "mimetype": "text/x-python",
   "name": "python",
   "nbconvert_exporter": "python",
   "pygments_lexer": "ipython3",
   "version": "3.8.3"
  }
 },
 "nbformat": 4,
 "nbformat_minor": 4
}
