{
 "cells": [
  {
   "cell_type": "code",
   "execution_count": 33,
   "metadata": {},
   "outputs": [],
   "source": [
    "import torch\n",
    "import numpy as np\n",
    "\n",
    "input_size = 4\n",
    "hidden_size = 2\n",
    "\n",
    "h = [1,0,0,0]\n",
    "e = [0,1,0,0]\n",
    "l = [0,0,1,0]\n",
    "o = [0,0,0,1]\n",
    "\n",
    "# shpae = (3,5,4) --> (batch, seqence length, input_size)\n",
    "input_data_np = np.array([[h,e,l,l,o],\n",
    "                         [e,o,l,l,l],\n",
    "                         [l,l,e,e,l]], dtype = np.float32)\n",
    "\n",
    "input_data = torch.Tensor(input_data_np)\n",
    "\n",
    "rnn = torch.nn.RNN(input_size, hidden_size)\n",
    "\n",
    "# shape = (3,5,2) --> (batch, seqence, out)\n",
    "outputs, _status = rnn(input_data)"
   ]
  },
  {
   "cell_type": "code",
   "execution_count": 35,
   "metadata": {},
   "outputs": [
    {
     "ename": "RuntimeError",
     "evalue": "input.size(-1) must be equal to input_size. Expected 4, got 5",
     "output_type": "error",
     "traceback": [
      "\u001b[0;31m---------------------------------------------------------------------------\u001b[0m",
      "\u001b[0;31mRuntimeError\u001b[0m                              Traceback (most recent call last)",
      "\u001b[0;32m<ipython-input-35-13cac127f392>\u001b[0m in \u001b[0;36m<module>\u001b[0;34m\u001b[0m\n\u001b[1;32m     12\u001b[0m \u001b[0;32mfor\u001b[0m \u001b[0mi\u001b[0m \u001b[0;32min\u001b[0m \u001b[0mrange\u001b[0m\u001b[0;34m(\u001b[0m\u001b[0;36m10\u001b[0m\u001b[0;34m)\u001b[0m\u001b[0;34m:\u001b[0m\u001b[0;34m\u001b[0m\u001b[0;34m\u001b[0m\u001b[0m\n\u001b[1;32m     13\u001b[0m     \u001b[0moptimizer\u001b[0m\u001b[0;34m.\u001b[0m\u001b[0mzero_grad\u001b[0m\u001b[0;34m(\u001b[0m\u001b[0;34m)\u001b[0m\u001b[0;34m\u001b[0m\u001b[0;34m\u001b[0m\u001b[0m\n\u001b[0;32m---> 14\u001b[0;31m     \u001b[0moutputs\u001b[0m\u001b[0;34m,\u001b[0m \u001b[0m_status\u001b[0m \u001b[0;34m=\u001b[0m \u001b[0mrnn\u001b[0m\u001b[0;34m(\u001b[0m\u001b[0mX\u001b[0m\u001b[0;34m)\u001b[0m\u001b[0;34m\u001b[0m\u001b[0;34m\u001b[0m\u001b[0m\n\u001b[0m\u001b[1;32m     15\u001b[0m     \u001b[0mloss\u001b[0m \u001b[0;34m=\u001b[0m \u001b[0mcriterion\u001b[0m\u001b[0;34m(\u001b[0m\u001b[0moutputs\u001b[0m\u001b[0;34m.\u001b[0m\u001b[0mview\u001b[0m\u001b[0;34m(\u001b[0m\u001b[0;34m-\u001b[0m\u001b[0;36m1\u001b[0m\u001b[0;34m,\u001b[0m\u001b[0mhidden_size\u001b[0m\u001b[0;34m)\u001b[0m\u001b[0;34m,\u001b[0m \u001b[0mY\u001b[0m\u001b[0;34m.\u001b[0m\u001b[0mview\u001b[0m\u001b[0;34m(\u001b[0m\u001b[0;34m-\u001b[0m\u001b[0;36m1\u001b[0m\u001b[0;34m)\u001b[0m\u001b[0;34m)\u001b[0m\u001b[0;34m\u001b[0m\u001b[0;34m\u001b[0m\u001b[0m\n\u001b[1;32m     16\u001b[0m \u001b[0;34m\u001b[0m\u001b[0m\n",
      "\u001b[0;32m~/opt/anaconda3/lib/python3.8/site-packages/torch/nn/modules/module.py\u001b[0m in \u001b[0;36m__call__\u001b[0;34m(self, *input, **kwargs)\u001b[0m\n\u001b[1;32m    548\u001b[0m             \u001b[0mresult\u001b[0m \u001b[0;34m=\u001b[0m \u001b[0mself\u001b[0m\u001b[0;34m.\u001b[0m\u001b[0m_slow_forward\u001b[0m\u001b[0;34m(\u001b[0m\u001b[0;34m*\u001b[0m\u001b[0minput\u001b[0m\u001b[0;34m,\u001b[0m \u001b[0;34m**\u001b[0m\u001b[0mkwargs\u001b[0m\u001b[0;34m)\u001b[0m\u001b[0;34m\u001b[0m\u001b[0;34m\u001b[0m\u001b[0m\n\u001b[1;32m    549\u001b[0m         \u001b[0;32melse\u001b[0m\u001b[0;34m:\u001b[0m\u001b[0;34m\u001b[0m\u001b[0;34m\u001b[0m\u001b[0m\n\u001b[0;32m--> 550\u001b[0;31m             \u001b[0mresult\u001b[0m \u001b[0;34m=\u001b[0m \u001b[0mself\u001b[0m\u001b[0;34m.\u001b[0m\u001b[0mforward\u001b[0m\u001b[0;34m(\u001b[0m\u001b[0;34m*\u001b[0m\u001b[0minput\u001b[0m\u001b[0;34m,\u001b[0m \u001b[0;34m**\u001b[0m\u001b[0mkwargs\u001b[0m\u001b[0;34m)\u001b[0m\u001b[0;34m\u001b[0m\u001b[0;34m\u001b[0m\u001b[0m\n\u001b[0m\u001b[1;32m    551\u001b[0m         \u001b[0;32mfor\u001b[0m \u001b[0mhook\u001b[0m \u001b[0;32min\u001b[0m \u001b[0mself\u001b[0m\u001b[0;34m.\u001b[0m\u001b[0m_forward_hooks\u001b[0m\u001b[0;34m.\u001b[0m\u001b[0mvalues\u001b[0m\u001b[0;34m(\u001b[0m\u001b[0;34m)\u001b[0m\u001b[0;34m:\u001b[0m\u001b[0;34m\u001b[0m\u001b[0;34m\u001b[0m\u001b[0m\n\u001b[1;32m    552\u001b[0m             \u001b[0mhook_result\u001b[0m \u001b[0;34m=\u001b[0m \u001b[0mhook\u001b[0m\u001b[0;34m(\u001b[0m\u001b[0mself\u001b[0m\u001b[0;34m,\u001b[0m \u001b[0minput\u001b[0m\u001b[0;34m,\u001b[0m \u001b[0mresult\u001b[0m\u001b[0;34m)\u001b[0m\u001b[0;34m\u001b[0m\u001b[0;34m\u001b[0m\u001b[0m\n",
      "\u001b[0;32m~/opt/anaconda3/lib/python3.8/site-packages/torch/nn/modules/rnn.py\u001b[0m in \u001b[0;36mforward\u001b[0;34m(self, input, hx)\u001b[0m\n\u001b[1;32m    222\u001b[0m             \u001b[0mhx\u001b[0m \u001b[0;34m=\u001b[0m \u001b[0mself\u001b[0m\u001b[0;34m.\u001b[0m\u001b[0mpermute_hidden\u001b[0m\u001b[0;34m(\u001b[0m\u001b[0mhx\u001b[0m\u001b[0;34m,\u001b[0m \u001b[0msorted_indices\u001b[0m\u001b[0;34m)\u001b[0m\u001b[0;34m\u001b[0m\u001b[0;34m\u001b[0m\u001b[0m\n\u001b[1;32m    223\u001b[0m \u001b[0;34m\u001b[0m\u001b[0m\n\u001b[0;32m--> 224\u001b[0;31m         \u001b[0mself\u001b[0m\u001b[0;34m.\u001b[0m\u001b[0mcheck_forward_args\u001b[0m\u001b[0;34m(\u001b[0m\u001b[0minput\u001b[0m\u001b[0;34m,\u001b[0m \u001b[0mhx\u001b[0m\u001b[0;34m,\u001b[0m \u001b[0mbatch_sizes\u001b[0m\u001b[0;34m)\u001b[0m\u001b[0;34m\u001b[0m\u001b[0;34m\u001b[0m\u001b[0m\n\u001b[0m\u001b[1;32m    225\u001b[0m         \u001b[0m_impl\u001b[0m \u001b[0;34m=\u001b[0m \u001b[0m_rnn_impls\u001b[0m\u001b[0;34m[\u001b[0m\u001b[0mself\u001b[0m\u001b[0;34m.\u001b[0m\u001b[0mmode\u001b[0m\u001b[0;34m]\u001b[0m\u001b[0;34m\u001b[0m\u001b[0;34m\u001b[0m\u001b[0m\n\u001b[1;32m    226\u001b[0m         \u001b[0;32mif\u001b[0m \u001b[0mbatch_sizes\u001b[0m \u001b[0;32mis\u001b[0m \u001b[0;32mNone\u001b[0m\u001b[0;34m:\u001b[0m\u001b[0;34m\u001b[0m\u001b[0;34m\u001b[0m\u001b[0m\n",
      "\u001b[0;32m~/opt/anaconda3/lib/python3.8/site-packages/torch/nn/modules/rnn.py\u001b[0m in \u001b[0;36mcheck_forward_args\u001b[0;34m(self, input, hidden, batch_sizes)\u001b[0m\n\u001b[1;32m    189\u001b[0m     \u001b[0;32mdef\u001b[0m \u001b[0mcheck_forward_args\u001b[0m\u001b[0;34m(\u001b[0m\u001b[0mself\u001b[0m\u001b[0;34m,\u001b[0m \u001b[0minput\u001b[0m\u001b[0;34m,\u001b[0m \u001b[0mhidden\u001b[0m\u001b[0;34m,\u001b[0m \u001b[0mbatch_sizes\u001b[0m\u001b[0;34m)\u001b[0m\u001b[0;34m:\u001b[0m\u001b[0;34m\u001b[0m\u001b[0;34m\u001b[0m\u001b[0m\n\u001b[1;32m    190\u001b[0m         \u001b[0;31m# type: (Tensor, Tensor, Optional[Tensor]) -> None\u001b[0m\u001b[0;34m\u001b[0m\u001b[0;34m\u001b[0m\u001b[0;34m\u001b[0m\u001b[0m\n\u001b[0;32m--> 191\u001b[0;31m         \u001b[0mself\u001b[0m\u001b[0;34m.\u001b[0m\u001b[0mcheck_input\u001b[0m\u001b[0;34m(\u001b[0m\u001b[0minput\u001b[0m\u001b[0;34m,\u001b[0m \u001b[0mbatch_sizes\u001b[0m\u001b[0;34m)\u001b[0m\u001b[0;34m\u001b[0m\u001b[0;34m\u001b[0m\u001b[0m\n\u001b[0m\u001b[1;32m    192\u001b[0m         \u001b[0mexpected_hidden_size\u001b[0m \u001b[0;34m=\u001b[0m \u001b[0mself\u001b[0m\u001b[0;34m.\u001b[0m\u001b[0mget_expected_hidden_size\u001b[0m\u001b[0;34m(\u001b[0m\u001b[0minput\u001b[0m\u001b[0;34m,\u001b[0m \u001b[0mbatch_sizes\u001b[0m\u001b[0;34m)\u001b[0m\u001b[0;34m\u001b[0m\u001b[0;34m\u001b[0m\u001b[0m\n\u001b[1;32m    193\u001b[0m \u001b[0;34m\u001b[0m\u001b[0m\n",
      "\u001b[0;32m~/opt/anaconda3/lib/python3.8/site-packages/torch/nn/modules/rnn.py\u001b[0m in \u001b[0;36mcheck_input\u001b[0;34m(self, input, batch_sizes)\u001b[0m\n\u001b[1;32m    166\u001b[0m                     expected_input_dim, input.dim()))\n\u001b[1;32m    167\u001b[0m         \u001b[0;32mif\u001b[0m \u001b[0mself\u001b[0m\u001b[0;34m.\u001b[0m\u001b[0minput_size\u001b[0m \u001b[0;34m!=\u001b[0m \u001b[0minput\u001b[0m\u001b[0;34m.\u001b[0m\u001b[0msize\u001b[0m\u001b[0;34m(\u001b[0m\u001b[0;34m-\u001b[0m\u001b[0;36m1\u001b[0m\u001b[0;34m)\u001b[0m\u001b[0;34m:\u001b[0m\u001b[0;34m\u001b[0m\u001b[0;34m\u001b[0m\u001b[0m\n\u001b[0;32m--> 168\u001b[0;31m             raise RuntimeError(\n\u001b[0m\u001b[1;32m    169\u001b[0m                 'input.size(-1) must be equal to input_size. Expected {}, got {}'.format(\n\u001b[1;32m    170\u001b[0m                     self.input_size, input.size(-1)))\n",
      "\u001b[0;31mRuntimeError\u001b[0m: input.size(-1) must be equal to input_size. Expected 4, got 5"
     ]
    }
   ],
   "source": [
    "# 모델링\n",
    "char_set = ['h','e','l','o']\n",
    "input_size = 4\n",
    "hidden_size = 5\n",
    "\n",
    "rnn = torch.nn.RNN(input_size, hidden_size, batch_first = True)\n",
    "\n",
    "criterion = torch.nn.CrossEntropyLoss()\n",
    "optimizer = torch.optim.Adam(rnn.parameters(), lr = learning_rate)\n",
    "\n",
    "#학습\n",
    "for i in range(10):\n",
    "    optimizer.zero_grad()\n",
    "    outputs, _status = rnn(X)\n",
    "    loss = criterion(outputs.view(-1,hidden_size), Y.view(-1))\n",
    "    \n",
    "    loss.backward()\n",
    "    optimizer.step()\n",
    "    \n",
    "    result = outputs.data.numpy().argmax(axis = 2)\n",
    "    result_str = \"\".join([char_set[c] for c in np.squeeze(result)])\n",
    "    \n",
    "    print(i, \"loss\", loss.item(), \"prediciton:\", result, \"True Y:\", y_data, \"pred str:\", result_str)"
   ]
  },
  {
   "cell_type": "markdown",
   "metadata": {},
   "source": [
    "# hi hello를 예측해보자"
   ]
  },
  {
   "cell_type": "code",
   "execution_count": 37,
   "metadata": {},
   "outputs": [],
   "source": [
    "# data 준비\n",
    "char_set = ['h','i','e','l','o']\n",
    "\n",
    "input_size = len(char_set) #5\n",
    "hidden_size = len(char_set)  #5\n",
    "learning_rate = 0.1\n",
    "\n",
    "\n",
    "\n",
    "x_data = [[0,1,0,2,3,3]] # hi hell 까지가 Input\n",
    "x_one_hot = [[[1,0,0,0,0],\n",
    "              [0,1,0,0,0],\n",
    "              [1,0,0,0,0],\n",
    "              [0,0,1,0,0],\n",
    "              [0,0,0,1,0],\n",
    "              [0,0,0,1,0]]]\n",
    "y_data = [[1,0,2,3,3,4]]\n",
    "\n",
    "X = torch.FloatTensor(x_one_hot)\n",
    "Y = torch.LongTensor(y_data)\n",
    "\n",
    "\n",
    "\n"
   ]
  },
  {
   "cell_type": "code",
   "execution_count": 38,
   "metadata": {},
   "outputs": [
    {
     "data": {
      "text/plain": [
       "['h', 'i', 'e', 'l', 'o']"
      ]
     },
     "execution_count": 38,
     "metadata": {},
     "output_type": "execute_result"
    }
   ],
   "source": [
    "X.shape # (batch, sequence, input ) = (1, 6, 5)\n",
    "char_set"
   ]
  },
  {
   "cell_type": "code",
   "execution_count": 39,
   "metadata": {},
   "outputs": [
    {
     "name": "stdout",
     "output_type": "stream",
     "text": [
      "0 loss 1.4941304922103882 prediciton: [[2 2 2 3 3 3]] True Y: [[1, 0, 2, 3, 3, 4]] pred str: eeelll\n",
      "1 loss 1.298303246498108 prediciton: [[2 2 2 3 3 3]] True Y: [[1, 0, 2, 3, 3, 4]] pred str: eeelll\n",
      "2 loss 1.131626009941101 prediciton: [[2 0 2 3 3 3]] True Y: [[1, 0, 2, 3, 3, 4]] pred str: ehelll\n",
      "3 loss 1.0013083219528198 prediciton: [[2 0 2 3 3 3]] True Y: [[1, 0, 2, 3, 3, 4]] pred str: ehelll\n",
      "4 loss 0.908409595489502 prediciton: [[2 0 2 3 3 3]] True Y: [[1, 0, 2, 3, 3, 4]] pred str: ehelll\n",
      "5 loss 0.8318250775337219 prediciton: [[1 0 2 3 3 3]] True Y: [[1, 0, 2, 3, 3, 4]] pred str: ihelll\n",
      "6 loss 0.7688564658164978 prediciton: [[1 0 2 3 3 3]] True Y: [[1, 0, 2, 3, 3, 4]] pred str: ihelll\n",
      "7 loss 0.7191205620765686 prediciton: [[1 0 2 3 3 4]] True Y: [[1, 0, 2, 3, 3, 4]] pred str: ihello\n",
      "8 loss 0.6791808009147644 prediciton: [[1 0 2 3 3 4]] True Y: [[1, 0, 2, 3, 3, 4]] pred str: ihello\n",
      "9 loss 0.6446676850318909 prediciton: [[1 0 2 3 3 4]] True Y: [[1, 0, 2, 3, 3, 4]] pred str: ihello\n"
     ]
    }
   ],
   "source": [
    "# 모델링\n",
    "rnn = torch.nn.RNN(input_size, hidden_size, batch_first = True)\n",
    "\n",
    "criterion = torch.nn.CrossEntropyLoss()\n",
    "optimizer = torch.optim.Adam(rnn.parameters(), lr = learning_rate)\n",
    "\n",
    "#학습\n",
    "for i in range(10):\n",
    "    optimizer.zero_grad()\n",
    "    outputs, _status = rnn(X)\n",
    "    loss = criterion(outputs.view(-1,hidden_size), Y.view(-1))\n",
    "    \n",
    "    loss.backward()\n",
    "    optimizer.step()\n",
    "    \n",
    "    result = outputs.data.numpy().argmax(axis = 2)\n",
    "    result_str = \"\".join([char_set[c] for c in np.squeeze(result)])\n",
    "    \n",
    "    print(i, \"loss\", loss.item(), \"prediciton:\", result, \"True Y:\", y_data, \"pred str:\", result_str)"
   ]
  },
  {
   "cell_type": "code",
   "execution_count": 40,
   "metadata": {},
   "outputs": [
    {
     "data": {
      "text/plain": [
       "tensor([[1, 0, 2, 3, 3, 4]])"
      ]
     },
     "execution_count": 40,
     "metadata": {},
     "output_type": "execute_result"
    }
   ],
   "source": [
    "outputs.shape\n",
    "Y"
   ]
  },
  {
   "cell_type": "code",
   "execution_count": 42,
   "metadata": {},
   "outputs": [
    {
     "name": "stdout",
     "output_type": "stream",
     "text": [
      "{'i': 0, 'f': 1, 'a': 2, 't': 3, 'w': 4, 'u': 5, 'n': 6, ' ': 7, 'y': 8, 'o': 9}\n"
     ]
    }
   ],
   "source": [
    "sample = \"if you want you\"\n",
    "char_set = list(set(sample))\n",
    "char_dic = {c: i for i, c in enumerate(char_set)}\n",
    "print(char_dic)\n",
    "\n",
    "# hyper parameter\n",
    "dic_size = len(char_dic)\n",
    "hidden_size = len(char_dic) \n",
    "learning_rate = 0.1\n",
    "\n",
    "#data setting\n",
    "sample_idx = [char_dic[c] for c in sample]\n",
    "x_data = [sample_idx[:-1]]\n",
    "x_one_hot = [np.eye(dic_size)[x] for x in x_data]\n",
    "y_data = [sample_idx[1:]]\n",
    "\n",
    "X = torch.FloatTensor(x_one_hot)\n",
    "Y = torch.LongTensor(y_data)"
   ]
  },
  {
   "cell_type": "code",
   "execution_count": 52,
   "metadata": {},
   "outputs": [
    {
     "data": {
      "text/plain": [
       "[[1, 7, 8, 9, 5, 7, 4, 2, 6, 3, 7, 8, 9, 5]]"
      ]
     },
     "execution_count": 52,
     "metadata": {},
     "output_type": "execute_result"
    }
   ],
   "source": [
    "y_data"
   ]
  },
  {
   "cell_type": "code",
   "execution_count": 44,
   "metadata": {},
   "outputs": [
    {
     "name": "stdout",
     "output_type": "stream",
     "text": [
      "dic_size =  10 hidden_size =  10\n",
      "X.shape =  torch.Size([1, 14, 10]) Y.shape =  torch.Size([1, 14])\n"
     ]
    }
   ],
   "source": [
    "print(\"dic_size = \", dic_size, \"hidden_size = \", hidden_size)\n",
    "\n",
    "# batch, sequence length, input_size\n",
    "print(\"X.shape = \", X.shape, \"Y.shape = \", Y.shape)"
   ]
  },
  {
   "cell_type": "code",
   "execution_count": 45,
   "metadata": {},
   "outputs": [],
   "source": [
    "rnn = torch.nn.RNN(dic_size, hidden_size, batch_first=True) # hidden size는 여기서 처음 사용\n",
    "criterion = torch.nn.CrossEntropyLoss()\n",
    "optimizer = torch.optim.Adam(rnn.parameters(), learning_rate)"
   ]
  },
  {
   "cell_type": "code",
   "execution_count": 50,
   "metadata": {
    "scrolled": true
   },
   "outputs": [
    {
     "data": {
      "text/plain": [
       "torch.Size([14, 10])"
      ]
     },
     "execution_count": 50,
     "metadata": {},
     "output_type": "execute_result"
    }
   ],
   "source": [
    "outputs.view(-1, dic_size).shape\n"
   ]
  },
  {
   "cell_type": "code",
   "execution_count": 51,
   "metadata": {},
   "outputs": [
    {
     "data": {
      "text/plain": [
       "torch.Size([1, 14])"
      ]
     },
     "execution_count": 51,
     "metadata": {},
     "output_type": "execute_result"
    }
   ],
   "source": [
    "Y.shape"
   ]
  },
  {
   "cell_type": "code",
   "execution_count": 46,
   "metadata": {},
   "outputs": [
    {
     "name": "stdout",
     "output_type": "stream",
     "text": [
      "0 loss:  2.3088760375976562 prediction:  [[5 3 5 3 5 3 5 5 3 5 2 5 3 5]] true Y:  [[1, 7, 8, 9, 5, 7, 4, 2, 6, 3, 7, 8, 9, 5]] prediction str:  utututuutuautu\n",
      "1 loss:  1.9755033254623413 prediction:  [[7 7 8 9 9 7 7 7 7 7 7 7 9 9]] true Y:  [[1, 7, 8, 9, 5, 7, 4, 2, 6, 3, 7, 8, 9, 5]] prediction str:    yoo       oo\n",
      "2 loss:  1.7586448192596436 prediction:  [[7 7 8 9 9 7 8 9 7 7 7 8 9 9]] true Y:  [[1, 7, 8, 9, 5, 7, 4, 2, 6, 3, 7, 8, 9, 5]] prediction str:    yoo yo   yoo\n",
      "3 loss:  1.5378376245498657 prediction:  [[1 7 8 9 5 7 8 2 6 9 7 8 9 5]] true Y:  [[1, 7, 8, 9, 5, 7, 4, 2, 6, 3, 7, 8, 9, 5]] prediction str:  f you yano you\n",
      "4 loss:  1.370091199874878 prediction:  [[1 7 8 9 5 7 8 2 6 3 7 8 9 5]] true Y:  [[1, 7, 8, 9, 5, 7, 4, 2, 6, 3, 7, 8, 9, 5]] prediction str:  f you yant you\n",
      "5 loss:  1.270878553390503 prediction:  [[1 7 8 2 5 7 4 2 6 3 7 8 9 5]] true Y:  [[1, 7, 8, 9, 5, 7, 4, 2, 6, 3, 7, 8, 9, 5]] prediction str:  f yau want you\n",
      "6 loss:  1.1954823732376099 prediction:  [[1 7 8 2 5 7 4 2 6 3 7 8 9 5]] true Y:  [[1, 7, 8, 9, 5, 7, 4, 2, 6, 3, 7, 8, 9, 5]] prediction str:  f yau want you\n",
      "7 loss:  1.1231406927108765 prediction:  [[1 7 8 2 5 7 4 2 6 3 7 8 9 5]] true Y:  [[1, 7, 8, 9, 5, 7, 4, 2, 6, 3, 7, 8, 9, 5]] prediction str:  f yau want you\n",
      "8 loss:  1.0669517517089844 prediction:  [[1 7 8 9 5 7 8 2 6 3 7 8 9 5]] true Y:  [[1, 7, 8, 9, 5, 7, 4, 2, 6, 3, 7, 8, 9, 5]] prediction str:  f you yant you\n",
      "9 loss:  1.0230906009674072 prediction:  [[1 7 8 9 5 7 8 2 6 3 7 8 9 5]] true Y:  [[1, 7, 8, 9, 5, 7, 4, 2, 6, 3, 7, 8, 9, 5]] prediction str:  f you yant you\n"
     ]
    }
   ],
   "source": [
    "for i in range(10):\n",
    "    optimizer.zero_grad()\n",
    "    outputs, _status = rnn(X)\n",
    "    loss = criterion(outputs.view(-1, dic_size), Y.view(-1))\n",
    "    loss.backward()\n",
    "    optimizer.step()\n",
    "\n",
    "    result = outputs.data.numpy().argmax(axis=2)\n",
    "    result_str = ''.join([char_set[c] for c in np.squeeze(result)])\n",
    "    print(i, \"loss: \", loss.item(), \"prediction: \", result, \"true Y: \", y_data, \"prediction str: \", result_str)"
   ]
  },
  {
   "cell_type": "code",
   "execution_count": 180,
   "metadata": {},
   "outputs": [
    {
     "data": {
      "text/plain": [
       "torch.Size([1, 14, 10])"
      ]
     },
     "execution_count": 180,
     "metadata": {},
     "output_type": "execute_result"
    }
   ],
   "source": [
    "outputs.shape"
   ]
  },
  {
   "cell_type": "code",
   "execution_count": 182,
   "metadata": {},
   "outputs": [
    {
     "data": {
      "text/plain": [
       "torch.Size([14, 10])"
      ]
     },
     "execution_count": 182,
     "metadata": {},
     "output_type": "execute_result"
    }
   ],
   "source": [
    "outputs.view(-1, dic_size).shape"
   ]
  },
  {
   "cell_type": "code",
   "execution_count": 183,
   "metadata": {},
   "outputs": [
    {
     "data": {
      "text/plain": [
       "(1, 14)"
      ]
     },
     "execution_count": 183,
     "metadata": {},
     "output_type": "execute_result"
    }
   ],
   "source": [
    "result.shape"
   ]
  },
  {
   "cell_type": "code",
   "execution_count": null,
   "metadata": {},
   "outputs": [],
   "source": []
  }
 ],
 "metadata": {
  "kernelspec": {
   "display_name": "Python 3",
   "language": "python",
   "name": "python3"
  },
  "language_info": {
   "codemirror_mode": {
    "name": "ipython",
    "version": 3
   },
   "file_extension": ".py",
   "mimetype": "text/x-python",
   "name": "python",
   "nbconvert_exporter": "python",
   "pygments_lexer": "ipython3",
   "version": "3.8.3"
  }
 },
 "nbformat": 4,
 "nbformat_minor": 4
}
