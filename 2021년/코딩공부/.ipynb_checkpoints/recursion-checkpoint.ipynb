{
 "cells": [
  {
   "cell_type": "code",
   "execution_count": 3,
   "metadata": {},
   "outputs": [
    {
     "data": {
      "text/plain": [
       "55"
      ]
     },
     "execution_count": 3,
     "metadata": {},
     "output_type": "execute_result"
    }
   ],
   "source": [
    "def summation(n):\n",
    "    if n == 1:\n",
    "        return 1\n",
    "    else:\n",
    "        return n + summation(n-1)\n",
    "\n",
    "summation(10)"
   ]
  },
  {
   "cell_type": "code",
   "execution_count": 5,
   "metadata": {},
   "outputs": [
    {
     "data": {
      "text/plain": [
       "120"
      ]
     },
     "execution_count": 5,
     "metadata": {},
     "output_type": "execute_result"
    }
   ],
   "source": [
    "def fact(n):\n",
    "    if n == 0:\n",
    "        return 1\n",
    "    else:\n",
    "        return n * fact(n-1)\n",
    "fact(5) "
   ]
  },
  {
   "cell_type": "code",
   "execution_count": 7,
   "metadata": {},
   "outputs": [
    {
     "name": "stdout",
     "output_type": "stream",
     "text": [
      "1 1 2 3 5 "
     ]
    }
   ],
   "source": [
    "def fibo(n):\n",
    "    if n < 2:\n",
    "        return 1\n",
    "    else:\n",
    "        return fibo(n-1) + fibo(n-2)\n",
    "\n",
    "for i in range(5):\n",
    "    print(fibo(i), end = \" \")"
   ]
  },
  {
   "cell_type": "code",
   "execution_count": 40,
   "metadata": {},
   "outputs": [
    {
     "name": "stdout",
     "output_type": "stream",
     "text": [
      "5\n",
      "n =  5\n",
      "n =  4\n",
      "n =  3\n",
      "n =  2\n",
      "n =  1\n",
      "n =  2\n",
      "n =  3\n",
      "[0, 1, 1, 2, 3, 5]\n"
     ]
    }
   ],
   "source": [
    "# 조금은 더 효율적인 fibo\n",
    "#version 1\n",
    "num = int(input())\n",
    "d = [0] * (num+1)\n",
    "\n",
    "def fibo(n):\n",
    "    print(\"n = \", n)\n",
    "    if n == 1 or n == 2:\n",
    "        d[n] = 1\n",
    "        return 1\n",
    "    \n",
    "    if d[n] != 0:\n",
    "        return d[n]\n",
    "    \n",
    "    d[n] = fibo(n-1) + fibo(n-2)\n",
    "    return d[n]\n",
    "\n",
    "fibo(num)\n",
    "print(d)"
   ]
  },
  {
   "cell_type": "code",
   "execution_count": 43,
   "metadata": {},
   "outputs": [
    {
     "name": "stdout",
     "output_type": "stream",
     "text": [
      "5\n",
      "n =  4\n",
      "n =  3\n",
      "n =  2\n",
      "n =  1\n",
      "n =  0\n",
      "n =  1\n",
      "n =  2\n",
      "[1, 1, 2, 3, 5]\n"
     ]
    }
   ],
   "source": [
    "# 조금은 더 효율적인 fibo\n",
    "# verion 2\n",
    "num = int(input())\n",
    "d = [0] * (num)\n",
    "\n",
    "def fibo(n):\n",
    "    print(\"n = \", n)\n",
    "    if n < 2:\n",
    "        d[n] = 1\n",
    "        return 1\n",
    "    \n",
    "    if d[n] != 0:\n",
    "        return d[n]\n",
    "    \n",
    "    d[n] = fibo(n-1) + fibo(n-2)\n",
    "    return d[n]\n",
    "\n",
    "fibo(num-1)\n",
    "print(d)"
   ]
  },
  {
   "cell_type": "code",
   "execution_count": 48,
   "metadata": {},
   "outputs": [
    {
     "name": "stdout",
     "output_type": "stream",
     "text": [
      "16 24\n",
      "24 16\n",
      "16 8\n",
      "8 0\n"
     ]
    },
    {
     "data": {
      "text/plain": [
       "8"
      ]
     },
     "execution_count": 48,
     "metadata": {},
     "output_type": "execute_result"
    }
   ],
   "source": [
    "# 최대 공약수 구하기\n",
    "\n",
    "def GCD(a,b):\n",
    "    print(a,b)\n",
    "    if b == 0:\n",
    "        return a\n",
    "    return GCD(b,a%b) \n"
   ]
  },
  {
   "cell_type": "code",
   "execution_count": 62,
   "metadata": {},
   "outputs": [
    {
     "name": "stdout",
     "output_type": "stream",
     "text": [
      "hobby 0\n",
      "obby 1\n",
      "bby 2\n",
      "by 3\n",
      "y 4\n",
      " 5\n"
     ]
    },
    {
     "data": {
      "text/plain": [
       "(None, 5)"
      ]
     },
     "execution_count": 62,
     "metadata": {},
     "output_type": "execute_result"
    }
   ],
   "source": [
    "# 문자열의 길이계산\n",
    "# 내가 만든거\n",
    "def length(string,cnt):\n",
    "    print(string, cnt)\n",
    "    if string == \"\":\n",
    "        return None,cnt\n",
    "    else:\n",
    "        cnt += 1\n",
    "        return length(string[1:], cnt)\n",
    "\n",
    "sample = \"hobby\"\n",
    "length(sample,0)        "
   ]
  },
  {
   "cell_type": "code",
   "execution_count": 64,
   "metadata": {},
   "outputs": [
    {
     "data": {
      "text/plain": [
       "5"
      ]
     },
     "execution_count": 64,
     "metadata": {},
     "output_type": "execute_result"
    }
   ],
   "source": [
    "# 참고\n",
    "def length(string):\n",
    "    if string == \"\":\n",
    "        return 0\n",
    "    else:\n",
    "        return 1 + length(string[1:])\n",
    "\n",
    "length(\"hobby\")"
   ]
  },
  {
   "cell_type": "code",
   "execution_count": 68,
   "metadata": {},
   "outputs": [
    {
     "name": "stdout",
     "output_type": "stream",
     "text": [
      "Genius"
     ]
    }
   ],
   "source": [
    "# 출력문을 리커시브로\n",
    "def printf(string):\n",
    "    if string == \"\":\n",
    "        return\n",
    "    else:\n",
    "        print(string[0], end = \"\")\n",
    "        return printf(string[1:])\n",
    "    \n",
    "printf(\"Genius\")"
   ]
  },
  {
   "cell_type": "code",
   "execution_count": 69,
   "metadata": {},
   "outputs": [
    {
     "name": "stdout",
     "output_type": "stream",
     "text": [
      "ybboh"
     ]
    }
   ],
   "source": [
    "# 거꾸로 출력하기\n",
    "def reverse(string):\n",
    "    if string == \"\":\n",
    "        return\n",
    "    else:\n",
    "        print(string[-1], end = \"\")\n",
    "        return reverse(string[:-1])\n",
    "reverse(\"hobby\")"
   ]
  },
  {
   "cell_type": "code",
   "execution_count": 86,
   "metadata": {},
   "outputs": [
    {
     "data": {
      "text/plain": [
       "1100"
      ]
     },
     "execution_count": 86,
     "metadata": {},
     "output_type": "execute_result"
    }
   ],
   "source": [
    "# 이진수 출력하기\n",
    "# 참고: bin(8)\n",
    "def binary(num):\n",
    "    if num < 2:\n",
    "        return str(num)\n",
    "    else:\n",
    "        return binary(num // 2) + str(num % 2)\n",
    "\n",
    "int(binary(12))"
   ]
  },
  {
   "cell_type": "code",
   "execution_count": 89,
   "metadata": {},
   "outputs": [
    {
     "data": {
      "text/plain": [
       "138"
      ]
     },
     "execution_count": 89,
     "metadata": {},
     "output_type": "execute_result"
    }
   ],
   "source": [
    "# 배열의 합 구하기\n",
    "data = [1,2,6,2,4,123]\n",
    "\n",
    "def SUM(data):\n",
    "    if len(data) == 0:\n",
    "        return 0\n",
    "    else:\n",
    "        return SUM(data[:-1]) + data[-1]\n",
    "    \n",
    "SUM(data)"
   ]
  },
  {
   "cell_type": "markdown",
   "metadata": {},
   "source": [
    "# 반복문과 recursion은 역으로 성립한다.\n",
    "\n",
    "팁: 암시적인(implicity) 부분을 명시적(explicity)으로 풀어내자\n",
    "\n",
    "가령 for문에서 index를 i로 표현하는 것에 반해, search에서는 이를 begin과 end로 명시적으로 표현한다."
   ]
  },
  {
   "cell_type": "code",
   "execution_count": 92,
   "metadata": {},
   "outputs": [
    {
     "name": "stdout",
     "output_type": "stream",
     "text": [
      "4\n"
     ]
    }
   ],
   "source": [
    "# 순차탐색\n",
    "data = [1,2,3,4,5,6]\n",
    "find = 5\n",
    "for i in range(len(data)):\n",
    "    if data[i] == find:\n",
    "        print(i)\n",
    "        break"
   ]
  },
  {
   "cell_type": "code",
   "execution_count": 104,
   "metadata": {},
   "outputs": [
    {
     "data": {
      "text/plain": [
       "-1"
      ]
     },
     "execution_count": 104,
     "metadata": {},
     "output_type": "execute_result"
    }
   ],
   "source": [
    "# 리커시브로 풀어내기.\n",
    "def search(data,begin,end,find):\n",
    "    if begin > end:\n",
    "        return -1\n",
    "    elif data[begin] == find:\n",
    "        return begin\n",
    "    else:\n",
    "        return search(data,begin+1, end, find)\n",
    "    \n",
    "search(data,0,len(data)-1, 7) #len(data) -1 중요.."
   ]
  },
  {
   "cell_type": "code",
   "execution_count": 105,
   "metadata": {},
   "outputs": [
    {
     "name": "stdout",
     "output_type": "stream",
     "text": [
      "5 2\n",
      "1 5 2 4 3\n",
      "2\n"
     ]
    }
   ],
   "source": [
    "# 반복문을 통한 이진 탐색\n",
    "#반복문을 통한 이진탐색\n",
    "def binary_search(array, target, start, end):\n",
    "    while(start <= end):\n",
    "        mid = (start + end)//2\n",
    "        \n",
    "        if array[mid] == target:\n",
    "            return mid\n",
    "        \n",
    "        if array[mid] > target: #왼쪽 수행\n",
    "            end = mid - 1\n",
    "        else:\n",
    "            start = mid + 1\n",
    "    return None\n",
    "\n",
    "n, target = list(map(int, input().split()))\n",
    "array = list(map(int, input().split()))\n",
    "\n",
    "result = binary_search(array, target, 0, n-1) # 인덱스를 의미한다.\n",
    "print(result) #target의 인덱스를 의미한다.\n"
   ]
  },
  {
   "cell_type": "code",
   "execution_count": 106,
   "metadata": {},
   "outputs": [
    {
     "name": "stdout",
     "output_type": "stream",
     "text": [
      "5 2\n",
      "1 3 2 4 6\n",
      "2\n"
     ]
    }
   ],
   "source": [
    "def binary_search(array, target, start, end):\n",
    "    if start > end:\n",
    "        return None\n",
    "    mid = (start + end) // 2\n",
    "    \n",
    "    if array[mid] == target:\n",
    "        return mid\n",
    "    \n",
    "    if array[mid] > target: # mid가 target보다 크다. --> 왼쪽으로 search해줘야지\n",
    "        return binary_search(array, target, start, mid -1)\n",
    "    else:\n",
    "        return binary_search(array, target, mid+1, end)\n",
    "\n",
    "n, target = list(map(int, input().split()))\n",
    "array = list(map(int, input().split()))\n",
    "\n",
    "result = binary_search(array, target, 0, n-1) # 인덱스를 의미한다.\n",
    "print(result) #target의 인덱스를 의미한다.\n"
   ]
  },
  {
   "cell_type": "code",
   "execution_count": 115,
   "metadata": {},
   "outputs": [
    {
     "name": "stdout",
     "output_type": "stream",
     "text": [
      "0 1\n",
      "0 2\n",
      "3 4\n",
      "0 4\n"
     ]
    },
    {
     "data": {
      "text/plain": [
       "52"
      ]
     },
     "execution_count": 115,
     "metadata": {},
     "output_type": "execute_result"
    }
   ],
   "source": [
    "# 최대값 찾기\n",
    "def MAX(data, start, end):\n",
    "    if start == end:\n",
    "        return data[start]\n",
    "    else:\n",
    "        mid = (start + end) // 2\n",
    "        temp1 = MAX(data,start,mid)\n",
    "        temp2 = MAX(data,mid+1,end)\n",
    "        print(start,end)\n",
    "\n",
    "        if temp1 > temp2:\n",
    "            return temp1\n",
    "        else:\n",
    "            return temp2\n",
    "    \n",
    "data = [10,12,34,41,52]\n",
    "MAX(data,0,len(data)-1)"
   ]
  },
  {
   "cell_type": "markdown",
   "metadata": {},
   "source": [
    "### 미로 탐색: 백준 2178번"
   ]
  },
  {
   "cell_type": "code",
   "execution_count": 155,
   "metadata": {},
   "outputs": [
    {
     "name": "stdout",
     "output_type": "stream",
     "text": [
      "7 7\n",
      "1011111\n",
      "1110001\n",
      "1000001\n",
      "1000001\n",
      "1000001\n",
      "1000001\n",
      "1111111\n"
     ]
    }
   ],
   "source": [
    "row, col = map(int, input().split())\n",
    "graph = []\n",
    "for i in range(row):\n",
    "    graph.append(list(input()))"
   ]
  },
  {
   "cell_type": "code",
   "execution_count": 156,
   "metadata": {},
   "outputs": [],
   "source": [
    "check = [[0]*col for _ in range(row)]"
   ]
  },
  {
   "cell_type": "code",
   "execution_count": 161,
   "metadata": {},
   "outputs": [
    {
     "data": {
      "text/plain": [
       "13"
      ]
     },
     "execution_count": 161,
     "metadata": {},
     "output_type": "execute_result"
    }
   ],
   "source": [
    "# 서쪽 방향은 빼자.\n",
    "dx = [0,1,-1]  #동 남 북\n",
    "dy = [1,0,0]\n",
    "check = [[0]*col for _ in range(row)]\n",
    "\n",
    "result = row*col\n",
    "def search(graph,i,j,cnt):\n",
    "    global result\n",
    "    \n",
    "    if (i,j) == (row-1,col-1):\n",
    "        result = min(result,cnt)\n",
    "        \n",
    "    else:\n",
    "        for k in range(3):\n",
    "            tx = i + dx[k]\n",
    "            ty = j + dy[k]\n",
    "            if tx < 0 or tx >= row or ty < 0 or ty >= col:\n",
    "                continue\n",
    "            elif graph[tx][ty] == \"1\" and check[tx][ty] == 0:\n",
    "                check[tx][ty] = 1\n",
    "                search(graph,tx,ty,cnt+1)\n",
    "                check[tx][ty] = 0\n",
    "                \n",
    "check[0][0] = 1            \n",
    "search(graph,0,0,1)\n",
    "print(result)"
   ]
  },
  {
   "cell_type": "code",
   "execution_count": 158,
   "metadata": {},
   "outputs": [
    {
     "data": {
      "text/plain": [
       "[[1, 0, 1, 1, 1, 1, 1],\n",
       " [1, 1, 1, 0, 0, 0, 1],\n",
       " [1, 0, 0, 0, 0, 0, 1],\n",
       " [1, 0, 0, 0, 0, 0, 1],\n",
       " [1, 0, 0, 0, 0, 0, 1],\n",
       " [1, 0, 0, 0, 0, 0, 1],\n",
       " [1, 1, 1, 1, 1, 1, 1]]"
      ]
     },
     "execution_count": 158,
     "metadata": {},
     "output_type": "execute_result"
    }
   ],
   "source": [
    "check"
   ]
  },
  {
   "cell_type": "code",
   "execution_count": 163,
   "metadata": {},
   "outputs": [
    {
     "name": "stdout",
     "output_type": "stream",
     "text": [
      "7 7\n",
      "1011111\n",
      "1011111\n",
      "d\n",
      "s\n",
      "s\n",
      "s\n",
      "s\n",
      "49\n"
     ]
    }
   ],
   "source": [
    "row, col = map(int, input().split())\n",
    "graph = []\n",
    "for i in range(row):\n",
    "    graph.append(list(input()))\n",
    "dx = [0,1,-1]\n",
    "dy = [1,0,0]\n",
    "check = [[0]*col for _ in range(row)]\n",
    "result = row*col\n",
    "def search(graph,i,j,cnt):\n",
    "    global result\n",
    "    if (i,j) == (row-1,col-1):\n",
    "        result = min(result,cnt)\n",
    "    else:\n",
    "        for k in range(3):\n",
    "            tx = i + dx[k]\n",
    "            ty = j + dy[k]\n",
    "            if tx < 0 or tx >= row or ty < 0 or ty >= col:\n",
    "                continue\n",
    "            elif graph[tx][ty] == \"1\" and check[tx][ty] == 0:\n",
    "                check[tx][ty] = 1\n",
    "                search(graph,tx,ty,cnt+1)\n",
    "                check[tx][ty] = 0  \n",
    "check[0][0] = 1            \n",
    "search(graph,0,0,1)\n",
    "print(result)"
   ]
  },
  {
   "cell_type": "code",
   "execution_count": null,
   "metadata": {},
   "outputs": [],
   "source": []
  }
 ],
 "metadata": {
  "kernelspec": {
   "display_name": "Python 3",
   "language": "python",
   "name": "python3"
  },
  "language_info": {
   "codemirror_mode": {
    "name": "ipython",
    "version": 3
   },
   "file_extension": ".py",
   "mimetype": "text/x-python",
   "name": "python",
   "nbconvert_exporter": "python",
   "pygments_lexer": "ipython3",
   "version": "3.8.3"
  }
 },
 "nbformat": 4,
 "nbformat_minor": 4
}
