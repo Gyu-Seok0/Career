{
 "cells": [
  {
   "cell_type": "code",
   "execution_count": null,
   "metadata": {},
   "outputs": [],
   "source": []
  },
  {
   "cell_type": "code",
   "execution_count": 4,
   "metadata": {},
   "outputs": [],
   "source": [
    "import turtle\n",
    "screen = turtle.Screen()\n",
    "screen.bgcolor('black')\n",
    "screen.setup(900,900)\n",
    "\n",
    "test = turtle.Turtle()\n",
    "test.pensize(3)\n",
    "\n",
    "\n",
    "# 색깔을 지정해보자\n",
    "colors = [\"red\",\"green\",\"blue\",\"pink\"]\n",
    "\n",
    "#작은원을 위한 함수 지정\n",
    "def n_flower1(n):\n",
    "    for i in range(n):\n",
    "        test.circle(10)\n",
    "        test.left(360.0/n)\n",
    "\n",
    "# 바깥쪽 큰원을 그리고, 작은 원을 그리는 형태로 만들어보자\n",
    "for i in range(3,5):\n",
    "    test.penup()\n",
    "    test.goto(100,-50*(i-3))\n",
    "    test.pendown()\n",
    "    for j in range(i):\n",
    "        test.color(colors[j]) # 색깔\n",
    "        test.circle(100+50*(i-3),360.0/i) # 큰 원 그리기\n",
    "        n_flower1(i) # 작은 원 그리기\n",
    "        "
   ]
  },
  {
   "cell_type": "code",
   "execution_count": 1,
   "metadata": {},
   "outputs": [
    {
     "data": {
      "text/plain": [
       "<function turtle.mainloop()>"
      ]
     },
     "execution_count": 1,
     "metadata": {},
     "output_type": "execute_result"
    }
   ],
   "source": [
    "import turtle\n",
    "\n",
    "screen = turtle.Screen()\n",
    "screen.bgcolor('black')\n",
    "screen.setup(900,900)\n",
    "\n",
    "flower1=turtle.Turtle()\n",
    "flower1.color('red')\n",
    "flower1.pensize(3)\n",
    "flower1.penup()\n",
    "flower1.goto(50,0)\n",
    "flower1.pendown()\n",
    "def n_flower1(n,size):\n",
    "    for i in range(n):\n",
    "        flower1.circle(size)\n",
    "        flower1.left(360.0/n)\n",
    "\n",
    "n_flower1(4,10)\n",
    "turtle.done"
   ]
  },
  {
   "cell_type": "code",
   "execution_count": 2,
   "metadata": {},
   "outputs": [
    {
     "data": {
      "text/plain": [
       "<function turtle.mainloop()>"
      ]
     },
     "execution_count": 2,
     "metadata": {},
     "output_type": "execute_result"
    }
   ],
   "source": [
    "import turtle\n",
    "\n",
    "screen = turtle.Screen()\n",
    "screen.bgcolor('black')\n",
    "screen.setup(900,900)\n",
    "\n",
    "\n",
    "flower1=turtle.Turtle()\n",
    "flower1.color('red')\n",
    "flower1.pensize(3)\n",
    "flower1.penup()\n",
    "flower1.goto(50,0)\n",
    "flower1.pendown()\n",
    "def n_flower1(n,size):\n",
    "    for i in range(n):\n",
    "        flower1.circle(size)\n",
    "        flower1.left(360.0/n)\n",
    "\n",
    "n_flower1(3,10)\n",
    "\n",
    "flower1=turtle.Turtle()\n",
    "flower1.color('red')\n",
    "flower1.pensize(3)\n",
    "flower1.penup()\n",
    "flower1.goto(-50,50)\n",
    "flower1.pendown()\n",
    "def n_flower1(n,size):\n",
    "    for i in range(n):\n",
    "        flower1.circle(size)\n",
    "        flower1.left(360.0/n)\n",
    "\n",
    "n_flower1(3,10)\n",
    "\n",
    "flower1=turtle.Turtle()\n",
    "flower1.color('red')\n",
    "flower1.pensize(3)\n",
    "flower1.penup()\n",
    "flower1.goto(-20,-50)\n",
    "flower1.pendown()\n",
    "def n_flower1(n,size):\n",
    "    for i in range(n):\n",
    "        flower1.circle(size)\n",
    "        flower1.left(360.0/n)\n",
    "\n",
    "n_flower1(3,10)\n",
    "\n",
    "\n",
    "\n",
    "turtle.done"
   ]
  },
  {
   "cell_type": "code",
   "execution_count": null,
   "metadata": {},
   "outputs": [],
   "source": []
  }
 ],
 "metadata": {
  "kernelspec": {
   "display_name": "Python 3",
   "language": "python",
   "name": "python3"
  },
  "language_info": {
   "codemirror_mode": {
    "name": "ipython",
    "version": 3
   },
   "file_extension": ".py",
   "mimetype": "text/x-python",
   "name": "python",
   "nbconvert_exporter": "python",
   "pygments_lexer": "ipython3",
   "version": "3.8.3"
  }
 },
 "nbformat": 4,
 "nbformat_minor": 4
}
