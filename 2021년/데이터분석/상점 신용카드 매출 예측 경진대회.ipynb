{
 "cells": [
  {
   "cell_type": "code",
   "execution_count": 21,
   "metadata": {},
   "outputs": [],
   "source": [
    "import pandas as pd\n",
    "import numpy as np\n",
    "\n",
    "data = pd.read_csv(\"/Users/igyuseog/Desktop/data09/funda_train.csv\")\n",
    "submit = pd.read_csv(\"/Users/igyuseog/Desktop/data09/submission.csv\")"
   ]
  },
  {
   "cell_type": "markdown",
   "metadata": {},
   "source": [
    "# step1: EDA\n",
    "- 데이터를 확인하면서, 결측치를 제거하자"
   ]
  },
  {
   "cell_type": "code",
   "execution_count": 24,
   "metadata": {},
   "outputs": [
    {
     "name": "stdout",
     "output_type": "stream",
     "text": [
      "store_id 0\n",
      "card_id 0\n",
      "card_company 0\n",
      "transacted_date 0\n",
      "transacted_time 0\n",
      "installment_term 0\n",
      "region 2042766\n",
      "type_of_business 3952609\n",
      "amount 0\n"
     ]
    }
   ],
   "source": [
    "# 각 column별 null값을 확인해보자.\n",
    "col_name = data.columns.tolist()\n",
    "for col in col_name:\n",
    "    print(col, data[col].isnull().sum())   # region의 결측치가 너무 많으므로 drop해준다.\n",
    "# 수행 결과    \n",
    "data = data.drop([\"region\"], axis = 1)"
   ]
  },
  {
   "cell_type": "code",
   "execution_count": 39,
   "metadata": {},
   "outputs": [
    {
     "data": {
      "text/plain": [
       "1330    9518\n",
       "1196    9471\n",
       "1171    9391\n",
       "710     9347\n",
       "826     9328\n",
       "        ... \n",
       "1974     429\n",
       "1240     426\n",
       "795      231\n",
       "2119     112\n",
       "1063      72\n",
       "Name: store_id, Length: 1967, dtype: int64"
      ]
     },
     "execution_count": 39,
     "metadata": {},
     "output_type": "execute_result"
    }
   ],
   "source": [
    "data[\"store_id\"].value_counts()\n",
    "\n",
    "#store의 개수가 총 1967개이고, 데이터의 개수가 다르다.\n",
    "#이럴때는 어떻게 하면좋을까?\n",
    "#우리가 원하는 건 상점별 매출이기 때문에, 각각 다르게 만들어줘야 할것 같다."
   ]
  },
  {
   "cell_type": "markdown",
   "metadata": {},
   "source": [
    "# step2: 모델링\n",
    "- 이전에 Keras에서 주가예측 모델을 만든적이 있는데, 그것을 바탕으로 해당 모델을 만들어보고 싶다\n",
    "- 따라서 input데이터는 2년치의 amount이고, 아웃풋은 3개월간의 총 매출"
   ]
  },
  {
   "cell_type": "code",
   "execution_count": 90,
   "metadata": {},
   "outputs": [],
   "source": [
    "from keras.models import Sequential\n",
    "from keras.layers import LSTM,Dropout,Dense,Activation\n",
    "import datetime\n",
    "from sklearn.model_selection import train_test_split"
   ]
  },
  {
   "cell_type": "code",
   "execution_count": 110,
   "metadata": {},
   "outputs": [],
   "source": [
    "store = set(data[\"store_id\"].values)"
   ]
  },
  {
   "cell_type": "code",
   "execution_count": 91,
   "metadata": {},
   "outputs": [
    {
     "name": "stdout",
     "output_type": "stream",
     "text": [
      "4050735     6857.142857\n",
      "4050736     6714.285714\n",
      "4050737    14285.714286\n",
      "4050738     7142.857143\n",
      "4050739     8285.714286\n",
      "Name: amount, dtype: float64\n"
     ]
    }
   ],
   "source": [
    "train = data[data[\"store_id\"] == 1330][\"amount\"].values\n",
    "print(data[data[\"store_id\"] == 1330][\"amount\"].head())"
   ]
  },
  {
   "cell_type": "code",
   "execution_count": 92,
   "metadata": {},
   "outputs": [],
   "source": [
    "seq_len = 30 # 1 ~ 30을 보고 31을 맞추자.\n",
    "seqence_length = seq_len + 1\n",
    "\n",
    "result = []\n",
    "for index in range(len(train) - seqence_length):\n",
    "    result.append(train[index: index + seqence_length]) #30개씩저장"
   ]
  },
  {
   "cell_type": "code",
   "execution_count": 93,
   "metadata": {
    "scrolled": true
   },
   "outputs": [],
   "source": [
    "#정규화\n",
    "# 9487 * 31 만큼의 데이터가 존재\n",
    "\n",
    "target = 0\n",
    "normal_data = []\n",
    "for window in result:\n",
    "    target = window[0]\n",
    "    normal_data.append((window / window[0]) -1)\n",
    "result = np.array(normal_data)\n"
   ]
  },
  {
   "cell_type": "code",
   "execution_count": 94,
   "metadata": {},
   "outputs": [
    {
     "data": {
      "text/plain": [
       "285.7142857142857"
      ]
     },
     "execution_count": 94,
     "metadata": {},
     "output_type": "execute_result"
    }
   ],
   "source": [
    "target"
   ]
  },
  {
   "cell_type": "code",
   "execution_count": 72,
   "metadata": {},
   "outputs": [],
   "source": [
    "#train과 test set을 나눠서 해보자.\n",
    "X = result[:,:-1]\n",
    "y = result[:,-1]\n",
    "\n",
    "#shuffle을 안해도 됌\n",
    "x_train, x_test, y_train, y_test = train_test_split(X,y, shuffle = False, test_size = 0.1)\n",
    "\n",
    "# shape을 3차원으로!\n",
    "x_train = np.reshape(x_train, (x_train.shape[0], x_train.shape[1],1))\n",
    "x_test = np.reshape(x_test, (x_test.shape[0], x_test.shape[1], 1))"
   ]
  },
  {
   "cell_type": "code",
   "execution_count": 73,
   "metadata": {},
   "outputs": [
    {
     "name": "stdout",
     "output_type": "stream",
     "text": [
      "(8538, 30, 1) (8538,)\n",
      "(949, 30, 1) (949,)\n"
     ]
    }
   ],
   "source": [
    "print(x_train.shape, y_train.shape)\n",
    "print(x_test.shape, y_test.shape)"
   ]
  },
  {
   "cell_type": "markdown",
   "metadata": {},
   "source": [
    "# Build a model"
   ]
  },
  {
   "cell_type": "code",
   "execution_count": 74,
   "metadata": {},
   "outputs": [
    {
     "name": "stdout",
     "output_type": "stream",
     "text": [
      "Model: \"sequential_1\"\n",
      "_________________________________________________________________\n",
      "Layer (type)                 Output Shape              Param #   \n",
      "=================================================================\n",
      "lstm_2 (LSTM)                (None, 30, 30)            3840      \n",
      "_________________________________________________________________\n",
      "lstm_3 (LSTM)                (None, 64)                24320     \n",
      "_________________________________________________________________\n",
      "dense_1 (Dense)              (None, 1)                 65        \n",
      "=================================================================\n",
      "Total params: 28,225\n",
      "Trainable params: 28,225\n",
      "Non-trainable params: 0\n",
      "_________________________________________________________________\n"
     ]
    }
   ],
   "source": [
    "model = Sequential()\n",
    "\n",
    "# 첫번째\n",
    "model.add(LSTM(30,\n",
    "               return_sequences = True,\n",
    "               input_shape = (30,1)))\n",
    "# 두번째\n",
    "model.add(LSTM(64,\n",
    "              return_sequences = False))\n",
    "# 아웃풋\n",
    "model.add(Dense(1, activation = \"linear\"))\n",
    "\n",
    "# 컴파일\n",
    "model.compile(loss = \"mse\", optimizer = \"rmsprop\")\n",
    "\n",
    "model.summary()"
   ]
  },
  {
   "cell_type": "code",
   "execution_count": 75,
   "metadata": {},
   "outputs": [
    {
     "name": "stdout",
     "output_type": "stream",
     "text": [
      "Epoch 1/5\n",
      "854/854 [==============================] - 20s 20ms/step - loss: 0.7999 - val_loss: 0.9967\n",
      "Epoch 2/5\n",
      "854/854 [==============================] - 15s 18ms/step - loss: 0.6941 - val_loss: 1.0031\n",
      "Epoch 3/5\n",
      "854/854 [==============================] - 15s 18ms/step - loss: 0.7345 - val_loss: 1.1910\n",
      "Epoch 4/5\n",
      "854/854 [==============================] - 16s 19ms/step - loss: 0.7785 - val_loss: 1.0023\n",
      "Epoch 5/5\n",
      "854/854 [==============================] - 15s 18ms/step - loss: 0.7571 - val_loss: 0.9388\n"
     ]
    },
    {
     "data": {
      "text/plain": [
       "<tensorflow.python.keras.callbacks.History at 0x7ff8757a4a00>"
      ]
     },
     "execution_count": 75,
     "metadata": {},
     "output_type": "execute_result"
    }
   ],
   "source": [
    "# 학습진행\n",
    "model.fit(x_train, y_train,\n",
    "         validation_data=(x_test, y_test),\n",
    "         batch_size = 10,\n",
    "         epochs = 5)\n"
   ]
  },
  {
   "cell_type": "code",
   "execution_count": 76,
   "metadata": {},
   "outputs": [],
   "source": [
    "pred = model.predict(x_test)"
   ]
  },
  {
   "cell_type": "code",
   "execution_count": 78,
   "metadata": {},
   "outputs": [
    {
     "data": {
      "image/png": "[encoded data removed]",
      "text/plain": [
       "<Figure size 432x288 with 1 Axes>"
      ]
     },
     "metadata": {
      "needs_background": "light"
     },
     "output_type": "display_data"
    }
   ],
   "source": [
    "import matplotlib.pyplot as plt\n",
    "plt.plot(y_test, label = \"True\")\n",
    "plt.plot(pred, label = \"predicition\")\n",
    "plt.legend()\n",
    "plt.show()"
   ]
  },
  {
   "cell_type": "code",
   "execution_count": 84,
   "metadata": {},
   "outputs": [
    {
     "name": "stdout",
     "output_type": "stream",
     "text": [
      "WARNING:tensorflow:Model was constructed with shape (None, 30, 1) for input KerasTensor(type_spec=TensorSpec(shape=(None, 30, 1), dtype=tf.float32, name='lstm_2_input'), name='lstm_2_input', description=\"created by layer 'lstm_2_input'\"), but it was called on an input with incompatible shape (None, 31, 1).\n"
     ]
    }
   ],
   "source": [
    "# 맨마지막을 가지고 3번을 더해보자.\n",
    "graph = []\n",
    "temp = x_test[-1].reshape(1,-1,1)\n",
    "cnt = 0\n",
    "\n",
    "while cnt < 3:\n",
    "    answer = model.predict(temp)\n",
    "    graph.append(float(answer.squeeze()))\n",
    "    temp2 = temp.squeeze(axis = 0)\n",
    "    temp = np.concatenate([temp2,answer], axis = 0)\n",
    "    temp = temp.reshape(1,-1,1)\n",
    "    \n",
    "    cnt += 1\n",
    "    "
   ]
  },
  {
   "cell_type": "code",
   "execution_count": 96,
   "metadata": {},
   "outputs": [],
   "source": [
    "predict = list(map(lambda x: (x+1)*target, graph))"
   ]
  },
  {
   "cell_type": "code",
   "execution_count": 111,
   "metadata": {},
   "outputs": [],
   "source": [
    "a = []\n",
    "a.append(sum(predict))"
   ]
  },
  {
   "cell_type": "code",
   "execution_count": 112,
   "metadata": {},
   "outputs": [
    {
     "data": {
      "text/plain": [
       "[4660.3792735508505]"
      ]
     },
     "execution_count": 112,
     "metadata": {},
     "output_type": "execute_result"
    }
   ],
   "source": [
    "a"
   ]
  },
  {
   "cell_type": "code",
   "execution_count": null,
   "metadata": {},
   "outputs": [],
   "source": []
  }
 ],
 "metadata": {
  "kernelspec": {
   "display_name": "Python 3",
   "language": "python",
   "name": "python3"
  },
  "language_info": {
   "codemirror_mode": {
    "name": "ipython",
    "version": 3
   },
   "file_extension": ".py",
   "mimetype": "text/x-python",
   "name": "python",
   "nbconvert_exporter": "python",
   "pygments_lexer": "ipython3",
   "version": "3.8.3"
  }
 },
 "nbformat": 4,
 "nbformat_minor": 4
}
