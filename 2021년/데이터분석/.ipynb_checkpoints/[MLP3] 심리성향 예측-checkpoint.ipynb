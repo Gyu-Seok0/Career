{
 "cells": [
  {
   "cell_type": "code",
   "execution_count": 10,
   "metadata": {},
   "outputs": [],
   "source": [
    "import numpy as np\n",
    "import pandas as pd\n",
    "import torch\n",
    "from torch import nn, optim\n",
    "from torch.utils.data import DataLoader\n",
    "from torch.utils.data import TensorDataset"
   ]
  },
  {
   "cell_type": "code",
   "execution_count": 14,
   "metadata": {},
   "outputs": [],
   "source": [
    "train = pd.read_csv(\"/Users/igyuseog/Desktop/open data/train.csv\")\n",
    "train = train.drop(train[train[\"familysize\"] > 50].index)\n",
    "test = pd.read_csv(\"/Users/igyuseog/Desktop/open data/test_x.csv\")\n",
    "\n",
    "drop_list = ['QaE', 'QbE', 'QcE', 'QdE', 'QeE',\n",
    "             'QfE', 'QgE', 'QhE', 'QiE', 'QjE',\n",
    "             'QkE', 'QlE', 'QmE', 'QnE', 'QoE',\n",
    "             'QpE', 'QqE', 'QrE', 'QsE', 'QtE',\n",
    "             'index', 'hand']\n",
    "replace_dict = {'education': str, 'engnat': str, 'married': str, 'urban': str}\n",
    "\n",
    "train_y = train[\"voted\"]\n",
    "train_x = train.drop(drop_list + [\"voted\"], axis = 1)\n",
    "test_x = test.drop(drop_list, axis = 1)\n",
    "\n",
    "#타입 변경\n",
    "train_x = train_x.astype(replace_dict)\n",
    "test_x = test_x.astype(replace_dict)\n",
    "#원핫인코딩\n",
    "train_x = pd.get_dummies(train_x)\n",
    "test_x = pd.get_dummies(test_x)\n",
    "#numpy\n",
    "train_y = 2 - train_y.to_numpy() #0이 투표한다. 1이 투표 안한다 \n",
    "train_x = train_x.to_numpy()\n",
    "test_x = test_x.to_numpy()\n",
    "\n",
    "\n",
    "# 정규화\n",
    "train_x[:,:20] = (train_x[:,:20] -3.) / 2.\n",
    "test_x[:,:20] = (test_x[:,:20] -3.) / 2.\n",
    "\n",
    "train_x[:,20] = (train_x[:,20] -5.) / 5.\n",
    "test_x[:,20] = (test_x[:,20] -5.) / 5.\n",
    "\n",
    "train_x[:,21:31] = (train_x[:, 21:31] - 3.5) / 3.5\n",
    "test_x[:,21:31] = (test_x[:, 21:31] - 3.5) / 3.5\n",
    "\n",
    "#tensor\n",
    "train_y = torch.tensor(train_y, dtype = torch.float32)\n",
    "train_x = torch.tensor(train_x, dtype = torch.float32)\n",
    "test_x = torch.tensor(test_x, dtype = torch.float32)\n",
    "train_len, test_len = len(train_x), len(test_x)\n",
    "\n",
    "#Dataloder\n",
    "train_loader = DataLoader(TensorDataset(train_x,train_y), shuffle = True, drop_last = True)\n",
    "test_loader =  DataLoader(TensorDataset(test_x, torch.zeros(len(test_x))), shuffle = False, drop_last = False)\n"
   ]
  },
  {
   "cell_type": "code",
   "execution_count": 15,
   "metadata": {},
   "outputs": [
    {
     "data": {
      "text/plain": [
       "11383"
      ]
     },
     "execution_count": 15,
     "metadata": {},
     "output_type": "execute_result"
    }
   ],
   "source": []
  },
  {
   "cell_type": "code",
   "execution_count": null,
   "metadata": {},
   "outputs": [],
   "source": [
    "class DNN(torch.nn.Module):\n",
    "    def __init__(self,input_size):\n",
    "        self.mlp = nn.Sequential(\n",
    "            nn.Linear(input_size,100),\n",
    "            nn.ReLU(),\n",
    "            \n",
    "            nn.Linear(100,50),\n",
    "            nn.ReLU(),\n",
    "            \n",
    "            nn.Linear(64, 2),\n",
    "        )\n",
    "                 \n",
    "    def forward(self,x):\n",
    "        y_ =  x.view(x.size(0), -1)\n",
    "        y_ = self.mlp(y_)\n",
    "        return y_\n",
    "    \n",
    "    \n",
    "epochs = 10\n",
    "step = 0\n",
    "\n",
    "for epoch in epochs:\n",
    "    for idx,xx,yy in enumerate(train_loader):\n",
    "        optimizer.zero_grad()\n",
    "        pred = model(xx)\n",
    "        \n",
    "        loss = criterion(pred, yy)\n",
    "        loss.backward()\n",
    "        optimizer.step()\n",
    "model.eval()\n",
    "with torch.no_grad():\n",
    "    for idx, xx in enumerate(test_loader):\n",
    "        pred = model(xx)\n",
    "             \n",
    "        "
   ]
  }
 ],
 "metadata": {
  "kernelspec": {
   "display_name": "Python 3",
   "language": "python",
   "name": "python3"
  },
  "language_info": {
   "codemirror_mode": {
    "name": "ipython",
    "version": 3
   },
   "file_extension": ".py",
   "mimetype": "text/x-python",
   "name": "python",
   "nbconvert_exporter": "python",
   "pygments_lexer": "ipython3",
   "version": "3.8.3"
  }
 },
 "nbformat": 4,
 "nbformat_minor": 4
}
