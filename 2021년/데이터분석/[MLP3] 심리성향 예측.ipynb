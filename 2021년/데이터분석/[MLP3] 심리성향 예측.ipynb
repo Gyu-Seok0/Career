{
 "cells": [
  {
   "cell_type": "code",
   "execution_count": 2,
   "metadata": {},
   "outputs": [],
   "source": [
    "import numpy as np\n",
    "import pandas as pd\n",
    "import torch\n",
    "from torch import nn, optim\n",
    "from torch.utils.data import DataLoader\n",
    "from torch.utils.data import TensorDataset"
   ]
  },
  {
   "cell_type": "code",
   "execution_count": 3,
   "metadata": {},
   "outputs": [],
   "source": [
    "train = pd.read_csv(\"/Users/igyuseog/Desktop/open data/train.csv\")\n",
    "train = train.drop(train[train[\"familysize\"] > 50].index)\n",
    "test = pd.read_csv(\"/Users/igyuseog/Desktop/open data/test_x.csv\")\n",
    "\n",
    "drop_list = ['QaE', 'QbE', 'QcE', 'QdE', 'QeE',\n",
    "             'QfE', 'QgE', 'QhE', 'QiE', 'QjE',\n",
    "             'QkE', 'QlE', 'QmE', 'QnE', 'QoE',\n",
    "             'QpE', 'QqE', 'QrE', 'QsE', 'QtE',\n",
    "             'index', 'hand']\n",
    "replace_dict = {'education': str, 'engnat': str, 'married': str, 'urban': str}\n",
    "\n",
    "train_y = train[\"voted\"]\n",
    "train_x = train.drop(drop_list + [\"voted\"], axis = 1)\n",
    "test_x = test.drop(drop_list, axis = 1)\n",
    "\n",
    "#타입 변경\n",
    "train_x = train_x.astype(replace_dict)\n",
    "test_x = test_x.astype(replace_dict)\n",
    "#원핫인코딩\n",
    "train_x = pd.get_dummies(train_x)\n",
    "test_x = pd.get_dummies(test_x)\n",
    "#numpy\n",
    "train_y = 2 - train_y.to_numpy() #0이 투표한다. 1이 투표 안한다 \n",
    "train_x = train_x.to_numpy()\n",
    "test_x = test_x.to_numpy()\n",
    "\n",
    "\n",
    "# 정규화\n",
    "train_x[:,:20] = (train_x[:,:20] -3.) / 2.\n",
    "test_x[:,:20] = (test_x[:,:20] -3.) / 2.\n",
    "\n",
    "train_x[:,20] = (train_x[:,20] -5.) / 5.\n",
    "test_x[:,20] = (test_x[:,20] -5.) / 5.\n",
    "\n",
    "train_x[:,21:31] = (train_x[:, 21:31] - 3.5) / 3.5\n",
    "test_x[:,21:31] = (test_x[:, 21:31] - 3.5) / 3.5\n",
    "\n",
    "#tensor\n",
    "train_y = torch.tensor(train_y, dtype = torch.float32)\n",
    "train_x = torch.tensor(train_x, dtype = torch.float32)\n",
    "test_x = torch.tensor(test_x, dtype = torch.float32)\n",
    "train_len, test_len = len(train_x), len(test_x)\n",
    "\n",
    "#Dataloder\n",
    "train_loader = DataLoader(TensorDataset(train_x,train_y), shuffle = True, drop_last = True, batch_size = 100)\n",
    "test_loader =  DataLoader(TensorDataset(test_x, torch.zeros(len(test_x))), shuffle = False, drop_last = False)\n"
   ]
  },
  {
   "cell_type": "code",
   "execution_count": 14,
   "metadata": {
    "scrolled": true
   },
   "outputs": [
    {
     "ename": "TypeError",
     "evalue": "'builtin_function_or_method' object is not subscriptable",
     "output_type": "error",
     "traceback": [
      "\u001b[0;31m---------------------------------------------------------------------------\u001b[0m",
      "\u001b[0;31mTypeError\u001b[0m                                 Traceback (most recent call last)",
      "\u001b[0;32m<ipython-input-14-8c0276a69cda>\u001b[0m in \u001b[0;36m<module>\u001b[0;34m\u001b[0m\n\u001b[0;32m----> 1\u001b[0;31m \u001b[0mtrain_x\u001b[0m\u001b[0;34m.\u001b[0m\u001b[0msize\u001b[0m\u001b[0;34m[\u001b[0m\u001b[0;36m0\u001b[0m\u001b[0;34m]\u001b[0m\u001b[0;34m\u001b[0m\u001b[0;34m\u001b[0m\u001b[0m\n\u001b[0m",
      "\u001b[0;31mTypeError\u001b[0m: 'builtin_function_or_method' object is not subscriptable"
     ]
    }
   ],
   "source": [
    "train_x.size[0]"
   ]
  },
  {
   "cell_type": "code",
   "execution_count": 10,
   "metadata": {},
   "outputs": [],
   "source": [
    "class DNN(torch.nn.Module):\n",
    "    def __init__(self,input_size = 91):\n",
    "        super(DNN,self).__init__()\n",
    "        self.mlp = nn.Sequential(\n",
    "            nn.Linear(input_size,100),\n",
    "            nn.ReLU(),\n",
    "            \n",
    "            nn.Linear(100,50),\n",
    "            nn.ReLU(),\n",
    "            \n",
    "            nn.Linear(50, 1),\n",
    "        )\n",
    "                 \n",
    "    def forward(self,x):\n",
    "        #y_ =  x.view(x.size(0),-1)\n",
    "        y_ = self.mlp(y_)\n",
    "        return y_    "
   ]
  },
  {
   "cell_type": "code",
   "execution_count": 11,
   "metadata": {},
   "outputs": [],
   "source": [
    "model = DNN()\n",
    "\n",
    "criterion = torch.nn.BCEWithLogitsLoss(pos_weight = torch.tensor([1.20665]))\n",
    "optimizer = optim.AdamW(model.parameters(), lr = 1e-3, weight_decay = 4e-2)"
   ]
  },
  {
   "cell_type": "code",
   "execution_count": 13,
   "metadata": {},
   "outputs": [
    {
     "name": "stdout",
     "output_type": "stream",
     "text": [
      "0 0.6601625680923462\n",
      "100 0.6789780259132385\n",
      "200 0.6740669012069702\n",
      "300 0.5754489302635193\n",
      "400 0.5625357031822205\n"
     ]
    }
   ],
   "source": [
    "    \n",
    "epochs = 10\n",
    "step = 0\n",
    "\n",
    "for idx, (xx,yy) in enumerate(train_loader):\n",
    "    optimizer.zero_grad()\n",
    "    pred = model(xx).squeeze()\n",
    "    loss = criterion(pred, yy)\n",
    "    loss.backward()\n",
    "    optimizer.step()\n",
    "    model.eval()\n",
    "    if step % 100 == 0:\n",
    "        print(step, loss.item())\n",
    "\n",
    "    with torch.no_grad():\n",
    "        test = []\n",
    "        for idx, (xx,yy) in enumerate(test_loader):\n",
    "            test.append(model(xx).squeeze())\n",
    "    step += 1          "
   ]
  },
  {
   "cell_type": "code",
   "execution_count": 118,
   "metadata": {},
   "outputs": [],
   "source": [
    "test = np.array(test)\n",
    "test = np.where(test > 1.5, 1, 2)"
   ]
  },
  {
   "cell_type": "code",
   "execution_count": 130,
   "metadata": {},
   "outputs": [
    {
     "data": {
      "text/plain": [
       "0        2\n",
       "1        2\n",
       "2        2\n",
       "3        1\n",
       "4        2\n",
       "        ..\n",
       "11378    2\n",
       "11379    2\n",
       "11380    2\n",
       "11381    2\n",
       "11382    2\n",
       "Name: 0, Length: 11383, dtype: int64"
      ]
     },
     "execution_count": 130,
     "metadata": {},
     "output_type": "execute_result"
    }
   ],
   "source": [
    "temp = pd.DataFrame(test)\n",
    "temp[0].value_co"
   ]
  },
  {
   "cell_type": "code",
   "execution_count": null,
   "metadata": {},
   "outputs": [],
   "source": [
    "submit = "
   ]
  }
 ],
 "metadata": {
  "kernelspec": {
   "display_name": "Python 3",
   "language": "python",
   "name": "python3"
  },
  "language_info": {
   "codemirror_mode": {
    "name": "ipython",
    "version": 3
   },
   "file_extension": ".py",
   "mimetype": "text/x-python",
   "name": "python",
   "nbconvert_exporter": "python",
   "pygments_lexer": "ipython3",
   "version": "3.8.3"
  }
 },
 "nbformat": 4,
 "nbformat_minor": 4
}
