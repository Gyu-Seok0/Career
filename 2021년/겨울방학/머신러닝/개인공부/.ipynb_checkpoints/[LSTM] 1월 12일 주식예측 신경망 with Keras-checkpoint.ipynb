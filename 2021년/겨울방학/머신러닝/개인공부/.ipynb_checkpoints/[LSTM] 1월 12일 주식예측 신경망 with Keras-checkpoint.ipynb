{
 "cells": [
  {
   "cell_type": "code",
   "execution_count": 1,
   "metadata": {},
   "outputs": [],
   "source": [
    "import pandas as pd\n",
    "import numpy as np\n",
    "from keras.models import Sequential\n",
    "from keras.layers import LSTM,Dropout,Dense,Activation\n",
    "import datetime\n",
    "from sklearn.model_selection import train_test_split\n"
   ]
  },
  {
   "cell_type": "code",
   "execution_count": 3,
   "metadata": {},
   "outputs": [
    {
     "name": "stdout",
     "output_type": "stream",
     "text": [
      "(1226, 7)\n"
     ]
    },
    {
     "data": {
      "text/html": [
       "<div>\n",
       "<style scoped>\n",
       "    .dataframe tbody tr th:only-of-type {\n",
       "        vertical-align: middle;\n",
       "    }\n",
       "\n",
       "    .dataframe tbody tr th {\n",
       "        vertical-align: top;\n",
       "    }\n",
       "\n",
       "    .dataframe thead th {\n",
       "        text-align: right;\n",
       "    }\n",
       "</style>\n",
       "<table border=\"1\" class=\"dataframe\">\n",
       "  <thead>\n",
       "    <tr style=\"text-align: right;\">\n",
       "      <th></th>\n",
       "      <th>Date</th>\n",
       "      <th>Open</th>\n",
       "      <th>High</th>\n",
       "      <th>Low</th>\n",
       "      <th>Close</th>\n",
       "      <th>Adj Close</th>\n",
       "      <th>Volume</th>\n",
       "    </tr>\n",
       "  </thead>\n",
       "  <tbody>\n",
       "    <tr>\n",
       "      <th>0</th>\n",
       "      <td>2016-01-12</td>\n",
       "      <td>22960.0</td>\n",
       "      <td>23320.0</td>\n",
       "      <td>22880.0</td>\n",
       "      <td>22920.0</td>\n",
       "      <td>1100.948608</td>\n",
       "      <td>10314150.0</td>\n",
       "    </tr>\n",
       "    <tr>\n",
       "      <th>1</th>\n",
       "      <td>2016-01-13</td>\n",
       "      <td>23060.0</td>\n",
       "      <td>23180.0</td>\n",
       "      <td>22960.0</td>\n",
       "      <td>22960.0</td>\n",
       "      <td>1102.869751</td>\n",
       "      <td>7165800.0</td>\n",
       "    </tr>\n",
       "    <tr>\n",
       "      <th>2</th>\n",
       "      <td>2016-01-14</td>\n",
       "      <td>22620.0</td>\n",
       "      <td>22840.0</td>\n",
       "      <td>22620.0</td>\n",
       "      <td>22760.0</td>\n",
       "      <td>1093.263062</td>\n",
       "      <td>10451100.0</td>\n",
       "    </tr>\n",
       "    <tr>\n",
       "      <th>3</th>\n",
       "      <td>2016-01-15</td>\n",
       "      <td>22800.0</td>\n",
       "      <td>23040.0</td>\n",
       "      <td>22480.0</td>\n",
       "      <td>22640.0</td>\n",
       "      <td>1087.498779</td>\n",
       "      <td>10473200.0</td>\n",
       "    </tr>\n",
       "    <tr>\n",
       "      <th>4</th>\n",
       "      <td>2016-01-18</td>\n",
       "      <td>21760.0</td>\n",
       "      <td>22660.0</td>\n",
       "      <td>21760.0</td>\n",
       "      <td>22520.0</td>\n",
       "      <td>1081.734741</td>\n",
       "      <td>16010700.0</td>\n",
       "    </tr>\n",
       "  </tbody>\n",
       "</table>\n",
       "</div>"
      ],
      "text/plain": [
       "         Date     Open     High      Low    Close    Adj Close      Volume\n",
       "0  2016-01-12  22960.0  23320.0  22880.0  22920.0  1100.948608  10314150.0\n",
       "1  2016-01-13  23060.0  23180.0  22960.0  22960.0  1102.869751   7165800.0\n",
       "2  2016-01-14  22620.0  22840.0  22620.0  22760.0  1093.263062  10451100.0\n",
       "3  2016-01-15  22800.0  23040.0  22480.0  22640.0  1087.498779  10473200.0\n",
       "4  2016-01-18  21760.0  22660.0  21760.0  22520.0  1081.734741  16010700.0"
      ]
     },
     "execution_count": 3,
     "metadata": {},
     "output_type": "execute_result"
    }
   ],
   "source": [
    "#삼성전자 최근 5년간 주식 데이터를 가져왔다.\n",
    "data = pd.read_csv(\"./data/005930.KS.csv\")\n",
    "print(data.shape)\n",
    "data.head()"
   ]
  },
  {
   "cell_type": "code",
   "execution_count": 4,
   "metadata": {},
   "outputs": [
    {
     "data": {
      "text/plain": [
       "(1221, 7)"
      ]
     },
     "execution_count": 4,
     "metadata": {},
     "output_type": "execute_result"
    }
   ],
   "source": [
    "# 결측치를 제거했다.\n",
    "# 역시, 데이터 전처리가 제일 중요하다.\n",
    "data = data.dropna()\n",
    "data.shape"
   ]
  },
  {
   "cell_type": "code",
   "execution_count": 5,
   "metadata": {},
   "outputs": [],
   "source": [
    "#high_price와 low_pirce의 평균을 가지고 예측\n",
    "\n",
    "high_prices = data[\"High\"].values\n",
    "low_prices = data[\"Low\"].values\n",
    "mid_prices = (high_prices + low_prices) /2"
   ]
  },
  {
   "cell_type": "markdown",
   "metadata": {},
   "source": [
    "# LSTM 만들기\n",
    "\n",
    "최근 50일 데이터를 보고, 내일을 예측한다.\n",
    "\n",
    "예를 들어,\n",
    "\n",
    "1 ~ 50을 보고 51 예측 // \n",
    "\n",
    "2 ~ 51을 보고 52 예측"
   ]
  },
  {
   "cell_type": "code",
   "execution_count": 6,
   "metadata": {},
   "outputs": [],
   "source": [
    "seq_len = 50 #이것을 윈도우 크기라고 이해할 수 있다.\n",
    "seqence_length = seq_len + 1 # 51개를 저장해야지! (50개는 train, 1개는 예측)\n",
    "\n",
    "result = []\n",
    "for index in range(len(mid_prices) - seqence_length):\n",
    "    result.append(mid_prices[index:index+seqence_length]) # 이렇게 하면 끝까지 다 들어간다.\n",
    "    \n"
   ]
  },
  {
   "cell_type": "code",
   "execution_count": 117,
   "metadata": {},
   "outputs": [
    {
     "name": "stderr",
     "output_type": "stream",
     "text": [
      "<ipython-input-117-a07fff3e6f47>:9: RuntimeWarning: divide by zero encountered in true_divide\n",
      "  normalized_data.append((window / window[0]) -1)\n",
      "<ipython-input-117-a07fff3e6f47>:9: RuntimeWarning: invalid value encountered in true_divide\n",
      "  normalized_data.append((window / window[0]) -1)\n"
     ]
    },
    {
     "data": {
      "text/plain": [
       "(1170, 51)"
      ]
     },
     "execution_count": 117,
     "metadata": {},
     "output_type": "execute_result"
    }
   ],
   "source": [
    "# 정규화\n",
    "\n",
    "# 1170*51 만큼의 데이터가 존재.\n",
    "# 각 데이터의 0번째 인덱스를 '0'으로 잡고, 비율을 만든다.\n",
    "# 자기 자신으로 나누고, 1을 하면 0이 된다.\n",
    "\n",
    "normalized_data = []\n",
    "for window in result:\n",
    "    normalized_data.append((window / window[0]) -1)\n",
    "\n",
    "result = np.array(normalized_data)\n"
   ]
  },
  {
   "cell_type": "code",
   "execution_count": 28,
   "metadata": {},
   "outputs": [
    {
     "name": "stdout",
     "output_type": "stream",
     "text": [
      "x_train.shape = (1053, 50, 1), x_test.shape = (117, 50, 1)\n"
     ]
    }
   ],
   "source": [
    "# train set과 test을 나누자.\n",
    "from sklearn.model_selection import train_test_split\n",
    "X = result[:,:-1]\n",
    "y = result[:,-1]\n",
    "\n",
    "# shuffle을 하면 안됌 --> 시계열이니까\n",
    "x_train, x_test,y_train, y_test = train_test_split(X,y, random_state = 42, shuffle = False, test_size = 0.1)\n",
    "\n",
    "#shape을 3차원으로 reshape (데이터의 개수, window의 크기, 시간축(?) )인것으로 추정된다.\n",
    "x_train = np.reshape(x_train, (x_train.shape[0],x_train.shape[1],1))\n",
    "x_test = np.reshape(x_test,(x_test.shape[0],x_test.shape[1],1))\n",
    "\n",
    "#shape 확인\n",
    "print(\"x_train.shape = {}, x_test.shape = {}\".format(x_train.shape, x_test.shape))\n"
   ]
  },
  {
   "cell_type": "code",
   "execution_count": 29,
   "metadata": {},
   "outputs": [
    {
     "name": "stdout",
     "output_type": "stream",
     "text": [
      "y_train.shape = (1053,), y_test.shape = (117,)\n"
     ]
    }
   ],
   "source": [
    "print(\"y_train.shape = {}, y_test.shape = {}\".format(y_train.shape, y_test.shape))"
   ]
  },
  {
   "cell_type": "markdown",
   "metadata": {},
   "source": [
    "# Build a model"
   ]
  },
  {
   "cell_type": "code",
   "execution_count": 30,
   "metadata": {},
   "outputs": [
    {
     "name": "stdout",
     "output_type": "stream",
     "text": [
      "Model: \"sequential_1\"\n",
      "_________________________________________________________________\n",
      "Layer (type)                 Output Shape              Param #   \n",
      "=================================================================\n",
      "lstm_2 (LSTM)                (None, 50, 50)            10400     \n",
      "_________________________________________________________________\n",
      "lstm_3 (LSTM)                (None, 64)                29440     \n",
      "_________________________________________________________________\n",
      "dense_1 (Dense)              (None, 1)                 65        \n",
      "=================================================================\n",
      "Total params: 39,905\n",
      "Trainable params: 39,905\n",
      "Non-trainable params: 0\n",
      "_________________________________________________________________\n"
     ]
    }
   ],
   "source": [
    "model = Sequential()\n",
    "\n",
    "# 첫번째 유닛 수 --> 50이라는 input은 이미 우리가 처음 시작할때, 정해줌\n",
    "model.add(LSTM(50,\n",
    "               return_sequences = True, \n",
    "               input_shape = (50,1)))\n",
    "\n",
    "# 두번째 유닛 수 --> 64는 조정가능함\n",
    "model.add(LSTM(64,\n",
    "               return_sequences = False))\n",
    "\n",
    "# 아웃풋 --> 50개의 데이터를 보고, 다음날 하루를 예측하므로, 1이 등장.\n",
    "model.add(Dense(1, activation = 'linear'))\n",
    "\n",
    "\n",
    "\n",
    "model.compile(loss = \"mse\", optimizer = \"rmsprop\")\n",
    "\n",
    "\n",
    "model.summary()"
   ]
  },
  {
   "cell_type": "code",
   "execution_count": 31,
   "metadata": {},
   "outputs": [
    {
     "name": "stdout",
     "output_type": "stream",
     "text": [
      "Epoch 1/5\n",
      "106/106 [==============================] - 6s 36ms/step - loss: 0.0025 - val_loss: 0.0029\n",
      "Epoch 2/5\n",
      "106/106 [==============================] - 3s 31ms/step - loss: 9.6394e-04 - val_loss: 0.0019\n",
      "Epoch 3/5\n",
      "106/106 [==============================] - 3s 33ms/step - loss: 6.1664e-04 - val_loss: 0.0014\n",
      "Epoch 4/5\n",
      "106/106 [==============================] - 3s 29ms/step - loss: 4.4320e-04 - val_loss: 8.7175e-04\n",
      "Epoch 5/5\n",
      "106/106 [==============================] - 3s 32ms/step - loss: 3.9632e-04 - val_loss: 4.3124e-04\n"
     ]
    },
    {
     "data": {
      "text/plain": [
       "<tensorflow.python.keras.callbacks.History at 0x7fed2034bdc0>"
      ]
     },
     "execution_count": 31,
     "metadata": {},
     "output_type": "execute_result"
    }
   ],
   "source": [
    "#학습진행하기\n",
    "model.fit(x_train, y_train,\n",
    "    validation_data=(x_test, y_test),\n",
    "    batch_size=10,\n",
    "    epochs=5)"
   ]
  },
  {
   "cell_type": "code",
   "execution_count": 32,
   "metadata": {},
   "outputs": [],
   "source": [
    "#예측\n",
    "pred = model.predict(x_test)"
   ]
  },
  {
   "cell_type": "code",
   "execution_count": 33,
   "metadata": {},
   "outputs": [
    {
     "data": {
      "image/png": "[encoded data removed]",
      "text/plain": [
       "<Figure size 432x288 with 1 Axes>"
      ]
     },
     "metadata": {},
     "output_type": "display_data"
    },
    {
     "data": {
      "text/plain": [
       "<Figure size 1440x360 with 0 Axes>"
      ]
     },
     "metadata": {},
     "output_type": "display_data"
    }
   ],
   "source": [
    "#그래프 그리기\n",
    "import matplotlib.pyplot as plt\n",
    "fig = plt.figure(facecolor = \"white\")\n",
    "ax = fig.add_subplot(111)\n",
    "\n",
    "plt.figure(figsize = (20,5))\n",
    "ax.plot(y_test, label = 'True')\n",
    "ax.plot(pred, label = 'Prediction')\n",
    "ax.legend()\n",
    "plt.show()"
   ]
  },
  {
   "cell_type": "code",
   "execution_count": 46,
   "metadata": {},
   "outputs": [
    {
     "data": {
      "text/plain": [
       "(117, 50, 1)"
      ]
     },
     "execution_count": 46,
     "metadata": {},
     "output_type": "execute_result"
    }
   ],
   "source": [
    "#활용하기"
   ]
  },
  {
   "cell_type": "code",
   "execution_count": 110,
   "metadata": {},
   "outputs": [],
   "source": [
    "graph = [] # 앞으로 50일 예측\n",
    "\n",
    "temp = x_test[-1].reshape(1,-1,1) # ~ 1/12 (이전 50일)\n",
    "cnt = 0 #50개 카운트\n",
    "\n",
    "while cnt < 50:\n",
    "    answer = model.predict(temp) #예측\n",
    "    graph.append(float(answer.squeeze())) #저장\n",
    "    temp2 = temp.squeeze(axis = 0) # shape을 맞춰주기 위해\n",
    "    temp = np.concatenate([temp2[1:],answer], axis = 0)\n",
    "    temp = temp.reshape(1,-1,1)\n",
    "\n",
    "    cnt += 1"
   ]
  },
  {
   "cell_type": "code",
   "execution_count": 118,
   "metadata": {},
   "outputs": [
    {
     "data": {
      "image/png": "[encoded data removed]",
      "text/plain": [
       "<Figure size 432x288 with 1 Axes>"
      ]
     },
     "metadata": {
      "needs_background": "light"
     },
     "output_type": "display_data"
    }
   ],
   "source": [
    "plt.plot(graph)\n",
    "plt.show()"
   ]
  },
  {
   "cell_type": "code",
   "execution_count": 116,
   "metadata": {
    "scrolled": true
   },
   "outputs": [
    {
     "data": {
      "image/png": "[encoded data removed]",
      "text/plain": [
       "<Figure size 432x288 with 1 Axes>"
      ]
     },
     "metadata": {},
     "output_type": "display_data"
    },
    {
     "data": {
      "text/plain": [
       "<Figure size 1440x360 with 0 Axes>"
      ]
     },
     "metadata": {},
     "output_type": "display_data"
    }
   ],
   "source": [
    "fig = plt.figure(facecolor = \"white\")\n",
    "ax = fig.add_subplot(111)\n",
    "\n",
    "plt.figure(figsize = (20,5))\n",
    "ax.plot(y_test, label = 'True')\n",
    "ax.plot(total, label = 'Prediction')\n",
    "ax.legend()\n",
    "plt.show()"
   ]
  },
  {
   "cell_type": "markdown",
   "metadata": {},
   "source": [
    "### 결론: 삼성전자의 주가는 근 50일 동안 고공행진일 예정이고,\n",
    "### 그나마 유의미한 결과(?) 20~30일 뒤 즈음, 성장세가 완만해질 예정\n",
    "\n",
    "\n",
    "1) 데이터의 전치리가 중요: drop.na\n",
    "\n",
    "2) input 데이터의 크기가 3차원이여야 한다.\n",
    "\n",
    "3) "
   ]
  }
 ],
 "metadata": {
  "kernelspec": {
   "display_name": "Python 3",
   "language": "python",
   "name": "python3"
  },
  "language_info": {
   "codemirror_mode": {
    "name": "ipython",
    "version": 3
   },
   "file_extension": ".py",
   "mimetype": "text/x-python",
   "name": "python",
   "nbconvert_exporter": "python",
   "pygments_lexer": "ipython3",
   "version": "3.8.3"
  }
 },
 "nbformat": 4,
 "nbformat_minor": 4
}
