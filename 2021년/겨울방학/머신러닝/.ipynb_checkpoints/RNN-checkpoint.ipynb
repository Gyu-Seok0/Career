{
 "cells": [
  {
   "cell_type": "code",
   "execution_count": 2,
   "metadata": {},
   "outputs": [],
   "source": [
    "import numpy as np\n",
    "import matplotlib.pyplot as plt\n",
    "import torch\n",
    "import torch.nn as nn"
   ]
  },
  {
   "cell_type": "markdown",
   "metadata": {},
   "source": [
    "## Step1: Generate data"
   ]
  },
  {
   "cell_type": "code",
   "execution_count": 3,
   "metadata": {},
   "outputs": [
    {
     "data": {
      "text/plain": [
       "(100,)"
      ]
     },
     "execution_count": 3,
     "metadata": {},
     "output_type": "execute_result"
    }
   ],
   "source": [
    "X = np.linspace(-3.14 *2, 3.14*2, 100)\n",
    "X.shape"
   ]
  },
  {
   "cell_type": "code",
   "execution_count": 4,
   "metadata": {},
   "outputs": [
    {
     "data": {
      "text/plain": [
       "(100, 2)"
      ]
     },
     "execution_count": 4,
     "metadata": {},
     "output_type": "execute_result"
    }
   ],
   "source": [
    "Y = np.array([(np.sin(x)+ np.random.normal(0,0.1), np.cos(x) + np.random.normal(0,0.1)) for x in X])\n",
    "Y.shape\n"
   ]
  },
  {
   "cell_type": "code",
   "execution_count": 5,
   "metadata": {},
   "outputs": [
    {
     "data": {
      "text/plain": [
       "<matplotlib.legend.Legend at 0x7fd91ad10d60>"
      ]
     },
     "execution_count": 5,
     "metadata": {},
     "output_type": "execute_result"
    },
    {
     "data": {
      "image/png": "[encoded data removed]",
      "text/plain": [
       "<Figure size 432x288 with 1 Axes>"
      ]
     },
     "metadata": {
      "needs_background": "light"
     },
     "output_type": "display_data"
    }
   ],
   "source": [
    "plt.plot(X, Y[:,0], label = \"sin\", marker = \"o\")\n",
    "plt.plot(X, Y[:,1], label = \"cos\", marker = \"*\")\n",
    "plt.legend()"
   ]
  },
  {
   "cell_type": "markdown",
   "metadata": {},
   "source": [
    "## Step2: Tensor로 변경"
   ]
  },
  {
   "cell_type": "code",
   "execution_count": 7,
   "metadata": {},
   "outputs": [
    {
     "data": {
      "text/plain": [
       "torch.Size([100, 2])"
      ]
     },
     "execution_count": 7,
     "metadata": {},
     "output_type": "execute_result"
    }
   ],
   "source": [
    "input_tensor = torch.tensor(Y, dtype = torch.float32)\n",
    "input_tensor.shape"
   ]
  },
  {
   "cell_type": "code",
   "execution_count": 8,
   "metadata": {},
   "outputs": [
    {
     "data": {
      "text/plain": [
       "tensor([[0.1141, 1.1256],\n",
       "        [0.1888, 1.0194],\n",
       "        [0.3753, 0.8589],\n",
       "        [0.4092, 1.0933],\n",
       "        [0.4865, 0.9173],\n",
       "        [0.6042, 0.7870],\n",
       "        [0.7411, 0.8172],\n",
       "        [0.8386, 0.5917],\n",
       "        [0.6971, 0.5947],\n",
       "        [0.8097, 0.3779]])"
      ]
     },
     "execution_count": 8,
     "metadata": {},
     "output_type": "execute_result"
    }
   ],
   "source": [
    "input_tensor[:10]"
   ]
  },
  {
   "cell_type": "code",
   "execution_count": 13,
   "metadata": {},
   "outputs": [
    {
     "data": {
      "text/plain": [
       "tensor([[0.1888, 1.0194],\n",
       "        [0.3753, 0.8589],\n",
       "        [0.4092, 1.0933],\n",
       "        [0.4865, 0.9173],\n",
       "        [0.6042, 0.7870],\n",
       "        [0.7411, 0.8172],\n",
       "        [0.8386, 0.5917],\n",
       "        [0.6971, 0.5947],\n",
       "        [0.8097, 0.3779],\n",
       "        [1.0137, 0.4390]])"
      ]
     },
     "execution_count": 13,
     "metadata": {},
     "output_type": "execute_result"
    }
   ],
   "source": [
    "# 맨 첫번째 tesor를 가장 밑으로 보내면서, suffle을 수행한 것 같다.\n",
    "target_tensor = torch.cat((input_tensor[1:], input_tensor[0:1]), 0)\n",
    "target_tensor[:10]"
   ]
  },
  {
   "cell_type": "code",
   "execution_count": 19,
   "metadata": {},
   "outputs": [
    {
     "name": "stdout",
     "output_type": "stream",
     "text": [
      "tensor([[0.1141, 1.1256, 0.1888, 1.0194],\n",
      "        [0.1888, 1.0194, 0.3753, 0.8589],\n",
      "        [0.3753, 0.8589, 0.4092, 1.0933],\n",
      "        [0.4092, 1.0933, 0.4865, 0.9173],\n",
      "        [0.4865, 0.9173, 0.6042, 0.7870],\n",
      "        [0.6042, 0.7870, 0.7411, 0.8172],\n",
      "        [0.7411, 0.8172, 0.8386, 0.5917],\n",
      "        [0.8386, 0.5917, 0.6971, 0.5947],\n",
      "        [0.6971, 0.5947, 0.8097, 0.3779],\n",
      "        [0.8097, 0.3779, 1.0137, 0.4390]])\n"
     ]
    }
   ],
   "source": [
    "# check the input and target tensors\n",
    "print(torch.cat((input_tensor, target_tensor), 1)[:10])"
   ]
  },
  {
   "cell_type": "markdown",
   "metadata": {},
   "source": [
    "## Step3: Create RNN Class"
   ]
  },
  {
   "cell_type": "code",
   "execution_count": 56,
   "metadata": {},
   "outputs": [],
   "source": [
    "class RNN(nn.Module):\n",
    "    def __init__(self, input_size, hidden_size, output_size):\n",
    "        super(RNN,self).__init__()\n",
    "        self.hidden_size = hidden_size\n",
    "        self.i2h = nn.Linear(input_size + hidden_size, hidden_size)\n",
    "        self.h2o = nn.Linear(hidden_size, output_size)\n",
    "        \n",
    "    def forward(self, input, hidden):\n",
    "        input_combinded = torch.cat((input, hidden), -1)\n",
    "        hidden = self.i2h(input_combinded)\n",
    "        output = self.h2o(hidden)\n",
    "        return output, hidden\n",
    "    \n",
    "    def initHidden(self):\n",
    "        return torch.zeros(1, self.hidden_size)\n",
    "        \n",
    "    \n",
    "rnn = RNN(2,32,2)        "
   ]
  },
  {
   "cell_type": "markdown",
   "metadata": {},
   "source": [
    "## Step4: Train RNN"
   ]
  },
  {
   "cell_type": "code",
   "execution_count": 57,
   "metadata": {},
   "outputs": [],
   "source": [
    "# loss function\n",
    "criterion = nn.MSELoss()\n",
    "\n",
    "# 학습률\n",
    "learning_rate = 0.0005\n",
    "\n",
    "# weight를 학습할때 사용\n",
    "optimizer = torch.optim.Adam(rnn.parameters(), lr = learning_rate)"
   ]
  },
  {
   "cell_type": "code",
   "execution_count": 58,
   "metadata": {},
   "outputs": [],
   "source": [
    "def train(input_tensor, target_tensor):\n",
    "    hidden = rnn.initHidden()\n",
    "    rnn.zero_grad()\n",
    "    loss = 0\n",
    "    \n",
    "    for i in range(input_tensor.size(0)):\n",
    "        output, hidden = rnn(input_tensor[i:i+1], hidden)\n",
    "        l = criterion(output, target_tensor[i:i+1])\n",
    "        loss += l\n",
    "    \n",
    "    loss.backward()\n",
    "    optimizer.step()\n",
    "    \n",
    "    return output, loss.item()/ input_tensor.size(0)"
   ]
  },
  {
   "cell_type": "code",
   "execution_count": 59,
   "metadata": {},
   "outputs": [],
   "source": [
    "# utility function to measure time\n",
    "import time\n",
    "import math\n",
    "\n",
    "def timeSince(since):\n",
    "    now = time.time()\n",
    "    s = now - since\n",
    "    m = math.floor(s / 60)\n",
    "    s -= m * 60\n",
    "    return '%dm %ds' % (m, s)"
   ]
  },
  {
   "cell_type": "code",
   "execution_count": 60,
   "metadata": {},
   "outputs": [],
   "source": [
    "def get_data(X):\n",
    "    Y = np.array([(np.sin(x) + np.random.normal(0, 0.1), np.cos(x) + np.random.normal(0, 0.1)) for x in X])\n",
    "    input_tensor = torch.tensor(Y, dtype=torch.float32)\n",
    "    target_tensor = torch.cat((input_tensor[1:], input_tensor[0:1]), 0)\n",
    "    \n",
    "    return input_tensor, target_tensor"
   ]
  },
  {
   "cell_type": "code",
   "execution_count": 61,
   "metadata": {},
   "outputs": [],
   "source": [
    "# reset loss history\n",
    "all_losses = []"
   ]
  },
  {
   "cell_type": "code",
   "execution_count": 62,
   "metadata": {},
   "outputs": [
    {
     "name": "stdout",
     "output_type": "stream",
     "text": [
      "0m 4s (200 4%) 0.0164\n",
      "0m 8s (400 8%) 0.0139\n",
      "0m 11s (600 12%) 0.0132\n",
      "0m 15s (800 16%) 0.0125\n",
      "0m 19s (1000 20%) 0.0119\n",
      "0m 23s (1200 24%) 0.0119\n",
      "0m 27s (1400 28%) 0.0122\n",
      "0m 31s (1600 32%) 0.0118\n",
      "0m 35s (1800 36%) 0.0116\n",
      "0m 39s (2000 40%) 0.0108\n",
      "0m 44s (2200 44%) 0.0121\n",
      "0m 48s (2400 48%) 0.0105\n",
      "0m 52s (2600 52%) 0.0130\n",
      "0m 56s (2800 56%) 0.0114\n",
      "1m 1s (3000 60%) 0.0116\n",
      "1m 5s (3200 64%) 0.0122\n",
      "1m 9s (3400 68%) 0.0111\n",
      "1m 13s (3600 72%) 0.0115\n",
      "1m 17s (3800 76%) 0.0107\n",
      "1m 21s (4000 80%) 0.0108\n",
      "1m 25s (4200 84%) 0.0110\n",
      "1m 29s (4400 88%) 0.0104\n",
      "1m 33s (4600 92%) 0.0110\n",
      "1m 38s (4800 96%) 0.0111\n",
      "1m 43s (5000 100%) 0.0120\n"
     ]
    }
   ],
   "source": [
    "n_iters = 5000\n",
    "print_every = 200\n",
    "plot_every = 200\n",
    "total_loss = 0\n",
    "\n",
    "start = time.time()\n",
    "\n",
    "for iter in range(1, n_iters +1):\n",
    "    input_tensor, target_tesnor = get_data(X)\n",
    "    output, loss = train(input_tensor, target_tensor)\n",
    "    total_loss += loss\n",
    "    \n",
    "    if iter % print_every == 0:\n",
    "        print(\"%s (%d %d%%) %.4f\" % (timeSince(start), iter, iter/n_iters * 100, loss))\n",
    "    \n",
    "    if iter % plot_every == 0:\n",
    "        all_losses.append(total_loss / plot_every)\n",
    "        total_loss = 0\n",
    "    "
   ]
  },
  {
   "cell_type": "code",
   "execution_count": 63,
   "metadata": {},
   "outputs": [
    {
     "data": {
      "text/plain": [
       "<Figure size 432x288 with 0 Axes>"
      ]
     },
     "execution_count": 63,
     "metadata": {},
     "output_type": "execute_result"
    },
    {
     "data": {
      "image/png": "[encoded data removed]",
      "text/plain": [
       "<Figure size 432x288 with 1 Axes>"
      ]
     },
     "metadata": {
      "needs_background": "light"
     },
     "output_type": "display_data"
    },
    {
     "data": {
      "text/plain": [
       "<Figure size 432x288 with 0 Axes>"
      ]
     },
     "metadata": {},
     "output_type": "display_data"
    }
   ],
   "source": [
    "plt.plot(all_losses)\n",
    "plt.figure()"
   ]
  },
  {
   "cell_type": "code",
   "execution_count": null,
   "metadata": {},
   "outputs": [],
   "source": []
  }
 ],
 "metadata": {
  "kernelspec": {
   "display_name": "Python 3",
   "language": "python",
   "name": "python3"
  },
  "language_info": {
   "codemirror_mode": {
    "name": "ipython",
    "version": 3
   },
   "file_extension": ".py",
   "mimetype": "text/x-python",
   "name": "python",
   "nbconvert_exporter": "python",
   "pygments_lexer": "ipython3",
   "version": "3.8.3"
  }
 },
 "nbformat": 4,
 "nbformat_minor": 4
}
