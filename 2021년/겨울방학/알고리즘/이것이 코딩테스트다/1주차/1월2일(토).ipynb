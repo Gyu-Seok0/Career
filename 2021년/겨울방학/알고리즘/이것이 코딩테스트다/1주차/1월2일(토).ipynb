{
 "cells": [
  {
   "cell_type": "markdown",
   "metadata": {},
   "source": [
    "## 오늘의 목표: 구현 남은 문제 마저 풀기"
   ]
  },
  {
   "cell_type": "markdown",
   "metadata": {},
   "source": [
    "#### 자물쇠와 열쇠(카카오)"
   ]
  },
  {
   "cell_type": "code",
   "execution_count": 1,
   "metadata": {},
   "outputs": [
    {
     "ename": "SyntaxError",
     "evalue": "invalid syntax (<ipython-input-1-d208517ba82d>, line 1)",
     "output_type": "error",
     "traceback": [
      "\u001b[0;36m  File \u001b[0;32m\"<ipython-input-1-d208517ba82d>\"\u001b[0;36m, line \u001b[0;32m1\u001b[0m\n\u001b[0;31m    일단 pass\u001b[0m\n\u001b[0m       ^\u001b[0m\n\u001b[0;31mSyntaxError\u001b[0m\u001b[0;31m:\u001b[0m invalid syntax\n"
     ]
    }
   ],
   "source": [
    "일단 pass"
   ]
  },
  {
   "cell_type": "markdown",
   "metadata": {},
   "source": [
    "#### 뱀\n",
    "\n",
    "step1 몸길이를 늘려서 머리를 다음 칸에 위치\n",
    "step2 이동한 칸에 사과가 있으면, 사과는 없어지고 꼬리는 고정\n",
    "step3 이동한 칸에 사과가 없으면, 꼬리 칸을 비워준다\n",
    "\n",
    "게임은 뱀이 벽에 닿거나, 자기 자신과 부딛히면 끝난다.\n",
    "\n",
    "구현 문제의 특징이 알고리즘은 쉬운데, 실제 코딩 구현이 어렵다. \n",
    "이 문제가 그런 것 같다!\n"
   ]
  },
  {
   "cell_type": "code",
   "execution_count": 96,
   "metadata": {},
   "outputs": [
    {
     "name": "stdout",
     "output_type": "stream",
     "text": [
      "10\n",
      "5\n",
      "1 5\n",
      "1 3\n",
      "1 2\n",
      "1 6\n",
      "1 7\n",
      "4\n",
      "8 D\n",
      "10 D\n",
      "11 D\n",
      "13 L\n"
     ]
    }
   ],
   "source": [
    "# input\n",
    "N = int(input()) #보드의 크기\n",
    "K = int(input()) #사과 개수\n",
    "apple = [tuple(map(int,input().split())) for i in range(K)]\n",
    "\n",
    "L = int(input())\n",
    "direction = [input().split() for i in range(L)]"
   ]
  },
  {
   "cell_type": "code",
   "execution_count": 97,
   "metadata": {},
   "outputs": [
    {
     "name": "stdout",
     "output_type": "stream",
     "text": [
      "13\n"
     ]
    }
   ],
   "source": [
    "# 뱀을 direction에 따라서 이동시킨다\n",
    "# 사과가 있으면 크기가 성장하고, 아니면 그대로\n",
    "# 이떄, 뱀이 벽에 부딪히거나 자기 몸에 닿으면 --> 더이상 못가면 게임 종료\n",
    "\n",
    "second = 0\n",
    "flag = 1 # 3시 방향은 1, 6시 방향은 2, 9시 방향은 3, 12시 방향은 4\n",
    "memory = [] #이동하는 영역을 기록한다.\n",
    "\n",
    "board = [[0]*(N+1) for i in range(N+1)]\n",
    "head = [1,1]\n",
    "tail = [1,1]\n",
    "board[1][1] = 1\n",
    "while True:\n",
    "    second += 1 #애초에 second를 1로 잡고, second+=1을 while문 맨 마지막에 넣어도 될듯\n",
    "    #이동\n",
    "    if flag == 1:\n",
    "        head[1] += 1\n",
    "    if flag == 2:\n",
    "        head[0] += 1\n",
    "    if flag == 3:\n",
    "        head[1] -= 1\n",
    "    if flag == 4:\n",
    "        head[0] -= 1\n",
    "    \n",
    "    #이동하고 나서 벽과 몸 확인\n",
    "    row = head[0]\n",
    "    col = head[1]\n",
    "    \n",
    "    if row < 1 or row > N or col < 1 or col > N:\n",
    "        break\n",
    "    if board[row][col] == 1:\n",
    "        break\n",
    "        \n",
    "    board[row][col] = 1  # 이 부분을 여기다 넣어줘야 재대로 작동!\n",
    "    memory.append([row,col])\n",
    "    \n",
    "    #이동하거 나서 사과 확인\n",
    "    tail_flag = 0\n",
    "    for i in range(len(apple)):\n",
    "        if apple[i][0] == row and apple[i][1] == col:\n",
    "            apple.pop(i)\n",
    "            tail_flag = 1\n",
    "            break\n",
    "    \n",
    "    if tail_flag != 1:\n",
    "        board[tail[0]][tail[1]] = 0 #tail을 없애야 함\n",
    "        tail[0] = memory[0][0]\n",
    "        tail[1] = memory[0][1] #새로운 tail.. 이거 링크드 리스트면 금방인데\n",
    "        memory.pop(0)\n",
    "    \n",
    "\n",
    "    #X초가 끝난 뒤, 방향 설정\n",
    "    if direction == []: #디렉션이 텅 비어있는 경우 pass\n",
    "        pass\n",
    "    elif direction[0][0] == str(second):\n",
    "        if direction[0][1] == 'D':\n",
    "            flag += 1\n",
    "            if flag > 4: #flag가 제대로 작동하려면 조정이 필요!\n",
    "                flag = 1\n",
    "        else:\n",
    "            flag -= 1\n",
    "            if flag < 1:\n",
    "                flag = 4\n",
    "        direction.pop(0)\n",
    "print(second)"
   ]
  },
  {
   "cell_type": "code",
   "execution_count": 98,
   "metadata": {},
   "outputs": [
    {
     "data": {
      "text/plain": [
       "[[0, 0, 0, 0, 0, 0, 0, 0, 0, 0, 0],\n",
       " [0, 0, 0, 0, 0, 0, 0, 0, 1, 1, 0],\n",
       " [0, 0, 0, 0, 0, 0, 0, 0, 1, 1, 0],\n",
       " [0, 0, 0, 0, 0, 0, 0, 0, 1, 1, 0],\n",
       " [0, 0, 0, 0, 0, 0, 0, 0, 0, 0, 0],\n",
       " [0, 0, 0, 0, 0, 0, 0, 0, 0, 0, 0],\n",
       " [0, 0, 0, 0, 0, 0, 0, 0, 0, 0, 0],\n",
       " [0, 0, 0, 0, 0, 0, 0, 0, 0, 0, 0],\n",
       " [0, 0, 0, 0, 0, 0, 0, 0, 0, 0, 0],\n",
       " [0, 0, 0, 0, 0, 0, 0, 0, 0, 0, 0],\n",
       " [0, 0, 0, 0, 0, 0, 0, 0, 0, 0, 0]]"
      ]
     },
     "execution_count": 98,
     "metadata": {},
     "output_type": "execute_result"
    }
   ],
   "source": [
    "board"
   ]
  },
  {
   "cell_type": "markdown",
   "metadata": {},
   "source": [
    "#### 기둥과 보 설치\n",
    "\n",
    "build_frame = [x,y,a,b]\n",
    "\n",
    "a 에서 0은 기둥, 1은 보\n",
    "\n",
    "b 에서 0은 삭제, 1은 설치\n",
    "\n",
    "기둥은 바닥 위에 있거나(y좌표가 0), 보의 한쪽 끝이거나, 다른 기둥 위\n",
    "\n",
    "보는 한쪽 끝 부분이 기둥위, 양쪽 끝 부분이 다른 보와 동시 연결"
   ]
  },
  {
   "cell_type": "code",
   "execution_count": 141,
   "metadata": {},
   "outputs": [
    {
     "name": "stdout",
     "output_type": "stream",
     "text": [
      "5\n"
     ]
    }
   ],
   "source": [
    "n = int(input())\n",
    "build_frame = [[0,0,0,1],[2,0,0,1],[4,0,0,1],[0,1,1,1],[1,1,1,1],[2,1,1,1],[3,1,1,1],[2,0,0,0],[1,1,1,0],[2,2,0,1]]"
   ]
  },
  {
   "cell_type": "code",
   "execution_count": 142,
   "metadata": {},
   "outputs": [
    {
     "data": {
      "text/plain": [
       "[[0, 0, 0, 0, 0, 0],\n",
       " ['기둥', '보', 0, 0, 0, 0],\n",
       " [0, '기둥', '보', 0, 0, 0],\n",
       " [0, 0, '보', 0, 0, 0],\n",
       " [0, 0, '보', 0, 0, 0],\n",
       " ['기둥', '기둥', 0, 0, 0, 0]]"
      ]
     },
     "execution_count": 142,
     "metadata": {},
     "output_type": "execute_result"
    }
   ],
   "source": [
    "board"
   ]
  },
  {
   "cell_type": "code",
   "execution_count": 143,
   "metadata": {},
   "outputs": [
    {
     "data": {
      "text/plain": [
       "[[0, 0, 0, 1],\n",
       " [2, 0, 0, 1],\n",
       " [4, 0, 0, 1],\n",
       " [0, 1, 1, 1],\n",
       " [1, 1, 1, 1],\n",
       " [2, 1, 1, 1],\n",
       " [3, 1, 1, 1],\n",
       " [2, 0, 0, 0],\n",
       " [1, 1, 1, 0],\n",
       " [2, 2, 0, 1]]"
      ]
     },
     "execution_count": 143,
     "metadata": {},
     "output_type": "execute_result"
    }
   ],
   "source": [
    "build_frame"
   ]
  },
  {
   "cell_type": "code",
   "execution_count": 150,
   "metadata": {},
   "outputs": [
    {
     "name": "stdout",
     "output_type": "stream",
     "text": [
      "기둥\t0\t0\t0\t0\t0\t\n",
      "0\t0\t0\t0\t0\t0\t\n",
      "0\t0\t0\t0\t0\t0\t\n",
      "0\t0\t0\t0\t0\t0\t\n",
      "0\t0\t0\t0\t0\t0\t\n",
      "0\t0\t0\t0\t0\t0\t\n",
      "\n",
      "기둥\t0\t0\t0\t0\t0\t\n",
      "0\t0\t0\t0\t0\t0\t\n",
      "기둥\t0\t0\t0\t0\t0\t\n",
      "0\t0\t0\t0\t0\t0\t\n",
      "0\t0\t0\t0\t0\t0\t\n",
      "0\t0\t0\t0\t0\t0\t\n",
      "\n",
      "기둥\t0\t0\t0\t0\t0\t\n",
      "0\t0\t0\t0\t0\t0\t\n",
      "기둥\t0\t0\t0\t0\t0\t\n",
      "0\t0\t0\t0\t0\t0\t\n",
      "기둥\t0\t0\t0\t0\t0\t\n",
      "0\t0\t0\t0\t0\t0\t\n",
      "\n",
      "기둥\t보\t0\t0\t0\t0\t\n",
      "0\t0\t0\t0\t0\t0\t\n",
      "기둥\t0\t0\t0\t0\t0\t\n",
      "0\t0\t0\t0\t0\t0\t\n",
      "기둥\t0\t0\t0\t0\t0\t\n",
      "0\t0\t0\t0\t0\t0\t\n",
      "\n",
      "기둥\t보\t0\t0\t0\t0\t\n",
      "0\t보\t0\t0\t0\t0\t\n",
      "기둥\t0\t0\t0\t0\t0\t\n",
      "0\t0\t0\t0\t0\t0\t\n",
      "기둥\t0\t0\t0\t0\t0\t\n",
      "0\t0\t0\t0\t0\t0\t\n",
      "\n",
      "기둥\t보\t0\t0\t0\t0\t\n",
      "0\t보\t0\t0\t0\t0\t\n",
      "기둥\t보\t0\t0\t0\t0\t\n",
      "0\t0\t0\t0\t0\t0\t\n",
      "기둥\t0\t0\t0\t0\t0\t\n",
      "0\t0\t0\t0\t0\t0\t\n",
      "\n",
      "기둥\t보\t0\t0\t0\t0\t\n",
      "0\t보\t0\t0\t0\t0\t\n",
      "기둥\t보\t0\t0\t0\t0\t\n",
      "0\t보\t0\t0\t0\t0\t\n",
      "기둥\t0\t0\t0\t0\t0\t\n",
      "0\t0\t0\t0\t0\t0\t\n",
      "\n",
      "기둥\t보\t0\t0\t0\t0\t\n",
      "0\t보\t0\t0\t0\t0\t\n",
      "0\t보\t0\t0\t0\t0\t\n",
      "0\t보\t0\t0\t0\t0\t\n",
      "기둥\t0\t0\t0\t0\t0\t\n",
      "0\t0\t0\t0\t0\t0\t\n",
      "\n",
      "기둥\t보\t0\t0\t0\t0\t\n",
      "0\t보\t0\t0\t0\t0\t\n",
      "0\t보\t0\t0\t0\t0\t\n",
      "0\t보\t0\t0\t0\t0\t\n",
      "기둥\t0\t0\t0\t0\t0\t\n",
      "0\t0\t0\t0\t0\t0\t\n",
      "\n",
      "기둥\t보\t0\t0\t0\t0\t\n",
      "0\t보\t0\t0\t0\t0\t\n",
      "0\t보\t0\t0\t0\t0\t\n",
      "0\t보\t0\t0\t0\t0\t\n",
      "기둥\t0\t0\t0\t0\t0\t\n",
      "0\t0\t0\t0\t0\t0\t\n",
      "\n"
     ]
    }
   ],
   "source": [
    "board = [[0]*(n+1) for i in range(n+1)]\n",
    "for i in range(len(build_frame)):\n",
    "    target = build_frame[i]\n",
    "    x = target[0]\n",
    "    y = target[1]\n",
    "    if target[2] == 0:\n",
    "        build = '기둥'\n",
    "    else:\n",
    "        build = '보'\n",
    "    \n",
    "    if target[3] == 0:\n",
    "        act = \"remove\"\n",
    "    else:\n",
    "        act = \"make\"\n",
    "    \n",
    "    # 네 가지 경우의 수\n",
    "    if build == '기둥' and act == \"make\":\n",
    "        if y == 0 or board[x][y-1] == '기둥' or (x-1 >= 0 and board[x-1][y] == '보'):\n",
    "            board[x][y] = '기둥'\n",
    "    \n",
    "    elif build == '기둥' and act == \"remove\":\n",
    "        if board[x][y+1] == 0 or (board[x][y+1] == '보' and board[x+1][y-1] == '기둥') or(board[x][y+1] == '보' and board[x-1][y+1] == '보' and board[x+1][y+1] == '보'): \n",
    "            board[x][y] = 0\n",
    "    \n",
    "    elif build == '보' and act == \"make\":\n",
    "        if board[x][y-1] == '기둥' or board[x+1][y-1] == '기둥' or (board[x-1][y] == '보' and board[x+1][y] == '보'):\n",
    "            board[x][y] = '보'\n",
    "            \n",
    "    elif build == '보' and act == \"remove\":\n",
    "        if ((x-1 >= 0 and board[x-1][y] == '보' and board[x][y-1] == '기둥') or (x-1 >= 0 and board[x-1][y] == '보' and board[x-1][y-1] == '기둥')) and ((x+1 <= n and board[x+1][y] == '보' and board[x+1][y-1] == '기둥') or (x+2 <= n and board[x+1][y] == '보' and board[x+2][y-1] == '기둥')):\n",
    "                board[x][y] = 0\n",
    "                \n",
    "    for i in range(len(board)):\n",
    "        for j in range(len(board)):\n",
    "            print(board[i][j], end =\"\\t\")\n",
    "        print()\n",
    "    print()"
   ]
  },
  {
   "cell_type": "code",
   "execution_count": 151,
   "metadata": {},
   "outputs": [
    {
     "name": "stdout",
     "output_type": "stream",
     "text": [
      "[[0, 0, 0], [0, 1, 1], [1, 1, 1], [2, 1, 1], [3, 1, 1], [4, 0, 0]]\n"
     ]
    }
   ],
   "source": [
    "result = []\n",
    "for i in range(len(board)):\n",
    "    for j in range(len(board)):\n",
    "        if board[i][j] == '기둥':\n",
    "            result.append([i,j,0])\n",
    "        elif board[i][j] == '보':\n",
    "            result.append([i,j,1])\n",
    "print(result)"
   ]
  },
  {
   "cell_type": "code",
   "execution_count": 110,
   "metadata": {},
   "outputs": [
    {
     "data": {
      "text/plain": [
       "2"
      ]
     },
     "execution_count": 110,
     "metadata": {},
     "output_type": "execute_result"
    }
   ],
   "source": []
  },
  {
   "cell_type": "code",
   "execution_count": 111,
   "metadata": {},
   "outputs": [
    {
     "data": {
      "text/plain": [
       "'make'"
      ]
     },
     "execution_count": 111,
     "metadata": {},
     "output_type": "execute_result"
    }
   ],
   "source": []
  },
  {
   "cell_type": "code",
   "execution_count": 112,
   "metadata": {},
   "outputs": [
    {
     "data": {
      "text/plain": [
       "'보'"
      ]
     },
     "execution_count": 112,
     "metadata": {},
     "output_type": "execute_result"
    }
   ],
   "source": []
  },
  {
   "cell_type": "code",
   "execution_count": null,
   "metadata": {},
   "outputs": [],
   "source": []
  }
 ],
 "metadata": {
  "kernelspec": {
   "display_name": "Python 3",
   "language": "python",
   "name": "python3"
  },
  "language_info": {
   "codemirror_mode": {
    "name": "ipython",
    "version": 3
   },
   "file_extension": ".py",
   "mimetype": "text/x-python",
   "name": "python",
   "nbconvert_exporter": "python",
   "pygments_lexer": "ipython3",
   "version": "3.8.3"
  }
 },
 "nbformat": 4,
 "nbformat_minor": 4
}
