{
 "cells": [
  {
   "cell_type": "markdown",
   "metadata": {},
   "source": [
    "#### 문자열 재정렬\n",
    "문자열을 입력받고,for문을 돌리면서 하나씩 문자인지, 숫자인지 확인하기\n",
    "\n",
    "숫자라면 더하고, 문자라면 하나의 list에 담아놓기\n",
    "\n",
    "그리고, 정렬해서 마지막에 합치면 될 듯"
   ]
  },
  {
   "cell_type": "code",
   "execution_count": 8,
   "metadata": {},
   "outputs": [
    {
     "name": "stdout",
     "output_type": "stream",
     "text": [
      "K1KA5CB7\n",
      "ABCKK13\n"
     ]
    }
   ],
   "source": [
    "data = input()\n",
    "\n",
    "num = 0\n",
    "temp = []\n",
    "for letter in data:\n",
    "    if '1' <= letter and letter <= '9':\n",
    "        num += int(letter)\n",
    "    else:\n",
    "        temp.append(letter)\n",
    "temp.sort()\n",
    "result = ''.join(temp) + str(num)\n",
    "\n",
    "print(result)"
   ]
  },
  {
   "cell_type": "markdown",
   "metadata": {},
   "source": [
    "#### 럭키 스트레이트"
   ]
  },
  {
   "cell_type": "code",
   "execution_count": 11,
   "metadata": {},
   "outputs": [
    {
     "name": "stdout",
     "output_type": "stream",
     "text": [
      "123402\n",
      "LUCKY\n"
     ]
    }
   ],
   "source": [
    "N = input()\n",
    "\n",
    "temp1 = 0\n",
    "temp2 = 0\n",
    "for i in range(len(N)):\n",
    "    if i < len(N)//2:\n",
    "        temp1 += int(N[i])\n",
    "    else:\n",
    "        temp2 += int(N[i])\n",
    "        \n",
    "if temp1 == temp2:\n",
    "    print(\"LUCKY\")\n",
    "else:\n",
    "    print(\"READY\")"
   ]
  },
  {
   "cell_type": "markdown",
   "metadata": {},
   "source": [
    "#### 문자열 압축 (카카오 문제)\n",
    "\n",
    "알게 된 사실: while문이나 for문의 조건은 한번 assgin을 받으면 변하지 않음. \n",
    "\n",
    "예를 들어, for i in range(len(temp))에서 초기에 len(temp)가 5였으나, for문을 돌면서 len이 증가나 감소해도, for문은 여전히 5로 다섯번을 돈다!"
   ]
  },
  {
   "cell_type": "code",
   "execution_count": 69,
   "metadata": {},
   "outputs": [
    {
     "name": "stdout",
     "output_type": "stream",
     "text": [
      "abcabcabcabcdededededede\n",
      "1 abcabcabcabcdededededede\n",
      "2 abcabcabcabc6de\n",
      "3 4abcdededededede\n",
      "4 abcabcabcabc3dede\n",
      "5 abcabcabcabcdededededede\n",
      "6 2abcabc2dedede\n",
      "7 abcabcabcabcdededededede\n",
      "8 abcabcabcabcdededededede\n",
      "9 abcabcabcabcdededededede\n",
      "10 abcabcabcabcdededededede\n",
      "11 abcabcabcabcdededededede\n",
      "12 abcabcabcabcdededededede\n",
      "14\n"
     ]
    }
   ],
   "source": [
    "data = input()\n",
    "temp = data\n",
    "\n",
    "#start: start+token , start+token, start+ 2*token\n",
    "\n",
    "length = []\n",
    "for i in range(1,len(data)//2+1):\n",
    "    temp = data\n",
    "    token = i\n",
    "    result = ''\n",
    "    while True:\n",
    "        start = 0\n",
    "        end = start + 2*token\n",
    "        cnt = 0\n",
    "\n",
    "        if start >= len(temp): #while문을 종료시키기\n",
    "            break\n",
    "\n",
    "        while True: #중복이 몇개되나 살피기\n",
    "            if end > len(temp):\n",
    "                break\n",
    "            if temp[start:start+token] == temp[start+token:start+2*token]:\n",
    "                cnt += 1\n",
    "                start += token # 원래는 +1\n",
    "                end += token\n",
    "            else:\n",
    "                break\n",
    "        #cnt만큼 result에 넣기\n",
    "        if cnt > 0:\n",
    "            result += str(cnt+1) + temp[:token]\n",
    "        else:\n",
    "            result += temp[:token]\n",
    "        temp = temp[(cnt+1)*token:]\n",
    "    print(token, result)\n",
    "    length.append(len(result))\n",
    "print(min(length))"
   ]
  },
  {
   "cell_type": "code",
   "execution_count": 60,
   "metadata": {},
   "outputs": [
    {
     "data": {
      "text/plain": [
       "[20, 12, 10, 13, 12]"
      ]
     },
     "execution_count": 60,
     "metadata": {},
     "output_type": "execute_result"
    }
   ],
   "source": [
    "length"
   ]
  },
  {
   "cell_type": "code",
   "execution_count": 39,
   "metadata": {},
   "outputs": [
    {
     "data": {
      "text/plain": [
       "4"
      ]
     },
     "execution_count": 39,
     "metadata": {},
     "output_type": "execute_result"
    }
   ],
   "source": [
    "cnt = 0\n",
    "alpha = 'abcd'\n",
    "while(cnt < len(alpha)):\n",
    "    alpha.replace('a','')\n",
    "    cnt += 1\n",
    "cnt"
   ]
  },
  {
   "cell_type": "code",
   "execution_count": 34,
   "metadata": {},
   "outputs": [
    {
     "data": {
      "text/plain": [
       "'bcd'"
      ]
     },
     "execution_count": 34,
     "metadata": {},
     "output_type": "execute_result"
    }
   ],
   "source": [
    "alpha"
   ]
  },
  {
   "cell_type": "code",
   "execution_count": 41,
   "metadata": {},
   "outputs": [
    {
     "data": {
      "text/plain": [
       "'ababcdc'"
      ]
     },
     "execution_count": 41,
     "metadata": {},
     "output_type": "execute_result"
    }
   ],
   "source": [
    "temp[0:7]"
   ]
  },
  {
   "cell_type": "code",
   "execution_count": null,
   "metadata": {},
   "outputs": [],
   "source": []
  }
 ],
 "metadata": {
  "kernelspec": {
   "display_name": "Python 3",
   "language": "python",
   "name": "python3"
  },
  "language_info": {
   "codemirror_mode": {
    "name": "ipython",
    "version": 3
   },
   "file_extension": ".py",
   "mimetype": "text/x-python",
   "name": "python",
   "nbconvert_exporter": "python",
   "pygments_lexer": "ipython3",
   "version": "3.8.3"
  }
 },
 "nbformat": 4,
 "nbformat_minor": 4
}
