{
 "cells": [
  {
   "cell_type": "markdown",
   "metadata": {},
   "source": [
    "# 플로이드: 11404번\n",
    "\n",
    "시간초과: 자기자신으로 이동할때 0으로 marking하는 영역을 삼중 for문 안에서 해결하였다.\n",
    "\n",
    "틀렸습니다: 갈 수 있는 경로가 없을 때는 0을 출력해야 되는데 깜빡함.."
   ]
  },
  {
   "cell_type": "code",
   "execution_count": 28,
   "metadata": {},
   "outputs": [
    {
     "name": "stdout",
     "output_type": "stream",
     "text": [
      "5\n",
      "14\n",
      "1 2 2\n",
      "1 3 3\n",
      "1 4 1\n",
      "1 5 10\n",
      "2 4 2\n",
      "3 4 1\n",
      "3 5 1\n",
      "4 5 3\n",
      "3 5 10\n",
      "3 1 8\n",
      "1 4 2\n",
      "5 1 7\n",
      "3 4 2\n",
      "5 2 4\n"
     ]
    }
   ],
   "source": [
    "#플로이드 워셜 알고리즘을 가지고 문제를 풀어보자\n",
    "\n",
    "n = int(input()) # 도시 개수\n",
    "m = int(input()) # 버스 개수\n",
    "INF = int(1e7+1)\n",
    "bus = [[INF]*(n+1) for _ in range(n+1)] #버스 정보\n",
    "\n",
    "#자기 자신으로 이동\n",
    "for i in range(1,n+1):\n",
    "    bus[i][i] = 0\n",
    "\n",
    "\n",
    "# 입력\n",
    "for _ in range(m):\n",
    "    a,b,c = map(int, input().split()) #출발, 도착, 비용\n",
    "    bus[a][b] = min(bus[a][b],c) # a번째에 도착지와 비용을 기록해놓는다.\n",
    "\n",
    "#알고리즘\n",
    "#하나의 node를 고정시키고, 점화식 수행\n",
    "for k in range(1,n+1):\n",
    "    for a in range(1,n+1):\n",
    "        for b in range(1,n+1):\n",
    "            if a == b:\n",
    "                bus[a][b] = 0\n",
    "            else:\n",
    "                bus[a][b] = min(bus[a][b], bus[a][k] + bus[k][b])\n",
    "#출력\n",
    "for i in range(1,n+1):\n",
    "    for j in range(1,n+1):\n",
    "        print(bus[i][j], end = \" \")\n",
    "    print()\n"
   ]
  },
  {
   "cell_type": "code",
   "execution_count": 33,
   "metadata": {},
   "outputs": [
    {
     "name": "stdout",
     "output_type": "stream",
     "text": [
      "5\n",
      "14\n",
      "1 2 2\n",
      "1 3 3\n",
      "1 4 1\n",
      "1 5 10\n",
      "2 4 2\n",
      "3 4 1\n",
      "3 5 1\n",
      "4 5 3\n",
      "3 5 10\n",
      "3 1 8\n",
      "1 4 2\n",
      "5 1 7\n",
      "3 4 2\n",
      "5 2 4\n",
      "11 2 3 1 4 \n",
      "12 9 15 2 5 \n",
      "8 5 11 1 1 \n",
      "10 7 13 9 3 \n",
      "7 4 10 6 9 \n"
     ]
    }
   ],
   "source": [
    "#플로이드 워셜 알고리즘을 가지고 문제를 풀어보자\n",
    "\n",
    "n = int(input()) # 도시 개수\n",
    "m = int(input()) # 버스 개수\n",
    "INF = int(1e7+1)\n",
    "bus = [[INF]*(n+1) for _ in range(n+1)] #버스 정보\n",
    "\n",
    "# 입력\n",
    "for _ in range(m):\n",
    "    a,b,c = map(int, input().split()) #출발, 도착, 비용\n",
    "    bus[a][b] = min(bus[a][b],c) # a번째에 도착지와 비용을 기록해놓는다.\n",
    "\n",
    "#알고리즘\n",
    "#하나의 node를 고정시키고, 점화식 수행\n",
    "for k in range(1,n+1):\n",
    "    for a in range(1,n+1):\n",
    "        for b in range(1,n+1):\n",
    "            if a == b:\n",
    "                bus[a][b] = 0\n",
    "            else:\n",
    "                bus[a][b] = min(bus[a][b], bus[a][k] + bus[k][b])\n",
    "#출력\n",
    "for i in range(1,n+1):\n",
    "    for j in range(1,n+1):\n",
    "        if bus[i][j] == \"INF\":\n",
    "            print(0, end = \" \")\n",
    "        else:\n",
    "            print(bus[i][j], end = \" \")\n",
    "    print()\n"
   ]
  },
  {
   "cell_type": "code",
   "execution_count": 37,
   "metadata": {},
   "outputs": [
    {
     "name": "stdout",
     "output_type": "stream",
     "text": [
      "11 2 3 0 4 \n",
      "12 9 15 2 5 \n",
      "8 5 11 0 0 \n",
      "10 7 13 9 3 \n",
      "7 4 10 6 9 \n"
     ]
    }
   ],
   "source": [
    "#출력\n",
    "for i in range(1,n+1):\n",
    "    for j in range(1,n+1):\n",
    "        if bus[i][j] == INF:\n",
    "            print(0, end = \" \")\n",
    "        else:\n",
    "            print(bus[i][j], end = \" \")\n",
    "    print()"
   ]
  },
  {
   "cell_type": "markdown",
   "metadata": {},
   "source": [
    "# 최단경로: 백준 1753번"
   ]
  },
  {
   "cell_type": "code",
   "execution_count": 38,
   "metadata": {},
   "outputs": [
    {
     "name": "stdout",
     "output_type": "stream",
     "text": [
      "5 6\n",
      "1\n",
      "5 1 1\n",
      "1 2 2\n",
      "1 3 3\n",
      "2 3 4\n",
      "2 4 5\n",
      "3 4 6\n"
     ]
    }
   ],
   "source": [
    "#vertext 개수, edge 개수, start입력 받기\n",
    "V,E = map(int, input().split())\n",
    "start = int(input())\n",
    "\n",
    "# distance 정의\n",
    "INF = 20000 * 300000 * 10\n",
    "distance = [INF] * (V+1)\n",
    "\n",
    "# graph 입력받기\n",
    "graph = [[] for _ in range(V+1)]\n",
    "for _ in range(E):\n",
    "    a,b,c = map(int, input().split())\n",
    "    graph[a].append((b,c)) #도착, wegiht\n",
    "\n",
    "\n"
   ]
  },
  {
   "cell_type": "code",
   "execution_count": 40,
   "metadata": {},
   "outputs": [],
   "source": [
    "import copy\n",
    "graph2 = copy.deepcopy(graph)\n",
    "\n",
    "\n"
   ]
  },
  {
   "cell_type": "code",
   "execution_count": 51,
   "metadata": {},
   "outputs": [
    {
     "name": "stdout",
     "output_type": "stream",
     "text": [
      "[(0, 1)]\n",
      "0\n",
      "2\n",
      "3\n",
      "7\n",
      "INF\n"
     ]
    }
   ],
   "source": [
    "import heapq\n",
    "\n",
    "q = []\n",
    "heapq.heappush(q,(0,start))\n",
    "distance[start] = 0\n",
    "\n",
    "while q:\n",
    "    print(q)\n",
    "    dist, now = heapq.heappop(q)    \n",
    "    if distance[now] < dist: # 수정되었음을 의미한다.\n",
    "        continue\n",
    "    for i in graph[now]:\n",
    "        cost = dist + i[1]\n",
    "        if cost < distance[i[0]]:\n",
    "            distance[i[0]] = cost\n",
    "            heapq.heappush(q, (cost,i[0]))\n",
    "    \n",
    "    \n",
    "for i in range(1,V+1):\n",
    "    if distance[i] == INF:\n",
    "        print(\"INF\")\n",
    "    else:\n",
    "        print(distance[i])"
   ]
  },
  {
   "cell_type": "code",
   "execution_count": 52,
   "metadata": {},
   "outputs": [
    {
     "data": {
      "text/plain": [
       "[[], [(2, 2), (3, 3)], [(3, 4), (4, 5)], [(4, 6)], [], [(1, 1)]]"
      ]
     },
     "execution_count": 52,
     "metadata": {},
     "output_type": "execute_result"
    }
   ],
   "source": [
    "graph"
   ]
  },
  {
   "cell_type": "code",
   "execution_count": null,
   "metadata": {},
   "outputs": [],
   "source": []
  }
 ],
 "metadata": {
  "kernelspec": {
   "display_name": "Python 3",
   "language": "python",
   "name": "python3"
  },
  "language_info": {
   "codemirror_mode": {
    "name": "ipython",
    "version": 3
   },
   "file_extension": ".py",
   "mimetype": "text/x-python",
   "name": "python",
   "nbconvert_exporter": "python",
   "pygments_lexer": "ipython3",
   "version": "3.8.3"
  }
 },
 "nbformat": 4,
 "nbformat_minor": 4
}
