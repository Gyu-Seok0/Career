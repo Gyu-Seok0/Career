{
 "cells": [
  {
   "cell_type": "markdown",
   "metadata": {},
   "source": [
    "# N과 M(1): 백준 15649번\n",
    "- 백트래킹에서 중요한 점: 이전상태로 복구하기\n",
    "- *array를 쓰면 [1,2,3,4]로 되어 있는 array가 string으로출력 됌\n",
    "- Join은 리스트를 string으로 묶어주는데, 이때 리스트가 string으로 구성되야 한다."
   ]
  },
  {
   "cell_type": "code",
   "execution_count": 48,
   "metadata": {},
   "outputs": [
    {
     "name": "stdout",
     "output_type": "stream",
     "text": [
      "3 1\n",
      "1\n",
      "2\n",
      "3\n"
     ]
    }
   ],
   "source": [
    "#방법1\n",
    "N, M = map(int, input().split())\n",
    "array = [i for i in range(1,N+1)]\n",
    "visited = [False] * (N+1)\n",
    "\n",
    "def DFS(arr,visited,result):\n",
    "    if len(result) == M:\n",
    "        print(\" \".join(map(str,result)))\n",
    "        \n",
    "    else:\n",
    "        for now in arr:\n",
    "            if not visited[now]:\n",
    "                result.append(now)\n",
    "                visited[now] = True\n",
    "                DFS(arr,visited,result)\n",
    "                #백\n",
    "                visited[now] = False\n",
    "                result.remove(now)\n",
    "result = []\n",
    "DFS(array,visited,result)\n",
    "        "
   ]
  },
  {
   "cell_type": "code",
   "execution_count": 49,
   "metadata": {},
   "outputs": [
    {
     "name": "stdout",
     "output_type": "stream",
     "text": [
      "3 1\n",
      "1\n",
      "2\n",
      "3\n"
     ]
    }
   ],
   "source": [
    "#방법2\n",
    "from itertools import permutations\n",
    "N, M = map(int, input().split())\n",
    "for i in permutations(range(1,N+1),M):\n",
    "    print(\" \".join(map(str,i)))"
   ]
  },
  {
   "cell_type": "code",
   "execution_count": 55,
   "metadata": {},
   "outputs": [
    {
     "name": "stdout",
     "output_type": "stream",
     "text": [
      "3 1\n",
      "1\n",
      "2\n",
      "3\n"
     ]
    }
   ],
   "source": [
    "#방법1\n",
    "N, M = map(int, input().split())\n",
    "visited = [False] * (N+1)\n",
    "def DFS(arr,visited,result):\n",
    "    if len(result) == M:\n",
    "        print(*result) #리스트를 array로 바꿔줌\n",
    "    else:\n",
    "        for now in range(1,N+1):\n",
    "            if not visited[now]:\n",
    "                result.append(now)\n",
    "                visited[now] = True\n",
    "                DFS(arr,visited,result)\n",
    "                visited[now] = False\n",
    "                result.remove(now)\n",
    "DFS(array,visited,[])"
   ]
  },
  {
   "cell_type": "code",
   "execution_count": 56,
   "metadata": {},
   "outputs": [
    {
     "name": "stdout",
     "output_type": "stream",
     "text": [
      "3 1\n",
      "1\n",
      "2\n",
      "3\n"
     ]
    }
   ],
   "source": [
    "n,m = map(int, input().split())\n",
    "check = [False] * (n+1)\n",
    "arr = []\n",
    "def DFS(x):\n",
    "    if x == m:\n",
    "        print(*arr)\n",
    "    else:\n",
    "        for i in range(1,n+1):\n",
    "            if not check[i]:\n",
    "                arr.append(i)\n",
    "                check[i] = True\n",
    "                DFS(x+1) # 재귀\n",
    "                # 백트래킹 --> 이전상태 복구\n",
    "                arr.pop()\n",
    "                check[i] = False\n",
    "DFS(0)"
   ]
  },
  {
   "cell_type": "markdown",
   "metadata": {},
   "source": [
    "# N과 M(2): 백준 15650번 "
   ]
  },
  {
   "cell_type": "code",
   "execution_count": 64,
   "metadata": {},
   "outputs": [
    {
     "name": "stdout",
     "output_type": "stream",
     "text": [
      "3 1\n",
      "1\n",
      "2\n",
      "3\n"
     ]
    }
   ],
   "source": [
    "#방법1\n",
    "N,M = map(int, input().split())\n",
    "check = [False] * (N+1)\n",
    "arr = [-1]\n",
    "def dfs(x):\n",
    "    if x == M:\n",
    "        print(*(arr[1:]))\n",
    "    else:\n",
    "        for i in range(1,N+1):\n",
    "            if not check[i] and i > arr[-1]:\n",
    "                arr.append(i)\n",
    "                check[i] = True\n",
    "                dfs(x+1)\n",
    "                arr.pop()\n",
    "                check[i] = False      \n",
    "dfs(0)"
   ]
  },
  {
   "cell_type": "code",
   "execution_count": 67,
   "metadata": {},
   "outputs": [
    {
     "name": "stdout",
     "output_type": "stream",
     "text": [
      "4 2\n",
      "1 2\n",
      "1 3\n",
      "1 4\n",
      "2 3\n",
      "2 4\n",
      "3 4\n"
     ]
    }
   ],
   "source": [
    "#방법2\n",
    "N,M = map(int, input().split())\n",
    "visited = [False] * (N+1)\n",
    "out = []\n",
    "\n",
    "def dfs(depth, idx):\n",
    "    if depth == M:\n",
    "        print(*out)\n",
    "    else:\n",
    "        for i in range(idx, N+1): # 이부분이 핵심이다.\n",
    "            if not visited[i]:\n",
    "                visited[i] = True\n",
    "                out.append(i)\n",
    "                # 리커시브\n",
    "                dfs(depth+1, i+1)\n",
    "                visited[i] = False\n",
    "                out.pop()\n",
    "    \n",
    "dfs(0,1)"
   ]
  },
  {
   "cell_type": "code",
   "execution_count": 128,
   "metadata": {},
   "outputs": [
    {
     "name": "stdout",
     "output_type": "stream",
     "text": [
      "6\n",
      "0 1 2 3 4 5\n",
      "1 0 2 3 4 5\n",
      "1 2 0 3 4 5\n",
      "1 2 3 0 4 5\n",
      "1 2 3 4 0 5\n",
      "1 2 3 4 5 0\n"
     ]
    }
   ],
   "source": [
    "# 스타트와 링크\n",
    "from itertools import combinations\n",
    "\n",
    "N = int(input())\n",
    "arr = [0]*(N+1)\n",
    "for i in range(1,N+1):\n",
    "    arr[i] = [0] + list(map(int, input().split())) "
   ]
  },
  {
   "cell_type": "code",
   "execution_count": 129,
   "metadata": {},
   "outputs": [
    {
     "name": "stdout",
     "output_type": "stream",
     "text": [
      "2\n"
     ]
    }
   ],
   "source": [
    "result = 1e10\n",
    "for i in combinations(range(1,N+1),int(N/2)):\n",
    "    team = i\n",
    "    A, B = 0,0\n",
    "    for j in range(1,N):\n",
    "        for k in range(j+1,N+1):\n",
    "            if j in team and k in team:\n",
    "                A += arr[j][k] + arr[k][j]\n",
    "            elif j not in team and k not in team:\n",
    "                B += arr[j][k] + arr[k][j]\n",
    "    result = min(result, abs(A-B))\n",
    "print(result)"
   ]
  },
  {
   "cell_type": "code",
   "execution_count": null,
   "metadata": {},
   "outputs": [],
   "source": []
  }
 ],
 "metadata": {
  "kernelspec": {
   "display_name": "Python 3",
   "language": "python",
   "name": "python3"
  },
  "language_info": {
   "codemirror_mode": {
    "name": "ipython",
    "version": 3
   },
   "file_extension": ".py",
   "mimetype": "text/x-python",
   "name": "python",
   "nbconvert_exporter": "python",
   "pygments_lexer": "ipython3",
   "version": "3.8.3"
  }
 },
 "nbformat": 4,
 "nbformat_minor": 4
}
