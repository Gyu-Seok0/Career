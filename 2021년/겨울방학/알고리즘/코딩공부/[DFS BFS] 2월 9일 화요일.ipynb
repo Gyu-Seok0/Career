{
 "cells": [
  {
   "cell_type": "markdown",
   "metadata": {},
   "source": [
    "# 단지번호붙이기: 백준2667번\n",
    "\n",
    "1) 입력<br>\n",
    "2) 알고리즘\n",
    "- DFS를 통해서 연결되어있는지를 확인하고, 연결된 주택단지의 개수를 저장하자(result = [])\n",
    "\n",
    "3) 출력(단지수, 각 단지별 주택 수)"
   ]
  },
  {
   "cell_type": "code",
   "execution_count": 46,
   "metadata": {},
   "outputs": [
    {
     "name": "stdout",
     "output_type": "stream",
     "text": [
      "5\n",
      "11100\n",
      "01000\n",
      "11010\n",
      "01010\n",
      "00111\n",
      "2\n",
      "5\n",
      "7\n"
     ]
    }
   ],
   "source": [
    "N = int(input())\n",
    "graph = [[] for _ in range(N)]\n",
    "for i in range(N):\n",
    "    temp = input()\n",
    "    for j in range(N):\n",
    "        graph[i].append(temp[j])\n",
    "cnt = 0\n",
    "def dfs(row,col):\n",
    "    global cnt\n",
    "    cnt += 1\n",
    "    graph[row][col] = \"0\"\n",
    "    dx = [-1,1,0,0] # 상/하/좌/우\n",
    "    dy = [0,0,-1,1]\n",
    "    for i in range(4):\n",
    "        tx = row + dx[i]\n",
    "        ty = col + dy[i]\n",
    "        if tx < 0 or tx >= N or ty < 0 or ty >= N:\n",
    "            continue\n",
    "        else:\n",
    "            if graph[tx][ty] == \"1\":\n",
    "                dfs(tx,ty)\n",
    "result = []\n",
    "for i in range(N):\n",
    "    for j in range(N):\n",
    "        if graph[i][j] == \"1\": #DFS\n",
    "            dfs(i,j)\n",
    "            result.append(cnt)\n",
    "            cnt = 0\n",
    "result.sort()\n",
    "print(len(result))\n",
    "for now in result:\n",
    "    print(now)"
   ]
  },
  {
   "cell_type": "code",
   "execution_count": 52,
   "metadata": {},
   "outputs": [
    {
     "name": "stdout",
     "output_type": "stream",
     "text": [
      "7\n",
      "0110100\n",
      "0110101\n",
      "1110101\n",
      "0000111\n",
      "0100000\n",
      "0111110\n",
      "0111000\n",
      "3\n",
      "7\n",
      "8\n",
      "9\n"
     ]
    }
   ],
   "source": [
    "#다른풀이2 --> 조금은 더 편한 풀이\n",
    "#입력을 이렇게 받으면 되는구나\n",
    "#입력 끝\n",
    "N = int(input())\n",
    "graph = []\n",
    "for _ in range(N):\n",
    "    graph.append(list(map(int,input())))\n",
    "cnt = 0\n",
    "def dfs(row,col):\n",
    "    global cnt\n",
    "    if row <0 or row >= N or col <0 or col >=N:\n",
    "        return False\n",
    "    if graph[row][col] == 1:\n",
    "        cnt+=1\n",
    "        graph[row][col] = 0\n",
    "        dfs(row+1,col)\n",
    "        dfs(row-1,col)\n",
    "        dfs(row,col+1)\n",
    "        dfs(row,col-1)\n",
    "        return True\n",
    "    return False\n",
    "result = []\n",
    "for i in range(N):\n",
    "    for j in range(N):\n",
    "        if dfs(i,j):\n",
    "            result.append(cnt)\n",
    "            cnt = 0\n",
    "print(len(result))\n",
    "for now in sorted(result):\n",
    "    print(now)"
   ]
  },
  {
   "cell_type": "code",
   "execution_count": 54,
   "metadata": {},
   "outputs": [
    {
     "name": "stdout",
     "output_type": "stream",
     "text": [
      "1\n",
      "3\n",
      "4\n"
     ]
    }
   ],
   "source": [
    "a = [1,3,4]\n",
    "for i in sorted(a):\n",
    "    print(i)"
   ]
  },
  {
   "cell_type": "code",
   "execution_count": null,
   "metadata": {},
   "outputs": [],
   "source": []
  }
 ],
 "metadata": {
  "kernelspec": {
   "display_name": "Python 3",
   "language": "python",
   "name": "python3"
  },
  "language_info": {
   "codemirror_mode": {
    "name": "ipython",
    "version": 3
   },
   "file_extension": ".py",
   "mimetype": "text/x-python",
   "name": "python",
   "nbconvert_exporter": "python",
   "pygments_lexer": "ipython3",
   "version": "3.8.3"
  }
 },
 "nbformat": 4,
 "nbformat_minor": 4
}
