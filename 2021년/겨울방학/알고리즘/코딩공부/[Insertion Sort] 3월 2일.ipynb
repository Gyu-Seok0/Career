{
 "cells": [
  {
   "cell_type": "code",
   "execution_count": 4,
   "metadata": {},
   "outputs": [
    {
     "name": "stdout",
     "output_type": "stream",
     "text": [
      "[1, 5, 3, 7, 2, 8, 4, 9]\n",
      "[1, 3, 5, 7, 2, 8, 4, 9]\n",
      "[1, 3, 5, 7, 2, 8, 4, 9]\n",
      "[1, 2, 3, 5, 7, 8, 4, 9]\n",
      "[1, 2, 3, 5, 7, 8, 4, 9]\n",
      "[1, 2, 3, 4, 5, 7, 8, 9]\n",
      "[1, 2, 3, 4, 5, 7, 8, 9]\n"
     ]
    }
   ],
   "source": [
    "array = [1,5,3,7,2,8,4,9]\n",
    "\n",
    "for i in range(1,len(array)):\n",
    "    idx = i\n",
    "    while array[idx-1] > array[idx]: #바로 앞의 값이 나보다 크다면,\n",
    "        #자리를 바꿔주면 되는구나\n",
    "        array[idx-1],array[idx] = array[idx], array[idx-1]\n",
    "        idx -= 1\n",
    "    print(array)"
   ]
  },
  {
   "cell_type": "code",
   "execution_count": 2,
   "metadata": {},
   "outputs": [
    {
     "data": {
      "text/plain": [
       "[1, 5, 5, 7, 5, 8, 5, 9]"
      ]
     },
     "execution_count": 2,
     "metadata": {},
     "output_type": "execute_result"
    }
   ],
   "source": [
    "# 삽입정렬 (O(n2))\n",
    "# 필요할 때만 위치를 바꾼다.\n",
    "#\n",
    "nums = [1, 10, 5, 8, 7, 6, 4, 3, 2, 9]\n",
    "result = []\n",
    "\n",
    "# 앞에서부터 숫자를 하나씩 가져오고\n",
    "# 자기자신의 앞부분을 비교한다\n",
    "# 비교했을때 나보다 큰 값을 만나면 자리를 바꾼다.\n",
    "# 나보다 작은 값을 만나면 그 자리에 있으면 되고, break\n",
    "start = time.time()\n",
    "for i in range(1,len(nums)):\n",
    "    idx = i\n",
    "    while (nums[idx-1] > nums[idx]): # 멈출 수 있다. 효율적 \n",
    "        temp = nums[idx]\n",
    "        nums[idx] = nums[idx-1]\n",
    "        nums[idx-1] = temp\n",
    "        idx -= 1\n",
    "end = time.time()\n",
    "nums\n",
    "print(end - start)"
   ]
  },
  {
   "cell_type": "code",
   "execution_count": null,
   "metadata": {},
   "outputs": [],
   "source": []
  }
 ],
 "metadata": {
  "kernelspec": {
   "display_name": "Python 3",
   "language": "python",
   "name": "python3"
  },
  "language_info": {
   "codemirror_mode": {
    "name": "ipython",
    "version": 3
   },
   "file_extension": ".py",
   "mimetype": "text/x-python",
   "name": "python",
   "nbconvert_exporter": "python",
   "pygments_lexer": "ipython3",
   "version": "3.8.3"
  }
 },
 "nbformat": 4,
 "nbformat_minor": 4
}
