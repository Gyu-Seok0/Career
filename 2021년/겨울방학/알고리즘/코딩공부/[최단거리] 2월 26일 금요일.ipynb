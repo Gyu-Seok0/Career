{
 "cells": [
  {
   "cell_type": "markdown",
   "metadata": {},
   "source": [
    "# 특정한 최단 경로: 백준1504번\n",
    "- 처음에 감을 못잡았는데,\n",
    "start --> v1 --> v2 --> end \n",
    "or\n",
    "start --> v2 --> v1 --> end \n",
    "둘 중에 하나로 이해하는 것까지 완료하였다.\n",
    "\n",
    "그리고 나서\n",
    "1) 워셜플로이드\n",
    "2) 다익스트라 \n",
    "\n",
    "알고리즘을 활용한 결과,\n",
    "워설플로이드는 기본적으로 삼중for문이기 때문에 시간초과가 발생한다.\n",
    "그런 반면, heapq(우선순위큐)를 이용한 다익스트라에서는 시간복잡도가 nlong\n"
   ]
  },
  {
   "cell_type": "code",
   "execution_count": 16,
   "metadata": {},
   "outputs": [
    {
     "name": "stdout",
     "output_type": "stream",
     "text": [
      "4 5\n",
      "1 2 10\n",
      "1 3 11\n",
      "2 3 20\n",
      "2 4 30\n",
      "3 4 100\n",
      "2 3\n"
     ]
    }
   ],
   "source": [
    "N,E = map(int, input().split())\n",
    "graph = [[] for _ in range(N+1)]\n",
    "INF = 1e9\n",
    "\n",
    "for _ in range(E):\n",
    "    a,b,c = map(int,input().split())\n",
    "    graph[a].append((b,c))\n",
    "    graph[b].append((a,c))\n",
    "\n",
    "v1,v2 = map(int,input().split())"
   ]
  },
  {
   "cell_type": "code",
   "execution_count": 21,
   "metadata": {},
   "outputs": [
    {
     "name": "stdout",
     "output_type": "stream",
     "text": [
      "2 [1000000000.0, 0, 10, 11, 40]\n",
      "3 [1000000000.0, 0, 10, 11, 40]\n",
      "4 [1000000000.0, 0, 10, 11, 40]\n"
     ]
    }
   ],
   "source": [
    "#기본적인 내용(다익스트라 알고리즘)\n",
    "# 먼저 1번부터 N번까지 나아근 최단거리를 확인해보자. \n",
    "# 거리 조정(1번부터)\n",
    "distance = [INF]*(N+1)\n",
    "visited = [False] * (N+1)\n",
    "\n",
    "distance[1] = 0\n",
    "visited[1] = True\n",
    "\n",
    "def get_smallest_node():\n",
    "    min_value = INF\n",
    "    index = 0\n",
    "    for i in range(1,N+1):\n",
    "        if distance[i] < min_value and not visited[i]:\n",
    "            min_value = distance[i]\n",
    "            index = i\n",
    "    return index\n",
    "\n",
    "#start에 있는 노드를 기준으로 distance 갱신하기.\n",
    "for j in graph[1]:\n",
    "    distance[j[0]] = j[1]\n",
    "\n",
    "for i in range(N-1):\n",
    "    now = get_smallest_node() #최단거리에 있는 다음 index\n",
    "    visited[now] = True\n",
    "    for j in graph[now]: #갱신\n",
    "            distance[j[0]] = min(distance[j[0]], distance[now] + j[1])\n",
    "    print(now, distance)\n"
   ]
  },
  {
   "cell_type": "code",
   "execution_count": 18,
   "metadata": {},
   "outputs": [
    {
     "data": {
      "text/plain": [
       "[[],\n",
       " [(2, 10), (3, 11)],\n",
       " [(1, 10), (3, 20), (4, 30)],\n",
       " [(1, 11), (2, 20), (4, 100)],\n",
       " [(2, 30), (3, 100)]]"
      ]
     },
     "execution_count": 18,
     "metadata": {},
     "output_type": "execute_result"
    }
   ],
   "source": [
    "# 다시 제대로된 문제풀이\n",
    "N,E = map(int, input().split())\n",
    "graph = [[] for _ in range(N+1)]\n",
    "INF = 1e9\n",
    "\n",
    "for _ in range(E):\n",
    "    a,b,c = map(int,input().split())\n",
    "    graph[a].append((b,c))\n",
    "    graph[b].append((a,c))\n",
    "\n",
    "v1,v2 = map(int,input().split())\n",
    "\n",
    "\n",
    "\n"
   ]
  },
  {
   "cell_type": "code",
   "execution_count": 22,
   "metadata": {},
   "outputs": [],
   "source": [
    "# start --> v1 --> v2 --> end 순으로 이동.\n",
    "\n",
    "distance = [INF]*(N+1)\n",
    "distance[1] = 0\n",
    "# 1) 출발\n",
    "for j in graph[1]:\n",
    "    distance[j[0]] = j[1]\n",
    "    \n",
    "# 2) 도착지 v1\n",
    "start = end\n",
    "end = v1\n",
    "while start != end:\n",
    "    now = get"
   ]
  },
  {
   "cell_type": "code",
   "execution_count": 40,
   "metadata": {},
   "outputs": [
    {
     "name": "stdout",
     "output_type": "stream",
     "text": [
      "2 0\n",
      "1 2\n",
      "-1\n"
     ]
    }
   ],
   "source": [
    "#워셜플로이드 알고리즘과 같은 경우 시간초과가 발생한다. \n",
    "\n",
    "INF = int(1e9)\n",
    "\n",
    "# 노드 및 간선의 개수 \n",
    "n,m = map(int, input().split())\n",
    "\n",
    "# 2차원 리스트\n",
    "graph = [[INF]*(n+1) for _ in range(n+1)]\n",
    "\n",
    "# 자기 자기신에서 자기 자신으로 가는 비용은 0으로 초기화\n",
    "for a in range(1,n+1):\n",
    "    for b in range(1,n+1):\n",
    "        if a == b:\n",
    "            graph[a][b] = 0\n",
    "\n",
    "# 각 간선에 대한 정보 입력 받기\n",
    "for _ in range(m):\n",
    "    a, b, c = map(int, input().split())\n",
    "    graph[a][b] = c\n",
    "    graph[b][a] = c\n",
    "v1,v2 = map(int, input().split())\n",
    "\n",
    "# 점화식에 따라 플로이드 워셜 알고리즘을 수행\n",
    "for k in range(1, n+1):\n",
    "    for a in range(1, n+1):\n",
    "        for b in range(1,n+1):\n",
    "            graph[a][b] = min (graph[a][b], graph[a][k] + graph[k][b])\n",
    "ans = min(graph[1][v1] + graph[v1][v2] + graph[v2][n],  graph[1][v2] + graph[v2][v1] + graph[v1][n])\n",
    "if ans == INF:\n",
    "    print(-1)\n",
    "else:\n",
    "    print(ans)"
   ]
  },
  {
   "cell_type": "code",
   "execution_count": 65,
   "metadata": {},
   "outputs": [
    {
     "name": "stdout",
     "output_type": "stream",
     "text": [
      "2 0\n",
      "1 2\n"
     ]
    }
   ],
   "source": [
    "import heapq\n",
    "\n",
    "INF = int(1e9)\n",
    "\n",
    "# 노드 및 간선의 개수 \n",
    "n,m = map(int, input().split())\n",
    "\n",
    "# 2차원 리스트\n",
    "graph = [[] for _ in range(n+1)]\n",
    "\n",
    "# graph 입력받기\n",
    "for _ in range(m):\n",
    "    a,b,c = map(int, input().split())\n",
    "    graph[a].append((b,c))\n",
    "    graph[b].append((a,c))\n",
    "v1,v2 = map(int, input().split())\n",
    "\n",
    "def dijkstra(start):\n",
    "    distance = [INF]*(n+1)\n",
    "    distance[start] = 0\n",
    "    \n",
    "    q = []\n",
    "    heapq.heappush(q, (0,start))\n",
    "    while q:\n",
    "        dist, now = heapq.heappop(q)\n",
    "        if distance[now] < dist: # 갱신되어졌다면\n",
    "            continue\n",
    "        # 다른 노드 확인\n",
    "        for i in graph[now]:\n",
    "            cost = dist + i[1]\n",
    "            if cost < distance[i[0]]:\n",
    "                distance[i[0]] = cost\n",
    "                heapq.heappush(q,(cost,i[0]))\n",
    "    return distance\n",
    "\n",
    "start_ = dijkstra(1)\n",
    "v1_ = dijkstra(v1)\n",
    "v2_ = dijkstra(v2)\n",
    "\n",
    "ans = min(start_[v1] + v1_[v2] + v2_[n], start_[v2] + v2_[v1] + v1_[n]) \n",
    "if ans < INF:\n",
    "    print(ans)\n",
    "else:\n",
    "    print(-1)"
   ]
  }
 ],
 "metadata": {
  "kernelspec": {
   "display_name": "Python 3",
   "language": "python",
   "name": "python3"
  },
  "language_info": {
   "codemirror_mode": {
    "name": "ipython",
    "version": 3
   },
   "file_extension": ".py",
   "mimetype": "text/x-python",
   "name": "python",
   "nbconvert_exporter": "python",
   "pygments_lexer": "ipython3",
   "version": "3.8.3"
  }
 },
 "nbformat": 4,
 "nbformat_minor": 4
}
