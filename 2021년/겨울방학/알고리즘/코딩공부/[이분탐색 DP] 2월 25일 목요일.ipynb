{
 "cells": [
  {
   "cell_type": "markdown",
   "metadata": {},
   "source": [
    "# 공유기 설치: 백준 2110번\n",
    "- 공유기를 어떻게 설치하면 좋을까?\n",
    "- 이진탐색 사용하기\n",
    "- 가장 짧은 거리와 가장 긴 거리를 두고, mid를 옮기면서 공유기를 적절하게 설치하는 mid를 찾으면 된다.\n",
    "\n"
   ]
  },
  {
   "cell_type": "code",
   "execution_count": null,
   "metadata": {},
   "outputs": [],
   "source": [
    "# 기본적인 binary search\n",
    "def binary_search(array, target, start, end):\n",
    "    while start <= end:\n",
    "        mid = (start + end) // 2\n",
    "        if array[mid] == target:\n",
    "            return mid # index\n",
    "        elif array[mid] > target: # target이 왼쪽에 있다면\n",
    "            end = mid - 1\n",
    "        else:\n",
    "            start = mid + 1\n",
    "    return None\n",
    "\n",
    "n, target = list(map(int, input().split()))\n",
    "array = list(map(int, input().split()))\n",
    "\n",
    "result = binary_search(array, target, 0, n-1)\n",
    "if result == None:\n",
    "    print(\"원소가 존재하지 않습니다.\")\n",
    "else:\n",
    "    print(result + 1)"
   ]
  },
  {
   "cell_type": "code",
   "execution_count": null,
   "metadata": {},
   "outputs": [],
   "source": [
    "N, C = map(int, input().split())\n",
    "house = [int(input()) for _ in range(N)]"
   ]
  },
  {
   "cell_type": "code",
   "execution_count": null,
   "metadata": {},
   "outputs": [],
   "source": [
    "N, C = map(int, input().split())\n",
    "house = [int(input()) for _ in range(N)]\n",
    "#뭔가실패\n",
    "house.sort()\n",
    "start = 1 #제일 작은 거리 L1\n",
    "end = house[-1] - house[0] # 제일 큰 거리 L2\n",
    "\n",
    "result = 0\n",
    "while start <= end:\n",
    "    mid = (start + end) // 2\n",
    "    #첫번째 집에는 공유기 설치\n",
    "    value = house[0]\n",
    "    cnt = 1\n",
    "    for i in range(1,N):\n",
    "        if house[i] >= value + mid: # mid값은 고정이네\n",
    "            value = house[i]\n",
    "            cnt += 1\n",
    "    if cnt >= C: #공유기를 많이설치했으면 mid값을 늘려야지\n",
    "        start = mid + 1\n",
    "        result = mid\n",
    "        \n",
    "    else: #공유기를 많이 설치못했다. mid값을 줄여야지\n",
    "        end = mid - 1\n",
    "print(result)"
   ]
  },
  {
   "cell_type": "code",
   "execution_count": 4,
   "metadata": {},
   "outputs": [
    {
     "name": "stdout",
     "output_type": "stream",
     "text": [
      "3 3\n",
      "1\n",
      "2\n",
      "3\n",
      "1\n"
     ]
    }
   ],
   "source": [
    "# 내 방식으로 한 번 정리해보자.\n",
    "n,c = map(int,input().split())\n",
    "house = sorted([int(input()) for _ in range(n)])\n",
    "left = 1 #최소거리\n",
    "right = house[-1] - house[0] #최대거리\n",
    "result = 0\n",
    "while left <= right:\n",
    "    mid = (left + right) // 2\n",
    "    #첫번째 집은 무조건 방문한다.\n",
    "    target = house[0]\n",
    "    cnt = 1\n",
    "    for i in range(1,n):\n",
    "        d = house[i] - target\n",
    "        if d >= mid:\n",
    "            target = house[i]\n",
    "            cnt += 1\n",
    "    if cnt >= c: #공유기가 너무 많이 설치 --> 간격을 넓히자\n",
    "        left = mid + 1\n",
    "        result = mid #최적의 MID를 저장합니다.\n",
    "    else: #공유기가 너무 적게 설치 --> 간격을 좁히자\n",
    "        right = mid - 1\n",
    "print(result)"
   ]
  },
  {
   "cell_type": "markdown",
   "metadata": {},
   "source": [
    "# 병사배치하기: 백준18353번\n",
    "linear하게 search 하면서 dp 값을 저장해주면 되지 않을까?"
   ]
  },
  {
   "cell_type": "code",
   "execution_count": 34,
   "metadata": {},
   "outputs": [
    {
     "name": "stdout",
     "output_type": "stream",
     "text": [
      "2\n",
      "1 3\n"
     ]
    }
   ],
   "source": [
    "N = int(input())\n",
    "array = list(map(int, input().split()))\n"
   ]
  },
  {
   "cell_type": "code",
   "execution_count": 35,
   "metadata": {},
   "outputs": [
    {
     "name": "stdout",
     "output_type": "stream",
     "text": [
      "1\n",
      "1\n"
     ]
    }
   ],
   "source": [
    "cnt = 0\n",
    "if N == 1:\n",
    "    pass\n",
    "elif array[0] < array[1]:\n",
    "    cnt += 1\n",
    "elif array[N-2] < array[N-1]:\n",
    "    cnt += 1\n",
    "for i in range(1,N-1):\n",
    "    if array[i] < array[i+1] and array[i+1] < array[i-1]:\n",
    "        cnt += 1\n",
    "print(cnt)"
   ]
  },
  {
   "cell_type": "code",
   "execution_count": 53,
   "metadata": {},
   "outputs": [
    {
     "name": "stdout",
     "output_type": "stream",
     "text": [
      "5\n",
      "3 2 1 4 5\n"
     ]
    }
   ],
   "source": [
    "#LIS알고리즘 (Longest Increasing Subsequence)\n",
    "N = int(input())\n",
    "array = list(map(int, input().split()))"
   ]
  },
  {
   "cell_type": "code",
   "execution_count": 54,
   "metadata": {},
   "outputs": [
    {
     "name": "stdout",
     "output_type": "stream",
     "text": [
      "2\n"
     ]
    }
   ],
   "source": [
    "dp = [1]*N\n",
    "for i in range(N):\n",
    "    for j in range(i):\n",
    "        if array[j] > array[i]:\n",
    "            dp[i] = max(dp[i], dp[j] + 1)\n",
    "print(N - max(dp))"
   ]
  },
  {
   "cell_type": "code",
   "execution_count": 55,
   "metadata": {},
   "outputs": [
    {
     "data": {
      "text/plain": [
       "[1, 2, 3, 1, 1]"
      ]
     },
     "execution_count": 55,
     "metadata": {},
     "output_type": "execute_result"
    }
   ],
   "source": [
    "dp"
   ]
  },
  {
   "cell_type": "markdown",
   "metadata": {},
   "source": [
    "# LIS:백준 11053번"
   ]
  },
  {
   "cell_type": "code",
   "execution_count": 6,
   "metadata": {},
   "outputs": [
    {
     "name": "stdout",
     "output_type": "stream",
     "text": [
      "10\n",
      "1 100 2 50 60 3 5 6 7 8\n"
     ]
    }
   ],
   "source": [
    "N = int(input())\n",
    "num = list(map(int, input().split()))\n",
    "dp = []\n",
    "for i in range(N):\n",
    "    dp.append(num[i]) #추가하기\n",
    "    for j in range(i):\n",
    "        if num[i] > num[j]:\n",
    "            dp[i] = max(dp[i], dp[j] + num[i])\n",
    "print(max(dp))"
   ]
  },
  {
   "cell_type": "code",
   "execution_count": 13,
   "metadata": {},
   "outputs": [
    {
     "data": {
      "text/plain": [
       "[1, 101, 3, 53, 113, 6, 11, 17, 24, 32]"
      ]
     },
     "execution_count": 13,
     "metadata": {},
     "output_type": "execute_result"
    }
   ],
   "source": [
    "dp"
   ]
  },
  {
   "cell_type": "code",
   "execution_count": null,
   "metadata": {},
   "outputs": [],
   "source": []
  }
 ],
 "metadata": {
  "kernelspec": {
   "display_name": "Python 3",
   "language": "python",
   "name": "python3"
  },
  "language_info": {
   "codemirror_mode": {
    "name": "ipython",
    "version": 3
   },
   "file_extension": ".py",
   "mimetype": "text/x-python",
   "name": "python",
   "nbconvert_exporter": "python",
   "pygments_lexer": "ipython3",
   "version": "3.8.3"
  }
 },
 "nbformat": 4,
 "nbformat_minor": 4
}
