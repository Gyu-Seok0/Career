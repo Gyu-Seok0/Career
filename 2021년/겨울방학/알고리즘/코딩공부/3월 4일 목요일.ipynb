{
 "cells": [
  {
   "cell_type": "markdown",
   "metadata": {},
   "source": [
    "# 로또: 백준 6603번"
   ]
  },
  {
   "cell_type": "code",
   "execution_count": 1,
   "metadata": {},
   "outputs": [
    {
     "name": "stdout",
     "output_type": "stream",
     "text": [
      "7 1 2 3 4 5 6 7\n",
      "1 2 3 4 5 6\n",
      "1 2 3 4 5 7\n",
      "1 2 3 4 6 7\n",
      "1 2 3 5 6 7\n",
      "1 2 4 5 6 7\n",
      "1 3 4 5 6 7\n",
      "2 3 4 5 6 7\n",
      "\n",
      "0\n"
     ]
    }
   ],
   "source": [
    "#combination 사용하면 바로 풀리는데 이건 뭔가 공부가 안된다.\n",
    "from itertools import combinations\n",
    "while True:\n",
    "    target = input().split()\n",
    "    if target[0] == '0':\n",
    "        break\n",
    "    else:\n",
    "        for now in combinations(target[1:],6):\n",
    "            print(\" \".join(now))\n",
    "        print()"
   ]
  },
  {
   "cell_type": "code",
   "execution_count": 2,
   "metadata": {},
   "outputs": [
    {
     "data": {
      "text/plain": [
       "['0']"
      ]
     },
     "execution_count": 2,
     "metadata": {},
     "output_type": "execute_result"
    }
   ],
   "source": [
    "target"
   ]
  },
  {
   "cell_type": "code",
   "execution_count": 11,
   "metadata": {},
   "outputs": [],
   "source": [
    "#이걸 백트래킹 방식으로 풀려면 어떻게 해야할까?\n",
    "#이런느낌인것 같긴한데 \n",
    "def combine(arr,temp):\n",
    "    if len(temp) == 6:\n",
    "        print(\" \".join(temp))\n",
    "        return\n",
    "    for i in range(len(arr)):\n",
    "        temp.append(arr[i])\n",
    "        combine(arr[i+1:],temp)\n",
    "        temp.pop()"
   ]
  },
  {
   "cell_type": "code",
   "execution_count": null,
   "metadata": {},
   "outputs": [
    {
     "name": "stdout",
     "output_type": "stream",
     "text": [
      "7 1 2 3 4 5 6 7\n",
      "1 2 3 4 5 6\n",
      "1 2 3 4 5 7\n",
      "1 2 3 4 6 7\n",
      "1 2 3 5 6 7\n",
      "1 2 4 5 6 7\n",
      "1 3 4 5 6 7\n",
      "2 3 4 5 6 7\n",
      "\n"
     ]
    }
   ],
   "source": [
    "#이걸 백트래킹 방식으로 풀려면 어떻게 해야할까?\n",
    "#이런느낌인것 같긴한데 \n",
    "def combine(arr,temp):\n",
    "    if len(temp) == 6:\n",
    "        print(\" \".join(temp))\n",
    "        return\n",
    "    for i in range(len(arr)):\n",
    "        temp.append(arr[i])\n",
    "        combine(arr[i+1:],temp)\n",
    "        temp.pop()\n",
    "while True:\n",
    "    arr = input().split()\n",
    "    if arr[0] == \"0\":\n",
    "        break\n",
    "    combine(arr[1:], [])\n",
    "    print()\n",
    "\n"
   ]
  },
  {
   "cell_type": "code",
   "execution_count": null,
   "metadata": {},
   "outputs": [],
   "source": []
  }
 ],
 "metadata": {
  "kernelspec": {
   "display_name": "Python 3",
   "language": "python",
   "name": "python3"
  },
  "language_info": {
   "codemirror_mode": {
    "name": "ipython",
    "version": 3
   },
   "file_extension": ".py",
   "mimetype": "text/x-python",
   "name": "python",
   "nbconvert_exporter": "python",
   "pygments_lexer": "ipython3",
   "version": "3.8.3"
  }
 },
 "nbformat": 4,
 "nbformat_minor": 4
}
