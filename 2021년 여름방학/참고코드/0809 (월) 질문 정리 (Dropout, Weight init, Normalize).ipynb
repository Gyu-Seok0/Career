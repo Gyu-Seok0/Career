{
 "cells": [
  {
   "cell_type": "markdown",
   "metadata": {},
   "source": [
    "# Dropout\n",
    "- 기본적으로 input으로 들어가는 데이터에 대한 영역임.\n",
    "- Linear(1024,512) -> Dropout(0.5) -> Linear(512,20) \n",
    "<br> 이런 식으로 들어가게 되면, 512로 들어가는 Input에 대해서\n",
    "256은 0, 256의 값은 있는 그대로 들어가게 됌."
   ]
  },
  {
   "cell_type": "markdown",
   "metadata": {},
   "source": [
    "# Weight initalization\n",
    "\n",
    "- 호출해야함.\n"
   ]
  },
  {
   "cell_type": "markdown",
   "metadata": {},
   "source": [
    "# Normalize\n",
    "\n",
    "- 채널 단위로 계산하는게 맞음."
   ]
  }
 ],
 "metadata": {
  "kernelspec": {
   "display_name": "Python 3",
   "language": "python",
   "name": "python3"
  },
  "language_info": {
   "codemirror_mode": {
    "name": "ipython",
    "version": 3
   },
   "file_extension": ".py",
   "mimetype": "text/x-python",
   "name": "python",
   "nbconvert_exporter": "python",
   "pygments_lexer": "ipython3",
   "version": "3.8.3"
  }
 },
 "nbformat": 4,
 "nbformat_minor": 4
}
