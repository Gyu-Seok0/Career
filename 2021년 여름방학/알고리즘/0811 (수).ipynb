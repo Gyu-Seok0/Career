{
 "cells": [
  {
   "cell_type": "markdown",
   "metadata": {},
   "source": [
    "# 백준 2156"
   ]
  },
  {
   "cell_type": "code",
   "execution_count": 57,
   "metadata": {},
   "outputs": [
    {
     "name": "stdout",
     "output_type": "stream",
     "text": [
      "6\n",
      "100\n",
      "100\n",
      "1\n",
      "1\n",
      "100\n",
      "100\n"
     ]
    }
   ],
   "source": [
    "# 틀린버전\n",
    "n = int(input())\n",
    "s = [0]\n",
    "dp = [[0,0]]\n",
    "for _ in range(n):\n",
    "    num = int(input())\n",
    "    s.append(num)\n",
    "    dp.append([num,0])"
   ]
  },
  {
   "cell_type": "code",
   "execution_count": 59,
   "metadata": {},
   "outputs": [
    {
     "name": "stdout",
     "output_type": "stream",
     "text": [
      "400\n"
     ]
    }
   ],
   "source": [
    "if n < 3:\n",
    "    print(sum(s))\n",
    "else:\n",
    "    dp[2][0] += dp[1][0]\n",
    "    dp[2][1] = 1 # 옆컵을 먹음\n",
    "    for i in range(3,n+1):\n",
    "        if dp[i-1][1] == 0: # 옆 컵을 먹지 않았다는 의미\n",
    "            dp[i][0] += dp[i-1][0]\n",
    "            dp[i][1] = 1\n",
    "        else:\n",
    "            dp[i][0] = max(dp[i-2][0] + s[i], dp[i-1][0])\n",
    "            if dp[i][0] < (s[i-1] + s[i]):\n",
    "                dp[i][0] = (s[i-1] + s[i])\n",
    "                dp[i][1] = 1\n",
    "    print(dp[n][0])"
   ]
  },
  {
   "cell_type": "code",
   "execution_count": 91,
   "metadata": {},
   "outputs": [
    {
     "name": "stdout",
     "output_type": "stream",
     "text": [
      "10\n",
      "0\n",
      "0\n",
      "10\n",
      "0\n",
      "5\n",
      "10\n",
      "0\n",
      "0\n",
      "1\n",
      "10\n"
     ]
    }
   ],
   "source": [
    "# 수정버전 -> 결국 맞았는데, 너무 복잡하게 풀었다.\n",
    "n = int(input())\n",
    "s = [0]\n",
    "dp = [[0,1]]\n",
    "for _ in range(n):\n",
    "    num = int(input())\n",
    "    s.append(num)\n",
    "    dp.append([num,1])\n",
    "    \n",
    "if n < 3:\n",
    "    print(sum(s))\n",
    "else:\n",
    "    dp[2][0] += dp[1][0]\n",
    "    dp[2][1] += dp[1][1]\n",
    "    for i in range(3,n+1):\n",
    "        if dp[i-1][1] >= 2: # 옆을 못마심\n",
    "            if dp[i-2][0] + s[i] > dp[i-1][0]:\n",
    "                dp[i][0] = dp[i-2][0] + s[i]\n",
    "                #dp[i][1] = 1\n",
    "            else:\n",
    "                dp[i][0] = dp[i-1][0]\n",
    "                dp[i][1] = 0\n",
    "       \n",
    "            if dp[i][0] < (s[i-1] + s[i] + dp[i-3][0]):\n",
    "                dp[i][0] = s[i-1] + s[i] + dp[i-3][0]\n",
    "                dp[i][1] = 2\n",
    "                \n",
    "        else: # 옆을 마심\n",
    "            dp[i][0] += dp[i-1][0]\n",
    "            if s[i-1] != 0 :\n",
    "                dp[i][1] += dp[i-1][1]\n",
    "            \n",
    "    print(dp[n][0])"
   ]
  },
  {
   "cell_type": "markdown",
   "metadata": {},
   "source": [
    "# 좋은 코드\n",
    "- 나 같은 경우 너무 복잡하게 문제 풀이가 이뤄진 느낌이 강하다. (순서를 기억해놓는 기법을 사용함)\n",
    "- 그러나, 경우의 수를 세 가지만 생각해보면 충분히 문제 풀이 가능.\n",
    "* 1) 이번걸 먹지 않음(이전 dp값인, dp[i-1)\n",
    "* 2) 이번걸 먹고, 이전걸 먹음 (dp[i-3], s[i-1], s[i-2])\n",
    "* 3) 이번걸 먹고, 이전걸 먹지 않음 (s[i-1] + dp[i-2])"
   ]
  },
  {
   "cell_type": "code",
   "execution_count": 108,
   "metadata": {},
   "outputs": [
    {
     "name": "stdout",
     "output_type": "stream",
     "text": [
      "2\n",
      "1\n",
      "100\n"
     ]
    },
    {
     "data": {
      "text/plain": [
       "101"
      ]
     },
     "execution_count": 108,
     "metadata": {},
     "output_type": "execute_result"
    }
   ],
   "source": [
    "n = int(input())\n",
    "w = [0]\n",
    "for i in range(n):\n",
    "    w.append(int(input()))\n",
    "dp = [0]\n",
    "dp.append(w[1])\n",
    "if n > 1:\n",
    "    dp.append(w[1] + w[2])\n",
    "for i in range(3, n+1):\n",
    "    # 1) 이번 포도주를 먹지 않음, 2)이번 포도주와 이전 포도주 마시기 3) 이번 포도주 먹고 이전 포도주 마시지 않기\n",
    "    dp.append(max(dp[i-1], dp[i-3] + w[i-1] + w[i], dp[i-2] + w[i]))\n",
    "dp[n]\n",
    "    "
   ]
  },
  {
   "cell_type": "code",
   "execution_count": 107,
   "metadata": {},
   "outputs": [
    {
     "data": {
      "text/plain": [
       "[0, 100, 200, 200, 201, 301, 400]"
      ]
     },
     "execution_count": 107,
     "metadata": {},
     "output_type": "execute_result"
    }
   ],
   "source": [
    "dp"
   ]
  },
  {
   "cell_type": "code",
   "execution_count": null,
   "metadata": {},
   "outputs": [],
   "source": []
  },
  {
   "cell_type": "code",
   "execution_count": null,
   "metadata": {},
   "outputs": [],
   "source": []
  }
 ],
 "metadata": {
  "kernelspec": {
   "display_name": "Python 3",
   "language": "python",
   "name": "python3"
  },
  "language_info": {
   "codemirror_mode": {
    "name": "ipython",
    "version": 3
   },
   "file_extension": ".py",
   "mimetype": "text/x-python",
   "name": "python",
   "nbconvert_exporter": "python",
   "pygments_lexer": "ipython3",
   "version": "3.8.3"
  }
 },
 "nbformat": 4,
 "nbformat_minor": 4
}
