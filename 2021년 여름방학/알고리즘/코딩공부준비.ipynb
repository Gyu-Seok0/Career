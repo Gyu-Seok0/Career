{
 "cells": [
  {
   "cell_type": "markdown",
   "metadata": {},
   "source": [
    "# 기초테스트 (기본 입출력을 잘하는지 확인)\n",
    "## 백준 10992번 별찍기 - 17"
   ]
  },
  {
   "cell_type": "code",
   "execution_count": 20,
   "metadata": {},
   "outputs": [
    {
     "name": "stdout",
     "output_type": "stream",
     "text": [
      "3\n",
      "  *\n",
      " * *\n",
      "*****\n"
     ]
    }
   ],
   "source": [
    "# 각 for문 마다 역할이 다르다.\n",
    "# 첫번째 for문은 row의 개수를 지정해준다. 편의를 위해 1부터 시작하도록 count\n",
    "# 안쪽에 있는 두번째, 세번째 for문에서는 column을 담당한다. 이때 각각은 공백과 별찍기를 담당한다.\n",
    "# 이런 문제를 풀때도 일종의 Divde & Conquer의 논리가 요구되는 것 같다.\n",
    "\n",
    "star = int(input()) # 3\n",
    "\n",
    "for i in range(1,star+1): #row 1 2 3\n",
    "    for j in range(star-i,0,-1): #col 공백\n",
    "        print(\" \", end =\"\")\n",
    "    for k in range(0,i*2-1): # 별찍기\n",
    "        if i != star and 0 < k <= 2*(i-1)-1: #별과 별 사이의 공백\n",
    "            print(\" \", end =\"\")\n",
    "        else:\n",
    "            print(\"*\", end =\"\") # 실제 별 찍기\n",
    "    print()"
   ]
  },
  {
   "cell_type": "code",
   "execution_count": 32,
   "metadata": {},
   "outputs": [
    {
     "name": "stdout",
     "output_type": "stream",
     "text": [
      "3\n",
      "  *\n",
      " * *\n",
      "*****\n"
     ]
    }
   ],
   "source": [
    "# 정답\n",
    "N = int(input())\n",
    "for i in range(1, N+1):\n",
    "    if i == N:\n",
    "        print(\"*\" * (2*i-1))\n",
    "    elif i == 1:\n",
    "        print(' ' * (N-i), \"*\", sep = '')\n",
    "    else:\n",
    "        print(' ' * (N-i), '*', ' ' * (2*i-3),\"*\", sep = \"\")"
   ]
  },
  {
   "cell_type": "markdown",
   "metadata": {},
   "source": [
    "## 백준 10991번 별찍기 - 16"
   ]
  },
  {
   "cell_type": "code",
   "execution_count": 41,
   "metadata": {},
   "outputs": [
    {
     "name": "stdout",
     "output_type": "stream",
     "text": [
      "4\n",
      "   *\n",
      "  * *\n",
      " * * *\n",
      "* * * *\n"
     ]
    }
   ],
   "source": [
    "N = int(input())\n",
    "for i in range(1,N+1):\n",
    "    print(\" \" * (N-i), end = \"\")\n",
    "    for j in range(1,2*i):\n",
    "        if j % 2: # 홀수\n",
    "            print(\"*\", end = \"\")\n",
    "        else:\n",
    "            print(\" \", end = \"\")\n",
    "    print()"
   ]
  },
  {
   "cell_type": "code",
   "execution_count": 44,
   "metadata": {},
   "outputs": [
    {
     "name": "stdout",
     "output_type": "stream",
     "text": [
      "3\n",
      "  * \n",
      " * * \n",
      "* * * \n"
     ]
    }
   ],
   "source": [
    "N = int(input())\n",
    "for i in range(1,N+1):\n",
    "    print(\" \" * (N-i), end = \"\")\n",
    "    for j in range(i):\n",
    "        print(\"*\", end = \" \") # 이부분을 이렇게 활용 가능하구나.\n",
    "    print()"
   ]
  },
  {
   "cell_type": "markdown",
   "metadata": {},
   "source": [
    "## 백준 10991번 별찍기 - 9"
   ]
  },
  {
   "cell_type": "code",
   "execution_count": 50,
   "metadata": {},
   "outputs": [
    {
     "name": "stdout",
     "output_type": "stream",
     "text": [
      "5\n",
      "*********\n",
      " *******\n",
      "  *****\n",
      "   ***\n",
      "    *\n",
      "   ***\n",
      "  *****\n",
      " *******\n",
      "*********\n"
     ]
    }
   ],
   "source": [
    "N = int(input())\n",
    "for i in range(N,1,-1): # 위\n",
    "    print(\" \"*(N-i),\"*\"*(2*i-1),sep = \"\")\n",
    "    \n",
    "for j in range(1,N+1): #아래\n",
    "    print(\" \"*(N-j),\"*\"*(2*j-1), sep = \"\")"
   ]
  },
  {
   "cell_type": "markdown",
   "metadata": {},
   "source": [
    "# 지금까지 정리\n",
    "기본입출력에 대해서 공부를 진행했다. <br>\n",
    "별찍기가 생각보다 쉽지 않았는데, 하다보니 익숙해졌다. <br>\n",
    "오늘 배운 문법 중 하나는 'sep'이다. <br>\n",
    "가령, print(\"a\",\"b\",sep = \"@\")를 사용하면, a@b 형태로 출력이 가능하다."
   ]
  },
  {
   "cell_type": "markdown",
   "metadata": {},
   "source": [
    "# 코딩공부 참고 사이트\n",
    "https://plzrun.tistory.com/entry/%EC%95%8C%EA%B3%A0%EB%A6%AC%EC%A6%98-%EB%AC%B8%EC%A0%9C%ED%92%80%EC%9D%B4PS-%EC%8B%9C%EC%9E%91%ED%95%98%EA%B8%B0"
   ]
  },
  {
   "cell_type": "markdown",
   "metadata": {},
   "source": [
    "## 백준 1423번 1로 만들기"
   ]
  },
  {
   "cell_type": "code",
   "execution_count": 66,
   "metadata": {},
   "outputs": [
    {
     "name": "stdout",
     "output_type": "stream",
     "text": [
      "1293\n",
      "13\n"
     ]
    }
   ],
   "source": [
    "#파이썬 1로만들기 뭔가 queue사용하면 좋을 것 같다.\n",
    "from collections import deque\n",
    "N = int(input())\n",
    "q = deque([(N,0)])\n",
    "\n",
    "while q:\n",
    "    num, cnt = q.popleft()\n",
    "    if num == 1:\n",
    "        break\n",
    "    if num %3 == 0:\n",
    "        q.append((int(num/3), cnt+1))\n",
    "    if num %2 == 0:\n",
    "        q.append((int(num/2), cnt+1))\n",
    "    if num > 1:\n",
    "        q.append((num-1, cnt+1))\n",
    "\n",
    "print(cnt)\n"
   ]
  },
  {
   "cell_type": "code",
   "execution_count": 69,
   "metadata": {},
   "outputs": [
    {
     "name": "stdout",
     "output_type": "stream",
     "text": [
      "10\n",
      "3\n"
     ]
    }
   ],
   "source": [
    "#해당 문제를 dp_table을 이용해서 풀어보자.\n",
    "# 0부터 N까지 각각을 만들 수 있는 최소의 값을 통해 문제를 풀어갈 것이다.\n",
    "\n",
    "N = int(input())\n",
    "dp = [0]*(N+1) \n",
    "for i in range(2,N+1):\n",
    "    temp1, temp2 = 1e10, 1e10\n",
    "    if i == 2 or i == 3:\n",
    "        dp[i] = 1\n",
    "    else:\n",
    "        if i % 3 == 0:\n",
    "            temp1 = dp[i//3] + 1\n",
    "        if i % 2 == 0:\n",
    "            temp2 = dp[i//2] + 1\n",
    "        dp[i] = min(temp1, temp2,dp[i-1]+1)\n",
    "\n",
    "print(dp[N])\n",
    "            \n"
   ]
  },
  {
   "cell_type": "markdown",
   "metadata": {},
   "source": [
    "# 최종정리\n",
    "오늘은 알고리즘 문제풀이를 앞으로 어떻게 진행할 것인지 Search하였다.\n",
    "앞으로 여름방학 ~ (하루1문제 + 주말 심화) 이런식으로 진행하면 좋을 것 같다.\n",
    "\n",
    "<b> 1) 백준문제풀이 </b> <br>\n",
    "DP -> 그래프(BFS/DFS) -> 이분탐색 -> 분할정복 -> 그리디 -> 완전탐색\n",
    "(다른 문제들은 1시간으로 생각하자. 시간이 지나면 답을 보고 푼다)\n",
    "\n",
    "<b> 2) 알고리즘 문제해결전략 책 공부 </b> <br>\n",
    "<b> 3) 기출문제풀이 </b>\n",
    "\n",
    "\n",
    "\n",
    "## 다음시간 부터 DP부터 시작\n",
    "1) 한 문제를 풀더라도 DP concept이 어떻게 사용되었는지 확인하기 <br>\n",
    "2) 한 시간 안에 풀이하고 안되면 답지 보기 <br>\n",
    "3) 고수들 풀이 참고하기 <br>\n",
    "\n",
    "DP - 1463, 11726, 11727, 9095, 10844, 11057, 2193, 9465, 2156, 11053, 11055, 11722, 11054, 1912, 2579, 1699, 2133, 9461, 2225, 2011, 11052\n",
    "\n",
    "\n",
    "출처: https://plzrun.tistory.com/entry/알고리즘-문제풀이PS-시작하기 [plzrun's algorithm]"
   ]
  },
  {
   "cell_type": "code",
   "execution_count": null,
   "metadata": {},
   "outputs": [],
   "source": []
  }
 ],
 "metadata": {
  "kernelspec": {
   "display_name": "Python 3",
   "language": "python",
   "name": "python3"
  },
  "language_info": {
   "codemirror_mode": {
    "name": "ipython",
    "version": 3
   },
   "file_extension": ".py",
   "mimetype": "text/x-python",
   "name": "python",
   "nbconvert_exporter": "python",
   "pygments_lexer": "ipython3",
   "version": "3.8.3"
  }
 },
 "nbformat": 4,
 "nbformat_minor": 4
}
