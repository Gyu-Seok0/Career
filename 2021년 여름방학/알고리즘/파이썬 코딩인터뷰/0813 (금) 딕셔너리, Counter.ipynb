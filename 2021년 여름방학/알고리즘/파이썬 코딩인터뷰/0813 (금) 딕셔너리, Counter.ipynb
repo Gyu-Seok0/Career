{
 "cells": [
  {
   "cell_type": "markdown",
   "metadata": {},
   "source": [
    "# Counter"
   ]
  },
  {
   "cell_type": "code",
   "execution_count": 3,
   "metadata": {},
   "outputs": [
    {
     "data": {
      "text/plain": [
       "Counter({1: 1, 2: 1, 3: 1, 4: 1, 5: 1, 6: 3})"
      ]
     },
     "execution_count": 3,
     "metadata": {},
     "output_type": "execute_result"
    }
   ],
   "source": [
    "from collections import Counter\n",
    "\n",
    "a = [1,2,3,4,5,6,6,6]\n",
    "b = Counter(a)\n",
    "b"
   ]
  },
  {
   "cell_type": "code",
   "execution_count": 12,
   "metadata": {},
   "outputs": [
    {
     "data": {
      "text/plain": [
       "[(6, 3), (1, 1), (2, 1), (3, 1)]"
      ]
     },
     "execution_count": 12,
     "metadata": {},
     "output_type": "execute_result"
    }
   ],
   "source": [
    "b.most_common(4)"
   ]
  },
  {
   "cell_type": "markdown",
   "metadata": {},
   "source": [
    "# Type"
   ]
  },
  {
   "cell_type": "code",
   "execution_count": 15,
   "metadata": {},
   "outputs": [
    {
     "name": "stdout",
     "output_type": "stream",
     "text": [
      "<class 'list'>\n",
      "<class 'collections.Counter'>\n"
     ]
    }
   ],
   "source": [
    "print(type(a))\n",
    "print(type(b))"
   ]
  },
  {
   "cell_type": "markdown",
   "metadata": {},
   "source": [
    "# Leetcode 125 유효한 팰린드롬"
   ]
  },
  {
   "cell_type": "code",
   "execution_count": 25,
   "metadata": {},
   "outputs": [
    {
     "data": {
      "text/plain": [
       "False"
      ]
     },
     "execution_count": 25,
     "metadata": {},
     "output_type": "execute_result"
    }
   ],
   "source": [
    "s = \"A man, a plan, a canal: Panama\"\n",
    "s = \"0P\"\n",
    "s = s.lower()\n",
    "alpha = \"\"\n",
    "reverse_alpha = \"\"\n",
    "for letter in s:\n",
    "    if letter.isalpha() or letter.isnumeric():\n",
    "        alpha += letter\n",
    "        reverse_alpha = letter + reverse_alpha\n",
    "alpha == reverse_alpha"
   ]
  },
  {
   "cell_type": "markdown",
   "metadata": {},
   "source": [
    "# 좋은 코드1\n",
    "1) 필요한 영역에만 lower을 진행\n",
    "2) pop에 인덱스를 넣을 수 있구나\n",
    "3) pop을 이용해서 팰린드롬 확인"
   ]
  },
  {
   "cell_type": "code",
   "execution_count": 34,
   "metadata": {},
   "outputs": [],
   "source": [
    "class Solution:\n",
    "    def isPalindrome(self, s:str) -> bool:\n",
    "        strs = []\n",
    "        for char in s:\n",
    "            if char.isalnum():\n",
    "                strs.append(char.lower()) # 필요한 것만 쓰는 구나.\n",
    "        while len(strs) > 1:\n",
    "            if strs.pop(0) != strs.pop():\n",
    "                return False\n",
    "        return True\n"
   ]
  },
  {
   "cell_type": "markdown",
   "metadata": {},
   "source": [
    "# 좋은코드2 queue 사용"
   ]
  },
  {
   "cell_type": "code",
   "execution_count": 46,
   "metadata": {},
   "outputs": [],
   "source": [
    "from collections import deque\n",
    "\n",
    "\n",
    "class Solution:\n",
    "    def isPalindrome(self, s:str) -> bool:\n",
    "        strs = deque()\n",
    "        for char in s:\n",
    "            if char.isalnum():\n",
    "                strs.append(char.lower()) # 필요한 것만 쓰는 구나.\n",
    "        while len(strs) > 1:\n",
    "            if strs.popleft() != strs.pop():\n",
    "                return False\n",
    "        return True\n"
   ]
  },
  {
   "cell_type": "code",
   "execution_count": 49,
   "metadata": {
    "scrolled": true
   },
   "outputs": [
    {
     "data": {
      "text/plain": [
       "True"
      ]
     },
     "execution_count": 49,
     "metadata": {},
     "output_type": "execute_result"
    }
   ],
   "source": [
    "s = Solution()\n",
    "s.isPalindrome(\"A man, a plan, a canal: Panama\")"
   ]
  },
  {
   "cell_type": "markdown",
   "metadata": {},
   "source": [
    "# 좋은코드3 슬라이싱 \n",
    "re.sub 사용"
   ]
  },
  {
   "cell_type": "code",
   "execution_count": 60,
   "metadata": {},
   "outputs": [
    {
     "data": {
      "text/plain": [
       "True"
      ]
     },
     "execution_count": 60,
     "metadata": {},
     "output_type": "execute_result"
    }
   ],
   "source": [
    "import re\n",
    "s = \"A man, a plan, a canal: Panama\"\n",
    "s = s.lower()\n",
    "s = re.sub('[^a-z0-9]','',s) # a-z, 0-9까지의 letter들은 살리고, 이에 해당하지 않는 값들을 ''로 replace한다.\n",
    "s == s[::-1]\n"
   ]
  },
  {
   "cell_type": "code",
   "execution_count": 59,
   "metadata": {},
   "outputs": [
    {
     "data": {
      "text/plain": [
       "'amanaplanacanalpanama'"
      ]
     },
     "execution_count": 59,
     "metadata": {},
     "output_type": "execute_result"
    }
   ],
   "source": [
    "s[::-1]"
   ]
  },
  {
   "cell_type": "markdown",
   "metadata": {},
   "source": [
    "# leetcode 344 reverse를 시키되, 새로운 List를 추가하지말고 In_place\n",
    "내 풀이"
   ]
  },
  {
   "cell_type": "code",
   "execution_count": 78,
   "metadata": {},
   "outputs": [
    {
     "data": {
      "text/plain": [
       "['h', 'e', 'l', 'l', 'o']"
      ]
     },
     "execution_count": 78,
     "metadata": {},
     "output_type": "execute_result"
    }
   ],
   "source": [
    "strs = list(\"hello\")\n",
    "strs"
   ]
  },
  {
   "cell_type": "code",
   "execution_count": 79,
   "metadata": {},
   "outputs": [
    {
     "name": "stdout",
     "output_type": "stream",
     "text": [
      "['o', 'e', 'l', 'l', 'h']\n",
      "['o', 'l', 'l', 'e', 'h']\n"
     ]
    }
   ],
   "source": [
    "length = len(strs)\n",
    "for i in range(length//2):\n",
    "    strs[i], strs[length-i-1] = strs[length-i-1], strs[i]"
   ]
  },
  {
   "cell_type": "markdown",
   "metadata": {},
   "source": [
    "# 좋은코드1 string.reverse()"
   ]
  },
  {
   "cell_type": "code",
   "execution_count": null,
   "metadata": {},
   "outputs": [],
   "source": [
    "strs = list(\"hello\")\n",
    "print(strs)\n",
    "\n",
    "# 변형\n",
    "strs.reverse()\n",
    "print(strs)"
   ]
  },
  {
   "cell_type": "markdown",
   "metadata": {},
   "source": [
    "# leetcode 937 로그파일 재정렬\n",
    "- 숫자 로그가 나오면 저장하기\n",
    "- 문자 로그가 나오면, 식별순을 비교해야 한다."
   ]
  },
  {
   "cell_type": "code",
   "execution_count": 141,
   "metadata": {},
   "outputs": [],
   "source": [
    "logs = [\"dig1 8 1 5 1\",\"let3 art can\",\"dig2 3 6\",\"let2 own kit dig\",\"let1 art can\"]"
   ]
  },
  {
   "cell_type": "code",
   "execution_count": 153,
   "metadata": {},
   "outputs": [],
   "source": [
    "temp = []\n",
    "ans = []\n",
    "for log in logs:\n",
    "    target = log.split()\n",
    "    if target[1][0].isalpha():\n",
    "        temp.append([target[0], target[1:]])\n",
    "    else:\n",
    "        ans.append(log)\n",
    "        \n",
    "        \n",
    "temp = sorted(temp, key = lambda x: (x[1],x[0]))\n",
    "for i in range(len(temp)):\n",
    "    temp[i] = temp[i][0] +\" \"+\" \".join(temp[i][1])\n",
    "ans = temp + ans\n",
    "print(ans)"
   ]
  },
  {
   "cell_type": "markdown",
   "metadata": {},
   "source": [
    "# 좋은 코드\n",
    ": 나랑 논리적인 흐름은 비슷하네 <br>\n",
    ": 그렇지만 훨씬 깔끔하게 짬"
   ]
  },
  {
   "cell_type": "code",
   "execution_count": 157,
   "metadata": {},
   "outputs": [],
   "source": [
    "# 알고리즘1 digit인지 확인\n",
    "digits = []\n",
    "letters = []\n",
    "\n",
    "for log in logs:\n",
    "    if log.split()[1].isdigit():\n",
    "        digits.append(log)\n",
    "    else:\n",
    "        letters.append(log)\n",
    "        \n",
    "letters.sort(key = lambda x: (x.split()[1:], x.split()[0]))\n",
    "return letters + digits"
   ]
  },
  {
   "cell_type": "code",
   "execution_count": 159,
   "metadata": {},
   "outputs": [],
   "source": [
    "letters.sort(key = lambda x: (x.split()[1:], x.split()[0]))\n",
    "return letters + digits"
   ]
  },
  {
   "cell_type": "markdown",
   "metadata": {},
   "source": [
    "# 정리: 람다표현식 -> 일종의 함수 역할을 함"
   ]
  },
  {
   "cell_type": "code",
   "execution_count": 168,
   "metadata": {},
   "outputs": [
    {
     "name": "stdout",
     "output_type": "stream",
     "text": [
      "[4, 6, 5]\n",
      "['1', '3', '2']\n"
     ]
    }
   ],
   "source": [
    "test = [1,3,2]\n",
    "print(list(map(lambda x: x+3, test)))\n",
    "print(list(map(str, test)))"
   ]
  },
  {
   "cell_type": "code",
   "execution_count": 170,
   "metadata": {},
   "outputs": [
    {
     "name": "stdout",
     "output_type": "stream",
     "text": [
      "[1, 2, 3]\n",
      "[1, 2, 3]\n"
     ]
    }
   ],
   "source": [
    "test.sort(key = lambda x: x)\n",
    "print(test)\n",
    "test.sort()\n",
    "print(test)"
   ]
  },
  {
   "cell_type": "code",
   "execution_count": null,
   "metadata": {},
   "outputs": [],
   "source": []
  }
 ],
 "metadata": {
  "kernelspec": {
   "display_name": "Python 3",
   "language": "python",
   "name": "python3"
  },
  "language_info": {
   "codemirror_mode": {
    "name": "ipython",
    "version": 3
   },
   "file_extension": ".py",
   "mimetype": "text/x-python",
   "name": "python",
   "nbconvert_exporter": "python",
   "pygments_lexer": "ipython3",
   "version": "3.8.3"
  }
 },
 "nbformat": 4,
 "nbformat_minor": 4
}
