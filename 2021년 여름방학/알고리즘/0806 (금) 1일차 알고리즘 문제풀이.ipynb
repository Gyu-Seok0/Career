{
 "cells": [
  {
   "cell_type": "markdown",
   "metadata": {},
   "source": [
    "# 파이썬 인터뷰"
   ]
  },
  {
   "cell_type": "markdown",
   "metadata": {},
   "source": [
    "# 1. 제너레이터\n",
    "- 함수형태인데, return 대신에 yield를 넣으면 됌.\n",
    "- 메모리를 함수가 호출되는 순간에만 사용함."
   ]
  },
  {
   "cell_type": "code",
   "execution_count": 1,
   "metadata": {},
   "outputs": [
    {
     "name": "stdout",
     "output_type": "stream",
     "text": [
      "Hello\n",
      "World\n",
      "Gyuseok\n"
     ]
    }
   ],
   "source": [
    "def test_getnerater():\n",
    "    yield \"Hello\"\n",
    "    yield \"World\"\n",
    "    yield \"Gyuseok\"\n",
    "    \n",
    "g = test_getnerater()\n",
    "for i in range(3):\n",
    "    print(next(g))"
   ]
  },
  {
   "cell_type": "code",
   "execution_count": 5,
   "metadata": {},
   "outputs": [
    {
     "name": "stdout",
     "output_type": "stream",
     "text": [
      "904 48\n"
     ]
    }
   ],
   "source": [
    "# 대표적인 제너레이터인 range가 왜 효율적인 확인해보기.\n",
    "import sys\n",
    "a = [n for n in range(100)]\n",
    "b = range(100)\n",
    "print(sys.getsizeof(a), sys.getsizeof(b))"
   ]
  },
  {
   "cell_type": "markdown",
   "metadata": {},
   "source": [
    "# 2. 프린트"
   ]
  },
  {
   "cell_type": "code",
   "execution_count": 11,
   "metadata": {},
   "outputs": [
    {
     "name": "stdout",
     "output_type": "stream",
     "text": [
      "28 44\n",
      "28.44\n",
      "28\n",
      "44\n"
     ]
    }
   ],
   "source": [
    "print(\"28\", \"44\")\n",
    "print(\"28\", \"44\", sep = \".\") # 어떻게 구분을 지을 것이니지가 중요함.\n",
    "\n",
    "temp = [\"28\",\"44\"]\n",
    "for word in temp:\n",
    "    print(word, end = \"\\n\") # 끝에 무엇을 붙이는지가 중요함."
   ]
  },
  {
   "cell_type": "markdown",
   "metadata": {},
   "source": [
    "# 3. 주석달기 및 변수명\n",
    "- 명확한 형태로 (explicit)하게 표현하는 것이 좋음."
   ]
  },
  {
   "cell_type": "code",
   "execution_count": 16,
   "metadata": {},
   "outputs": [
    {
     "name": "stdout",
     "output_type": "stream",
     "text": [
      "None\n",
      "it can be divied by 10\n"
     ]
    }
   ],
   "source": [
    "users = []\n",
    "if not users:\n",
    "    print(\"None\")\n",
    "    \n",
    "number = 10\n",
    "if number % 10 == 0:\n",
    "    print(\"it can be divied by 10\")"
   ]
  },
  {
   "cell_type": "markdown",
   "metadata": {},
   "source": [
    "# 4. 변수명"
   ]
  },
  {
   "cell_type": "code",
   "execution_count": 20,
   "metadata": {
    "scrolled": false
   },
   "outputs": [
    {
     "name": "stdout",
     "output_type": "stream",
     "text": [
      "{'c', 'a', 'b'}\n",
      "<class 'set'>\n",
      "{'a': [1, 2, 3], 'b': 2}\n",
      "<class 'dict'>\n"
     ]
    }
   ],
   "source": [
    "# 집합\n",
    "s = {'a','b','c','a'}\n",
    "print(s)\n",
    "print(type(s))\n",
    "\n",
    "# 딕셔너리\n",
    "d = {\"a\":[1,2,3], \"b\":2}\n",
    "print(d)\n",
    "print(type(d))\n"
   ]
  },
  {
   "cell_type": "markdown",
   "metadata": {},
   "source": [
    "# 변수의 가변성과 불변성\n",
    "- 해당 변수에 어떤 함수를 가했을 때, 새로운 메모리에 할당이 되면, 기존 값은 불변하기 때문에 불변이고, \n",
    "- 기존 값도 변한다면, 가변임.\n",
    "\n",
    "\n",
    "- 아래 예제를 보면, 기존의 \"abc\" 값은 바뀌지 않고, 새로운 메모리에 할당하는 것을 볼 수 있음. 따라서 기존값이 보존되므로 불변임."
   ]
  },
  {
   "cell_type": "code",
   "execution_count": 22,
   "metadata": {},
   "outputs": [
    {
     "name": "stdout",
     "output_type": "stream",
     "text": [
      "140441840788208\n",
      "140441843015408\n"
     ]
    }
   ],
   "source": [
    "# string\n",
    "# 기존에 abc\n",
    "s = \"abc\"\n",
    "print(id(s))\n",
    "\n",
    "s = \"def\"\n",
    "print(id(s))"
   ]
  },
  {
   "cell_type": "code",
   "execution_count": 44,
   "metadata": {},
   "outputs": [
    {
     "name": "stdout",
     "output_type": "stream",
     "text": [
      "140441908664256\n",
      "140441908664256\n"
     ]
    }
   ],
   "source": [
    "# list\n",
    "# 기존 l위에 메모리를 동적으로 할당하면서, 변화하므로 가변적이라고 할 수 있겠다.\n",
    "l = ['a','b','c']\n",
    "print(id(l))\n",
    "\n",
    "l += [\"d\"]\n",
    "print(id(l))"
   ]
  },
  {
   "cell_type": "markdown",
   "metadata": {},
   "source": [
    "# 파이썬은 모두 객체로 이뤄짐\n",
    "- 각 변수들이 가지고 있는 주소를 참조함으로써 이뤄지는 언어임\n",
    "- 이중에 기존 변수들을 보존하면, 불변변수이고\n",
    "- 새로운 변수값을 가질려면, 새로운 메모리를 할당하는 방식으로 이뤄짐.\n",
    "\n",
    "\n",
    "- 기존 변수에 동적할당 방식으로 변화를 주고 메모리가 그대로라면, 가변변수임\n",
    "- 가변변수로는 리스트, 집합, 딕셔너리가 존재함."
   ]
  },
  {
   "cell_type": "code",
   "execution_count": 45,
   "metadata": {
    "scrolled": true
   },
   "outputs": [
    {
     "name": "stdout",
     "output_type": "stream",
     "text": [
      "4454705792 4454705792 4454705792\n",
      "4454705792 4454705824 4454705824\n",
      "140441899402944 140441899402944\n",
      "[2, 3] [2, 3]\n"
     ]
    }
   ],
   "source": [
    "# 약간의 실험\n",
    "# 불변변수\n",
    "a = 10\n",
    "b = a\n",
    "print(id(10), id(a), id(b))\n",
    "\n",
    "a = 11\n",
    "b = a \n",
    "print(id(10),id(a),id(b))\n",
    "\n",
    "\n",
    "# 리스트\n",
    "# 가변변수\n",
    "list1 = [1,2,3]\n",
    "list2 = list1\n",
    "\n",
    "print(id(list1), id(list2))\n",
    "list1.remove(1)\n",
    "print(list1,list2)\n"
   ]
  },
  {
   "cell_type": "markdown",
   "metadata": {},
   "source": [
    "#### is와 == 차이점\n",
    "- is는 id가 같은지를 물어보고\n",
    "- == 은 내부 값이 동일한지 물어봄."
   ]
  },
  {
   "cell_type": "code",
   "execution_count": 43,
   "metadata": {},
   "outputs": [
    {
     "name": "stdout",
     "output_type": "stream",
     "text": [
      "True\n",
      "True\n",
      "True\n",
      "False\n"
     ]
    }
   ],
   "source": [
    "a = [1,2,3]\n",
    "print(a == a)\n",
    "print(a == list(a))\n",
    "\n",
    "print(a is a)\n",
    "print(a is list(a)) # list를 묶어줌으로써, 새로운 변수를 참조하게 되었기때문에 id값이 달라짐."
   ]
  },
  {
   "cell_type": "markdown",
   "metadata": {},
   "source": [
    "# 5. 함수인자에 type넣기"
   ]
  },
  {
   "cell_type": "code",
   "execution_count": 32,
   "metadata": {},
   "outputs": [
    {
     "data": {
      "text/plain": [
       "3"
      ]
     },
     "execution_count": 32,
     "metadata": {},
     "output_type": "execute_result"
    }
   ],
   "source": [
    "# 함수에 type을 분명하게 넣어줄 수 있음.\n",
    "\n",
    "def function(x : int, y: list) -> int:\n",
    "    return x + y[0] # 새로운 메모리 할당이 요구되지 않음.\n",
    "\n",
    "y = [1]\n",
    "x = 2\n",
    "function(x,y)"
   ]
  },
  {
   "cell_type": "markdown",
   "metadata": {},
   "source": [
    "# 백준 11718 ~ 11719번 그대로 출력하기\n",
    "- 핵심: Try except 구문 활용하기"
   ]
  },
  {
   "cell_type": "code",
   "execution_count": null,
   "metadata": {},
   "outputs": [],
   "source": [
    "while True:\n",
    "    try:\n",
    "        print(input())\n",
    "    except EOFError as err:\n",
    "        break"
   ]
  },
  {
   "cell_type": "markdown",
   "metadata": {},
   "source": [
    "# 백준 11720번 숫자의 합\n",
    "- 아래 알고리즘대로 풀이하면 됌.\n"
   ]
  },
  {
   "cell_type": "code",
   "execution_count": 53,
   "metadata": {},
   "outputs": [
    {
     "name": "stdout",
     "output_type": "stream",
     "text": [
      "5\n",
      "54321\n"
     ]
    }
   ],
   "source": [
    "# 숫자의 개수 입력받기.\n",
    "# 숫자를 받고 각각의 자릿수를 더하는 게 좋을듯 싶다.\n",
    "N = int(input())\n",
    "num = input()\n",
    "ans = 0\n",
    "for n in num:\n",
    "    ans += int(n)\n",
    "print(ans)\n"
   ]
  },
  {
   "cell_type": "markdown",
   "metadata": {},
   "source": [
    "# 11721번 열 개씩 끊어 출력하기\n",
    "for i in range(start, end, 10): <br>\n",
    "    <t>print(string[i:i+10])</t><br>에서 꼭 10개씩 맞지 않아도, 자동으로 끊어주는 것을 처음으로 알았다.\n"
   ]
  },
  {
   "cell_type": "code",
   "execution_count": 56,
   "metadata": {},
   "outputs": [
    {
     "name": "stdout",
     "output_type": "stream",
     "text": [
      "OneTwoThreeFourFiveSixSevenEightNineTen\n",
      "OneTwoThre\n",
      "eFourFiveS\n",
      "ixSevenEig\n",
      "htNineTen\n"
     ]
    }
   ],
   "source": [
    "# 시작 index랑 마지막 index를 고려해서 풀이하면 좋을듯 싶다.\n",
    "string = input()\n",
    "start = 0\n",
    "end = 10\n",
    "flag = True\n",
    "\n",
    "while flag:\n",
    "    if end >= len(string): #같아버리면, 다음 while문에서 돌릴 수 있는 내용이 없음. 따라서 flag = False\n",
    "        end = len(string)\n",
    "        flag = False\n",
    "        \n",
    "    print(string[start:end])\n",
    "    start += 10\n",
    "    end += 10\n"
   ]
  },
  {
   "cell_type": "code",
   "execution_count": 59,
   "metadata": {},
   "outputs": [
    {
     "name": "stdout",
     "output_type": "stream",
     "text": [
      "OneTwoThreeFourFiveSixSevenEightNineTen\n",
      "OneTwoThre\n",
      "eFourFiveS\n",
      "ixSevenEig\n",
      "htNineTen\n"
     ]
    }
   ],
   "source": [
    "# 더 쉬운 풀이\n",
    "string = input()\n",
    "for start in range(0, len(string),10): # start 포인트인 0을 넣어줘야 하는구나!\n",
    "    print(string[start:start+10]) # string의 len을 넘어서는 범위에 대해서는 자동으로 마지막까지 잡아주는 구나.... \n",
    "     \n",
    "    "
   ]
  },
  {
   "cell_type": "markdown",
   "metadata": {},
   "source": [
    "# 2741번 ~ 2742번 N 찍기\n"
   ]
  },
  {
   "cell_type": "code",
   "execution_count": 72,
   "metadata": {},
   "outputs": [
    {
     "name": "stdout",
     "output_type": "stream",
     "text": [
      "5\n",
      "5\n",
      "4\n",
      "3\n",
      "2\n",
      "1\n"
     ]
    }
   ],
   "source": [
    "for i in range(int(input()),0,-1):\n",
    "    print(i)"
   ]
  },
  {
   "cell_type": "code",
   "execution_count": 73,
   "metadata": {
    "scrolled": true
   },
   "outputs": [
    {
     "name": "stdout",
     "output_type": "stream",
     "text": [
      "5\n",
      "5\n",
      "4\n",
      "3\n",
      "2\n",
      "1\n"
     ]
    },
    {
     "data": {
      "text/plain": [
       "[None, None, None, None, None]"
      ]
     },
     "execution_count": 73,
     "metadata": {},
     "output_type": "execute_result"
    }
   ],
   "source": [
    "# 다른풀이\n",
    "[print(i) for i in range(int(input()),0,-1)]"
   ]
  },
  {
   "cell_type": "markdown",
   "metadata": {},
   "source": [
    "# 백준 2739 구구단"
   ]
  },
  {
   "cell_type": "code",
   "execution_count": 75,
   "metadata": {
    "scrolled": false
   },
   "outputs": [
    {
     "name": "stdout",
     "output_type": "stream",
     "text": [
      "2\n",
      "2 * 1 = 2\n",
      "2 * 2 = 4\n",
      "2 * 3 = 6\n",
      "2 * 4 = 8\n",
      "2 * 5 = 10\n",
      "2 * 6 = 12\n",
      "2 * 7 = 14\n",
      "2 * 8 = 16\n",
      "2 * 9 = 18\n"
     ]
    },
    {
     "data": {
      "text/plain": [
       "[None, None, None, None, None, None, None, None, None]"
      ]
     },
     "execution_count": 75,
     "metadata": {},
     "output_type": "execute_result"
    }
   ],
   "source": [
    "N = int(input())\n",
    "[print(\"{} * {} = {}\".format(N,i,N*i)) for i in range(1,10)] "
   ]
  },
  {
   "cell_type": "markdown",
   "metadata": {},
   "source": [
    "# 백준 1924번 2007년\n",
    "- 1월 1일 기준으로, 입력으로 들어온 날과의 차이를 구하고\n",
    "- 그 값을 7로 나눈 나머지 만큼, Monday에서 더해주면 될듯\n",
    "\n",
    "- 잘못 이해\n",
    "- 가령 9월 2일이면, 1~8월은 모두 더해주고 9월달은 해당 되는 날짜를 추가해주는 것임.\n"
   ]
  },
  {
   "cell_type": "code",
   "execution_count": null,
   "metadata": {},
   "outputs": [],
   "source": [
    "M, D = map(int, input().split())\n",
    "\n",
    "for i in range(1,M): \n",
    "    if i == 2:\n",
    "        D += 28\n",
    "    elif i in [4,6,9,11]:\n",
    "        D += 30\n",
    "    else:\n",
    "        D += 31\n",
    "D -= 1\n",
    "Date = [\"MON\", \"TUE\", \"WED\", \"THU\", \"FRI\", \"SAT\", \"SUN\"]\n",
    "print(Date[D%7])"
   ]
  },
  {
   "cell_type": "code",
   "execution_count": 121,
   "metadata": {},
   "outputs": [
    {
     "name": "stdout",
     "output_type": "stream",
     "text": [
      "9 2\n",
      "SUN\n"
     ]
    }
   ],
   "source": [
    "# 다른 사람들 풀이\n",
    "A = [\"SUN\",\"MON\", \"TUE\", \"WED\", \"THU\", \"FRI\", \"SAT\"]\n",
    "B = [31,28,31,30,31,30,31,31,30,31,30,31]\n",
    "M,D = map(int,input().split())\n",
    "for i in range(M-1):\n",
    "    D += B[i]\n",
    "print(A[D%7])\n"
   ]
  },
  {
   "cell_type": "markdown",
   "metadata": {},
   "source": []
  },
  {
   "cell_type": "markdown",
   "metadata": {},
   "source": [
    "# 다음시간에 8393, 10818, 2438, 2439, 2440, 2441, 2442, 2445, 2522, 2446, 10991, 10992\n",
    "\n",
    "출처: https://plzrun.tistory.com/entry/알고리즘-문제풀이PS-시작하기 [plzrun's algorithm]"
   ]
  },
  {
   "cell_type": "code",
   "execution_count": 114,
   "metadata": {},
   "outputs": [
    {
     "data": {
      "text/plain": [
       "1"
      ]
     },
     "execution_count": 114,
     "metadata": {},
     "output_type": "execute_result"
    }
   ],
   "source": []
  }
 ],
 "metadata": {
  "kernelspec": {
   "display_name": "Python 3",
   "language": "python",
   "name": "python3"
  },
  "language_info": {
   "codemirror_mode": {
    "name": "ipython",
    "version": 3
   },
   "file_extension": ".py",
   "mimetype": "text/x-python",
   "name": "python",
   "nbconvert_exporter": "python",
   "pygments_lexer": "ipython3",
   "version": "3.8.3"
  }
 },
 "nbformat": 4,
 "nbformat_minor": 4
}
