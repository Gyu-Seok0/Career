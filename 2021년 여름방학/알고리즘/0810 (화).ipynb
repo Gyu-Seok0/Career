{
 "cells": [
  {
   "cell_type": "markdown",
   "metadata": {},
   "source": [
    "https://plzrun.tistory.com/entry/%EC%95%8C%EA%B3%A0%EB%A6%AC%EC%A6%98-%EB%AC%B8%EC%A0%9C%ED%92%80%EC%9D%B4PS-%EC%8B%9C%EC%9E%91%ED%95%98%EA%B8%B0"
   ]
  },
  {
   "cell_type": "markdown",
   "metadata": {},
   "source": [
    "# 11057번 오르막 수"
   ]
  },
  {
   "cell_type": "code",
   "execution_count": 8,
   "metadata": {},
   "outputs": [
    {
     "name": "stdout",
     "output_type": "stream",
     "text": [
      "3\n",
      "220\n"
     ]
    }
   ],
   "source": [
    "N = int(input())\n",
    "dp = [1]*10\n",
    "mod = 10007\n",
    "for i in range(N-1): # N-1번 반복\n",
    "    temp = []\n",
    "    for j in range(10):\n",
    "        temp.append(sum(dp[:j+1])%mod) # 이렇게 해주는게 더 빠른가 봄\n",
    "    dp = temp #갱신\n",
    "print(sum(dp)%mod) # 이렇게 해주는게 더 빠른가 봄"
   ]
  },
  {
   "cell_type": "markdown",
   "metadata": {},
   "source": [
    "# 이중 array\n",
    "https://www.acmicpc.net/source/32041264"
   ]
  },
  {
   "cell_type": "code",
   "execution_count": 11,
   "metadata": {},
   "outputs": [
    {
     "name": "stdout",
     "output_type": "stream",
     "text": [
      "3\n",
      "220\n"
     ]
    }
   ],
   "source": [
    "n = int(input())\n",
    "dp = [[1]*10 for _ in range(n+1)]\n",
    "\n",
    "for i in range(2, n+1):\n",
    "    for j in range(10):\n",
    "        dp[i][j] = sum(dp[i-1][:j+1])\n",
    "print(sum(dp[n]) % 10007)"
   ]
  },
  {
   "cell_type": "markdown",
   "metadata": {},
   "source": [
    "# 나랑 비슷한 식"
   ]
  },
  {
   "cell_type": "code",
   "execution_count": 13,
   "metadata": {},
   "outputs": [
    {
     "name": "stdout",
     "output_type": "stream",
     "text": [
      "3\n",
      "220\n"
     ]
    }
   ],
   "source": [
    "n = int(input())\n",
    "dp = [1]*10\n",
    "for i in range(n-1):\n",
    "    for j in range(1,10):\n",
    "        dp[j] += dp[j-1]\n",
    "print(sum(dp)%10007)"
   ]
  },
  {
   "cell_type": "markdown",
   "metadata": {},
   "source": [
    "# 백준 9465번"
   ]
  },
  {
   "cell_type": "code",
   "execution_count": 59,
   "metadata": {},
   "outputs": [
    {
     "name": "stdout",
     "output_type": "stream",
     "text": [
      "5\n",
      "50 10 100 20 40\n",
      "30 50 70 10 60\n"
     ]
    }
   ],
   "source": [
    "n = int(input())\n",
    "dp = []\n",
    "for _ in range(2):\n",
    "    score = list(map(int,input().split()))\n",
    "    dp.append([0]+score)"
   ]
  },
  {
   "cell_type": "code",
   "execution_count": 22,
   "metadata": {},
   "outputs": [],
   "source": [
    "# # 처음에 짠 풀이 --> 뭔가 안되는 것 같음.\n",
    "# s = 0\n",
    "# for i in range(1,n+1):\n",
    "#     dp[0][i] = max(dp[0][i] + dp[1][i-1], s)\n",
    "#     s = dp[0][i]\n",
    "    \n",
    "#     dp[1][i] = max(dp[1][i] + dp[0][i-1],s)\n",
    "#     s = dp[1][i]\n"
   ]
  },
  {
   "cell_type": "code",
   "execution_count": 70,
   "metadata": {},
   "outputs": [
    {
     "name": "stdout",
     "output_type": "stream",
     "text": [
      "1\n",
      "5\n",
      "50 10 100 20 40\n",
      "30 50 70 10 60\n",
      "260\n"
     ]
    }
   ],
   "source": [
    "# 시간초과 남\n",
    "def solve(num):\n",
    "    n = num\n",
    "    dp = []\n",
    "    for _ in range(2):\n",
    "        score = list(map(int,input().split()))\n",
    "        dp.append([0]+score)\n",
    "    for i in range(1,n+1):\n",
    "        max_value = 0\n",
    "        for j in range(1,i-1):\n",
    "            max_value = max(dp[0][j],dp[1][j], max_value)\n",
    "        # dp[0][i]\n",
    "        dp[0][i] += max(dp[1][i-1], max_value)\n",
    "        # dp[1][i]\n",
    "        dp[1][i] += max(dp[0][i-1], max_value)\n",
    "    print(max(dp[0][n],dp[1][n]))\n",
    "for _ in range(int(input())):\n",
    "    solve(int(input()))"
   ]
  },
  {
   "cell_type": "code",
   "execution_count": 73,
   "metadata": {},
   "outputs": [
    {
     "name": "stdout",
     "output_type": "stream",
     "text": [
      "2\n",
      "5\n",
      "50 10 100 20 40\n",
      "30 50 70 10 60\n",
      "260\n",
      "7\n",
      "10 30 10 50 100 20 40\n",
      "20 40 30 50 60 20 80\n",
      "290\n"
     ]
    }
   ],
   "source": [
    "# 성공\n",
    "def solve(n):\n",
    "    dp = []\n",
    "    for _ in range(2):\n",
    "        score = list(map(int,input().split()))\n",
    "        dp.append([0]+score)\n",
    "\n",
    "    max_value = 0\n",
    "    for i in range(1,n+1):\n",
    "        if i >= 2:\n",
    "            max_value = max(dp[0][i-2], dp[1][i-2])\n",
    "        dp[0][i] += max(dp[1][i-1], max_value) # 대각선\n",
    "        dp[1][i] += max(dp[0][i-1], max_value) # 대각선\n",
    "    print(max(dp[0][n],dp[1][n])) \n",
    "\n",
    "for _ in range(int(input())):\n",
    "    solve(int(input()))\n"
   ]
  },
  {
   "cell_type": "markdown",
   "metadata": {},
   "source": [
    "# 좋은코드\n",
    "https://pacific-ocean.tistory.com/197\n",
    "\n",
    "생각해보니까, E가 채택되었다면, D는 저절로 채택된것이라고 볼 수 있으므로\n",
    "H를 선택하기 위해서는 C,E중에 선택하면 된다.\n",
    "https://blog.kakaocdn.net/dn/P2rO3/btqy9Gm0Okn/tPO8FVsclV8Tn9lbfhdU5k/img.png"
   ]
  },
  {
   "cell_type": "code",
   "execution_count": 76,
   "metadata": {},
   "outputs": [
    {
     "name": "stdout",
     "output_type": "stream",
     "text": [
      "1\n",
      "1\n",
      "2\n",
      "3\n",
      "3\n"
     ]
    }
   ],
   "source": [
    "for _ in range(int(input())):\n",
    "    s = []\n",
    "    n = int(input())\n",
    "    for _ in range(2):\n",
    "        s.append(list(map(int,input().split())))\n",
    "    if n > 1:\n",
    "        s[0][1] += s[1][0] #대각선\n",
    "        s[1][1] += s[0][0]\n",
    "    for i in range(2,n):\n",
    "        s[0][i] += max(s[1][i-1], s[1][i-2])\n",
    "        s[1][i] += max(s[0][i-1], s[0][i-2])\n",
    "    print(max(s[0][n-1], s[1][n-1]))"
   ]
  },
  {
   "cell_type": "code",
   "execution_count": null,
   "metadata": {},
   "outputs": [],
   "source": []
  }
 ],
 "metadata": {
  "kernelspec": {
   "display_name": "Python 3",
   "language": "python",
   "name": "python3"
  },
  "language_info": {
   "codemirror_mode": {
    "name": "ipython",
    "version": 3
   },
   "file_extension": ".py",
   "mimetype": "text/x-python",
   "name": "python",
   "nbconvert_exporter": "python",
   "pygments_lexer": "ipython3",
   "version": "3.8.3"
  }
 },
 "nbformat": 4,
 "nbformat_minor": 4
}
