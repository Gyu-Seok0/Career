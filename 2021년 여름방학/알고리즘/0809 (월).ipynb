{
 "cells": [
  {
   "cell_type": "markdown",
   "metadata": {},
   "source": [
    "https://plzrun.tistory.com/entry/%EC%95%8C%EA%B3%A0%EB%A6%AC%EC%A6%98-%EB%AC%B8%EC%A0%9C%ED%92%80%EC%9D%B4PS-%EC%8B%9C%EC%9E%91%ED%95%98%EA%B8%B0"
   ]
  },
  {
   "cell_type": "markdown",
   "metadata": {},
   "source": [
    "# 백준 2438 별찍기"
   ]
  },
  {
   "cell_type": "code",
   "execution_count": 4,
   "metadata": {},
   "outputs": [
    {
     "name": "stdout",
     "output_type": "stream",
     "text": [
      "5\n",
      "*\n",
      "**\n",
      "***\n",
      "****\n",
      "*****\n"
     ]
    },
    {
     "data": {
      "text/plain": [
       "[None, None, None, None, None]"
      ]
     },
     "execution_count": 4,
     "metadata": {},
     "output_type": "execute_result"
    }
   ],
   "source": [
    "[print('*'*i) for i in range(1,int(input())+1)]"
   ]
  },
  {
   "cell_type": "markdown",
   "metadata": {},
   "source": [
    "# 백준 10992 별찍기2\n",
    "매우 잘함"
   ]
  },
  {
   "cell_type": "code",
   "execution_count": 15,
   "metadata": {},
   "outputs": [
    {
     "name": "stdout",
     "output_type": "stream",
     "text": [
      "3\n",
      "  *\n",
      " * *\n",
      "*****\n"
     ]
    }
   ],
   "source": [
    "\n",
    "n = int(input())\n",
    "for i in range(1,n+1):\n",
    "    # 맨마지막\n",
    "    if i == n:\n",
    "        print(\"*\"*(2*i-1))\n",
    "    # 맨 처음\n",
    "    elif i == 1:\n",
    "        print(\" \"*(n-1) + \"*\")\n",
    "    # 중간\n",
    "    else:\n",
    "        print(\" \"*(n-i) + \"*\" + \" \"*(2*i-3) + \"*\") "
   ]
  },
  {
   "cell_type": "markdown",
   "metadata": {},
   "source": [
    "# 백준 11727번 2*N 타일링2\n",
    "\n",
    "- 알고리즘:\n",
    "- step1) 입력받기\n",
    "- step2) dp로 저장하기\n",
    "- step3) dp값 이용하기 ex) 2x5 = (2x3)*2 + 2x4\n",
    "- step4) 출력하기"
   ]
  },
  {
   "cell_type": "code",
   "execution_count": 25,
   "metadata": {},
   "outputs": [
    {
     "name": "stdout",
     "output_type": "stream",
     "text": [
      "12\n",
      "2731\n"
     ]
    }
   ],
   "source": [
    "n = int(input())\n",
    "def solve(n):\n",
    "    if n == 1:\n",
    "        return 1\n",
    "    elif n == 2:\n",
    "        return 3\n",
    "    dp = [0]*(n+1)\n",
    "    dp[1], dp[2] = 1,3\n",
    "    for i in range(3,n+1):\n",
    "        dp[i] = dp[i-1] + 2*dp[i-2]\n",
    "    return dp[n]\n",
    "print(solve(n)%10007)"
   ]
  },
  {
   "cell_type": "markdown",
   "metadata": {},
   "source": [
    "# 개선된 코드\n",
    "- 나처럼 범위를 잡아주기 보다는 바로 문제를 해결 할 수 있음"
   ]
  },
  {
   "cell_type": "code",
   "execution_count": 27,
   "metadata": {},
   "outputs": [
    {
     "name": "stdout",
     "output_type": "stream",
     "text": [
      "8\n",
      "171\n"
     ]
    }
   ],
   "source": [
    "n = int(input())\n",
    "dp = [0,1,3]\n",
    "for i in range(3,n+1):\n",
    "    dp.append(dp[i-1] + dp[i-2]*2)\n",
    "print(dp[n]%10007)"
   ]
  },
  {
   "cell_type": "markdown",
   "metadata": {},
   "source": [
    "# 백준 9095번 1,2,3 더하기 (1,2,3의 합으로 표현되면 됌)\n",
    "d[n] = d[n-1] + d[n-2] + d[n-3]\n",
    "\n",
    "- 1,2,3은 자기자체로 표현이 가능한 숫자임."
   ]
  },
  {
   "cell_type": "code",
   "execution_count": 66,
   "metadata": {},
   "outputs": [
    {
     "name": "stdout",
     "output_type": "stream",
     "text": [
      "3\n",
      "1\n",
      "1\n",
      "2\n",
      "2\n",
      "3\n",
      "4\n"
     ]
    }
   ],
   "source": [
    "dp = [0,1,2,4]\n",
    "for i in range(4,11):\n",
    "    dp.append(dp[i-1]+dp[i-2]+dp[i-3])\n",
    "for _ in range(int(input())):\n",
    "    print(dp[int(input())])"
   ]
  },
  {
   "cell_type": "markdown",
   "metadata": {},
   "source": [
    "# 백준 10844번\n",
    "- n번째 자리까지 계산하되, +-1 차이나는 값의 개수 만큼 생성된다고 보면 된다."
   ]
  },
  {
   "cell_type": "code",
   "execution_count": 89,
   "metadata": {},
   "outputs": [
    {
     "name": "stdout",
     "output_type": "stream",
     "text": [
      "3\n",
      "32\n"
     ]
    }
   ],
   "source": [
    "dp = [1]*10\n",
    "dp[0] = 0\n",
    "\n",
    "n = int(input())\n",
    "# train\n",
    "ans = 0\n",
    "for i in range(1,n):\n",
    "    temp = []\n",
    "    for j in range(10):\n",
    "        if j == 0:\n",
    "            temp.append(dp[j+1])\n",
    "        elif j == 9:\n",
    "            temp.append(dp[j-1])\n",
    "        else:\n",
    "            temp.append(dp[j-1] + dp[j+1])\n",
    "        \n",
    "        if i == n-1:\n",
    "            ans += temp[-1]\n",
    "    dp = temp\n",
    "    \n",
    "if n == 1:\n",
    "    print(9)\n",
    "else:\n",
    "    print(ans%1000000000)\n",
    "    \n",
    "    \n"
   ]
  },
  {
   "cell_type": "markdown",
   "metadata": {},
   "source": [
    "# 백준코드 활용하기"
   ]
  },
  {
   "cell_type": "code",
   "execution_count": 91,
   "metadata": {},
   "outputs": [
    {
     "name": "stdout",
     "output_type": "stream",
     "text": [
      "3\n",
      "32\n"
     ]
    },
    {
     "data": {
      "text/plain": [
       "[[0, 0, 0, 0, 0, 0, 0, 0, 0, 0],\n",
       " [0, 1, 1, 1, 1, 1, 1, 1, 1, 1],\n",
       " [1, 1, 2, 2, 2, 2, 2, 2, 2, 1],\n",
       " [1, 3, 3, 4, 4, 4, 4, 4, 3, 2]]"
      ]
     },
     "execution_count": 91,
     "metadata": {},
     "output_type": "execute_result"
    }
   ],
   "source": [
    "n = int(input())\n",
    "mod = 100000000\n",
    "dp = [[0]*10 for _ in range(n+1)]\n",
    "\n",
    "# 1로 setting\n",
    "for i in range(1,10):\n",
    "    dp[1][i] = 1\n",
    "\n",
    "for i in range(2,n+1):\n",
    "    for j in range(10):\n",
    "        if j+1 <= 9:\n",
    "            dp[i][j] += dp[i-1][j+1]\n",
    "        if j-1 >= 0:\n",
    "            dp[i][j] += dp[i-1][j-1]\n",
    "        dp[i][j] %= mod\n",
    "print(sum(dp[n]) % mod)"
   ]
  },
  {
   "cell_type": "code",
   "execution_count": 93,
   "metadata": {},
   "outputs": [
    {
     "data": {
      "text/plain": [
       "[1, 3, 3, 4, 4, 4, 4, 4, 3, 2]"
      ]
     },
     "execution_count": 93,
     "metadata": {},
     "output_type": "execute_result"
    }
   ],
   "source": [
    "dp[n]"
   ]
  },
  {
   "cell_type": "code",
   "execution_count": null,
   "metadata": {},
   "outputs": [],
   "source": []
  }
 ],
 "metadata": {
  "kernelspec": {
   "display_name": "Python 3",
   "language": "python",
   "name": "python3"
  },
  "language_info": {
   "codemirror_mode": {
    "name": "ipython",
    "version": 3
   },
   "file_extension": ".py",
   "mimetype": "text/x-python",
   "name": "python",
   "nbconvert_exporter": "python",
   "pygments_lexer": "ipython3",
   "version": "3.8.3"
  }
 },
 "nbformat": 4,
 "nbformat_minor": 4
}
