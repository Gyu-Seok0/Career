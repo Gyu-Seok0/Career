{
 "cells": [
  {
   "cell_type": "markdown",
   "metadata": {},
   "source": [
    "# 지금까지 배운거 복습"
   ]
  },
  {
   "cell_type": "code",
   "execution_count": 1,
   "metadata": {},
   "outputs": [],
   "source": [
    "import torchvision.datasets as dsets\n",
    "import torchvision.transforms as transforms\n",
    "import torch\n",
    "\n",
    "# device setting\n",
    "device = 'cuda' if torch.cuda.is_available() else 'cpu'\n",
    "\n",
    "torch.manual_seed(777)\n",
    "if device == 'cuda':\n",
    "    torch.cuda.manual_seed_all(777)\n",
    "\n",
    "# Data download\n",
    "mnist_train = dsets.MNIST(root = \"MNIST_data/\", train = True, transform = transforms.ToTensor(), download= True)\n",
    "mnist_test = dsets.MNIST(root = \"MNIST_data/\", train = False, transform = transforms.ToTensor(), download= True)"
   ]
  },
  {
   "cell_type": "code",
   "execution_count": 2,
   "metadata": {},
   "outputs": [],
   "source": [
    "# hyper_parameter\n",
    "batch_size = 100\n",
    "learning_rate = 0.001\n",
    "training_epochs = 10"
   ]
  },
  {
   "cell_type": "code",
   "execution_count": 3,
   "metadata": {},
   "outputs": [],
   "source": [
    "# Dataloader\n",
    "from torch.utils.data import DataLoader\n",
    "train_loader = DataLoader(dataset= mnist_train,\n",
    "                          batch_size = batch_size,\n",
    "                          shuffle= True,\n",
    "                          drop_last= True)\n",
    "\n",
    "test_loader = DataLoader(dataset= mnist_test,\n",
    "                          batch_size = batch_size,\n",
    "                          shuffle= True,\n",
    "                          drop_last= False)\n"
   ]
  },
  {
   "cell_type": "code",
   "execution_count": 6,
   "metadata": {},
   "outputs": [],
   "source": [
    "# model 만들기\n",
    "import torch.nn as nn\n",
    "class MnistClassifier(nn.Module):\n",
    "    def __init__(self):\n",
    "        super().__init__()\n",
    "        self.layer = nn.Sequential(\n",
    "            # layer1\n",
    "            nn.Linear(28*28,256),\n",
    "            nn.ReLU(),\n",
    "            \n",
    "            #layer2\n",
    "            nn.Linear(256,256),\n",
    "            nn.ReLU(),\n",
    "            \n",
    "            #layer3\n",
    "            nn.Linear(256,256),\n",
    "            nn.ReLU(),\n",
    "            \n",
    "            #layer4\n",
    "            nn.Linear(256,10),\n",
    "        )\n",
    "        \n",
    "    def forward(self,x):\n",
    "        return self.layer(x)\n",
    "model = MnistClassifier().to(device)"
   ]
  },
  {
   "cell_type": "code",
   "execution_count": 7,
   "metadata": {},
   "outputs": [],
   "source": [
    "# define cost/loss & optim\n",
    "criterion = torch.nn.CrossEntropyLoss().to(device)\n",
    "optimizer= torch.optim.Adam(model.parameters(), lr = learning_rate)\n"
   ]
  },
  {
   "cell_type": "code",
   "execution_count": 13,
   "metadata": {},
   "outputs": [
    {
     "name": "stdout",
     "output_type": "stream",
     "text": [
      "Epoch: 0001 cost = 0.0125 Acc = 99.6233 %\n",
      "Test Accuracy: 98.0900\n",
      "Epoch: 0002 cost = 0.0135 Acc = 99.6000 %\n",
      "Test Accuracy: 98.2100\n",
      "Epoch: 0003 cost = 0.0134 Acc = 99.5983 %\n",
      "Test Accuracy: 98.0000\n",
      "Epoch: 0004 cost = 0.0120 Acc = 99.6067 %\n",
      "Test Accuracy: 97.5800\n",
      "Epoch: 0005 cost = 0.0121 Acc = 99.6167 %\n",
      "Test Accuracy: 97.7700\n",
      "Epoch: 0006 cost = 0.0074 Acc = 99.7483 %\n",
      "Test Accuracy: 98.2300\n",
      "Epoch: 0007 cost = 0.0138 Acc = 99.5583 %\n",
      "Test Accuracy: 97.9200\n",
      "Epoch: 0008 cost = 0.0107 Acc = 99.6567 %\n",
      "Test Accuracy: 98.0600\n",
      "Epoch: 0009 cost = 0.0060 Acc = 99.7983 %\n",
      "Test Accuracy: 98.1200\n",
      "Epoch: 0010 cost = 0.0069 Acc = 99.7817 %\n",
      "Test Accuracy: 97.8700\n"
     ]
    }
   ],
   "source": [
    "# train & test\n",
    "total_batch = len(train_loader)\n",
    "\n",
    "for epoch in range(training_epochs):\n",
    "    avg_cost = 0\n",
    "    correct = 0\n",
    "    \n",
    "    for X,Y in train_loader:\n",
    "        X = X.view(-1,28*28)\n",
    "        hypothesis = model(X)\n",
    "        cost = criterion(hypothesis, Y)\n",
    "        \n",
    "        # backward\n",
    "        optimizer.zero_grad()\n",
    "        cost.backward()\n",
    "        optimizer.step()\n",
    "        \n",
    "        #calculate\n",
    "        avg_cost += cost.item()\n",
    "        correct += (torch.argmax(hypothesis, 1).float() == Y).sum().item()\n",
    "        \n",
    "    acc = correct/(total_batch*batch_size)*100\n",
    "    avg_cost /= total_batch\n",
    "    print(\"Epoch: {:04d} cost = {:.4f} Acc = {:.4f} %\".format(epoch+1, avg_cost, acc))\n",
    "    \n",
    "    # test\n",
    "    with torch.no_grad():\n",
    "        correct_prediction = 0\n",
    "        for X_test,Y_test in test_loader:\n",
    "            X_test = X_test.view(-1,28*28)\n",
    "            prediction = model(X_test)\n",
    "            correct_prediction += torch.argmax(prediction,1) == Y_test\n",
    "        accuarcy = correct_prediction.float().mean()\n",
    "        print('Test Accuracy: {:.4f}'.format(accuarcy.item()))\n",
    "            \n",
    "        "
   ]
  },
  {
   "cell_type": "code",
   "execution_count": 25,
   "metadata": {},
   "outputs": [
    {
     "data": {
      "text/plain": [
       "torch.return_types.max(\n",
       "values=tensor([5., 6.]),\n",
       "indices=tensor([2, 2]))"
      ]
     },
     "execution_count": 25,
     "metadata": {},
     "output_type": "execute_result"
    }
   ],
   "source": [
    "t = torch.FloatTensor([[1,2],\n",
    "                       [3,4],\n",
    "                       [5,6]])\n",
    "\n",
    "t.max(dim = 0)\n"
   ]
  }
 ],
 "metadata": {
  "kernelspec": {
   "display_name": "Python 3",
   "language": "python",
   "name": "python3"
  },
  "language_info": {
   "codemirror_mode": {
    "name": "ipython",
    "version": 3
   },
   "file_extension": ".py",
   "mimetype": "text/x-python",
   "name": "python",
   "nbconvert_exporter": "python",
   "pygments_lexer": "ipython3",
   "version": "3.8.3"
  }
 },
 "nbformat": 4,
 "nbformat_minor": 4
}
