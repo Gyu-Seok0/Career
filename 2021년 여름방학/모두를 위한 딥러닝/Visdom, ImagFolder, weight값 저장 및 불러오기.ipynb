{
 "cells": [
  {
   "cell_type": "markdown",
   "metadata": {},
   "source": [
    "# 10-2 Mnist cnn 정리\n",
    "\n",
    "- 전체적인 프로세스\n",
    "<t>\n",
    "1) import <br>\n",
    "2) Device 설정하기 (cuda로 하게 되면, cuda 전용 Tensor형태로 변환시켜야 해서, to(device) 구문 사용함) <br>\n",
    "3) Dataset 불러오기 (이때, import torch.transforms 사용해서, 데이터를 Tensor로 바꿈) <br>\n",
    "4) Dataloader 만들기 (이떄, from torch.utils.data import DataLoader) <br>\n",
    "5) Model 구현하기 -> Class 형태로 만들면 됌 <br>\n",
    "6) Loss & optimizer 정하기 <br>\n",
    "7) Training <br>\n",
    "8) Test <br>(with torch.no_grad(), model.eval 모드를 사용해야 dropout이나 Batchnorm 과정에서 train에서 학습된 내용을 사용함) <br>\n",
    "<br>\n",
    "- 헷갈리는 코드  <br>\n",
    "import torchvision.datasets as dsets <br>\n",
    "import torchvision.transforms as transforms <br>\n",
    "    \n",
    "<h6>\n",
    "device = \"cuda\" if torch.cuda.is_available() else 'cpu'\n",
    "\n",
    "torch.manual_seed(777)\n",
    "if device == \"cuda\": <br>\n",
    "<t>    torch.cuda.manual_seed_all(777) <br>\n",
    "print(device)  \n",
    "</h6>\n",
    "  \n",
    "<br>\n",
    "- 디버깅 <br>\n",
    "가령, CNN에서 FC로 넘어갈 때 (batch_size, 나머지) 크기로 Data의 Rank가 변환된다. <br>\n",
    "이때, forward과정에서 print(out.size())와 같은 구문을 통해서 디버깅을 하면 효과적으로 제어할 수 있다. <br>\n",
    "    <br>\n",
    " 또한, 모델 테스팅 할때 torch.Tensor(batch,Ic,IH,IW) 형태로 하나 넣어놓고 잘 돌아가는지 확인하는 방법도 존재한다.\n"
   ]
  },
  {
   "cell_type": "markdown",
   "metadata": {},
   "source": [
    "# 10-3 Visdom 정리\n",
    "\n",
    "다운로드: pip install visdom <br>\n",
    "서버열기: python -m visdom.server\n",
    "\n",
    "- 사용이유: Loss function의 변동과정을 서버상에서 보여주기 위함이다.\n",
    "- 사용방법: 아래와 같은 함수를 선언하고, train 과정에서 epoch가 끝날 때마다, 해당 구문을 추가하면 된다."
   ]
  },
  {
   "cell_type": "code",
   "execution_count": 2,
   "metadata": {},
   "outputs": [
    {
     "name": "stderr",
     "output_type": "stream",
     "text": [
      "Setting up a new session...\n"
     ]
    },
    {
     "ename": "NameError",
     "evalue": "name 'cost' is not defined",
     "output_type": "error",
     "traceback": [
      "\u001b[0;31m---------------------------------------------------------------------------\u001b[0m",
      "\u001b[0;31mNameError\u001b[0m                                 Traceback (most recent call last)",
      "\u001b[0;32m<ipython-input-2-d7a138127256>\u001b[0m in \u001b[0;36m<module>\u001b[0;34m\u001b[0m\n\u001b[1;32m     13\u001b[0m \u001b[0mplt\u001b[0m \u001b[0;34m=\u001b[0m \u001b[0mvis\u001b[0m\u001b[0;34m.\u001b[0m\u001b[0mline\u001b[0m\u001b[0;34m(\u001b[0m\u001b[0mY\u001b[0m \u001b[0;34m=\u001b[0m \u001b[0mtorch\u001b[0m\u001b[0;34m.\u001b[0m\u001b[0mTensor\u001b[0m\u001b[0;34m(\u001b[0m\u001b[0;36m1\u001b[0m\u001b[0;34m)\u001b[0m\u001b[0;34m.\u001b[0m\u001b[0mzero_\u001b[0m\u001b[0;34m(\u001b[0m\u001b[0;34m)\u001b[0m\u001b[0;34m)\u001b[0m\u001b[0;34m\u001b[0m\u001b[0;34m\u001b[0m\u001b[0m\n\u001b[1;32m     14\u001b[0m \u001b[0;34m\u001b[0m\u001b[0m\n\u001b[0;32m---> 15\u001b[0;31m \u001b[0mloss_tracker\u001b[0m\u001b[0;34m(\u001b[0m\u001b[0mplt\u001b[0m\u001b[0;34m,\u001b[0m \u001b[0mcost\u001b[0m\u001b[0;34m.\u001b[0m\u001b[0mitem\u001b[0m\u001b[0;34m(\u001b[0m\u001b[0;34m)\u001b[0m\u001b[0;34m,\u001b[0m \u001b[0mepoch\u001b[0m\u001b[0;34m)\u001b[0m\u001b[0;34m\u001b[0m\u001b[0;34m\u001b[0m\u001b[0m\n\u001b[0m",
      "\u001b[0;31mNameError\u001b[0m: name 'cost' is not defined"
     ]
    }
   ],
   "source": [
    "import visdom\n",
    "import torch\n",
    "\n",
    "vis = visdom.Visdom()\n",
    "\n",
    "def loss_tracker(loss_plot, loss_value, num):\n",
    "    vis.line(X = num,\n",
    "             Y = loss_value,\n",
    "             win = loss_plot,\n",
    "             update = \"append\"\n",
    "            )\n",
    "    \n",
    "plt = vis.line(Y = torch.Tensor(1).zero_())\n",
    "\n",
    "loss_tracker(plt, cost.item(), epoch)"
   ]
  },
  {
   "cell_type": "markdown",
   "metadata": {},
   "source": [
    "# 10-4 ImageFolder 사용하기\n",
    "- 내가 가지고 있는 Dataset을 통해 학습을 진행하는 과정을 배운다.\n",
    "- 내가 이 내용을 딥러닝 응용 수업 때 배웠더라면, 아마 많은 에로사항들이 해결되었을 터인데..\n"
   ]
  },
  {
   "cell_type": "code",
   "execution_count": null,
   "metadata": {},
   "outputs": [],
   "source": [
    "# 데이터를 불러와서, Resize시키고, 다시 저장시키는 방법\n",
    "\n",
    "#1) Resize\n",
    "import torchvision\n",
    "import torchvision.transforms as transforms\n",
    "trans = transforms.Compose([\n",
    "    transforms.Resize((64,128)),\n",
    "    #transforms.ToTensor(), --> 여기서는 데이터를 Resize해서 저장할 예정이라 굳이 사용하지 않았음.\n",
    "    ])\n",
    "\n",
    "# Image 폴더는, train_data(빔), class_1, class_2 폴더로 구성되어 있음.\n",
    "train_data = torchvision.datasets.ImageFolder(root = \"Image\",\n",
    "                                             transform = trans)"
   ]
  },
  {
   "cell_type": "code",
   "execution_count": null,
   "metadata": {},
   "outputs": [],
   "source": [
    "# 데이터를 이렇게 불러오면 됌 -> 폴더마다 라벨링이 다르다고 인식함.\n",
    "for num,sample in enumerate(train_data):\n",
    "    imgs, label = sample\n",
    "    print(num, imgs, label)\n",
    "    \n",
    "    #여기서 Resize된 데이터를 미리저장 해놓으면 됌.\n",
    "    if label == 0:\n",
    "        imgs.save(\"Image/train_data/class_1/%d_%d.jpeg\"%(num,label))\n",
    "    else:\n",
    "        imgs.save(\"Image/train_data/class_2/%d_%d.jpeg\"%(num,label))\n",
    "    "
   ]
  },
  {
   "cell_type": "code",
   "execution_count": null,
   "metadata": {},
   "outputs": [],
   "source": [
    "# 다시 불러오기.\n",
    "train_data = torchvision.datasets.ImageFolder(root = \"Image/train_data\",\n",
    "                                              transform= transforms.ToTensor())\n",
    "from torch.utils.data import DataLoader\n",
    "train_loader = DataLoader(dataset=train_data,\n",
    "                          batch_size= 8,\n",
    "                          shuffle= True,\n",
    "                          drop_last= False,\n",
    "                         )"
   ]
  },
  {
   "cell_type": "markdown",
   "metadata": {},
   "source": [
    "# Weight 저장 및 불러오기"
   ]
  },
  {
   "cell_type": "code",
   "execution_count": null,
   "metadata": {},
   "outputs": [],
   "source": [
    "# 저장 (여기서 모델은 이미 구현된 class 형태의 모델을 의미함)\n",
    "torch.save(model.state_dict(), \"model/model.pth\")\n",
    "\n",
    "# 불러오기\n",
    "new_net = CNN().to(device)\n",
    "new_net.load_state_dict(torch.load(\"./model/model.pt\"))\n"
   ]
  },
  {
   "cell_type": "markdown",
   "metadata": {},
   "source": [
    "### 다음시간: HW5 다시 해봐야겠다."
   ]
  }
 ],
 "metadata": {
  "kernelspec": {
   "display_name": "Python 3",
   "language": "python",
   "name": "python3"
  },
  "language_info": {
   "codemirror_mode": {
    "name": "ipython",
    "version": 3
   },
   "file_extension": ".py",
   "mimetype": "text/x-python",
   "name": "python",
   "nbconvert_exporter": "python",
   "pygments_lexer": "ipython3",
   "version": "3.8.3"
  }
 },
 "nbformat": 4,
 "nbformat_minor": 4
}
