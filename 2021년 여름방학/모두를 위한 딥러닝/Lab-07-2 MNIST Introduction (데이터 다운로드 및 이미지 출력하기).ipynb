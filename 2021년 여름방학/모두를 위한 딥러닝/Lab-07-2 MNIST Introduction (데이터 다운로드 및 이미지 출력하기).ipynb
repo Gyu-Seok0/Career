{
 "cells": [
  {
   "cell_type": "code",
   "execution_count": 1,
   "metadata": {},
   "outputs": [],
   "source": [
    "import torch\n",
    "import torchvision.datasets as dsets\n",
    "import torchvision.transforms as transforms\n",
    "import matplotlib.pyplot as plt\n",
    "import random\n"
   ]
  },
  {
   "cell_type": "code",
   "execution_count": 2,
   "metadata": {},
   "outputs": [],
   "source": [
    "mninst_train = dsets.MNIST(root = \"MNIST_data/\", train = True, transform = transforms.ToTensor(), download=True)\n"
   ]
  },
  {
   "cell_type": "code",
   "execution_count": 3,
   "metadata": {},
   "outputs": [],
   "source": [
    "mninst_test = dsets.MNIST(root = \"MNIST_data/\", train = False, transform = transforms.ToTensor(), download=True)"
   ]
  },
  {
   "cell_type": "code",
   "execution_count": 17,
   "metadata": {},
   "outputs": [
    {
     "name": "stdout",
     "output_type": "stream",
     "text": [
      "cpu\n"
     ]
    }
   ],
   "source": [
    "device = 'cuda' if torch.cuda.is_available() else 'cpu'\n",
    "print(device)\n",
    "\n",
    "# for reproducibility\n",
    "random.seed(777)\n",
    "torch.manual_seed(777)\n",
    "if device == 'cuda':\n",
    "    torch.cuda.manual_seed_all(777)"
   ]
  },
  {
   "cell_type": "code",
   "execution_count": 18,
   "metadata": {},
   "outputs": [],
   "source": [
    "training_epochs = 15\n",
    "batch_size = 100"
   ]
  },
  {
   "cell_type": "code",
   "execution_count": 19,
   "metadata": {},
   "outputs": [],
   "source": [
    "#Datalodaer\n",
    "from torch.utils.data import DataLoader\n",
    "\n",
    "data_loader = DataLoader(dataset= mninst_train,\n",
    "                         batch_size= batch_size,\n",
    "                         shuffle= True,\n",
    "                         drop_last= True)"
   ]
  },
  {
   "cell_type": "code",
   "execution_count": 20,
   "metadata": {},
   "outputs": [],
   "source": [
    "# model\n",
    "linear = torch.nn.Linear(28*28,10, bias= True).to(device)"
   ]
  },
  {
   "cell_type": "code",
   "execution_count": 21,
   "metadata": {},
   "outputs": [],
   "source": [
    "#  loss & optim\n",
    "criterion = torch.nn.CrossEntropyLoss().to(device)\n",
    "optimizer = torch.optim.SGD(linear.parameters(), lr = 0.1)"
   ]
  },
  {
   "cell_type": "code",
   "execution_count": 22,
   "metadata": {},
   "outputs": [],
   "source": [
    "X_list = []\n",
    "acc_list = []\n"
   ]
  },
  {
   "cell_type": "code",
   "execution_count": 23,
   "metadata": {},
   "outputs": [
    {
     "name": "stdout",
     "output_type": "stream",
     "text": [
      "Epoch: 1 Cost = 0.5355 Acc = 86.7733%\n",
      "Test Accuracy: 0.8952999711036682\n",
      "Epoch: 2 Cost = 0.3593 Acc = 90.0733%\n",
      "Test Accuracy: 0.9045000076293945\n",
      "Epoch: 3 Cost = 0.3312 Acc = 90.7800%\n",
      "Test Accuracy: 0.896399974822998\n",
      "Epoch: 4 Cost = 0.3166 Acc = 91.1883%\n",
      "Test Accuracy: 0.9049999713897705\n",
      "Epoch: 5 Cost = 0.3072 Acc = 91.4333%\n",
      "Test Accuracy: 0.9049999713897705\n",
      "Epoch: 6 Cost = 0.3002 Acc = 91.6217%\n",
      "Test Accuracy: 0.9014999866485596\n",
      "Epoch: 7 Cost = 0.2951 Acc = 91.8133%\n",
      "Test Accuracy: 0.9034000039100647\n",
      "Epoch: 8 Cost = 0.2909 Acc = 91.8933%\n",
      "Test Accuracy: 0.8981999754905701\n",
      "Epoch: 9 Cost = 0.2874 Acc = 91.9750%\n",
      "Test Accuracy: 0.8981000185012817\n",
      "Epoch: 10 Cost = 0.2844 Acc = 92.0267%\n",
      "Test Accuracy: 0.8930000066757202\n",
      "Epoch: 11 Cost = 0.2818 Acc = 92.1767%\n",
      "Test Accuracy: 0.8912000060081482\n",
      "Epoch: 12 Cost = 0.2798 Acc = 92.1833%\n",
      "Test Accuracy: 0.886900007724762\n",
      "Epoch: 13 Cost = 0.2778 Acc = 92.2717%\n",
      "Test Accuracy: 0.8967000246047974\n",
      "Epoch: 14 Cost = 0.2762 Acc = 92.3150%\n",
      "Test Accuracy: 0.8853999972343445\n",
      "Epoch: 15 Cost = 0.2744 Acc = 92.4050%\n",
      "Test Accuracy: 0.8863000273704529\n"
     ]
    },
    {
     "data": {
      "text/plain": [
       "[<matplotlib.lines.Line2D at 0x7fbacf2d5df0>]"
      ]
     },
     "execution_count": 23,
     "metadata": {},
     "output_type": "execute_result"
    },
    {
     "data": {
      "image/png": "[encoded data removed]",
      "text/plain": [
       "<Figure size 432x288 with 1 Axes>"
      ]
     },
     "metadata": {
      "needs_background": "light"
     },
     "output_type": "display_data"
    }
   ],
   "source": [
    "for epoch in range(training_epochs):\n",
    "    acc = 0\n",
    "    avg_cost = 0\n",
    "    total_batch = len(data_loader)\n",
    "    \n",
    "    for X,Y in data_loader:\n",
    "        X = X.view(-1, 28*28).to(device)\n",
    "        Y = Y.to(device)\n",
    "        \n",
    "        hypothesis = linear(X)\n",
    "        cost = criterion(hypothesis, Y)\n",
    "        \n",
    "        #optim\n",
    "        optimizer.zero_grad()\n",
    "        cost.backward()\n",
    "        optimizer.step()\n",
    "        \n",
    "        #calculate\n",
    "        avg_cost += cost/total_batch # total_batch\n",
    "        pred = hypothesis.max(1)[1]\n",
    "        acc += (pred.float() == Y).sum().item()\n",
    "    acc /= len(data_loader)*batch_size\n",
    "    \n",
    "    #추가하기\n",
    "    X_list.append(epoch+1)\n",
    "    acc_list.append(acc)\n",
    "    print('Epoch: {} Cost = {:.4f} Acc = {:.4f}%'.format(epoch+1,avg_cost, acc*100))\n",
    "    \n",
    "    # test\n",
    "    with torch.no_grad():\n",
    "        X_test = mninst_test.test_data.view(-1,28*28).float().to(device)\n",
    "        Y_test = mninst_test.test_labels.to(device)\n",
    "\n",
    "        prediction = linear(X_test)\n",
    "        correct_prediction = torch.argmax(prediction,1) == Y_test\n",
    "        accuarcy = correct_prediction.float().mean()\n",
    "        print('Test Accuracy:',accuarcy.item())\n",
    "    \n",
    "    \n",
    "\n",
    "# 시각화\n",
    "plt.plot(X_list, acc_list)\n"
   ]
  },
  {
   "cell_type": "code",
   "execution_count": 41,
   "metadata": {},
   "outputs": [
    {
     "name": "stderr",
     "output_type": "stream",
     "text": [
      "/Users/igyuseog/opt/anaconda3/lib/python3.8/site-packages/torchvision/datasets/mnist.py:50: UserWarning: test_labels has been renamed targets\n",
      "  warnings.warn(\"test_labels has been renamed targets\")\n"
     ]
    }
   ],
   "source": [
    "# Visualiazation\n",
    "import matplotlib.pyplot as plt\n",
    "import random\n",
    "\n",
    "r = random.randint(0, len(mninst_test)-1)\n",
    "\n",
    "X_single_data = mninst_test.test_data[r:r+1].view(-1,28*28).float().to(device)\n",
    "Y_single_label = mninst_test.test_labels[r:r+1].to(device)\n",
    "\n"
   ]
  },
  {
   "cell_type": "code",
   "execution_count": 42,
   "metadata": {},
   "outputs": [
    {
     "name": "stdout",
     "output_type": "stream",
     "text": [
      "Label: 8\n",
      "Prediction 8\n"
     ]
    }
   ],
   "source": [
    "print(\"Label:\",Y_single_label.item())\n",
    "single_prediction = linear(X_single_data)\n",
    "\n",
    "print(\"Prediction\", torch.argmax(single_prediction, 1).item())"
   ]
  },
  {
   "cell_type": "code",
   "execution_count": 43,
   "metadata": {},
   "outputs": [
    {
     "data": {
      "image/png": "[encoded data removed]",
      "text/plain": [
       "<Figure size 432x288 with 1 Axes>"
      ]
     },
     "metadata": {
      "needs_background": "light"
     },
     "output_type": "display_data"
    }
   ],
   "source": [
    "plt.imshow(mninst_test.test_data[r:r+1].view(28,28), cmap = \"Greys\", interpolation=\"nearest\")\n",
    "plt.show()"
   ]
  },
  {
   "cell_type": "code",
   "execution_count": null,
   "metadata": {},
   "outputs": [],
   "source": []
  }
 ],
 "metadata": {
  "kernelspec": {
   "display_name": "Python 3",
   "language": "python",
   "name": "python3"
  },
  "language_info": {
   "codemirror_mode": {
    "name": "ipython",
    "version": 3
   },
   "file_extension": ".py",
   "mimetype": "text/x-python",
   "name": "python",
   "nbconvert_exporter": "python",
   "pygments_lexer": "ipython3",
   "version": "3.8.3"
  }
 },
 "nbformat": 4,
 "nbformat_minor": 4
}
