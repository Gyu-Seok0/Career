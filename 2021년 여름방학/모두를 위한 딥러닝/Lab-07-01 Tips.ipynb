{
 "cells": [
  {
   "cell_type": "markdown",
   "metadata": {},
   "source": [
    "# 로지스틱 & 소프트맥스 잠시 복습하기\n",
    "- 로지스틱은 시그모이드 함수를 통해서 P(x=1)일 확률을 구해주는 형태로 학습이 진행된다.\n",
    "- 따라서 우리가 정한 Threshold를 넘어서면, 해당 class에 속한다고 판단가능하다.\n",
    "- Binary cross-entropy 기법을 사용한다.\n"
   ]
  },
  {
   "cell_type": "code",
   "execution_count": 35,
   "metadata": {},
   "outputs": [
    {
     "data": {
      "text/plain": [
       "<torch._C.Generator at 0x7fd8bd8d59d0>"
      ]
     },
     "execution_count": 35,
     "metadata": {},
     "output_type": "execute_result"
    }
   ],
   "source": [
    "import torch\n",
    "import torch.nn as nn\n",
    "import torch.nn.functional as F\n",
    "import torch.optim as optim\n",
    "\n",
    "torch.manual_seed(1)"
   ]
  },
  {
   "cell_type": "code",
   "execution_count": 28,
   "metadata": {},
   "outputs": [],
   "source": [
    "# 데이터정의하기\n",
    "x_data = [[1,2],[2,3],[3,1],[4,3],[5,3],[6,2]] # 6 X 2\n",
    "y_data = [[0],[0],[0],[1],[1],[1]] # 6 X 1\n",
    "\n",
    "x_train = torch.FloatTensor(x_data)\n",
    "y_train = torch.FloatTensor(y_data)"
   ]
  },
  {
   "cell_type": "code",
   "execution_count": 32,
   "metadata": {},
   "outputs": [],
   "source": [
    "# 모델만들기\n",
    "class Logistic_Model(nn.Module):\n",
    "    def __init__(self):\n",
    "        super().__init__()\n",
    "#         self.linear = nn.Linear(2,1)\n",
    "#         self.sigmoid = nn.Sigmoid()\n",
    "        self.layer = nn.Sequential(\n",
    "            nn.Linear(2,1),\n",
    "            nn.Sigmoid(),\n",
    "        )\n",
    "        \n",
    "    def forward(self,x):\n",
    "        #return self.sigmoid(self.linear(x))\n",
    "        return self.layer(x)\n",
    "    \n",
    "L_model = Logistic_Model()"
   ]
  },
  {
   "cell_type": "code",
   "execution_count": 33,
   "metadata": {},
   "outputs": [],
   "source": [
    "#optim\n",
    "optimizer = optim.SGD(L_model.parameters(), lr = 1)"
   ]
  },
  {
   "cell_type": "code",
   "execution_count": 34,
   "metadata": {},
   "outputs": [
    {
     "name": "stdout",
     "output_type": "stream",
     "text": [
      "Epoch    0/100 Cost : 0.5767403244972229 acc:83.33333333333334\n",
      "Epoch   10/100 Cost : 0.8181087970733643 acc:66.66666666666666\n",
      "Epoch   20/100 Cost : 0.5821924209594727 acc:83.33333333333334\n",
      "Epoch   30/100 Cost : 0.48843690752983093 acc:83.33333333333334\n",
      "Epoch   40/100 Cost : 0.40266355872154236 acc:83.33333333333334\n",
      "Epoch   50/100 Cost : 0.3210720121860504 acc:83.33333333333334\n",
      "Epoch   60/100 Cost : 0.2470589280128479 acc:83.33333333333334\n",
      "Epoch   70/100 Cost : 0.19001829624176025 acc:100.0\n",
      "Epoch   80/100 Cost : 0.15886469185352325 acc:100.0\n",
      "Epoch   90/100 Cost : 0.14483368396759033 acc:100.0\n",
      "Epoch  100/100 Cost : 0.13489697873592377 acc:100.0\n"
     ]
    }
   ],
   "source": [
    "# training\n",
    "n_epoch = 100\n",
    "for epoch in range(n_epoch+1):\n",
    "    #H(x)계산하기\n",
    "    hypothesis = L_model(x_train)\n",
    "    cost = F.binary_cross_entropy(hypothesis, y_train)\n",
    "    \n",
    "    #backprop\n",
    "    optimizer.zero_grad()\n",
    "    cost.backward()\n",
    "    optimizer.step()\n",
    "    \n",
    "    #출력하기\n",
    "    if epoch % 10 == 0:\n",
    "        pred = hypothesis > torch.FloatTensor([0.5])\n",
    "        acc = (pred.float() == y_train).sum().item() / len(pred)\n",
    "        print(\"Epoch {:4d}/{} Cost : {} acc:{}\".format(epoch, n_epoch, cost.item(),acc*100))"
   ]
  },
  {
   "cell_type": "markdown",
   "metadata": {},
   "source": [
    "# Soft max"
   ]
  },
  {
   "cell_type": "code",
   "execution_count": 37,
   "metadata": {},
   "outputs": [],
   "source": [
    "# 데이터 정의하기\n",
    "# 8 x 4\n",
    "x_train = [[1,2,1,1],\n",
    "           [2,1,3,2],\n",
    "           [3,1,3,4],\n",
    "           [4,1,5,5],\n",
    "           [1,7,5,5],\n",
    "           [1,2,5,6],\n",
    "           [1,6,6,6], \n",
    "           [1,7,7,7]]\n",
    "# (8,)의 형태를 가진다.\n",
    "y_train = [2,2,2,1,1,1,0,0] # 3개의 클래스에서 index를 의미한다. 예를들어 2를 사용하면 (0,0,1)\n",
    "x_train = torch.FloatTensor(x_train)\n",
    "y_train = torch.LongTensor(y_train)"
   ]
  },
  {
   "cell_type": "code",
   "execution_count": 55,
   "metadata": {},
   "outputs": [],
   "source": [
    "# model 정의하기\n",
    "class SoftmaxClassifierModel(nn.Module):\n",
    "    def __init__(self):\n",
    "        super().__init__()\n",
    "        self.layer = nn.Sequential(\n",
    "            nn.Linear(4,3),\n",
    "        )\n",
    "        \n",
    "    def forward(self,x):\n",
    "        return self.layer(x)\n",
    "\n",
    "S_model = SoftmaxClassifierModel()\n",
    "\n",
    "#optimizer\n",
    "optimizer = optim.SGD(S_model.parameters(), lr = 1e-1)"
   ]
  },
  {
   "cell_type": "code",
   "execution_count": 56,
   "metadata": {},
   "outputs": [
    {
     "name": "stdout",
     "output_type": "stream",
     "text": [
      "Epoch    0/1000 Cost : 1.7697954177856445 acc:25.0\n",
      "Epoch  100/1000 Cost : 0.6833751201629639 acc:75.0\n",
      "Epoch  200/1000 Cost : 0.6049606204032898 acc:75.0\n",
      "Epoch  300/1000 Cost : 0.5480685234069824 acc:75.0\n",
      "Epoch  400/1000 Cost : 0.4976436197757721 acc:87.5\n",
      "Epoch  500/1000 Cost : 0.44987839460372925 acc:87.5\n",
      "Epoch  600/1000 Cost : 0.4032818078994751 acc:87.5\n",
      "Epoch  700/1000 Cost : 0.35716378688812256 acc:87.5\n",
      "Epoch  800/1000 Cost : 0.31143900752067566 acc:87.5\n",
      "Epoch  900/1000 Cost : 0.26794832944869995 acc:87.5\n",
      "Epoch 1000/1000 Cost : 0.23981989920139313 acc:100.0\n"
     ]
    }
   ],
   "source": [
    "# train\n",
    "\n",
    "n_epoch = 1000\n",
    "for epoch in range(n_epoch+1):\n",
    "    #H(x)계산하기\n",
    "    hypothesis = S_model(x_train)\n",
    "    cost = F.cross_entropy(hypothesis, y_train)\n",
    "    \n",
    "    #backprop\n",
    "    optimizer.zero_grad()\n",
    "    cost.backward()\n",
    "    optimizer.step()\n",
    "    \n",
    "    #출력하기\n",
    "    if epoch % 100 == 0:\n",
    "        #pred = hypothesis > torch.FloatTensor([0.5])\n",
    "        #acc = (pred.float() == y_train).sum().item() / len(pred)\n",
    "        pred = torch.argmax(F.softmax(hypothesis, dim = 1), dim = 1)\n",
    "        acc = (pred == y_train).sum().item() / len(pred)\n",
    "        print(\"Epoch {:4d}/{} Cost : {} acc:{}\".format(epoch, n_epoch, cost.item(),acc*100))"
   ]
  },
  {
   "cell_type": "markdown",
   "metadata": {},
   "source": [
    "# 느낀점\n",
    "\n",
    "- clasification 모델에 대해서 배울 수 있었다.\n",
    "- 로지스틱은 시그모이드 함수를 통해서, P(x=1)인 확률을 계산하고, binary cross entropy 사용한다.\n",
    "\n",
    "- 소프트맥스는 소프트맥스함수를 이용해서 class별 확률을 계산하고, cross_entropy 함수를 사용한다."
   ]
  },
  {
   "cell_type": "markdown",
   "metadata": {},
   "source": [
    "# 오늘의 수업 Tips"
   ]
  },
  {
   "cell_type": "code",
   "execution_count": 101,
   "metadata": {},
   "outputs": [],
   "source": [
    "x_train = torch.FloatTensor([[1,2,1],\n",
    "                             [1,3,2],\n",
    "                             [1,3,4],\n",
    "                             [1,5,5],\n",
    "                             [1,7,5],\n",
    "                             [1,2,5],\n",
    "                             [1,6,6],\n",
    "                             [2,7,7]\n",
    "                            ])\n",
    "y_train = torch.LongTensor([2,2,2,1,1,1,0,0])"
   ]
  },
  {
   "cell_type": "code",
   "execution_count": 102,
   "metadata": {},
   "outputs": [],
   "source": [
    "x_test = torch.FloatTensor([[2,1,1],[3,1,2],[3,3,4]])\n",
    "y_test = torch.LongTensor([2,2,2])"
   ]
  },
  {
   "cell_type": "code",
   "execution_count": 103,
   "metadata": {},
   "outputs": [],
   "source": [
    "#model\n",
    "class SoftmaxClassifierModel(nn.Module):\n",
    "    def __init__(self):\n",
    "        super().__init__()\n",
    "        self.linear = nn.Linear(3,3)\n",
    "        \n",
    "    def forward(self,x):\n",
    "        return self.linear(x)\n",
    "    \n",
    "model = SoftmaxClassifierModel()\n",
    "\n",
    "#optimizer\n",
    "optimizer = optim.SGD(model.parameters(), lr = 0.1)\n"
   ]
  },
  {
   "cell_type": "code",
   "execution_count": 86,
   "metadata": {},
   "outputs": [],
   "source": [
    "def train(model, optimizer, x_train, y_train):\n",
    "    nb_epochs = 20\n",
    "    for epoch in range(nb_epochs):\n",
    "        prediction  = model(x_train)\n",
    "        cost = F.cross_entropy(prediction, y_train)\n",
    "        \n",
    "        # cost계산\n",
    "        optimizer.zero_grad()\n",
    "        cost.backward()\n",
    "        optimizer.step()\n",
    "        \n",
    "        print('Epoch {:4d}/{} Cost:{:.6f}'.format(epoch,nb_epochs,cost.item()))\n",
    "        \n",
    "        "
   ]
  },
  {
   "cell_type": "code",
   "execution_count": 87,
   "metadata": {},
   "outputs": [],
   "source": [
    "def test(model, optimizer, x_test, y_test):\n",
    "    prediction = model(x_test)\n",
    "    predicted_classes = prediction.max(1)[1]\n",
    "    correct_count = (predicted_classes == y_test).sum().item()\n",
    "    \n",
    "    cost = F.cross_entropy(prediction, y_test)\n",
    "    \n",
    "    print('Accuracy:{}% Cost:{:.6f}'.format(correct_count/len(y_test)*100, cost.item()))\n",
    "    "
   ]
  },
  {
   "cell_type": "markdown",
   "metadata": {},
   "source": [
    "# Learning rate가 클때와 작을때"
   ]
  },
  {
   "cell_type": "code",
   "execution_count": 91,
   "metadata": {},
   "outputs": [
    {
     "name": "stdout",
     "output_type": "stream",
     "text": [
      "Epoch    0/20 Cost:1.826495\n",
      "Epoch    1/20 Cost:1252283.500000\n",
      "Epoch    2/20 Cost:1883201.250000\n",
      "Epoch    3/20 Cost:741362.125000\n",
      "Epoch    4/20 Cost:1941346.000000\n",
      "Epoch    5/20 Cost:275388.781250\n",
      "Epoch    6/20 Cost:928846.000000\n",
      "Epoch    7/20 Cost:2564799.500000\n",
      "Epoch    8/20 Cost:492908.437500\n",
      "Epoch    9/20 Cost:1750737.125000\n",
      "Epoch   10/20 Cost:728513.750000\n",
      "Epoch   11/20 Cost:1181971.000000\n",
      "Epoch   12/20 Cost:1872612.125000\n",
      "Epoch   13/20 Cost:746033.437500\n",
      "Epoch   14/20 Cost:1093121.875000\n",
      "Epoch   15/20 Cost:970701.250000\n",
      "Epoch   16/20 Cost:1413221.000000\n",
      "Epoch   17/20 Cost:1347612.125000\n",
      "Epoch   18/20 Cost:983649.562500\n",
      "Epoch   19/20 Cost:631366.000000\n"
     ]
    }
   ],
   "source": [
    "model = SoftmaxClassifierModel()\n",
    "\n",
    "#optimizer\n",
    "optimizer = optim.SGD(model.parameters(), lr = 1e5) # 클떄\n",
    "train(model, optimizer, x_train, y_train)\n"
   ]
  },
  {
   "cell_type": "code",
   "execution_count": 93,
   "metadata": {},
   "outputs": [
    {
     "name": "stdout",
     "output_type": "stream",
     "text": [
      "Epoch    0/20 Cost:2.869081\n",
      "Epoch    1/20 Cost:2.868805\n",
      "Epoch    2/20 Cost:2.868531\n",
      "Epoch    3/20 Cost:2.868255\n",
      "Epoch    4/20 Cost:2.867980\n",
      "Epoch    5/20 Cost:2.867705\n",
      "Epoch    6/20 Cost:2.867430\n",
      "Epoch    7/20 Cost:2.867155\n",
      "Epoch    8/20 Cost:2.866880\n",
      "Epoch    9/20 Cost:2.866605\n",
      "Epoch   10/20 Cost:2.866330\n",
      "Epoch   11/20 Cost:2.866055\n",
      "Epoch   12/20 Cost:2.865780\n",
      "Epoch   13/20 Cost:2.865505\n",
      "Epoch   14/20 Cost:2.865231\n",
      "Epoch   15/20 Cost:2.864956\n",
      "Epoch   16/20 Cost:2.864681\n",
      "Epoch   17/20 Cost:2.864406\n",
      "Epoch   18/20 Cost:2.864131\n",
      "Epoch   19/20 Cost:2.863857\n"
     ]
    }
   ],
   "source": [
    "model = SoftmaxClassifierModel()\n",
    "\n",
    "#optimizer\n",
    "optimizer = optim.SGD(model.parameters(), lr = 1e-5) # 작을때\n",
    "train(model, optimizer, x_train, y_train)\n"
   ]
  },
  {
   "cell_type": "markdown",
   "metadata": {},
   "source": [
    "# Data Preprocessing\n",
    "\n",
    "- Standard deviation 구하기"
   ]
  },
  {
   "cell_type": "code",
   "execution_count": 131,
   "metadata": {},
   "outputs": [],
   "source": [
    "mu = x_train.mean(dim = 0) # dim 0을 죽임\n",
    "sigma = x_train.std(dim = 0)"
   ]
  },
  {
   "cell_type": "code",
   "execution_count": 148,
   "metadata": {},
   "outputs": [
    {
     "data": {
      "text/plain": [
       "tensor([[1., 2., 1.],\n",
       "        [1., 3., 2.],\n",
       "        [1., 3., 4.],\n",
       "        [1., 5., 5.],\n",
       "        [1., 7., 5.],\n",
       "        [1., 2., 5.],\n",
       "        [1., 6., 6.],\n",
       "        [2., 7., 7.]])"
      ]
     },
     "execution_count": 148,
     "metadata": {},
     "output_type": "execute_result"
    }
   ],
   "source": [
    "x_train"
   ]
  },
  {
   "cell_type": "code",
   "execution_count": 147,
   "metadata": {},
   "outputs": [
    {
     "data": {
      "text/plain": [
       "tensor([1.1250, 4.3750, 4.3750])"
      ]
     },
     "execution_count": 147,
     "metadata": {},
     "output_type": "execute_result"
    }
   ],
   "source": [
    "mu"
   ]
  },
  {
   "cell_type": "code",
   "execution_count": 132,
   "metadata": {},
   "outputs": [],
   "source": [
    "norm_x_train = (x_train - mu) / sigma"
   ]
  },
  {
   "cell_type": "code",
   "execution_count": 133,
   "metadata": {},
   "outputs": [
    {
     "name": "stdout",
     "output_type": "stream",
     "text": [
      "tensor([[-0.3536, -1.1130, -1.6913],\n",
      "        [-0.3536, -0.6444, -1.1902],\n",
      "        [-0.3536, -0.6444, -0.1879],\n",
      "        [-0.3536,  0.2929,  0.3132],\n",
      "        [-0.3536,  1.2301,  0.3132],\n",
      "        [-0.3536, -1.1130,  0.3132],\n",
      "        [-0.3536,  0.7615,  0.8143],\n",
      "        [ 2.4749,  1.2301,  1.3154]])\n"
     ]
    }
   ],
   "source": [
    "print(norm_x_train)"
   ]
  },
  {
   "cell_type": "code",
   "execution_count": 139,
   "metadata": {},
   "outputs": [],
   "source": [
    "norm_x_train.dtype\n",
    "y_train = y_train.float()"
   ]
  },
  {
   "cell_type": "code",
   "execution_count": 140,
   "metadata": {},
   "outputs": [],
   "source": [
    "class MultivariateLinearRegressionModel(nn.Module):\n",
    "    def __init__(self):\n",
    "        super().__init__()\n",
    "        self.linear = nn.Linear(3,1)\n",
    "        \n",
    "    def forward(self,x):\n",
    "        return self.linear(x)\n",
    "model = MultivariateLinearRegressionModel()"
   ]
  },
  {
   "cell_type": "code",
   "execution_count": 144,
   "metadata": {},
   "outputs": [],
   "source": [
    "optimizer = optim.SGD(model.parameters(), lr = 1e-1)"
   ]
  },
  {
   "cell_type": "code",
   "execution_count": 145,
   "metadata": {},
   "outputs": [],
   "source": [
    "#이번에는 regression 모델을 만듭시다.\n",
    "def train(model, optimizer, x_train, y_train):\n",
    "    nb_epochs = 20\n",
    "    for epoch in range(nb_epochs):\n",
    "        prediction  = model(x_train)\n",
    "        cost = F.mse_loss(prediction, y_train)\n",
    "        \n",
    "        # cost계산\n",
    "        optimizer.zero_grad()\n",
    "        cost.backward()\n",
    "        optimizer.step()\n",
    "        \n",
    "        print('Epoch {:4d}/{} Cost:{:.6f}'.format(epoch,nb_epochs,cost.item()))"
   ]
  },
  {
   "cell_type": "code",
   "execution_count": 146,
   "metadata": {},
   "outputs": [
    {
     "name": "stdout",
     "output_type": "stream",
     "text": [
      "Epoch    0/20 Cost:1.438417\n",
      "Epoch    1/20 Cost:1.052675\n",
      "Epoch    2/20 Cost:0.866802\n",
      "Epoch    3/20 Cost:0.769861\n",
      "Epoch    4/20 Cost:0.715177\n",
      "Epoch    5/20 Cost:0.682128\n",
      "Epoch    6/20 Cost:0.661016\n",
      "Epoch    7/20 Cost:0.646945\n",
      "Epoch    8/20 Cost:0.637256\n",
      "Epoch    9/20 Cost:0.630410\n",
      "Epoch   10/20 Cost:0.625468\n",
      "Epoch   11/20 Cost:0.621836\n",
      "Epoch   12/20 Cost:0.619122\n",
      "Epoch   13/20 Cost:0.617066\n",
      "Epoch   14/20 Cost:0.615488\n",
      "Epoch   15/20 Cost:0.614264\n",
      "Epoch   16/20 Cost:0.613305\n",
      "Epoch   17/20 Cost:0.612548\n",
      "Epoch   18/20 Cost:0.611946\n",
      "Epoch   19/20 Cost:0.611464\n"
     ]
    },
    {
     "name": "stderr",
     "output_type": "stream",
     "text": [
      "<ipython-input-145-b54eb8bdb73e>:6: UserWarning: Using a target size (torch.Size([8])) that is different to the input size (torch.Size([8, 1])). This will likely lead to incorrect results due to broadcasting. Please ensure they have the same size.\n",
      "  cost = F.mse_loss(prediction, y_train)\n"
     ]
    }
   ],
   "source": [
    "train(model,optimizer,norm_x_train,y_train)"
   ]
  },
  {
   "cell_type": "code",
   "execution_count": 154,
   "metadata": {},
   "outputs": [
    {
     "data": {
      "text/plain": [
       "tensor([1.1250, 4.3750, 4.3750])"
      ]
     },
     "execution_count": 154,
     "metadata": {},
     "output_type": "execute_result"
    }
   ],
   "source": [
    "x_train.mean(dim=0)"
   ]
  },
  {
   "cell_type": "code",
   "execution_count": 153,
   "metadata": {},
   "outputs": [
    {
     "data": {
      "text/plain": [
       "tensor([1.3333, 2.0000, 2.6667, 3.6667, 4.3333, 2.6667, 4.3333, 5.3333])"
      ]
     },
     "execution_count": 153,
     "metadata": {},
     "output_type": "execute_result"
    }
   ],
   "source": [
    "x_train.mean(dim=1)"
   ]
  },
  {
   "cell_type": "code",
   "execution_count": null,
   "metadata": {},
   "outputs": [],
   "source": []
  }
 ],
 "metadata": {
  "kernelspec": {
   "display_name": "Python 3",
   "language": "python",
   "name": "python3"
  },
  "language_info": {
   "codemirror_mode": {
    "name": "ipython",
    "version": 3
   },
   "file_extension": ".py",
   "mimetype": "text/x-python",
   "name": "python",
   "nbconvert_exporter": "python",
   "pygments_lexer": "ipython3",
   "version": "3.8.3"
  }
 },
 "nbformat": 4,
 "nbformat_minor": 4
}
