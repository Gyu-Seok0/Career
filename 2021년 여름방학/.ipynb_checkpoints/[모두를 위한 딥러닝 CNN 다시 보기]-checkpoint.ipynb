{
 "cells": [
  {
   "cell_type": "markdown",
   "metadata": {},
   "source": [
    "# Visdom"
   ]
  },
  {
   "cell_type": "code",
   "execution_count": 2,
   "metadata": {},
   "outputs": [
    {
     "name": "stderr",
     "output_type": "stream",
     "text": [
      "Setting up a new session...\n"
     ]
    }
   ],
   "source": [
    "import visdom\n",
    "vis = visdom.Visdom()\n"
   ]
  },
  {
   "cell_type": "markdown",
   "metadata": {},
   "source": [
    "# 그래프 그리기\n",
    "- Y,X 순서 중요"
   ]
  },
  {
   "cell_type": "code",
   "execution_count": 9,
   "metadata": {},
   "outputs": [],
   "source": [
    "import torch\n",
    "\n",
    "X_data = torch.Tensor([1,2,3,4,5])\n",
    "Y_data = torch.randn(5)\n",
    "\n",
    "plt = vis.line(Y_data, X_data)"
   ]
  },
  {
   "cell_type": "markdown",
   "metadata": {},
   "source": [
    "# 그래프 위에 추가하기\n",
    "- win 설정과 update = 'append' 추가"
   ]
  },
  {
   "cell_type": "code",
   "execution_count": 10,
   "metadata": {},
   "outputs": [
    {
     "data": {
      "text/plain": [
       "'window_39d94c040e601a'"
      ]
     },
     "execution_count": 10,
     "metadata": {},
     "output_type": "execute_result"
    }
   ],
   "source": [
    "X_data = torch.Tensor([6,7,8,9,10])\n",
    "Y_data = torch.randn(5)\n",
    "vis.line(Y_data, X_data, win= plt, update= 'append')"
   ]
  },
  {
   "cell_type": "markdown",
   "metadata": {},
   "source": [
    "# 그래프 위에 한 점 추가하기\n",
    "- Tensor로 입력 넣는 것이 중요하다."
   ]
  },
  {
   "cell_type": "code",
   "execution_count": 14,
   "metadata": {},
   "outputs": [
    {
     "data": {
      "text/plain": [
       "'window_39d94c040e601a'"
      ]
     },
     "execution_count": 14,
     "metadata": {},
     "output_type": "execute_result"
    }
   ],
   "source": [
    "y = torch.FloatTensor([10])\n",
    "x = torch.FloatTensor([11])\n",
    "\n",
    "vis.line(y,x,win = plt, update = 'append')"
   ]
  },
  {
   "cell_type": "markdown",
   "metadata": {},
   "source": [
    "# 한 윈도우에 여러 개 그래프\n",
    "- 그래프의 개수 만큼 해당하는 차원을 추가하는 것이 중요"
   ]
  },
  {
   "cell_type": "code",
   "execution_count": 25,
   "metadata": {},
   "outputs": [],
   "source": [
    "# 10*2 차원의 배열로 만들기.\n",
    "num = torch.Tensor(list(range(0,10)))\n",
    "num = num.view(-1,1)\n",
    "num = torch.cat((num,num), dim = 1)\n",
    "\n",
    "plt = vis.line(Y = torch.randn(10,2), X = num, opts= dict(title = 'Test',\n",
    "                                                         legend = ['1번','2번'],\n",
    "                                                         showlegend = True))\n"
   ]
  },
  {
   "cell_type": "code",
   "execution_count": 33,
   "metadata": {},
   "outputs": [
    {
     "data": {
      "text/plain": [
       "'window_39d94dad55676c'"
      ]
     },
     "execution_count": 33,
     "metadata": {},
     "output_type": "execute_result"
    }
   ],
   "source": [
    "num = torch.Tensor([10,11])\n",
    "num = num.view(-1,1)\n",
    "num = torch.cat((num,num), dim = 1)\n",
    "vis.line(Y = torch.randn(2,2), X = num, win = plt, update = \"append\")"
   ]
  },
  {
   "cell_type": "code",
   "execution_count": 34,
   "metadata": {},
   "outputs": [
    {
     "data": {
      "text/plain": [
       "''"
      ]
     },
     "execution_count": 34,
     "metadata": {},
     "output_type": "execute_result"
    }
   ],
   "source": [
    "vis.close()"
   ]
  },
  {
   "cell_type": "markdown",
   "metadata": {},
   "source": [
    "# ImageFolder\n",
    "- 내가 가지고 있는 사진들을 불러올 수 있음.\n",
    "- 이때, tensor를 사진으로 보고싶으면, transforms.ToPILImage()(사진)\n",
    "- Image를 Tensor로 바꾸고 싶으면, transforms.ToTensor()(사진)"
   ]
  },
  {
   "cell_type": "code",
   "execution_count": 41,
   "metadata": {},
   "outputs": [],
   "source": [
    "import torchvision\n",
    "import torchvision.datasets as dsets\n",
    "import torchvision.transforms as transforms\n",
    "from torch.utils.data import DataLoader\n",
    "\n",
    "import matplotlib.pyplot as plt"
   ]
  },
  {
   "cell_type": "code",
   "execution_count": 70,
   "metadata": {},
   "outputs": [],
   "source": [
    "# Mu & std를 구하기 위해서 불러옴.\n",
    "train_data = dsets.ImageFolder(root=\"Image\", transform= transforms.ToTensor())"
   ]
  },
  {
   "cell_type": "markdown",
   "metadata": {},
   "source": [
    "# 질문: Normalize & Resize (이렇게 하는게 맞는지 궁금)"
   ]
  },
  {
   "cell_type": "code",
   "execution_count": 79,
   "metadata": {},
   "outputs": [],
   "source": [
    "mu = 0\n",
    "std = 0\n",
    "\n",
    "for sample in train_data:\n",
    "    x, y = sample\n",
    "    mu += x.mean()\n",
    "    std += x.std()\n",
    "\n"
   ]
  },
  {
   "cell_type": "code",
   "execution_count": 89,
   "metadata": {},
   "outputs": [
    {
     "name": "stdout",
     "output_type": "stream",
     "text": [
      "tensor(0.5423) tensor(0.2326)\n"
     ]
    }
   ],
   "source": [
    "total = train_data.__len__()\n",
    "mu /= total\n",
    "std /= total\n",
    "\n",
    "print(mu, std)"
   ]
  },
  {
   "cell_type": "markdown",
   "metadata": {},
   "source": [
    "# transform\n",
    "- 순서가 생각보다 중요하다.\n",
    "- 참고 <br>\n",
    "https://stackoverflow.com/questions/57079219/img-should-be-pil-image-got-class-torch-tensor"
   ]
  },
  {
   "cell_type": "code",
   "execution_count": 98,
   "metadata": {},
   "outputs": [],
   "source": [
    "\n",
    "trans = transforms.Compose([\n",
    "    transforms.Resize((224,224)),\n",
    "    transforms.ToTensor(),\n",
    "    transforms.Normalize((0.5423), (0.2326)),\n",
    "    \n",
    "])"
   ]
  },
  {
   "cell_type": "code",
   "execution_count": 99,
   "metadata": {},
   "outputs": [],
   "source": [
    "# 구해진 Mu & std값을 적용해보자.\n",
    "train_data = dsets.ImageFolder(root=\"Image\", transform= trans)"
   ]
  },
  {
   "cell_type": "code",
   "execution_count": 100,
   "metadata": {},
   "outputs": [
    {
     "data": {
      "text/plain": [
       "Dataset ImageFolder\n",
       "    Number of datapoints: 19\n",
       "    Root location: Image\n",
       "    StandardTransform\n",
       "Transform: Compose(\n",
       "               Resize(size=(224, 224), interpolation=PIL.Image.BILINEAR)\n",
       "               ToTensor()\n",
       "               Normalize(mean=0.5423, std=0.2326)\n",
       "           )"
      ]
     },
     "execution_count": 100,
     "metadata": {},
     "output_type": "execute_result"
    }
   ],
   "source": [
    "train_data"
   ]
  },
  {
   "cell_type": "markdown",
   "metadata": {},
   "source": [
    "#### 데이터를 저장"
   ]
  },
  {
   "cell_type": "code",
   "execution_count": 117,
   "metadata": {},
   "outputs": [],
   "source": [
    "img_cnt = [1,1]\n",
    "for num, sample in enumerate(train_data):\n",
    "    img, label = sample\n",
    "    img = transforms.ToPILImage()(img) # 저장할때는 img 형태로 저장함.\n",
    "    img.save(\"./Image/train_data/class_%d/%d_%d.jpeg\"%(label+1,img_cnt[label],label))\n",
    "    img_cnt[label] += 1\n"
   ]
  },
  {
   "cell_type": "markdown",
   "metadata": {},
   "source": [
    "# 정리: \n",
    "\n",
    "- step1) ImageFolder로 데이터를 불러온다.\n",
    "- step2) Mu와 std값을 계산한다.\n",
    "- step3) transform을 만든다.\n",
    "- step4) transform을 적용한 ImageFolder로 데이터를 불러온다.\n",
    "- step5) 적용된 Image를 저장한다. (근데 step4에서 적용된 이미지를 가지고 모델링해도 괜찮을 듯)"
   ]
  },
  {
   "cell_type": "markdown",
   "metadata": {},
   "source": [
    "# Imshow\n",
    "- image를 보여준다.\n",
    "- plt의 method로 존재한다.\n",
    "- 아래 그림에서 Resize가 적용된 것을 확인할 수 있음."
   ]
  },
  {
   "cell_type": "code",
   "execution_count": 135,
   "metadata": {},
   "outputs": [
    {
     "name": "stdout",
     "output_type": "stream",
     "text": [
      "torch.Size([3, 300, 300]) 0\n"
     ]
    },
    {
     "data": {
      "image/png": "[encoded data removed]",
      "text/plain": [
       "<Figure size 432x288 with 1 Axes>"
      ]
     },
     "metadata": {
      "needs_background": "light"
     },
     "output_type": "display_data"
    }
   ],
   "source": [
    "trans = transforms.Compose([\n",
    "    transforms.Resize((300,300)), # 순서가 생각보다 매우 중요함.\n",
    "    transforms.ToTensor(),\n",
    "])\n",
    "\n",
    "train_data = torchvision.datasets.ImageFolder(root = \"Image/train_data/\", transform = trans)\n",
    "\n",
    "for sample in train_data:\n",
    "    img, label = sample\n",
    "    print(img.shape,label) # tensor\n",
    "    \n",
    "    #imshow\n",
    "    img = transforms.ToPILImage()(img)\n",
    "    plt.imshow(img) # image\n",
    "    break\n"
   ]
  },
  {
   "cell_type": "markdown",
   "metadata": {},
   "source": [
    "# 위 데이터를 가지고 모델 학습"
   ]
  },
  {
   "cell_type": "code",
   "execution_count": 232,
   "metadata": {},
   "outputs": [],
   "source": [
    "# step1 import\n",
    "import torch\n",
    "import torchvision\n",
    "import torch.nn as nn\n",
    "import torch.optim as optim\n",
    "import torchvision.transforms as transforms\n",
    "from torch.utils.data import DataLoader\n",
    "\n",
    "# step2 device\n",
    "device = \"cuda\" if torch.cuda.is_available() else \"cpu\"\n",
    "torch.manual_seed(777)\n",
    "if device == \"cuda\":\n",
    "    torch.cuda.manual_seed_all(777)\n",
    "    \n",
    "# step3 hyper-parameter\n",
    "batch_size = 2\n",
    "learning_rate = 0.1\n",
    "training_epoch = 10\n",
    "\n",
    "# step4 Dataset & Dataloader\n",
    "train_loader = DataLoader(dataset= train_data, batch_size= batch_size, shuffle= True, drop_last= True)\n",
    "\n",
    "# step5 model\n",
    "class CNN(nn.Module):\n",
    "    def __init__(self):\n",
    "        super(CNN,self).__init__()\n",
    "        self.layer1 = nn.Sequential(\n",
    "            # 3*300*300\n",
    "            nn.Conv2d(3,6,5), \n",
    "            nn.BatchNorm2d(6),\n",
    "            nn.MaxPool2d(2,2),\n",
    "        )\n",
    "        \n",
    "        self.layer2 = nn.Sequential(\n",
    "            nn.Conv2d(6,16,5),\n",
    "            nn.BatchNorm2d(16),\n",
    "            nn.MaxPool2d(2,2),\n",
    "        )\n",
    "        \n",
    "        self.layer3 = nn.Sequential(\n",
    "            nn.Linear(16*72*72,120),\n",
    "            nn.BatchNorm1d(120), #batch가 1d 이구나.\n",
    "            nn.ReLU(),\n",
    "            nn.Linear(120,2),\n",
    "        )\n",
    "        \n",
    "    \n",
    "    \n",
    "    def forward(self,x):\n",
    "        out = self.layer1(x)        \n",
    "        out = self.layer2(out)\n",
    "        \n",
    "        out = out.view(out.size(0),-1)        \n",
    "        out = self.layer3(out)        \n",
    "        return out\n",
    "    \n",
    "    def initalize_weights(self):\n",
    "        \n",
    "        for m in self.modules():\n",
    "            if isinstance(m, nn.Conv2d):\n",
    "                nn.init.kaiming_normal_(m.weight, mode = \"fan_out\", nonlinearity= \"relu\")\n",
    "                if m.bias is not None:\n",
    "                    nn.init.constant_(m.bias, 0)\n",
    "            elif isinstance(m, nn.BatchNorm2d):\n",
    "                nn.init.constant_(m.weight, 1)\n",
    "                nn.init.constant_(m.bias,0)\n",
    "            elif isinstance(m, nn.Linear):\n",
    "                nn.init.normal_(m.weight, 0, 0.01)\n",
    "                nn.init.constant_(m.bias,0)\n",
    "                \n",
    "    \n",
    "\n",
    "\n"
   ]
  },
  {
   "cell_type": "markdown",
   "metadata": {},
   "source": [
    "# weight Initalization은 이렇게 호출해줘야 적용되는건가?"
   ]
  },
  {
   "cell_type": "code",
   "execution_count": 233,
   "metadata": {},
   "outputs": [
    {
     "data": {
      "text/plain": [
       "tensor([[0., 0.],\n",
       "        [0., 0.]], grad_fn=<AddmmBackward>)"
      ]
     },
     "execution_count": 233,
     "metadata": {},
     "output_type": "execute_result"
    }
   ],
   "source": [
    "# test가 잘들어가는 것을 확인할 수 있었다.\n",
    "\n",
    "model = CNN().to(device)\n",
    "model.initalize_weights()\n",
    "\n",
    "test = torch.Tensor(2,3,300,300)\n",
    "model(test)\n"
   ]
  },
  {
   "cell_type": "code",
   "execution_count": 229,
   "metadata": {},
   "outputs": [],
   "source": [
    "#step5 loss & optim\n",
    "criterion = nn.CrossEntropyLoss().to(device)\n",
    "optimizer = optim.Adam(model.parameters(), lr= learning_rate)\n"
   ]
  },
  {
   "cell_type": "code",
   "execution_count": 230,
   "metadata": {},
   "outputs": [
    {
     "data": {
      "text/plain": [
       "Dataset ImageFolder\n",
       "    Number of datapoints: 19\n",
       "    Root location: Image/train_data/\n",
       "    StandardTransform\n",
       "Transform: Compose(\n",
       "               Resize(size=(300, 300), interpolation=PIL.Image.BILINEAR)\n",
       "               ToTensor()\n",
       "           )"
      ]
     },
     "execution_count": 230,
     "metadata": {},
     "output_type": "execute_result"
    }
   ],
   "source": [
    "train_loader.dataset"
   ]
  },
  {
   "cell_type": "code",
   "execution_count": 231,
   "metadata": {},
   "outputs": [
    {
     "name": "stdout",
     "output_type": "stream",
     "text": [
      "[Epoch 0001, loss = 6.4420, acc = 66.67 %]\n",
      "[Epoch 0002, loss = 2.0952, acc = 22.22 %]\n",
      "[Epoch 0003, loss = 0.7479, acc = 72.22 %]\n",
      "[Epoch 0004, loss = 0.5578, acc = 77.78 %]\n",
      "[Epoch 0005, loss = 0.6134, acc = 72.22 %]\n",
      "[Epoch 0006, loss = 0.5960, acc = 72.22 %]\n",
      "[Epoch 0007, loss = 0.5975, acc = 72.22 %]\n",
      "[Epoch 0008, loss = 0.5963, acc = 72.22 %]\n",
      "[Epoch 0009, loss = 0.5963, acc = 72.22 %]\n",
      "[Epoch 0010, loss = 0.5955, acc = 72.22 %]\n"
     ]
    }
   ],
   "source": [
    "# step6 train\n",
    "iteration = len(train_loader)\n",
    "\n",
    "for epoch in range(training_epoch):\n",
    "    model.train()\n",
    "    loss = 0\n",
    "    correct = 0\n",
    "    \n",
    "    for sample in train_loader:\n",
    "        optimizer.zero_grad()\n",
    "        \n",
    "        X, Y = sample\n",
    "        X = X.to(device)\n",
    "        Y = Y.to(device)\n",
    "        \n",
    "        # forward & backward & optim\n",
    "        hypotheisis = model(X)\n",
    "        cost = criterion(hypotheisis, Y)\n",
    "        cost.backward()\n",
    "        optimizer.step()\n",
    "        \n",
    "        # calculate acc\n",
    "        loss += cost.item()\n",
    "        correct += (torch.argmax(hypotheisis, dim = 1) == Y).float().sum()\n",
    "        \n",
    "        \n",
    "    loss /= iteration\n",
    "    acc = correct / (batch_size * iteration)\n",
    "    \n",
    "    print(\"[Epoch {:04d}, loss = {:.4f}, acc = {:.2f} %]\".format(epoch+1, loss, acc*100))\n",
    "    \n",
    "    # weight 저장.\n",
    "    torch.save(model.state_dict(), \"./weight/%d_%d.pth\"%(epoch,int(acc*100)))\n",
    "        \n",
    "        "
   ]
  },
  {
   "cell_type": "markdown",
   "metadata": {},
   "source": [
    "# 저장된 weight값 불러오기\n",
    "- load_state_dict"
   ]
  },
  {
   "cell_type": "code",
   "execution_count": 202,
   "metadata": {},
   "outputs": [
    {
     "data": {
      "text/plain": [
       "<All keys matched successfully>"
      ]
     },
     "execution_count": 202,
     "metadata": {},
     "output_type": "execute_result"
    }
   ],
   "source": [
    "new_model = CNN().to(device)\n",
    "new_model.load_state_dict(torch.load('./weight/7_77.pth'))"
   ]
  },
  {
   "cell_type": "code",
   "execution_count": 211,
   "metadata": {},
   "outputs": [
    {
     "name": "stdout",
     "output_type": "stream",
     "text": [
      "tensor([-0.9945, -0.8955, -0.9133, -0.9190, -0.8042], grad_fn=<SelectBackward>)\n"
     ]
    },
    {
     "data": {
      "text/plain": [
       "tensor([-0.9936, -0.8946, -0.9124, -0.9180, -0.8033], grad_fn=<SelectBackward>)"
      ]
     },
     "execution_count": 211,
     "metadata": {},
     "output_type": "execute_result"
    }
   ],
   "source": [
    "print(model.layer1[0].weight[0][0][0])\n",
    "new_model.layer1[0].weight[0][0][0]"
   ]
  },
  {
   "cell_type": "markdown",
   "metadata": {},
   "source": [
    "# 디버깅 부분에서 배운점\n",
    "1) correct 부분에서 float로 계산하기 <br>\n",
    "2) train_loader에서 drop_last = True로 해줘야 에러가 발생하지 않음. <br>\n",
    "https://discuss.pytorch.org/t/error-expected-more-than-1-value-per-channel-when-training/26274\n",
    "\n",
    "3) Linear 부분에서는 batchnorm이 1d로 사용됌"
   ]
  },
  {
   "cell_type": "markdown",
   "metadata": {},
   "source": [
    "# Mean/ Std 구하기\n",
    "- 채널 별로 구해진다는 것이 핵심이다.\n",
    "- torch.mean(인자, dim = [0,1,2])"
   ]
  },
  {
   "cell_type": "code",
   "execution_count": 253,
   "metadata": {},
   "outputs": [
    {
     "name": "stdout",
     "output_type": "stream",
     "text": [
      "Files already downloaded and verified\n"
     ]
    }
   ],
   "source": [
    "dataset = dsets.CIFAR100(root = \"./\", train = True, download= True, transform = transforms.ToTensor())\n",
    "\n",
    "data_loader = DataLoader(dataset= dataset, batch_size = 64, shuffle= True, drop_last = True)\n",
    "\n",
    "def get_mean_std(loader):\n",
    "    return None"
   ]
  },
  {
   "cell_type": "code",
   "execution_count": 262,
   "metadata": {},
   "outputs": [],
   "source": [
    "mu = 0\n",
    "mu_square = 0\n",
    "std = 0\n",
    "for sample in data_loader:\n",
    "    X,Y = sample\n",
    "    \n",
    "    mu += torch.mean(X, dim = [0,2,3])\n",
    "    mu_square += torch.mean(X**2, dim = [0,2,3])\n",
    "    \n",
    "mu /= len(data_loader)\n",
    "mu_square /= len(data_loader)\n",
    "\n",
    "\n",
    "    \n",
    "    "
   ]
  },
  {
   "cell_type": "code",
   "execution_count": 264,
   "metadata": {},
   "outputs": [
    {
     "data": {
      "text/plain": [
       "tensor([0.3286, 0.3025, 0.2707])"
      ]
     },
     "execution_count": 264,
     "metadata": {},
     "output_type": "execute_result"
    }
   ],
   "source": [
    "(mu_square - mu**2)"
   ]
  },
  {
   "cell_type": "code",
   "execution_count": null,
   "metadata": {},
   "outputs": [],
   "source": []
  }
 ],
 "metadata": {
  "kernelspec": {
   "display_name": "Python 3",
   "language": "python",
   "name": "python3"
  },
  "language_info": {
   "codemirror_mode": {
    "name": "ipython",
    "version": 3
   },
   "file_extension": ".py",
   "mimetype": "text/x-python",
   "name": "python",
   "nbconvert_exporter": "python",
   "pygments_lexer": "ipython3",
   "version": "3.8.3"
  }
 },
 "nbformat": 4,
 "nbformat_minor": 4
}
