{
 "cells": [
  {
   "cell_type": "markdown",
   "metadata": {},
   "source": [
    "# 간단한 Mnist 모델이 잘 돌아가는지 확인"
   ]
  },
  {
   "cell_type": "code",
   "execution_count": 1,
   "metadata": {},
   "outputs": [],
   "source": [
    "#step1) 라이브러리\n",
    "import torch\n",
    "import torch.nn as nn\n",
    "import torchvision.datasets as dsets\n",
    "import torchvision.transforms as transforms\n",
    "import torch.optim as optim\n",
    "from torch.utils.data import DataLoader\n"
   ]
  },
  {
   "cell_type": "code",
   "execution_count": 2,
   "metadata": {},
   "outputs": [],
   "source": [
    "# step2) Device\n",
    "device = \"cuda\" if torch.cuda.is_available() else \"cpu\"\n",
    "\n",
    "torch.manual_seed(777)\n",
    "if device == \"cuda\":\n",
    "    torch.cuda.manual_seed_all(777)\n"
   ]
  },
  {
   "cell_type": "code",
   "execution_count": 3,
   "metadata": {},
   "outputs": [],
   "source": [
    "# step3) parameter setting\n",
    "\n",
    "learning_rate = 0.1\n",
    "training_epochs = 10\n",
    "batch_size = 100\n"
   ]
  },
  {
   "cell_type": "code",
   "execution_count": 125,
   "metadata": {},
   "outputs": [],
   "source": [
    "# step4) Dataset & DataLoader\n",
    "\n",
    "# Dataset\n",
    "mnist_train = dsets.MNIST(root = \"MNIST_data/\", train= True, transform= transforms.Resize((20,20)))\n",
    "mnist_test = dsets.MNIST(root = \"MNIST_data/\", train= False, transform= transforms.Resize((20,20)))\n",
    "\n",
    "# DataLoader\n",
    "train_loader = DataLoader(dataset=mnist_train, batch_size=batch_size, shuffle= True, drop_last= True)\n",
    "test_loader = DataLoader(dataset=mnist_test, batch_size=batch_size, shuffle= False, drop_last= False)\n",
    "\n"
   ]
  },
  {
   "cell_type": "code",
   "execution_count": 126,
   "metadata": {},
   "outputs": [
    {
     "data": {
      "text/plain": [
       "torch.Size([60000, 28, 28])"
      ]
     },
     "execution_count": 126,
     "metadata": {},
     "output_type": "execute_result"
    }
   ],
   "source": [
    "train_loader.dataset.data.shape"
   ]
  },
  {
   "cell_type": "code",
   "execution_count": 48,
   "metadata": {},
   "outputs": [],
   "source": [
    "# step5) model\n",
    "class Mobilenet2(nn.Module):\n",
    "    def __init__(self):\n",
    "        super(Mobilenet2,self).__init__()\n",
    "        self.layer1 = nn.Sequential(\n",
    "            nn.Conv2d(1,512, kernel_size= 3, stride = 2, padding = 1),\n",
    "            # 512*14*14\n",
    "            \n",
    "            nn.BatchNorm2d(512),\n",
    "            nn.ReLU6(),\n",
    "            nn.MaxPool2d(2,2)\n",
    "            #512*7*7\n",
    "        \n",
    "        )\n",
    "        \n",
    "        # 512 * 7* 7 \n",
    "        self.layer2 = nn.Sequential(\n",
    "            nn.Linear(512*7*7, 10)\n",
    "        )\n",
    "\n",
    "    def forward(self,x):\n",
    "        out = self.layer1(x)\n",
    "        out = out.view(out.size(0),-1)\n",
    "        out = self.layer2(out)\n",
    "        return out\n",
    "    \n",
    "model = Mobilenet2().to(device)\n",
    "\n"
   ]
  },
  {
   "cell_type": "code",
   "execution_count": 49,
   "metadata": {},
   "outputs": [],
   "source": [
    "# step6) optim & loss\n",
    "\n",
    "criterion = nn.CrossEntropyLoss().to(device)\n",
    "optimizer = optim.Adam(model.parameters(), lr = learning_rate)\n",
    "\n"
   ]
  },
  {
   "cell_type": "code",
   "execution_count": 50,
   "metadata": {},
   "outputs": [
    {
     "name": "stdout",
     "output_type": "stream",
     "text": [
      "[Epoch: 0000], loss : 6.0902, acc: 0.8783%\n",
      "[Epoch: 0001], loss : 0.2268, acc: 0.9315%\n",
      "[Epoch: 0002], loss : 0.2264, acc: 0.9326%\n",
      "[Epoch: 0003], loss : 0.2347, acc: 0.9302%\n"
     ]
    },
    {
     "ename": "KeyboardInterrupt",
     "evalue": "",
     "output_type": "error",
     "traceback": [
      "\u001b[0;31m---------------------------------------------------------------------------\u001b[0m",
      "\u001b[0;31mKeyboardInterrupt\u001b[0m                         Traceback (most recent call last)",
      "\u001b[0;32m<ipython-input-50-386dea197a90>\u001b[0m in \u001b[0;36m<module>\u001b[0;34m\u001b[0m\n\u001b[1;32m     16\u001b[0m         \u001b[0mhypothesis\u001b[0m \u001b[0;34m=\u001b[0m \u001b[0mmodel\u001b[0m\u001b[0;34m(\u001b[0m\u001b[0mX\u001b[0m\u001b[0;34m)\u001b[0m\u001b[0;34m\u001b[0m\u001b[0;34m\u001b[0m\u001b[0m\n\u001b[1;32m     17\u001b[0m         \u001b[0mcost\u001b[0m \u001b[0;34m=\u001b[0m \u001b[0mcriterion\u001b[0m\u001b[0;34m(\u001b[0m\u001b[0mhypothesis\u001b[0m\u001b[0;34m,\u001b[0m \u001b[0mY\u001b[0m\u001b[0;34m)\u001b[0m\u001b[0;34m\u001b[0m\u001b[0;34m\u001b[0m\u001b[0m\n\u001b[0;32m---> 18\u001b[0;31m         \u001b[0mcost\u001b[0m\u001b[0;34m.\u001b[0m\u001b[0mbackward\u001b[0m\u001b[0;34m(\u001b[0m\u001b[0;34m)\u001b[0m\u001b[0;34m\u001b[0m\u001b[0;34m\u001b[0m\u001b[0m\n\u001b[0m\u001b[1;32m     19\u001b[0m         \u001b[0moptimizer\u001b[0m\u001b[0;34m.\u001b[0m\u001b[0mstep\u001b[0m\u001b[0;34m(\u001b[0m\u001b[0;34m)\u001b[0m\u001b[0;34m\u001b[0m\u001b[0;34m\u001b[0m\u001b[0m\n\u001b[1;32m     20\u001b[0m \u001b[0;34m\u001b[0m\u001b[0m\n",
      "\u001b[0;32m~/opt/anaconda3/lib/python3.8/site-packages/torch/tensor.py\u001b[0m in \u001b[0;36mbackward\u001b[0;34m(self, gradient, retain_graph, create_graph)\u001b[0m\n\u001b[1;32m    196\u001b[0m                 \u001b[0mproducts\u001b[0m\u001b[0;34m.\u001b[0m \u001b[0mDefaults\u001b[0m \u001b[0mto\u001b[0m\u001b[0;31m \u001b[0m\u001b[0;31m`\u001b[0m\u001b[0;31m`\u001b[0m\u001b[0;32mFalse\u001b[0m\u001b[0;31m`\u001b[0m\u001b[0;31m`\u001b[0m\u001b[0;34m.\u001b[0m\u001b[0;34m\u001b[0m\u001b[0;34m\u001b[0m\u001b[0m\n\u001b[1;32m    197\u001b[0m         \"\"\"\n\u001b[0;32m--> 198\u001b[0;31m         \u001b[0mtorch\u001b[0m\u001b[0;34m.\u001b[0m\u001b[0mautograd\u001b[0m\u001b[0;34m.\u001b[0m\u001b[0mbackward\u001b[0m\u001b[0;34m(\u001b[0m\u001b[0mself\u001b[0m\u001b[0;34m,\u001b[0m \u001b[0mgradient\u001b[0m\u001b[0;34m,\u001b[0m \u001b[0mretain_graph\u001b[0m\u001b[0;34m,\u001b[0m \u001b[0mcreate_graph\u001b[0m\u001b[0;34m)\u001b[0m\u001b[0;34m\u001b[0m\u001b[0;34m\u001b[0m\u001b[0m\n\u001b[0m\u001b[1;32m    199\u001b[0m \u001b[0;34m\u001b[0m\u001b[0m\n\u001b[1;32m    200\u001b[0m     \u001b[0;32mdef\u001b[0m \u001b[0mregister_hook\u001b[0m\u001b[0;34m(\u001b[0m\u001b[0mself\u001b[0m\u001b[0;34m,\u001b[0m \u001b[0mhook\u001b[0m\u001b[0;34m)\u001b[0m\u001b[0;34m:\u001b[0m\u001b[0;34m\u001b[0m\u001b[0;34m\u001b[0m\u001b[0m\n",
      "\u001b[0;32m~/opt/anaconda3/lib/python3.8/site-packages/torch/autograd/__init__.py\u001b[0m in \u001b[0;36mbackward\u001b[0;34m(tensors, grad_tensors, retain_graph, create_graph, grad_variables)\u001b[0m\n\u001b[1;32m     96\u001b[0m         \u001b[0mretain_graph\u001b[0m \u001b[0;34m=\u001b[0m \u001b[0mcreate_graph\u001b[0m\u001b[0;34m\u001b[0m\u001b[0;34m\u001b[0m\u001b[0m\n\u001b[1;32m     97\u001b[0m \u001b[0;34m\u001b[0m\u001b[0m\n\u001b[0;32m---> 98\u001b[0;31m     Variable._execution_engine.run_backward(\n\u001b[0m\u001b[1;32m     99\u001b[0m         \u001b[0mtensors\u001b[0m\u001b[0;34m,\u001b[0m \u001b[0mgrad_tensors\u001b[0m\u001b[0;34m,\u001b[0m \u001b[0mretain_graph\u001b[0m\u001b[0;34m,\u001b[0m \u001b[0mcreate_graph\u001b[0m\u001b[0;34m,\u001b[0m\u001b[0;34m\u001b[0m\u001b[0;34m\u001b[0m\u001b[0m\n\u001b[1;32m    100\u001b[0m         allow_unreachable=True)  # allow_unreachable flag\n",
      "\u001b[0;31mKeyboardInterrupt\u001b[0m: "
     ]
    }
   ],
   "source": [
    "# step7) train\n",
    "model.train()\n",
    "iteration = len(train_loader)\n",
    "\n",
    "for epoch in range(training_epochs):\n",
    "    loss = 0.0\n",
    "    acc_correct = 0.0\n",
    "    \n",
    "    for idx, sample in enumerate(train_loader):\n",
    "        optimizer.zero_grad()\n",
    "        X,Y = sample\n",
    "        X = X.to(device)\n",
    "        Y = Y.to(device)\n",
    "        \n",
    "        # forward, backward, optimizer\n",
    "        hypothesis = model(X)\n",
    "        cost = criterion(hypothesis, Y)\n",
    "        cost.backward()\n",
    "        optimizer.step()\n",
    "        \n",
    "        #calculate\n",
    "        loss += cost.item()\n",
    "        correct = (torch.argmax(hypothesis, dim = 1) == Y).float()\n",
    "        acc_correct += correct.sum()\n",
    "    \n",
    "    acc_correct /= (batch_size * iteration)\n",
    "    loss /= iteration\n",
    "    print(\"[Epoch: {:04d}], loss : {:.4f}, acc: {:.4f}%\".format(epoch, loss, acc_correct))\n",
    "        \n",
    "        \n"
   ]
  },
  {
   "cell_type": "code",
   "execution_count": 72,
   "metadata": {},
   "outputs": [
    {
     "name": "stdout",
     "output_type": "stream",
     "text": [
      "[Test] Loss = 0.2277, Acc = 93.7200%\n"
     ]
    }
   ],
   "source": [
    "# step8) test\n",
    "accuracy = 0\n",
    "\n",
    "with torch.no_grad():\n",
    "    model.eval()\n",
    "    \n",
    "    loss = 0\n",
    "    \n",
    "    for idx, sample in enumerate(test_loader):\n",
    "        X, Y = sample\n",
    "        X = X.to(device)\n",
    "        Y = Y.to(device)\n",
    "        \n",
    "        hypothesis = model(X)\n",
    "        cost = criterion(hypothesis, Y)\n",
    "        \n",
    "        loss += cost.item()\n",
    "        accuracy += (torch.argmax(hypothesis, dim = 1) == Y).sum().float()\n",
    "        \n",
    "    # calculate\n",
    "    loss /= len(test_loader)\n",
    "    accuracy /= (batch_size * len(test_loader))\n",
    "    \n",
    "    print(\"[Test] Loss = {:.4f}, Acc = {:.4f}%\".format(loss, accuracy*100))\n",
    "    \n",
    "    \n",
    "    \n",
    "    "
   ]
  },
  {
   "cell_type": "markdown",
   "metadata": {},
   "source": [
    "# 추가\n",
    "- weight initalization\n",
    "- learning_rate 조절하기\n",
    "- 시각화"
   ]
  },
  {
   "cell_type": "code",
   "execution_count": 73,
   "metadata": {},
   "outputs": [
    {
     "data": {
      "text/plain": [
       "tensor([[[0, 0, 0,  ..., 0, 0, 0],\n",
       "         [0, 0, 0,  ..., 0, 0, 0],\n",
       "         [0, 0, 0,  ..., 0, 0, 0],\n",
       "         ...,\n",
       "         [0, 0, 0,  ..., 0, 0, 0],\n",
       "         [0, 0, 0,  ..., 0, 0, 0],\n",
       "         [0, 0, 0,  ..., 0, 0, 0]],\n",
       "\n",
       "        [[0, 0, 0,  ..., 0, 0, 0],\n",
       "         [0, 0, 0,  ..., 0, 0, 0],\n",
       "         [0, 0, 0,  ..., 0, 0, 0],\n",
       "         ...,\n",
       "         [0, 0, 0,  ..., 0, 0, 0],\n",
       "         [0, 0, 0,  ..., 0, 0, 0],\n",
       "         [0, 0, 0,  ..., 0, 0, 0]],\n",
       "\n",
       "        [[0, 0, 0,  ..., 0, 0, 0],\n",
       "         [0, 0, 0,  ..., 0, 0, 0],\n",
       "         [0, 0, 0,  ..., 0, 0, 0],\n",
       "         ...,\n",
       "         [0, 0, 0,  ..., 0, 0, 0],\n",
       "         [0, 0, 0,  ..., 0, 0, 0],\n",
       "         [0, 0, 0,  ..., 0, 0, 0]],\n",
       "\n",
       "        ...,\n",
       "\n",
       "        [[0, 0, 0,  ..., 0, 0, 0],\n",
       "         [0, 0, 0,  ..., 0, 0, 0],\n",
       "         [0, 0, 0,  ..., 0, 0, 0],\n",
       "         ...,\n",
       "         [0, 0, 0,  ..., 0, 0, 0],\n",
       "         [0, 0, 0,  ..., 0, 0, 0],\n",
       "         [0, 0, 0,  ..., 0, 0, 0]],\n",
       "\n",
       "        [[0, 0, 0,  ..., 0, 0, 0],\n",
       "         [0, 0, 0,  ..., 0, 0, 0],\n",
       "         [0, 0, 0,  ..., 0, 0, 0],\n",
       "         ...,\n",
       "         [0, 0, 0,  ..., 0, 0, 0],\n",
       "         [0, 0, 0,  ..., 0, 0, 0],\n",
       "         [0, 0, 0,  ..., 0, 0, 0]],\n",
       "\n",
       "        [[0, 0, 0,  ..., 0, 0, 0],\n",
       "         [0, 0, 0,  ..., 0, 0, 0],\n",
       "         [0, 0, 0,  ..., 0, 0, 0],\n",
       "         ...,\n",
       "         [0, 0, 0,  ..., 0, 0, 0],\n",
       "         [0, 0, 0,  ..., 0, 0, 0],\n",
       "         [0, 0, 0,  ..., 0, 0, 0]]], dtype=torch.uint8)"
      ]
     },
     "execution_count": 73,
     "metadata": {},
     "output_type": "execute_result"
    }
   ],
   "source": [
    "mnist_train.data"
   ]
  },
  {
   "cell_type": "markdown",
   "metadata": {},
   "source": [
    "# Mobilenet2 만들기"
   ]
  },
  {
   "cell_type": "code",
   "execution_count": 121,
   "metadata": {},
   "outputs": [],
   "source": [
    "class Mobilenet(nn.Module):\n",
    "    def __init__(self, features, num_classes = 10):\n",
    "        super(Mobilenet,self).__init__()\n",
    "        self.layer1 = nn.Conv2d(3,32, kernel_size= 3, stride=2, padding = 1)\n",
    "        \n",
    "        self.bottleneck = features\n",
    "        \n",
    "        self.layer2 = nn.Sequential(\n",
    "                nn.Conv2d(320,1280, kernel_size=1, stride = 1, padding= 0),\n",
    "                nn.AvgPool2d(7,7),\n",
    "#                 nn.Conv2d(1280, num_classes, kernel_size=1,  stride = 1, padding= 0)\n",
    "        )\n",
    "        \n",
    "        self.fc = nn.Linear(1280, num_classes)\n",
    "        \n",
    "    def forward(self, x):\n",
    "        \n",
    "        out = self.layer1(x)\n",
    "        print(out.shape)\n",
    "\n",
    "        out = self.bottleneck(out)\n",
    "        print(out.shape)\n",
    "\n",
    "        out = self.layer2(out)\n",
    "        print(out.shape)\n",
    "        \n",
    "        out =out.view(out.size(0), -1)\n",
    "        out = self.fc(out)\n",
    "        print(out.shape)\n",
    "\n",
    "\n",
    "        return out\n",
    "    \n"
   ]
  },
  {
   "cell_type": "code",
   "execution_count": 122,
   "metadata": {},
   "outputs": [],
   "source": [
    "def make_layers(cfg):\n",
    "    in_channel = 32 #첫번째 convolution을 통과하고 난 뒤.\n",
    "    layers = []\n",
    "    \n",
    "    \n",
    "    for v in cfg:\n",
    "        out_channel, stride, t = v\n",
    "        print(out_channel, stride, t)\n",
    "        conv_pointwise1 = nn.Conv2d (in_channel,\n",
    "                                    in_channel*t,\n",
    "                                    kernel_size= 1,\n",
    "                                    stride = 1,\n",
    "                                    padding = 0)\n",
    "        \n",
    "        in_channel = in_channel*t  #채널확장\n",
    "        \n",
    "        conv_depthwise = nn.Conv2d(in_channel, \n",
    "                                   in_channel, \n",
    "                                   kernel_size=3, \n",
    "                                   groups= in_channel,\n",
    "                                   stride = stride,\n",
    "                                   padding = 1)\n",
    "        \n",
    "        conv_pointwise2 = nn.Conv2d (in_channel,\n",
    "                                    out_channel,\n",
    "                                    kernel_size= 1,\n",
    "                                    stride = 1,\n",
    "                                    padding = 0)\n",
    "        #layer 추가하기\n",
    "        layers += [conv_pointwise1 ,nn.ReLU6(), conv_depthwise, nn.ReLU6(), conv_pointwise2]\n",
    "        \n",
    "        # 다음번 layer를 위해 값 change\n",
    "        in_channel = out_channel\n",
    "    return nn.Sequential(*layers)\n",
    "    "
   ]
  },
  {
   "cell_type": "code",
   "execution_count": 123,
   "metadata": {},
   "outputs": [
    {
     "name": "stdout",
     "output_type": "stream",
     "text": [
      "16 1 1\n",
      "24 2 6\n",
      "32 2 6\n",
      "64 2 6\n",
      "96 1 6\n",
      "160 2 6\n",
      "320 1 6\n"
     ]
    },
    {
     "data": {
      "text/plain": [
       "Mobilenet(\n",
       "  (layer1): Conv2d(3, 32, kernel_size=(3, 3), stride=(2, 2), padding=(1, 1))\n",
       "  (bottleneck): Sequential(\n",
       "    (0): Conv2d(32, 32, kernel_size=(1, 1), stride=(1, 1))\n",
       "    (1): ReLU6()\n",
       "    (2): Conv2d(32, 32, kernel_size=(3, 3), stride=(1, 1), padding=(1, 1), groups=32)\n",
       "    (3): ReLU6()\n",
       "    (4): Conv2d(32, 16, kernel_size=(1, 1), stride=(1, 1))\n",
       "    (5): Conv2d(16, 96, kernel_size=(1, 1), stride=(1, 1))\n",
       "    (6): ReLU6()\n",
       "    (7): Conv2d(96, 96, kernel_size=(3, 3), stride=(2, 2), padding=(1, 1), groups=96)\n",
       "    (8): ReLU6()\n",
       "    (9): Conv2d(96, 24, kernel_size=(1, 1), stride=(1, 1))\n",
       "    (10): Conv2d(24, 144, kernel_size=(1, 1), stride=(1, 1))\n",
       "    (11): ReLU6()\n",
       "    (12): Conv2d(144, 144, kernel_size=(3, 3), stride=(2, 2), padding=(1, 1), groups=144)\n",
       "    (13): ReLU6()\n",
       "    (14): Conv2d(144, 32, kernel_size=(1, 1), stride=(1, 1))\n",
       "    (15): Conv2d(32, 192, kernel_size=(1, 1), stride=(1, 1))\n",
       "    (16): ReLU6()\n",
       "    (17): Conv2d(192, 192, kernel_size=(3, 3), stride=(2, 2), padding=(1, 1), groups=192)\n",
       "    (18): ReLU6()\n",
       "    (19): Conv2d(192, 64, kernel_size=(1, 1), stride=(1, 1))\n",
       "    (20): Conv2d(64, 384, kernel_size=(1, 1), stride=(1, 1))\n",
       "    (21): ReLU6()\n",
       "    (22): Conv2d(384, 384, kernel_size=(3, 3), stride=(1, 1), padding=(1, 1), groups=384)\n",
       "    (23): ReLU6()\n",
       "    (24): Conv2d(384, 96, kernel_size=(1, 1), stride=(1, 1))\n",
       "    (25): Conv2d(96, 576, kernel_size=(1, 1), stride=(1, 1))\n",
       "    (26): ReLU6()\n",
       "    (27): Conv2d(576, 576, kernel_size=(3, 3), stride=(2, 2), padding=(1, 1), groups=576)\n",
       "    (28): ReLU6()\n",
       "    (29): Conv2d(576, 160, kernel_size=(1, 1), stride=(1, 1))\n",
       "    (30): Conv2d(160, 960, kernel_size=(1, 1), stride=(1, 1))\n",
       "    (31): ReLU6()\n",
       "    (32): Conv2d(960, 960, kernel_size=(3, 3), stride=(1, 1), padding=(1, 1), groups=960)\n",
       "    (33): ReLU6()\n",
       "    (34): Conv2d(960, 320, kernel_size=(1, 1), stride=(1, 1))\n",
       "  )\n",
       "  (layer2): Sequential(\n",
       "    (0): Conv2d(320, 1280, kernel_size=(1, 1), stride=(1, 1))\n",
       "    (1): AvgPool2d(kernel_size=7, stride=7, padding=0)\n",
       "  )\n",
       "  (fc): Linear(in_features=1280, out_features=10, bias=True)\n",
       ")"
      ]
     },
     "execution_count": 123,
     "metadata": {},
     "output_type": "execute_result"
    }
   ],
   "source": [
    "# output과 stride, expansion factor\n",
    "cfg = {'Test': [(16,1,1), (24,2,6), (32,2,6), (64,2,6), (96,1,6), (160,2,6), (320,1,6)]}\n",
    "\n",
    "bottleneck = make_layers(cfg[\"Test\"])\n",
    "\n",
    "model = Mobilenet(bottleneck, num_classes= 10).to(device)\n",
    "model"
   ]
  },
  {
   "cell_type": "code",
   "execution_count": 124,
   "metadata": {},
   "outputs": [
    {
     "name": "stdout",
     "output_type": "stream",
     "text": [
      "torch.Size([2, 32, 112, 112])\n",
      "torch.Size([2, 320, 7, 7])\n",
      "torch.Size([2, 1280, 1, 1])\n",
      "torch.Size([2, 10])\n"
     ]
    },
    {
     "data": {
      "text/plain": [
       "tensor([[ 0.0691,  0.0044,  0.0636,  0.0271, -0.0488, -0.0096, -0.0456, -0.0029,\n",
       "          0.0294,  0.0174],\n",
       "        [ 0.0691,  0.0044,  0.0636,  0.0271, -0.0488, -0.0096, -0.0456, -0.0029,\n",
       "          0.0294,  0.0174]], grad_fn=<AddmmBackward>)"
      ]
     },
     "execution_count": 124,
     "metadata": {},
     "output_type": "execute_result"
    }
   ],
   "source": [
    "target = torch.Tensor(2,3,224,224).to(device)\n",
    "model(target)"
   ]
  },
  {
   "cell_type": "markdown",
   "metadata": {},
   "source": [
    "# Resize 하는법\n",
    "- 보통 큰 걸 줄일때 사용함.\n"
   ]
  },
  {
   "cell_type": "code",
   "execution_count": 1,
   "metadata": {},
   "outputs": [
    {
     "ename": "ModuleNotFoundError",
     "evalue": "No module named 'transforms'",
     "output_type": "error",
     "traceback": [
      "\u001b[0;31m---------------------------------------------------------------------------\u001b[0m",
      "\u001b[0;31mModuleNotFoundError\u001b[0m                       Traceback (most recent call last)",
      "\u001b[0;32m<ipython-input-1-dbb8bfa3abed>\u001b[0m in \u001b[0;36m<module>\u001b[0;34m\u001b[0m\n\u001b[0;32m----> 1\u001b[0;31m \u001b[0;32mimport\u001b[0m \u001b[0mtransforms\u001b[0m\u001b[0;34m\u001b[0m\u001b[0;34m\u001b[0m\u001b[0m\n\u001b[0m",
      "\u001b[0;31mModuleNotFoundError\u001b[0m: No module named 'transforms'"
     ]
    }
   ],
   "source": [
    "# resize\n",
    "import torchvision\n",
    "from torchvision import transforms\n",
    "trans = transforms.Compose([transforms.Resize((224,224))])\n",
    "\n",
    "# 불러오기\n",
    "train_data = torchvision.datasets.ImageFolder(\n",
    "    root = \"./data\", transform = trans)\n",
    "\n",
    "#\n",
    "train_data"
   ]
  },
  {
   "cell_type": "code",
   "execution_count": null,
   "metadata": {},
   "outputs": [],
   "source": []
  }
 ],
 "metadata": {
  "kernelspec": {
   "display_name": "Python 3",
   "language": "python",
   "name": "python3"
  },
  "language_info": {
   "codemirror_mode": {
    "name": "ipython",
    "version": 3
   },
   "file_extension": ".py",
   "mimetype": "text/x-python",
   "name": "python",
   "nbconvert_exporter": "python",
   "pygments_lexer": "ipython3",
   "version": "3.8.3"
  }
 },
 "nbformat": 4,
 "nbformat_minor": 4
}
