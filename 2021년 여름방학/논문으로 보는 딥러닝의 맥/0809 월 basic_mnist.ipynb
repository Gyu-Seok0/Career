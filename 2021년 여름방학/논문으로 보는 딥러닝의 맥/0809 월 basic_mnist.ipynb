{
 "cells": [
  {
   "cell_type": "code",
   "execution_count": 28,
   "metadata": {},
   "outputs": [
    {
     "name": "stdout",
     "output_type": "stream",
     "text": [
      "packs loaded\n"
     ]
    }
   ],
   "source": [
    "import numpy as np\n",
    "import tensorflow as tf\n",
    "import matplotlib.pyplot as plt\n",
    "#from tensorflow.examples.tutorials.mnist import input_data\n",
    "from tensorflow.keras.datasets import mnist # 앞으로는 이렇게 mnist를 호출하면 됌.\n",
    "\n",
    "(X_train, Y_train), (X_test, Y_test) = mnist.load_data()\n",
    "Y_one_hot = np.eye(10)[Y_train]\n",
    "\n",
    "%matplotlib inline  \n",
    "print (\"packs loaded\")"
   ]
  },
  {
   "cell_type": "code",
   "execution_count": 40,
   "metadata": {},
   "outputs": [
    {
     "data": {
      "text/plain": [
       "array([[0., 0., 0., 0., 0., 1., 0., 0., 0., 0.],\n",
       "       [1., 0., 0., 0., 0., 0., 0., 0., 0., 0.],\n",
       "       [0., 0., 0., 0., 1., 0., 0., 0., 0., 0.],\n",
       "       [0., 1., 0., 0., 0., 0., 0., 0., 0., 0.],\n",
       "       [0., 0., 0., 0., 0., 0., 0., 0., 0., 1.]])"
      ]
     },
     "execution_count": 40,
     "metadata": {},
     "output_type": "execute_result"
    }
   ],
   "source": [
    "# one_hot_encoding에서 사용.\n",
    "\n",
    "np.eye(10)[Y_train][:5]"
   ]
  },
  {
   "cell_type": "code",
   "execution_count": 52,
   "metadata": {},
   "outputs": [
    {
     "data": {
      "image/png": "[encoded data removed]",
      "text/plain": [
       "<Figure size 288x288 with 1 Axes>"
      ]
     },
     "metadata": {
      "needs_background": "light"
     },
     "output_type": "display_data"
    },
    {
     "data": {
      "image/png": "[encoded data removed]",
      "text/plain": [
       "<Figure size 288x288 with 1 Axes>"
      ]
     },
     "metadata": {
      "needs_background": "light"
     },
     "output_type": "display_data"
    },
    {
     "data": {
      "image/png": "[encoded data removed]",
      "text/plain": [
       "<Figure size 288x288 with 1 Axes>"
      ]
     },
     "metadata": {
      "needs_background": "light"
     },
     "output_type": "display_data"
    },
    {
     "data": {
      "image/png": "[encoded data removed]",
      "text/plain": [
       "<Figure size 288x288 with 1 Axes>"
      ]
     },
     "metadata": {
      "needs_background": "light"
     },
     "output_type": "display_data"
    },
    {
     "data": {
      "image/png": "[encoded data removed]",
      "text/plain": [
       "<Figure size 288x288 with 1 Axes>"
      ]
     },
     "metadata": {
      "needs_background": "light"
     },
     "output_type": "display_data"
    }
   ],
   "source": [
    "nsample = 5\n",
    "\n",
    "randidx = np.random.randint(X_train.shape[0], size = nsample)\n",
    "for i in randidx:\n",
    "    # image & label\n",
    "    curr_img = np.reshape(X_train[i,:], (28,28))\n",
    "    curr_label = np.argmax(Y_one_hot[i,:])\n",
    "    \n",
    "    # matshow\n",
    "    plt.matshow(curr_img, cmap = \"gray\")\n",
    "    plt.title(str(i)+\"th Training Data\")\n",
    "    "
   ]
  },
  {
   "cell_type": "markdown",
   "metadata": {},
   "source": [
    "# Mini_batch 단위로 학습을 진행, 이때 batch가 random하게 적용되도록 하기."
   ]
  },
  {
   "cell_type": "code",
   "execution_count": 58,
   "metadata": {},
   "outputs": [
    {
     "data": {
      "text/plain": [
       "array([1, 7, 3, 9, 4, 8, 5, 6, 0, 2])"
      ]
     },
     "execution_count": 58,
     "metadata": {},
     "output_type": "execute_result"
    }
   ],
   "source": [
    "ntrain = 10\n",
    "nbatch = 4\n",
    "niter = ntrain // nbatch + 1\n",
    "\n",
    "rand_indices = np.random.permutation(ntrain)\n",
    "rand_indices"
   ]
  },
  {
   "cell_type": "code",
   "execution_count": 81,
   "metadata": {},
   "outputs": [
    {
     "name": "stdout",
     "output_type": "stream",
     "text": [
      "curr_index [3 2 7 4]\n",
      "x_shape: (4, 28, 28) // Y: [1 4 3 9]\n",
      "curr_index [6 5 9 8]\n",
      "x_shape: (4, 28, 28) // Y: [1 2 4 1]\n",
      "curr_index [0 1]\n",
      "x_shape: (2, 28, 28) // Y: [5 0]\n",
      "\n",
      "curr_index [6 2 9 1]\n",
      "x_shape: (4, 28, 28) // Y: [1 4 4 0]\n",
      "curr_index [8 5 0 3]\n",
      "x_shape: (4, 28, 28) // Y: [1 2 5 1]\n",
      "curr_index [4 7]\n",
      "x_shape: (2, 28, 28) // Y: [9 3]\n",
      "\n",
      "curr_index [4 0 5 8]\n",
      "x_shape: (4, 28, 28) // Y: [9 5 2 1]\n",
      "curr_index [7 9 6 1]\n",
      "x_shape: (4, 28, 28) // Y: [3 4 1 0]\n",
      "curr_index [2 3]\n",
      "x_shape: (2, 28, 28) // Y: [4 1]\n",
      "\n",
      "curr_index [3 8 1 0]\n",
      "x_shape: (4, 28, 28) // Y: [1 1 0 5]\n",
      "curr_index [9 7 5 2]\n",
      "x_shape: (4, 28, 28) // Y: [4 3 2 4]\n",
      "curr_index [4 6]\n",
      "x_shape: (2, 28, 28) // Y: [9 1]\n",
      "\n",
      "curr_index [3 0 5 6]\n",
      "x_shape: (4, 28, 28) // Y: [1 5 2 1]\n",
      "curr_index [8 2 9 7]\n",
      "x_shape: (4, 28, 28) // Y: [1 4 4 3]\n",
      "curr_index [1 4]\n",
      "x_shape: (2, 28, 28) // Y: [0 9]\n",
      "\n"
     ]
    }
   ],
   "source": [
    "\n",
    "for epoch in range(5):\n",
    "    rand_indices = np.random.permutation(ntrain) # random한 숫자를 여러개 뽑을 수 있음.\n",
    "    for i in range(niter):\n",
    "        curr_indices = rand_indices[i*nbatch:(i+1)*nbatch] #batch 단위로 가져옴.\n",
    "        print(\"curr_index\",curr_indices)\n",
    "        \n",
    "        xbatch = X_train[curr_indices] \n",
    "        ybatch = np.argmax(Y_one_hot[curr_indices], axis = 1)\n",
    "        print(\"x_shape:\", xbatch.shape, \"// Y:\", ybatch)\n",
    "    print()\n",
    "        \n",
    "    "
   ]
  },
  {
   "cell_type": "code",
   "execution_count": null,
   "metadata": {},
   "outputs": [],
   "source": []
  }
 ],
 "metadata": {
  "kernelspec": {
   "display_name": "Python 3",
   "language": "python",
   "name": "python3"
  },
  "language_info": {
   "codemirror_mode": {
    "name": "ipython",
    "version": 3
   },
   "file_extension": ".py",
   "mimetype": "text/x-python",
   "name": "python",
   "nbconvert_exporter": "python",
   "pygments_lexer": "ipython3",
   "version": "3.8.3"
  }
 },
 "nbformat": 4,
 "nbformat_minor": 4
}
