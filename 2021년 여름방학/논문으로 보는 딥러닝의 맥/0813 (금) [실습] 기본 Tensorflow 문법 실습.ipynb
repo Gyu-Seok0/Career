{
 "cells": [
  {
   "cell_type": "code",
   "execution_count": 1,
   "metadata": {},
   "outputs": [
    {
     "name": "stdout",
     "output_type": "stream",
     "text": [
      "PACKAGES LOADED\n",
      " Current tf version 2.4.0\n"
     ]
    }
   ],
   "source": [
    "import numpy as np\n",
    "import tensorflow as tf\n",
    "\n",
    "print(\"PACKAGES LOADED\")\n",
    "print(\" Current tf version %s\" % (tf.__version__))"
   ]
  },
  {
   "cell_type": "code",
   "execution_count": 8,
   "metadata": {},
   "outputs": [
    {
     "name": "stdout",
     "output_type": "stream",
     "text": [
      "open session\n"
     ]
    }
   ],
   "source": [
    "import tensorflow.compat.v1 as tf\n",
    "tf.disable_v2_behavior()\n",
    "\n",
    "sess = tf.Session()\n",
    "print(\"open session\")"
   ]
  },
  {
   "cell_type": "markdown",
   "metadata": {},
   "source": [
    "# session.run 사용하기"
   ]
  },
  {
   "cell_type": "code",
   "execution_count": 10,
   "metadata": {},
   "outputs": [
    {
     "name": "stdout",
     "output_type": "stream",
     "text": [
      "TYPE IS\n",
      " <class 'tensorflow.python.framework.ops.Tensor'>\n",
      "VALUE IS\n",
      " Tensor(\"Const_1:0\", shape=(), dtype=string)\n"
     ]
    }
   ],
   "source": [
    "def print_tf(x):\n",
    "    print(\"TYPE IS\\n %s\"%(type(x)))\n",
    "    print(\"VALUE IS\\n %s\" %(x))\n",
    "    \n",
    "hello = tf.constant(\"HELLO. IT's ME.\")\n",
    "print_tf(hello)"
   ]
  },
  {
   "cell_type": "code",
   "execution_count": 12,
   "metadata": {},
   "outputs": [
    {
     "name": "stdout",
     "output_type": "stream",
     "text": [
      "TYPE IS\n",
      " <class 'bytes'>\n",
      "VALUE IS\n",
      " b\"HELLO. IT's ME.\"\n"
     ]
    }
   ],
   "source": [
    "hello_out = sess.run(hello) # session에서 run을 시켜주는 구나\n",
    "print_tf(hello_out)"
   ]
  },
  {
   "cell_type": "markdown",
   "metadata": {},
   "source": [
    "# session.run 사용하기2"
   ]
  },
  {
   "cell_type": "code",
   "execution_count": 16,
   "metadata": {},
   "outputs": [
    {
     "name": "stdout",
     "output_type": "stream",
     "text": [
      "TYPE IS\n",
      " <class 'tensorflow.python.framework.ops.Tensor'>\n",
      "VALUE IS\n",
      " Tensor(\"Const_5:0\", shape=(), dtype=float32)\n"
     ]
    }
   ],
   "source": [
    "a = tf.constant(1.5)\n",
    "print_tf(a)"
   ]
  },
  {
   "cell_type": "code",
   "execution_count": 17,
   "metadata": {},
   "outputs": [
    {
     "name": "stdout",
     "output_type": "stream",
     "text": [
      "TYPE IS\n",
      " <class 'numpy.float32'>\n",
      "VALUE IS\n",
      " 1.5\n"
     ]
    }
   ],
   "source": [
    "a_out = sess.run(a)\n",
    "print_tf(a_out)"
   ]
  },
  {
   "cell_type": "markdown",
   "metadata": {},
   "source": [
    "# session.run 사용하기3"
   ]
  },
  {
   "cell_type": "code",
   "execution_count": 20,
   "metadata": {},
   "outputs": [
    {
     "data": {
      "text/plain": [
       "4.0"
      ]
     },
     "execution_count": 20,
     "metadata": {},
     "output_type": "execute_result"
    }
   ],
   "source": [
    "a = tf.constant(1.5)\n",
    "b = tf.constant(2.5)\n",
    "a_plus_b = tf.add(a,b)\n",
    "\n",
    "# 출력\n",
    "sess.run(a_plus_b)"
   ]
  },
  {
   "cell_type": "markdown",
   "metadata": {},
   "source": [
    "# 정리: sess.run 되기 이전까지의 값들이 tensorflow 내에서 연산이 되고,\n",
    "\n",
    "\n",
    "가장 윗단에 있는 내용을 sess.run()으로 읽어오면 되는 구조이다.\n",
    "\n",
    "이러한 구조를 computational graph라고 한다."
   ]
  },
  {
   "cell_type": "markdown",
   "metadata": {},
   "source": [
    "# session.run 사용하기4\n",
    "- variable은 변하는 값\n",
    "- constant는 고정값"
   ]
  },
  {
   "cell_type": "code",
   "execution_count": 31,
   "metadata": {},
   "outputs": [
    {
     "name": "stdout",
     "output_type": "stream",
     "text": [
      "TYPE IS\n",
      " <class 'tensorflow.python.ops.variables.RefVariable'>\n",
      "VALUE IS\n",
      " <tf.Variable 'Variable_10:0' shape=(5, 2) dtype=float32_ref>\n"
     ]
    },
    {
     "data": {
      "text/plain": [
       "array([[ 0.02050998, -0.05229034],\n",
       "       [-0.09439101, -0.02783136],\n",
       "       [ 0.0171297 , -0.06991579],\n",
       "       [ 0.149626  , -0.05785697],\n",
       "       [ 0.14225434,  0.15305503]], dtype=float32)"
      ]
     },
     "execution_count": 31,
     "metadata": {},
     "output_type": "execute_result"
    }
   ],
   "source": [
    "weight = tf.Variable(tf.random_normal([5,2], stddev = 0.1))\n",
    "print_tf(weight)\n",
    "\n",
    "# variable에 대한 초기값을 주기 (필수적인 코드임)\n",
    "init = tf.global_variables_initializer()\n",
    "sess.run(init)\n",
    "\n",
    "# 호출\n",
    "sess.run(weight)"
   ]
  },
  {
   "cell_type": "markdown",
   "metadata": {},
   "source": [
    "# Placeholders\n",
    "\n",
    "집어넣는 것이라고 설명해주심"
   ]
  },
  {
   "cell_type": "code",
   "execution_count": 37,
   "metadata": {},
   "outputs": [
    {
     "name": "stdout",
     "output_type": "stream",
     "text": [
      "TYPE IS\n",
      " <class 'tensorflow.python.framework.ops.Tensor'>\n",
      "VALUE IS\n",
      " Tensor(\"MatMul_1:0\", shape=(?, 2), dtype=float32)\n"
     ]
    }
   ],
   "source": [
    "x = tf.placeholder(tf.float32, [None,5])\n",
    "\n",
    "oper = tf.matmul(x,weight) # oper 선언\n",
    "print_tf(oper)"
   ]
  },
  {
   "cell_type": "code",
   "execution_count": 47,
   "metadata": {},
   "outputs": [
    {
     "name": "stdout",
     "output_type": "stream",
     "text": [
      "TYPE IS\n",
      " <class 'numpy.ndarray'>\n",
      "VALUE IS\n",
      " [[ 0.10673143  0.01813232]\n",
      " [ 0.16035666 -0.12747023]\n",
      " [ 0.128998    0.05754524]]\n"
     ]
    },
    {
     "data": {
      "text/plain": [
       "(3, 2)"
      ]
     },
     "execution_count": 47,
     "metadata": {},
     "output_type": "execute_result"
    }
   ],
   "source": [
    "data = np.random.rand(3,5)\n",
    "oper_out = sess.run(oper, feed_dict= {x: data}) # x는 반드시 ?*5의 형태임.\n",
    "print_tf(oper_out)\n",
    "\n",
    "# shape\n",
    "oper_out.shape"
   ]
  },
  {
   "cell_type": "markdown",
   "metadata": {},
   "source": [
    "# Placeholder 연습"
   ]
  },
  {
   "cell_type": "code",
   "execution_count": 58,
   "metadata": {},
   "outputs": [
    {
     "data": {
      "text/plain": [
       "array([[-0.03025647,  0.01060422],\n",
       "       [-0.00848227,  0.01295012],\n",
       "       [-0.01490594, -0.00731708],\n",
       "       [-0.00751351, -0.00682406],\n",
       "       [-0.01315625, -0.00209675]], dtype=float32)"
      ]
     },
     "execution_count": 58,
     "metadata": {},
     "output_type": "execute_result"
    }
   ],
   "source": [
    "# weight 선언\n",
    "weight = tf.Variable(tf.random_normal([6,2], stddev= 0.01))\n",
    "init = tf.global_variables_initializer()\n",
    "sess.run(init)\n",
    "sess.run(weight)\n",
    "\n",
    "# oper 만들기\n",
    "x = tf.placeholder(tf.float32, [None, 6])\n",
    "oper = tf.matmul(x,weight)\n",
    "\n",
    "# feed_dict 사용하기\n",
    "data = np.random.rand(5,6)\n",
    "sess.run(oper, feed_dict= {x:data})"
   ]
  },
  {
   "cell_type": "code",
   "execution_count": null,
   "metadata": {},
   "outputs": [],
   "source": []
  }
 ],
 "metadata": {
  "kernelspec": {
   "display_name": "Python 3",
   "language": "python",
   "name": "python3"
  },
  "language_info": {
   "codemirror_mode": {
    "name": "ipython",
    "version": 3
   },
   "file_extension": ".py",
   "mimetype": "text/x-python",
   "name": "python",
   "nbconvert_exporter": "python",
   "pygments_lexer": "ipython3",
   "version": "3.8.3"
  }
 },
 "nbformat": 4,
 "nbformat_minor": 4
}
