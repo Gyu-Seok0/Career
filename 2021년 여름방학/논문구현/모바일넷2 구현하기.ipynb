{
 "cells": [
  {
   "cell_type": "markdown",
   "metadata": {},
   "source": [
    "# 간단한 Mnist 모델이 잘 돌아가는지 확인"
   ]
  },
  {
   "cell_type": "code",
   "execution_count": 73,
   "metadata": {},
   "outputs": [],
   "source": [
    "#step1) 라이브러리\n",
    "import torch\n",
    "import torch.nn as nn\n",
    "import torchvision.datasets as dsets\n",
    "import torchvision.transforms as transforms\n",
    "import torch.optim as optim\n",
    "from torch.utils.data import DataLoader\n"
   ]
  },
  {
   "cell_type": "code",
   "execution_count": 78,
   "metadata": {},
   "outputs": [],
   "source": [
    "# step2) Device\n",
    "device = \"cuda\" if torch.cuda.is_available() else \"cpu\"\n",
    "\n",
    "torch.manual_seed(777)\n",
    "if device == \"cuda\":\n",
    "    torch.cuda.manual_seed_all(777)\n"
   ]
  },
  {
   "cell_type": "code",
   "execution_count": 3,
   "metadata": {},
   "outputs": [],
   "source": [
    "# step3) parameter setting\n",
    "\n",
    "learning_rate = 0.1\n",
    "training_epochs = 10\n",
    "batch_size = 100\n"
   ]
  },
  {
   "cell_type": "code",
   "execution_count": 125,
   "metadata": {},
   "outputs": [],
   "source": [
    "# step4) Dataset & DataLoader\n",
    "\n",
    "# Dataset\n",
    "mnist_train = dsets.MNIST(root = \"MNIST_data/\", train= True, transform= transforms.Resize((20,20)))\n",
    "mnist_test = dsets.MNIST(root = \"MNIST_data/\", train= False, transform= transforms.Resize((20,20)))\n",
    "\n",
    "# DataLoader\n",
    "train_loader = DataLoader(dataset=mnist_train, batch_size=batch_size, shuffle= True, drop_last= True)\n",
    "test_loader = DataLoader(dataset=mnist_test, batch_size=batch_size, shuffle= False, drop_last= False)\n",
    "\n"
   ]
  },
  {
   "cell_type": "code",
   "execution_count": 48,
   "metadata": {},
   "outputs": [],
   "source": [
    "# step5) model\n",
    "class Mobilenet2(nn.Module):\n",
    "    def __init__(self):\n",
    "        super(Mobilenet2,self).__init__()\n",
    "        self.layer1 = nn.Sequential(\n",
    "            nn.Conv2d(1,512, kernel_size= 3, stride = 2, padding = 1),\n",
    "            # 512*14*14\n",
    "            \n",
    "            nn.BatchNorm2d(512),\n",
    "            nn.ReLU6(),\n",
    "            nn.MaxPool2d(2,2)\n",
    "            #512*7*7\n",
    "        \n",
    "        )\n",
    "        \n",
    "        # 512 * 7* 7 \n",
    "        self.layer2 = nn.Sequential(\n",
    "            nn.Linear(512*7*7, 10)\n",
    "        )\n",
    "\n",
    "    def forward(self,x):\n",
    "        out = self.layer1(x)\n",
    "        out = out.view(out.size(0),-1)\n",
    "        out = self.layer2(out)\n",
    "        return out\n",
    "    \n",
    "model = Mobilenet2().to(device)\n",
    "\n"
   ]
  },
  {
   "cell_type": "code",
   "execution_count": 49,
   "metadata": {},
   "outputs": [],
   "source": [
    "# step6) optim & loss\n",
    "\n",
    "criterion = nn.CrossEntropyLoss().to(device)\n",
    "optimizer = optim.Adam(model.parameters(), lr = learning_rate)\n",
    "\n"
   ]
  },
  {
   "cell_type": "code",
   "execution_count": 50,
   "metadata": {},
   "outputs": [
    {
     "name": "stdout",
     "output_type": "stream",
     "text": [
      "[Epoch: 0000], loss : 6.0902, acc: 0.8783%\n",
      "[Epoch: 0001], loss : 0.2268, acc: 0.9315%\n",
      "[Epoch: 0002], loss : 0.2264, acc: 0.9326%\n",
      "[Epoch: 0003], loss : 0.2347, acc: 0.9302%\n"
     ]
    },
    {
     "ename": "KeyboardInterrupt",
     "evalue": "",
     "output_type": "error",
     "traceback": [
      "\u001b[0;31m---------------------------------------------------------------------------\u001b[0m",
      "\u001b[0;31mKeyboardInterrupt\u001b[0m                         Traceback (most recent call last)",
      "\u001b[0;32m<ipython-input-50-386dea197a90>\u001b[0m in \u001b[0;36m<module>\u001b[0;34m\u001b[0m\n\u001b[1;32m     16\u001b[0m         \u001b[0mhypothesis\u001b[0m \u001b[0;34m=\u001b[0m \u001b[0mmodel\u001b[0m\u001b[0;34m(\u001b[0m\u001b[0mX\u001b[0m\u001b[0;34m)\u001b[0m\u001b[0;34m\u001b[0m\u001b[0;34m\u001b[0m\u001b[0m\n\u001b[1;32m     17\u001b[0m         \u001b[0mcost\u001b[0m \u001b[0;34m=\u001b[0m \u001b[0mcriterion\u001b[0m\u001b[0;34m(\u001b[0m\u001b[0mhypothesis\u001b[0m\u001b[0;34m,\u001b[0m \u001b[0mY\u001b[0m\u001b[0;34m)\u001b[0m\u001b[0;34m\u001b[0m\u001b[0;34m\u001b[0m\u001b[0m\n\u001b[0;32m---> 18\u001b[0;31m         \u001b[0mcost\u001b[0m\u001b[0;34m.\u001b[0m\u001b[0mbackward\u001b[0m\u001b[0;34m(\u001b[0m\u001b[0;34m)\u001b[0m\u001b[0;34m\u001b[0m\u001b[0;34m\u001b[0m\u001b[0m\n\u001b[0m\u001b[1;32m     19\u001b[0m         \u001b[0moptimizer\u001b[0m\u001b[0;34m.\u001b[0m\u001b[0mstep\u001b[0m\u001b[0;34m(\u001b[0m\u001b[0;34m)\u001b[0m\u001b[0;34m\u001b[0m\u001b[0;34m\u001b[0m\u001b[0m\n\u001b[1;32m     20\u001b[0m \u001b[0;34m\u001b[0m\u001b[0m\n",
      "\u001b[0;32m~/opt/anaconda3/lib/python3.8/site-packages/torch/tensor.py\u001b[0m in \u001b[0;36mbackward\u001b[0;34m(self, gradient, retain_graph, create_graph)\u001b[0m\n\u001b[1;32m    196\u001b[0m                 \u001b[0mproducts\u001b[0m\u001b[0;34m.\u001b[0m \u001b[0mDefaults\u001b[0m \u001b[0mto\u001b[0m\u001b[0;31m \u001b[0m\u001b[0;31m`\u001b[0m\u001b[0;31m`\u001b[0m\u001b[0;32mFalse\u001b[0m\u001b[0;31m`\u001b[0m\u001b[0;31m`\u001b[0m\u001b[0;34m.\u001b[0m\u001b[0;34m\u001b[0m\u001b[0;34m\u001b[0m\u001b[0m\n\u001b[1;32m    197\u001b[0m         \"\"\"\n\u001b[0;32m--> 198\u001b[0;31m         \u001b[0mtorch\u001b[0m\u001b[0;34m.\u001b[0m\u001b[0mautograd\u001b[0m\u001b[0;34m.\u001b[0m\u001b[0mbackward\u001b[0m\u001b[0;34m(\u001b[0m\u001b[0mself\u001b[0m\u001b[0;34m,\u001b[0m \u001b[0mgradient\u001b[0m\u001b[0;34m,\u001b[0m \u001b[0mretain_graph\u001b[0m\u001b[0;34m,\u001b[0m \u001b[0mcreate_graph\u001b[0m\u001b[0;34m)\u001b[0m\u001b[0;34m\u001b[0m\u001b[0;34m\u001b[0m\u001b[0m\n\u001b[0m\u001b[1;32m    199\u001b[0m \u001b[0;34m\u001b[0m\u001b[0m\n\u001b[1;32m    200\u001b[0m     \u001b[0;32mdef\u001b[0m \u001b[0mregister_hook\u001b[0m\u001b[0;34m(\u001b[0m\u001b[0mself\u001b[0m\u001b[0;34m,\u001b[0m \u001b[0mhook\u001b[0m\u001b[0;34m)\u001b[0m\u001b[0;34m:\u001b[0m\u001b[0;34m\u001b[0m\u001b[0;34m\u001b[0m\u001b[0m\n",
      "\u001b[0;32m~/opt/anaconda3/lib/python3.8/site-packages/torch/autograd/__init__.py\u001b[0m in \u001b[0;36mbackward\u001b[0;34m(tensors, grad_tensors, retain_graph, create_graph, grad_variables)\u001b[0m\n\u001b[1;32m     96\u001b[0m         \u001b[0mretain_graph\u001b[0m \u001b[0;34m=\u001b[0m \u001b[0mcreate_graph\u001b[0m\u001b[0;34m\u001b[0m\u001b[0;34m\u001b[0m\u001b[0m\n\u001b[1;32m     97\u001b[0m \u001b[0;34m\u001b[0m\u001b[0m\n\u001b[0;32m---> 98\u001b[0;31m     Variable._execution_engine.run_backward(\n\u001b[0m\u001b[1;32m     99\u001b[0m         \u001b[0mtensors\u001b[0m\u001b[0;34m,\u001b[0m \u001b[0mgrad_tensors\u001b[0m\u001b[0;34m,\u001b[0m \u001b[0mretain_graph\u001b[0m\u001b[0;34m,\u001b[0m \u001b[0mcreate_graph\u001b[0m\u001b[0;34m,\u001b[0m\u001b[0;34m\u001b[0m\u001b[0;34m\u001b[0m\u001b[0m\n\u001b[1;32m    100\u001b[0m         allow_unreachable=True)  # allow_unreachable flag\n",
      "\u001b[0;31mKeyboardInterrupt\u001b[0m: "
     ]
    }
   ],
   "source": [
    "# step7) train\n",
    "model.train()\n",
    "iteration = len(train_loader)\n",
    "\n",
    "for epoch in range(training_epochs):\n",
    "    loss = 0.0\n",
    "    acc_correct = 0.0\n",
    "    \n",
    "    for idx, sample in enumerate(train_loader):\n",
    "        optimizer.zero_grad()\n",
    "        X,Y = sample\n",
    "        X = X.to(device)\n",
    "        Y = Y.to(device)\n",
    "        \n",
    "        # forward, backward, optimizer\n",
    "        hypothesis = model(X)\n",
    "        cost = criterion(hypothesis, Y)\n",
    "        cost.backward()\n",
    "        optimizer.step()\n",
    "        \n",
    "        #calculate\n",
    "        loss += cost.item()\n",
    "        correct = (torch.argmax(hypothesis, dim = 1) == Y).float()\n",
    "        acc_correct += correct.sum()\n",
    "    \n",
    "    acc_correct /= (batch_size * iteration)\n",
    "    loss /= iteration\n",
    "    print(\"[Epoch: {:04d}], loss : {:.4f}, acc: {:.4f}%\".format(epoch, loss, acc_correct))\n",
    "        \n",
    "        \n"
   ]
  },
  {
   "cell_type": "code",
   "execution_count": 70,
   "metadata": {},
   "outputs": [
    {
     "ename": "NameError",
     "evalue": "name 'model' is not defined",
     "output_type": "error",
     "traceback": [
      "\u001b[0;31m---------------------------------------------------------------------------\u001b[0m",
      "\u001b[0;31mNameError\u001b[0m                                 Traceback (most recent call last)",
      "\u001b[0;32m<ipython-input-70-82f12b09e607>\u001b[0m in \u001b[0;36m<module>\u001b[0;34m\u001b[0m\n\u001b[1;32m      3\u001b[0m \u001b[0;34m\u001b[0m\u001b[0m\n\u001b[1;32m      4\u001b[0m \u001b[0;32mwith\u001b[0m \u001b[0mtorch\u001b[0m\u001b[0;34m.\u001b[0m\u001b[0mno_grad\u001b[0m\u001b[0;34m(\u001b[0m\u001b[0;34m)\u001b[0m\u001b[0;34m:\u001b[0m\u001b[0;34m\u001b[0m\u001b[0;34m\u001b[0m\u001b[0m\n\u001b[0;32m----> 5\u001b[0;31m     \u001b[0mmodel\u001b[0m\u001b[0;34m.\u001b[0m\u001b[0meval\u001b[0m\u001b[0;34m(\u001b[0m\u001b[0;34m)\u001b[0m\u001b[0;34m\u001b[0m\u001b[0;34m\u001b[0m\u001b[0m\n\u001b[0m\u001b[1;32m      6\u001b[0m     \u001b[0maccuracy\u001b[0m \u001b[0;34m=\u001b[0m \u001b[0;36m0\u001b[0m\u001b[0;34m\u001b[0m\u001b[0;34m\u001b[0m\u001b[0m\n\u001b[1;32m      7\u001b[0m     \u001b[0mloss\u001b[0m \u001b[0;34m=\u001b[0m \u001b[0;36m0\u001b[0m\u001b[0;34m\u001b[0m\u001b[0;34m\u001b[0m\u001b[0m\n",
      "\u001b[0;31mNameError\u001b[0m: name 'model' is not defined"
     ]
    }
   ],
   "source": [
    "# step8) test\n",
    "\n",
    "\n",
    "with torch.no_grad():\n",
    "    model.eval()\n",
    "    accuracy = 0\n",
    "    loss = 0\n",
    "    \n",
    "    for idx, sample in enumerate(test_loader):\n",
    "        X, Y = sample\n",
    "        X = X.to(device)\n",
    "        Y = Y.to(device)\n",
    "        \n",
    "        hypothesis = model(X)\n",
    "        cost = criterion(hypothesis, Y)\n",
    "        \n",
    "        loss += cost.item()\n",
    "        accuracy += (torch.argmax(hypothesis, dim = 1) == Y).sum().float()\n",
    "        \n",
    "    # calculate\n",
    "    loss /= len(test_loader)\n",
    "    accuracy /= (batch_size * len(test_loader))\n",
    "    \n",
    "    print(\"[Test] Loss = {:.4f}, Acc = {:.4f}%\".format(loss, accuracy*100))\n",
    "    \n",
    "    \n",
    "    \n",
    "    "
   ]
  },
  {
   "cell_type": "markdown",
   "metadata": {},
   "source": [
    "# 추가\n",
    "- weight initalization\n",
    "- learning_rate 조절하기\n",
    "- 시각화"
   ]
  },
  {
   "cell_type": "markdown",
   "metadata": {},
   "source": [
    "# Mobilenet2 만들기"
   ]
  },
  {
   "cell_type": "code",
   "execution_count": 189,
   "metadata": {},
   "outputs": [],
   "source": [
    "def make_layers(cfg):\n",
    "    in_channel = 32 #첫번째 convolution을 통과하고 난 뒤.\n",
    "    layers = []\n",
    "    \n",
    "    for v in cfg:\n",
    "        t, out_channel, n, stride = v\n",
    "        # layer 만들기\n",
    "        for i in range(n):\n",
    "            \n",
    "            # The first layer of each sequence has a stride s and all others use stride 1\n",
    "            if i != 0:\n",
    "                stride = 1\n",
    "                \n",
    "            conv_pointwise1 = nn.Conv2d (in_channel,\n",
    "                                        in_channel*t,\n",
    "                                        kernel_size= 1,\n",
    "                                        stride = 1,\n",
    "                                        padding = 0)\n",
    "\n",
    "            conv_depthwise = nn.Conv2d(in_channel*t, \n",
    "                                       in_channel*t, \n",
    "                                       kernel_size=3, \n",
    "                                       groups= in_channel*t,\n",
    "                                       stride = stride,\n",
    "                                       padding = 1)\n",
    "\n",
    "            conv_pointwise2 = nn.Conv2d (in_channel*t,\n",
    "                                        out_channel,\n",
    "                                        kernel_size= 1,\n",
    "                                        stride = 1,\n",
    "                                        padding = 0)\n",
    "\n",
    "            #layer 추가하기\n",
    "            layers.append([conv_pointwise1, nn.BatchNorm2d(in_channel*t) ,nn.ReLU6(),\n",
    "                           conv_depthwise, nn.BatchNorm2d(in_channel*t),nn.ReLU6(),\n",
    "                           conv_pointwise2, nn.BatchNorm2d(out_channel)])\n",
    "\n",
    "            # 다음번 layer를 위해 값 change\n",
    "            in_channel = out_channel\n",
    "        \n",
    "    return layers\n",
    "    "
   ]
  },
  {
   "cell_type": "code",
   "execution_count": 190,
   "metadata": {},
   "outputs": [],
   "source": [
    "# bottle_neck을 담고있는 리스트를 만들어봅시다.\n",
    "# 논문에서 나온 순서를 지켜봅시다.\n",
    "\n",
    "cfg = {'MobileNetV2': [(1,16,1,1), (6,24,2,2), (6,32,3,2), (6,64,4,2), (6,96,3,1), (6,160,3,2), (6,320,1,1)]}\n",
    "\n",
    "bottleneck = make_layers(cfg[\"MobileNetV2\"])\n",
    "stride_list = [1,\n",
    "               2,1,\n",
    "               2,1,1,\n",
    "               2,1,1,1,\n",
    "               1,1,1,\n",
    "               2,1,1,\n",
    "               1]\n",
    "\n"
   ]
  },
  {
   "cell_type": "code",
   "execution_count": 205,
   "metadata": {},
   "outputs": [],
   "source": [
    "class Mobilenet(nn.Module):\n",
    "    def __init__(self, features, stride_list, num_classes = 10):\n",
    "        super(Mobilenet,self).__init__()\n",
    "        self.layer1 = nn.Conv2d(3,32, kernel_size= 3, stride=2, padding = 1)\n",
    "        \n",
    "        self.bottle_necks = []\n",
    "        \n",
    "        for layer in features:\n",
    "            self.bottle_necks.append(nn.Sequential(*layer))\n",
    "        \n",
    "        \n",
    "        self.layer2 = nn.Sequential(\n",
    "                nn.Conv2d(320,1280, kernel_size=1, stride = 1, padding= 0),\n",
    "                nn.AvgPool2d(7,7),\n",
    "#                 nn.Conv2d(1280, num_classes, kernel_size=1,  stride = 1, padding= 0)\n",
    "        )\n",
    "        \n",
    "        self.fc = nn.Linear(1280, num_classes)\n",
    "        \n",
    "    \n",
    "        \n",
    "    def forward(self, x):\n",
    "        \n",
    "        out = self.layer1(x)\n",
    "        print(out.shape)\n",
    "        \n",
    "        Downsample(16,24)(test_data).shape\n",
    "        \n",
    "        for i in range(len(self.bottle_necks)):\n",
    "            new = self.bottle_necks[i](out) # \n",
    "            print(new.shape)\n",
    "            if stride_list[i] == 1: # skip connection 연결해주기\n",
    "                # 채널이 다르다면,\n",
    "                if out.shape[1] != new.shape[1]:\n",
    "                    out = Downsample(out.shape[1], new.shape[1])(out) # 채널 맞춰주기\n",
    "                new += out\n",
    "            out = new\n",
    "           \n",
    "        out = self.layer2(out)\n",
    "        print(out.shape)\n",
    "        \n",
    "        out =out.view(out.size(0), -1)\n",
    "        out = self.fc(out)\n",
    "        print(out.shape)\n",
    "\n",
    "\n",
    "        return out\n",
    "    \n"
   ]
  },
  {
   "cell_type": "code",
   "execution_count": 206,
   "metadata": {},
   "outputs": [],
   "source": [
    "# output과 stride, expansion factor\n",
    "model = Mobilenet(bottleneck, stride_list, num_classes= 10).to(device)\n",
    "\n"
   ]
  },
  {
   "cell_type": "code",
   "execution_count": 207,
   "metadata": {},
   "outputs": [
    {
     "name": "stdout",
     "output_type": "stream",
     "text": [
      "torch.Size([2, 32, 112, 112])\n",
      "torch.Size([2, 16, 112, 112])\n",
      "torch.Size([2, 24, 56, 56])\n",
      "torch.Size([2, 24, 56, 56])\n",
      "torch.Size([2, 32, 28, 28])\n",
      "torch.Size([2, 32, 28, 28])\n",
      "torch.Size([2, 32, 28, 28])\n",
      "torch.Size([2, 64, 14, 14])\n",
      "torch.Size([2, 64, 14, 14])\n",
      "torch.Size([2, 64, 14, 14])\n",
      "torch.Size([2, 64, 14, 14])\n",
      "torch.Size([2, 96, 14, 14])\n",
      "torch.Size([2, 96, 14, 14])\n",
      "torch.Size([2, 96, 14, 14])\n",
      "torch.Size([2, 160, 7, 7])\n",
      "torch.Size([2, 160, 7, 7])\n",
      "torch.Size([2, 160, 7, 7])\n",
      "torch.Size([2, 320, 7, 7])\n",
      "torch.Size([2, 1280, 1, 1])\n",
      "torch.Size([2, 10])\n"
     ]
    },
    {
     "data": {
      "text/plain": [
       "tensor([[ 0.0127, -0.0180,  0.0375, -0.0088,  0.0370,  0.0155,  0.0194,  0.0014,\n",
       "         -0.0036, -0.0609],\n",
       "        [ 0.0127, -0.0180,  0.0375, -0.0088,  0.0370,  0.0155,  0.0194,  0.0014,\n",
       "         -0.0036, -0.0609]], grad_fn=<AddmmBackward>)"
      ]
     },
     "execution_count": 207,
     "metadata": {},
     "output_type": "execute_result"
    }
   ],
   "source": [
    "target = torch.Tensor(2,3,224,224).to(device)\n",
    "model(target)"
   ]
  },
  {
   "cell_type": "markdown",
   "metadata": {},
   "source": [
    "# Resize 하는법\n",
    "- 보통 큰 사이즈의 이미지를 줄일 때 사용함.\n",
    "- 따라서, Mnist와 같은 작은 데이터셋에서는 사용하지 않는게 나음.\n",
    "- transform으로 사이즈가 변형되는 걸 확인했고, train_loader.dataset과 같은 방식으로 확인하면 원본 데이터를 준다고 판단됌"
   ]
  },
  {
   "cell_type": "code",
   "execution_count": 66,
   "metadata": {},
   "outputs": [
    {
     "data": {
      "text/plain": [
       "Dataset ImageFolder\n",
       "    Number of datapoints: 2\n",
       "    Root location: ./train_data/\n",
       "    StandardTransform\n",
       "Transform: Compose(\n",
       "               Resize(size=(224, 224), interpolation=PIL.Image.BILINEAR)\n",
       "           )"
      ]
     },
     "execution_count": 66,
     "metadata": {},
     "output_type": "execute_result"
    }
   ],
   "source": [
    "import torchvision\n",
    "from torchvision import transforms\n",
    "\n",
    "# transform\n",
    "trans = transforms.Compose([transforms.Resize((224,224))])\n",
    "\n",
    "# 불러오기\n",
    "train_data = torchvision.datasets.ImageFolder(root = \"./train_data/\", \n",
    "                                              transform = trans)\n",
    "\n",
    "# loader\n",
    "from torch.utils.data import DataLoader\n",
    "train_loader = DataLoader(dataset=train_data, batch_size = 2, shuffle = True, drop_last = True)\n",
    "\n",
    "train_loader.dataset"
   ]
  },
  {
   "cell_type": "code",
   "execution_count": 68,
   "metadata": {},
   "outputs": [
    {
     "name": "stdout",
     "output_type": "stream",
     "text": [
      "<PIL.Image.Image image mode=L size=224x224 at 0x7FB82F2042E0> 5\n",
      "torch.Size([1, 224, 224])\n"
     ]
    },
    {
     "data": {
      "image/png": "[encoded data removed]",
      "text/plain": [
       "<Figure size 432x288 with 1 Axes>"
      ]
     },
     "metadata": {
      "needs_background": "light"
     },
     "output_type": "display_data"
    }
   ],
   "source": [
    "import torchvision.datasets as dsets\n",
    "import matplotlib.pyplot as plt\n",
    "\n",
    "Mnist_train = dsets.MNIST(root = \"MNIST_data/\", transform= trans)\n",
    "\n",
    "# 내부의 데이터 확인하기\n",
    "# dataset 자체에 대한 걸\n",
    "for data in Mnist_train:\n",
    "    imgs, label = data\n",
    "    print(imgs,label)\n",
    "    \n",
    "    # 사진보기\n",
    "    plt.imshow(imgs)\n",
    "    \n",
    "    # 사진을 Tensor type으로 보기\n",
    "    t = transforms.ToTensor()(imgs)\n",
    "    print(t.shape)\n",
    "    \n",
    "    \n",
    "    break"
   ]
  },
  {
   "cell_type": "code",
   "execution_count": 69,
   "metadata": {},
   "outputs": [
    {
     "name": "stdout",
     "output_type": "stream",
     "text": [
      "t is:  torch.Size([1, 224, 224])\n"
     ]
    },
    {
     "data": {
      "image/png": "[encoded data removed]",
      "text/plain": [
       "<PIL.Image.Image image mode=RGB size=224x224 at 0x7FB81EB5EE80>"
      ]
     },
     "metadata": {},
     "output_type": "display_data"
    },
    {
     "name": "stdout",
     "output_type": "stream",
     "text": [
      "<PIL.Image.Image image mode=RGB size=224x224 at 0x7FB81EB5EE80>\n",
      "(224, 224)\n"
     ]
    }
   ],
   "source": [
    "# Tensor type을 이미지로.\n",
    "print(\"t is: \", t.size())\n",
    "im = transforms.ToPILImage()(t).convert(\"RGB\")\n",
    "display(im)\n",
    "print(im)\n",
    "print(im.size)"
   ]
  },
  {
   "cell_type": "markdown",
   "metadata": {},
   "source": [
    "# class"
   ]
  },
  {
   "cell_type": "code",
   "execution_count": 126,
   "metadata": {},
   "outputs": [
    {
     "name": "stdout",
     "output_type": "stream",
     "text": [
      "[1, 2, 3]\n"
     ]
    }
   ],
   "source": [
    "class test:\n",
    "    def __init__(self):\n",
    "        self.x = [1,2,3]\n",
    "        print(self.x)\n",
    "\n",
    "            \n",
    "    def forward(self):\n",
    "        for i in range(len(self.x)):\n",
    "            self.x[i] += 1\n",
    "        return self.x\n",
    "    \n",
    "t = test()\n",
    "\n",
    "#t.forward()"
   ]
  },
  {
   "cell_type": "code",
   "execution_count": 118,
   "metadata": {},
   "outputs": [],
   "source": [
    "def star(a : list):\n",
    "    print(*a)\n",
    "    "
   ]
  },
  {
   "cell_type": "code",
   "execution_count": 119,
   "metadata": {},
   "outputs": [
    {
     "name": "stdout",
     "output_type": "stream",
     "text": [
      "1 2 3\n"
     ]
    }
   ],
   "source": [
    "star([1,2,3])"
   ]
  },
  {
   "cell_type": "code",
   "execution_count": 169,
   "metadata": {},
   "outputs": [
    {
     "data": {
      "text/plain": [
       "Downsample(\n",
       "  (layer): Sequential(\n",
       "    (0): Conv2d(16, 24, kernel_size=(1, 1), stride=(1, 1))\n",
       "    (1): BatchNorm2d(24, eps=1e-05, momentum=0.1, affine=True, track_running_stats=True)\n",
       "  )\n",
       ")"
      ]
     },
     "execution_count": 169,
     "metadata": {},
     "output_type": "execute_result"
    }
   ],
   "source": [
    "class Downsample(nn.Module):\n",
    "    def __init__(self, in_channel, out_channel):\n",
    "        super(Downsample,self).__init__()\n",
    "        self.layer = nn.Sequential(\n",
    "                    nn.Conv2d(in_channel, out_channel, kernel_size= 1),\n",
    "                    nn.BatchNorm2d(out_channel),\n",
    "        )\n",
    "        \n",
    "    \n",
    "    def forward(self,x):\n",
    "        out = self.layer(x)\n",
    "        return out\n",
    "    \n",
    "test_model = Downsample(16,24)\n",
    "test_model      "
   ]
  },
  {
   "cell_type": "code",
   "execution_count": 187,
   "metadata": {},
   "outputs": [
    {
     "data": {
      "text/plain": [
       "torch.Size([2, 24, 112, 112])"
      ]
     },
     "execution_count": 187,
     "metadata": {},
     "output_type": "execute_result"
    }
   ],
   "source": [
    "test_data = torch.Tensor(2,16,112,112)\n",
    "\n",
    "Downsample(16,24)(test_data).shape"
   ]
  },
  {
   "cell_type": "code",
   "execution_count": null,
   "metadata": {},
   "outputs": [],
   "source": []
  }
 ],
 "metadata": {
  "kernelspec": {
   "display_name": "Python 3",
   "language": "python",
   "name": "python3"
  },
  "language_info": {
   "codemirror_mode": {
    "name": "ipython",
    "version": 3
   },
   "file_extension": ".py",
   "mimetype": "text/x-python",
   "name": "python",
   "nbconvert_exporter": "python",
   "pygments_lexer": "ipython3",
   "version": "3.8.3"
  }
 },
 "nbformat": 4,
 "nbformat_minor": 4
}
