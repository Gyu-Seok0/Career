{
 "cells": [
  {
   "cell_type": "code",
   "execution_count": null,
   "metadata": {},
   "outputs": [],
   "source": [
    "# 금광문제 + 병사배치 문제부터 시작\n",
    "# 다이나믹의 핵심은 이전 내용을 저장해서, 해결하는 것에 있다\n",
    "# 점화식 사용\n",
    "\n",
    "4 4 \n",
    "1 3 1 5 2 2 4 1 5 0 2 3 0 6 1 2\n"
   ]
  },
  {
   "cell_type": "code",
   "execution_count": 45,
   "metadata": {},
   "outputs": [
    {
     "name": "stdout",
     "output_type": "stream",
     "text": [
      "1\n",
      "4 4\n",
      "1 3 1 5 2 2 4 1 5 0 2 3 0 6 1 2\n",
      "16\n"
     ]
    }
   ],
   "source": [
    "#금광문제\n",
    "T = int(input())\n",
    "Gold = []\n",
    "for i in range(T):\n",
    "    n,m = map(int, input().split())\n",
    "    Gold = list(map(int, input().split()))\n",
    "    dp = []\n",
    "    index = 0\n",
    "    for i in range(n):\n",
    "        dp.append(Gold[index:index+m])\n",
    "        index += m\n",
    "    \n",
    "    # 다이나믹 프로그래밍\n",
    "    for j in range(1,m): #col\n",
    "        for i in range(n): #row\n",
    "            # 왼쪽 위\n",
    "            if i == 0: left_up = 0\n",
    "            else: left_up = dp[i-1][j-1]\n",
    "\n",
    "            # 왼쪽 아래\n",
    "            if i == n-1: left_down = 0\n",
    "            else: left_down = dp[i+1][j-1]\n",
    "\n",
    "            # 왼쪽\n",
    "            left = dp[i][j-1]\n",
    "            dp[i][j] = dp[i][j] + max(left_up, left_down, left)\n",
    "    result = 0\n",
    "    for i in range(n):\n",
    "        result = max(result, dp[i][m-1])\n",
    "    print(result)\n",
    "    "
   ]
  },
  {
   "cell_type": "code",
   "execution_count": 39,
   "metadata": {},
   "outputs": [],
   "source": []
  },
  {
   "cell_type": "code",
   "execution_count": 40,
   "metadata": {
    "scrolled": true
   },
   "outputs": [
    {
     "data": {
      "text/plain": [
       "[[1, 3, 1, 5], [2, 2, 4, 1], [5, 0, 2, 3]]"
      ]
     },
     "execution_count": 40,
     "metadata": {},
     "output_type": "execute_result"
    }
   ],
   "source": [
    "dp"
   ]
  },
  {
   "cell_type": "code",
   "execution_count": 44,
   "metadata": {},
   "outputs": [
    {
     "name": "stdout",
     "output_type": "stream",
     "text": [
      "109\n"
     ]
    }
   ],
   "source": []
  },
  {
   "cell_type": "code",
   "execution_count": null,
   "metadata": {},
   "outputs": [],
   "source": []
  }
 ],
 "metadata": {
  "kernelspec": {
   "display_name": "Python 3",
   "language": "python",
   "name": "python3"
  },
  "language_info": {
   "codemirror_mode": {
    "name": "ipython",
    "version": 3
   },
   "file_extension": ".py",
   "mimetype": "text/x-python",
   "name": "python",
   "nbconvert_exporter": "python",
   "pygments_lexer": "ipython3",
   "version": "3.8.3"
  }
 },
 "nbformat": 4,
 "nbformat_minor": 4
}
