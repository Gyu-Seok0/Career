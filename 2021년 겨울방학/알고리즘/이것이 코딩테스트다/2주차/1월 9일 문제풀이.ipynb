{
 "cells": [
  {
   "cell_type": "code",
   "execution_count": 27,
   "metadata": {},
   "outputs": [
    {
     "name": "stdout",
     "output_type": "stream",
     "text": [
      ")(\n",
      "result = )(, u = , v = \n"
     ]
    }
   ],
   "source": [
    "\n",
    "def check(test):\n",
    "    stack = []\n",
    "    for letter in test:\n",
    "        if letter == \"(\":\n",
    "            stack.append(letter)\n",
    "        elif letter == \")\":\n",
    "            if stack == []:\n",
    "                return False\n",
    "            else:\n",
    "                stack.pop()\n",
    "    return Tru\n",
    "\n",
    "\n",
    "def step(string):\n",
    "    cnt_left, cnt_right = 0,0\n",
    "    temp1, temp2= \"\", \"\"\n",
    "    for i in range(len(string)):\n",
    "        temp1 += string[i]\n",
    "        if string[i] == \"(\":\n",
    "            cnt_left += 1\n",
    "        else:\n",
    "            cnt_right += 1\n",
    "        \n",
    "        if cnt_left == cnt_right:\n",
    "            temp2 = string[i+1:]\n",
    "            return temp1, temp2\n",
    "\n",
    "def check2(str1,str2,str3):\n",
    "    while check(str1):\n",
    "        str3 += str1\n",
    "        str1, str2 = step(str2)\n",
    "        if str2 == \"\":\n",
    "            break\n",
    "    return str1, str2, str3\n",
    "        \n",
    "string = input()\n",
    "\n",
    "def recursive(w):\n",
    "    if check(w):\n",
    "        return \"\",\"\",w #retrun 해줘야 할듯?\n",
    "    else:\n",
    "        result = \"\"\n",
    "        u,v = step(w)\n",
    "        u, v, result = check2(u,v,result)\n",
    "\n",
    "    if not check(u):\n",
    "        temp1, temp2, v = recursive(v)\n",
    "    return u,v, result\n",
    "    \n",
    "# if not check(u):\n",
    "#     v, temp1, v = recursive(v)\n",
    "# return result,u,v\n",
    "        \n",
    "        \n",
    "        \n",
    "u,v,result = recursive(string)        \n",
    "    \n",
    "\n",
    "print(\"result = {}, u = {}, v = {}\".format(u,v,result))\n",
    "        \n",
    "    \n",
    "    \n",
    "    \n",
    "\n",
    "\n",
    "\n",
    "\n"
   ]
  },
  {
   "cell_type": "code",
   "execution_count": 36,
   "metadata": {},
   "outputs": [
    {
     "name": "stdout",
     "output_type": "stream",
     "text": [
      "()))((()\n"
     ]
    },
    {
     "data": {
      "text/plain": [
       "'()(())()'"
      ]
     },
     "execution_count": 36,
     "metadata": {},
     "output_type": "execute_result"
    }
   ],
   "source": [
    "#동빈's\n",
    "\n",
    "\n",
    "def balance(p):\n",
    "    cnt = 0\n",
    "    for i in range(len(p)):\n",
    "        if p[i] == \"(\":\n",
    "            cnt += 1\n",
    "        else:\n",
    "            cnt -= 1\n",
    "        \n",
    "        if cnt == 0:\n",
    "            return i\n",
    "        \n",
    "def check_proper(p): #굳이 스택을 안쓰는 구나.\n",
    "    cnt = 0\n",
    "    for letter in p:\n",
    "        if letter == '(':\n",
    "            cnt += 1\n",
    "        else:\n",
    "            if cnt == 0:\n",
    "                return False\n",
    "            cnt -= 1\n",
    "    return True\n",
    "\n",
    "def solution(p):\n",
    "    answer = ''\n",
    "    if p == '':\n",
    "        return answer\n",
    "    index = balance(p)\n",
    "    u = p[:index+1]\n",
    "    v = p[index+1:]\n",
    "    #u가 적합하다면,\n",
    "    if check_proper(u):\n",
    "        answer = u + solution(v) #재귀를 여기서 돌리는 구나 \n",
    "    #u가 적합하지 않다면,\n",
    "    else:\n",
    "        answer = '(' + solution(v) + ')'\n",
    "        u = list(u[1:-1])\n",
    "        \n",
    "        for i in  range(len(u)):\n",
    "            if u[i] == \"(\":\n",
    "                u[i] = \")\"\n",
    "            else:\n",
    "                u[i] = '('\n",
    "        answer += \"\".join(u)\n",
    "    return answer\n",
    "    \n",
    "solution(input())      "
   ]
  },
  {
   "cell_type": "code",
   "execution_count": 33,
   "metadata": {},
   "outputs": [
    {
     "name": "stdout",
     "output_type": "stream",
     "text": [
      "()))((()\n"
     ]
    },
    {
     "data": {
      "text/plain": [
       "'()(())()'"
      ]
     },
     "execution_count": 33,
     "metadata": {},
     "output_type": "execute_result"
    }
   ],
   "source": [
    "def balanced_index(p):\n",
    "    count = 0 # 왼쪽 괄호의 개수\n",
    "    for i in range(len(p)):\n",
    "        if p[i] == '(':\n",
    "            count += 1\n",
    "        else:\n",
    "            count -= 1\n",
    "        if count == 0:\n",
    "            return i\n",
    "\n",
    "# \"올바른 괄호 문자열\"인지 판단\n",
    "def check_proper(p):\n",
    "    count = 0 # 왼쪽 괄호의 개수\n",
    "    for i in p:\n",
    "        if i == '(':\n",
    "            count += 1\n",
    "        else:\n",
    "            if count == 0: # 쌍이 맞지 않는 경우에 False 반환\n",
    "                return False\n",
    "            count -= 1\n",
    "    return True # 쌍이 맞는 경우에 True 반환\n",
    "\n",
    "def solution(p):\n",
    "    answer = ''\n",
    "    if p == '':\n",
    "        return answer\n",
    "    index = balanced_index(p)\n",
    "    u = p[:index + 1]\n",
    "    v = p[index + 1:]\n",
    "    # \"올바른 괄호 문자열\"이면, v에 대해 함수를 수행한 결과를 붙여 반환\n",
    "    if check_proper(u):\n",
    "        answer = u + solution(v)\n",
    "    # \"올바른 괄호 문자열\"이 아니라면 아래의 과정을 수행\n",
    "    else:\n",
    "        answer = '('\n",
    "        answer += solution(v)\n",
    "        answer += ')'\n",
    "        u = list(u[1:-1]) # 첫 번째와 마지막 문자를 제거\n",
    "        for i in range(len(u)):\n",
    "            if u[i] == '(':\n",
    "                u[i] = ')'\n",
    "            else:\n",
    "                u[i] = '('\n",
    "        answer += \"\".join(u)\n",
    "    return answer\n",
    "solution(input())      "
   ]
  },
  {
   "cell_type": "code",
   "execution_count": 34,
   "metadata": {},
   "outputs": [],
   "source": [
    "temp = ['a','b']"
   ]
  },
  {
   "cell_type": "code",
   "execution_count": 35,
   "metadata": {},
   "outputs": [
    {
     "data": {
      "text/plain": [
       "'ab'"
      ]
     },
     "execution_count": 35,
     "metadata": {},
     "output_type": "execute_result"
    }
   ],
   "source": [
    "\"\".join(temp)"
   ]
  },
  {
   "cell_type": "code",
   "execution_count": null,
   "metadata": {},
   "outputs": [],
   "source": []
  }
 ],
 "metadata": {
  "kernelspec": {
   "display_name": "Python 3",
   "language": "python",
   "name": "python3"
  },
  "language_info": {
   "codemirror_mode": {
    "name": "ipython",
    "version": 3
   },
   "file_extension": ".py",
   "mimetype": "text/x-python",
   "name": "python",
   "nbconvert_exporter": "python",
   "pygments_lexer": "ipython3",
   "version": "3.8.3"
  }
 },
 "nbformat": 4,
 "nbformat_minor": 4
}
