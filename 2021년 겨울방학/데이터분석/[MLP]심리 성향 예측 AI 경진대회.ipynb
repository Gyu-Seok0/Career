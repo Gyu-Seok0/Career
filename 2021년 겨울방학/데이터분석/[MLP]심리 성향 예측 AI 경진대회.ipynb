{
 "cells": [
  {
   "cell_type": "markdown",
   "metadata": {},
   "source": [
    "# 공공분야 데이터 분석 절차\n",
    "https://dacon.io/competitions/official/235647/overview/\n",
    "https://brunch.co.kr/@data/10\n",
    "\n",
    "1) 문제정의 단계\n",
    ": 해결해야할 문제를 객관화/구체화\n",
    "\n",
    "--> <b>마키아벨리즘 심리테스트를 활용하여 테스트 참가자의 국가 선거 투표 여부 예측 </b>\n",
    "\n",
    "\n",
    "2) 데이터 수집단계\n",
    ": 분석에 필요한 데이터를 확보\n",
    "\n",
    "--> <b> 데이터 제공 </b>\n",
    "\n",
    "3) 데이터 전처리 단계\n",
    ":결측값이나 오류를 수정/보완한다.\n",
    "\n",
    "4) 데이터 모델링 단계\n",
    ": 다수의 테이블을 가지고 분석\n",
    "\n",
    "5) 시각화 및 탐색 단계\n",
    ": 다양한 도구를 이용해서 시각화, 탐색"
   ]
  },
  {
   "cell_type": "markdown",
   "metadata": {},
   "source": [
    "# Step1: 데이터 불러오기"
   ]
  },
  {
   "cell_type": "code",
   "execution_count": 10,
   "metadata": {},
   "outputs": [
    {
     "data": {
      "text/html": [
       "<div>\n",
       "<style scoped>\n",
       "    .dataframe tbody tr th:only-of-type {\n",
       "        vertical-align: middle;\n",
       "    }\n",
       "\n",
       "    .dataframe tbody tr th {\n",
       "        vertical-align: top;\n",
       "    }\n",
       "\n",
       "    .dataframe thead th {\n",
       "        text-align: right;\n",
       "    }\n",
       "</style>\n",
       "<table border=\"1\" class=\"dataframe\">\n",
       "  <thead>\n",
       "    <tr style=\"text-align: right;\">\n",
       "      <th></th>\n",
       "      <th>QaA</th>\n",
       "      <th>QaE</th>\n",
       "      <th>QbA</th>\n",
       "      <th>QbE</th>\n",
       "      <th>QcA</th>\n",
       "      <th>QcE</th>\n",
       "      <th>QdA</th>\n",
       "      <th>QdE</th>\n",
       "      <th>QeA</th>\n",
       "      <th>QeE</th>\n",
       "      <th>...</th>\n",
       "      <th>wr_04</th>\n",
       "      <th>wr_05</th>\n",
       "      <th>wr_06</th>\n",
       "      <th>wr_07</th>\n",
       "      <th>wr_08</th>\n",
       "      <th>wr_09</th>\n",
       "      <th>wr_10</th>\n",
       "      <th>wr_11</th>\n",
       "      <th>wr_12</th>\n",
       "      <th>wr_13</th>\n",
       "    </tr>\n",
       "  </thead>\n",
       "  <tbody>\n",
       "    <tr>\n",
       "      <th>0</th>\n",
       "      <td>3.0</td>\n",
       "      <td>736</td>\n",
       "      <td>2.0</td>\n",
       "      <td>2941</td>\n",
       "      <td>3.0</td>\n",
       "      <td>4621</td>\n",
       "      <td>1.0</td>\n",
       "      <td>4857</td>\n",
       "      <td>2.0</td>\n",
       "      <td>2550</td>\n",
       "      <td>...</td>\n",
       "      <td>0</td>\n",
       "      <td>1</td>\n",
       "      <td>0</td>\n",
       "      <td>0</td>\n",
       "      <td>1</td>\n",
       "      <td>0</td>\n",
       "      <td>1</td>\n",
       "      <td>0</td>\n",
       "      <td>1</td>\n",
       "      <td>1</td>\n",
       "    </tr>\n",
       "    <tr>\n",
       "      <th>1</th>\n",
       "      <td>3.0</td>\n",
       "      <td>514</td>\n",
       "      <td>2.0</td>\n",
       "      <td>1952</td>\n",
       "      <td>3.0</td>\n",
       "      <td>1552</td>\n",
       "      <td>3.0</td>\n",
       "      <td>821</td>\n",
       "      <td>4.0</td>\n",
       "      <td>1150</td>\n",
       "      <td>...</td>\n",
       "      <td>0</td>\n",
       "      <td>0</td>\n",
       "      <td>0</td>\n",
       "      <td>0</td>\n",
       "      <td>0</td>\n",
       "      <td>0</td>\n",
       "      <td>0</td>\n",
       "      <td>0</td>\n",
       "      <td>0</td>\n",
       "      <td>0</td>\n",
       "    </tr>\n",
       "    <tr>\n",
       "      <th>2</th>\n",
       "      <td>3.0</td>\n",
       "      <td>500</td>\n",
       "      <td>2.0</td>\n",
       "      <td>2507</td>\n",
       "      <td>4.0</td>\n",
       "      <td>480</td>\n",
       "      <td>2.0</td>\n",
       "      <td>614</td>\n",
       "      <td>2.0</td>\n",
       "      <td>1326</td>\n",
       "      <td>...</td>\n",
       "      <td>0</td>\n",
       "      <td>1</td>\n",
       "      <td>0</td>\n",
       "      <td>1</td>\n",
       "      <td>1</td>\n",
       "      <td>0</td>\n",
       "      <td>1</td>\n",
       "      <td>0</td>\n",
       "      <td>1</td>\n",
       "      <td>1</td>\n",
       "    </tr>\n",
       "    <tr>\n",
       "      <th>3</th>\n",
       "      <td>1.0</td>\n",
       "      <td>669</td>\n",
       "      <td>1.0</td>\n",
       "      <td>1050</td>\n",
       "      <td>5.0</td>\n",
       "      <td>1435</td>\n",
       "      <td>2.0</td>\n",
       "      <td>2252</td>\n",
       "      <td>5.0</td>\n",
       "      <td>2533</td>\n",
       "      <td>...</td>\n",
       "      <td>1</td>\n",
       "      <td>1</td>\n",
       "      <td>1</td>\n",
       "      <td>1</td>\n",
       "      <td>1</td>\n",
       "      <td>1</td>\n",
       "      <td>1</td>\n",
       "      <td>1</td>\n",
       "      <td>1</td>\n",
       "      <td>1</td>\n",
       "    </tr>\n",
       "    <tr>\n",
       "      <th>4</th>\n",
       "      <td>2.0</td>\n",
       "      <td>499</td>\n",
       "      <td>1.0</td>\n",
       "      <td>1243</td>\n",
       "      <td>5.0</td>\n",
       "      <td>845</td>\n",
       "      <td>2.0</td>\n",
       "      <td>1666</td>\n",
       "      <td>2.0</td>\n",
       "      <td>925</td>\n",
       "      <td>...</td>\n",
       "      <td>1</td>\n",
       "      <td>1</td>\n",
       "      <td>0</td>\n",
       "      <td>1</td>\n",
       "      <td>1</td>\n",
       "      <td>0</td>\n",
       "      <td>1</td>\n",
       "      <td>1</td>\n",
       "      <td>1</td>\n",
       "      <td>1</td>\n",
       "    </tr>\n",
       "  </tbody>\n",
       "</table>\n",
       "<p>5 rows × 76 columns</p>\n",
       "</div>"
      ],
      "text/plain": [
       "   QaA  QaE  QbA   QbE  QcA   QcE  QdA   QdE  QeA   QeE  ...  wr_04  wr_05  \\\n",
       "0  3.0  736  2.0  2941  3.0  4621  1.0  4857  2.0  2550  ...      0      1   \n",
       "1  3.0  514  2.0  1952  3.0  1552  3.0   821  4.0  1150  ...      0      0   \n",
       "2  3.0  500  2.0  2507  4.0   480  2.0   614  2.0  1326  ...      0      1   \n",
       "3  1.0  669  1.0  1050  5.0  1435  2.0  2252  5.0  2533  ...      1      1   \n",
       "4  2.0  499  1.0  1243  5.0   845  2.0  1666  2.0   925  ...      1      1   \n",
       "\n",
       "   wr_06  wr_07  wr_08  wr_09  wr_10  wr_11  wr_12  wr_13  \n",
       "0      0      0      1      0      1      0      1      1  \n",
       "1      0      0      0      0      0      0      0      0  \n",
       "2      0      1      1      0      1      0      1      1  \n",
       "3      1      1      1      1      1      1      1      1  \n",
       "4      0      1      1      0      1      1      1      1  \n",
       "\n",
       "[5 rows x 76 columns]"
      ]
     },
     "execution_count": 10,
     "metadata": {},
     "output_type": "execute_result"
    }
   ],
   "source": [
    "import pandas as pd\n",
    "# 데이터 불러오기\n",
    "train = pd.read_csv(\"/Users/igyuseog/Desktop/open data/train.csv\")\n",
    "test = pd.read_csv(\"/Users/igyuseog/Desktop/open data/test_x.csv\")\n",
    "\n",
    "# 첫번째 열에 해당하는 (index)를 지웠다.\n",
    "train = train.iloc[:,1:]\n",
    "test = test.iloc[:,1:]\n",
    "\n",
    "#출력\n",
    "train.head()\n",
    "test.head()"
   ]
  },
  {
   "cell_type": "markdown",
   "metadata": {},
   "source": [
    "# Step2: 데이터 둘러보기\n",
    ": 결측치를 제거하는 등 과정을 거친다. <br>\n",
    "--> 결측치가 없다 <br>\n",
    "--> isnull().sum(0(열) or 1(행))의 과정을 통해 해결\n",
    "\n",
    "\n",
    ": 어떤 feature를 사용해야 할까(?) \n",
    "--> 어떻게 결정하지? <br>\n",
    "--> 잘모르겠으니까 머신러닝으로 일단 다 돌려봐야겠다"
   ]
  },
  {
   "cell_type": "markdown",
   "metadata": {},
   "source": [
    "a: secret <br>\n",
    "b: 범죄자들과 일반사람들의 차이는 그들은 멍청하다. <br>\n",
    "c: 남을 잘믿으면 곤경에 처한다. <br>\n",
    "d: secret <br>\n",
    "e: 매 순간마다 멍청이들이 태어난다 <br>\n",
    "f: 다른 누구에게라도 거짓말하는 것은 용납되지 않는다 <br>\n",
    "g: secret <br>\n",
    "h: 대부분의 사람들은 그들의 재산상 손술보다 부모님의 죽음을 더 쉽게 잊는다 <br>\n",
    "i: secret <br>\n",
    "j: 모든 사람들은 악랄한 기풍을 가지고 있고, 기회가 주어지면 언제든 드러난다 <br>\n",
    "k: 대체로 humble하고 honest한것이 그렇지 않은것보다 낫다. <br>\n",
    "l: serect <br>\n",
    "m: 이런저런 장애물을 극복하지 않고서는 나아가기 어렵다 <br>\n",
    "n: serect <br>\n",
    "o: 사람들을 다루기 쉬운 일은 그 사람이 듣고 싶은 걸 말하는 것이다 <br>\n",
    "p: secret <br>\n",
    "q: 선악설 <br>\n",
    "r: 도덕적으로 옳을 때만 행동해야 한다. <br>\n",
    "s: 중요한 사람들한테 아첨하는 것은 지혜롭다 <br>\n",
    "t: secret <br>\n",
    "\n"
   ]
  },
  {
   "cell_type": "code",
   "execution_count": 83,
   "metadata": {
    "scrolled": true
   },
   "outputs": [],
   "source": [
    "#object형태로는 모델링에 넣을 수 없다. --> train.dtypes()로 알 수 있음\n",
    "#이를 어떻게든 해결해보자. --> object인 걸 빼고 모델을 돌려보자\n",
    "train = train.loc[:,train.dtypes != \"object\"]"
   ]
  },
  {
   "cell_type": "markdown",
   "metadata": {},
   "source": [
    "# Step3: 모델링\n",
    "--> 사이킷런을 활용한 머신러닝 모델을 사용해보겠다."
   ]
  },
  {
   "cell_type": "code",
   "execution_count": 84,
   "metadata": {},
   "outputs": [],
   "source": [
    "import sklearn as sk\n",
    "import numpy as np\n",
    "from sklearn.neural_network import MLPRegressor\n",
    "from sklearn.model_selection import train_test_split\n",
    "\n",
    "X_train, X_test, y_train, y_test = train_test_split(train.drop([\"voted\"], axis = 1), train[\"voted\"], random_state = 42)\n",
    "\n"
   ]
  },
  {
   "cell_type": "code",
   "execution_count": 85,
   "metadata": {},
   "outputs": [
    {
     "name": "stdout",
     "output_type": "stream",
     "text": [
      "(34149, 72) (34149,)\n",
      "(11383, 72) (11383,)\n"
     ]
    }
   ],
   "source": [
    "# shape확인\n",
    "print(X_train.shape, y_train.shape)\n",
    "print(X_test.shape, y_test.shape)"
   ]
  },
  {
   "cell_type": "code",
   "execution_count": 147,
   "metadata": {},
   "outputs": [
    {
     "data": {
      "text/plain": [
       "MLPRegressor(hidden_layer_sizes=[20, 20, 20, 20, 20, 20, 20, 20, 20, 20])"
      ]
     },
     "execution_count": 147,
     "metadata": {},
     "output_type": "execute_result"
    }
   ],
   "source": [
    "# 모델링\n",
    "model = MLPRegressor(hidden_layer_sizes = [20,20,20,20,20,20,20,20,20,20])\n",
    "model.fit(X_train,y_train)"
   ]
  },
  {
   "cell_type": "code",
   "execution_count": 166,
   "metadata": {},
   "outputs": [
    {
     "data": {
      "text/plain": [
       "0.5045242906088026"
      ]
     },
     "execution_count": 166,
     "metadata": {},
     "output_type": "execute_result"
    }
   ],
   "source": [
    "#테스트\n",
    "pred = model.predict(X_test)\n",
    "pred = np.where(pred < 1.5, 1, 2)\n",
    "sum(pred == y_test) / y_test.shape[0]"
   ]
  },
  {
   "cell_type": "markdown",
   "metadata": {},
   "source": [
    "# Step4: test파일로 담아내보자"
   ]
  },
  {
   "cell_type": "code",
   "execution_count": 177,
   "metadata": {},
   "outputs": [],
   "source": [
    "test = test.loc[:,test.dtypes != \"object\"]\n",
    "pred = model.predict(test)\n",
    "pred = np.where(pred < 1.5, 1, 2)"
   ]
  },
  {
   "cell_type": "code",
   "execution_count": 188,
   "metadata": {},
   "outputs": [],
   "source": [
    "submit = pd.read_csv(\"/Users/igyuseog/Desktop/open data/sample_submission.csv\")\n",
    "submit[\"voted\"] = pred\n",
    "submit = submit.iloc[:,1]"
   ]
  },
  {
   "cell_type": "code",
   "execution_count": 189,
   "metadata": {},
   "outputs": [],
   "source": [
    "submit.to_csv(\"/Users/igyuseog/Desktop/open data/MLP.csv\")"
   ]
  },
  {
   "cell_type": "markdown",
   "metadata": {},
   "source": [
    "# Step5: 결과\n",
    "0.49정도의 결과를 가졌다\n",
    "--> 정말 대충 짠 코드인데 절반을 맞췄다는게 신기하다\n",
    "\n",
    "# Feedback\n",
    "1) feature engineering\n",
    "--> 어떤 feature들이 주요한 역할을 하는가?\n",
    "\n",
    "2) 데이터 정규화\n",
    "--> min-max, stardarization\n",
    "\n",
    "3) MLP \n",
    "--> 다른 알고리즘들은 어떤게 있을까?\n",
    "--> 파이토치로 구성해보는 건 어떨까?\n",
    "\n",
    "4) threshold\n",
    "--> 1.5를 기준으로해서 잡았는데, 이것은 무엇을 기준으로 잡을 수 있을까?\n"
   ]
  },
  {
   "cell_type": "code",
   "execution_count": null,
   "metadata": {},
   "outputs": [],
   "source": []
  }
 ],
 "metadata": {
  "kernelspec": {
   "display_name": "Python 3",
   "language": "python",
   "name": "python3"
  },
  "language_info": {
   "codemirror_mode": {
    "name": "ipython",
    "version": 3
   },
   "file_extension": ".py",
   "mimetype": "text/x-python",
   "name": "python",
   "nbconvert_exporter": "python",
   "pygments_lexer": "ipython3",
   "version": "3.8.3"
  }
 },
 "nbformat": 4,
 "nbformat_minor": 4
}
