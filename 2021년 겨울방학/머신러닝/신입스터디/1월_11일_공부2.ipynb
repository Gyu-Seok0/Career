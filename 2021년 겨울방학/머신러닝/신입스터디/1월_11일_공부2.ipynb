{
  "nbformat": 4,
  "nbformat_minor": 0,
  "metadata": {
    "colab": {
      "name": "1월 11일 공부2.ipynb",
      "provenance": []
    },
    "kernelspec": {
      "name": "python3",
      "display_name": "Python 3"
    }
  },
  "cells": [
    {
      "cell_type": "code",
      "metadata": {
        "colab": {
          "base_uri": "https://localhost:8080/",
          "height": 282
        },
        "id": "NRhxpXR-Z5Xt",
        "outputId": "617c645f-b0c9-471b-a4ad-86980260d51f"
      },
      "source": [
        "\n",
        "from pathlib import Path\n",
        "import requests\n",
        "\n",
        "DATA_PATH = Path(\"data\")\n",
        "PATH = DATA_PATH / \"mnist\"\n",
        "\n",
        "PATH.mkdir(parents=True, exist_ok=True)\n",
        "\n",
        "URL = \"https://github.com/pytorch/tutorials/raw/master/_static/\"\n",
        "FILENAME = \"mnist.pkl.gz\"\n",
        "\n",
        "if not (PATH / FILENAME).exists():\n",
        "        content = requests.get(URL + FILENAME).content\n",
        "        (PATH / FILENAME).open(\"wb\").write(content)\n",
        "\n",
        "###############################################################################\n",
        "# 이 데이터셋은 numpy 배열 포맷이고, 데이터를 직렬화하기 위한\n",
        "# python 전용 포맷 pickle 을 이용하여 저장되어 있습니다.\n",
        "\n",
        "import pickle\n",
        "import gzip\n",
        "\n",
        "with gzip.open((PATH / FILENAME).as_posix(), \"rb\") as f:\n",
        "        ((x_train, y_train), (x_valid, y_valid), _) = pickle.load(f, encoding=\"latin-1\")\n",
        "\n",
        "###############################################################################\n",
        "# 각 이미지는 28 x 28 형태 이고, 784 (=28x28) 크기를 가진 하나의 행으로 저장되어 있습니다.\n",
        "# 하나를 살펴 봅시다; 먼저 우리는 이 이미지를 2d로 재구성해야 합니다.\n",
        "\n",
        "from matplotlib import pyplot\n",
        "import numpy as np\n",
        "\n",
        "pyplot.imshow(x_train[0].reshape((28, 28)), cmap=\"gray\")\n",
        "print(x_train.shape)"
      ],
      "execution_count": 4,
      "outputs": [
        {
          "output_type": "stream",
          "text": [
            "(50000, 784)\n"
          ],
          "name": "stdout"
        },
        {
          "output_type": "display_data",
          "data": {
            "image/png": "[encoded data removed]",
            "text/plain": [
              "<Figure size 432x288 with 1 Axes>"
            ]
          },
          "metadata": {
            "tags": [],
            "needs_background": "light"
          }
        }
      ]
    },
    {
      "cell_type": "code",
      "metadata": {
        "colab": {
          "base_uri": "https://localhost:8080/"
        },
        "id": "qYL4TktGaAEd",
        "outputId": "41369c1d-cd08-4369-af71-3bc099f434c8"
      },
      "source": [
        "import torch\n",
        "\n",
        "x_train, y_train, x_test, y_test = map(torch.tensor, (x_train, y_train, x_valid, y_valid))\n",
        "\n",
        "n, c = x_train.shape\n",
        "x_train, x_train.shape, y_train.min(), y_train.max()\n",
        "print(x_train, y_train)\n",
        "print(x_train.shape)\n",
        "print(y_train.min(), y_train.max())\n",
        "\n",
        "\n",
        "import math\n",
        "\n",
        "weights = torch.randn(784, 10) / math.sqrt(784)\n",
        "weights.requires_grad_()\n",
        "bias = torch.zeros(10, requires_grad=True)\n",
        "\n",
        "###############################################################################\n",
        "# PyTorch의 기울기를 자동으로 계산해주는 기능 덕분에, Python 표준 함수\n",
        "# (또는 호출 가능한 객체)를 모델로 사용할 수 있습니다!\n",
        "# 그러므로 간단한 선형 모델을 만들기 위해서 단순한 행렬 곱셈과 브로드캐스트(broadcast)\n",
        "# 덧셈을 사용하여 보겠습니다. 또한, 우리는 활성화 함수(activation function)가 필요하므로,\n",
        "# `log_softmax` 를 구현하고 사용할 것입니다.\n",
        "# PyTorch에서 많은 사전 구현된 손실 함수(loss function), 활성화 함수들이 제공되지만,\n",
        "# 일반적인 python을 사용하여 자신만의 함수를 쉽게 작성할 수 있음을 기억해주세요.\n",
        "# PyTorch는 심지어 여러분의 함수를 위해서 빠른 GPU 또는 벡터화된 CPU 코드를 만들어줄 것입니다.\n",
        "\n",
        "def log_softmax(x):\n",
        "    return x - x.exp().sum(-1).log().unsqueeze(-1)\n",
        "\n",
        "def model(xb):\n",
        "    return log_softmax(xb @ weights + bias)\n",
        "\n",
        "###############################################################################\n",
        "# 위에서, ``@`` 기호는 점곱(dot product) 연산을 나타냅니다.\n",
        "# 우리는 하나의 배치(batch) 데이터(이 경우에는 64개의 이미지들)에 대하여 함수를 호출할 것입니다.\n",
        "# 이것은 하나의 *포워드 전달(forward pass)* 입니다. 이 단계에서 우리는 무작위(random) 가중치로\n",
        "# 시작했기 때문에 우리의 예측이 무작위 예측보다 전혀 나은 점이 없을 것입니다.\n",
        "\n",
        "bs = 64  # 배치 사이즈\n",
        "xb = x_train[0:bs]  # x로부터 미니배치(mini-batch) 추출\n",
        "print(\"xb.shape = \", xb.shape)\n",
        "preds = model(xb)  # 예측\n",
        "preds[0], preds.shape\n",
        "print(preds[0], preds.shape)"
      ],
      "execution_count": 59,
      "outputs": [
        {
          "output_type": "stream",
          "text": [
            "tensor([[0., 0., 0.,  ..., 0., 0., 0.],\n",
            "        [0., 0., 0.,  ..., 0., 0., 0.],\n",
            "        [0., 0., 0.,  ..., 0., 0., 0.],\n",
            "        ...,\n",
            "        [0., 0., 0.,  ..., 0., 0., 0.],\n",
            "        [0., 0., 0.,  ..., 0., 0., 0.],\n",
            "        [0., 0., 0.,  ..., 0., 0., 0.]]) tensor([5, 0, 4,  ..., 8, 4, 8])\n",
            "torch.Size([50000, 784])\n",
            "tensor(0) tensor(9)\n",
            "xb.shape =  torch.Size([64, 784])\n",
            "tensor([-2.3595, -2.0986, -2.2898, -2.2828, -2.3509, -2.4419, -2.0970, -2.0869,\n",
            "        -2.3420, -2.9131], grad_fn=<SelectBackward>) torch.Size([64, 10])\n"
          ],
          "name": "stdout"
        },
        {
          "output_type": "stream",
          "text": [
            "/usr/local/lib/python3.6/dist-packages/ipykernel_launcher.py:3: UserWarning: To copy construct from a tensor, it is recommended to use sourceTensor.clone().detach() or sourceTensor.clone().detach().requires_grad_(True), rather than torch.tensor(sourceTensor).\n",
            "  This is separate from the ipykernel package so we can avoid doing imports until\n"
          ],
          "name": "stderr"
        }
      ]
    },
    {
      "cell_type": "code",
      "metadata": {
        "colab": {
          "base_uri": "https://localhost:8080/"
        },
        "id": "DySLNrDsaQrW",
        "outputId": "61edc12d-b12a-4c2d-c1aa-041196005b89"
      },
      "source": [
        "def nll(input, target):\n",
        "    return -input[range(target.shape[0]), target].mean()\n",
        "\n",
        "loss_func = nll\n",
        "\n",
        "yb = y_train[0:bs]\n",
        "print(loss_func(preds, yb))"
      ],
      "execution_count": 60,
      "outputs": [
        {
          "output_type": "stream",
          "text": [
            "tensor(2.3733, grad_fn=<NegBackward>)\n"
          ],
          "name": "stdout"
        }
      ]
    },
    {
      "cell_type": "code",
      "metadata": {
        "colab": {
          "base_uri": "https://localhost:8080/"
        },
        "id": "2sfruxh4aW6O",
        "outputId": "edf96da1-8bc6-4ca1-d1df-3326524ba4f0"
      },
      "source": [
        "def accuracy(out, yb):\n",
        "    preds = torch.argmax(out, dim=1)\n",
        "    return (preds == yb).float().mean()\n",
        "print(accuracy(preds, yb))\n"
      ],
      "execution_count": 61,
      "outputs": [
        {
          "output_type": "stream",
          "text": [
            "tensor(0.0781)\n"
          ],
          "name": "stdout"
        }
      ]
    },
    {
      "cell_type": "code",
      "metadata": {
        "colab": {
          "base_uri": "https://localhost:8080/"
        },
        "id": "UmaO-dZVahhy",
        "outputId": "f4579625-8af2-4c64-a85e-a7a1a67d6748"
      },
      "source": [
        "from IPython.core.debugger import set_trace\n",
        "\n",
        "lr = 0.5\n",
        "epochs = 2\n",
        "\n",
        "for epoch in range(epochs):\n",
        "    for i in range((n - 1) // bs + 1):\n",
        "        # set_trace()\n",
        "        start_i = i * bs\n",
        "        end_i = start_i + bs\n",
        "        xb = x_train[start_i:end_i]\n",
        "        yb = y_train[start_i:end_i]\n",
        "        pred = model(xb)\n",
        "        loss = loss_func(pred, yb)\n",
        "\n",
        "        loss.backward()\n",
        "        with torch.no_grad():\n",
        "            weights -= weights.grad * lr\n",
        "            bias -= bias.grad * lr\n",
        "            weights.grad.zero_()\n",
        "            bias.grad.zero_()\n",
        "\n",
        "print(loss_func(model(xb), yb), accuracy(model(xb), yb))\n",
        "\n",
        "#훈련 이후에는 결과가 1이다.. 다 맞춘다는 얘기지!\n"
      ],
      "execution_count": 62,
      "outputs": [
        {
          "output_type": "stream",
          "text": [
            "tensor(0.0825, grad_fn=<NegBackward>) tensor(1.)\n"
          ],
          "name": "stdout"
        }
      ]
    },
    {
      "cell_type": "markdown",
      "metadata": {
        "id": "TmyW1jeIdI6n"
      },
      "source": [
        "# 이제 위의 내용들을 torch.nn 모듈을 이용해서 바꿔보자"
      ]
    },
    {
      "cell_type": "code",
      "metadata": {
        "id": "1wjdWwsMbNM5"
      },
      "source": [
        "# 이 부분은 내가 이런저런 자료를 참고해서 복합적으로 짜본 것이다.\n",
        "# 따라서, 통일된 양식이 아닌점을 참고해주시길! \n",
        "\n",
        "from torch.utils.data import TensorDataset, DataLoader\n",
        "import torch.nn as nn\n",
        "\n",
        "# step1) 데이터 준비\n",
        "train_ds = TensorDataset(x_train, y_train)\n",
        "train_dl = DataLoader(train_ds, batch_size=bs)\n",
        "\n",
        "test_ds = TensorDataset(x_test, y_test)\n",
        "test_dl = DataLoader(test_ds, batch_size=bs)\n",
        "\n",
        "\n",
        "# step2) neural net 구성\n",
        "class DNN(nn.Module):\n",
        "  def __init__(self, input_size = 784, num_classes = 10):\n",
        "    super(DNN, self).__init__()\n",
        "\n",
        "    self.DNN = nn.Sequential(\n",
        "        # 1st\n",
        "        nn.Linear(input_size, 64),\n",
        "        nn.ReLU(),\n",
        "        \n",
        "        # 2rd\n",
        "        nn.Linear(64, 64),\n",
        "        nn.ReLU(),\n",
        "\n",
        "        # # 3rd\n",
        "        # nn.Linear(64, 32),\n",
        "        # nn.ReLU(),\n",
        "\n",
        "        # # 4th\n",
        "        # nn.Linear(32, 16),\n",
        "        # nn.ReLU(),\n",
        "\n",
        "        # 5th\n",
        "        nn.Linear(64, num_classes),\n",
        "    )\n",
        "\n",
        "  def forward(self, x):\n",
        "    y_  = x.view(x.size(0),-1)\n",
        "    y_pred = self.DNN(y_)\n",
        "    return y_pred\n",
        "\n",
        "\n",
        "# step3) loss, optimizer, lr 구성\n",
        "model = DNN()\n",
        "lr = 1e-2\n",
        "loss_fn = nn.CrossEntropyLoss()\n",
        "optimizer = torch.optim.Adam(model.parameters(), lr = lr)\n",
        "\n",
        "# 참고로 성능을 위한 accuracy function도 만들었다.\n",
        "\n",
        "def accuracy(out, yb):\n",
        "    preds = torch.argmax(out, dim=1)\n",
        "    return (preds == yb).float().mean()"
      ],
      "execution_count": 98,
      "outputs": []
    },
    {
      "cell_type": "code",
      "metadata": {
        "colab": {
          "base_uri": "https://localhost:8080/",
          "height": 130
        },
        "id": "yvPL09EDiXhb",
        "outputId": "7d9f8b73-89bd-40b6-e1c7-214a4a9100e9"
      },
      "source": [
        "# step4) 학습\n",
        "all_loss = []\n",
        "plot_every = 200\n",
        "total_loss = 0\n",
        "\n",
        "epochs = 11\n",
        "step = 0\n",
        "\n",
        "for epoch in range(epochs):\n",
        "  for xb, yb in train_dl:\n",
        "      y_pred = model(xb) #forward\n",
        "      loss = loss_fn(y_pred, yb) # loss 계산\n",
        "\n",
        "      optimizer.zero_grad() #제로로 바꿔주기\n",
        "      loss.backward() #back-propagation 계산하기\n",
        "      optimizer.step()\n",
        "\n",
        "      # 학습을 출력\n",
        "      if step % 500 == 499:\n",
        "        print(\"step: {}, loss = {}\".format(step+1, loss.item()))\n",
        "\n",
        "      # loss 부분을 저장\n",
        "      if (step+1) % 200 == 0:\n",
        "        all_loss.append(total_loss / plot_every)\n",
        "        total_loss = 0\n",
        "      total_loss += loss.item()\n",
        "\n",
        "      # 테스트가 잘되는 지 중간마다 출력\n",
        "\n",
        "      if step % 2000 == 1999:\n",
        "          model.eval()\n",
        "          with torch.no_grad(): # test로 인한 gradient 계산은 ㄴㄴ\n",
        "            acc = 0\n",
        "            for xb, yb in test_dl:\n",
        "              y_pred = model(xb)\n",
        "              loss = loss_fn(y_pred, yb)\n",
        "              acc += accuracy(y_pred, yb)\n",
        "            print(\"*\" * 46)\n",
        "            print('Step: {}, Loss: {}, test accuracy: {} %'.format(step+1, loss.item(), acc/10000*bs))\n",
        "            print(\"*\" * 46)\n",
        "      step += 1\n",
        "\n",
        "# step5) 결과를 시각화 해보자.\n",
        "\n",
        "plt.plot(all_loss)\n",
        "\n",
        "'''\n",
        "실험결과 --> 학습률을 크게하고, Hidden layer의 층을 줄일 수록 높은 성과가 나온다.\n",
        "\n",
        "'''"
      ],
      "execution_count": 100,
      "outputs": [
        {
          "output_type": "error",
          "ename": "SyntaxError",
          "evalue": "ignored",
          "traceback": [
            "\u001b[0;36m  File \u001b[0;32m\"<ipython-input-100-b552b2e50370>\"\u001b[0;36m, line \u001b[0;32m47\u001b[0m\n\u001b[0;31m    '''\u001b[0m\n\u001b[0m       ^\u001b[0m\n\u001b[0;31mSyntaxError\u001b[0m\u001b[0;31m:\u001b[0m EOF while scanning triple-quoted string literal\n"
          ]
        }
      ]
    }
  ]
}