{
 "cells": [
  {
   "cell_type": "markdown",
   "metadata": {},
   "source": [
    "### 1406번 에디터"
   ]
  },
  {
   "cell_type": "code",
   "execution_count": 15,
   "metadata": {},
   "outputs": [
    {
     "name": "stdin",
     "output_type": "stream",
     "text": [
      " dmih\n",
      " 11\n",
      " B\n",
      " B\n",
      " P x\n",
      " L\n",
      " B\n",
      " B\n",
      " B\n",
      " P y\n",
      " D\n",
      " D\n",
      " P z\n"
     ]
    },
    {
     "name": "stdout",
     "output_type": "stream",
     "text": [
      "yxz\n"
     ]
    }
   ],
   "source": [
    "import sys\n",
    "string = sys.stdin.readline().strip()\n",
    "\n",
    "index = len(string)\n",
    "\n",
    "N = int(sys.stdin.readline().strip())\n",
    "for i in range(N):\n",
    "    com = sys.stdin.readline().split()\n",
    "    if com[0] == 'L':\n",
    "        if not index <=0:\n",
    "            index -=1\n",
    "    if com[0] == 'D':\n",
    "        if not index > len(string):\n",
    "            index +=1\n",
    "    if com[0] == 'B':\n",
    "        if not index <=0:\n",
    "            string = string[:index-1] + string[index:]\n",
    "            index -=1\n",
    "    if com[0] == 'P':\n",
    "        string = string[:index]+com[1]+string[index:]\n",
    "        index+=1\n",
    "        \n",
    "print(string)\n",
    "\n",
    "\n",
    "\n"
   ]
  },
  {
   "cell_type": "code",
   "execution_count": 14,
   "metadata": {},
   "outputs": [
    {
     "ename": "TypeError",
     "evalue": "'str' object doesn't support item deletion",
     "output_type": "error",
     "traceback": [
      "\u001b[1;31m---------------------------------------------------------------------------\u001b[0m",
      "\u001b[1;31mTypeError\u001b[0m                                 Traceback (most recent call last)",
      "\u001b[1;32m<ipython-input-14-43905859f2ab>\u001b[0m in \u001b[0;36m<module>\u001b[1;34m\u001b[0m\n\u001b[1;32m----> 1\u001b[1;33m \u001b[1;32mdel\u001b[0m \u001b[0mstring\u001b[0m\u001b[1;33m[\u001b[0m\u001b[0mindex\u001b[0m\u001b[1;33m]\u001b[0m\u001b[1;33m\u001b[0m\u001b[1;33m\u001b[0m\u001b[0m\n\u001b[0m",
      "\u001b[1;31mTypeError\u001b[0m: 'str' object doesn't support item deletion"
     ]
    }
   ],
   "source": [
    "del string[index]"
   ]
  }
 ],
 "metadata": {
  "kernelspec": {
   "display_name": "Python 3",
   "language": "python",
   "name": "python3"
  },
  "language_info": {
   "codemirror_mode": {
    "name": "ipython",
    "version": 3
   },
   "file_extension": ".py",
   "mimetype": "text/x-python",
   "name": "python",
   "nbconvert_exporter": "python",
   "pygments_lexer": "ipython3",
   "version": "3.7.6"
  }
 },
 "nbformat": 4,
 "nbformat_minor": 4
}
