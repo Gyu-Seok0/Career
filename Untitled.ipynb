{
 "cells": [
  {
   "cell_type": "code",
   "execution_count": 2,
   "metadata": {},
   "outputs": [],
   "source": [
    "import pandas as pd\n",
    "import numpy as np"
   ]
  },
  {
   "cell_type": "code",
   "execution_count": 8,
   "metadata": {},
   "outputs": [],
   "source": [
    "df = pd.read_csv(\"C:/Users/LeeKwangWon/Desktop/Data/test.csv\", encoding = \"cp949\")\n"
   ]
  },
  {
   "cell_type": "code",
   "execution_count": 16,
   "metadata": {},
   "outputs": [
    {
     "data": {
      "text/plain": [
       "0                와라와라호프\n",
       "1         커피빈코리아선릉로93길점\n",
       "2                  프로포즈\n",
       "3              싱싱커피&토스트\n",
       "4              가락사우나내스낵\n",
       "              ...      \n",
       "573675          비파티세리공덕\n",
       "573676            앤탑PC방\n",
       "573677         오즈아레나PC방\n",
       "573678           파인트리네일\n",
       "573679           마이리틀네일\n",
       "Name: 상호명, Length: 573680, dtype: object"
      ]
     },
     "execution_count": 16,
     "metadata": {},
     "output_type": "execute_result"
    }
   ],
   "source": [
    "df.loc[:,\"상호명\"]"
   ]
  },
  {
   "cell_type": "code",
   "execution_count": 20,
   "metadata": {},
   "outputs": [
    {
     "name": "stdout",
     "output_type": "stream",
     "text": [
      "[19905471 '와라와라호프' nan 'Q' '음식' 'Q09' '유흥주점' 'Q09A01' '호프/맥주' 'I56219'\n",
      " '기타 주점업' 11 '서울특별시' 11680 '강남구' 1168060000 '대치1동' 1168010600 '대치동'\n",
      " 1.16801e+18 1 '대지' 604 nan '서울특별시 강남구 대치동 604' 116802000000.0\n",
      " '서울특별시 강남구 남부순환로' 2933 nan 1.16801e+24 '대치상가' '서울특별시 강남구 남부순환로 2933'\n",
      " 135280 6280.0 nan 1.0 nan 127.06102609999999 37.49392233]\n"
     ]
    }
   ],
   "source": [
    "df1 = df.to_numpy()\n",
    "print(df1[0])"
   ]
  },
  {
   "cell_type": "code",
   "execution_count": 7,
   "metadata": {
    "scrolled": true
   },
   "outputs": [
    {
     "data": {
      "text/plain": [
       "array([[ 0,  1,  2,  3,  4,  5],\n",
       "       [ 6,  7,  8,  9, 10, 11],\n",
       "       [12, 13, 14, 15, 16, 17],\n",
       "       [18, 19, 20, 21, 22, 23]])"
      ]
     },
     "execution_count": 7,
     "metadata": {},
     "output_type": "execute_result"
    }
   ],
   "source": [
    "np.arange(24).reshape(4,-1)"
   ]
  },
  {
   "cell_type": "code",
   "execution_count": 27,
   "metadata": {},
   "outputs": [
    {
     "name": "stdout",
     "output_type": "stream",
     "text": [
      "[[[ 0  1  2  3]\n",
      "  [ 4  5  6  7]]\n",
      "\n",
      " [[ 8  9 10 11]\n",
      "  [12 13 14 15]]\n",
      "\n",
      " [[16 17 18 19]\n",
      "  [20 21 22 23]]]\n"
     ]
    },
    {
     "data": {
      "text/plain": [
       "array([[ 6, 22],\n",
       "       [38, 54],\n",
       "       [70, 86]])"
      ]
     },
     "execution_count": 27,
     "metadata": {},
     "output_type": "execute_result"
    }
   ],
   "source": [
    "v = np.arange(24).reshape(3,2,4)\n",
    "print(v)\n",
    "v.sum(axis=2)"
   ]
  }
 ],
 "metadata": {
  "kernelspec": {
   "display_name": "Python 3",
   "language": "python",
   "name": "python3"
  },
  "language_info": {
   "codemirror_mode": {
    "name": "ipython",
    "version": 3
   },
   "file_extension": ".py",
   "mimetype": "text/x-python",
   "name": "python",
   "nbconvert_exporter": "python",
   "pygments_lexer": "ipython3",
   "version": "3.8.3"
  }
 },
 "nbformat": 4,
 "nbformat_minor": 4
}
