{
  "nbformat": 4,
  "nbformat_minor": 0,
  "metadata": {
    "colab": {
      "name": "공부1.ipynb",
      "provenance": [],
      "collapsed_sections": []
    },
    "kernelspec": {
      "name": "python3",
      "display_name": "Python 3"
    }
  },
  "cells": [
    {
      "cell_type": "code",
      "metadata": {
        "id": "HNz8WNwHOVLF"
      },
      "source": [
        "import torch\n",
        "import torch.nn as nn\n",
        "import torchvision\n",
        "import numpy as np\n",
        "\n",
        "\n",
        "\n",
        "mnist_train = torchvision.datasets.MNIST(root=\"MNIST_data/\", train=True, transform=torchvision.transforms.ToTensor(), download=True)\n",
        "mnist_test = torchvision.datasets.MNIST(root=\"MNIST_data/\", train=False, transform=torchvision.transforms.ToTensor(), download=True)"
      ],
      "execution_count": null,
      "outputs": []
    },
    {
      "cell_type": "code",
      "metadata": {
        "colab": {
          "base_uri": "https://localhost:8080/",
          "height": 336
        },
        "id": "CzmDMJxzOWB1",
        "outputId": "ad74d373-317a-4593-ffee-9014852ac73f"
      },
      "source": [
        "#시각화\n",
        "import matplotlib.pyplot as plt\n",
        "train0 = mnist_train.train_data[0].numpy() # tensor --> numpy로 바꿀 떄는 이렇게 \n",
        "plt.imshow(train0, cmap = \"gray\") # 그림을 보여주기 위해서는 plt를 사용하고, imshow 메서드를 사용한다."
      ],
      "execution_count": null,
      "outputs": [
        {
          "output_type": "stream",
          "text": [
            "/usr/local/lib/python3.6/dist-packages/torchvision/datasets/mnist.py:58: UserWarning: train_data has been renamed data\n",
            "  warnings.warn(\"train_data has been renamed data\")\n"
          ],
          "name": "stderr"
        },
        {
          "output_type": "execute_result",
          "data": {
            "text/plain": [
              "<matplotlib.image.AxesImage at 0x7f3fb62a1240>"
            ]
          },
          "metadata": {
            "tags": []
          },
          "execution_count": 19
        },
        {
          "output_type": "display_data",
          "data": {
            "image/png": "[encoded data removed]",
            "text/plain": [
              "<Figure size 432x288 with 1 Axes>"
            ]
          },
          "metadata": {
            "tags": [],
            "needs_background": "light"
          }
        }
      ]
    },
    {
      "cell_type": "code",
      "metadata": {
        "colab": {
          "base_uri": "https://localhost:8080/"
        },
        "id": "GG7bXn9qRRHQ",
        "outputId": "6d4b2ad6-6760-4d48-a217-98d34f52fa97"
      },
      "source": [
        "train_data = mnist_train.train_data.reshape(-1,28 * 28)\n",
        "test_data = mnist_test.test_data.reshape(-1, 28* 28)\n",
        "\n",
        "x_train, y_train =  train_data.data, mnist_train.train_labels\n",
        "x_test, y_test = test_data.data, mnist_test.test_labels\n",
        "\n",
        "\n",
        "\n",
        "print(\"x_train.shpae= {} , y_train.shape = {}\".format(x_train.shape, y_train.shape))\n",
        "print(\"x_test.shpae= {} , y_test.shape = {}\".format(x_test.shape, y_test.shape))\n"
      ],
      "execution_count": null,
      "outputs": [
        {
          "output_type": "stream",
          "text": [
            "x_train.shpae= torch.Size([60000, 784]) , y_train.shape = torch.Size([60000])\n",
            "x_test.shpae= torch.Size([10000, 784]) , y_test.shape = torch.Size([10000])\n"
          ],
          "name": "stdout"
        },
        {
          "output_type": "stream",
          "text": [
            "/usr/local/lib/python3.6/dist-packages/torchvision/datasets/mnist.py:58: UserWarning: train_data has been renamed data\n",
            "  warnings.warn(\"train_data has been renamed data\")\n",
            "/usr/local/lib/python3.6/dist-packages/torchvision/datasets/mnist.py:63: UserWarning: test_data has been renamed data\n",
            "  warnings.warn(\"test_data has been renamed data\")\n",
            "/usr/local/lib/python3.6/dist-packages/torchvision/datasets/mnist.py:48: UserWarning: train_labels has been renamed targets\n",
            "  warnings.warn(\"train_labels has been renamed targets\")\n",
            "/usr/local/lib/python3.6/dist-packages/torchvision/datasets/mnist.py:53: UserWarning: test_labels has been renamed targets\n",
            "  warnings.warn(\"test_labels has been renamed targets\")\n"
          ],
          "name": "stderr"
        }
      ]
    },
    {
      "cell_type": "markdown",
      "metadata": {
        "id": "Hqvo2bisSR8b"
      },
      "source": [
        "# Xavier initalization 방법을 통해서 가중치를 초기화합니다."
      ]
    },
    {
      "cell_type": "code",
      "metadata": {
        "colab": {
          "base_uri": "https://localhost:8080/"
        },
        "id": "-pg4MEoYRvOD",
        "outputId": "ecc116a8-b14e-40ff-804e-dcdda8eb3b84"
      },
      "source": [
        "import math\n",
        "# neural net에서 입력값은 한 데이터의 모든 feature들인가? 아니면 모든 데이터들을 다 포괄하는 영역인가?\n",
        "# feautre의 개수만큼 들어간다. \n",
        "# weight의 크기가 784 * 10인 이유는 784개의 feature들을 커버하고, 이들을 통해 0~9까지의 숫자를 나타내기 떄문\n",
        "\n",
        "weights = torch.randn(784,10) / math.sqrt(784) # hidden layer의 node 개수가 10개임을 의미한다.\n",
        "weights.requires_grad_()\n",
        "bias = torch.zeros(10, requires_grad= True)\n",
        "\n",
        "weights.shape"
      ],
      "execution_count": null,
      "outputs": [
        {
          "output_type": "execute_result",
          "data": {
            "text/plain": [
              "torch.Size([784, 10])"
            ]
          },
          "metadata": {
            "tags": []
          },
          "execution_count": 48
        }
      ]
    },
    {
      "cell_type": "code",
      "metadata": {
        "id": "RljuhAtrTESj"
      },
      "source": [
        "# customized된 손실함수\n",
        "def log_softmax(x):\n",
        "  return x - x.exp().sum(-1).log().unsqeeze(-1)\n",
        "\n",
        "def model(xb):\n",
        "    return log_softmax(xb @ weights + bias)\n"
      ],
      "execution_count": null,
      "outputs": []
    },
    {
      "cell_type": "code",
      "metadata": {
        "id": "ue30g-rQVycH"
      },
      "source": [
        "#손실함수로 음의 로그우도 함수를 정의\n",
        "def nll(input, target):\n",
        "    return -input[range(target.shape[0]), target].mean().long()\n",
        "\n",
        "loss_func = nll"
      ],
      "execution_count": null,
      "outputs": []
    },
    {
      "cell_type": "code",
      "metadata": {
        "colab": {
          "base_uri": "https://localhost:8080/",
          "height": 351
        },
        "id": "hseHWRPpWICI",
        "outputId": "9490b52b-43d7-4468-b21a-f1b654b6b63f"
      },
      "source": [
        "\n",
        "batch_size = 64\n",
        "\n",
        "xb = x_train[0:batch_size]\n",
        "preds = model(xb)\n",
        "\n",
        "print(preds[0], preds.shape)"
      ],
      "execution_count": null,
      "outputs": [
        {
          "output_type": "error",
          "ename": "RuntimeError",
          "evalue": "ignored",
          "traceback": [
            "\u001b[0;31m---------------------------------------------------------------------------\u001b[0m",
            "\u001b[0;31mRuntimeError\u001b[0m                              Traceback (most recent call last)",
            "\u001b[0;32m<ipython-input-56-dba5e1b3cfe8>\u001b[0m in \u001b[0;36m<module>\u001b[0;34m()\u001b[0m\n\u001b[1;32m      3\u001b[0m \u001b[0;34m\u001b[0m\u001b[0m\n\u001b[1;32m      4\u001b[0m \u001b[0mxb\u001b[0m \u001b[0;34m=\u001b[0m \u001b[0mx_train\u001b[0m\u001b[0;34m[\u001b[0m\u001b[0;36m0\u001b[0m\u001b[0;34m:\u001b[0m\u001b[0mbatch_size\u001b[0m\u001b[0;34m]\u001b[0m\u001b[0;34m\u001b[0m\u001b[0;34m\u001b[0m\u001b[0m\n\u001b[0;32m----> 5\u001b[0;31m \u001b[0mpreds\u001b[0m \u001b[0;34m=\u001b[0m \u001b[0mmodel\u001b[0m\u001b[0;34m(\u001b[0m\u001b[0mxb\u001b[0m\u001b[0;34m)\u001b[0m\u001b[0;34m\u001b[0m\u001b[0;34m\u001b[0m\u001b[0m\n\u001b[0m\u001b[1;32m      6\u001b[0m \u001b[0;34m\u001b[0m\u001b[0m\n\u001b[1;32m      7\u001b[0m \u001b[0mprint\u001b[0m\u001b[0;34m(\u001b[0m\u001b[0mpreds\u001b[0m\u001b[0;34m[\u001b[0m\u001b[0;36m0\u001b[0m\u001b[0;34m]\u001b[0m\u001b[0;34m,\u001b[0m \u001b[0mpreds\u001b[0m\u001b[0;34m.\u001b[0m\u001b[0mshape\u001b[0m\u001b[0;34m)\u001b[0m\u001b[0;34m\u001b[0m\u001b[0;34m\u001b[0m\u001b[0m\n",
            "\u001b[0;32m<ipython-input-50-a29b92221cb9>\u001b[0m in \u001b[0;36mmodel\u001b[0;34m(xb)\u001b[0m\n\u001b[1;32m      4\u001b[0m \u001b[0;34m\u001b[0m\u001b[0m\n\u001b[1;32m      5\u001b[0m \u001b[0;32mdef\u001b[0m \u001b[0mmodel\u001b[0m\u001b[0;34m(\u001b[0m\u001b[0mxb\u001b[0m\u001b[0;34m)\u001b[0m\u001b[0;34m:\u001b[0m\u001b[0;34m\u001b[0m\u001b[0;34m\u001b[0m\u001b[0m\n\u001b[0;32m----> 6\u001b[0;31m     \u001b[0;32mreturn\u001b[0m \u001b[0mlog_softmax\u001b[0m\u001b[0;34m(\u001b[0m\u001b[0mxb\u001b[0m \u001b[0;34m@\u001b[0m \u001b[0mweights\u001b[0m \u001b[0;34m+\u001b[0m \u001b[0mbias\u001b[0m\u001b[0;34m)\u001b[0m\u001b[0;34m\u001b[0m\u001b[0;34m\u001b[0m\u001b[0m\n\u001b[0m",
            "\u001b[0;31mRuntimeError\u001b[0m: expected scalar type Byte but found Float"
          ]
        }
      ]
    },
    {
      "cell_type": "code",
      "metadata": {
        "id": "qrUPrGVrXFvA"
      },
      "source": [
        ""
      ],
      "execution_count": null,
      "outputs": []
    },
    {
      "cell_type": "code",
      "metadata": {
        "id": "ryt-GiMGYfpt"
      },
      "source": [
        ""
      ],
      "execution_count": null,
      "outputs": []
    }
  ]
}