{
 "cells": [
  {
   "cell_type": "markdown",
   "metadata": {},
   "source": [
    "# 안테나\n"
   ]
  },
  {
   "cell_type": "code",
   "execution_count": 3,
   "metadata": {},
   "outputs": [
    {
     "name": "stdout",
     "output_type": "stream",
     "text": [
      "3\n",
      "1 10 10\n",
      "10\n"
     ]
    }
   ],
   "source": [
    "#시간초과라..\n",
    "N = int(input())\n",
    "house = list(map(int, input().split()))\n",
    "answer = (999999,-1) #최소값과 index를 담아보았다.\n",
    "for i in range(N):\n",
    "    target = house[i]\n",
    "    temp = 0\n",
    "    for j in range(N):\n",
    "        if i == j:\n",
    "            continue\n",
    "        else:\n",
    "            temp += abs(house[j] - target)\n",
    "    if temp < answer[0]:\n",
    "        answer = (temp,i)\n",
    "print(house[answer[1]])        "
   ]
  },
  {
   "cell_type": "code",
   "execution_count": 18,
   "metadata": {},
   "outputs": [
    {
     "name": "stdout",
     "output_type": "stream",
     "text": [
      "4\n",
      "5 1 7 9\n",
      "5\n"
     ]
    }
   ],
   "source": [
    "#하나씩 돌아가면서, 해당 값을 뺴고, 양수로 바꿔주고 썸\n",
    "N = int(input())\n",
    "house = list(map(int, input().split()))\n",
    "distance = []\n",
    "for i in range(N):\n",
    "    temp = sum(map(lambda x: abs(x - house[i]) ,house))\n",
    "    distance.append(temp)\n",
    "idx = distance.index(min(distance))\n",
    "print(house[idx])"
   ]
  },
  {
   "cell_type": "code",
   "execution_count": 21,
   "metadata": {},
   "outputs": [
    {
     "name": "stdout",
     "output_type": "stream",
     "text": [
      "4\n",
      "5 1 7 9\n",
      "5\n"
     ]
    }
   ],
   "source": [
    "#하나씩 돌아가면서, 해당 값을 뺴고, 양수로 바꿔주고 썸\n",
    "N = int(input())\n",
    "house = list(map(int, input().split()))\n",
    "answer = -1\n",
    "distance = 1e10\n",
    "for i in range(N):\n",
    "    temp = sum(map(lambda x: abs(x - house[i]) ,house))\n",
    "    if temp < distance:\n",
    "        distance = temp\n",
    "        answer = i\n",
    "print(house[answer])"
   ]
  },
  {
   "cell_type": "code",
   "execution_count": 28,
   "metadata": {
    "scrolled": true
   },
   "outputs": [
    {
     "name": "stdout",
     "output_type": "stream",
     "text": [
      "4\n",
      "5 1 7 6\n",
      "5\n"
     ]
    }
   ],
   "source": [
    "# 동빈's --> 거리의 개념이니까 그냥 중간값.. 시간잡고 있었으면 큰일 날뻔 했다. \n",
    "N = int(input())\n",
    "house = list(map(int, input().split()))\n",
    "house.sort()\n",
    "idx = (N-1)//2 # median을 출력한다.\n",
    "print(house[idx])"
   ]
  },
  {
   "cell_type": "markdown",
   "metadata": {},
   "source": [
    "### 실패율 문제"
   ]
  },
  {
   "cell_type": "code",
   "execution_count": 44,
   "metadata": {},
   "outputs": [],
   "source": [
    "N = 4\n",
    "stages = [4,4,4,4,4]"
   ]
  },
  {
   "cell_type": "code",
   "execution_count": 50,
   "metadata": {},
   "outputs": [
    {
     "name": "stdout",
     "output_type": "stream",
     "text": [
      "[4, 1, 2, 3]\n"
     ]
    }
   ],
   "source": [
    "count = [0] * (N+2)\n",
    "# 빈도 수를 체크 합니다.\n",
    "for num in stages:\n",
    "    count[num] += 1\n",
    "\n",
    "fail = []\n",
    "for i in range(1,N+1):\n",
    "    if count[i] == 0: #이 조건 추가 안하니까, 런타임에러나오네?\n",
    "        failure = 0\n",
    "    else:\n",
    "        failure = count[i] / sum(count[i:])\n",
    "    fail.append((failure,i)) #이때 인덱스도 같이 넣어줍니다.\n",
    "\n",
    "# 정렬한다. \n",
    "fail.sort(key = lambda x: (-x[0],x[1]))\n",
    "# 출력한다.\n",
    "answer = []\n",
    "for i in range(N):\n",
    "    answer.append(fail[i][1]) \n",
    "\n",
    "print(answer)"
   ]
  },
  {
   "cell_type": "code",
   "execution_count": 53,
   "metadata": {},
   "outputs": [
    {
     "data": {
      "text/plain": [
       "3"
      ]
     },
     "execution_count": 53,
     "metadata": {},
     "output_type": "execute_result"
    }
   ],
   "source": [
    "# 람다에 대해 간략히 공부\n",
    "# lambda 인자(argument): 표현식(repression)\n",
    "\n",
    "def hap(x,y):\n",
    "    return x+y\n",
    "\n",
    "(lambda x,y: x+y)(1,2)\n"
   ]
  },
  {
   "cell_type": "code",
   "execution_count": 107,
   "metadata": {},
   "outputs": [
    {
     "name": "stdout",
     "output_type": "stream",
     "text": [
      "4\n",
      "10\n",
      "20\n",
      "30\n",
      "40\n"
     ]
    }
   ],
   "source": [
    "# 카드 정렬하기\n",
    "N = int(input())\n",
    "cards = [int(input()) for _ in range(N)]\n"
   ]
  },
  {
   "cell_type": "code",
   "execution_count": 109,
   "metadata": {},
   "outputs": [
    {
     "name": "stdout",
     "output_type": "stream",
     "text": [
      "30 40 [] []\n",
      "[70]\n",
      "10 20 [30, 40] None\n"
     ]
    },
    {
     "ename": "AttributeError",
     "evalue": "'NoneType' object has no attribute 'append'",
     "output_type": "error",
     "traceback": [
      "\u001b[0;31m---------------------------------------------------------------------------\u001b[0m",
      "\u001b[0;31mAttributeError\u001b[0m                            Traceback (most recent call last)",
      "\u001b[0;32m<ipython-input-109-fc3dee401021>\u001b[0m in \u001b[0;36m<module>\u001b[0;34m\u001b[0m\n\u001b[1;32m     24\u001b[0m \u001b[0;34m\u001b[0m\u001b[0m\n\u001b[1;32m     25\u001b[0m \u001b[0;34m\u001b[0m\u001b[0m\n\u001b[0;32m---> 26\u001b[0;31m \u001b[0msearch\u001b[0m\u001b[0;34m(\u001b[0m\u001b[0mcards\u001b[0m\u001b[0;34m)\u001b[0m\u001b[0;34m\u001b[0m\u001b[0;34m\u001b[0m\u001b[0m\n\u001b[0m",
      "\u001b[0;32m<ipython-input-109-fc3dee401021>\u001b[0m in \u001b[0;36msearch\u001b[0;34m(cards)\u001b[0m\n\u001b[1;32m     18\u001b[0m         \u001b[0mvalue\u001b[0m \u001b[0;34m=\u001b[0m \u001b[0msearch\u001b[0m\u001b[0;34m(\u001b[0m\u001b[0mtemp\u001b[0m\u001b[0;34m)\u001b[0m \u001b[0;31m#결과적으로 0이나 어떤 한 값이 들어온다.\u001b[0m\u001b[0;34m\u001b[0m\u001b[0;34m\u001b[0m\u001b[0m\n\u001b[1;32m     19\u001b[0m         \u001b[0mprint\u001b[0m\u001b[0;34m(\u001b[0m\u001b[0mx\u001b[0m\u001b[0;34m,\u001b[0m\u001b[0my\u001b[0m\u001b[0;34m,\u001b[0m\u001b[0mtemp\u001b[0m\u001b[0;34m,\u001b[0m\u001b[0mvalue\u001b[0m\u001b[0;34m)\u001b[0m\u001b[0;34m\u001b[0m\u001b[0;34m\u001b[0m\u001b[0m\n\u001b[0;32m---> 20\u001b[0;31m         \u001b[0mvalue\u001b[0m\u001b[0;34m.\u001b[0m\u001b[0mappend\u001b[0m\u001b[0;34m(\u001b[0m\u001b[0mx\u001b[0m\u001b[0;34m+\u001b[0m\u001b[0my\u001b[0m\u001b[0;34m)\u001b[0m\u001b[0;34m\u001b[0m\u001b[0;34m\u001b[0m\u001b[0m\n\u001b[0m\u001b[1;32m     21\u001b[0m         \u001b[0mtemp\u001b[0m\u001b[0;34m.\u001b[0m\u001b[0mappend\u001b[0m\u001b[0;34m(\u001b[0m\u001b[0mx\u001b[0m\u001b[0;34m)\u001b[0m\u001b[0;34m\u001b[0m\u001b[0;34m\u001b[0m\u001b[0m\n\u001b[1;32m     22\u001b[0m         \u001b[0mtemp\u001b[0m\u001b[0;34m.\u001b[0m\u001b[0mappend\u001b[0m\u001b[0;34m(\u001b[0m\u001b[0my\u001b[0m\u001b[0;34m)\u001b[0m\u001b[0;34m\u001b[0m\u001b[0;34m\u001b[0m\u001b[0m\n",
      "\u001b[0;31mAttributeError\u001b[0m: 'NoneType' object has no attribute 'append'"
     ]
    }
   ],
   "source": [
    "from itertools import combinations\n",
    "import copy\n",
    "\n",
    "answer = []\n",
    "value = []\n",
    "def search(cards):\n",
    "    global value\n",
    "    if cards == []:\n",
    "        return []\n",
    "    if len(cards) == 1:\n",
    "        return [cards[0]]\n",
    "    \n",
    "    temp = copy.deepcopy(cards)\n",
    "    for data in combinations(cards,2):\n",
    "        x,y= data #(10,20)\n",
    "        temp.remove(x)\n",
    "        temp.remove(y)\n",
    "        value = search(temp) #결과적으로 0이나 어떤 한 값이 들어온다.\n",
    "        print(x,y,temp,value)\n",
    "        value.append(x+y)\n",
    "        temp.append(x)\n",
    "        temp.append(y)\n",
    "        print(value)\n",
    "\n",
    "        \n",
    "search(cards)"
   ]
  },
  {
   "cell_type": "code",
   "execution_count": 113,
   "metadata": {},
   "outputs": [
    {
     "name": "stdout",
     "output_type": "stream",
     "text": [
      "330\n"
     ]
    }
   ],
   "source": [
    "import heapq\n",
    "N = int(input())\n",
    "card_list = []\n",
    "for _ in range(N):\n",
    "    heapq.heappush(card_list, int(input()))\n",
    "answer = 0\n",
    "while len(card_list) > 1:\n",
    "    first = heapq.heappop(card_list)\n",
    "    second = heapq.heappop(card_list)\n",
    "    target = first + second\n",
    "    answer += target\n",
    "    heapq.heappush(card_list,target)\n",
    "print(answer)"
   ]
  },
  {
   "cell_type": "code",
   "execution_count": null,
   "metadata": {},
   "outputs": [],
   "source": []
  },
  {
   "cell_type": "code",
   "execution_count": 96,
   "metadata": {},
   "outputs": [
    {
     "data": {
      "text/plain": [
       "10"
      ]
     },
     "execution_count": 96,
     "metadata": {},
     "output_type": "execute_result"
    }
   ],
   "source": [
    "a.pop()"
   ]
  },
  {
   "cell_type": "code",
   "execution_count": 98,
   "metadata": {},
   "outputs": [],
   "source": [
    "a.append(1)"
   ]
  },
  {
   "cell_type": "code",
   "execution_count": 99,
   "metadata": {},
   "outputs": [
    {
     "data": {
      "text/plain": [
       "[1]"
      ]
     },
     "execution_count": 99,
     "metadata": {},
     "output_type": "execute_result"
    }
   ],
   "source": []
  },
  {
   "cell_type": "code",
   "execution_count": null,
   "metadata": {},
   "outputs": [],
   "source": []
  }
 ],
 "metadata": {
  "kernelspec": {
   "display_name": "Python 3",
   "language": "python",
   "name": "python3"
  },
  "language_info": {
   "codemirror_mode": {
    "name": "ipython",
    "version": 3
   },
   "file_extension": ".py",
   "mimetype": "text/x-python",
   "name": "python",
   "nbconvert_exporter": "python",
   "pygments_lexer": "ipython3",
   "version": "3.8.3"
  }
 },
 "nbformat": 4,
 "nbformat_minor": 4
}
