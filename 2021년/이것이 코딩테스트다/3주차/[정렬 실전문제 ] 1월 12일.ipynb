{
 "cells": [
  {
   "cell_type": "markdown",
   "metadata": {},
   "source": [
    "### 어떻게 짜면 좋을까?\n",
    "1. 입력을 받는다.\n",
    "2. result에 있는 학생의 이름을 보고 하나씩 확인하면서 해결한다"
   ]
  },
  {
   "cell_type": "code",
   "execution_count": 55,
   "metadata": {},
   "outputs": [
    {
     "name": "stdout",
     "output_type": "stream",
     "text": [
      "5\n",
      "J 50 60 100\n",
      "Sa 80 60 50\n",
      "Su 80 70 100\n",
      "So 50 60 90\n",
      "Ha 50 60 100\n",
      "[{'Sa': [80, 60, 50]}, {'Su': [80, 70, 100]}, {'Ha': [50, 60, 100]}, {'J': [50, 60, 100]}, {'So': [50, 60, 90]}]\n"
     ]
    }
   ],
   "source": [
    "N = int(input())\n",
    "\n",
    "result = []\n",
    "for i in range(N):\n",
    "    name, kor, eng, math = input().split()\n",
    "    kor, eng, math = map(int, [kor,eng,math])\n",
    "    \n",
    "    target = {name:[kor,eng,math]}\n",
    "    if i == 0:\n",
    "        result.append(target)\n",
    "    else:\n",
    "        for j in range(len(result)):\n",
    "            flag = False\n",
    "            token = list(result[j].values())[0]\n",
    "            \n",
    "            \n",
    "            \n",
    "            # 국어 점수 확인\n",
    "            if token[0] < kor: # 지금 나온 token의 국어가 나보다 크면,\n",
    "                flag = True\n",
    "            \n",
    "            # 영어 점수 확인\n",
    "            elif token[0] == kor and token[1] > eng: # token의 영어점수가 더 작다면\n",
    "                flag = True\n",
    "            \n",
    "            # 수학 정수 확인\n",
    "            elif token[:2] == [kor,eng] and token[2] < math: #token의 수학점수가 더 크다면 \n",
    "                flag = True\n",
    "            \n",
    "            # 이름 확인\n",
    "            elif token == [kor,eng,math]:\n",
    "                flag = True\n",
    "                token_name = list(result[j].keys())[0]\n",
    "                if token_name < name: #이름 순\n",
    "                    j += 1\n",
    "            if flag:\n",
    "                result.insert(j, target)\n",
    "                break\n",
    "        # 한번도 해당이 되지 않는다면,        \n",
    "        if not flag:\n",
    "            result.append(target)\n",
    "            \n",
    "for dic in result:\n",
    "    answer = list(dic.keys())[0]\n",
    "    print(answer)                "
   ]
  },
  {
   "cell_type": "code",
   "execution_count": 114,
   "metadata": {},
   "outputs": [
    {
     "name": "stdout",
     "output_type": "stream",
     "text": [
      "3\n",
      "J 40 30 20\n",
      "S 20 30 20\n",
      "A 30 20 20\n",
      "J\n",
      "A\n",
      "S\n"
     ]
    }
   ],
   "source": [
    "# 풀이2\n",
    "N = int(input())\n",
    "person = []\n",
    "for i in range(N):\n",
    "    name, kor, eng, math = input().split()\n",
    "    kor, eng, math = map(int,[kor,eng,math])\n",
    "    person.append((name,kor,eng,math))\n",
    "    \n",
    "\n",
    "def sorting(p):\n",
    "    result = sorted(p, key = lambda x: (-x[1], x[2], -x[3], x[0]))\n",
    "    return result\n",
    "\n",
    "answer = sorting(person)\n",
    "for i in range(N):\n",
    "    print(answer[i][0])\n"
   ]
  },
  {
   "cell_type": "code",
   "execution_count": 117,
   "metadata": {},
   "outputs": [
    {
     "name": "stdout",
     "output_type": "stream",
     "text": [
      "3\n",
      "A 3 5 6\n",
      "B 2 3 4\n",
      "C 3 4 3\n",
      "C\n",
      "A\n",
      "B\n"
     ]
    }
   ],
   "source": [
    "#풀이3 시간복잡도..\n",
    "N = int(input())\n",
    "person = []\n",
    "for i in range(N):\n",
    "    person.append(input().split())\n",
    "\n",
    "person = sorted(person, key = lambda x: (-int(x[1]), int(x[2]), -int(x[3]), x[0]))\n",
    "for i in range(N):\n",
    "|\\"
   ]
  },
  {
   "cell_type": "code",
   "execution_count": null,
   "metadata": {},
   "outputs": [],
   "source": []
  }
 ],
 "metadata": {
  "kernelspec": {
   "display_name": "Python 3",
   "language": "python",
   "name": "python3"
  },
  "language_info": {
   "codemirror_mode": {
    "name": "ipython",
    "version": 3
   },
   "file_extension": ".py",
   "mimetype": "text/x-python",
   "name": "python",
   "nbconvert_exporter": "python",
   "pygments_lexer": "ipython3",
   "version": "3.8.3"
  }
 },
 "nbformat": 4,
 "nbformat_minor": 4
}
