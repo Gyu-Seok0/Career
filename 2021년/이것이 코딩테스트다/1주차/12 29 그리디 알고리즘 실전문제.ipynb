{
 "cells": [
  {
   "cell_type": "markdown",
   "metadata": {},
   "source": [
    "- 큰 수의 법칙\n",
    "- 숫자 뒤집기\n",
    "- 만들 수 없는 금액\n",
    "- 볼링공 고르기\n",
    "- 무지의 먹방 라이브"
   ]
  },
  {
   "cell_type": "markdown",
   "metadata": {},
   "source": [
    "#### 큰 수의 법칙\n",
    "\n",
    "N, M, K의 각각을 입력받은 후에\n",
    "step1 data를 sorting 한다\n",
    "step2 연속된 횟수를 카운트 하면서, max값을 result에 더한다.\n",
    "step3 연속된 횟수가 K와 같으면, 두번째로 큰 값을 result에 더하는 식이다.\n",
    "\n",
    "so easy"
   ]
  },
  {
   "cell_type": "code",
   "execution_count": 2,
   "metadata": {},
   "outputs": [
    {
     "name": "stdout",
     "output_type": "stream",
     "text": [
      "5 8 3\n",
      "2 4 5 4 6\n"
     ]
    }
   ],
   "source": [
    "N, M, K = map(int, input().split())\n",
    "data = list(map(int, input().split()))"
   ]
  },
  {
   "cell_type": "code",
   "execution_count": 4,
   "metadata": {},
   "outputs": [],
   "source": [
    "cnt = 0 #전체 시행 횟수\n",
    "temp = 0 #연속해서 몇번 더해졌는지\n",
    "result = 0\n",
    "\n",
    "data.sort()\n",
    "while cnt < M:\n",
    "    if temp == K:\n",
    "        result += data[-2]\n",
    "        temp = 0\n",
    "    else:\n",
    "        result += data[-1]\n",
    "        temp += 1\n",
    "    cnt += 1\n",
    "\n",
    "print(result)"
   ]
  },
  {
   "cell_type": "markdown",
   "metadata": {},
   "source": [
    "#### 숫자 뒤집기 by dongbin\n",
    "\n",
    "1로 뒤집었을 때, 0으로 뒤집었을 때를 비교하는 것은 같았지만,\n",
    "훨씬 깔끔한 풀이 인듯"
   ]
  },
  {
   "cell_type": "code",
   "execution_count": 7,
   "metadata": {},
   "outputs": [
    {
     "name": "stdout",
     "output_type": "stream",
     "text": [
      "00111000\n",
      "1\n"
     ]
    }
   ],
   "source": [
    "data = input()\n",
    "count0 = 0 # 0으로 바꿀 떄의 횟수\n",
    "count1 = 0 # 1로 바꿀 떄의 횟수\n",
    "\n",
    "# 첫번째 스타트를 확인\n",
    "if data[0] == '1': #1이라면, 0으로 바꾸는 횟수가 하나 증가함\n",
    "    count0 += 1\n",
    "else:\n",
    "    count1 += 1\n",
    "\n",
    "#두번째부터 체크 data[i+1]이 목표임 따라서, \n",
    "for i in range(len(data)-1): # out of index를 해결하기 위해 len(data)-1로 범위를 제한\n",
    "    if data[i] != data[i+1]:\n",
    "        if data[i+1] == '1': #1이라면, 0으로 바꿔줌. 0011010\n",
    "            count0 += 1\n",
    "        else:\n",
    "            count1 += 1\n",
    "print(min(count0, count1))"
   ]
  },
  {
   "cell_type": "markdown",
   "metadata": {},
   "source": [
    "#### 만들 수 없는 금액\n",
    "주어진 N개의 동전으로 만들 수 없는 양의 정수 중 최솟값 구하기\n",
    "\n",
    "** 생각보다 어렵다"
   ]
  },
  {
   "cell_type": "code",
   "execution_count": 28,
   "metadata": {
    "scrolled": true
   },
   "outputs": [
    {
     "name": "stdout",
     "output_type": "stream",
     "text": [
      "6\n",
      "1 2 3 6 7 8\n",
      "7\n"
     ]
    }
   ],
   "source": [
    "N = int(input())\n",
    "coin = list(map(int, input().split()))\n",
    "coin.sort()\n",
    "\n",
    "if coin[0] != 1: #1원이 없으면 그냥 그게 답이다.\n",
    "    print(1)\n",
    "else:\n",
    "    for i in range(len(coin)-1):\n",
    "        if coin[i+1] - coin[i] > 1: # i+1th와 ith의 차이가 1을 초과하면, 구멍이 발생한다.\n",
    "            result = sum(coin[:i+1])+1 # 이전까지의 합의 +1을 한 것이 최소가 된다.\n",
    "            if result not in coin:\n",
    "                break\n",
    "            else: 처음부터\n",
    "    print(result)\n",
    "check = [0 for i in range(sum(coin) + 1)]\n",
    "check[0] = 1\n",
    "print(check)\n",
    "for i in range(len(coin)):\n",
    "    check[coin[i]] = 1\n",
    "    cnt = 0\n",
    "    while cnt < len(check):\n",
    "        temp = check[cnt]\n",
    "        if temp == 1:\n",
    "            check[coin[i] + temp] = 1\n",
    "            #print(\"coin=\", coin[i],\"check =\",check)\n",
    "        cnt += 1"
   ]
  },
  {
   "cell_type": "code",
   "execution_count": 87,
   "metadata": {},
   "outputs": [
    {
     "name": "stdout",
     "output_type": "stream",
     "text": [
      "6\n",
      "1 2 3 6 7 8\n",
      "28\n"
     ]
    }
   ],
   "source": [
    "# 동빈's\n",
    "n = int(input())\n",
    "data = list(map(int, input().split()))\n",
    "data.sort()\n",
    "\n",
    "target = 1\n",
    "for x in data:\n",
    "    # 만들 수 없는 금액을 찾았을 때 반복 종료\n",
    "    if target < x:\n",
    "        break\n",
    "    target += x\n",
    "\n",
    "# 만들 수 없는 금액 출력\n",
    "print(target)"
   ]
  },
  {
   "cell_type": "code",
   "execution_count": 89,
   "metadata": {},
   "outputs": [
    {
     "data": {
      "text/plain": [
       "27"
      ]
     },
     "execution_count": 89,
     "metadata": {},
     "output_type": "execute_result"
    }
   ],
   "source": [
    "sum(data)"
   ]
  },
  {
   "cell_type": "markdown",
   "metadata": {},
   "source": [
    "#### 볼링공 고르기\n"
   ]
  },
  {
   "cell_type": "code",
   "execution_count": 83,
   "metadata": {},
   "outputs": [
    {
     "name": "stdout",
     "output_type": "stream",
     "text": [
      "5 3\n",
      "1 3 2 3 2\n",
      "8.0\n",
      "프로그램 수행시간 0.0005180835723876953\n"
     ]
    }
   ],
   "source": [
    "import time\n",
    "\n",
    "N,M = map(int, input().split())\n",
    "data = list(map(int, input().split()))\n",
    "\n",
    "start_time = time.time() # 입력이 되고 나서부터 시간을 count\n",
    "result = len(data)*(len(data)-1)/2 # 조합 (n 2)\n",
    "set_data = list(set(data))\n",
    "\n",
    "for target in set_data:\n",
    "    temp = data.count(target)\n",
    "    result -= (temp * (temp-1)/2) # 조합 (n 2)\n",
    "print(result)\n",
    "\n",
    "end_time = time.time()\n",
    "print(\"프로그램 수행시간\", end_time - start_time)"
   ]
  }
 ],
 "metadata": {
  "kernelspec": {
   "display_name": "Python 3",
   "language": "python",
   "name": "python3"
  },
  "language_info": {
   "codemirror_mode": {
    "name": "ipython",
    "version": 3
   },
   "file_extension": ".py",
   "mimetype": "text/x-python",
   "name": "python",
   "nbconvert_exporter": "python",
   "pygments_lexer": "ipython3",
   "version": "3.8.3"
  }
 },
 "nbformat": 4,
 "nbformat_minor": 4
}
