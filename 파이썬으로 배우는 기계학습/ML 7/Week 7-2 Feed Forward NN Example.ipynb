{
 "cells": [
  {
   "cell_type": "markdown",
   "metadata": {},
   "source": [
    "# 숫자 인식 인공신경망 구현"
   ]
  },
  {
   "cell_type": "code",
   "execution_count": 1,
   "metadata": {},
   "outputs": [],
   "source": [
    "import joy"
   ]
  },
  {
   "cell_type": "code",
   "execution_count": 2,
   "metadata": {},
   "outputs": [],
   "source": [
    "import numpy as np"
   ]
  },
  {
   "cell_type": "code",
   "execution_count": 3,
   "metadata": {},
   "outputs": [],
   "source": [
    "g = lambda x : 1 / (1 + np.exp(-x))   #활성화함수"
   ]
  },
  {
   "cell_type": "code",
   "execution_count": 26,
   "metadata": {},
   "outputs": [],
   "source": [
    "#X는 입력층, W1은 가중치(이미전치), 두 값을 내적한 값이 Z1, 활성화함수로 넣으면 A1\n",
    "(X,y) = joy.load_mnist_num(9)\n",
    "W1 = joy.load_mnist_weight('data/w_xh.weights')  \n",
    "Z1 = np.dot(W1, X)\n",
    "A1 = g(Z1)"
   ]
  },
  {
   "cell_type": "code",
   "execution_count": 27,
   "metadata": {},
   "outputs": [],
   "source": [
    "#은닉층인 1층에서 출력층인 2층으로 한번더\n",
    "W2 = joy.load_mnist_weight('data/w_hy.weights')\n",
    "Z2 = np.dot(W2, A1)\n",
    "yhat = g(Z2)"
   ]
  },
  {
   "cell_type": "code",
   "execution_count": 28,
   "metadata": {},
   "outputs": [
    {
     "name": "stdout",
     "output_type": "stream",
     "text": [
      "image(class label): 9\n",
      "[0] = 0.005\n",
      "[1] = 0.002\n",
      "[2] = 0.002\n",
      "[3] = 0.006\n",
      "[4] = 0.006\n",
      "[5] = 0.006\n",
      "[6] = 0.0\n",
      "[7] = 0.004\n",
      "[8] = 0.008\n",
      "[9] = 0.995\n",
      "image(predicted) =  9\n"
     ]
    }
   ],
   "source": [
    "print('image(class label):', y)\n",
    "# print('predict:', np.round_(yhat, 3))\n",
    "# print yhat one by one\n",
    "for i, iyhat in enumerate(yhat):\n",
    "    print('[{}] = {}'.format(i, np.round(yhat[i], 3)))\n",
    "    \n",
    "print('image(predicted) = ', np.argmax(yhat))"
   ]
  },
  {
   "cell_type": "code",
   "execution_count": 29,
   "metadata": {},
   "outputs": [
    {
     "name": "stdout",
     "output_type": "stream",
     "text": [
      "(0)class label:5, predict:5, probalbiliy: 0.9969934729927533\n",
      "(1)class label:0, predict:0, probalbiliy: 0.9949362816492308\n",
      "(2)class label:4, predict:4, probalbiliy: 0.9795043269753221\n",
      "(3)class label:1, predict:1, probalbiliy: 0.9759860917838176\n",
      "(4)class label:9, predict:9, probalbiliy: 0.9946090931620719\n"
     ]
    }
   ],
   "source": [
    "#퀴즈문제\n",
    "g = lambda x : 1 / (1 + np.exp(-x))   #활성화함수\n",
    "num_list = [5,0,4,1,9]\n",
    "\n",
    "for i,num in enumerate(num_list):\n",
    "    (X,y) = joy.load_mnist_num(num)\n",
    "    W1 = joy.load_mnist_weight('data/w_xh.weights')  \n",
    "    Z1 = np.dot(W1, X)\n",
    "    A1 = g(Z1)\n",
    "    \n",
    "    W2 = joy.load_mnist_weight('data/w_hy.weights')\n",
    "    Z2 = np.dot(W2, A1)\n",
    "    yhat = g(Z2)\n",
    "    \n",
    "    max_index = np.argmax(yhat)  #배열에서 최대 원소값의 인덱스를 반환하는 함수\n",
    "    print('({})class label:{}, predict:{}, probalbiliy: {}'.format(i,num,max_index,yhat[max_index]))"
   ]
  }
 ],
 "metadata": {
  "kernelspec": {
   "display_name": "Python 3",
   "language": "python",
   "name": "python3"
  },
  "language_info": {
   "codemirror_mode": {
    "name": "ipython",
    "version": 3
   },
   "file_extension": ".py",
   "mimetype": "text/x-python",
   "name": "python",
   "nbconvert_exporter": "python",
   "pygments_lexer": "ipython3",
   "version": "3.7.6"
  }
 },
 "nbformat": 4,
 "nbformat_minor": 4
}
