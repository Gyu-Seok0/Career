{
 "cells": [
  {
   "cell_type": "markdown",
   "metadata": {},
   "source": [
    "JoyHW 8-1\n",
    "1점 획득가능 (성적반영)\n",
    "신경망ABC라고 불리는 신경망에 입력 A, B, C에 대해 다음과 같이 클래스 레이블과 예측값(출력)이 주어졌습니다.\n",
    "\n",
    "8-3-1.PNG\n",
    "모든 샘플에 대해 평균 크로스 엔트로피(ACE:Averaged Cross Entropy Error)를 구하십시오.\n"
   ]
  },
  {
   "cell_type": "code",
   "execution_count": null,
   "metadata": {},
   "outputs": [],
   "source": [
    "def CEcost(A2, Y):\n",
    "    m = Y.shape[0] # number of example\n",
    "    logprobs = np.multiply(Y, np.log(A2))\n",
    "    cost = -np.sum(logprobs) / m\n",
    "    cost = np.squeeze(cost)\n",
    "    return cost"
   ]
  },
  {
   "cell_type": "code",
   "execution_count": 23,
   "metadata": {},
   "outputs": [
    {
     "name": "stdout",
     "output_type": "stream",
     "text": [
      "1.3783888522474517\n"
     ]
    }
   ],
   "source": [
    "import numpy as np\n",
    "Y =  np.array([[0,0,1],[0,1,0],[1,0,0]])\n",
    "yhat = np.array([[0.3,0.3,0.4],[0.3,0.4,0.3],[0.1,0.2,0.7]])\n",
    "\n",
    "cost = CEcost(yhat,Y)\n",
    "print(cost)"
   ]
  },
  {
   "cell_type": "markdown",
   "metadata": {},
   "source": [
    "신경망DEF라고 불리는 신경망에 입력 D, E, F에 대해 다음과 같이 클래스 레이블과 예측값(출력)이 주어졌습니다.\n",
    "\n",
    "8-3-1.PNG\n",
    "모든 샘플에 대해 평균 크로스 엔트로피(ACE)를 구하십시오."
   ]
  },
  {
   "cell_type": "code",
   "execution_count": 24,
   "metadata": {},
   "outputs": [
    {
     "name": "stdout",
     "output_type": "stream",
     "text": [
      "0.6391075640678003\n"
     ]
    }
   ],
   "source": [
    "Y =  np.array([[0,0,1],[0,1,0],[1,0,0]])\n",
    "yhat = np.array([[0.1,0.2,0.7],[0.1,0.7,0.2],[0.3,0.4,0.3]])\n",
    "\n",
    "cost = CEcost(yhat,Y)\n",
    "print(cost)"
   ]
  },
  {
   "cell_type": "code",
   "execution_count": 25,
   "metadata": {},
   "outputs": [],
   "source": [
    "def MSEcost(A2, Y):\n",
    "    m = A2.shape[0]\n",
    "    E2 = Y - A2\n",
    "    cost = np.sum(E2 * E2)\n",
    "    return cost/m"
   ]
  },
  {
   "cell_type": "code",
   "execution_count": 27,
   "metadata": {},
   "outputs": [
    {
     "name": "stdout",
     "output_type": "stream",
     "text": [
      "0.8066666666666666\n",
      "0.34\n"
     ]
    }
   ],
   "source": [
    "Y1 =  np.array([[0,0,1],[0,1,0],[1,0,0]])\n",
    "yhat1 = np.array([[0.3,0.3,0.4],[0.3,0.4,0.3],[0.1,0.2,0.7]])\n",
    "\n",
    "MSE1 = MSEcost(Y,yhat)\n",
    "print(MSE1)\n",
    "\n",
    "Y2 =  np.array([[0,0,1],[0,1,0],[1,0,0]])\n",
    "yhat2 = np.array([[0.1,0.2,0.7],[0.1,0.7,0.2],[0.3,0.4,0.3]])\n",
    "MSE2 = MSEcost(Y2,yhat2)\n",
    "print(MSE2)\n"
   ]
  }
 ],
 "metadata": {
  "kernelspec": {
   "display_name": "Python 3",
   "language": "python",
   "name": "python3"
  },
  "language_info": {
   "codemirror_mode": {
    "name": "ipython",
    "version": 3
   },
   "file_extension": ".py",
   "mimetype": "text/x-python",
   "name": "python",
   "nbconvert_exporter": "python",
   "pygments_lexer": "ipython3",
   "version": "3.7.6"
  }
 },
 "nbformat": 4,
 "nbformat_minor": 4
}
