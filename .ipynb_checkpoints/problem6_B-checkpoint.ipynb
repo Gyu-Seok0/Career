{
 "cells": [
  {
   "cell_type": "code",
   "execution_count": 1,
   "metadata": {},
   "outputs": [],
   "source": [
    "import time\n",
    "import pandas as pd\n",
    "import math\n",
    "def equation(x):\n",
    "    return x**2006 + 2006*x +1\n",
    "error = 1e-5"
   ]
  },
  {
   "cell_type": "markdown",
   "metadata": {},
   "source": [
    "# binary"
   ]
  },
  {
   "cell_type": "code",
   "execution_count": 4,
   "metadata": {},
   "outputs": [
    {
     "name": "stdout",
     "output_type": "stream",
     "text": [
      "x = -0.0004985034465789795, f(x) = 2.086162567138672e-06, cnt = 25\n",
      "time = 0.0003199577331542969\n"
     ]
    },
    {
     "data": {
      "text/html": [
       "<div>\n",
       "<style scoped>\n",
       "    .dataframe tbody tr th:only-of-type {\n",
       "        vertical-align: middle;\n",
       "    }\n",
       "\n",
       "    .dataframe tbody tr th {\n",
       "        vertical-align: top;\n",
       "    }\n",
       "\n",
       "    .dataframe thead th {\n",
       "        text-align: right;\n",
       "    }\n",
       "</style>\n",
       "<table border=\"1\" class=\"dataframe\">\n",
       "  <thead>\n",
       "    <tr style=\"text-align: right;\">\n",
       "      <th></th>\n",
       "      <th>0</th>\n",
       "      <th>1</th>\n",
       "      <th>2</th>\n",
       "    </tr>\n",
       "  </thead>\n",
       "  <tbody>\n",
       "    <tr>\n",
       "      <th>0</th>\n",
       "      <td>bisection</td>\n",
       "      <td>0.00032</td>\n",
       "      <td>25</td>\n",
       "    </tr>\n",
       "  </tbody>\n",
       "</table>\n",
       "</div>"
      ],
      "text/plain": [
       "           0        1   2\n",
       "0  bisection  0.00032  25"
      ]
     },
     "execution_count": 4,
     "metadata": {},
     "output_type": "execute_result"
    }
   ],
   "source": [
    "# 1) bisection method\n",
    "# continuous 해야함\n",
    "# 한번에 하나밖에 못찾는 다는 단점이 있음.\n",
    "\n",
    "def binary(left,right,cnt):\n",
    "    mid = (left + right)/2\n",
    "    value = equation(mid)\n",
    "    if abs(value) < error:\n",
    "        print(\"x = {}, f(x) = {}, cnt = {}\".format(mid,value,cnt))\n",
    "        return cnt\n",
    "    if equation(left) * value < 0:\n",
    "        return binary(left,mid,cnt+1)\n",
    "    if value * equation(right) < 0:\n",
    "        return binary(mid,right,cnt+1)\n",
    "        \n",
    "\n",
    "start = time.time()\n",
    "iteration  = binary(-1,1,0)\n",
    "end = time.time()\n",
    "print(\"time = {}\".format(end - start))\n",
    "temp = [(\"bisection\",end-start,iteration)]\n",
    "df = pd.DataFrame(temp)\n",
    "df"
   ]
  },
  {
   "cell_type": "markdown",
   "metadata": {},
   "source": [
    "# Secant"
   ]
  },
  {
   "cell_type": "code",
   "execution_count": 5,
   "metadata": {},
   "outputs": [
    {
     "name": "stdout",
     "output_type": "stream",
     "text": [
      "x = -0.0004985044865403788, f(x) = 1.1102230246251565e-16, cnt = 2\n"
     ]
    },
    {
     "data": {
      "text/html": [
       "<div>\n",
       "<style scoped>\n",
       "    .dataframe tbody tr th:only-of-type {\n",
       "        vertical-align: middle;\n",
       "    }\n",
       "\n",
       "    .dataframe tbody tr th {\n",
       "        vertical-align: top;\n",
       "    }\n",
       "\n",
       "    .dataframe thead th {\n",
       "        text-align: right;\n",
       "    }\n",
       "</style>\n",
       "<table border=\"1\" class=\"dataframe\">\n",
       "  <thead>\n",
       "    <tr style=\"text-align: right;\">\n",
       "      <th></th>\n",
       "      <th>0</th>\n",
       "      <th>1</th>\n",
       "      <th>2</th>\n",
       "    </tr>\n",
       "  </thead>\n",
       "  <tbody>\n",
       "    <tr>\n",
       "      <th>0</th>\n",
       "      <td>bisection</td>\n",
       "      <td>0.000320</td>\n",
       "      <td>25</td>\n",
       "    </tr>\n",
       "    <tr>\n",
       "      <th>0</th>\n",
       "      <td>secant</td>\n",
       "      <td>0.000309</td>\n",
       "      <td>2</td>\n",
       "    </tr>\n",
       "  </tbody>\n",
       "</table>\n",
       "</div>"
      ],
      "text/plain": [
       "           0         1   2\n",
       "0  bisection  0.000320  25\n",
       "0     secant  0.000309   2"
      ]
     },
     "execution_count": 5,
     "metadata": {},
     "output_type": "execute_result"
    }
   ],
   "source": [
    "def secant(left,right,cnt):\n",
    "    mid = right - equation(right)*(right - left)/(equation(right) - equation(left))\n",
    "    if abs(equation(mid)) < error:\n",
    "        print(\"x = {}, f(x) = {}, cnt = {}\".format(mid, equation(mid),cnt))\n",
    "        return cnt\n",
    "    else:\n",
    "        return secant(right,mid,cnt+1) #조심하기 x0 --> x1 --> x2 순이기 때문에 right가 왼쪽으로 옴.\n",
    "\n",
    "left, right = -1,1\n",
    "start = time.time()\n",
    "iteration = secant(left,right,0)\n",
    "end = time.time()\n",
    "temp = [(\"secant\",end-start,iteration)]\n",
    "temp = pd.DataFrame(temp)\n",
    "df = pd.concat([df,temp])\n",
    "df\n"
   ]
  },
  {
   "cell_type": "markdown",
   "metadata": {},
   "source": [
    "# Newton"
   ]
  },
  {
   "cell_type": "code",
   "execution_count": 6,
   "metadata": {},
   "outputs": [
    {
     "name": "stdout",
     "output_type": "stream",
     "text": [
      "x = -0.0004985044865403743, f(x) = 9.21485110438880E-15, cnt = 1\n"
     ]
    },
    {
     "data": {
      "text/html": [
       "<div>\n",
       "<style scoped>\n",
       "    .dataframe tbody tr th:only-of-type {\n",
       "        vertical-align: middle;\n",
       "    }\n",
       "\n",
       "    .dataframe tbody tr th {\n",
       "        vertical-align: top;\n",
       "    }\n",
       "\n",
       "    .dataframe thead th {\n",
       "        text-align: right;\n",
       "    }\n",
       "</style>\n",
       "<table border=\"1\" class=\"dataframe\">\n",
       "  <thead>\n",
       "    <tr style=\"text-align: right;\">\n",
       "      <th></th>\n",
       "      <th>0</th>\n",
       "      <th>1</th>\n",
       "      <th>2</th>\n",
       "    </tr>\n",
       "  </thead>\n",
       "  <tbody>\n",
       "    <tr>\n",
       "      <th>0</th>\n",
       "      <td>bisection</td>\n",
       "      <td>0.000320</td>\n",
       "      <td>25</td>\n",
       "    </tr>\n",
       "    <tr>\n",
       "      <th>0</th>\n",
       "      <td>secant</td>\n",
       "      <td>0.000309</td>\n",
       "      <td>2</td>\n",
       "    </tr>\n",
       "    <tr>\n",
       "      <th>0</th>\n",
       "      <td>Newton</td>\n",
       "      <td>0.004420</td>\n",
       "      <td>1</td>\n",
       "    </tr>\n",
       "  </tbody>\n",
       "</table>\n",
       "</div>"
      ],
      "text/plain": [
       "           0         1   2\n",
       "0  bisection  0.000320  25\n",
       "0     secant  0.000309   2\n",
       "0     Newton  0.004420   1"
      ]
     },
     "execution_count": 6,
     "metadata": {},
     "output_type": "execute_result"
    }
   ],
   "source": [
    "import sympy\n",
    "from sympy import symbols, Derivative\n",
    "\n",
    "#기호화\n",
    "x = symbols('x')\n",
    "#fx = x - sympy.exp(-x) -2\n",
    "fx = x**2006 + 2006*x +1\n",
    "fprime = Derivative(fx,x).doit()\n",
    "\n",
    "def solve(now, cnt):\n",
    "    new = float(now) - float(fx.subs({x:now}))/float(fprime.subs({x:now}))\n",
    "    result = fx.subs({x:new})\n",
    "    # f(x+1)이 error에 가깝다면.\n",
    "    if abs(result) < error:\n",
    "        print(\"x = {}, f(x) = {}, cnt = {}\".format(new, result ,cnt))\n",
    "        return cnt\n",
    "    else:\n",
    "        return solve(new,cnt+1)\n",
    "\n",
    "\n",
    "start = time.time()\n",
    "iteration = solve(1,0)\n",
    "end = time.time()\n",
    "\n",
    "temp = [(\"Newton\",end-start,iteration)]\n",
    "temp = pd.DataFrame(temp)\n",
    "df = pd.concat([df,temp])\n",
    "df\n"
   ]
  },
  {
   "cell_type": "markdown",
   "metadata": {},
   "source": [
    "# Result"
   ]
  },
  {
   "cell_type": "code",
   "execution_count": 8,
   "metadata": {},
   "outputs": [
    {
     "data": {
      "text/html": [
       "<div>\n",
       "<style scoped>\n",
       "    .dataframe tbody tr th:only-of-type {\n",
       "        vertical-align: middle;\n",
       "    }\n",
       "\n",
       "    .dataframe tbody tr th {\n",
       "        vertical-align: top;\n",
       "    }\n",
       "\n",
       "    .dataframe thead th {\n",
       "        text-align: right;\n",
       "    }\n",
       "</style>\n",
       "<table border=\"1\" class=\"dataframe\">\n",
       "  <thead>\n",
       "    <tr style=\"text-align: right;\">\n",
       "      <th></th>\n",
       "      <th>Method</th>\n",
       "      <th>Time</th>\n",
       "      <th>iteration</th>\n",
       "    </tr>\n",
       "  </thead>\n",
       "  <tbody>\n",
       "    <tr>\n",
       "      <th>0</th>\n",
       "      <td>bisection</td>\n",
       "      <td>0.000320</td>\n",
       "      <td>25</td>\n",
       "    </tr>\n",
       "    <tr>\n",
       "      <th>0</th>\n",
       "      <td>secant</td>\n",
       "      <td>0.000309</td>\n",
       "      <td>2</td>\n",
       "    </tr>\n",
       "    <tr>\n",
       "      <th>0</th>\n",
       "      <td>Newton</td>\n",
       "      <td>0.004420</td>\n",
       "      <td>1</td>\n",
       "    </tr>\n",
       "  </tbody>\n",
       "</table>\n",
       "</div>"
      ],
      "text/plain": [
       "      Method      Time  iteration\n",
       "0  bisection  0.000320         25\n",
       "0     secant  0.000309          2\n",
       "0     Newton  0.004420          1"
      ]
     },
     "execution_count": 8,
     "metadata": {},
     "output_type": "execute_result"
    }
   ],
   "source": [
    "df.columns = [\"Method\", \"Time\", \"iteration\"]\n",
    "df"
   ]
  },
  {
   "cell_type": "code",
   "execution_count": null,
   "metadata": {},
   "outputs": [],
   "source": []
  }
 ],
 "metadata": {
  "kernelspec": {
   "display_name": "Python 3",
   "language": "python",
   "name": "python3"
  },
  "language_info": {
   "codemirror_mode": {
    "name": "ipython",
    "version": 3
   },
   "file_extension": ".py",
   "mimetype": "text/x-python",
   "name": "python",
   "nbconvert_exporter": "python",
   "pygments_lexer": "ipython3",
   "version": "3.8.3"
  }
 },
 "nbformat": 4,
 "nbformat_minor": 4
}
